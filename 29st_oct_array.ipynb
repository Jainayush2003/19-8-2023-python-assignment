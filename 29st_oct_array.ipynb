{
 "cells": [
  {
   "cell_type": "markdown",
   "id": "b9ee0a76-a153-4b2b-921e-b081c046c234",
   "metadata": {},
   "source": [
    "Q1: Given an array, check if it contains any duplicates or not.\n",
    "arr = [1, 2, 4, 2, 5, 9]"
   ]
  },
  {
   "cell_type": "code",
   "execution_count": 4,
   "id": "9f1b066d-10ab-4fc1-8cfe-9a67cb074fb7",
   "metadata": {},
   "outputs": [
    {
     "name": "stdout",
     "output_type": "stream",
     "text": [
      "Yes, the array contains duplicates.\n"
     ]
    }
   ],
   "source": [
    "# Define a function named check_duplicate that takes a single argument 'arr'.\n",
    "def check_duplicate(arr):\n",
    "    # Calculate the length of the set created from the input list 'arr'.\n",
    "    len_of_set = len(set(arr))\n",
    "    \n",
    "    # Calculate the length of the original list 'arr'.\n",
    "    len_of_arr = len(arr)\n",
    "    \n",
    "    # Compare the lengths of the set and the original list to check for duplicates.\n",
    "    if len_of_arr != len_of_set:\n",
    "        # If the lengths are not equal, it means there are duplicates in the list.\n",
    "        print(\"Yes, the array contains duplicates.\")\n",
    "    else:\n",
    "        # If the lengths are equal, it means there are no duplicates in the list.\n",
    "        print(\"No, the array does not contain duplicates.\")\n",
    "\n",
    "# Create a list named 'arr' that contains some elements, including duplicates.\n",
    "arr = [1, 2, 4, 2, 5, 9]\n",
    "\n",
    "# Call the 'check_duplicate' function with the 'arr' list as an argument to check for duplicates.\n",
    "check_duplicate(arr)\n"
   ]
  },
  {
   "cell_type": "markdown",
   "id": "5a425dd8-8d4f-420c-a84c-98ef78a9b4d4",
   "metadata": {},
   "source": [
    "Q2:- Given an array and an integer k, rotate the array to the right by k steps.\n",
    "arr = [1, 2, 3, 4, 5, 6, 7] k = 3"
   ]
  },
  {
   "cell_type": "code",
   "execution_count": null,
   "id": "14a4df26-d6db-42c8-9f4f-e1497fdf0075",
   "metadata": {},
   "outputs": [],
   "source": [
    "# Define a function named 'rotate_array' that takes a list 'arr' and an integer 'k' as parameters.\n",
    "def rotate_array(arr, k):\n",
    "    # Get the length of the input array 'arr'.\n",
    "    n = len(arr)\n",
    "    \n",
    "    # Ensure that 'k' is within the bounds of the array length by taking the modulo with 'n'.\n",
    "    k = k % n\n",
    "\n",
    "    # Rotate the array using list slicing:\n",
    "    # 1. Slice the original array from the (n - k)-th element to the end and add it to the beginning.\n",
    "    # 2. Slice the original array from the start to the (n - k)-th element and add it to the end.\n",
    "    # 3. Assign the result of the concatenation back to the original 'arr'.\n",
    "    arr[:] = arr[n - k:] + arr[:n - k]\n",
    "\n",
    "# Given array and integer k\n",
    "arr = [1, 2, 3, 4, 5, 6, 7]\n",
    "k = 3\n",
    "\n",
    "# Call the 'rotate_array' function to rotate the array by 'k' steps.\n",
    "rotate_array(arr, k)\n",
    "\n",
    "# Print the rotated array.\n",
    "print(\"Rotated array:\", arr)\n"
   ]
  },
  {
   "cell_type": "markdown",
   "id": "2715677e-9331-4f89-bbd7-494b08725c6c",
   "metadata": {},
   "source": [
    "Q3:-  Reverse the given array in-place, means without using any extra data structure.\n",
    "arr = [2, 4, 5, 7, 9, 12]"
   ]
  },
  {
   "cell_type": "code",
   "execution_count": 4,
   "id": "ac6f52f5-47dd-42de-8854-6a656459cf59",
   "metadata": {},
   "outputs": [
    {
     "name": "stdout",
     "output_type": "stream",
     "text": [
      "[12, 9, 7, 5, 4, 2]\n"
     ]
    }
   ],
   "source": [
    "def reverse_array_in_place(arr):\n",
    "    left = 0  # Initialize a pointer at the beginning of the array\n",
    "    right = len(arr) - 1  # Initialize a pointer at the end of the array\n",
    "\n",
    "    # Swap elements from the beginning and end of the array, moving towards the center\n",
    "    while left <= right:\n",
    "        # Swap the elements at the 'left' and 'right' positions\n",
    "        arr[left], arr[right] = arr[right], arr[left]\n",
    "\n",
    "        # Move the 'left' pointer one step to the right\n",
    "        left += 1\n",
    "\n",
    "        # Move the 'right' pointer one step to the left\n",
    "        right -= 1\n",
    "\n",
    "# Example usage:\n",
    "arr = [2, 4, 5, 7, 9,12]\n",
    "reverse_array_in_place(arr)\n",
    "print(arr)  # Output: [12, 9, 7, 5, 4, 2]\n"
   ]
  },
  {
   "cell_type": "markdown",
   "id": "2f243f3f-6bfb-43d7-8600-528145895ea2",
   "metadata": {},
   "source": [
    "Q4:- Given an array of integers, find the maximum element in an array\n",
    "arr = [10, 5, 20, 8, 15]"
   ]
  },
  {
   "cell_type": "code",
   "execution_count": 6,
   "id": "89c5a6f5-f742-44a4-9954-a466d149058d",
   "metadata": {},
   "outputs": [
    {
     "name": "stdout",
     "output_type": "stream",
     "text": [
      "Maximum element from the array: 20\n"
     ]
    }
   ],
   "source": [
    "# Define a function called find_max that takes an array as input\n",
    "def find_max(arr):\n",
    "    # Initialize max_element to the first element of the array\n",
    "    max_element = arr[0]\n",
    "    \n",
    "    # Iterate through the elements in the array\n",
    "    for num in arr:\n",
    "        # Check if the current element is greater than the current max_element\n",
    "        if num > max_element:\n",
    "            # If it is, update max_element to the current element\n",
    "            max_element = num\n",
    "            \n",
    "    # After the loop, max_element will contain the maximum value in the array\n",
    "    return max_element\n",
    "\n",
    "# Create an array called arr\n",
    "arr = [10, 5, 20, 8, 15]\n",
    "\n",
    "# Call the find_max function with the array as an argument to find the maximum element\n",
    "maximum = find_max(arr)\n",
    "\n",
    "# Print the maximum element\n",
    "print(\"Maximum element from the array:\", maximum)\n"
   ]
  },
  {
   "cell_type": "markdown",
   "id": "2a25b36a-f53a-4c15-9255-b6e7afb44915",
   "metadata": {},
   "source": [
    "Q5:- Given a sorted array, remove the duplicate element without using any extra data structure.\n",
    "arr = [1, 1, 2, 2, 2, 3, 3, 4, 4, 4, 5, 5]"
   ]
  },
  {
   "cell_type": "code",
   "execution_count": 8,
   "id": "fddf8b03-1ecf-4745-9673-b27c99759bc9",
   "metadata": {},
   "outputs": [
    {
     "name": "stdout",
     "output_type": "stream",
     "text": [
      "[1, 2, 3, 4, 5]\n"
     ]
    }
   ],
   "source": [
    "# Define a function to remove duplicates from a sorted array in-place\n",
    "def remove_duplicates(arr):\n",
    "    # Check if the array is empty\n",
    "    if not arr:\n",
    "        return 0  # No elements to remove in an empty array\n",
    "\n",
    "    # Initialize a pointer for unique elements (i) to 0\n",
    "    i = 0\n",
    "\n",
    "    # Loop through the array, starting from the second element (index 1)\n",
    "    for j in range(1, len(arr)):\n",
    "        # If the current element is not equal to the previous unique element\n",
    "        if arr[i] != arr[j]:\n",
    "            # Increment the unique element pointer (i)\n",
    "            i += 1\n",
    "            # Set the current element at index i to be the new unique element\n",
    "            arr[i] = arr[j]\n",
    "\n",
    "    # After the loop, the first i + 1 elements in the array will be unique\n",
    "\n",
    "    # Return the length of the modified array (number of unique elements)\n",
    "    return i + 1\n",
    "\n",
    "# Input sorted array with duplicate elements\n",
    "arr = [1, 1, 2, 2, 2, 3, 3, 4, 4, 4, 5, 5]\n",
    "\n",
    "# Call the remove_duplicates function to remove duplicates in-place\n",
    "length = remove_duplicates(arr)\n",
    "\n",
    "# Print the modified array containing only unique elements\n",
    "print(arr[:length])\n"
   ]
  },
  {
   "cell_type": "code",
   "execution_count": null,
   "id": "1bee730b-1db0-4c7c-9545-180c2190c847",
   "metadata": {},
   "outputs": [],
   "source": []
  },
  {
   "cell_type": "code",
   "execution_count": null,
   "id": "7f6aa82e-43f9-47ee-a93e-f04abad65d81",
   "metadata": {},
   "outputs": [],
   "source": []
  },
  {
   "cell_type": "code",
   "execution_count": null,
   "id": "230c66ee-f36e-482f-9a77-19f8441d8c7e",
   "metadata": {},
   "outputs": [],
   "source": []
  },
  {
   "cell_type": "code",
   "execution_count": null,
   "id": "6054064c-0b9c-48ed-81c7-a70c9569f5d7",
   "metadata": {},
   "outputs": [],
   "source": []
  }
 ],
 "metadata": {
  "kernelspec": {
   "display_name": "Python 3 (ipykernel)",
   "language": "python",
   "name": "python3"
  },
  "language_info": {
   "codemirror_mode": {
    "name": "ipython",
    "version": 3
   },
   "file_extension": ".py",
   "mimetype": "text/x-python",
   "name": "python",
   "nbconvert_exporter": "python",
   "pygments_lexer": "ipython3",
   "version": "3.10.8"
  }
 },
 "nbformat": 4,
 "nbformat_minor": 5
}
