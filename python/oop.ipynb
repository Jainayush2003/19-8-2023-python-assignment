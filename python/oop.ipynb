{
 "cells": [
  {
   "cell_type": "code",
   "execution_count": 1,
   "metadata": {},
   "outputs": [
    {
     "name": "stdout",
     "output_type": "stream",
     "text": [
      "imac\n",
      "93\n",
      "95555\n"
     ]
    }
   ],
   "source": [
    "class Laptop:\n",
    "    def __init__(self,name, modelname, prise):\n",
    "\n",
    "        # This are instance variables \n",
    "        self.name = name \n",
    "        self.modelname = modelname \n",
    "        self.prise = prise \n",
    "    \n",
    "\n",
    "    # This are instance methods \n",
    "    def showdetail(self):\n",
    "        print(self.name)\n",
    "        print(self.modelname)\n",
    "        print(self.prise)\n",
    "    \n",
    "    def showprise(self,name):\n",
    "        print(self.prise )\n",
    "    \n",
    "\n",
    "l1 = Laptop('imac','93',95555)\n",
    "l1.showdetail()"
   ]
  },
  {
   "cell_type": "code",
   "execution_count": 4,
   "metadata": {},
   "outputs": [
    {
     "name": "stdout",
     "output_type": "stream",
     "text": [
      "rohan chatse\n"
     ]
    }
   ],
   "source": [
    "class Person:\n",
    "    def __init__(self,firstname,age, lastname):\n",
    "        self.firstname = firstname\n",
    "        self.lastname = lastname\n",
    "        self.age = age\n",
    "    \n",
    "    def full_name(self):\n",
    "        print(self.firstname,self.lastname)\n",
    "\n",
    "p1 = Person('rohan',22,'chatse')\n",
    "p1.full_name()"
   ]
  },
  {
   "cell_type": "code",
   "execution_count": 8,
   "metadata": {},
   "outputs": [
    {
     "name": "stdout",
     "output_type": "stream",
     "text": [
      "25.12\n"
     ]
    }
   ],
   "source": [
    "# class variables \n",
    "\n",
    "class Circle:\n",
    "    pi =3.14\n",
    "    def __init__(self, radius):\n",
    "        self.radius = radius \n",
    "        \n",
    "    \n",
    "    def clac_circumference(self):\n",
    "        return 2*Circle.pi*self.radius \n",
    "    \n",
    "\n",
    "c = Circle(4)\n",
    "print(c.clac_circumference())"
   ]
  },
  {
   "cell_type": "code",
   "execution_count": 1,
   "metadata": {},
   "outputs": [
    {
     "name": "stdout",
     "output_type": "stream",
     "text": [
      "imac\n",
      "93\n",
      "95555\n"
     ]
    }
   ],
   "source": [
    "class Laptop:\n",
    "    def __init__(self,name, modelname, prise):\n",
    "\n",
    "        # This are instance variables \n",
    "        self.name = name \n",
    "        self.modelname = modelname \n",
    "        self.prise = prise \n",
    "    \n",
    "\n",
    "    # This are instance methods \n",
    "    def showdetail(self):\n",
    "        print(self.name)\n",
    "        print(self.modelname)\n",
    "        print(self.prise)\n",
    "    \n",
    "    def showprise(self,name):\n",
    "        print(self.prise )\n",
    "    \n",
    "\n",
    "l1 = Laptop('imac','93',95555)\n",
    "l1.showdetail()"
   ]
  },
  {
   "cell_type": "code",
   "execution_count": 8,
   "metadata": {},
   "outputs": [
    {
     "name": "stdout",
     "output_type": "stream",
     "text": [
      "hello static method\n"
     ]
    }
   ],
   "source": [
    "# class methods \n",
    "\n",
    "\n",
    "class Person:\n",
    "    count_instance = 0 \n",
    "\n",
    "    def __init__(self,first_name, last_name,age):\n",
    "        Person.count_instance +=1 \n",
    "        self.first_name = first_name\n",
    "        self.last_name = last_name \n",
    "    \n",
    "    @classmethod \n",
    "    def fromstring(cls,string):\n",
    "        first,last,age = string.split(',')\n",
    "    \n",
    "    @staticmethod\n",
    "    def hello():\n",
    "        print('hello static method')\n",
    "\n",
    "    def full_name(self):\n",
    "        return f'{self.first_name} {self.last_name}'\n",
    "    \n",
    "    def is_above_18(self):\n",
    "        return self.age>18 \n",
    "    \n",
    "p1 = Person('Rohan', 'chatse',18)\n",
    "\n",
    "\n",
    "Person.hello()"
   ]
  },
  {
   "cell_type": "code",
   "execution_count": 2,
   "metadata": {},
   "outputs": [
    {
     "name": "stdout",
     "output_type": "stream",
     "text": [
      "Nokia 1100\n"
     ]
    }
   ],
   "source": [
    "# Pillors of oop \n",
    "\n",
    "\n",
    "class Phone:\n",
    "    def __init__(self, brand,model_name,price):\n",
    "        self.brand = brand \n",
    "        self.model_name = model_name\n",
    "        self._price = price\n",
    "        self.complete_specification = f'{self.brand} {self.model_name} and price'\n",
    "\n",
    "    \n",
    "    def make_a_call(self, phone_number):\n",
    "        print({phone_number}, 'calling')\n",
    "    \n",
    "    def full_name(self):\n",
    "        return f'{self.brand} {self.model_name}'\n",
    "    \n",
    "phone1 =Phone('Nokia','1100',1000)\n",
    "print(phone1.full_name())\n",
    "    \n"
   ]
  },
  {
   "cell_type": "code",
   "execution_count": 5,
   "metadata": {},
   "outputs": [
    {
     "name": "stdout",
     "output_type": "stream",
     "text": [
      "Nokia 1100\n",
      "Nokia 1100\n"
     ]
    },
    {
     "data": {
      "text/plain": [
       "'sm f23'"
      ]
     },
     "execution_count": 5,
     "metadata": {},
     "output_type": "execute_result"
    }
   ],
   "source": [
    "# Inheritance in oop \n",
    "\n",
    "\n",
    "# Pillors of oop \n",
    "\n",
    "\n",
    "class Phone:\n",
    "    def __init__(self, brand,model_name,price):\n",
    "        self.brand = brand \n",
    "        self.model_name = model_name\n",
    "        self._price = price\n",
    "        self.complete_specification = f'{self.brand} {self.model_name} and price'\n",
    "\n",
    "    \n",
    "    def make_a_call(self, phone_number):\n",
    "        print({phone_number}, 'calling')\n",
    "    \n",
    "    def full_name(self):\n",
    "        return f'{self.brand} {self.model_name}'\n",
    "\n",
    "\n",
    "# Pillors of oop \n",
    "\n",
    "\n",
    "class Smartphone(Phone):\n",
    "    def __init__(self,brand, model_name,price,ram, internal_memory, camera):\n",
    "\n",
    "        # There are two ways to use methods of parent class \n",
    "        # 1\n",
    "        # Phone.__init__(self, brand, model_name, price)\n",
    "        # 2\n",
    "        super().__init__(brand, model_name,price)\n",
    "        self.ram = ram \n",
    "        self.internal_memory = internal_memory\n",
    "        self.camera = camera \n",
    "    \n",
    "\n",
    "    \n",
    "phone1 =Phone('Nokia','1100',1000)\n",
    "print(phone1.full_name())\n",
    "    \n",
    "\n",
    "\n",
    "phone1 =Phone('Nokia','1100',1000)\n",
    "print(phone1.full_name())\n",
    "\n",
    "s1 =Smartphone('sm','f23',30000,'6gb','64gb','20mp')\n",
    "s1.full_name()\n",
    "    \n"
   ]
  },
  {
   "cell_type": "code",
   "execution_count": null,
   "metadata": {},
   "outputs": [],
   "source": []
  }
 ],
 "metadata": {
  "kernelspec": {
   "display_name": "Python 3",
   "language": "python",
   "name": "python3"
  },
  "language_info": {
   "codemirror_mode": {
    "name": "ipython",
    "version": 3
   },
   "file_extension": ".py",
   "mimetype": "text/x-python",
   "name": "python",
   "nbconvert_exporter": "python",
   "pygments_lexer": "ipython3",
   "version": "3.8.10"
  }
 },
 "nbformat": 4,
 "nbformat_minor": 2
}
