{
 "cells": [
  {
   "cell_type": "markdown",
   "id": "f48702de-67ce-4cbb-a1c6-c27ed6832285",
   "metadata": {},
   "source": [
    "Constructor:-"
   ]
  },
  {
   "cell_type": "markdown",
   "id": "9dc9fa38-dfa3-43bc-bea1-6852168c7c6b",
   "metadata": {},
   "source": [
    "Q1:- What is a constructor in Python? Explain its purpose and usage."
   ]
  },
  {
   "cell_type": "code",
   "execution_count": 25,
   "id": "4a8633b5-b648-4bc2-9492-c408b32127e6",
   "metadata": {},
   "outputs": [
    {
     "data": {
      "text/plain": [
       "'\\n\\nconstructor:- constructor are used to instantiating an object.The task of \\nconstructors is to initialize(assign values) to the data members of the class\\nwhen an object of the class is crreated.\\n\\nconstructor are automatically called after creating the object of the class.\\n\\nin python the __init__ method is called the constructor or the dunder method.\\n\\nSyntax:-\\n\\ndef __init__(self):\\n  body of the constructor\\n  \\n'"
      ]
     },
     "execution_count": 25,
     "metadata": {},
     "output_type": "execute_result"
    }
   ],
   "source": [
    "\"\"\"\n",
    "\n",
    "constructor:- constructor are used to instantiating an object.The task of \n",
    "constructors is to initialize(assign values) to the data members of the class\n",
    "when an object of the class is crreated.\n",
    "\n",
    "constructor are automatically called after creating the object of the class.\n",
    "\n",
    "in python the __init__ method is called the constructor or the dunder method.\n",
    "\n",
    "Syntax:-\n",
    "\n",
    "def __init__(self):\n",
    "  body of the constructor\n",
    "  \n",
    "\"\"\""
   ]
  },
  {
   "cell_type": "markdown",
   "id": "761e0bd7-f9ad-46bc-aa67-a34890e79b84",
   "metadata": {},
   "source": [
    "Q2:- Differentiate between a parameterless constructor and a parameterized constructor in Python."
   ]
  },
  {
   "cell_type": "code",
   "execution_count": null,
   "id": "a7f3b4d4-3309-4e0c-ba7b-d2b2fe21ae48",
   "metadata": {},
   "outputs": [],
   "source": [
    "\"\"\"\n",
    "\n",
    "1.parameterless constructor= this constructor are also known as default constructor\n",
    "which does not accept any argument. it has only one argument which is the refernce\n",
    "to the instance bieng created.\n",
    "\n",
    "2.parameterized constructor= this type of the constructor takes first argument as\n",
    "reference(self)  to the instance being created and rest of the argument were given\n",
    "by programmer itself.\n",
    "\n",
    "\"\"\""
   ]
  },
  {
   "cell_type": "markdown",
   "id": "4c7d13dc-542d-4048-aa50-621e9a93b828",
   "metadata": {},
   "source": [
    "Q3:- How do you define a constructor in a Python class? Provide an example."
   ]
  },
  {
   "cell_type": "code",
   "execution_count": 26,
   "id": "cd57756b-e635-4130-b1c2-a08eb7d089b6",
   "metadata": {},
   "outputs": [
    {
     "name": "stdout",
     "output_type": "stream",
     "text": [
      "The full name of the student is:- Piyush jain\n"
     ]
    }
   ],
   "source": [
    "# Define a class named Full_name\n",
    "class Full_name:\n",
    "    \n",
    "    # Define a constructor method (__init__) that takes two parameters, first_name and last_name\n",
    "    def __init__(self, first_name, last_name):\n",
    "        # Inside the constructor, set the instance variables first_name and last_name\n",
    "        # These instance variables will hold the values passed as arguments when creating an object\n",
    "        self.first_name = first_name\n",
    "        self.last_name = last_name\n",
    "        \n",
    "    # Define a method named name_details\n",
    "    def name_details(self):\n",
    "        # Inside the method, print the full name by accessing the instance variables\n",
    "        print(f\"The full name of the student is:- {self.first_name} {self.last_name}\")\n",
    "        \n",
    "# Create an object of the Full_name class and pass \"Piyush\" as the first_name and \"jain\" as the last_name\n",
    "obj = Full_name(\"Piyush\", \"jain\")\n",
    "\n",
    "# Call the name_details method on the object\n",
    "obj.name_details()\n"
   ]
  },
  {
   "cell_type": "markdown",
   "id": "b3d4c473-6e33-486c-9f61-e1a7a48818f2",
   "metadata": {},
   "source": [
    "Q4:- Explain the `__init__` method in Python and its role in constructors."
   ]
  },
  {
   "cell_type": "code",
   "execution_count": 27,
   "id": "d0343086-b255-4a74-ae05-48503ed05e57",
   "metadata": {},
   "outputs": [
    {
     "name": "stdout",
     "output_type": "stream",
     "text": [
      "Hello, my name is Nikhil\n"
     ]
    }
   ],
   "source": [
    "\"\"\"\n",
    "\n",
    "--> __init__ method in the python is constructor.\n",
    "\n",
    "--> __init__ method is used to assign the values to the data members of the class \n",
    "when an object is created.\n",
    "\n",
    "--> it is also called an dunder method.\n",
    "\n",
    "\"\"\"\n",
    "# for example:- \n",
    "# A Sample class with init method\n",
    "class Person:\n",
    "\n",
    "\t# init method or constructor\n",
    "\tdef __init__(self, name):\n",
    "\t\tself.name = name\n",
    "\n",
    "\t# Sample Method\n",
    "\tdef say_hi(self):\n",
    "\t\tprint('Hello, my name is', self.name)\n",
    "\n",
    "\n",
    "p = Person('Nikhil')\n",
    "p.say_hi()\n"
   ]
  },
  {
   "cell_type": "markdown",
   "id": "74464566-8364-4265-ae33-8d571592596b",
   "metadata": {},
   "source": [
    "Q5:- In a class named `Person`, create a constructor that initializes the `name` and `age` attributes. Provide an\n",
    "example of creating an object of this class."
   ]
  },
  {
   "cell_type": "code",
   "execution_count": 28,
   "id": "a1bbdf2c-0733-4bf4-89a9-13beac8c384a",
   "metadata": {},
   "outputs": [
    {
     "name": "stdout",
     "output_type": "stream",
     "text": [
      "The name and age of the person is Ayush 20\n"
     ]
    }
   ],
   "source": [
    "# code:- \n",
    "\n",
    "class Person:\n",
    "    \n",
    "    def __init__(self,name,age):\n",
    "        self.name=name\n",
    "        self.age=age\n",
    "        \n",
    "    def show_details(self):\n",
    "        print(f\"The name and age of the person is {self.name} {self.age}\")\n",
    "        \n",
    "p=Person(\"Ayush\",20)\n",
    "p.show_details()"
   ]
  },
  {
   "cell_type": "markdown",
   "id": "9097a3ed-11e1-460e-b542-ae9cc29eb3a2",
   "metadata": {},
   "source": [
    "Q6:- How can you call a constructor explicitly in Python? Give an example."
   ]
  },
  {
   "cell_type": "code",
   "execution_count": 30,
   "id": "f1f21a13-7f88-4c47-bcd8-42b1fabf6610",
   "metadata": {},
   "outputs": [
    {
     "name": "stdout",
     "output_type": "stream",
     "text": [
      "Woof!\n",
      "Meow!\n"
     ]
    }
   ],
   "source": [
    "\"\"\"\n",
    "In Python, you can call a constructor (also known as an initializer) of a class\n",
    "explicitly by using the class name followed by .__init__() and providing the\n",
    "necessary arguments. The __init__ method is a special method in Python that \n",
    "serves as the constructor for a class. Here's an example:\n",
    "\n",
    "\"\"\"\n",
    "class Animal:\n",
    "    def __init__(self, name):\n",
    "        self.name = name\n",
    "\n",
    "    def make_sound(self):\n",
    "        raise NotImplementedError\n",
    "\n",
    "class Dog(Animal):\n",
    "    def __init__(self, name):\n",
    "        super().__init__(name)\n",
    "\n",
    "    def make_sound(self):\n",
    "        return \"Woof!\"\n",
    "\n",
    "class Cat(Animal):\n",
    "    def __init__(self, name):\n",
    "        super().__init__(name)\n",
    "\n",
    "    def make_sound(self):\n",
    "        return \"Meow!\"\n",
    "\n",
    "\n",
    "dog = Dog(\"Fido\")\n",
    "cat = Cat(\"Kitty\")\n",
    "\n",
    "print(dog.make_sound())\n",
    "print(cat.make_sound())\n",
    "\n"
   ]
  },
  {
   "cell_type": "markdown",
   "id": "0195819c-8f31-4c9d-a60c-7b0f2ba5efeb",
   "metadata": {},
   "source": [
    "Q7:- What is the significance of the `self` parameter in Python constructors? Explain with an example."
   ]
  },
  {
   "cell_type": "code",
   "execution_count": 31,
   "id": "8157d61d-080e-432d-8333-66d7e8ff62c7",
   "metadata": {},
   "outputs": [
    {
     "name": "stdout",
     "output_type": "stream",
     "text": [
      "Hi, I'm Ayush and I'm 30 years old.\n",
      "Hi, I'm chandan and I'm 25 years old.\n"
     ]
    }
   ],
   "source": [
    "\"\"\"\n",
    "--> the 'self' parametere in the constructor is the reference to the instance of\n",
    "the class itself.\n",
    "\n",
    "--> it allows you to access and manipulate the attributes and methods of the \n",
    "instance within the class.\n",
    "\n",
    "--> this parametere(self) is automatically passed when you call a constructor or\n",
    "method on a object.\n",
    "\n",
    "\"\"\"\n",
    "\n",
    "# for example:-----\n",
    "\n",
    "class Person:\n",
    "    def __init__(self, name, age):\n",
    "        self.name = name\n",
    "        self.age = age\n",
    "\n",
    "    def introduce(self):\n",
    "        print(f\"Hi, I'm {self.name} and I'm {self.age} years old.\")\n",
    "\n",
    "# Creating two Person instances\n",
    "person1 = Person(\"Ayush\", 30)\n",
    "person2 = Person(\"chandan\", 25)\n",
    "\n",
    "# Accessing instance attributes and calling methods using 'self'\n",
    "person1.introduce()  # Output: Hi, I'm Alice and I'm 30 years old.\n",
    "person2.introduce()  # Output: Hi, I'm Bob and I'm 25 years old.\n",
    "\n"
   ]
  },
  {
   "cell_type": "markdown",
   "id": "03b80334-969d-498d-92b3-5b84fc4d1ad7",
   "metadata": {},
   "source": [
    "Q8:- Discuss the concept of default constructors in Python. When are they used?"
   ]
  },
  {
   "cell_type": "code",
   "execution_count": 14,
   "id": "3fdc0a95-336b-444e-8ba9-4114e76ea176",
   "metadata": {},
   "outputs": [
    {
     "data": {
      "text/plain": [
       "\"\\n--> Default constructor are those constructor which does not accepts any argument.\\n\\n--> They only haves one argument which is reference to the instance of the class.\\n\\n--> the syntax of the default constructor are:- \\n\\ndef __init__(self):\\n  body of the constructor\\n\\n--> in Python, default constructors are not explicitly defined like they are\\nin some other programming languages. Instead, Python provides a default \\nconstructor for classes when you don't define one explicitly. This default \\nconstructor is the __init__ method that takes no arguments and does nothing, \\nserving as a placeholder for object initialization.\\n  \\n\""
      ]
     },
     "execution_count": 14,
     "metadata": {},
     "output_type": "execute_result"
    }
   ],
   "source": [
    "\"\"\"\n",
    "--> Default constructor are those constructor which does not accepts any argument.\n",
    "\n",
    "--> They only haves one argument which is reference to the instance of the class.\n",
    "\n",
    "--> the syntax of the default constructor are:- \n",
    "\n",
    "def __init__(self):\n",
    "  body of the constructor\n",
    "\n",
    "--> in Python, default constructors are not explicitly defined like they are\n",
    "in some other programming languages. Instead, Python provides a default \n",
    "constructor for classes when you don't define one explicitly. This default \n",
    "constructor is the __init__ method that takes no arguments and does nothing, \n",
    "serving as a placeholder for object initialization.\n",
    "  \n",
    "\"\"\""
   ]
  },
  {
   "cell_type": "markdown",
   "id": "e88028a0-7fb1-4b86-9a36-90d2b3a0164e",
   "metadata": {},
   "source": [
    "Q9:- Create a Python class called `Rectangle` with a constructor that initializes the `width` and `height`\n",
    "attributes. Provide a method to calculate the area of the rectangle."
   ]
  },
  {
   "cell_type": "code",
   "execution_count": 32,
   "id": "90e895a2-8a3d-4633-b77f-9b1b5ac524b6",
   "metadata": {},
   "outputs": [
    {
     "name": "stdout",
     "output_type": "stream",
     "text": [
      "The area of the rectangle is:- 84\n"
     ]
    }
   ],
   "source": [
    "# code:- \n",
    "\n",
    "class Rectangle:\n",
    "    def __init__(self,width,height):\n",
    "        self.width=width\n",
    "        self.height=height\n",
    "        \n",
    "    def area_of_rectangle(self):\n",
    "        area=self.height * self.width\n",
    "        print(f\"The area of the rectangle is:- {area}\")\n",
    "        \n",
    "obj=Rectangle(12,7)\n",
    "obj.area_of_rectangle()"
   ]
  },
  {
   "cell_type": "markdown",
   "id": "cb3e0621-f8a8-4898-8f3d-f5a0474c1511",
   "metadata": {},
   "source": [
    "Q10:- How can you have multiple constructors in a Python class? Explain with an example."
   ]
  },
  {
   "cell_type": "code",
   "execution_count": 33,
   "id": "89585826-a1e9-4d8c-8811-5e2c2a00e488",
   "metadata": {},
   "outputs": [
    {
     "name": "stdout",
     "output_type": "stream",
     "text": [
      "Hi, I'm Alice and I'm 2 years old.\n",
      "Hi, I'm Bob and I'm 25 years old.\n"
     ]
    }
   ],
   "source": [
    "\"\"\"\n",
    "In Python, you cannot have multiple constructors with different parameter \n",
    "lists like you can in some other programming languages. However, you can \n",
    "achieve similar behavior by using class methods as alternative constructors. \n",
    "Class methods are often used to provide multiple ways to create instances of\n",
    "a class with different initialization parameters.\n",
    "\n",
    "\"\"\"\n",
    "\n",
    "class Person:\n",
    "    def __init__(self, name, age):\n",
    "        self.name = name\n",
    "        self.age = age\n",
    "\n",
    "    def introduce(self):\n",
    "        print(f\"Hi, I'm {self.name} and I'm {self.age} years old.\")\n",
    "\n",
    "    @classmethod\n",
    "    def create_child(cls, name,age):\n",
    "        return cls(name, age)  # Create a person with age 0\n",
    "\n",
    "    @classmethod\n",
    "    def create_adult(cls, name, age):\n",
    "        return cls(name, age)\n",
    "\n",
    "# Creating instances of Person using different \"constructors\"\n",
    "child = Person.create_child(\"Alice\",2)  # Creates a person with age 0\n",
    "adult = Person.create_adult(\"Bob\", 25)  # Creates a person with a specified age\n",
    "\n",
    "child.introduce()  # Output: Hi, I'm Alice and I'm 0 years old.\n",
    "adult.introduce()  # Output: Hi, I'm Bob and I'm 25 years old.\n"
   ]
  },
  {
   "cell_type": "markdown",
   "id": "917231ec-4668-4035-8cfe-a86dee8e4ce2",
   "metadata": {},
   "source": [
    "Q11:- What is method overloading, and how is it related to constructors in Python?"
   ]
  },
  {
   "cell_type": "code",
   "execution_count": null,
   "id": "7a1dd836-e53c-4191-96ba-d1cd5793f789",
   "metadata": {},
   "outputs": [],
   "source": [
    "\"\"\"\n",
    "\n",
    "--> Method overloading is a concept in object-oriented programming where\n",
    "multiple methods in a class have the same name but differ in the number or \n",
    "types of their parameters. Python, however, does not support method overloading\n",
    "in the traditional sense as some other languages like Java do. In Python, you \n",
    "can define multiple methods with the same name, but the method that gets\n",
    "executed is determined by the most recent definition.\n",
    "\n",
    "--> In Python, method overloading is not typically used with constructors\n",
    "(i.e., the __init__ method) because you cannot have multiple constructors in\n",
    "the traditional sense. The __init__ method can only be defined once in a class.\n",
    "If you define it multiple times, the latest definition will overwrite the \n",
    "previous one, making only the most recent constructor effective. This behavior \n",
    "is different from languages like Java, where method overloading can be used to\n",
    "define multiple constructors with different parameter lists.\n",
    "\n",
    "\"\"\""
   ]
  },
  {
   "cell_type": "markdown",
   "id": "0d79bee4-4e1b-420c-ac59-8a24e3458147",
   "metadata": {},
   "source": [
    "Q12:- Explain the use of the `super()` function in Python constructors. Provide an example."
   ]
  },
  {
   "cell_type": "code",
   "execution_count": 34,
   "id": "5432cc8b-e837-4869-b980-42bd70a5f288",
   "metadata": {},
   "outputs": [
    {
     "name": "stdout",
     "output_type": "stream",
     "text": [
      "Employee Id:-  102\n",
      "Employee name:-  Rahul\n",
      "Employee address:-  Delhi\n",
      "Employee Email:-  rahul004@gmail.com\n"
     ]
    }
   ],
   "source": [
    "\"\"\"\n",
    "in Python, the super() function is used to refer to the parent class or \n",
    "superclass. It allows you to call methods defined in the superclass from the \n",
    "subclass, enabling you to extend and customize the functionality inherited \n",
    "from the parent class.\n",
    "\n",
    "\"\"\"\n",
    "\n",
    "# for example:- \n",
    "\n",
    "# Define the Emp class\n",
    "class Emp:\n",
    "    def __init__(self, id, name, add):\n",
    "        # Initialize the attributes of the Emp class\n",
    "        self.id = id\n",
    "        self.name = name\n",
    "        self.add = add\n",
    "\n",
    "# Define the Freelancer class, which is a subclass of Emp\n",
    "class Freelancer(Emp):\n",
    "    def __init__(self, id, name, add, email):\n",
    "        # Call the constructor of the parent class (Emp) using super()\n",
    "        super().__init__(id, name, add)\n",
    "        # Initialize the additional attribute email in the Freelancer class\n",
    "        self.email = email\n",
    "\n",
    "# Create an instance of the Freelancer class\n",
    "emp1 = Freelancer(102, \"Rahul\", \"Delhi\", \"rahul004@gmail.com\")\n",
    "\n",
    "# Print the attributes of the emp1 object\n",
    "print(\"Employee Id:- \", emp1.id)      # Access the id attribute from Emp\n",
    "print(\"Employee name:- \", emp1.name)  # Access the name attribute from Emp\n",
    "print(\"Employee address:- \", emp1.add)  # Access the add attribute from Emp\n",
    "print(\"Employee Email:- \", emp1.email)  # Access the email attribute from Freelancer\n"
   ]
  },
  {
   "cell_type": "markdown",
   "id": "78169046-9eb5-4ecd-b2de-d75d566aa6ce",
   "metadata": {},
   "source": [
    "Q13:- Create a class called `Book` with a constructor that initializes the `title`, `author`, and `published_year`\n",
    "attributes. Provide a method to display book details. "
   ]
  },
  {
   "cell_type": "code",
   "execution_count": 35,
   "id": "18670d22-3a05-4150-8322-42d98c884726",
   "metadata": {},
   "outputs": [
    {
     "name": "stdout",
     "output_type": "stream",
     "text": [
      "Title of the book:-  Positive Vibes\n",
      "Author of the book:-  Ayush Jain\n",
      "Published year:-  2023\n"
     ]
    }
   ],
   "source": [
    "class Book:\n",
    "    \n",
    "    def __init__(self,title,author,published_year):\n",
    "        self.title=title\n",
    "        self.author=author\n",
    "        self.published_year=published_year\n",
    "        \n",
    "    def show_info(self):\n",
    "        print(\"Title of the book:- \",self.title)\n",
    "        print(\"Author of the book:- \",self.author)\n",
    "        print(\"Published year:- \",self.published_year)\n",
    "        \n",
    "b1=Book(\"Positive Vibes\",\"Ayush Jain\",2023)\n",
    "b1.show_info()"
   ]
  },
  {
   "cell_type": "markdown",
   "id": "96099a7a-541c-47ab-a7db-54702f1f2399",
   "metadata": {},
   "source": [
    "Q14:-Discuss the differences between constructors and regular methods in Python classes. "
   ]
  },
  {
   "cell_type": "code",
   "execution_count": null,
   "id": "a3431805-4a43-46fe-a894-29bf3068998c",
   "metadata": {},
   "outputs": [],
   "source": [
    "\"\"\"\n",
    "\n",
    "Costructor:--\n",
    "\n",
    "--> Constructors, such as __init__ in Python, are used to initialize the\n",
    "attributes and state of an object when it's created. They run automatically \n",
    "when an object is instantiated and set initial values for object-specific\n",
    "attributes.\n",
    "\n",
    "--> Constructors in Python are defined with the reserved method name __init__. \n",
    "This name is fixed and cannot be change.\n",
    "\n",
    "--> Constructors do not return any explicit value. They are responsible for\n",
    "setting the initial state of the object but don't return anything when called.\n",
    "\n",
    "\n",
    "Regular methods:-----\n",
    "\n",
    "--> Regular methods are used to define the behavior and functionality of an \n",
    "object. They are called explicitly on objects and perform specific tasks or \n",
    "operations based on the object's state.\n",
    "\n",
    "-->Regular methods can have any valid method name, and they are explicitly\n",
    "called on an object using dot notation.\n",
    "\n",
    "--> Regular methods can return values, and they often do to provide the result\n",
    "of their specific operation.\n",
    "\n",
    "\"\"\""
   ]
  },
  {
   "cell_type": "markdown",
   "id": "3668d56d-c8c8-4bd9-a0a8-df72fb6cf41a",
   "metadata": {},
   "source": [
    "Q15:-Explain the role of the `self` parameter in instance variable initialization within a constructor. "
   ]
  },
  {
   "cell_type": "code",
   "execution_count": 36,
   "id": "77b2fcdd-276b-4ef1-b1e3-da968515edb0",
   "metadata": {},
   "outputs": [
    {
     "name": "stdout",
     "output_type": "stream",
     "text": [
      "The sum of two numbers is:-  24\n"
     ]
    }
   ],
   "source": [
    "\"\"\"\n",
    "\n",
    "The self parametere in the constructor __init__ is nothing but the reference to \n",
    "the instance  or object of the class.\n",
    "\n",
    "\"\"\"\n",
    "\n",
    "# for example:- \n",
    "\n",
    "class Sum:\n",
    "    def __init__(self,x,y):\n",
    "        self.x=x\n",
    "        self.y=y\n",
    "        \n",
    "    def add(self):\n",
    "        print(\"The sum of two numbers is:- \",self.x+self.y)\n",
    "        \n",
    "obj=Sum(12,12)\n",
    "obj.add()"
   ]
  },
  {
   "cell_type": "markdown",
   "id": "483aad2c-7417-410f-a042-96fd4b3c5e6d",
   "metadata": {},
   "source": [
    "Q16:- How do you prevent a class from having multiple instances by using constructors in Python? Provide an\n",
    "example."
   ]
  },
  {
   "cell_type": "code",
   "execution_count": 39,
   "id": "b5c67028-9eed-4353-b15c-9ae38c279814",
   "metadata": {},
   "outputs": [
    {
     "name": "stdout",
     "output_type": "stream",
     "text": [
      "True\n",
      "['Data from Singleton 1']\n"
     ]
    }
   ],
   "source": [
    "\"\"\"\n",
    "\n",
    "--> In Python, you can prevent a class from having multiple instances by implementing the Singleton pattern. The \n",
    "Singleton pattern ensures that a class has only one instance, and if an instance already exists, it returns that \n",
    "instance instead of creating a new one. This can be achieved by controlling the class's constructor and using a \n",
    "class attribute to store the instance.\n",
    "\n",
    "\n",
    "\"\"\"\n",
    "\n",
    "# for example:- \n",
    "\n",
    "class Singleton:\n",
    "    _instance = None  # Class attribute to store the single instance\n",
    "\n",
    "    def __new__(cls):\n",
    "        if cls._instance is None:\n",
    "            cls._instance = super(Singleton, cls).__new__(cls)\n",
    "            cls._instance.init_singleton()\n",
    "        return cls._instance\n",
    "\n",
    "    def init_singleton(self):\n",
    "        # Initialization code for the singleton instance\n",
    "        self.data = []\n",
    "\n",
    "# Example usage:\n",
    "singleton1 = Singleton()\n",
    "singleton1.data.append(\"Data from Singleton 1\")\n",
    "\n",
    "singleton2 = Singleton()  # Attempt to create another instance\n",
    "\n",
    "print(singleton2 is singleton1)  # Outputs: True (Both variables reference the same instance)\n",
    "print(singleton2.data)  # Outputs: ['Data from Singleton 1']\n"
   ]
  },
  {
   "cell_type": "markdown",
   "id": "6a3a5629-298a-45b1-b94d-7e4eecec8b41",
   "metadata": {},
   "source": [
    "Q17:- Create a Python class called `Student` with a constructor that takes a list of subjects as a parameter and initializes the `subjects` attribute."
   ]
  },
  {
   "cell_type": "code",
   "execution_count": 40,
   "id": "73b13039-80e2-4042-8b03-6508d728a704",
   "metadata": {},
   "outputs": [
    {
     "name": "stdout",
     "output_type": "stream",
     "text": [
      "Subjects of the student:-  ['Dsa', 'Python', 'Java', 'C++', 'C']\n"
     ]
    }
   ],
   "source": [
    "class Student:\n",
    "    def __init__(self,subjects):\n",
    "        self.subjects=subjects\n",
    "        \n",
    "    def show_info(self):\n",
    "        print(\"Subjects of the student:- \",self.subjects)\n",
    "        \n",
    "s1=Student(['Dsa','Python','Java','C++','C'])\n",
    "s1.show_info()"
   ]
  },
  {
   "cell_type": "markdown",
   "id": "9ddb24f9-8ec4-44e9-9446-a9d189629463",
   "metadata": {},
   "source": [
    "Q18:- What is the purpose of the `__del__` method in Python classes, and how does it relate to constructors?  "
   ]
  },
  {
   "cell_type": "code",
   "execution_count": 41,
   "id": "53f1b0ec-06ad-4058-9a8f-434bfc838179",
   "metadata": {},
   "outputs": [
    {
     "name": "stdout",
     "output_type": "stream",
     "text": [
      "Example Instance.\n",
      "Destructor called, Example deleted.\n"
     ]
    }
   ],
   "source": [
    "\"\"\"\n",
    "\n",
    "-->__del__ is a destructor method which is called as soon as all references \n",
    "of the object are deleted i.e when an object is garbage collected.\n",
    "\n",
    "--> __del__ is also known as dunder or magic method.\n",
    "\n",
    "\"\"\"\n",
    "# Python program to demonstrate \n",
    "# __del__ \n",
    "\n",
    "\n",
    "class Example: \n",
    "\t\n",
    "\t# Initializing \n",
    "\tdef __init__(self): \n",
    "\t\tprint(\"Example Instance.\") \n",
    "\n",
    "\t# Calling destructor \n",
    "\tdef __del__(self): \n",
    "\t\tprint(\"Destructor called, Example deleted.\") \n",
    "\t\n",
    "obj = Example()\n",
    "del obj"
   ]
  },
  {
   "cell_type": "markdown",
   "id": "0aca166c-eed2-4afa-9d9c-0dffa322bd87",
   "metadata": {},
   "source": [
    "Q19:-  Explain the use of constructor chaining in Python. Provide a practical example."
   ]
  },
  {
   "cell_type": "code",
   "execution_count": 42,
   "id": "888ecc55-03df-484d-9ff3-24ea805888b6",
   "metadata": {},
   "outputs": [
    {
     "name": "stdout",
     "output_type": "stream",
     "text": [
      "Name of the student:-  Chandan\n",
      "Age of the student:-  20\n",
      "Student Id:-   1243\n"
     ]
    }
   ],
   "source": [
    "\"\"\"\n",
    "Constructor chaining in Python is a concept where a subclass's constructor can\n",
    "call the constructor of its parent class (superclass). This allows you to reuse\n",
    "the initialization logic of the parent class while adding or modifying specific\n",
    "behavior in the subclass's constructor. This is achieved using the super() \n",
    "function to call the constructor of the parent class. Constructor chaining is\n",
    "particularly useful when you have a class hierarchy and you want to ensure that\n",
    "the attributes and state of the parent class are properly initialized.\n",
    "\"\"\"\n",
    "\n",
    "# for example:-- \n",
    "\n",
    "# Define the Person class\n",
    "class Person:\n",
    "    def __init__(self, name, age):\n",
    "        # Initialize the attributes of the Person class\n",
    "        self.name = name\n",
    "        self.age = age\n",
    "\n",
    "# Define the Student class, which is a subclass of Person\n",
    "class Student(Person):\n",
    "    def __init__(self, name, age, student_id):\n",
    "        # Call the constructor of the parent class (Person) using super()\n",
    "        super().__init__(name, age)\n",
    "        # Initialize the additional attribute student_id in the Student class\n",
    "        self.student_id = student_id\n",
    "\n",
    "    def show_details(self):\n",
    "        # Display the details of the student, including inherited attributes and the student_id\n",
    "        print(\"Name of the student:- \", self.name)\n",
    "        print(\"Age of the student:- \", self.age)\n",
    "        print(\"Student Id:-  \", self.student_id)\n",
    "\n",
    "# Create an instance of the Student class\n",
    "stud1 = Student(\"Chandan\", 20, 1243)\n",
    "\n",
    "# Call the show_details method to display the student's information\n",
    "stud1.show_details()\n"
   ]
  },
  {
   "cell_type": "markdown",
   "id": "e42c8014-cf7f-474b-a9ba-bef9b2b1eacc",
   "metadata": {},
   "source": [
    "Q20:- Create a Python class called `Car` with a default constructor that initializes the `make` and `model`\n",
    "attributes. Provide a method to display car information."
   ]
  },
  {
   "cell_type": "code",
   "execution_count": 43,
   "id": "0c4bf738-3ad9-48aa-92ce-3f3f684e8b64",
   "metadata": {},
   "outputs": [
    {
     "name": "stdout",
     "output_type": "stream",
     "text": [
      "Car company:-  Mercedes\n",
      "Car model:-  Maybach S class\n"
     ]
    }
   ],
   "source": [
    "class Car:\n",
    "    def __init__(self,make=\"Unknown\",model=\"Unknown\"):\n",
    "        self.make=make\n",
    "        self.model=model\n",
    "        \n",
    "    def display_info(self):\n",
    "        print(\"Car company:- \",self.make)\n",
    "        print(\"Car model:- \",self.model)\n",
    "        \n",
    "c1=Car(\"Mercedes\",\"Maybach S class\")\n",
    "c1.display_info()"
   ]
  },
  {
   "cell_type": "markdown",
   "id": "a23c6532-dc53-4100-a774-f5b803def03c",
   "metadata": {},
   "source": [
    "inheritance:--"
   ]
  },
  {
   "cell_type": "markdown",
   "id": "28c9a6e6-81ad-40e9-88fe-113cc5b6ccf6",
   "metadata": {},
   "source": [
    "Q1:- What is inheritance in Python? Explain its significance in object-oriented programming."
   ]
  },
  {
   "cell_type": "code",
   "execution_count": 44,
   "id": "c4cb2092-91e2-4412-a42a-1e0c224b69fd",
   "metadata": {},
   "outputs": [
    {
     "name": "stdout",
     "output_type": "stream",
     "text": [
      "Ayush   jain\n",
      "Prasuk   jain\n"
     ]
    }
   ],
   "source": [
    "\"\"\"\n",
    "\n",
    "-->inheritance in python allows to  define a class that can inherites all the method\n",
    "and properties of  the other class.\n",
    "\n",
    "--> parent class is a class being inherited from or it is also called as base class.\n",
    "--> child class is a class that inhherits from another class.\n",
    "--> inheritence in object oriented programming language promotes code reusability.\n",
    "\n",
    "\"\"\"\n",
    "\n",
    "# for example:--\n",
    "\n",
    "class Person:\n",
    "    \n",
    "    def __init__(self,fname,lname):\n",
    "        self.fname=fname\n",
    "        self.lname=lname\n",
    "        \n",
    "    def show_name(self):\n",
    "        \n",
    "        print(self.fname,\" \",self.lname)\n",
    "        \n",
    "class Student(Person):\n",
    "    pass\n",
    "\n",
    "# creating the object of parent and the child class both\n",
    "p1=Person(\"Ayush\" ,\"jain\")\n",
    "s1=Student(\"Prasuk\",\"jain\")\n",
    "\n",
    "# calling the methods using the objects of the class\n",
    "p1.show_name()\n",
    "s1.show_name()\n",
    "    "
   ]
  },
  {
   "cell_type": "markdown",
   "id": "471557cf-e323-4195-80dd-bc1f93c3992d",
   "metadata": {},
   "source": [
    "Q2:- Differentiate between single inheritance and multiple inheritance in Python. Provide examples for each. "
   ]
  },
  {
   "cell_type": "code",
   "execution_count": 45,
   "id": "ad4013d8-be13-41a3-8794-a60d0d323dc7",
   "metadata": {},
   "outputs": [
    {
     "name": "stdout",
     "output_type": "stream",
     "text": [
      "They can speak\n",
      "They can eat\n",
      "Hello, my name is John, and I am 35 years old.\n",
      "I am an employee with ID M12345, and I work for a salary of $75000 per year.\n",
      "I am a manager in the Sales department and I manage a team.\n"
     ]
    }
   ],
   "source": [
    "\"\"\"\n",
    "\n",
    "--> Single inheritance means only a single child class is inherited from the parent\n",
    "or the base class\n",
    "\n",
    "--> multiple inheritance means when the class is derived from more than one base\n",
    "classes is called as multiple inheritance.\n",
    "\n",
    "\"\"\"\n",
    "\n",
    "# example of single inheritance:\n",
    "\n",
    "# Define a class called \"Human.\"\n",
    "class Human:\n",
    "    \n",
    "    # Define a method called \"speak\" within the \"Human\" class.\n",
    "    def speak(self):\n",
    "        print(\"They can speak\")\n",
    "        \n",
    "    # Define a method called \"eat\" within the \"Human\" class.\n",
    "    def eat(self):\n",
    "        print(\"They can eat\")\n",
    "\n",
    "# Define a class called \"Male,\" which inherits from the \"Human\" class.\n",
    "class Male(Human):\n",
    "    pass\n",
    "# The \"pass\" statement means that the \"Male\" class does not add any additional methods or attributes but inherits them from the \"Human\" class.\n",
    "\n",
    "# Create an object of the \"Male\" class and assign it to the variable \"obj.\"\n",
    "obj = Male()\n",
    "\n",
    "# Call the \"speak\" method on the \"obj\" object, which is inherited from the \"Human\" class.\n",
    "obj.speak()  # Output: \"They can speak\"\n",
    "\n",
    "# Call the \"eat\" method on the \"obj\" object, which is also inherited from the \"Human\" class.\n",
    "obj.eat()    # Output: \"They can eat\"\n",
    "\n",
    "\n",
    "# example of multiple  inheritance:--\n",
    "\n",
    "# Define a class for a \"Person\" with basic attributes and methods.\n",
    "class Person:\n",
    "    def __init__(self, name, age):\n",
    "        self.name = name\n",
    "        self.age = age\n",
    "\n",
    "    def greet(self):\n",
    "        print(f\"Hello, my name is {self.name}, and I am {self.age} years old.\")\n",
    "\n",
    "# Define a class for an \"Employee\" with attributes and methods related to employment.\n",
    "class Employee:\n",
    "    def __init__(self, emp_id, salary):\n",
    "        self.emp_id = emp_id\n",
    "        self.salary = salary\n",
    "\n",
    "    def work(self):\n",
    "        print(f\"I am an employee with ID {self.emp_id}, and I work for a salary of ${self.salary} per year.\")\n",
    "\n",
    "# Define a class for a \"Manager\" that inherits from both \"Person\" and \"Employee.\"\n",
    "class Manager(Person, Employee):\n",
    "    def __init__(self, name, age, emp_id, salary, department):\n",
    "        # Call the constructors of both base classes explicitly.\n",
    "        Person.__init__(self, name, age)\n",
    "        Employee.__init__(self, emp_id, salary)\n",
    "        self.department = department\n",
    "\n",
    "    def manage_team(self):\n",
    "        print(f\"I am a manager in the {self.department} department and I manage a team.\")\n",
    "\n",
    "# Create an instance of the \"Manager\" class.\n",
    "manager = Manager(\"John\", 35, \"M12345\", 75000, \"Sales\")\n",
    "\n",
    "# Access methods and attributes from both base classes.\n",
    "manager.greet()      # Output: \"Hello, my name is John, and I am 35 years old.\"\n",
    "manager.work()       # Output: \"I am an employee with ID M12345, and I work for a salary of $75000 per year.\"\n",
    "manager.manage_team() # Output: \"I am a manager in the Sales department and I manage a team.\"\n"
   ]
  },
  {
   "cell_type": "markdown",
   "id": "910da964-7a62-4e36-8b8b-b803e0f22f02",
   "metadata": {},
   "source": [
    "Q3:- Create a Python class called `Vehicle` with attributes `color` and `speed`. Then, create a child class called\n",
    "`Car` that inherits from `Vehicle` and adds a `brand` attribute. Provide an example of creating a `Car` object."
   ]
  },
  {
   "cell_type": "code",
   "execution_count": 46,
   "id": "8cb19ff8-e738-4645-817f-dd4c3fc1e3b7",
   "metadata": {},
   "outputs": [
    {
     "name": "stdout",
     "output_type": "stream",
     "text": [
      "Color of the car:  Black\n",
      "Max speed of the car:  260\n",
      "Brand of the car:  Hyundai Verna\n"
     ]
    }
   ],
   "source": [
    "# Define a class called \"Vehicle.\"\n",
    "class Vehicle:\n",
    "    def __init__(self, color, speed):\n",
    "        # Initialize the \"color\" and \"speed\" attributes of the vehicle.\n",
    "        self.color = color\n",
    "        self.speed = speed\n",
    "\n",
    "# Define a class called \"Car,\" which inherits from the \"Vehicle\" class.\n",
    "class Car(Vehicle):\n",
    "    def __init__(self, color, speed, brand):\n",
    "        # Call the constructor of the parent class \"Vehicle\" using \"super().__init__(color, speed)\"\n",
    "        super().__init__(color, speed)\n",
    "        \n",
    "        # Initialize the \"brand\" attribute specific to the Car class.\n",
    "        self.brand = brand\n",
    "\n",
    "# Create an instance of the \"Car\" class and provide values for its attributes.\n",
    "c1 = Car(\"Black\", 260, \"Hyundai Verna\")\n",
    "\n",
    "# Access and print the attributes of the \"Car\" object.\n",
    "print(\"Color of the car: \", c1.color)  # Output: \"Color of the car: Black\"\n",
    "print(\"Max speed of the car: \", c1.speed)  # Output: \"Max speed of the car: 260\"\n",
    "print(\"Brand of the car: \", c1.brand)  # Output: \"Brand of the car: Hyundai Verna\"\n"
   ]
  },
  {
   "cell_type": "markdown",
   "id": "244ef8f1-946e-4c50-aa22-7c92f106a50f",
   "metadata": {},
   "source": [
    "Q4:- 4. Explain the concept of method overriding in inheritance. Provide a practical example."
   ]
  },
  {
   "cell_type": "code",
   "execution_count": 47,
   "id": "b6df4bcb-8f60-4588-a883-3cce81b2ad6a",
   "metadata": {},
   "outputs": [
    {
     "name": "stdout",
     "output_type": "stream",
     "text": [
      "The area of the circle is 78.54 square units.\n",
      "The area of the rectangle is 24 square units.\n"
     ]
    }
   ],
   "source": [
    "\"\"\"\n",
    "--> Method overriding is an ability of any object-oriented programming language\n",
    "that allows a subclass or child class to provide a specific implementation of\n",
    "a method that is already provided by one of its super-classes or parent classes.\n",
    "\n",
    "--> When a method in a subclass has the same name, same parameters or signature\n",
    "and same return type(or sub-type) as a method in its super-class, then the \n",
    "method in the subclass is said to override the method in the super-class.\n",
    "\n",
    "\"\"\"\n",
    "\n",
    "# for example:---\n",
    "\n",
    "# Define a base class called \"Shape\" with a method called \"area.\"\n",
    "class Shape:\n",
    "    def area(self):\n",
    "        print(\"This is the base class 'Shape'.\")\n",
    "\n",
    "# Define a subclass called \"Circle\" that overrides the \"area\" method.\n",
    "class Circle(Shape):\n",
    "    def __init__(self, radius):\n",
    "        self.radius = radius\n",
    "\n",
    "    # Override the \"area\" method to calculate and print the area of a circle.\n",
    "    def area(self):\n",
    "        result = 3.14159 * self.radius * self.radius\n",
    "        print(f\"The area of the circle is {result:.2f} square units.\")\n",
    "\n",
    "# Define another subclass called \"Rectangle\" that also overrides the \"area\" method.\n",
    "class Rectangle(Shape):\n",
    "    def __init__(self, length, width):\n",
    "        self.length = length\n",
    "        self.width = width\n",
    "\n",
    "    # Override the \"area\" method to calculate and print the area of a rectangle.\n",
    "    def area(self):\n",
    "        result = self.length * self.width\n",
    "        print(f\"The area of the rectangle is {result} square units.\")\n",
    "\n",
    "# Create objects of the Circle and Rectangle classes.\n",
    "circle = Circle(5)\n",
    "rectangle = Rectangle(4, 6)\n",
    "\n",
    "# Call the overridden \"area\" methods for both objects.\n",
    "circle.area()    # Output: \"The area of the circle is 78.54 square units.\"\n",
    "rectangle.area() # Output: \"The area of the rectangle is 24 square units.\"\n"
   ]
  },
  {
   "cell_type": "markdown",
   "id": "79a3febf-42b4-40a5-8aae-7d0b691a59aa",
   "metadata": {},
   "source": [
    "Q5:- How can you access the methods and attributes of a parent class from a child class in Python? Give an\n",
    "example."
   ]
  },
  {
   "cell_type": "code",
   "execution_count": 48,
   "id": "7448c280-554b-4921-94ce-081f3ceab93f",
   "metadata": {},
   "outputs": [
    {
     "name": "stdout",
     "output_type": "stream",
     "text": [
      "Hello my name is Chandan (from parent class)\n",
      "I am Chandan, and 24 years old (from child class)\n"
     ]
    }
   ],
   "source": [
    "# we can access the method and attributes using the super().\n",
    "\n",
    "# code:\n",
    "\n",
    "# Define a parent class called \"Parent.\"\n",
    "class Parent:\n",
    "    def __init__(self, name):\n",
    "        self.name = name\n",
    "\n",
    "    def say_hello(self):\n",
    "        # Method to print a greeting using the \"name\" attribute.\n",
    "        print(f\"Hello my name is {self.name} (from parent class)\")\n",
    "\n",
    "# Define a child class called \"Child,\" which inherits from the \"Parent\" class.\n",
    "class Child(Parent):\n",
    "    def __init__(self, name, age):\n",
    "        # Call the constructor of the parent class using super() to initialize the \"name\" attribute.\n",
    "        super().__init__(name)\n",
    "        self.age = age\n",
    "\n",
    "    def say_hello(self):\n",
    "        # Call the overridden method of the parent class using super().\n",
    "        super().say_hello()\n",
    "        # Extend the behavior by including age information in the greeting.\n",
    "        print(f\"I am {self.name}, and {self.age} years old (from child class)\")\n",
    "\n",
    "# Create an object of the \"Child\" class, providing a name and age.\n",
    "obj = Child(\"Chandan\", 24)\n",
    "\n",
    "# Call the \"say_hello\" method of the \"Child\" class.\n",
    "obj.say_hello()\n"
   ]
  },
  {
   "cell_type": "code",
   "execution_count": null,
   "id": "625eadf4-1235-419f-9809-30600d207c1d",
   "metadata": {},
   "outputs": [],
   "source": [
    "Q6:- Discuss the use of the `super()` function in Python inheritance. When and why is it used? Provide an\n",
    "example."
   ]
  },
  {
   "cell_type": "code",
   "execution_count": 49,
   "id": "e8061ed7-294f-4ed2-a710-998979edaa76",
   "metadata": {},
   "outputs": [
    {
     "name": "stdout",
     "output_type": "stream",
     "text": [
      "Parent method\n",
      "Child method\n"
     ]
    }
   ],
   "source": [
    "\"\"\"\n",
    "\n",
    "--> super() function in python is used to access the mrthod of the parent class \n",
    "inside the child class\n",
    "\n",
    "--> the super() function is used in method overriding,multiple inheritance and\n",
    "constructorr chaining\n",
    "\n",
    "\"\"\"\n",
    "\n",
    "# for example:-- \n",
    "class Parent:\n",
    "    def my_method(self):\n",
    "        print(\"Parent method\")\n",
    "\n",
    "class Child(Parent):\n",
    "    def my_method(self):\n",
    "        super().my_method()  # Access and extend the behavior of the parent method\n",
    "        print(\"Child method\")\n",
    "\n",
    "child = Child()\n",
    "child.my_method()\n"
   ]
  },
  {
   "cell_type": "markdown",
   "id": "5f053979-e6ae-4542-a905-fd3c21879c4c",
   "metadata": {},
   "source": [
    "Q7:- Create a Python class called `Animal` with a method `speak()`. Then, create child classes `Dog` and `Cat`"
   ]
  },
  {
   "cell_type": "code",
   "execution_count": 50,
   "id": "5d714ce3-1e47-4090-8845-e7189b5b2e9e",
   "metadata": {},
   "outputs": [
    {
     "name": "stdout",
     "output_type": "stream",
     "text": [
      "Dog says:-  bhow bhow\n",
      "Cat says:-  meow meow\n"
     ]
    }
   ],
   "source": [
    "class Animal:\n",
    "    \n",
    "    def speak(self):\n",
    "        pass\n",
    "    \n",
    "class Dog(Animal):\n",
    "    def speak(self):\n",
    "        return \"bhow bhow\"\n",
    "\n",
    "class Cat(Animal):\n",
    "    def speak(self):\n",
    "        return \"meow meow\"\n",
    "    \n",
    "dog=Dog()\n",
    "cat=Cat()\n",
    "\n",
    "print(\"Dog says:- \",dog.speak())\n",
    "print(\"Cat says:- \",cat.speak())\n"
   ]
  },
  {
   "cell_type": "markdown",
   "id": "93c191bd-0551-4a67-ab90-5cd0fc337982",
   "metadata": {},
   "source": [
    "Q8:- Explain the role of the `isinstance()` function in Python and how it relates to inheritance."
   ]
  },
  {
   "cell_type": "code",
   "execution_count": 51,
   "id": "b06525d5-c35f-40aa-bb93-9ae889b1c5ae",
   "metadata": {},
   "outputs": [
    {
     "name": "stdout",
     "output_type": "stream",
     "text": [
      "True\n",
      "True\n",
      "Woof!\n",
      "Meow!\n"
     ]
    }
   ],
   "source": [
    "\"\"\"\n",
    "\n",
    "--> the isinstance() function in Python is used to check if an object belongs \n",
    "to a particular class or a tuple of classes. It helps determine whether an \n",
    "object is an instance of a specific class or one of its subclasses. The \n",
    "function takes two arguments: the object you want to check and the class or \n",
    "classes you want to check against.\n",
    "\n",
    "\"\"\"\n",
    "\n",
    "#  here is an example of how isinstance is related with inheritance:--\n",
    "\n",
    "class Animal:\n",
    "    def speak(self):\n",
    "        pass\n",
    "\n",
    "class Dog(Animal):\n",
    "    def speak(self):\n",
    "        return \"Woof!\"\n",
    "\n",
    "class Cat(Animal):\n",
    "    def speak(self):\n",
    "        return \"Meow!\"\n",
    "\n",
    "# Create instances of Dog and Cat\n",
    "dog= Dog()\n",
    "cat= Cat()\n",
    "\n",
    "# Check if the instances belong to the Animal class or its subclasses\n",
    "print(isinstance(dog, Animal))  # True\n",
    "print(isinstance(cat, Animal))  # True\n",
    "\n",
    "# Demonstrate polymorphism by calling the speak method dynamically\n",
    "def make_animal_speak(animal):\n",
    "    if isinstance(animal, Animal):\n",
    "        return animal.speak()\n",
    "    else:\n",
    "        return \"Unknown animal sound\"\n",
    "\n",
    "print(make_animal_speak(dog))  # Output: \"Woof!\"\n",
    "print(make_animal_speak(cat))  # Output: \"Meow!\"\n"
   ]
  },
  {
   "cell_type": "markdown",
   "id": "6e94a3b5-bb26-4c4f-ab02-8d4da4e1fddb",
   "metadata": {},
   "source": [
    "Q9:- What is the purpose of the `issubclass()` function in Python? Provide an example."
   ]
  },
  {
   "cell_type": "code",
   "execution_count": 52,
   "id": "0da2962f-ac2e-4bc1-be10-145e0bfdacb8",
   "metadata": {},
   "outputs": [
    {
     "name": "stdout",
     "output_type": "stream",
     "text": [
      "Is Circle a subclass of Shape? True\n",
      "Is Rectangle a subclass of Shape? True\n",
      "Is Shape a subclass of Circle? False\n"
     ]
    }
   ],
   "source": [
    "\"\"\"\n",
    "-->The issubclass() function in Python is used to check whether a given class\n",
    "is a subclass of a specified class or a tuple of classes. It is used to \n",
    "determine the class hierarchy and inheritance relationships between classes.\n",
    "The function returns True if the first class is a subclass of the second class\n",
    "or any class in the tuple; otherwise, it returns `False.\n",
    "\n",
    "\"\"\"\n",
    "\n",
    "# for  example\n",
    "\n",
    "class Shape:\n",
    "    pass\n",
    "\n",
    "class Circle(Shape):\n",
    "    pass\n",
    "\n",
    "class Rectangle(Shape):\n",
    "    pass\n",
    "\n",
    "# Check if Circle is a subclass of Shape\n",
    "is_circle_subclass = issubclass(Circle, Shape)\n",
    "print(\"Is Circle a subclass of Shape?\", is_circle_subclass)  # Output: \"Is Circle a subclass of Shape? True\"\n",
    "\n",
    "# Check if Rectangle is a subclass of Shape\n",
    "is_rectangle_subclass = issubclass(Rectangle, Shape)\n",
    "print(\"Is Rectangle a subclass of Shape?\", is_rectangle_subclass)  # Output: \"Is Rectangle a subclass of Shape? True\"\n",
    "\n",
    "# Check if Shape is a subclass of Circle (should return False)\n",
    "is_shape_subclass = issubclass(Shape, Circle)\n",
    "print(\"Is Shape a subclass of Circle?\", is_shape_subclass)  # Output: \"Is Shape a subclass of Circle? False\"\n",
    "\n"
   ]
  },
  {
   "cell_type": "markdown",
   "id": "e52cfa90-5110-413d-8d3f-4021ed095973",
   "metadata": {},
   "source": [
    "Q10:- Discuss the concept of constructor inheritance in Python. How are constructors inherited in child classes?"
   ]
  },
  {
   "cell_type": "code",
   "execution_count": 53,
   "id": "2a2ed5f7-0a80-4029-854d-51c78ef00004",
   "metadata": {},
   "outputs": [
    {
     "name": "stdout",
     "output_type": "stream",
     "text": [
      "Hello my name is Ayush (parent class)\n",
      "Hello my name is Ayush and i am 20 years  old (child class)\n"
     ]
    }
   ],
   "source": [
    "\"\"\"\n",
    "--> In Python, constructors are not inherited by child classes in the same way \n",
    "that methods are inherited. When you create a child class, it does not \n",
    "automatically inherit the constructor (__init__) of the parent class. However,\n",
    "you can explicitly call the parent class's constructor from the child class\n",
    "constructor using the super() function. This is known as constructor chaining\n",
    "or constructor inheritance.\n",
    "\n",
    "\"\"\"\n",
    "\n",
    "# for  example:--\n",
    "\n",
    "class Parent:\n",
    "    def __init__(self,name):\n",
    "        self.name=name\n",
    "        \n",
    "    def name_details(self):\n",
    "        print(f\"Hello my name is {self.name} (parent class)\")\n",
    "        \n",
    "class Child(Parent):\n",
    "    \n",
    "    def __init__(self,name,age):\n",
    "        super().__init__(name)\n",
    "        self.age=age\n",
    "        \n",
    "    def name_details(self):\n",
    "        super().name_details()\n",
    "        print(f\"Hello my name is {self.name} and i am {self.age} years  old (child class)\")\n",
    "        \n",
    "        \n",
    "c1=Child(\"Ayush\",20)\n",
    "c1.name_details()"
   ]
  },
  {
   "cell_type": "markdown",
   "id": "e5bb7c45-14c0-450d-a3a8-299332bba373",
   "metadata": {},
   "source": [
    "Q11:- Create a Python class called `Shape` with a method `area()` that calculates the area of a shape. Then, create child classes `Circle` and `Rectangle` that inherit from `Shape` and implement the `area()` method\n",
    "accordingly. Provide an example."
   ]
  },
  {
   "cell_type": "code",
   "execution_count": 54,
   "id": "4b0d61c9-7c65-4af9-b05e-01861d2c02a0",
   "metadata": {},
   "outputs": [
    {
     "name": "stdout",
     "output_type": "stream",
     "text": [
      "Area of the circle: 78.54 square units\n",
      "Area of the rectangle: 24 square units\n"
     ]
    }
   ],
   "source": [
    "import math  # Import the math module for math-related calculations\n",
    "\n",
    "# Define the base class \"Shape.\"\n",
    "class Shape:\n",
    "    def area(self):\n",
    "        pass  # The base class does not provide a specific implementation.\n",
    "\n",
    "# Define a child class \"Circle\" that inherits from \"Shape.\"\n",
    "class Circle(Shape):\n",
    "    def __init__(self, radius):\n",
    "        self.radius = radius\n",
    "\n",
    "    def area(self):\n",
    "        return math.pi * self.radius**2  # Calculate the area of a circle\n",
    "\n",
    "# Define another child class \"Rectangle\" that inherits from \"Shape.\"\n",
    "class Rectangle(Shape):\n",
    "    def __init__(self, length, width):\n",
    "        self.length = length\n",
    "        self.width = width\n",
    "\n",
    "    def area(self):\n",
    "        return self.length * self.width  # Calculate the area of a rectangle\n",
    "\n",
    "# Create instances of the \"Circle\" and \"Rectangle\" classes.\n",
    "circle = Circle(5)\n",
    "rectangle = Rectangle(4, 6)\n",
    "\n",
    "# Calculate and print the areas of the shapes using the \"area()\" method.\n",
    "print(f\"Area of the circle: {circle.area():.2f} square units\")\n",
    "print(f\"Area of the rectangle: {rectangle.area()} square units\")\n"
   ]
  },
  {
   "cell_type": "markdown",
   "id": "9ecf787f-a9e1-4220-ab42-bc0d41d966d6",
   "metadata": {},
   "source": [
    "Q12:- Explain the use of abstract base classes (ABCs) in Python and how they relate to inheritance. Provide an\n",
    "example using the `abc` module."
   ]
  },
  {
   "cell_type": "code",
   "execution_count": 55,
   "id": "f47ff479-e0c1-450a-b846-9b2c582f7430",
   "metadata": {},
   "outputs": [
    {
     "name": "stdout",
     "output_type": "stream",
     "text": [
      "The area of the circle is:-  50.24\n"
     ]
    }
   ],
   "source": [
    "\"\"\"\n",
    "-->The main goal of the abstract base class is to provide a standardized way \n",
    "to test whether an object adheres to a given specification. It can also prevent\n",
    "any attempt to instantiate a subclass that doesn’t override a particular method\n",
    "in the superclass. And finally, using an abstract class, a class can derive\n",
    "identity from another class without any object inheritance.\n",
    "\n",
    "--> ABCs are related to inheritance in the sense that they define a structure \n",
    "or interface that child classes must follow. When a class inherits from an ABC, \n",
    "it must provide concrete implementations for the abstract methods defined in\n",
    "the ABC. In this way, ABCs enforce a form of inheritance that mandates the \n",
    "presence of certain methods in child classes.\n",
    "\n",
    "\"\"\"\n",
    "\n",
    "# for exammple:-- \n",
    "from abc import ABC,abstractmethod\n",
    "\n",
    "class Shape(ABC):\n",
    "    \n",
    "    @abstractmethod\n",
    "    def area(self):\n",
    "        pass\n",
    "    \n",
    "class Circle(Shape):\n",
    "    def __init__(self,radius):\n",
    "        self.radius=radius\n",
    "        \n",
    "    def area(self):\n",
    "        return 3.14 * self.radius**2\n",
    "    \n",
    "obj=Circle(4)\n",
    "\n",
    "print(\"The area of the circle is:- \",obj.area())"
   ]
  },
  {
   "cell_type": "markdown",
   "id": "aa8c1b5a-6203-4c4c-8f7a-5d4bcb4341ea",
   "metadata": {},
   "source": [
    "Q13:- How can you prevent a child class from modifying certain attributes or methods inherited from a parent\n",
    "class in Python?"
   ]
  },
  {
   "cell_type": "code",
   "execution_count": 59,
   "id": "eec5cd0a-9c6d-4181-995e-3b21e4e84eb3",
   "metadata": {},
   "outputs": [],
   "source": [
    "\"\"\"\n",
    "\n",
    "--> There are a few ways to prevent a child class from modifying certain attributes or methods inherited from a \n",
    "parent class in Python. One way is to use the private variable convention. In Python, variables that start with \n",
    "two underscores are considered private, and cannot be accessed by child classes. For example, the following code \n",
    "would prevent the child class from modifying the _private attribute.\n",
    "\n",
    "\"\"\"\n",
    "\n",
    "# for example:- \n",
    "\n",
    "\n",
    "class Parent:\n",
    "    def __init__(self):\n",
    "        self._private = 1\n",
    "\n",
    "class Child(Parent):\n",
    "    def __init__(self):\n",
    "        super().__init__()\n",
    "        print(self._private) # AttributeError: 'Child' object has no attribute '_private'"
   ]
  },
  {
   "cell_type": "markdown",
   "id": "dfde6194-f34d-4002-8310-19bb72ad9f7f",
   "metadata": {},
   "source": [
    "Q14:- Create a Python class called `Employee` with attributes `name` and `salary`. Then, create a child class\n",
    "`Manager` that inherits from `Employee` and adds an attribute `department`. Provide an example."
   ]
  },
  {
   "cell_type": "code",
   "execution_count": 60,
   "id": "32d94ade-233d-48d2-9551-e784c35c0dea",
   "metadata": {},
   "outputs": [
    {
     "name": "stdout",
     "output_type": "stream",
     "text": [
      "Employee: Alice 50000\n",
      "Manager: Bob 75000 HR\n"
     ]
    }
   ],
   "source": [
    "# Define the base class \"Employee.\"\n",
    "class Employee:\n",
    "    def __init__(self, name, salary):\n",
    "        self.name = name\n",
    "        self.salary = salary\n",
    "\n",
    "# Define a child class \"Manager\" that inherits from \"Employee.\"\n",
    "class Manager(Employee):\n",
    "    def __init__(self, name, salary, department):\n",
    "        super().__init__(name, salary)  # Call the constructor of the parent class\n",
    "        self.department = department  # Initialize the \"department\" attribute\n",
    "\n",
    "# Create instances of the \"Employee\" and \"Manager\" classes.\n",
    "employee = Employee(\"Alice\", 50000)\n",
    "manager = Manager(\"Bob\", 75000, \"HR\")\n",
    "\n",
    "# Access attributes for both classes.\n",
    "print(\"Employee:\", employee.name, employee.salary)\n",
    "print(\"Manager:\", manager.name, manager.salary, manager.department)\n"
   ]
  },
  {
   "cell_type": "markdown",
   "id": "32518707-f1f8-4ee0-b198-6774d493b478",
   "metadata": {},
   "source": [
    "Q15:- Discuss the concept of method overloading in Python inheritance. How does it differ from method\n",
    "overriding?"
   ]
  },
  {
   "cell_type": "code",
   "execution_count": 61,
   "id": "35d847e8-4c00-45f9-bd4f-8d6221c8f5a5",
   "metadata": {},
   "outputs": [
    {
     "name": "stdout",
     "output_type": "stream",
     "text": [
      "Default method\n",
      "Method with one argument\n",
      "Method with two arguments\n",
      "Example of method overriding\n",
      "This is the child's method, overriding the parent's method\n"
     ]
    }
   ],
   "source": [
    "\"\"\"\n",
    "\n",
    "--> Method overloading is a feature that allows a class to define multiple\n",
    "methods with the same name but different parameter lists. It enables a class\n",
    "to have multiple implementations of the same method, and the appropriate method\n",
    "to be called is determined based on the number and types of arguments passed to\n",
    "it. Python does not support method overloading in the same way that some \n",
    "statically-typed languages do (e.g., Java or C++), where method signatures can \n",
    "differ only by the number or types of their parameters.\n",
    "\n",
    "\"\"\"\n",
    "\n",
    "# example of the method overloading:--\n",
    "class MyClass:\n",
    "    def my_method(self, *args):\n",
    "        if len(args) == 1:\n",
    "            print(\"Method with one argument\")\n",
    "        elif len(args) == 2:\n",
    "            print(\"Method with two arguments\")\n",
    "        else:\n",
    "            print(\"Default method\")\n",
    "\n",
    "obj = MyClass()\n",
    "obj.my_method()              # Default method\n",
    "obj.my_method(1)             # Method with one argument\n",
    "obj.my_method(2, \"Hello\")    # Method with two arguments\n",
    "\n",
    "\"\"\"\n",
    "\n",
    "Method overriding, on the other hand, is a feature of inheritance. It occurs \n",
    "when a subclass provides a specific implementation for a method that is already\n",
    "defined in its superclass (parent class). The overriding method in the child \n",
    "class has the same name, return type, and parameters as the method in the\n",
    "parent class. Method overriding allows a child class to provide its own version\n",
    "of a method while maintaining the method signature of the parent class.\n",
    "\n",
    "\"\"\"\n",
    "print(\"Example of method overriding\")\n",
    "# example  of the method overriding:--\n",
    "\n",
    "class Parent:\n",
    "    def my_method(self):\n",
    "        print(\"This is the parent's method\")\n",
    "\n",
    "class Child(Parent):\n",
    "    def my_method(self):\n",
    "        print(\"This is the child's method, overriding the parent's method\")\n",
    "\n",
    "obj = Child()\n",
    "obj.my_method()  # Output: \"This is the child's method, overriding the parent's method\""
   ]
  },
  {
   "cell_type": "markdown",
   "id": "39ba0286-d72f-4d38-999f-35932b1bd08e",
   "metadata": {},
   "source": [
    "Q16:- Explain the purpose of the `__init__()` method in Python inheritance and how it is utilized in child classes."
   ]
  },
  {
   "cell_type": "code",
   "execution_count": 62,
   "id": "edd1e770-c24c-49f9-bbae-2a300b26d824",
   "metadata": {},
   "outputs": [
    {
     "name": "stdout",
     "output_type": "stream",
     "text": [
      "Parent attribute: Parent attribute\n",
      "Child attribute: Child attribute\n"
     ]
    }
   ],
   "source": [
    "\"\"\"\n",
    "\n",
    "--> The __init__() method in Python is a special method called the constructor.\n",
    "It plays a crucial role in class initialization and object creation. In the context of inheritance, \n",
    "the __init__() method is utilized to initialize the attributes of an object and is often defined in both \n",
    "the parent and child classes.\n",
    "\n",
    "\"\"\"\n",
    "\n",
    "# here is an example:--\n",
    "\n",
    "class Parent:\n",
    "    def __init__(self, parent_attr):\n",
    "        self.parent_attr = parent_attr\n",
    "\n",
    "class Child(Parent):\n",
    "    def __init__(self, parent_attr, child_attr):\n",
    "        super().__init__(parent_attr)  # Call the constructor of the parent class\n",
    "        self.child_attr = child_attr  # Initialize child-specific attribute\n",
    "\n",
    "# Create an instance of the Child class\n",
    "child = Child(\"Parent attribute\", \"Child attribute\")\n",
    "\n",
    "# Access attributes from both the parent and child classes\n",
    "print(\"Parent attribute:\", child.parent_attr)\n",
    "print(\"Child attribute:\", child.child_attr)\n"
   ]
  },
  {
   "cell_type": "markdown",
   "id": "d767c265-4eca-43e1-abdc-2ce0243de543",
   "metadata": {},
   "source": [
    "Q17:- Create a Python class called `Bird` with a method `fly()`. Then, create child classes `Eagle` and `Sparrow` that inherit from `Bird` and implement the `fly()` method differently. Provide an example of using these\n",
    "classes."
   ]
  },
  {
   "cell_type": "code",
   "execution_count": 63,
   "id": "ba4969f6-f8ef-46f0-94a6-3a1d250e95fa",
   "metadata": {},
   "outputs": [
    {
     "name": "stdout",
     "output_type": "stream",
     "text": [
      "An eagle flies high in the sky.\n",
      "A sparrow flits and chirps around the trees.\n"
     ]
    }
   ],
   "source": [
    "class Bird:\n",
    "    \n",
    "    def fly(self):\n",
    "        pass\n",
    "    \n",
    "class Eagle(Bird):\n",
    "    def fly(self):\n",
    "        print(\"An eagle flies high in the sky.\")\n",
    "        \n",
    "class Sparrow(Bird):\n",
    "    def fly(self):\n",
    "        print(\"A sparrow flits and chirps around the trees.\")\n",
    "        \n",
    "e=Eagle()\n",
    "s=Sparrow()\n",
    "e.fly()\n",
    "s.fly()"
   ]
  },
  {
   "cell_type": "markdown",
   "id": "1cf659be-bffd-4b14-b980-1bcfa5e18da1",
   "metadata": {},
   "source": [
    "Q18:-What is the \"diamond problem\" in multiple inheritance, and how does Python address it?"
   ]
  },
  {
   "cell_type": "code",
   "execution_count": 66,
   "id": "73c8f8f4-2954-4be8-812a-3845b47090de",
   "metadata": {},
   "outputs": [
    {
     "name": "stdout",
     "output_type": "stream",
     "text": [
      "B\n"
     ]
    }
   ],
   "source": [
    "\"\"\"\n",
    "--> The \"diamond problem\" is a challenge that arises in programming languages that support multiple inheritance, \n",
    "such as C++, and it refers to a particular ambiguity that can occur when a class inherits from two or more classes\n",
    "that have a common ancestor. In a diamond-shaped class hierarchy, where a single base class is inherited by\n",
    "multiple derived classes, issues related to method and attribute resolution can arise.\n",
    "\n",
    "--> Python addresses the diamond problem by using a mechanism called the C3 Linearization or Method Resolution \n",
    "Order (MRO). The C3 Linearization algorithm defines a specific order in which methods and attributes are resolved\n",
    "in the presence of multiple inheritance. This order is designed to minimize ambiguity and ensure a consistent and \n",
    "predictable method resolution.\n",
    "\n",
    "--> Python's MRO ensures that method resolution in the presence of multiple inheritance remains consistent and \n",
    "avoids the ambiguity that the diamond problem can introduce. This is why Python supports multiple inheritance in\n",
    "a way that is generally less error-prone compared to some other languages.\n",
    "\n",
    "\"\"\"\n",
    "\n",
    "# for example:---\n",
    "class A:\n",
    "    def method(self):\n",
    "        return \"A\"\n",
    "\n",
    "class B(A):\n",
    "    def method(self):\n",
    "        return \"B\"\n",
    "\n",
    "class C(A):\n",
    "    def method(self):\n",
    "        return \"C\"\n",
    "\n",
    "class D(B,C):\n",
    "    pass\n",
    "\n",
    "# Create an instance of class D\n",
    "d = D()\n",
    "\n",
    "# Method resolution order: D -> B -> C -> A\n",
    "print(d.method())  # Output: \"B\"\n"
   ]
  },
  {
   "cell_type": "markdown",
   "id": "7b89f4ce-c8cf-439b-8602-3e1faac06aea",
   "metadata": {},
   "source": [
    "Q19:- Discuss the concept of \"is-a\" and \"has-a\" relationships in inheritance, and provide examples of each."
   ]
  },
  {
   "cell_type": "code",
   "execution_count": 67,
   "id": "61092488-73e4-4cfe-b97f-109d1684b9d5",
   "metadata": {},
   "outputs": [
    {
     "name": "stdout",
     "output_type": "stream",
     "text": [
      "is-a relationship\n",
      "Buddy\n",
      "Buddy barks!\n",
      "has-a relationship\n",
      "Engine started\n",
      "Car is moving\n"
     ]
    }
   ],
   "source": [
    "\"\"\"\n",
    "\n",
    "--> The \"is-a\" relationship represents a relationship between a more general class (base or parent class) and a\n",
    "more specific class (derived or child class). It indicates that the derived class is a specialized version of the\n",
    "base class and inherits its properties and behaviors.\n",
    "\n",
    "--> Inheritance is typically used to model the \"is-a\" relationship.\n",
    "\n",
    "--> The \"has-a\" relationship represents a relationship where one class contains an instance of another class \n",
    "as an attribute. It's used to model the idea that one class \"has\" another class as a part or component.\n",
    "\n",
    "\"\"\"\n",
    "\n",
    "# example of is-a relationship:--\n",
    "print(\"is-a relationship\")\n",
    "\n",
    "class Animal:\n",
    "    def __init__(self, name):\n",
    "        self.name = name\n",
    "\n",
    "class Dog(Animal):  # Dog is-a(n) Animal\n",
    "    def bark(self):\n",
    "        print(f\"{self.name} barks!\")\n",
    "\n",
    "dog = Dog(\"Buddy\")\n",
    "print(dog.name)  # Accessing the attribute from the base class\n",
    "dog.bark()      # Accessing a method from the derived class\n",
    "\n",
    "\n",
    "# example of has-a relationship:----\n",
    "\n",
    "print(\"has-a relationship\")\n",
    "\n",
    "class Engine:\n",
    "    def start(self):\n",
    "        print(\"Engine started\")\n",
    "\n",
    "class Car:\n",
    "    def __init__(self):\n",
    "        self.engine = Engine()  # Car has-a(n) Engine\n",
    "\n",
    "    def drive(self):\n",
    "        print(\"Car is moving\")\n",
    "\n",
    "my_car = Car()\n",
    "my_car.engine.start()\n",
    "my_car.drive()\n",
    "\n"
   ]
  },
  {
   "cell_type": "markdown",
   "id": "f500d8d8-22c7-4fa3-b9b4-3123fc7cf59e",
   "metadata": {},
   "source": [
    "Q20:- Create a Python class hierarchy for a university system. Start with a base class `Person` and create child\n",
    "classes `Student` and `Professor`, each with their own attributes and methods. Provide an example of using\n",
    "these classes in a university context."
   ]
  },
  {
   "cell_type": "code",
   "execution_count": 68,
   "id": "27e185bd-68ef-4d45-9bc4-3c1cb97aa016",
   "metadata": {},
   "outputs": [
    {
     "name": "stdout",
     "output_type": "stream",
     "text": [
      "Hi, I'm Ayush, a 20-year-old male.\n",
      "Hi, I'm Sudhanshu, a 45-year-old male.\n",
      "Ayush is studying Computer Science.\n",
      "Sudhanshu is teaching Data science in the Computer Science department.\n"
     ]
    }
   ],
   "source": [
    "class Person:\n",
    "    def __init__(self, name, age, gender):\n",
    "        self.name = name\n",
    "        self.age = age\n",
    "        self.gender = gender\n",
    "\n",
    "    def introduce(self):\n",
    "        print(f\"Hi, I'm {self.name}, a {self.age}-year-old {self.gender}.\")\n",
    "\n",
    "class Student(Person):\n",
    "    def __init__(self, name, age, gender, student_id, major):\n",
    "        super().__init__(name, age, gender)\n",
    "        self.student_id = student_id\n",
    "        self.major = major\n",
    "\n",
    "    def study(self):\n",
    "        print(f\"{self.name} is studying {self.major}.\")\n",
    "\n",
    "class Professor(Person):\n",
    "    def __init__(self, name, age, gender, employee_id, department):\n",
    "        super().__init__(name, age, gender)\n",
    "        self.employee_id = employee_id\n",
    "        self.department = department\n",
    "\n",
    "    def teach(self, course):\n",
    "        print(f\"{self.name} is teaching {course} in the {self.department} department.\")\n",
    "\n",
    "# Example usage of the classes in a university context\n",
    "if __name__ == \"__main__\":\n",
    "    # Create instances of Student and Professor\n",
    "    student1 = Student(\"Ayush\", 20, \"male\", \"S12345\", \"Computer Science\")\n",
    "    professor1 = Professor(\"Sudhanshu\", 45, \"male\", \"P9876\", \"Computer Science\")\n",
    "\n",
    "    # Introduce the student and professor\n",
    "    student1.introduce()\n",
    "    professor1.introduce()\n",
    "\n",
    "    # Use class-specific methods\n",
    "    student1.study()\n",
    "    professor1.teach(\"Data science\")\n",
    "\n"
   ]
  },
  {
   "cell_type": "markdown",
   "id": "b154a35e-9ec6-4e3c-acad-29a7179ad9f8",
   "metadata": {},
   "source": [
    "Encapsulation:- "
   ]
  },
  {
   "cell_type": "markdown",
   "id": "ff8989e3-bbaf-45e2-9831-202de895b08b",
   "metadata": {},
   "source": [
    "Q1:- Explain the concept of encapsulation in Python. What is its role in object-oriented programming?"
   ]
  },
  {
   "cell_type": "code",
   "execution_count": null,
   "id": "19ece503-4f07-4afd-a82d-5fc27eb3ca70",
   "metadata": {},
   "outputs": [],
   "source": [
    "\"\"\"\n",
    "-->Encapsulation is one of the fundamental concepts in object-oriented programming (OOP). It describes the idea of\n",
    "wrapping data and the methods that work on data within one unit. This puts restrictions on accessing variables and\n",
    "methods directly and can prevent the accidental modification of data.\n",
    "\n",
    "--> A class is an example of encapsulation as it encapsulates all the data that is member functions, variables,\n",
    "etc. The goal of information hiding is to ensure that an object’s state is always valid by controlling access\n",
    "to attributes that are hidden from the outside world.\n",
    "\n",
    "\"\"\"\n",
    "\n"
   ]
  },
  {
   "cell_type": "markdown",
   "id": "814261e0-d3d9-40ba-85f4-93a880e5e9c5",
   "metadata": {},
   "source": [
    "Q2:- Describe the key principles of encapsulation, including access control and data hiding."
   ]
  },
  {
   "cell_type": "code",
   "execution_count": null,
   "id": "edac24e5-598a-4f3f-8f8c-b63fcb3d27dc",
   "metadata": {},
   "outputs": [],
   "source": [
    "\"\"\"\n",
    "\n",
    "--> Access control refers to the rules and mechanisms that determine how and where an object's attributes and \n",
    "methods can be accessed and modified.\n",
    "\n",
    "--> Public: Attributes and methods are accessible from anywhere, both inside and outside the class.\n",
    "\n",
    "--> Private: Attributes and methods are only accessible within the class itself. They are hidden from external access.\n",
    "\n",
    "--> Protected: Attributes and methods are accessible within the class and its subclasses (inheritance-related), \n",
    "but not from external code.\n",
    "\n",
    "--> Data hiding is the practice of restricting direct access to an object's internal data (attributes) from \n",
    "outside the class and allowing access only through controlled interfaces (methods). The internal state of an \n",
    "object is hidden from external code, and external code is not allowed to manipulate the object's data directly.\n",
    "Instead, external code interacts with the object through publicly defined methods.\n",
    "\n",
    "\"\"\"\n",
    "\n",
    "\n"
   ]
  },
  {
   "cell_type": "markdown",
   "id": "da7ef584-c201-46fc-a457-52cc1c14335a",
   "metadata": {},
   "source": [
    "Q3:-How can you achieve encapsulation in Python classes? Provide an example."
   ]
  },
  {
   "cell_type": "code",
   "execution_count": 69,
   "id": "a33ab6db-e2c9-4695-bb3b-9b3df02c5e55",
   "metadata": {},
   "outputs": [
    {
     "name": "stdout",
     "output_type": "stream",
     "text": [
      "Car: Toyota Camry\n",
      "Mileage: 50\n",
      "Fuel Level: 95\n",
      "Fuel Level: 95\n"
     ]
    }
   ],
   "source": [
    "class Car:\n",
    "    def __init__(self, make, model):\n",
    "        self.make = make           # Public attribute\n",
    "        self.model = model         # Public attribute\n",
    "        self._mileage = 0          # Private attribute\n",
    "        self.__fuel = 100          # Strongly private attribute\n",
    "\n",
    "    def drive(self, distance):\n",
    "        self._mileage += distance\n",
    "        self.__fuel -= distance // 10\n",
    "\n",
    "    def get_fuel_level(self):\n",
    "        return self.__fuel\n",
    "\n",
    "# Create a Car object\n",
    "my_car = Car(\"Toyota\", \"Camry\")\n",
    "\n",
    "# Access public attributes\n",
    "print(f\"Car: {my_car.make} {my_car.model}\")\n",
    "\n",
    "# Access and modify private attributes indirectly\n",
    "my_car.drive(50)\n",
    "print(f\"Mileage: {my_car._mileage}\")\n",
    "\n",
    "# Try to access a strongly private attribute directly - this will not work\n",
    "# print(f\"Fuel Level: {my_car.__fuel}\")  # This would raise an AttributeError\n",
    "\n",
    "# Access a strongly private attribute through name mangling\n",
    "print(f\"Fuel Level: {my_car._Car__fuel}\")\n",
    "\n",
    "# Use a method to get the fuel level\n",
    "print(f\"Fuel Level: {my_car.get_fuel_level()}\")\n"
   ]
  },
  {
   "cell_type": "markdown",
   "id": "e6365021-e633-4a52-82a8-1b933a25a75e",
   "metadata": {},
   "source": [
    "Q4:- Discuss the difference between public, private, and protected access modifiers in Python."
   ]
  },
  {
   "cell_type": "code",
   "execution_count": null,
   "id": "f71571fe-744f-4e26-97d2-4b69cbdbd428",
   "metadata": {},
   "outputs": [],
   "source": [
    "\"\"\"\n",
    "\n",
    "--> Public: Attributes and methods are accessible from anywhere, both inside and outside the class.\n",
    "\n",
    "--> Private: Attributes and methods are only accessible within the class itself. They are hidden from external access.\n",
    "\n",
    "--> Protected: Attributes and methods are accessible within the class and its subclasses (inheritance-related), \n",
    "but not from external code.\n",
    "\n",
    "\"\"\"\n"
   ]
  },
  {
   "cell_type": "markdown",
   "id": "0e61ed80-7d6d-4924-b165-e51fc2b8323c",
   "metadata": {},
   "source": [
    "Q5:-Create a Python class called `Person` with a private attribute `__name`. Provide methods to get and set the\n",
    "name attribute."
   ]
  },
  {
   "cell_type": "code",
   "execution_count": 70,
   "id": "82728fa9-f70b-4146-9ae3-4f7161dc430c",
   "metadata": {},
   "outputs": [
    {
     "data": {
      "text/plain": [
       "'Ayush'"
      ]
     },
     "execution_count": 70,
     "metadata": {},
     "output_type": "execute_result"
    }
   ],
   "source": [
    "class Person:\n",
    "    \n",
    "    def __init__(self,name=\"Unknown\"):\n",
    "        self.__name=name\n",
    "        \n",
    "    def get_name(self):\n",
    "        return self.__name\n",
    "    \n",
    "    def set_name(self,new_name):\n",
    "        self.__name=new_name\n",
    "        \n",
    "# creating the object of the class\n",
    "\n",
    "obj=Person()\n",
    "obj.set_name(\"Ayush\")\n",
    "obj.get_name()"
   ]
  },
  {
   "cell_type": "code",
   "execution_count": null,
   "id": "eb414de4-ac7e-4d4f-aec5-c0f61f88ede0",
   "metadata": {},
   "outputs": [],
   "source": [
    "Q6:- Explain the purpose of getter and setter methods in encapsulation. Provide examples."
   ]
  },
  {
   "cell_type": "code",
   "execution_count": 71,
   "id": "ba1dcf9c-7c64-48b9-97db-85fbace82a82",
   "metadata": {},
   "outputs": [
    {
     "name": "stdout",
     "output_type": "stream",
     "text": [
      "Alice\n"
     ]
    }
   ],
   "source": [
    "\"\"\"\n",
    "\n",
    "--> Getter methods in Python, implemented as property getters, are used to provide controlled access to the values\n",
    "of private or protected attributes. They allow you to expose an attribute's value while potentially applying some \n",
    "logic or calculations before returning the value.\n",
    "\n",
    "--> Setter methods in Python, implemented as property setters, are used to control and validate the assignment of \n",
    "values to attributes. They provide a controlled and consistent way to update an attribute's value while \n",
    "potentially enforcing constraints.\n",
    "\n",
    "\"\"\"\n",
    "\n",
    "# example of  getter\n",
    "\n",
    "class Person:\n",
    "    def __init__(self, name):\n",
    "        self._name = name  # Private attribute\n",
    "\n",
    "    @property\n",
    "    def name(self):\n",
    "        return self._name\n",
    "\n",
    "person = Person(\"Alice\")\n",
    "print(person.name)  # Access the name attribute using the getter\n",
    "\n",
    "\n",
    "# example  of the setter \n",
    "\n",
    "class BankAccount:\n",
    "    def __init__(self, balance):\n",
    "        self._balance = balance  # Private attribute\n",
    "\n",
    "    @property\n",
    "    def balance(self):\n",
    "        return self._balance\n",
    "\n",
    "    @balance.setter\n",
    "    def balance(self, new_balance):\n",
    "        if new_balance >= 0:\n",
    "            self._balance = new_balance\n",
    "\n",
    "account = BankAccount(1000)\n",
    "account.balance = 1500  # Update the balance using the setter\n"
   ]
  },
  {
   "cell_type": "markdown",
   "id": "44410417-f501-4ea7-9e5c-d3002254ba7b",
   "metadata": {},
   "source": [
    "Q7:- What is name mangling in Python, and how does it affect encapsulation?"
   ]
  },
  {
   "cell_type": "code",
   "execution_count": null,
   "id": "9c70c02c-7f67-4590-aae2-54cd2cf5d9f7",
   "metadata": {},
   "outputs": [],
   "source": [
    "\"\"\"\n",
    "\n",
    "--> In name mangling process any identifier with two leading underscore and one trailing underscore is textually\n",
    "replaced with _classname__identifier where classname is the name of the current class. It means that any identifier\n",
    "of the form __geek (at least two leading underscores or at most one trailing underscore) is replaced \n",
    "with _classname__geek, where classname is the current class name with leading underscore(s) stripped.\n",
    "\n",
    "--> Python does not have strict access control modifiers like \"private\" or \"protected\" as some other languages do.\n",
    "Instead, it relies on a naming convention with a double underscore prefix to indicate that an attribute should be \n",
    "considered private. For example, an attribute named __my_private_attr is considered private.\n",
    "\n",
    "\"\"\"\n",
    "\n"
   ]
  },
  {
   "cell_type": "markdown",
   "id": "ba263cee-12b4-4a40-82c6-7c637ed4ecdb",
   "metadata": {},
   "source": [
    "Q8:- Create a Python class called `BankAccount` with private attributes for the account balance (`__balance`) and account number (`__account_number`). Provide methods for depositing and withdrawing money."
   ]
  },
  {
   "cell_type": "code",
   "execution_count": 72,
   "id": "1486752c-f416-4fef-84e7-cb4b248f85e8",
   "metadata": {},
   "outputs": [
    {
     "name": "stdout",
     "output_type": "stream",
     "text": [
      "Account number:- 453639283\n",
      "Account Balance:- 2765\n"
     ]
    },
    {
     "data": {
      "text/plain": [
       "'You do not have enough money in your account'"
      ]
     },
     "execution_count": 72,
     "metadata": {},
     "output_type": "execute_result"
    }
   ],
   "source": [
    "class BankAccount:\n",
    "    \n",
    "    def __init__(self,balance,account_number):\n",
    "        self.__balance=balance\n",
    "        self.__account_number=account_number\n",
    "        \n",
    "    def deposite(self,amount):\n",
    "        if amount>0:\n",
    "            self.__balance+=amount\n",
    "            \n",
    "        else:\n",
    "            return \"Enter the valid amount\"\n",
    "        \n",
    "        return self.__balance\n",
    "        \n",
    "    def withdraw(self,amount):\n",
    "        \n",
    "        if self.__balance>0:\n",
    "            self.__balance-=amount\n",
    "            \n",
    "        else:\n",
    "            return \"You do not have enough money in your account\"\n",
    "        \n",
    "        \n",
    "        return self.__balance\n",
    "        \n",
    "    \n",
    "        \n",
    "    def show_info(self):\n",
    "        print(f\"Account number:- {self.__account_number}\")\n",
    "        print(f\"Account Balance:- {self.__balance}\")     \n",
    "        \n",
    "        \n",
    "obj=BankAccount(2000,453639283)\n",
    "obj.deposite(765)\n",
    "obj.show_info()\n",
    "obj.withdraw(2765)\n",
    "obj.withdraw(23)"
   ]
  },
  {
   "cell_type": "markdown",
   "id": "3b8d9806-d6a5-4c49-9369-8b91f5dade3f",
   "metadata": {},
   "source": [
    "Q9:- Discuss the advantages of encapsulation in terms of code maintainability and security."
   ]
  },
  {
   "cell_type": "code",
   "execution_count": null,
   "id": "6254d254-5dd7-4fc5-92b7-da2acd709f65",
   "metadata": {},
   "outputs": [],
   "source": [
    "\"\"\"\n",
    "\n",
    "--> Encapsulation promotes modularity by encapsulating an object's data and behavior together. This means that the \n",
    "internal details of an object are hidden from external code. As a result, changes to one part of the code \n",
    "(e.g., the implementation of a class) have minimal impact on other parts of the code. This isolation simplifies\n",
    "code maintenance.\n",
    "\n",
    "-->   When you encapsulate data and behavior within a class, you can make changes to the class's implementation\n",
    "without affecting the code that uses the class. This separation of concerns makes it easier to maintain, extend, \n",
    "and update code over time\n",
    "\n",
    "--> Encapsulation hides the internal data of an object from external code. This prevents unauthorized access or\n",
    "modification of an object's attributes. It helps protect the integrity and consistency of the object's state.\n",
    "\n",
    "-->  Encapsulation enables you to define and control how external code interacts with the object's data. You can\n",
    "provide read-only access, restrict modifications, or apply business logic when setting values. This access control\n",
    "enhances the security of sensitive data.\n",
    "\n",
    "\"\"\"\n"
   ]
  },
  {
   "cell_type": "markdown",
   "id": "c5a47fba-cb80-43d7-a1f2-5f6a6573135b",
   "metadata": {},
   "source": [
    "Q10:- How can you access private attributes in Python? Provide an example demonstrating the use of name\n",
    "mangling."
   ]
  },
  {
   "cell_type": "code",
   "execution_count": 73,
   "id": "82689387-5eea-4be8-b6bc-ca3c346ee519",
   "metadata": {},
   "outputs": [
    {
     "name": "stdout",
     "output_type": "stream",
     "text": [
      "42\n",
      "42\n"
     ]
    }
   ],
   "source": [
    "class MyClass:\n",
    "    def __init__(self):\n",
    "        self.__my_private_attr = 42\n",
    "\n",
    "    def get_private_attr(self):\n",
    "        return self.__my_private_attr\n",
    "\n",
    "class MySubclass(MyClass):\n",
    "    def access_private_attr(self):\n",
    "        return self._MyClass__my_private_attr  # Name mangling\n",
    "\n",
    "# Create an instance of the subclass\n",
    "obj = MySubclass()\n",
    "\n",
    "# Access the private attribute using a getter method\n",
    "print(obj.get_private_attr())  # Outputs 42\n",
    "\n",
    "# Access the private attribute using name mangling\n",
    "print(obj.access_private_attr())  # Outputs 42\n"
   ]
  },
  {
   "cell_type": "markdown",
   "id": "1ddb7425-0fe7-4f01-b8f0-e67839b4de63",
   "metadata": {},
   "source": [
    "Q11:- Create a Python class hierarchy for a school system, including classes for students, teachers, and courses,\n",
    "and implement encapsulation principles to protect sensitive information."
   ]
  },
  {
   "cell_type": "code",
   "execution_count": 74,
   "id": "89c52a07-4d33-4ffd-acaf-7bb3929c4ca8",
   "metadata": {},
   "outputs": [
    {
     "name": "stdout",
     "output_type": "stream",
     "text": [
      "Alice is a student in Introduction to Computer Science\n",
      "Mr. Smith is the teacher of Introduction to Computer Science\n"
     ]
    }
   ],
   "source": [
    "class Person:\n",
    "    def __init__(self, name, age, ssn):\n",
    "        self.__name = name\n",
    "        self.__age = age\n",
    "        self.__ssn = ssn\n",
    "\n",
    "    # Getter methods\n",
    "    def get_name(self):\n",
    "        return self.__name\n",
    "\n",
    "    def get_age(self):\n",
    "        return self.__age\n",
    "\n",
    "    def get_ssn(self):\n",
    "        return self.__ssn\n",
    "\n",
    "    # Setter methods\n",
    "    def set_name(self, name):\n",
    "        self.__name = name\n",
    "\n",
    "    def set_age(self, age):\n",
    "        if 0 <= age <= 150:  # Age validation\n",
    "            self.__age = age\n",
    "\n",
    "    def set_ssn(self, ssn):\n",
    "        # SSN validation logic can be added here\n",
    "        self.__ssn = ssn\n",
    "\n",
    "\n",
    "class Student(Person):\n",
    "    def __init__(self, name, age, ssn, student_id):\n",
    "        super().__init__(name, age, ssn)\n",
    "        self.__student_id = student_id\n",
    "\n",
    "    def get_student_id(self):\n",
    "        return self.__student_id\n",
    "\n",
    "    def set_student_id(self, student_id):\n",
    "        # Student ID validation logic can be added here\n",
    "        self.__student_id = student_id\n",
    "\n",
    "\n",
    "class Teacher(Person):\n",
    "    def __init__(self, name, age, ssn, employee_id):\n",
    "        super().__init__(name, age, ssn)\n",
    "        self.__employee_id = employee_id\n",
    "\n",
    "    def get_employee_id(self):\n",
    "        return self.__employee_id\n",
    "\n",
    "    def set_employee_id(self, employee_id):\n",
    "        # Employee ID validation logic can be added here\n",
    "        self.__employee_id = employee_id\n",
    "\n",
    "\n",
    "class Course:\n",
    "    def __init__(self, course_code, course_name):\n",
    "        self.__course_code = course_code\n",
    "        self.__course_name = course_name\n",
    "        self.__students = []\n",
    "\n",
    "    def get_course_code(self):\n",
    "        return self.__course_code\n",
    "\n",
    "    def get_course_name(self):\n",
    "        return self.__course_name\n",
    "\n",
    "    def add_student(self, student):\n",
    "        self.__students.append(student)\n",
    "\n",
    "    def remove_student(self, student):\n",
    "        self.__students.remove(student)\n",
    "\n",
    "    def get_students(self):\n",
    "        return self.__students\n",
    "\n",
    "\n",
    "# Example usage:\n",
    "student1 = Student(\"Alice\", 18, \"123-45-6789\", \"S12345\")\n",
    "teacher1 = Teacher(\"Mr. Smith\", 35, \"987-65-4321\", \"T9876\")\n",
    "course1 = Course(\"CS101\", \"Introduction to Computer Science\")\n",
    "\n",
    "course1.add_student(student1)\n",
    "course1.add_student(teacher1)  # Teachers should not be added as students\n",
    "\n",
    "print(f\"{student1.get_name()} is a student in {course1.get_course_name()}\")\n",
    "print(f\"{teacher1.get_name()} is the teacher of {course1.get_course_name()}\")\n"
   ]
  },
  {
   "cell_type": "markdown",
   "id": "c78a2ecf-5031-4eb9-8695-574768309b56",
   "metadata": {},
   "source": [
    "Q12:- Explain the concept of property decorators in Python and how they relate to encapsulation."
   ]
  },
  {
   "cell_type": "code",
   "execution_count": null,
   "id": "77427cbb-44d0-4608-bf26-cba7892dc35e",
   "metadata": {},
   "outputs": [],
   "source": [
    "\"\"\"\n",
    "\n",
    "--> Property decorators in Python are a way to implement controlled access to class attributes by using getter,\n",
    "setter, and deleter methods. They allow you to define special methods that are invoked when reading, setting, or\n",
    "deleting the value of an attribute. Property decorators are used to encapsulate the internal state of an object\n",
    "and provide a more controlled and consistent interface for interacting with class attributes. They are an \n",
    "important part of achieving encapsulation in Python.\n",
    "\n",
    "\"\"\"\n"
   ]
  },
  {
   "cell_type": "markdown",
   "id": "31afe1e0-4129-437a-85f5-7facbad297d5",
   "metadata": {},
   "source": [
    "Q13:- What is data hiding, and why is it important in encapsulation? Provide examples."
   ]
  },
  {
   "cell_type": "code",
   "execution_count": null,
   "id": "6f79a290-a7d9-48bd-bcc8-b7bd57834cbd",
   "metadata": {},
   "outputs": [],
   "source": [
    "\"\"\"\n",
    "\n",
    "--> Data hiding is the practice of restricting direct access to an object's internal data (attributes) from \n",
    "outside the class and allowing access only through controlled interfaces (methods). The internal state of an \n",
    "object is hidden from external code, and external code is not allowed to manipulate the object's data directly.\n",
    "Instead, external code interacts with the object through publicly defined methods.\n",
    "\"\"\""
   ]
  },
  {
   "cell_type": "markdown",
   "id": "8f086efc-3f0c-4df2-8ede-6ec062242f50",
   "metadata": {},
   "source": [
    "Q14:-  Create a Python class called `Employee` with private attributes for salary (`__salary`) and employee ID (`__employee_id`). Provide a method to calculate yearly bonuses."
   ]
  },
  {
   "cell_type": "code",
   "execution_count": 75,
   "id": "0e3a8371-4c67-484e-a49a-aada47e33a94",
   "metadata": {},
   "outputs": [
    {
     "name": "stdout",
     "output_type": "stream",
     "text": [
      "Employee 1 has a bonus of 50000.0 for the year.\n"
     ]
    }
   ],
   "source": [
    "class Employee:\n",
    "    def __init__(self, employee_id, salary):\n",
    "        self.__employee_id = employee_id\n",
    "        self.__salary = salary\n",
    "\n",
    "    def calculate_yearly_bonus(self, percentage):\n",
    "        bonus = self.__salary * (percentage / 100)\n",
    "        return bonus\n",
    "\n",
    "    # Getter methods to access private attributes\n",
    "    def get_employee_id(self):\n",
    "        return self.__employee_id\n",
    "\n",
    "    def get_salary(self):\n",
    "        return self.__salary\n",
    "\n",
    "    # Setter methods to modify private attributes\n",
    "    def set_employee_id(self, new_employee_id):\n",
    "        self.__employee_id = new_employee_id\n",
    "\n",
    "    def set_salary(self, new_salary):\n",
    "        self.__salary = new_salary\n",
    "\n",
    "# Example usage:\n",
    "employee1 = Employee(1, 500000)\n",
    "bonus = employee1.calculate_yearly_bonus(10)\n",
    "print(f\"Employee {employee1.get_employee_id()} has a bonus of {bonus} for the year.\")\n"
   ]
  },
  {
   "cell_type": "markdown",
   "id": "d5242072-323a-4f5d-84ca-061ae8cca3eb",
   "metadata": {},
   "source": [
    "Q15:- Discuss the use of accessors and mutators in encapsulation. How do they help maintain control over\n",
    "attribute access?"
   ]
  },
  {
   "cell_type": "code",
   "execution_count": null,
   "id": "ff7dd024-5df1-4ba0-9658-17018799393c",
   "metadata": {},
   "outputs": [],
   "source": [
    "\"\"\"\n",
    "\n",
    "--> Accessors and mutators, also known as getter and setter methods, are essential components of encapsulation\n",
    "in object-oriented programming.\n",
    "\n",
    "--> Accessors are methods used to retrieve the values of private or protected attributes within an object. \n",
    "They allow external code to access the attribute's value in a controlled and read-only manner.\n",
    "\n",
    "--> Mutators are methods used to modify the values of private or protected attributes. They provide controlled \n",
    "and write access to attributes, allowing you to apply validation and business logic.\n",
    "\n",
    "\"\"\"\n"
   ]
  },
  {
   "cell_type": "markdown",
   "id": "3a87df15-7255-48ff-84c5-cdb104505152",
   "metadata": {},
   "source": [
    "Q16:- What are the potential drawbacks or disadvantages of using encapsulation in Python?"
   ]
  },
  {
   "cell_type": "code",
   "execution_count": null,
   "id": "bd0369e8-9b33-43ff-aa94-d3c6862711a0",
   "metadata": {},
   "outputs": [],
   "source": [
    "\"\"\"\n",
    "\n",
    "--> Increased code size: Encapsulation can increase the length of your code, \n",
    "as you need to provide all the methods with the specifiers.\n",
    "\n",
    "--> Increased code complexity: Encapsulation can make your code more complex, as you need to manage the\n",
    "relationships between the different classes and objects.\n",
    "\n",
    "--> Reduced readability: Encapsulation can make your code less readable, as it can be difficult to understand\n",
    "how the different classes and objects interact.\n",
    "\n",
    "--> Increased maintenance overhead: Encapsulation can increase the maintenance overhead of your code, as you need\n",
    "to update all the classes and objects that are affected by any changes.\n",
    "\n",
    "\"\"\"\n"
   ]
  },
  {
   "cell_type": "markdown",
   "id": "b759cf5a-723c-4ae4-bbde-dc92a387443d",
   "metadata": {},
   "source": [
    "Q17:- Create a Python class for a library system that encapsulates book information, including titles, authors,\n",
    "and availability status."
   ]
  },
  {
   "cell_type": "code",
   "execution_count": 76,
   "id": "450da9a7-e25d-4fa3-88a5-8395e31ba8af",
   "metadata": {},
   "outputs": [
    {
     "name": "stdout",
     "output_type": "stream",
     "text": [
      "The book '1984' by George Orwell is available.\n",
      "You have borrowed the book '1984' by George Orwell.\n",
      "The book '1984' by George Orwell is not available at the moment.\n",
      "You have returned the book '1984' by George Orwell. Thank you!\n",
      "The book '1984' by George Orwell is available.\n"
     ]
    }
   ],
   "source": [
    "class LibraryBook:\n",
    "    def __init__(self, title, author, available=True):\n",
    "        self.title = title\n",
    "        self.author = author\n",
    "        self.available = available\n",
    "\n",
    "    def check_availability(self):\n",
    "        if self.available:\n",
    "            return f\"The book '{self.title}' by {self.author} is available.\"\n",
    "        else:\n",
    "            return f\"The book '{self.title}' by {self.author} is not available at the moment.\"\n",
    "\n",
    "    def borrow_book(self):\n",
    "        if self.available:\n",
    "            self.available = False\n",
    "            return f\"You have borrowed the book '{self.title}' by {self.author}.\"\n",
    "        else:\n",
    "            return f\"Sorry, the book '{self.title}' by {self.author} is currently not available for borrowing.\"\n",
    "\n",
    "    def return_book(self):\n",
    "        if not self.available:\n",
    "            self.available = True\n",
    "            return f\"You have returned the book '{self.title}' by {self.author}. Thank you!\"\n",
    "        else:\n",
    "            return f\"The book '{self.title}' by {self.author} is already in the library.\"\n",
    "\n",
    "# Example usage:\n",
    "book1 = LibraryBook(\"1984\", \"George Orwell\")\n",
    "print(book1.check_availability())  # Check availability of the book\n",
    "print(book1.borrow_book())         # Borrow the book\n",
    "print(book1.check_availability())  # Check availability again\n",
    "print(book1.return_book())         # Return the book\n",
    "print(book1.check_availability())  # Check availability after returning\n"
   ]
  },
  {
   "cell_type": "markdown",
   "id": "afc2000e-a882-402c-b41b-babb553f57ac",
   "metadata": {},
   "source": [
    "Q18:- Explain how encapsulation enhances code reusability and modularity in Python programs."
   ]
  },
  {
   "cell_type": "code",
   "execution_count": null,
   "id": "6f98a221-062b-4938-a2f2-be58d216ebe4",
   "metadata": {},
   "outputs": [],
   "source": [
    "\"\"\"\n",
    "\n",
    "--> Encapsulation is a programming concept that binds data and methods into a single unit. This makes the code \n",
    "more modular and reusable, as the data and methods can be used independently of each other.\n",
    "\n",
    "--> In Python, encapsulation is achieved through the use of classes. A class is a blueprint for creating objects,\n",
    "and it defines the data and methods that will be available to those objects.\n",
    "\n",
    "--> When you create an object, you are creating an instance of a class. The object will inherit all of the data \n",
    "and methods that are defined in the class.\n",
    "\n",
    "--> Encapsulation also helps to make code more maintainable, as it makes it easier to understand and debug. When \n",
    "the data and methods are grouped together, it is easier to see how they interact with each other.\n",
    "\n",
    "\"\"\""
   ]
  },
  {
   "cell_type": "markdown",
   "id": "2248bac6-fd1f-47dc-923c-b86b96e105ac",
   "metadata": {},
   "source": [
    "Q19:- Describe the concept of information hiding in encapsulation. Why is it essential in software development?"
   ]
  },
  {
   "cell_type": "code",
   "execution_count": null,
   "id": "642e5000-ca8e-4fb8-96b5-02019dbe8a6f",
   "metadata": {},
   "outputs": [],
   "source": [
    "\"\"\"\n",
    "\n",
    "--> Encapsulation is a software concept that bundles data and methods that work on that data within one unit.\n",
    "Information hiding is a common encapsulation method that hides an object's internal representation or state from \n",
    "the outside. \n",
    "\n",
    "--> Allows developers to present a consistent and usable interface\n",
    "\n",
    "--> Prevents direct access to data that could expose hidden implementation details or violate state invariance\n",
    "\n",
    "--> Hides the physical storage layout for data so that if it is changed, the change is restricted to a small \n",
    "subset of the total program\n",
    "\n",
    "\n",
    "--> Protects against malicious or malformed data being passed into classes\n",
    "\n",
    "--> Protects intellectual property and prevents unauthorized use of data\n",
    "\n",
    "--> Ensures confidentiality\n",
    "\n",
    "\"\"\""
   ]
  },
  {
   "cell_type": "markdown",
   "id": "84f09cb8-765f-4ddf-b7d4-f47c279286c9",
   "metadata": {},
   "source": [
    "Q20:- Create a Python class called `Customer` with private attributes for customer details like name, address,\n",
    "and contact information. Implement encapsulation to ensure data integrity and security."
   ]
  },
  {
   "cell_type": "code",
   "execution_count": 77,
   "id": "516b7b28-0b0b-4bb0-b693-347d4e5b9416",
   "metadata": {},
   "outputs": [
    {
     "name": "stdout",
     "output_type": "stream",
     "text": [
      "Customer Details:\n",
      "Name: John Doe\n",
      "Address: 123 Main St, City, Country\n",
      "Contact Information: john.doe@email.com\n",
      "Customer Details:\n",
      "Name: Jane Smith\n",
      "Address: 456 Elm St, Town, Country\n",
      "Contact Information: jane.smith@email.com\n"
     ]
    }
   ],
   "source": [
    "class Customer:\n",
    "    def __init__(self, name, address, contact_info):\n",
    "        self.__name = name  # Private attribute for customer name\n",
    "        self.__address = address  # Private attribute for customer address\n",
    "        self.__contact_info = contact_info  # Private attribute for customer contact information\n",
    "\n",
    "    # Getter methods to access private attributes\n",
    "    def get_name(self):\n",
    "        return self.__name\n",
    "\n",
    "    def get_address(self):\n",
    "        return self.__address\n",
    "\n",
    "    def get_contact_info(self):\n",
    "        return self.__contact_info\n",
    "\n",
    "    # Setter methods to modify private attributes\n",
    "    def set_name(self, name):\n",
    "        self.__name = name\n",
    "\n",
    "    def set_address(self, address):\n",
    "        self.__address = address\n",
    "\n",
    "    def set_contact_info(self, contact_info):\n",
    "        self.__contact_info = contact_info\n",
    "\n",
    "    def display_customer_details(self):\n",
    "        print(\"Customer Details:\")\n",
    "        print(\"Name:\", self.__name)\n",
    "        print(\"Address:\", self.__address)\n",
    "        print(\"Contact Information:\", self.__contact_info)\n",
    "\n",
    "\n",
    "# Creating a Customer object\n",
    "customer1 = Customer(\"John Doe\", \"123 Main St, City, Country\", \"john.doe@email.com\")\n",
    "\n",
    "# Accessing and displaying customer details\n",
    "customer1.display_customer_details()\n",
    "\n",
    "# Modifying customer details using setter methods\n",
    "customer1.set_name(\"Jane Smith\")\n",
    "customer1.set_address(\"456 Elm St, Town, Country\")\n",
    "customer1.set_contact_info(\"jane.smith@email.com\")\n",
    "\n",
    "# Displaying modified customer details\n",
    "customer1.display_customer_details()\n"
   ]
  },
  {
   "cell_type": "markdown",
   "id": "b4e5e654-64db-47c8-82bc-e7430a7d7ce1",
   "metadata": {},
   "source": [
    "Polymorphism:- "
   ]
  },
  {
   "cell_type": "markdown",
   "id": "9cb1a28c-e560-438d-ba75-b63eae9375e6",
   "metadata": {},
   "source": [
    "Q1:- What is polymorphism in Python? Explain how it is related to object-oriented programming."
   ]
  },
  {
   "cell_type": "code",
   "execution_count": null,
   "id": "041152d7-9c98-41eb-a9a2-71069cd12ec6",
   "metadata": {},
   "outputs": [],
   "source": [
    "\"\"\"\n",
    "\n",
    "--> Polymorphism in Python is the ability of a function to have different \n",
    "meanings depending on the context in which it is used. This is in contrast to\n",
    "monomorphism, where a function always has the same meaning. Polymorphism is a\n",
    "key feature of object-oriented programming, and it allows for greater\n",
    "flexibility and code reuse.\n",
    "\n",
    "--> There are two main types of polymorphism in Python: method overloading and\n",
    "method overriding. Method overloading occurs when a function with the same name\n",
    "is defined in multiple classes. The specific method that is called depends on \n",
    "the type of the object that is passed to the function. Method overriding occurs\n",
    "when a function in a child classoverrides a function with the same name in a\n",
    "parent class. This allows for the child class to provide its own implementation\n",
    "of the function, while still retaining the functionality of the parent class.\n",
    "\n",
    "\"\"\""
   ]
  },
  {
   "cell_type": "markdown",
   "id": "0a35823a-c23c-4516-9df0-26d7062e5936",
   "metadata": {},
   "source": [
    "Q2:- Describe the difference between compile-time polymorphism and runtime polymorphism in Python."
   ]
  },
  {
   "cell_type": "code",
   "execution_count": null,
   "id": "13b056cc-a49d-479a-8422-12a087bed37b",
   "metadata": {},
   "outputs": [],
   "source": [
    "\"\"\"\n",
    "\n",
    "--> Compile-time polymorphism is achieved through method overloading, where methods with the same name can be used\n",
    "with different parameters.\n",
    "\n",
    "--> Runtime polymorphism is achieved through method overriding, where methods with the same name can be used with\n",
    "different implementations.\n",
    "\n",
    "\"\"\""
   ]
  },
  {
   "cell_type": "markdown",
   "id": "e4a3a3f9-c1e9-4639-b915-79645ee0636a",
   "metadata": {},
   "source": [
    "Q3:- Create a Python class hierarchy for shapes (e.g., circle, square, triangle) and demonstrate polymorphism\n",
    "through a common method, such as `calculate_area()`."
   ]
  },
  {
   "cell_type": "code",
   "execution_count": 78,
   "id": "75fafc54-e2d5-4a09-a877-5cc798bde348",
   "metadata": {},
   "outputs": [
    {
     "name": "stdout",
     "output_type": "stream",
     "text": [
      "Area of the circle:-  530.66\n",
      "Area of the square:-  16\n",
      "Area of the triangle:-  42.0\n"
     ]
    }
   ],
   "source": [
    "class Shape:\n",
    "    \n",
    "    def calculate_area(self):\n",
    "        pass\n",
    "    \n",
    "class Circle(Shape):\n",
    "    def __init__(self,radius):\n",
    "        self.radius=radius\n",
    "        \n",
    "    def calculate_area(self):\n",
    "        return 3.14 * self.radius**2\n",
    "    \n",
    "class Square(Shape):\n",
    "    def __init__(self,side):\n",
    "        self.side=side\n",
    "        \n",
    "    def calculate_area(self):\n",
    "        return self.side*self.side\n",
    "    \n",
    "class Triangle(Shape):\n",
    "    \n",
    "    def __init__(self,base,height):\n",
    "        self.base=base\n",
    "        self.height=height\n",
    "        \n",
    "    def calculate_area(self):\n",
    "        return 1/2 * (self.base * self.height)\n",
    "    \n",
    "obj1=Circle(13)\n",
    "obj2=Square(4)\n",
    "obj3=Triangle(12,7)\n",
    "\n",
    "circle=obj1.calculate_area()\n",
    "square=obj2.calculate_area()\n",
    "triangle=obj3.calculate_area()\n",
    "\n",
    "print(\"Area of the circle:- \",circle)\n",
    "print(\"Area of the square:- \",square)\n",
    "print(\"Area of the triangle:- \",triangle)"
   ]
  },
  {
   "cell_type": "markdown",
   "id": "0bac1775-2be8-4d33-8ebd-0ada3d78bad6",
   "metadata": {},
   "source": [
    "Q4:- Explain the concept of method overriding in polymorphism. Provide an example."
   ]
  },
  {
   "cell_type": "code",
   "execution_count": 79,
   "id": "437ea99a-a450-4503-9adc-7116246b2687",
   "metadata": {},
   "outputs": [
    {
     "name": "stdout",
     "output_type": "stream",
     "text": [
      "Woof!\n",
      "Meow!\n"
     ]
    }
   ],
   "source": [
    "\"\"\"\n",
    "--> You can achieve Runtime polymorphism via Method Overriding. Method Overriding is done when a child or a \n",
    "subclass has a method with the same name, parameters, and return type as the parent or the superclass; then that \n",
    "function overrides the function in the superclass.\n",
    "\n",
    "\"\"\"\n",
    "\n",
    "class Animal:\n",
    "    def speak(self):\n",
    "        return \"Animal speaks\"\n",
    "\n",
    "class Dog(Animal):\n",
    "    def speak(self):\n",
    "        return \"Woof!\"\n",
    "\n",
    "class Cat(Animal):\n",
    "    def speak(self):\n",
    "        return \"Meow!\"\n",
    "\n",
    "# Create instances of Dog and Cat\n",
    "dog = Dog()\n",
    "cat = Cat()\n",
    "\n",
    "# Call the speak method on both instances\n",
    "print(dog.speak())  # Output: \"Woof!\"\n",
    "print(cat.speak())  # Output: \"Meow!\"\n",
    "\n",
    "        "
   ]
  },
  {
   "cell_type": "markdown",
   "id": "426e97e3-027a-4eee-8e4a-312e1508d1da",
   "metadata": {},
   "source": [
    "Q5:- How is polymorphism different from method overloading in Python? Provide examples for both."
   ]
  },
  {
   "cell_type": "code",
   "execution_count": 80,
   "id": "d175391d-c696-4510-94f7-32bbac75877a",
   "metadata": {},
   "outputs": [
    {
     "name": "stdout",
     "output_type": "stream",
     "text": [
      "Woof!\n",
      "Meow!\n",
      "3\n",
      "6\n"
     ]
    }
   ],
   "source": [
    "\"\"\"\n",
    "\n",
    "--> Polymorphism is the ability to have different types of objects respond to \n",
    "the same message in different ways. Method overloading is a feature of Python \n",
    "that allows you to have multiple methods with the same name, but with different\n",
    "parameters.\n",
    "\n",
    "\"\"\"\n",
    "\n",
    "# example of the polymorphism:- \n",
    "class Animal:\n",
    "    def speak(self):\n",
    "        pass\n",
    "\n",
    "class Dog(Animal):\n",
    "    def speak(self):\n",
    "        return \"Woof!\"\n",
    "\n",
    "class Cat(Animal):\n",
    "    def speak(self):\n",
    "        return \"Meow!\"\n",
    "\n",
    "# Polymorphism in action\n",
    "def animal_sound(animal):\n",
    "    return animal.speak()\n",
    "\n",
    "dog = Dog()\n",
    "cat = Cat()\n",
    "\n",
    "print(animal_sound(dog))  # Output: \"Woof!\"\n",
    "print(animal_sound(cat))  # Output: \"Meow!\"\n",
    "\n",
    "# example of the method overriding:- \n",
    "\n",
    "\n",
    "class MathOperations:\n",
    "    def add(self, a, b, c=None):\n",
    "        if c is None:\n",
    "            return a + b\n",
    "        else:\n",
    "            return a + b + c\n",
    "\n",
    "math = MathOperations()\n",
    "result1 = math.add(1, 2)  # Result: 3\n",
    "result2 = math.add(1, 2, 3)  # Result: 6\n",
    "print(result1)\n",
    "print(result2)"
   ]
  },
  {
   "cell_type": "markdown",
   "id": "ee3e1b2f-02ff-413a-b383-c099512f1380",
   "metadata": {},
   "source": [
    "Q6:- Create a Python class called `Animal` with a method `speak()`. Then, create child classes like `Dog`, `Cat`, and `Bird`, each with their own `speak()` method. Demonstrate polymorphism by calling the `speak()` method\n",
    "on objects of different subclasses."
   ]
  },
  {
   "cell_type": "code",
   "execution_count": 81,
   "id": "73983bde-3242-43de-9270-c15389ec127d",
   "metadata": {},
   "outputs": [
    {
     "name": "stdout",
     "output_type": "stream",
     "text": [
      "Woof!\n",
      "Meow!\n",
      "Chirp!\n"
     ]
    }
   ],
   "source": [
    "# Define a base class called Animal\n",
    "class Animal:\n",
    "    # Define a method called speak with a default implementation (does nothing)\n",
    "    def speak(self):\n",
    "        pass\n",
    "\n",
    "# Create a subclass Dog, inheriting from Animal\n",
    "class Dog(Animal):\n",
    "    # Override the speak method in Dog to provide a specific implementation\n",
    "    def speak(self):\n",
    "        return \"Woof!\"\n",
    "\n",
    "# Create a subclass Cat, inheriting from Animal\n",
    "class Cat(Animal):\n",
    "    # Override the speak method in Cat to provide a specific implementation\n",
    "    def speak(self):\n",
    "        return \"Meow!\"\n",
    "\n",
    "# Create a subclass Bird, inheriting from Animal\n",
    "class Bird(Animal):\n",
    "    # Override the speak method in Bird to provide a specific implementation\n",
    "    def speak(self):\n",
    "        return \"Chirp!\"\n",
    "\n",
    "# Define a function animal_sounds that takes a list of animals as input\n",
    "def animal_sounds(animals):\n",
    "    # Iterate over the list of animals\n",
    "    for animal in animals:\n",
    "        # Call the speak method on each animal and print the result\n",
    "        print(animal.speak())\n",
    "\n",
    "# Create instances of Dog, Cat, and Bird\n",
    "dog = Dog()\n",
    "cat = Cat()\n",
    "bird = Bird()\n",
    "\n",
    "# Call the animal_sounds function with a list of different animal objects\n",
    "animal_sounds([dog, cat, bird])\n"
   ]
  },
  {
   "cell_type": "markdown",
   "id": "d45bce52-c236-4a4f-aa09-efeb3e804fdb",
   "metadata": {},
   "source": [
    "Q7. Discuss the use of abstract methods and classes in achieving polymorphism in Python. Provide an example\n",
    "using the `abc` module."
   ]
  },
  {
   "cell_type": "code",
   "execution_count": 82,
   "id": "3ac606ee-8af2-4532-93ca-eb0a03c7ce21",
   "metadata": {},
   "outputs": [
    {
     "name": "stdout",
     "output_type": "stream",
     "text": [
      "Woof!\n",
      "Meow!\n"
     ]
    }
   ],
   "source": [
    "\"\"\"\n",
    "\n",
    "--> Polymorphism is the ability of an object to take on many forms. In Python, polymorphism is achieved through\n",
    "the use of abstract methods and classes.\n",
    "\n",
    "--> An abstract method is a method that is declared in a class but is not implemented. Abstract methods are used\n",
    "to force subclasses to implement their own version of the method.\n",
    "\n",
    "\"\"\"\n",
    "\n",
    "# for example:\n",
    "\n",
    "from abc import ABC , abstractmethod\n",
    "\n",
    "class Animal(ABC):\n",
    "    @abstractmethod\n",
    "    def make_sound(self):\n",
    "        pass\n",
    "    \n",
    "class Dog(Animal):\n",
    "    \n",
    "    def make_sound(self):\n",
    "        return \"Woof!\"\n",
    "    \n",
    "class Cat(Animal):\n",
    "    \n",
    "    def make_sound(self):\n",
    "        return \"Meow!\"\n",
    "    \n",
    "dog=Dog()\n",
    "cat=Cat()\n",
    "\n",
    "print(dog.make_sound())\n",
    "print(cat.make_sound())"
   ]
  },
  {
   "cell_type": "markdown",
   "id": "aeb00168-4241-4e36-bbcf-202cac41b81b",
   "metadata": {},
   "source": [
    "Q8:- Create a Python class hierarchy for a vehicle system (e.g., car, bicycle, boat) and implement a polymorphic `start()` method that prints a message specific to each vehicle type."
   ]
  },
  {
   "cell_type": "code",
   "execution_count": 83,
   "id": "b21e18ea-0d28-4e52-b73b-d68df68c2798",
   "metadata": {},
   "outputs": [
    {
     "name": "stdout",
     "output_type": "stream",
     "text": [
      "Car engine started. Ready to go!\n",
      "Pedal power! Bicycle started.\n",
      "Boat engine started. Setting sail!\n"
     ]
    }
   ],
   "source": [
    "class Vehicle:\n",
    "    def start(self):\n",
    "        pass\n",
    "\n",
    "class Car(Vehicle):\n",
    "    def start(self):\n",
    "        return \"Car engine started. Ready to go!\"\n",
    "\n",
    "class Bicycle(Vehicle):\n",
    "    def start(self):\n",
    "        return \"Pedal power! Bicycle started.\"\n",
    "\n",
    "class Boat(Vehicle):\n",
    "    def start(self):\n",
    "        return \"Boat engine started. Setting sail!\"\n",
    "\n",
    "# Demonstrate polymorphism\n",
    "def start_vehicle(vehicle):\n",
    "    print(vehicle.start())\n",
    "\n",
    "# Create instances of Car, Bicycle, and Boat\n",
    "car = Car()\n",
    "bicycle = Bicycle()\n",
    "boat = Boat()\n",
    "\n",
    "# Call the start method on objects of different vehicle types\n",
    "start_vehicle(car)\n",
    "start_vehicle(bicycle)\n",
    "start_vehicle(boat)\n"
   ]
  },
  {
   "cell_type": "markdown",
   "id": "3f083d31-ee3a-4dae-9922-c64e61c9944e",
   "metadata": {},
   "source": [
    "Q9:- Explain the significance of the `isinstance()` and `issubclass()` functions in Python polymorphism."
   ]
  },
  {
   "cell_type": "code",
   "execution_count": null,
   "id": "a581cbf1-24f9-4134-b1ee-c84588a2cfa6",
   "metadata": {},
   "outputs": [],
   "source": [
    "\"\"\"\n",
    "--> The isinstance() and issubclass() functions are both used in Python to determine the relationship between two\n",
    "classes. The isinstance() function checks whether an object is an instance of a class or a tuple of classes. The\n",
    "issubclass() function checks whether one class is a subclass of another class.\n",
    "\n",
    "--> The isinstance() and issubclass() functions are powerful tools that can be used to manipulate objects and \n",
    "classes in Python. They are essential for working with polymorphism in Python.\n",
    "\n",
    "\"\"\"\n",
    "\n"
   ]
  },
  {
   "cell_type": "markdown",
   "id": "2dc0766a-a2a8-41cf-aef4-9c61809108c3",
   "metadata": {},
   "source": [
    "Q10:- What is the role of the `@abstractmethod` decorator in achieving polymorphism in Python? Provide an\n",
    "example."
   ]
  },
  {
   "cell_type": "code",
   "execution_count": 84,
   "id": "8acee8ad-7c21-48a6-85c8-7ee9920f4491",
   "metadata": {},
   "outputs": [
    {
     "name": "stdout",
     "output_type": "stream",
     "text": [
      "Woof!\n",
      "Meow!\n"
     ]
    }
   ],
   "source": [
    "\"\"\"\n",
    "\n",
    "--> The @abstractmethod decorator is part of Python's abc (Abstract Base Classes) module and is used to define \n",
    "abstract methods within abstract classes. Abstract methods are methods that are declared in a base class but have\n",
    "no implementation. They serve as a contract or a blueprint for subclasses, indicating that any concrete subclass \n",
    "must provide an implementation for these abstract methods.\n",
    "\n",
    "\"\"\"\n",
    "\n",
    "# for example:\n",
    "\n",
    "from abc import ABC , abstractmethod\n",
    "\n",
    "class Animal(ABC):\n",
    "    \n",
    "    @abstractmethod\n",
    "    def speak(self):\n",
    "        pass\n",
    "    \n",
    "class Dog(Animal):\n",
    "    \n",
    "    def speak(self):\n",
    "        return \"Woof!\"\n",
    "    \n",
    "class Cat(Animal):\n",
    "    def speak(self):\n",
    "        return \"Meow!\"\n",
    "    \n",
    "dog=Dog()\n",
    "cat=Cat()\n",
    "\n",
    "print(dog.speak())\n",
    "print(cat.speak())"
   ]
  },
  {
   "cell_type": "markdown",
   "id": "657ebb79-5861-4049-b6b4-a268faa2811f",
   "metadata": {},
   "source": [
    "Q11:- Create a Python class called `Shape` with a polymorphic method `area()` that calculates the area of different shapes (e.g., circle, rectangle, triangle)."
   ]
  },
  {
   "cell_type": "code",
   "execution_count": 85,
   "id": "a1aeefb3-91c7-4ef3-b8d4-5df007a5d9ec",
   "metadata": {},
   "outputs": [
    {
     "name": "stdout",
     "output_type": "stream",
     "text": [
      "Area of the shape: 78.53981633974483\n",
      "Area of the shape: 24\n",
      "Area of the shape: 6.0\n"
     ]
    }
   ],
   "source": [
    "import math\n",
    "\n",
    "class Shape:\n",
    "    def area(self):\n",
    "        pass\n",
    "\n",
    "class Circle(Shape):\n",
    "    def __init__(self, radius):\n",
    "        self.radius = radius\n",
    "\n",
    "    def area(self):\n",
    "        return math.pi * (self.radius ** 2)\n",
    "\n",
    "class Rectangle(Shape):\n",
    "    def __init__(self, width, height):\n",
    "        self.width = width\n",
    "        self.height = height\n",
    "\n",
    "    def area(self):\n",
    "        return self.width * self.height\n",
    "\n",
    "class Triangle(Shape):\n",
    "    def __init__(self, base, height):\n",
    "        self.base = base\n",
    "        self.height = height\n",
    "\n",
    "    def area(self):\n",
    "        return 0.5 * self.base * self.height\n",
    "\n",
    "# Demonstrate polymorphism\n",
    "shapes = [Circle(5), Rectangle(4, 6), Triangle(3, 4)]\n",
    "names=[\"circle\",\"rectangle\",\"triangle\"]\n",
    "\n",
    "for shape in shapes:\n",
    "        print(f\"Area of the shape: {shape.area()}\")\n"
   ]
  },
  {
   "cell_type": "markdown",
   "id": "b40aa785-fba3-4dcb-b1a0-896803c979f1",
   "metadata": {},
   "source": [
    "Q12:-Discuss the benefits of polymorphism in terms of code reusability and flexibility in Python programs."
   ]
  },
  {
   "cell_type": "code",
   "execution_count": null,
   "id": "9fc759c9-7dea-470c-b7f9-c45b409ddd70",
   "metadata": {},
   "outputs": [],
   "source": [
    "\"\"\"\n",
    "\n",
    "--> Code reusability:\n",
    "Polymorphism allows you to write code that can be used with different types of objects without having to rewrite \n",
    "the code for each type of object. This can save you a lot of time and effort, and it can also make your code more\n",
    "maintainable.\n",
    "\n",
    "--> Flexibility:\n",
    "Polymorphism allows you to create code that is more flexible and adaptable to change. This is because you can\n",
    "easily add new subclasses or modify existing ones without having to change the code that uses them.\n",
    "\n",
    "--> Readability:\n",
    "Polymorphism can make your code more readable by allowing you to use a common interface for different types of\n",
    "objects. This can make it easier for other programmers to understand your code and to use it in their own programs.\n",
    "\n",
    "\"\"\""
   ]
  },
  {
   "cell_type": "markdown",
   "id": "314ff086-1c31-4123-9cfd-c914c8e90770",
   "metadata": {},
   "source": [
    "Q13:- Explain the use of the `super()` function in Python polymorphism. How does it help call methods of parent classes?"
   ]
  },
  {
   "cell_type": "code",
   "execution_count": 86,
   "id": "e8dc727a-8c76-40af-a9cd-8548ef576c82",
   "metadata": {},
   "outputs": [
    {
     "name": "stdout",
     "output_type": "stream",
     "text": [
      "Child says: Hello from parent class\n"
     ]
    }
   ],
   "source": [
    "\"\"\"\n",
    "--> The super() function in Python is used to call methods and access attributes of a parent or superclass within\n",
    "a subclass. It plays a crucial role in achieving polymorphism, allowing you to invoke methods of parent classes\n",
    "and extend or override their behavior in a child class.\n",
    "\n",
    "\"\"\"\n",
    "\n",
    "# for example:\n",
    "\n",
    "class Parent:\n",
    "    \n",
    "    def greet(self):\n",
    "        return \"Hello from parent class\"\n",
    "    \n",
    "class Child(Parent):\n",
    "    \n",
    "    def greet(self):\n",
    "        \n",
    "        parent_greet=super().greet()\n",
    "        return f\"Child says: {parent_greet}\"\n",
    "    \n",
    "obj=Child()\n",
    "print(obj.greet())"
   ]
  },
  {
   "cell_type": "markdown",
   "id": "537e6b52-5e03-480e-869b-f27e49ad02ea",
   "metadata": {},
   "source": [
    "Q14. Create a Python class hierarchy for a banking system with various account types (e.g., savings, checking, credit card) and demonstrate polymorphism by implementing a common `withdraw()` method. \n"
   ]
  },
  {
   "cell_type": "code",
   "execution_count": 87,
   "id": "b3ed3785-bd09-4fe8-a375-b4534848ca20",
   "metadata": {},
   "outputs": [
    {
     "name": "stdout",
     "output_type": "stream",
     "text": [
      "Withdrawal of 500 successful. Remaining balance: 500\n",
      "Withdrawal of 500 successful. Remaining balance: 1500\n",
      "Amount 1000 credited to your credit card. Current balance: 6000\n"
     ]
    }
   ],
   "source": [
    "class Account:\n",
    "    def __init__(self, account_number, balance):\n",
    "        self.account_number = account_number\n",
    "        self.balance = balance\n",
    "\n",
    "    def withdraw(self, amount):\n",
    "        pass\n",
    "\n",
    "class SavingsAccount(Account):\n",
    "    def withdraw(self, amount):\n",
    "        if amount <= self.balance:\n",
    "            self.balance -= amount\n",
    "            return f\"Withdrawal of {amount} successful. Remaining balance: {self.balance}\"\n",
    "        else:\n",
    "            return \"Insufficient balance for withdrawal.\"\n",
    "\n",
    "class CheckingAccount(Account):\n",
    "    def withdraw(self, amount):\n",
    "        if amount <= self.balance:\n",
    "            self.balance -= amount\n",
    "            return f\"Withdrawal of {amount} successful. Remaining balance: {self.balance}\"\n",
    "        else:\n",
    "            return \"Insufficient balance for withdrawal.\"\n",
    "\n",
    "class CreditCardAccount(Account):\n",
    "    def withdraw(self, amount):\n",
    "        # For credit card accounts, consider withdrawals as balance additions\n",
    "        self.balance += amount\n",
    "        return f\"Amount {amount} credited to your credit card. Current balance: {self.balance}\"\n",
    "\n",
    "# Demonstrate polymorphism\n",
    "accounts = [SavingsAccount(\"SA001\", 1000), CheckingAccount(\"CA001\", 2000), CreditCardAccount(\"CC001\", 5000)]\n",
    "\n",
    "for account in accounts:\n",
    "    if isinstance(account, CreditCardAccount):\n",
    "        print(account.withdraw(1000))  # Demonstrate credit card withdrawal\n",
    "    else:\n",
    "        print(account.withdraw(500))   # Demonstrate regular account withdrawal\n"
   ]
  },
  {
   "cell_type": "markdown",
   "id": "ba4f4319-3d1b-417c-915e-10cb7e05bee9",
   "metadata": {},
   "source": [
    "Q15:- Describe the concept of operator overloading in Python and how it relates to polymorphism. Provide\n",
    "examples using operators like `+` and `*`."
   ]
  },
  {
   "cell_type": "code",
   "execution_count": 88,
   "id": "77453fb3-ee88-4982-b9c8-2f0f14336e12",
   "metadata": {},
   "outputs": [
    {
     "name": "stdout",
     "output_type": "stream",
     "text": [
      "12 + 24i\n",
      "(10, 15)\n"
     ]
    }
   ],
   "source": [
    "\"\"\"\n",
    "\n",
    "--> Operator overloading is a feature in Python that allows you to redefine the behavior of certain operators\n",
    "(such as +, -, *, /, ==, etc.) for objects of your own classes.Operator overloading is closely related to \n",
    "polymorphism, as it allows objects of different classes to respond to the same operator in their own specific ways,\n",
    "making your code more intuitive and expressive.\n",
    "\"\"\"\n",
    "\n",
    "# for example Operator Overloading with +:\n",
    "\n",
    "class ComplexNumber:\n",
    "    \n",
    "    def __init__(self,real,imaginary):\n",
    "        self.real=real\n",
    "        self.imaginary=imaginary\n",
    "        \n",
    "    def __add__(self,other):\n",
    "        real_part=self.real+other.real\n",
    "        img_part=self.imaginary+other.imaginary\n",
    "        \n",
    "        return ComplexNumber(real_part,img_part)\n",
    "    \n",
    "    \n",
    "    def __str__(self):\n",
    "        \n",
    "        return f\"{self.real} + {self.imaginary}i\"\n",
    "    \n",
    "c1=ComplexNumber(10,20)\n",
    "c2=ComplexNumber(2,4)\n",
    "        \n",
    "result=c1+c2\n",
    "print(result)\n",
    "    \n",
    "# example of Operator Overloading with *:\n",
    "\n",
    "class Vector:\n",
    "    def __init__(self, x, y):\n",
    "        self.x = x\n",
    "        self.y = y\n",
    "\n",
    "    def __mul__(self, scalar):\n",
    "        return Vector(self.x * scalar, self.y * scalar)\n",
    "\n",
    "    def __str__(self):\n",
    "        return f\"({self.x}, {self.y})\"\n",
    "\n",
    "# Create a vector\n",
    "v = Vector(2, 3)\n",
    "\n",
    "# Use the * operator with custom behavior\n",
    "result = v * 5\n",
    "print(result)  # Output: (10, 15)\n"
   ]
  },
  {
   "cell_type": "markdown",
   "id": "4d0fae80-8b01-417e-a8db-c5159185aad9",
   "metadata": {},
   "source": [
    "Q16:-What is dynamic polymorphism, and how is it achieved in Python?"
   ]
  },
  {
   "cell_type": "code",
   "execution_count": 89,
   "id": "82600d4e-9836-454a-9e3d-ab24772d8152",
   "metadata": {},
   "outputs": [
    {
     "name": "stdout",
     "output_type": "stream",
     "text": [
      "Woof!\n",
      "Meow!\n"
     ]
    }
   ],
   "source": [
    "\"\"\"\n",
    "\n",
    "--> Dynamic polymorphism is a feature of object-oriented programming that allows for different types of objects\n",
    "to be treated in a similar way. This is achieved by using a common interface that all of the objects can implement.\n",
    "In Python, dynamic polymorphism is implemented through the use of inheritance and method overriding.\n",
    "\n",
    "\"\"\"\n",
    "\n",
    "# for example:- \n",
    "\n",
    "class Animal:\n",
    "    def make_sound(self):\n",
    "        pass\n",
    "\n",
    "class Dog(Animal):\n",
    "    def make_sound(self):\n",
    "        print(\"Woof!\")\n",
    "\n",
    "class Cat(Animal):\n",
    "    def make_sound(self):\n",
    "        print(\"Meow!\")\n",
    "\n",
    "def make_sound(animal):\n",
    "    animal.make_sound()\n",
    "\n",
    "dog = Dog()\n",
    "cat = Cat()\n",
    "\n",
    "make_sound(dog)\n",
    "make_sound(cat)"
   ]
  },
  {
   "cell_type": "markdown",
   "id": "e683a826-66f5-4507-82f1-483ef9f02a07",
   "metadata": {},
   "source": [
    "Q17:- Create a Python class hierarchy for employees in a company (e.g., manager, developer, designer) and implement polymorphism through a common `calculate_salary()` method."
   ]
  },
  {
   "cell_type": "code",
   "execution_count": 90,
   "id": "5748b7a9-7120-465f-ba74-a10f984da130",
   "metadata": {},
   "outputs": [
    {
     "name": "stdout",
     "output_type": "stream",
     "text": [
      "Alice (ID: 101) - Salary: 60000\n",
      "Bob (ID: 102) - Salary: 62000\n",
      "Carol (ID: 103) - Salary: 60000\n"
     ]
    }
   ],
   "source": [
    "class Employee:\n",
    "    def __init__(self, name, employee_id, base_salary):\n",
    "        self.name = name\n",
    "        self.employee_id = employee_id\n",
    "        self.base_salary = base_salary\n",
    "\n",
    "    def calculate_salary(self):\n",
    "        return self.base_salary\n",
    "\n",
    "class Manager(Employee):\n",
    "    def __init__(self, name, employee_id, base_salary, bonus):\n",
    "        super().__init__(name, employee_id, base_salary)\n",
    "        self.bonus = bonus\n",
    "\n",
    "    def calculate_salary(self):\n",
    "        return self.base_salary + self.bonus\n",
    "\n",
    "class Developer(Employee):\n",
    "    def __init__(self, name, employee_id, base_salary, coding_languages):\n",
    "        super().__init__(name, employee_id, base_salary)\n",
    "        self.coding_languages = coding_languages\n",
    "\n",
    "    def calculate_salary(self):\n",
    "        return self.base_salary + (len(self.coding_languages) * 1000)\n",
    "\n",
    "class Designer(Employee):\n",
    "    def __init__(self, name, employee_id, base_salary, projects_completed):\n",
    "        super().__init__(name, employee_id, base_salary)\n",
    "        self.projects_completed = projects_completed\n",
    "\n",
    "    def calculate_salary(self):\n",
    "        return self.base_salary + (self.projects_completed * 500)\n",
    "\n",
    "# Demonstrate polymorphism\n",
    "employees = [\n",
    "    Manager(\"Alice\", 101, 50000, 10000),\n",
    "    Developer(\"Bob\", 102, 60000, [\"Python\", \"JavaScript\"]),\n",
    "    Designer(\"Carol\", 103, 55000, 10)\n",
    "]\n",
    "\n",
    "for employee in employees:\n",
    "    print(f\"{employee.name} (ID: {employee.employee_id}) - Salary: {employee.calculate_salary()}\")\n"
   ]
  },
  {
   "cell_type": "markdown",
   "id": "dbbd095c-8e1e-46e4-be9f-9e5f1682c97a",
   "metadata": {},
   "source": [
    "Q18:- Discuss the concept of function pointers and how they can be used to achieve polymorphism in Python."
   ]
  },
  {
   "cell_type": "code",
   "execution_count": 91,
   "id": "1fd47852-ac45-4be9-8fc8-d241b0979f1b",
   "metadata": {},
   "outputs": [
    {
     "name": "stdout",
     "output_type": "stream",
     "text": [
      "15\n",
      "50\n",
      "5\n",
      "2.0\n"
     ]
    }
   ],
   "source": [
    "\"\"\"\n",
    "\n",
    "--> In computer programming, a function pointer is a variable that holds the address of a function. This address \n",
    "can then be used to call the function. Function pointers are often used in conjunction with polymorphism, which \n",
    "is the ability to use a single name to refer to multiple functions.\n",
    "\n",
    "--> Polymorphism can be implemented in a number of ways, but one common approach is to use function pointers.\n",
    "For example, a function pointer can be used to create a generic function that can be used to process different \n",
    "types of data. The function would take a function pointer as an argument, and the function pointer would be used \n",
    "to call the appropriate function for the type of data being processed.\n",
    "\n",
    "\"\"\"\n",
    "\n",
    "# for example:\n",
    "\n",
    "\n",
    "# Define four functions for basic arithmetic operations\n",
    "def add(x, y):\n",
    "    return x + y\n",
    "\n",
    "def mult(x, y):\n",
    "    return x * y\n",
    "\n",
    "def sub(x, y):\n",
    "    return x - y\n",
    "\n",
    "def div(x, y):\n",
    "    return x / y\n",
    "\n",
    "# Create a list called 'functions' containing references to these functions\n",
    "functions = [add, mult, sub, div]\n",
    "\n",
    "# Iterate over the 'functions' list and call each function with the arguments (10, 5)\n",
    "for function in functions:\n",
    "    result = function(10, 5)\n",
    "    print(result)\n"
   ]
  },
  {
   "cell_type": "markdown",
   "id": "ca3ca27d-08e0-4b60-971c-baacdf2f8a55",
   "metadata": {},
   "source": [
    "Q19:- Explain the role of interfaces and abstract classes in polymorphism, drawing comparisons between them."
   ]
  },
  {
   "cell_type": "code",
   "execution_count": null,
   "id": "c9ded7ee-4a17-4686-abb2-ebd26d268ec3",
   "metadata": {},
   "outputs": [],
   "source": [
    "\"\"\"\n",
    "\n",
    "--> Abstract classes are classes that cannot be instantiated. They are used to provide a blueprint for other \n",
    "classes to inherit from. Abstract classes can have both abstract and concrete methods. Abstract methods are\n",
    "methods that are declared but not implemented. Concrete methods are methods that are implemented.\n",
    "\n",
    "--> Interfaces are similar to abstract classes, but they are more restrictive. Interfaces can only have abstract\n",
    "methods. This means that they cannot have any concrete methods. Interfaces are used to define a set of methods \n",
    "that must be implemented by any class that implements the interface.\n",
    "\n",
    "--> In Python, interfaces are implemented using the abc module. The abc module provides a way to create abstract\n",
    "classes and interfaces. To create an interface, you use the abstractmethod decorator. The abstractmethod decorator\n",
    "indicates that a method is abstract.\n",
    "\n",
    "--> To create an abstract class, you inherit from the abc.ABC class. The abc.ABC class provides a number of \n",
    "methods that must be implemented by any class that inherits from it.\n",
    "\n",
    "\"\"\""
   ]
  },
  {
   "cell_type": "markdown",
   "id": "8c3b5443-8178-4673-baa1-3dcc136c0761",
   "metadata": {},
   "source": [
    "Q20:- Create a Python class for a zoo simulation, demonstrating polymorphism with different animal types (e.g., mammals, birds, reptiles) and their behavior (e.g., eating, sleeping, making sounds)."
   ]
  },
  {
   "cell_type": "code",
   "execution_count": 92,
   "id": "16a58074-781d-46f2-8a12-8575e3f842fa",
   "metadata": {},
   "outputs": [
    {
     "name": "stdout",
     "output_type": "stream",
     "text": [
      "Lion is eating\n",
      "Lion is sleeping\n",
      "Lion is making the sound\n",
      "Eagle is eating\n",
      "Eagle is sleeping\n",
      "Eagle is making the sound\n",
      "Snake is eating\n",
      "Snake is sleeping\n",
      "Snake is making the sound\n"
     ]
    }
   ],
   "source": [
    "class Animal:\n",
    "    \n",
    "    def __init__(self,name):\n",
    "        self.name=name\n",
    "        \n",
    "    def eat(self):\n",
    "        pass\n",
    "    \n",
    "    def sleep(self):\n",
    "        pass\n",
    "    \n",
    "    def make_sound(self):\n",
    "        pass\n",
    "    \n",
    "class Mammals(Animal):\n",
    "    \n",
    "    def eat(self):\n",
    "        return f\"{self.name} is eating\"\n",
    "    \n",
    "    def sleep(self):\n",
    "        return f\"{self.name} is sleeping\"\n",
    "    \n",
    "    def make_sound(self):\n",
    "        return f\"{self.name} is making the sound\"\n",
    "    \n",
    "\n",
    "class Birds(Animal):\n",
    "    \n",
    "    def eat(self):\n",
    "        return f\"{self.name} is eating\"\n",
    "    \n",
    "    def sleep(self):\n",
    "        return f\"{self.name} is sleeping\"\n",
    "    \n",
    "    def make_sound(self):\n",
    "        return f\"{self.name} is making the sound\"\n",
    "    \n",
    "    \n",
    "class Reptiles(Animal):\n",
    "    \n",
    "    def eat(self):\n",
    "        return f\"{self.name} is eating\"\n",
    "    \n",
    "    def sleep(self):\n",
    "        return f\"{self.name} is sleeping\"\n",
    "    \n",
    "    def make_sound(self):\n",
    "        return f\"{self.name} is making the sound\"\n",
    "    \n",
    "zoo=[Mammals(\"Lion\"),\n",
    "     Birds(\"Eagle\"),\n",
    "     Reptiles(\"Snake\")\n",
    "    ]\n",
    "\n",
    "for animal in zoo:\n",
    "    print(animal.eat())\n",
    "    print(animal.sleep())\n",
    "    print(animal.make_sound())"
   ]
  },
  {
   "cell_type": "markdown",
   "id": "c10a75b6-2a93-4109-9c46-bc2f81277325",
   "metadata": {},
   "source": [
    "Abstraction:- "
   ]
  },
  {
   "cell_type": "markdown",
   "id": "6bef9801-d212-4032-a183-0d157a7df24d",
   "metadata": {},
   "source": [
    "Q1:- What is abstraction in Python, and how does it relate to object-oriented programming?"
   ]
  },
  {
   "cell_type": "code",
   "execution_count": null,
   "id": "093414f2-4d5c-4412-82f0-e59a367900f0",
   "metadata": {},
   "outputs": [],
   "source": [
    "\"\"\"\n",
    "\n",
    "--> Abstraction in Python is a process of hiding unnecessary information from the user. This can be done by using\n",
    "abstract classes, interfaces, or modules. Abstraction is one of the key concepts of object-oriented programming \n",
    "(OOP), which is a programming paradigm that allows programmers to create objects that have their own data and \n",
    "behavior.\n",
    "\n",
    "--> Abstraction can be implemented in Python using a variety of methods, including:\n",
    "\n",
    "--> Abstract classes:\n",
    "An abstract class is a class that cannot be instantiated. Abstract classes are used to define the common behavior\n",
    "of a group of classes.\n",
    "\n",
    "--> Interfaces:\n",
    "An interface is a set of methods that must be implemented by any class that wants to comply with the interface.\n",
    "Interfaces are used to define the functionality of a group of classes.\n",
    "\n",
    "--> Modules:\n",
    "A module is a file that contains a collection of Python code. Modules are used to encapsulate functionality and \n",
    "make it available to other modules.\n",
    "\n",
    "\"\"\"\n"
   ]
  },
  {
   "cell_type": "markdown",
   "id": "ff40126b-6648-4fa6-9821-bfa7c69b0d74",
   "metadata": {},
   "source": [
    "Q2:- Describe the benefits of abstraction in terms of code organization and complexity reduction."
   ]
  },
  {
   "cell_type": "code",
   "execution_count": null,
   "id": "bb4ba6ae-1f46-479a-a6b7-a92a4b1e31c9",
   "metadata": {},
   "outputs": [],
   "source": [
    "\"\"\"\n",
    "\n",
    "--> Hiding unnecessary details.\n",
    "\n",
    "--> Providing a common path for multiple pieces of code\n",
    "\n",
    "--> Conveying intent rather than implementation\n",
    "\n",
    "--> Simplifying complex concepts\n",
    "\n",
    "--> Making it easier for programmers to understand the code structure\n",
    "\n",
    "--> Shifting focus from implementation details\n",
    "\n",
    "--> Avoiding writing low-level code\n",
    "\n",
    "--> Increasing code reusability, maintainability, and flexibility\n",
    "\n",
    "--> Increasing security of an application or program\n",
    "\n",
    "--> Avoiding code duplication\n",
    "\n",
    "--> Changing internal implementation of class independently without affecting the user\n",
    "\n",
    "\n",
    "\"\"\""
   ]
  },
  {
   "cell_type": "markdown",
   "id": "608d94bd-33d8-4058-8f6e-8bac06177b2b",
   "metadata": {},
   "source": [
    "Q3:- Create a Python class called `Shape` with an abstract method `calculate_area()`. Then, create child classes (e.g., `Circle`, `Rectangle`) that implement the `calculate_area()` method. Provide an example of\n",
    "using these classes."
   ]
  },
  {
   "cell_type": "code",
   "execution_count": 93,
   "id": "e47362f9-b8ca-4ff3-82cd-edbe027af557",
   "metadata": {},
   "outputs": [
    {
     "name": "stdout",
     "output_type": "stream",
     "text": [
      "Area of the circle:- 452.16\n",
      "Area of the rectangle:- 119\n"
     ]
    }
   ],
   "source": [
    "from abc import ABC , abstractmethod\n",
    "\n",
    "class Shape(ABC):\n",
    "    \n",
    "    @abstractmethod\n",
    "    def calculate_area(self):\n",
    "        pass\n",
    "    \n",
    "class Circle(Shape):\n",
    "    \n",
    "    def __init__(self,radius):\n",
    "        self.radius=radius\n",
    "        \n",
    "    def calculate_area(self):\n",
    "        return 3.14 * self.radius**2\n",
    "    \n",
    "class Rectangle(Shape):\n",
    "    \n",
    "    def __init__(self,length,width):\n",
    "        self.length=length\n",
    "        self.width=width\n",
    "        \n",
    "    def calculate_area(self):\n",
    "        return self.length*self.width\n",
    "    \n",
    "circle=Circle(12)\n",
    "rectangle=Rectangle(7,17)\n",
    "\n",
    "print(f\"Area of the circle:- {circle.calculate_area()}\")\n",
    "print(f\"Area of the rectangle:- {rectangle.calculate_area()}\")"
   ]
  },
  {
   "cell_type": "markdown",
   "id": "8521f361-742a-4767-b774-85613feaaeb7",
   "metadata": {},
   "source": [
    "Q4:- Explain the concept of abstract classes in Python and how they are defined using the `abc` module. Provide\n",
    "an example."
   ]
  },
  {
   "cell_type": "code",
   "execution_count": 94,
   "id": "e65aea88-e580-41ed-8961-90a33af731eb",
   "metadata": {},
   "outputs": [
    {
     "name": "stdout",
     "output_type": "stream",
     "text": [
      "Wooh!\n",
      "Meow!\n"
     ]
    }
   ],
   "source": [
    "\"\"\"\n",
    "--> Abstract classes are a feature of object-oriented programming that allow you to define a set of common methods\n",
    "and properties that must be implemented by any class that inherits from it. This can be useful for ensuring that \n",
    "all of your classes have a consistent behavior, or for providing a common interface that can be used by other \n",
    "classes to interact with them.\n",
    "\n",
    "--> To define an abstract class in Python, you can use the abc module, which provides a number of tools for \n",
    "creating and managing abstract classes.\n",
    "\n",
    "\"\"\"\n",
    "\n",
    "# for example:-- \n",
    "from abc import ABC , abstractmethod\n",
    "class Animal(ABC):\n",
    "    @abstractmethod\n",
    "    def speak(self):\n",
    "        pass\n",
    "    \n",
    "class  Dog(Animal):\n",
    "    \n",
    "    def speak(self):\n",
    "        return \"Wooh!\"\n",
    "    \n",
    "    \n",
    "class Cat(Animal):\n",
    "    \n",
    "    def speak(self):\n",
    "        return \"Meow!\"\n",
    "    \n",
    "dog=Dog()\n",
    "cat=Cat()\n",
    "\n",
    "print(dog.speak())\n",
    "print(cat.speak())"
   ]
  },
  {
   "cell_type": "markdown",
   "id": "95048b73-a709-44c5-b72c-e3ef5aa289d5",
   "metadata": {},
   "source": [
    "Q5:- How do abstract classes differ from regular classes in Python? Discuss their use cases."
   ]
  },
  {
   "cell_type": "code",
   "execution_count": null,
   "id": "ded208b8-90cf-44ae-a3f8-70f58aaca258",
   "metadata": {},
   "outputs": [],
   "source": [
    "\"\"\"\n",
    "\n",
    "--> Abstract classes in Python are classes that cannot be instantiated, but can be used as a blueprint for other\n",
    "classes. Abstract classes contain one or more abstract methods, which are methods that have been declared but not\n",
    "implemented. Regular classes in Python can be instantiated and have zero or more methods, which are implemented.\n",
    "\n",
    "--> Abstract classes are used when you want to create a common structure and set of methods for a group of related \n",
    "classes, ensuring that all subclasses implement a specific set of methods. They are especially useful in cases\n",
    "where you want to create a hierarchy of classes with shared behaviors but where the specific implementation of\n",
    "those behaviors may differ.\n",
    "\n",
    "-->  Regular classes are used to create objects and provide specific implementations for methods. They are \n",
    "typically used for defining concrete objects and their behaviors.\n",
    "\n",
    "\n",
    "\"\"\""
   ]
  },
  {
   "cell_type": "markdown",
   "id": "c6ed3134-2a98-4f76-9325-ebdddaf53288",
   "metadata": {},
   "source": [
    "Q6:- Create a Python class for a bank account and demonstrate abstraction by hiding the account balance and\n",
    "providing methods to deposit and withdraw funds."
   ]
  },
  {
   "cell_type": "code",
   "execution_count": 95,
   "id": "d21af120-5826-466e-bd40-ab6bd5712398",
   "metadata": {},
   "outputs": [
    {
     "name": "stdout",
     "output_type": "stream",
     "text": [
      "New balance: 1500\n"
     ]
    }
   ],
   "source": [
    "class BankAccount:\n",
    "    def __init__(self, account_number, balance):\n",
    "        self._account_number = account_number  # Encapsulation: Protecting data with \"_\"\n",
    "        self._balance = balance\n",
    "\n",
    "    def deposit(self, amount):\n",
    "        if amount > 0:\n",
    "            self._balance += amount\n",
    "\n",
    "    def withdraw(self, amount):\n",
    "        if amount > 0 and self._balance >= amount:\n",
    "            self._balance -= amount\n",
    "\n",
    "    def get_balance(self):\n",
    "        return self._balance\n",
    "\n",
    "# Example of abstraction\n",
    "def make_transaction(account, amount):\n",
    "    account.deposit(amount)  # Abstraction: Hiding the implementation details\n",
    "    print(f\"New balance: {account.get_balance()}\")\n",
    "\n",
    "# Usage\n",
    "account1 = BankAccount(\"12345\", 1000)\n",
    "make_transaction(account1, 500)\n"
   ]
  },
  {
   "cell_type": "markdown",
   "id": "b2cfb5a0-d7cc-479b-bc6a-c7a11c7b20cc",
   "metadata": {},
   "source": [
    "Q7:- Discuss the concept of interface classes in Python and their role in achieving abstraction."
   ]
  },
  {
   "cell_type": "code",
   "execution_count": 96,
   "id": "d0660210-f0f6-4220-a057-12a476a24b85",
   "metadata": {},
   "outputs": [
    {
     "name": "stdout",
     "output_type": "stream",
     "text": [
      "Wooh!\n",
      "Meow!\n"
     ]
    }
   ],
   "source": [
    "\"\"\"\n",
    "\n",
    "--> In Python, interface classes are a way to define a set of methods that must be implemented by any class that \n",
    "wants to comply with the interface. This is used to achieve abstraction, which means that the details of how a \n",
    "class works can be hidden from the user.\n",
    "\n",
    "\"\"\"\n",
    "\n",
    "# for example:-\n",
    "\n",
    "class Animal(ABC):\n",
    "    @abstractmethod\n",
    "    def speak(self):\n",
    "        pass\n",
    "    \n",
    "class Dog(Animal):\n",
    "    \n",
    "    def speak(self):\n",
    "        return \"Wooh!\"\n",
    "    \n",
    "class Cat(Animal):\n",
    "    \n",
    "    def speak(self):\n",
    "        return \"Meow!\"\n",
    "    \n",
    "dog=Dog()\n",
    "cat=Cat()\n",
    "\n",
    "print(dog.speak())\n",
    "print(cat.speak())\n"
   ]
  },
  {
   "cell_type": "markdown",
   "id": "2ba1cdaa-9e9a-4d30-b0b1-b4e80454b66f",
   "metadata": {},
   "source": [
    "Q8:- Create a Python class hierarchy for animals and implement abstraction by defining common methods (e.g., `eat()`, `sleep()`) in an abstract base class. \n"
   ]
  },
  {
   "cell_type": "code",
   "execution_count": 97,
   "id": "9049ceed-9fe8-47f2-a935-d6e468ad5423",
   "metadata": {},
   "outputs": [
    {
     "name": "stdout",
     "output_type": "stream",
     "text": [
      "Buddy the dog is eating.\n",
      "Buddy the dog is sleeping.\n",
      "\n",
      "Whiskers the cat is eating.\n",
      "Whiskers the cat is sleeping.\n",
      "\n",
      "Tweetie the bird is eating.\n",
      "Tweetie the bird is sleeping.\n",
      "\n"
     ]
    }
   ],
   "source": [
    "from abc import ABC, abstractmethod\n",
    "\n",
    "# Abstract base class for animals\n",
    "class Animal(ABC):\n",
    "    def __init__(self, name):\n",
    "        self.name = name\n",
    "\n",
    "    @abstractmethod\n",
    "    def eat(self):\n",
    "        pass\n",
    "\n",
    "    @abstractmethod\n",
    "    def sleep(self):\n",
    "        pass\n",
    "\n",
    "# Concrete subclasses for different types of animals\n",
    "class Dog(Animal):\n",
    "    def eat(self):\n",
    "        return f\"{self.name} the dog is eating.\"\n",
    "\n",
    "    def sleep(self):\n",
    "        return f\"{self.name} the dog is sleeping.\"\n",
    "\n",
    "class Cat(Animal):\n",
    "    def eat(self):\n",
    "        return f\"{self.name} the cat is eating.\"\n",
    "\n",
    "    def sleep(self):\n",
    "        return f\"{self.name} the cat is sleeping.\"\n",
    "\n",
    "class Bird(Animal):\n",
    "    def eat(self):\n",
    "        return f\"{self.name} the bird is eating.\"\n",
    "\n",
    "    def sleep(self):\n",
    "        return f\"{self.name} the bird is sleeping.\"\n",
    "\n",
    "# Create instances of animal subclasses and demonstrate abstraction\n",
    "dog = Dog(\"Buddy\")\n",
    "cat = Cat(\"Whiskers\")\n",
    "bird = Bird(\"Tweetie\")\n",
    "\n",
    "animals = [dog, cat, bird]\n",
    "\n",
    "for animal in animals:\n",
    "    print(animal.eat())\n",
    "    print(animal.sleep())\n",
    "    print()\n"
   ]
  },
  {
   "cell_type": "markdown",
   "id": "5de50b1f-10a4-41db-80ac-f634273c7768",
   "metadata": {},
   "source": [
    "Q9:-  Explain the significance of encapsulation in achieving abstraction. Provide examples"
   ]
  },
  {
   "cell_type": "code",
   "execution_count": 98,
   "id": "019cd930-1d76-4ff6-9f0e-2343e06d6458",
   "metadata": {},
   "outputs": [
    {
     "name": "stdout",
     "output_type": "stream",
     "text": [
      "New balance: 1500\n"
     ]
    }
   ],
   "source": [
    "\"\"\"\n",
    "\n",
    "--> Encapsulation is a way to hide the implementation details of an object from the outside world. It allows \n",
    "developers to present a consistent and usable interface that is independent of how a system is implemented \n",
    "internally.\n",
    "\n",
    "--> Encapsulation allows abstraction. For example, you can use a mobile phone without knowing the internal \n",
    "workings of it. You have an interface to use the device behavior without knowing implementation details.\n",
    "\n",
    "\n",
    "\"\"\"\n",
    "\n",
    "# for example:- \n",
    "\n",
    "class BankAccount:\n",
    "    def __init__(self, account_number, balance):\n",
    "        self._account_number = account_number  # Encapsulation: Protecting data with \"_\"\n",
    "        self._balance = balance\n",
    "\n",
    "    def deposit(self, amount):\n",
    "        if amount > 0:\n",
    "            self._balance += amount\n",
    "\n",
    "    def withdraw(self, amount):\n",
    "        if amount > 0 and self._balance >= amount:\n",
    "            self._balance -= amount\n",
    "\n",
    "    def get_balance(self):\n",
    "        return self._balance\n",
    "\n",
    "# Example of abstraction\n",
    "def make_transaction(account, amount):\n",
    "    account.deposit(amount)  # Abstraction: Hiding the implementation details\n",
    "    print(f\"New balance: {account.get_balance()}\")\n",
    "\n",
    "# Usage\n",
    "account1 = BankAccount(\"12345\", 1000)\n",
    "make_transaction(account1, 500)\n"
   ]
  },
  {
   "cell_type": "markdown",
   "id": "3319a9ec-27a5-45b4-8e56-77dbf9f2adcd",
   "metadata": {},
   "source": [
    "Q10:- What is the purpose of abstract methods, and how do they enforce abstraction in Python classes?"
   ]
  },
  {
   "cell_type": "code",
   "execution_count": 99,
   "id": "95ccde3a-a2ac-4625-a19d-ef233dca77b4",
   "metadata": {},
   "outputs": [
    {
     "name": "stdout",
     "output_type": "stream",
     "text": [
      "Wooh!\n",
      "Meow!\n"
     ]
    }
   ],
   "source": [
    "\"\"\"\n",
    "\n",
    "--> Abstract classes are a crucial part of object-oriented programming. They allow you to create a blueprint for \n",
    "other classes, and force child classes to implement specific methods. This helps to ensure that all of your \n",
    "classes have the same functionality, and makes your code more reusable and maintainable.\n",
    "\n",
    "--> Abstract methods are methods that are declared in an abstract class, but are not implemented. This means that\n",
    "the child class must provide an implementation for the method, or it will not compile. This helps to ensure that \n",
    "all child classes have the same functionality, and makes your code more consistent.\n",
    "\n",
    "--> Abstract classes are a powerful tool that can help you to write better, more reusable code. By using abstract \n",
    "classes, you can force child classes to implement specific methods, and ensure that all of your classes have the \n",
    "same functionality. This can help to make your code more consistent and easier to maintain.\n",
    "\"\"\"\n",
    "\n",
    "# for example:- \n",
    "class Animal(ABC):\n",
    "    @abstractmethod\n",
    "    def speak(self):\n",
    "        pass\n",
    "    \n",
    "class Dog(Animal):\n",
    "    \n",
    "    def speak(self):\n",
    "        return \"Wooh!\"\n",
    "    \n",
    "class Cat(Animal):\n",
    "    \n",
    "    def speak(self):\n",
    "        return \"Meow!\"\n",
    "    \n",
    "dog=Dog()\n",
    "cat=Cat()\n",
    "\n",
    "print(dog.speak())\n",
    "print(cat.speak())\n"
   ]
  },
  {
   "cell_type": "markdown",
   "id": "e9fb162a-7c6e-4a9a-9b90-801e0b58383a",
   "metadata": {},
   "source": [
    "Q11:- Create a Python class for a vehicle system and demonstrate abstraction by defining common methods (e.g., `start()`, `stop()`) in an abstract base class. \n"
   ]
  },
  {
   "cell_type": "code",
   "execution_count": 100,
   "id": "8ffdda73-45d7-4b27-bdd3-edc83d2197cc",
   "metadata": {},
   "outputs": [
    {
     "name": "stdout",
     "output_type": "stream",
     "text": [
      "Toyota Camry car is starting.\n",
      "Toyota Camry car is stopping.\n",
      "\n",
      "Trek Mountain Bike bicycle is pedaling.\n",
      "Trek Mountain Bike bicycle is stopping.\n",
      "\n",
      "Yamaha Speedboat boat is sailing.\n",
      "Yamaha Speedboat boat is anchoring.\n",
      "\n"
     ]
    }
   ],
   "source": [
    "from abc import ABC, abstractmethod\n",
    "\n",
    "# Abstract base class for vehicles\n",
    "class Vehicle(ABC):\n",
    "    def __init__(self, brand, model):\n",
    "        self.brand = brand\n",
    "        self.model = model\n",
    "\n",
    "    @abstractmethod\n",
    "    def start(self):\n",
    "        pass\n",
    "\n",
    "    @abstractmethod\n",
    "    def stop(self):\n",
    "        pass\n",
    "\n",
    "# Concrete subclasses for different types of vehicles\n",
    "class Car(Vehicle):\n",
    "    def start(self):\n",
    "        return f\"{self.brand} {self.model} car is starting.\"\n",
    "\n",
    "    def stop(self):\n",
    "        return f\"{self.brand} {self.model} car is stopping.\"\n",
    "\n",
    "class Bicycle(Vehicle):\n",
    "    def start(self):\n",
    "        return f\"{self.brand} {self.model} bicycle is pedaling.\"\n",
    "\n",
    "    def stop(self):\n",
    "        return f\"{self.brand} {self.model} bicycle is stopping.\"\n",
    "\n",
    "class Boat(Vehicle):\n",
    "    def start(self):\n",
    "        return f\"{self.brand} {self.model} boat is sailing.\"\n",
    "\n",
    "    def stop(self):\n",
    "        return f\"{self.brand} {self.model} boat is anchoring.\"\n",
    "\n",
    "# Create instances of vehicle subclasses and demonstrate abstraction\n",
    "car = Car(\"Toyota\", \"Camry\")\n",
    "bicycle = Bicycle(\"Trek\", \"Mountain Bike\")\n",
    "boat = Boat(\"Yamaha\", \"Speedboat\")\n",
    "\n",
    "vehicles = [car, bicycle, boat]\n",
    "\n",
    "for vehicle in vehicles:\n",
    "    print(vehicle.start())\n",
    "    print(vehicle.stop())\n",
    "    print()\n"
   ]
  },
  {
   "cell_type": "markdown",
   "id": "21f84364-e5c9-437d-b125-bd98325e54c0",
   "metadata": {},
   "source": [
    "Q12:- Describe the use of abstract properties in Python and how they can be employed in abstract classes."
   ]
  },
  {
   "cell_type": "code",
   "execution_count": 101,
   "id": "c99e5a1d-0ed6-4aa0-8dd3-5dbadbb1d16e",
   "metadata": {},
   "outputs": [
    {
     "name": "stdout",
     "output_type": "stream",
     "text": [
      "Area of Circle: 78.5\n",
      "Area of Rectangle: 24\n"
     ]
    }
   ],
   "source": [
    "\"\"\"\n",
    "\n",
    "--> Abstract properties are a feature of Python that allow you to define a property that must be implemented\n",
    "by any class that inherits from the class that defines the property. This can be used to ensure that all \n",
    "subclasses of a particular class have a certain set of properties.\n",
    "\n",
    "\"\"\"\n",
    "\n",
    "# for example:- \n",
    "\n",
    "from abc import ABC, abstractmethod, abstractproperty\n",
    "\n",
    "class Shape(ABC):\n",
    "    @abstractproperty\n",
    "    def area(self):\n",
    "        pass\n",
    "\n",
    "class Circle(Shape):\n",
    "    def __init__(self, radius):\n",
    "        self.radius = radius\n",
    "\n",
    "    @property\n",
    "    def area(self):\n",
    "        return 3.14 * self.radius * self.radius\n",
    "\n",
    "class Rectangle(Shape):\n",
    "    def __init__(self, length, width):\n",
    "        self.length = length\n",
    "        self.width = width\n",
    "\n",
    "    @property\n",
    "    def area(self):\n",
    "        return self.length * self.width\n",
    "\n",
    "# Attempting to create an instance of the abstract class will raise an error\n",
    "# shape = Shape()  # Error: Can't instantiate abstract class Shape with abstract properties area\n",
    "\n",
    "# Creating instances of concrete subclasses\n",
    "circle = Circle(5)\n",
    "rectangle = Rectangle(4, 6)\n",
    "\n",
    "print(\"Area of Circle:\", circle.area)\n",
    "print(\"Area of Rectangle:\", rectangle.area)\n"
   ]
  },
  {
   "cell_type": "markdown",
   "id": "32e3861e-ceb1-4d80-9401-2f6a30c77a14",
   "metadata": {},
   "source": [
    "Q13:- Create a Python class hierarchy for employees in a company (e.g., manager, developer, designer) and implement abstraction by defining a common `get_salary()` method. \n"
   ]
  },
  {
   "cell_type": "code",
   "execution_count": 102,
   "id": "a31b482e-286d-4a0c-b350-84bc787b371e",
   "metadata": {},
   "outputs": [
    {
     "name": "stdout",
     "output_type": "stream",
     "text": [
      "Chandan (Employee ID:- E001) - Salary:- 52000\n",
      "Ayush (Employee ID:- E002) - Salary:- 88000\n",
      "Seemant (Employee ID:- E003) - Salary:- 105000\n"
     ]
    }
   ],
   "source": [
    "from abc import ABC , abstractmethod\n",
    "\n",
    "class Employee(ABC):\n",
    "    \n",
    "    def __init__(self,name,emp_id):\n",
    "        self.name=name\n",
    "        self.emp_id=emp_id\n",
    "        \n",
    "    @abstractmethod\n",
    "    \n",
    "    def get_salary(self):\n",
    "        pass\n",
    "    \n",
    "    \n",
    "class Manager(Employee):\n",
    "    \n",
    "    def get_salary(self):\n",
    "        base_salary=50000\n",
    "        bonus=2000\n",
    "        \n",
    "        return base_salary+bonus\n",
    "    \n",
    "class Developer(Employee):\n",
    "    \n",
    "    def get_salary(self):\n",
    "        base_salary=78000\n",
    "        overtime_pay=10000\n",
    "        return base_salary+overtime_pay\n",
    "    \n",
    "class Designer(Employee):\n",
    "    \n",
    "    def get_salary(self):\n",
    "        base_salary=90000\n",
    "        project=15000\n",
    "        return base_salary+project\n",
    "    \n",
    "manager=Manager(\"Chandan\",\"E001\")\n",
    "developer=Developer(\"Ayush\",\"E002\")\n",
    "designer=Designer(\"Seemant\",\"E003\")\n",
    "\n",
    "employees=[manager,developer,designer]\n",
    "\n",
    "for employee in employees:\n",
    "    print(f\"{employee.name} (Employee ID:- {employee.emp_id}) - Salary:- {employee.get_salary()}\")\n",
    "    \n"
   ]
  },
  {
   "cell_type": "markdown",
   "id": "09dff409-0835-4ea8-8e30-4ad439f82fb7",
   "metadata": {},
   "source": [
    "Q14:- Discuss the differences between abstract classes and concrete classes in Python, including their\n",
    "instantiation."
   ]
  },
  {
   "cell_type": "code",
   "execution_count": 37,
   "id": "b2cfdf36-e641-448d-a0da-ffab9d85ba89",
   "metadata": {},
   "outputs": [
    {
     "name": "stdout",
     "output_type": "stream",
     "text": [
      "Area of Circle: 78.5\n"
     ]
    }
   ],
   "source": [
    "\"\"\"\n",
    "\n",
    "--> Abstract classes are classes that cannot be instantiated directly. They are meant to be subclassed by \n",
    "concrete classes.\n",
    "\n",
    "--> They often serve as blueprints or templates for derived classes, defining a common structure or set of\n",
    "methods that must be implemented by concrete subclasses.\n",
    "\n",
    "--> Concrete classes are classes that can be instantiated directly to create objects.\n",
    "\n",
    "--> They provide complete implementations for their methods and may or may not inherit from other classes.\n",
    "\n",
    "\"\"\"\n",
    "\n",
    "# for example:- \n",
    "\n",
    "from abc import ABC, abstractmethod\n",
    "\n",
    "# Abstract class (cannot be instantiated)\n",
    "class Shape(ABC):\n",
    "    @abstractmethod\n",
    "    def area(self):\n",
    "        pass\n",
    "\n",
    "# Concrete class (can be instantiated)\n",
    "class Circle(Shape):\n",
    "    def __init__(self, radius):\n",
    "        self.radius = radius\n",
    "\n",
    "    def area(self):\n",
    "        return 3.14 * self.radius * self.radius\n",
    "\n",
    "# Creating instances of concrete classes\n",
    "circle = Circle(5)\n",
    "print(\"Area of Circle:\", circle.area())\n",
    "\n",
    "# Attempting to create an instance of an abstract class will result in an error\n",
    "# shape = Shape()  # Error: Can't instantiate abstract class Shape with abstract methods area\n"
   ]
  },
  {
   "cell_type": "markdown",
   "id": "ff92bc06-c5b7-4b51-9011-473f95e0f42e",
   "metadata": {},
   "source": [
    "Q15:- Explain the concept of abstract data types (ADTs) and their role in achieving abstraction in Python."
   ]
  },
  {
   "cell_type": "code",
   "execution_count": null,
   "id": "272c30ed-3fe9-4752-8159-df7dc192f480",
   "metadata": {},
   "outputs": [],
   "source": [
    "\"\"\"\n",
    "\n",
    "--> Abstract data types (ADTs) are a way of abstracting the details of data structures and algorithms away from \n",
    "the user. This allows the user to focus on the problem domain, rather than the implementation details. ADTs are \n",
    "implemented in Python using classes.\n",
    "\n",
    "--> ADTs focus on abstracting the underlying data structure and the operations that can be performed on it. \n",
    "This means that users of the ADT interact with it through a well-defined interface (a set of operations), \n",
    "without needing to know how these operations are implemented.\n",
    "\n",
    "-->An ADT is a collection of data and operations that work on that data. The operations both describe the data\n",
    "to the rest of the program and allow the rest of the program to change the data.\n",
    "\n",
    "--> ADTs are important in Python because they allow the user to write code that is more reusable and maintainable.\n",
    "ADTs also make it easier for programmers to understand each other's code, because they can rely on the fact that \n",
    "ADTs will behave in a consistent way.\n",
    "\n",
    "--> There are many different types of ADTs, but some common examples include stacks, queues, lists, and trees.\n",
    "Each ADT has its own set of operations, which are defined by the ADT's interface.\n",
    "\n",
    "\"\"\"\n",
    "\n"
   ]
  },
  {
   "cell_type": "markdown",
   "id": "47560979-a072-4857-8205-f64f77ad0831",
   "metadata": {},
   "source": [
    "Q16:-Create a Python class for a computer system, demonstrating abstraction by defining common methods (e.g., `power_on()`, `shutdown()`) in an abstract base class. \n"
   ]
  },
  {
   "cell_type": "code",
   "execution_count": 104,
   "id": "6c4f3b3b-37a6-49b1-b0f6-e23563336b99",
   "metadata": {},
   "outputs": [
    {
     "name": "stdout",
     "output_type": "stream",
     "text": [
      "Dell Desktop desktop computer is powered on.\n",
      "Dell Desktop desktop computer is shut down.\n",
      "\n",
      "HP Laptop laptop computer is powered on.\n",
      "HP Laptop laptop computer is shut down.\n",
      "\n"
     ]
    }
   ],
   "source": [
    "from abc import ABC, abstractmethod\n",
    "\n",
    "# Abstract base class for a computer system\n",
    "class Computer(ABC):\n",
    "    def __init__(self, name):\n",
    "        self.name = name\n",
    "        self.powered_on = False\n",
    "\n",
    "    @abstractmethod\n",
    "    def power_on(self):\n",
    "        pass\n",
    "\n",
    "    @abstractmethod\n",
    "    def shutdown(self):\n",
    "        pass\n",
    "\n",
    "# Concrete subclasses for different types of computers\n",
    "class DesktopComputer(Computer):\n",
    "    def power_on(self):\n",
    "        self.powered_on = True\n",
    "        return f\"{self.name} desktop computer is powered on.\"\n",
    "\n",
    "    def shutdown(self):\n",
    "        self.powered_on = False\n",
    "        return f\"{self.name} desktop computer is shut down.\"\n",
    "\n",
    "class LaptopComputer(Computer):\n",
    "    def power_on(self):\n",
    "        self.powered_on = True\n",
    "        return f\"{self.name} laptop computer is powered on.\"\n",
    "\n",
    "    def shutdown(self):\n",
    "        self.powered_on = False\n",
    "        return f\"{self.name} laptop computer is shut down.\"\n",
    "\n",
    "# Create instances of computer systems and demonstrate abstraction\n",
    "desktop = DesktopComputer(\"Dell Desktop\")\n",
    "laptop = LaptopComputer(\"HP Laptop\")\n",
    "\n",
    "computers = [desktop, laptop]\n",
    "\n",
    "for computer in computers:\n",
    "    print(computer.power_on())\n",
    "    print(computer.shutdown())\n",
    "    print()\n"
   ]
  },
  {
   "cell_type": "markdown",
   "id": "e69715e0-02af-45ed-a824-530ff3907039",
   "metadata": {},
   "source": [
    "Q17:- Discuss the benefits of using abstraction in large-scale software development projects."
   ]
  },
  {
   "cell_type": "code",
   "execution_count": null,
   "id": "63127171-5a00-4e44-a192-ce8879a4588e",
   "metadata": {},
   "outputs": [],
   "source": [
    "\"\"\"\n",
    "\n",
    "--> Abstraction is the process of hiding the implementation details of a piece of code, and only exposing the \n",
    "essential features to the user. It can be beneficial in large-scale software development projects because it can:\n",
    "\n",
    "--> Reduce complexity\n",
    "-->Increase security\n",
    "--> Avoid code duplication\n",
    "--> Increase reusability\n",
    "-->Improve code quality, maintainability, and flexibility\n",
    "--> Allow modifications to the underlying data structures without impacting the programming that utilizes them\n",
    "--> Create abstract data types that can store any type of information or perform desired operations\n",
    "\n",
    "\"\"\""
   ]
  },
  {
   "cell_type": "markdown",
   "id": "aa1c3ac3-39ba-47a7-a9a6-9315f0ad33d1",
   "metadata": {},
   "source": [
    "Q18:- Explain how abstraction enhances code reusability and modularity in Python programs."
   ]
  },
  {
   "cell_type": "code",
   "execution_count": null,
   "id": "08c5a2c6-cebd-483a-ab87-571554082f24",
   "metadata": {},
   "outputs": [],
   "source": [
    "\"\"\"\n",
    "\n",
    "-->Abstraction and modularity are two important concepts in computer programming. Abstraction is the process of\n",
    "hiding unnecessary details from the user, while modularity is the process of dividing a program into smaller, \n",
    "self-contained units.\n",
    "\n",
    "--> In Python, abstraction can be achieved using classes and modules. Classes are used to create objects, which \n",
    "are instances of a class. Modules are used to encapsulate code and data into a single unit.\n",
    "\n",
    "--> Reusability:\n",
    "Abstraction allows developers to reuse code by hiding implementation details. This means that developers can use \n",
    "code without having to know how it works internally\n",
    "\n",
    "--> Modularity:\n",
    "Abstraction allows developers to divide a program into smaller, self-contained units. This makes the code easier \n",
    "to understand and maintain.\n",
    "\n",
    "\"\"\"\n"
   ]
  },
  {
   "cell_type": "markdown",
   "id": "15804edd-607f-4fb1-828a-6994ad5b6480",
   "metadata": {},
   "source": [
    "Q19:- Create a Python class for a library system, implementing abstraction by defining common methods (e.g., `add_book()`, `borrow_book()`) in an abstract base class. \n"
   ]
  },
  {
   "cell_type": "code",
   "execution_count": 105,
   "id": "b1851a78-2b78-4c2e-8cc8-04a4a0bc20ce",
   "metadata": {},
   "outputs": [
    {
     "name": "stdout",
     "output_type": "stream",
     "text": [
      "Added 'Harry Potter and the Sorcerer's Stone' to City Public Library.\n",
      "Added 'To Kill a Mockingbird' to City Public Library.\n",
      "Borrowed 'Harry Potter and the Sorcerer's Stone' from City Public Library.\n",
      "'1984' is not available in City Public Library.\n",
      "\n",
      "Added 'Harry Potter and the Sorcerer's Stone' to Oakridge School Library.\n",
      "Added 'To Kill a Mockingbird' to Oakridge School Library.\n",
      "Borrowed 'Harry Potter and the Sorcerer's Stone' from Oakridge School Library.\n",
      "'1984' is not available in Oakridge School Library.\n",
      "\n"
     ]
    }
   ],
   "source": [
    "from abc import ABC, abstractmethod\n",
    "\n",
    "# Abstract base class for a library system\n",
    "class LibrarySystem(ABC):\n",
    "    def __init__(self, name):\n",
    "        self.name = name\n",
    "        self.books = []\n",
    "\n",
    "    @abstractmethod\n",
    "    def add_book(self, book_title):\n",
    "        pass\n",
    "\n",
    "    @abstractmethod\n",
    "    def borrow_book(self, book_title):\n",
    "        pass\n",
    "\n",
    "# Concrete subclasses for different types of libraries\n",
    "class PublicLibrary(LibrarySystem):\n",
    "    def add_book(self, book_title):\n",
    "        self.books.append(book_title)\n",
    "        return f\"Added '{book_title}' to {self.name}.\"\n",
    "\n",
    "    def borrow_book(self, book_title):\n",
    "        if book_title in self.books:\n",
    "            self.books.remove(book_title)\n",
    "            return f\"Borrowed '{book_title}' from {self.name}.\"\n",
    "        else:\n",
    "            return f\"'{book_title}' is not available in {self.name}.\"\n",
    "\n",
    "class SchoolLibrary(LibrarySystem):\n",
    "    def add_book(self, book_title):\n",
    "        self.books.append(book_title)\n",
    "        return f\"Added '{book_title}' to {self.name}.\"\n",
    "\n",
    "    def borrow_book(self, book_title):\n",
    "        if book_title in self.books:\n",
    "            self.books.remove(book_title)\n",
    "            return f\"Borrowed '{book_title}' from {self.name}.\"\n",
    "        else:\n",
    "            return f\"'{book_title}' is not available in {self.name}.\"\n",
    "\n",
    "# Create instances of library systems and demonstrate abstraction\n",
    "public_library = PublicLibrary(\"City Public Library\")\n",
    "school_library = SchoolLibrary(\"Oakridge School Library\")\n",
    "\n",
    "libraries = [public_library, school_library]\n",
    "\n",
    "for library in libraries:\n",
    "    print(library.add_book(\"Harry Potter and the Sorcerer's Stone\"))\n",
    "    print(library.add_book(\"To Kill a Mockingbird\"))\n",
    "    print(library.borrow_book(\"Harry Potter and the Sorcerer's Stone\"))\n",
    "    print(library.borrow_book(\"1984\"))\n",
    "    print()\n"
   ]
  },
  {
   "cell_type": "markdown",
   "id": "dd22ad8c-4c50-42a1-88b5-79b16bf022e2",
   "metadata": {},
   "source": [
    "Q20:- Describe the concept of method abstraction in Python and how it relates to polymorphism."
   ]
  },
  {
   "cell_type": "code",
   "execution_count": 106,
   "id": "716365c2-b583-462a-b451-2ca334092eb8",
   "metadata": {},
   "outputs": [
    {
     "name": "stdout",
     "output_type": "stream",
     "text": [
      "Woof!\n",
      "Meow!\n"
     ]
    }
   ],
   "source": [
    "\"\"\"\n",
    "\n",
    "--> Method abstraction in Python is a concept that allows you to hide the implementation details of a method from \n",
    "the user. This can be done by using the abstract keyword to define an abstract method. An abstract method is a \n",
    "method that does not have any implementation. When a class inherits from an abstract class, it must override the\n",
    "abstract methods in order to be instantiated.\n",
    "\n",
    "\"\"\"\n",
    "\n",
    "# for example:- \n",
    "\n",
    "from abc import ABC, abstractmethod\n",
    "\n",
    "class Animal(ABC):\n",
    "    @abstractmethod\n",
    "    def make_sound(self):\n",
    "        pass\n",
    "\n",
    "class Dog(Animal):\n",
    "    def make_sound(self):\n",
    "        print(\"Woof!\")\n",
    "\n",
    "class Cat(Animal):\n",
    "    def make_sound(self):\n",
    "        print(\"Meow!\")\n",
    "\n",
    "def make_sound(animal):\n",
    "    animal.make_sound()\n",
    "\n",
    "dog = Dog()\n",
    "cat = Cat()\n",
    "\n",
    "make_sound(dog)\n",
    "make_sound(cat)"
   ]
  },
  {
   "cell_type": "markdown",
   "id": "5fca7071-b126-4bbc-bcf3-2300c4727fed",
   "metadata": {},
   "source": [
    "Composition:- "
   ]
  },
  {
   "cell_type": "markdown",
   "id": "95e41e75-4aaa-4255-80ef-2c0049b44c71",
   "metadata": {},
   "source": [
    "Q1:- Explain the concept of composition in Python and how it is used to build complex objects from simpler ones."
   ]
  },
  {
   "cell_type": "code",
   "execution_count": null,
   "id": "f228ee06-685e-4a3c-8670-5cf80bac5b4b",
   "metadata": {},
   "outputs": [],
   "source": [
    "\"\"\"\n",
    "\n",
    "--> Composition is a programming technique that allows you to create complex objects by combining simpler ones. \n",
    "This is done by creating a class that contains an instance of another class. The class that contains the other\n",
    "class is called the composite class, and the class that is contained is called the component class.\n",
    "\n",
    "--> The relationship between the composite class and the component class is represented by a \"has-a\" relationship.\n",
    "This means that the composite class \"has\" a component class. For example, a car \"has\" an engine. So, the Car class\n",
    "would have an instance of the Engine class.\n",
    "\n",
    "--> Composition is a powerful technique that can be used to create complex objects in a flexible and reusable way.\n",
    "It is an important concept to understand in object-oriented programming.\n",
    "\n",
    "\n",
    "\"\"\""
   ]
  },
  {
   "cell_type": "markdown",
   "id": "4ee4f749-b489-46ad-8df9-f035233410f3",
   "metadata": {},
   "source": [
    "Q2:- Describe the difference between composition and inheritance in object-oriented programming."
   ]
  },
  {
   "cell_type": "code",
   "execution_count": null,
   "id": "4a0977e0-0933-4008-b886-56c740002c98",
   "metadata": {},
   "outputs": [],
   "source": [
    "\"\"\"\n",
    "\n",
    "--> Composition\n",
    "Establishes a \"has-a\" relationship between objects. Composition combines and reuses existing classes to create \n",
    "more complex objects. It's more flexible and allows objects to be reused in different contexts.\n",
    "\n",
    "--> Inheritance\n",
    "Establishes an \"is-a\" relationship between classes. Inheritance establishes common behavior and interfaces for \n",
    "your classes. It promotes code reuse and can simplify code by reducing duplication.\n",
    "\n",
    "\"\"\""
   ]
  },
  {
   "cell_type": "markdown",
   "id": "be25fc4d-39e8-4cd4-8767-9a15201e6bf2",
   "metadata": {},
   "source": [
    "Q3:- Create a Python class called `Author` with attributes for name and birthdate. Then, create a `Book` class\n",
    "that contains an instance of `Author` as a composition. Provide an example of creating a `Book` object."
   ]
  },
  {
   "cell_type": "code",
   "execution_count": 107,
   "id": "8feeb471-cb87-4935-8e64-884494caf7a3",
   "metadata": {},
   "outputs": [
    {
     "name": "stdout",
     "output_type": "stream",
     "text": [
      "Positive Vibes by Ayush in the year 2022\n"
     ]
    }
   ],
   "source": [
    "class Author:\n",
    "    \n",
    "    def __init__(self,name,birthdate):\n",
    "        self.name=name\n",
    "        self.birthdate=birthdate\n",
    "\n",
    "        \n",
    "class Book:\n",
    "    \n",
    "    def __init__(self,title,published_year,author):\n",
    "        self.title=title\n",
    "        self.published_year=published_year\n",
    "        self.author=author\n",
    "        \n",
    "    def display_info(self):\n",
    "        \n",
    "        return f\"{self.title} by {self.author.name} in the year {self.published_year}\"\n",
    "    \n",
    "    \n",
    "author1=Author(\"Ayush\",\"July 31,2003\")\n",
    "book1=Book(\"Positive Vibes\",2022,author1)\n",
    "        \n",
    "print(book1.display_info())"
   ]
  },
  {
   "cell_type": "markdown",
   "id": "9ea5adb4-dc50-4199-8310-5588475f6286",
   "metadata": {},
   "source": [
    "Q4:-Discuss the benefits of using composition over inheritance in Python, especially in terms of code flexibility\n",
    "and reusability."
   ]
  },
  {
   "cell_type": "code",
   "execution_count": null,
   "id": "45a7ba65-5363-492a-9fff-6dd4e994adf3",
   "metadata": {},
   "outputs": [],
   "source": [
    "\"\"\"\n",
    "\n",
    "--> Here are some benefits of using composition over inheritance in Python, \n",
    "especially in terms of code flexibility and reusability:\n",
    "\n",
    "--> Composition is more flexible than inheritance.\n",
    "With inheritance, you are limited to inheriting from a single class. With \n",
    "composition, you can combine the functionality of multiple classes in a more\n",
    "flexible way. For example, you could have a class that represents a car, and \n",
    "then compose that class with a class that represents an engine. This would give \n",
    "you the ability to create different types of cars, each with its own unique \n",
    "engine.\n",
    "\n",
    "--> Composition can improve code reusability.\n",
    "When you inherit from a class, you are essentially copying the code from that \n",
    "class into your own class. This can lead to duplication of code, which can\n",
    "make it difficult to maintain and update your code. With composition, you can \n",
    "simply reuse the functionality of other classes without copying the code.\n",
    "This can make your code more reusable and easier to maintain.\n",
    "\n",
    "\"\"\"\n"
   ]
  },
  {
   "cell_type": "markdown",
   "id": "196d39e6-2031-4eeb-bcf1-f49ec6ec0b60",
   "metadata": {},
   "source": [
    "Q5:- How can you implement composition in Python classes? Provide examples of using composition to create\n",
    "complex objects."
   ]
  },
  {
   "cell_type": "code",
   "execution_count": 108,
   "id": "c3e59ced-4368-4d34-a8b9-11ab89a0d07e",
   "metadata": {},
   "outputs": [
    {
     "name": "stdout",
     "output_type": "stream",
     "text": [
      "Engine Started\n",
      "Mercedes Maybach S class is moving\n"
     ]
    }
   ],
   "source": [
    "class Engine:\n",
    "    \n",
    "    def __init__(self,fuel_type,horsepower):\n",
    "        self.fuel_type=fuel_type\n",
    "        self.horsepower=horsepower\n",
    "        \n",
    "    def start(self):\n",
    "        print(\"Engine Started\")\n",
    "        \n",
    "class Wheel:\n",
    "    \n",
    "    def __init__(self,brand,size):\n",
    "        \n",
    "        self.brand=brand\n",
    "        self.size=size\n",
    "        \n",
    "    def rotate(self):\n",
    "        print(\"Wheel is Rotating\")\n",
    "        \n",
    "class Car:\n",
    "    \n",
    "    def __init__(self,make,model,engine,wheel):\n",
    "        \n",
    "        self.make=make\n",
    "        self.model=model\n",
    "        self.engine=engine\n",
    "        self.wheel=wheel\n",
    "        \n",
    "    def start_engine(self):\n",
    "        \n",
    "        self.engine.start()\n",
    "        \n",
    "    def drive(self):\n",
    "        \n",
    "        print(f\"{self.make} {self.model} is moving\")\n",
    "        \n",
    "engine=Engine(\"Petrol\",1400)\n",
    "wheel =Wheel(\"Michelin\", 18)\n",
    "\n",
    "car=Car(\"Mercedes\",\"Maybach S class\",engine,wheel)\n",
    "car.start_engine()\n",
    "car.drive()"
   ]
  },
  {
   "cell_type": "markdown",
   "id": "88a6849f-5170-4e13-85a1-89df5a156139",
   "metadata": {},
   "source": [
    "Q6:- Create a Python class hierarchy for a music player system, using composition to represent playlists and\n",
    "songs."
   ]
  },
  {
   "cell_type": "code",
   "execution_count": 8,
   "id": "61c8ef95-f129-407a-a260-4858032ed1fa",
   "metadata": {},
   "outputs": [
    {
     "name": "stdout",
     "output_type": "stream",
     "text": [
      "Playlist: My Favorites\n",
      "Playing: Song 1 by Artist A\n",
      "Playing: Song 2 by Artist B\n"
     ]
    }
   ],
   "source": [
    "class Song:\n",
    "    def __init__(self, title, artist, duration):\n",
    "        self.title = title\n",
    "        self.artist = artist\n",
    "        self.duration = duration\n",
    "\n",
    "    def play(self):\n",
    "        print(f\"Playing: {self.title} by {self.artist}\")\n",
    "\n",
    "class Playlist:\n",
    "    def __init__(self, name):\n",
    "        self.name = name\n",
    "        self.songs = []\n",
    "\n",
    "    def add_song(self, song):\n",
    "        self.songs.append(song)\n",
    "\n",
    "    def play_all(self):\n",
    "        print(f\"Playlist: {self.name}\")\n",
    "        for song in self.songs:\n",
    "            song.play()\n",
    "\n",
    "class MusicPlayer:\n",
    "    def __init__(self):\n",
    "        self.playlists = []\n",
    "\n",
    "    def create_playlist(self, name):\n",
    "        playlist = Playlist(name)\n",
    "        self.playlists.append(playlist)\n",
    "        return playlist\n",
    "\n",
    "    def add_song_to_playlist(self, playlist, song):\n",
    "        if playlist in self.playlists:\n",
    "            playlist.add_song(song)\n",
    "        else:\n",
    "            print(f\"Playlist '{playlist.name}' not found.\")\n",
    "\n",
    "    def play_playlist(self, playlist_name):\n",
    "        for playlist in self.playlists:\n",
    "            if playlist.name == playlist_name:\n",
    "                playlist.play_all()\n",
    "                return\n",
    "        print(f\"Playlist '{playlist_name}' not found.\")\n",
    "\n",
    "# Example usage:\n",
    "player = MusicPlayer()\n",
    "\n",
    "# Create songs\n",
    "song1 = Song(\"Song 1\", \"Artist A\", \"3:30\")\n",
    "song2 = Song(\"Song 2\", \"Artist B\", \"4:15\")\n",
    "song3 = Song(\"Song 3\", \"Artist A\", \"3:50\")\n",
    "\n",
    "# Create playlists\n",
    "playlist1 = player.create_playlist(\"My Favorites\")\n",
    "playlist2 = player.create_playlist(\"Rock Classics\")\n",
    "\n",
    "# Add songs to playlists\n",
    "player.add_song_to_playlist(playlist1, song1)\n",
    "player.add_song_to_playlist(playlist1, song2)\n",
    "player.add_song_to_playlist(playlist2, song2)\n",
    "player.add_song_to_playlist(playlist2, song3)\n",
    "\n",
    "# Play a playlist\n",
    "player.play_playlist(\"My Favorites\")\n"
   ]
  },
  {
   "cell_type": "code",
   "execution_count": null,
   "id": "170b3ec9-596d-4fce-999e-1c96bb2e0e43",
   "metadata": {},
   "outputs": [],
   "source": [
    "Q7:- "
   ]
  },
  {
   "cell_type": "code",
   "execution_count": null,
   "id": "559cd35e-3979-43a1-86de-cac74bb369e3",
   "metadata": {},
   "outputs": [],
   "source": [
    "\"\"\"\n",
    "\n",
    "--> In Python, composition is a fundamental concept in object-oriented \n",
    "programming (OOP). It allows you to create complex types by combining objects \n",
    "of different classes. This relationship is known as a \"has-a\" relationship. \n",
    "\n",
    "--> A \"has-a\" relationship means that a class Composite can contain an object \n",
    "of another class Component. For example, a Maruti has an Engine, or a House has\n",
    "a Bathroom. \n",
    "\n",
    "--> Composition helps design software systems by: \n",
    "\n",
    "1. Using instance variables that are references to other objects\n",
    "\n",
    "2. Simplifying initial design by identifying the system\n",
    "\n",
    "3. Composing what an object can do (has-a) rather than extending what it is\n",
    "(is-a).\n",
    "\n",
    "\"\"\""
   ]
  },
  {
   "cell_type": "markdown",
   "id": "3aaefad5-7d6e-4efb-9607-3028086b60ac",
   "metadata": {},
   "source": [
    "Q8:- Create a Python class for a computer system, using composition to represent components like CPU, RAM,\n",
    "and storage devices."
   ]
  },
  {
   "cell_type": "code",
   "execution_count": 13,
   "id": "76614a73-95cf-472a-b9bb-8ada3c7f7271",
   "metadata": {},
   "outputs": [
    {
     "name": "stdout",
     "output_type": "stream",
     "text": [
      "Computer Specs:\n",
      "Intel 3.2 GHz\n",
      "16 GB 2666 MHz\n",
      "Storage: 512 GB SSD\n"
     ]
    }
   ],
   "source": [
    "class CPU:\n",
    "    \n",
    "    def __init__(self,brand,speed):\n",
    "        \n",
    "        self.brand=brand\n",
    "        self.speed=speed\n",
    "        \n",
    "    def get_info(self):\n",
    "        \n",
    "        return f\"{self.brand} {self.speed} GHz\"\n",
    "    \n",
    "class RAM:\n",
    "    \n",
    "    def __init__(self,capacity,speed):\n",
    "        \n",
    "        self.capacity=capacity\n",
    "        self.speed=speed\n",
    "        \n",
    "    def get_info(self):\n",
    "        \n",
    "        return f\"{self.capacity} GB {self.speed} MHz\"\n",
    "    \n",
    "class StorageDevice:\n",
    "    \n",
    "    def __init__(self,storage_type,capacity):\n",
    "        \n",
    "        self.storage_type=storage_type\n",
    "        self.capacity=capacity\n",
    "        \n",
    "    def get_info(self):\n",
    "        \n",
    "        return f\"Storage: {self.capacity} GB {self.storage_type}\"\n",
    "    \n",
    "class Computer:\n",
    "    \n",
    "    def __init__(self,cpu,ram,storage):\n",
    "        self.cpu=cpu\n",
    "        self.ram=ram\n",
    "        self.storage=storage\n",
    "        \n",
    "    def get_specs(self):\n",
    "        \n",
    "        cpu_info=self.cpu.get_info()\n",
    "        ram_info=self.ram.get_info()\n",
    "        storage_info=self.storage.get_info()\n",
    "        return f\"Computer Specs:\\n{cpu_info}\\n{ram_info}\\n{storage_info}\"\n",
    "    \n",
    "cpu=CPU(\"Intel\",3.2)\n",
    "ram=RAM(16,2666)\n",
    "storage=StorageDevice(\"SSD\",512)\n",
    "computer=Computer(cpu,ram,storage)\n",
    "\n",
    "print(computer.get_specs())"
   ]
  },
  {
   "cell_type": "markdown",
   "id": "db8a5ca7-855f-4f40-b764-0785dbdefae1",
   "metadata": {},
   "source": [
    "Q9:- Describe the concept of \"delegation\" in composition and how it simplifies the design of complex systems."
   ]
  },
  {
   "cell_type": "code",
   "execution_count": null,
   "id": "e89c4c0c-6a21-436b-a4b5-74d659d3bce7",
   "metadata": {},
   "outputs": [],
   "source": [
    "\"\"\"\n",
    "\n",
    "--> Delegation is a design pattern that allows one object to pass on a request\n",
    "to another object. This can be used to simplify the design of complex systems \n",
    "by allowing objects to focus on their own responsibilities.\n",
    "\n",
    "\n",
    "--> For example, imagine a system that has a number of objects that are \n",
    "responsible for different tasks. One object might be responsible for loading \n",
    "data from a database, another object might be responsible for processing that \n",
    "data, and another object might be responsible for displaying the data.\n",
    "\n",
    "\n",
    "--> If each of these objects were to implement its own logic for loading, \n",
    "processing, and displaying the data, the system would become very complex.\n",
    "However, if the objects were to delegate these tasks to other objects, the \n",
    "system would become much simpler.\n",
    "\n",
    "\"\"\"\n"
   ]
  },
  {
   "cell_type": "markdown",
   "id": "572d82f7-e7d9-47c0-b4f2-5b276a27dff4",
   "metadata": {},
   "source": [
    "Q10:- Create a Python class for a car, using composition to represent components like the engine, wheels, and\n",
    "transmission."
   ]
  },
  {
   "cell_type": "code",
   "execution_count": 24,
   "id": "49a0730f-4c3a-4475-82d2-b8acb82ec728",
   "metadata": {},
   "outputs": [
    {
     "name": "stdout",
     "output_type": "stream",
     "text": [
      "Engine started\n",
      "Shifted to Drive\n",
      "Driving the Toyota Camry at 60 mph\n",
      "Engine stopped\n"
     ]
    }
   ],
   "source": [
    "class Engine:\n",
    "    def __init__(self, fuel_type, horsepower):\n",
    "        self.fuel_type = fuel_type\n",
    "        self.horsepower = horsepower\n",
    "\n",
    "    def start(self):\n",
    "        print(\"Engine started\")\n",
    "\n",
    "    def stop(self):\n",
    "        print(\"Engine stopped\")\n",
    "\n",
    "class Wheel:\n",
    "    def __init__(self, brand, size):\n",
    "        self.brand = brand\n",
    "        self.size = size\n",
    "\n",
    "    def rotate(self):\n",
    "        print(\"Wheel rotating\")\n",
    "\n",
    "class Transmission:\n",
    "    def __init__(self, transmission_type):\n",
    "        self.transmission_type = transmission_type\n",
    "\n",
    "    def shift(self, gear):\n",
    "        print(f\"Shifted to {gear}\")\n",
    "\n",
    "class Car:\n",
    "    def __init__(self, make, model, engine, wheels, transmission):\n",
    "        self.make = make\n",
    "        self.model = model\n",
    "        self.engine = engine\n",
    "        self.wheels = wheels\n",
    "        self.transmission = transmission\n",
    "\n",
    "    def start(self):\n",
    "        self.engine.start()\n",
    "\n",
    "    def stop(self):\n",
    "        self.engine.stop()\n",
    "\n",
    "    def drive(self, speed, gear):\n",
    "        self.transmission.shift(gear)\n",
    "        print(f\"Driving the {self.make} {self.model} at {speed} mph\")\n",
    "\n",
    "# Example usage:\n",
    "engine = Engine(\"Gasoline\", 200)\n",
    "wheels = [Wheel(\"Michelin\", 18) for _ in range(4)]\n",
    "transmission = Transmission(\"Automatic\")\n",
    "\n",
    "my_car = Car(\"Toyota\", \"Camry\", engine, wheels, transmission)\n",
    "\n",
    "my_car.start()\n",
    "my_car.drive(60, \"Drive\")\n",
    "my_car.stop()\n"
   ]
  },
  {
   "cell_type": "markdown",
   "id": "156df697-96bf-42df-b86b-cc990b3178fb",
   "metadata": {},
   "source": [
    "Q11:- How can you encapsulate and hide the details of composed objects in Python classes to maintain\n",
    "abstraction?"
   ]
  },
  {
   "cell_type": "code",
   "execution_count": null,
   "id": "562b8b8a-05bc-4e5b-bc33-5d8ed77da79e",
   "metadata": {},
   "outputs": [],
   "source": [
    "\"\"\"\n",
    "\n",
    "--> Encapsulation is a programming concept that binds data and methods into a \n",
    "single unit. This makes it easier to manage and use the data, and it also helps \n",
    "to protect the data from unauthorized access or modification.\n",
    "\n",
    "\n",
    "--> In Python, encapsulation is achieved using classes. A class is a blueprint\n",
    "for creating objects, and it defines the properties and behaviors of an object.\n",
    "When you create an object from a class, you are creating an instance of that\n",
    "class.\n",
    "\n",
    "\n",
    "--> The properties of an object are the data that is associated with the \n",
    "object. The behaviors of an object are the methods that can be used to \n",
    "manipulate the data.\n",
    "\n",
    "\n",
    "--> Encapsulation is achieved by making the properties and methods of a class \n",
    "private. This means that they cannot be accessed from outside the class. The \n",
    "only way to access the properties and methods of a class is to use the public\n",
    "interface of the class.\n",
    "\n",
    "\n",
    "--> The public interface of a class is the set of methods that are available \n",
    "to be used by other objects. The public interface is usually defined in \n",
    "the __init__ method of the class.\n",
    "\n",
    "\n",
    "--> The __init__ method is called when an object is created, and it is used to \n",
    "initialize the properties of the object. The __init__ method can also be used \n",
    "to set the behavior of the object.\n",
    "\n",
    "\"\"\"\n"
   ]
  },
  {
   "cell_type": "markdown",
   "id": "df186668-8cd8-4350-80c0-0ebad02c01c5",
   "metadata": {},
   "source": [
    "Q12:- Create a Python class for a university course, using composition to represent students, instructors, and\n",
    "course materials."
   ]
  },
  {
   "cell_type": "code",
   "execution_count": 22,
   "id": "7ec47a66-b4dd-49b2-b3f8-21c4476aeb12",
   "metadata": {},
   "outputs": [
    {
     "name": "stdout",
     "output_type": "stream",
     "text": [
      "Course Code: CS101\n",
      "Course Name: Introduction to Computer Science\n",
      "Instructor: Instructor ID: 101, Name: Dr. Smith\n",
      "Students:\n",
      "- Student ID: 1, Name: Alice\n",
      "- Student ID: 2, Name: Bob\n",
      "Course Materials:\n",
      "Title: Lecture 1\n",
      "This is the content of the first lecture.\n",
      "Title: Homework 1\n",
      "Please complete the assignment by the due date.\n"
     ]
    }
   ],
   "source": [
    "class Student:\n",
    "    def __init__(self, student_id, name):\n",
    "        self.student_id = student_id\n",
    "        self.name = name\n",
    "\n",
    "    def get_info(self):\n",
    "        return f\"Student ID: {self.student_id}, Name: {self.name}\"\n",
    "\n",
    "class Instructor:\n",
    "    def __init__(self, instructor_id, name):\n",
    "        self.instructor_id = instructor_id\n",
    "        self.name = name\n",
    "\n",
    "    def get_info(self):\n",
    "        return f\"Instructor ID: {self.instructor_id}, Name: {self.name}\"\n",
    "\n",
    "class CourseMaterial:\n",
    "    def __init__(self, title, content):\n",
    "        self.title = title\n",
    "        self.content = content\n",
    "\n",
    "    def display(self):\n",
    "        return f\"Title: {self.title}\\n{self.content}\"\n",
    "\n",
    "class UniversityCourse:\n",
    "    def __init__(self, course_code, course_name, instructor, students, course_materials):\n",
    "        self.course_code = course_code\n",
    "        self.course_name = course_name\n",
    "        self.instructor = instructor\n",
    "        self.students = students\n",
    "        self.course_materials = course_materials\n",
    "\n",
    "    def display_course_info(self):\n",
    "        print(f\"Course Code: {self.course_code}\")\n",
    "        print(f\"Course Name: {self.course_name}\")\n",
    "        print(f\"Instructor: {self.instructor.get_info()}\")\n",
    "        print(\"Students:\")\n",
    "        for student in self.students:\n",
    "            print(f\"- {student.get_info()}\")\n",
    "        print(\"Course Materials:\")\n",
    "        for material in self.course_materials:\n",
    "            print(material.display())\n",
    "\n",
    "# Example usage:\n",
    "student1 = Student(1, \"Alice\")\n",
    "student2 = Student(2, \"Bob\")\n",
    "instructor = Instructor(101, \"Dr. Smith\")\n",
    "\n",
    "material1 = CourseMaterial(\"Lecture 1\", \"This is the content of the first lecture.\")\n",
    "material2 = CourseMaterial(\"Homework 1\", \"Please complete the assignment by the due date.\")\n",
    "\n",
    "students = [student1, student2]\n",
    "course_materials = [material1, material2]\n",
    "\n",
    "computer_science_course = UniversityCourse(\"CS101\", \"Introduction to Computer Science\", instructor, students, course_materials)\n",
    "\n",
    "computer_science_course.display_course_info()\n"
   ]
  },
  {
   "cell_type": "markdown",
   "id": "363709f9-b02f-401e-a2e0-2ca4dbcb7413",
   "metadata": {},
   "source": [
    "Q13:-Discuss the challenges and drawbacks of composition, such as increased complexity and potential for\n",
    "tight coupling between objects."
   ]
  },
  {
   "cell_type": "code",
   "execution_count": null,
   "id": "aff20ca3-e965-4c85-86ba-3646a832b8fc",
   "metadata": {},
   "outputs": [],
   "source": [
    "\"\"\"\n",
    "\n",
    "--> Composition is a powerful technique for creating complex objects from \n",
    "smaller, more manageable pieces. However, it can also introduce some challenges\n",
    "and drawbacks.\n",
    "\n",
    "\n",
    "--> One challenge is that composition can increase the complexity of a program.\n",
    "When you create an object by composing other objects, you are essentially\n",
    "creating a new object that is made up of many different parts. This can make\n",
    "it difficult to understand and maintain the code that creates the object.\n",
    "\n",
    "\n",
    "--> Another challenge is that composition can lead to tight coupling between \n",
    "objects. When you tightly couple two objects, you make them dependent on each \n",
    "other. This can make it difficult to change or remove one object without also \n",
    "changing or removing the other object.\n",
    "\n",
    "\n",
    "--> Finally, composition can make it difficult to test objects. When you test \n",
    "an object that is composed of other objects, you need to make sure that all of\n",
    "the objects are working properly. This can be a time-consuming and difficult \n",
    "task.\n",
    "\n",
    "\n",
    "--> Despite these challenges, composition can be a powerful and effective \n",
    "technique for creating complex objects. When used carefully, composition can \n",
    "help you to create code that is more modular, reusable, and maintainable.\n",
    "\n",
    "\"\"\""
   ]
  },
  {
   "cell_type": "markdown",
   "id": "51cf1379-1f35-44de-bae0-d0ea33b251b3",
   "metadata": {},
   "source": [
    "Q14:- Create a Python class hierarchy for a restaurant system, using composition to represent menus, dishes,\n",
    "and ingredients."
   ]
  },
  {
   "cell_type": "code",
   "execution_count": 14,
   "id": "fd82abda-a235-4b06-ac35-7b8edb4d1b21",
   "metadata": {},
   "outputs": [
    {
     "name": "stdout",
     "output_type": "stream",
     "text": [
      "Menu: Pizza Menu\n",
      "Margherita Pizza:\n",
      "- Tomatoes: 200g\n",
      "- Cheese: 100g\n",
      "\n"
     ]
    }
   ],
   "source": [
    "class Ingredient:\n",
    "    def __init__(self, name, quantity):\n",
    "        self.name = name\n",
    "        self.quantity = quantity\n",
    "\n",
    "class Dish:\n",
    "    def __init__(self, name, ingredients):\n",
    "        self.name = name\n",
    "        self.ingredients = ingredients\n",
    "\n",
    "    def display(self):\n",
    "        print(f\"{self.name}:\")\n",
    "        for ingredient in self.ingredients:\n",
    "            print(f\"- {ingredient.name}: {ingredient.quantity}\")\n",
    "\n",
    "class Menu:\n",
    "    def __init__(self, name):\n",
    "        self.name = name\n",
    "        self.dishes = []\n",
    "\n",
    "    def add_dish(self, dish):\n",
    "        self.dishes.append(dish)\n",
    "\n",
    "    def display(self):\n",
    "        print(f\"Menu: {self.name}\")\n",
    "        for dish in self.dishes:\n",
    "            dish.display()\n",
    "            print()\n",
    "\n",
    "class Restaurant:\n",
    "    def __init__(self, name):\n",
    "        self.name = name\n",
    "        self.menus = []\n",
    "\n",
    "    def add_menu(self, menu):\n",
    "        self.menus.append(menu)\n",
    "\n",
    "    def display_menu(self, menu_name):\n",
    "        for menu in self.menus:\n",
    "            if menu.name == menu_name:\n",
    "                menu.display()\n",
    "                return\n",
    "        print(f\"Menu '{menu_name}' not found in {self.name}.\")\n",
    "\n",
    "# Example usage:\n",
    "ingredient1 = Ingredient(\"Tomatoes\", \"200g\")\n",
    "ingredient2 = Ingredient(\"Cheese\", \"100g\")\n",
    "dish1 = Dish(\"Margherita Pizza\", [ingredient1, ingredient2])\n",
    "\n",
    "ingredient3 = Ingredient(\"Chicken\", \"300g\")\n",
    "ingredient4 = Ingredient(\"Mushrooms\", \"150g\")\n",
    "dish2 = Dish(\"Chicken Mushroom Alfredo\", [ingredient3, ingredient4])\n",
    "\n",
    "menu1 = Menu(\"Pizza Menu\")\n",
    "menu1.add_dish(dish1)\n",
    "\n",
    "menu2 = Menu(\"Pasta Menu\")\n",
    "menu2.add_dish(dish2)\n",
    "\n",
    "restaurant = Restaurant(\"Italian Restaurant\")\n",
    "restaurant.add_menu(menu1)\n",
    "restaurant.add_menu(menu2)\n",
    "\n",
    "restaurant.display_menu(\"Pizza Menu\")\n"
   ]
  },
  {
   "cell_type": "markdown",
   "id": "b04e19ec-1fcc-499f-9031-7bd7d86cf0e3",
   "metadata": {},
   "source": [
    "Q15. Explain how composition enhances code maintainability and modularity in Python programs."
   ]
  },
  {
   "cell_type": "code",
   "execution_count": null,
   "id": "378a7475-3a4a-4553-a767-b5b9452cc0e2",
   "metadata": {},
   "outputs": [],
   "source": [
    "\"\"\"\n",
    "\n",
    "--> Composition is a programming technique that allows you to create new \n",
    "objects by combining existing objects. This can be done by passing one object\n",
    "as a parameter to another object. The second object can then use the first \n",
    "object's properties and methods.\n",
    "\n",
    "\n",
    "--> Composition can be used to create modular and reusable code. This is\n",
    "because it allows you to break down complex objects into smaller, more \n",
    "manageable pieces. Each piece of code can then be reused in other contexts.\n",
    "\n",
    "\n",
    "--> Composition can also improve the maintainability of code. This is because \n",
    "it makes it easier to understand and update the code. When code is modular, it\n",
    "is easier to see how each piece of code fits together. This can make it easier\n",
    "to find and fix bugs.\n",
    "\n",
    "\"\"\""
   ]
  },
  {
   "cell_type": "markdown",
   "id": "9bf68ab1-0142-4eb7-a4ab-02326e3f2387",
   "metadata": {},
   "source": [
    "Q16:- Create a Python class for a computer game character, using composition to represent attributes like\n",
    "weapons, armor, and inventory."
   ]
  },
  {
   "cell_type": "code",
   "execution_count": 17,
   "id": "82c7ff92-cfb1-409a-9125-702e62e806f6",
   "metadata": {},
   "outputs": [
    {
     "name": "stdout",
     "output_type": "stream",
     "text": [
      "Character: Player1\n",
      "Weapon: Sword, Damage: 10\n",
      "Armor: Shield, Defense: 5\n",
      "Inventory:\n",
      "- Weapon: Bow, Damage: 8\n",
      "- Armor: Helmet, Defense: 3\n"
     ]
    }
   ],
   "source": [
    "class Weapon:\n",
    "    def __init__(self, name, damage):\n",
    "        self.name = name\n",
    "        self.damage = damage\n",
    "\n",
    "    def info(self):\n",
    "        return f\"Weapon: {self.name}, Damage: {self.damage}\"\n",
    "\n",
    "class Armor:\n",
    "    def __init__(self, name, defense):\n",
    "        self.name = name\n",
    "        self.defense = defense\n",
    "\n",
    "    def info(self):\n",
    "        return f\"Armor: {self.name}, Defense: {self.defense}\"\n",
    "\n",
    "class Inventory:\n",
    "    def __init__(self):\n",
    "        self.items = []\n",
    "\n",
    "    def add_item(self, item):\n",
    "        self.items.append(item)\n",
    "\n",
    "    def list_items(self):\n",
    "        return [item.info() for item in self.items]\n",
    "\n",
    "class Character:\n",
    "    def __init__(self, name, weapon, armor, inventory):\n",
    "        self.name = name\n",
    "        self.weapon = weapon\n",
    "        self.armor = armor\n",
    "        self.inventory = inventory\n",
    "\n",
    "    def display_info(self):\n",
    "        print(f\"Character: {self.name}\")\n",
    "        print(self.weapon.info())\n",
    "        print(self.armor.info())\n",
    "        print(\"Inventory:\")\n",
    "        for item in self.inventory.list_items():\n",
    "            print(\"-\", item)\n",
    "\n",
    "# Example usage:\n",
    "sword = Weapon(\"Sword\", 10)\n",
    "shield = Armor(\"Shield\", 5)\n",
    "inventory = Inventory()\n",
    "inventory.add_item(Weapon(\"Bow\", 8))\n",
    "inventory.add_item(Armor(\"Helmet\", 3))\n",
    "\n",
    "player = Character(\"Player1\", sword, shield, inventory)\n",
    "player.display_info()\n"
   ]
  },
  {
   "cell_type": "markdown",
   "id": "fecdc1ef-1883-455f-95f2-ff17abd08e31",
   "metadata": {},
   "source": [
    "Q17:- Describe the concept of \"aggregation\" in composition and how it differs from simple composition."
   ]
  },
  {
   "cell_type": "code",
   "execution_count": null,
   "id": "e040b918-6662-42a2-8487-ad8a9a2d74fb",
   "metadata": {},
   "outputs": [],
   "source": [
    "\"\"\"\n",
    "\n",
    "--> Aggregation in composition in Python is a way of creating a new class that is composed of other classes. The \n",
    "new class inherits the properties of the other classes, and can also have its own properties and methods.\n",
    "\n",
    "\n",
    "--> The difference between aggregation and simple composition is that in aggregation, the other classes are still \n",
    "independent of the new class. They can exist and be used outside of the new class. In simple composition, the\n",
    "other classes are not independent of the new class. They can only be used within the new class.\n",
    "\n",
    "\"\"\"\n"
   ]
  },
  {
   "cell_type": "code",
   "execution_count": null,
   "id": "35044c13-0eba-4e1a-8f33-0e9bdb450d0d",
   "metadata": {},
   "outputs": [],
   "source": [
    "Q18:- Create a Python class for a house, using composition to represent rooms, furniture, and appliances."
   ]
  },
  {
   "cell_type": "code",
   "execution_count": 18,
   "id": "13c4c5d4-d222-410b-befe-48544a1529d0",
   "metadata": {},
   "outputs": [
    {
     "name": "stdout",
     "output_type": "stream",
     "text": [
      "House: My Home\n",
      "Contents of Living Room:\n",
      "Furniture: Couch\n",
      "Furniture: Coffee Table\n",
      "Contents of Kitchen:\n",
      "Appliance: Fridge\n",
      "Appliance: Oven\n"
     ]
    }
   ],
   "source": [
    "class Furniture:\n",
    "    def __init__(self, name):\n",
    "        self.name = name\n",
    "\n",
    "    def describe(self):\n",
    "        return f\"Furniture: {self.name}\"\n",
    "\n",
    "class Appliance:\n",
    "    def __init__(self, name):\n",
    "        self.name = name\n",
    "\n",
    "    def describe(self):\n",
    "        return f\"Appliance: {self.name}\"\n",
    "\n",
    "class Room:\n",
    "    def __init__(self, name):\n",
    "        self.name = name\n",
    "        self.furniture = []\n",
    "        self.appliances = []\n",
    "\n",
    "    def add_furniture(self, furniture):\n",
    "        self.furniture.append(furniture)\n",
    "\n",
    "    def add_appliance(self, appliance):\n",
    "        self.appliances.append(appliance)\n",
    "\n",
    "    def describe_contents(self):\n",
    "        content_description = [item.describe() for item in self.furniture + self.appliances]\n",
    "        return f\"Contents of {self.name}:\\n\" + \"\\n\".join(content_description)\n",
    "\n",
    "class House:\n",
    "    def __init__(self, name):\n",
    "        self.name = name\n",
    "        self.rooms = []\n",
    "\n",
    "    def add_room(self, room):\n",
    "        self.rooms.append(room)\n",
    "\n",
    "    def describe_house(self):\n",
    "        print(f\"House: {self.name}\")\n",
    "        for room in self.rooms:\n",
    "            print(room.describe_contents())\n",
    "\n",
    "# Example usage:\n",
    "couch = Furniture(\"Couch\")\n",
    "table = Furniture(\"Coffee Table\")\n",
    "fridge = Appliance(\"Fridge\")\n",
    "oven = Appliance(\"Oven\")\n",
    "\n",
    "living_room = Room(\"Living Room\")\n",
    "living_room.add_furniture(couch)\n",
    "living_room.add_furniture(table)\n",
    "\n",
    "kitchen = Room(\"Kitchen\")\n",
    "kitchen.add_appliance(fridge)\n",
    "kitchen.add_appliance(oven)\n",
    "\n",
    "my_house = House(\"My Home\")\n",
    "my_house.add_room(living_room)\n",
    "my_house.add_room(kitchen)\n",
    "\n",
    "my_house.describe_house()\n"
   ]
  },
  {
   "cell_type": "markdown",
   "id": "633044b7-df07-4863-aad0-86c10aa48ded",
   "metadata": {},
   "source": [
    "Q19. How can you achieve flexibility in composed objects by allowing them to be replaced or modified\n",
    "dynamically at runtime?"
   ]
  },
  {
   "cell_type": "code",
   "execution_count": 19,
   "id": "924d3c1a-dacf-4c93-bf01-d4b54156060a",
   "metadata": {},
   "outputs": [
    {
     "name": "stdout",
     "output_type": "stream",
     "text": [
      "This is the BaseClass constructor\n",
      "NewClass\n"
     ]
    }
   ],
   "source": [
    "\"\"\"\n",
    "\n",
    "--> There are a few ways to achieve flexibility in composed objects by allowing them to be replaced or modified\n",
    "dynamically at runtime in Python. One way is to use the type() function to create a new class that inherits from \n",
    "the existing class. This new class can then be modified as needed. Another way is to use the dynamic module, which\n",
    "provides a number of tools for dynamically creating and modifying objects. Finally, it is also possible to use the\n",
    "decorator pattern, which allows you to add functionality to an object at runtime.\n",
    "\n",
    "\"\"\" \n",
    "#for example:\n",
    "\n",
    "class BaseClass:\n",
    "    def __init__(self):\n",
    "        print(\"This is the BaseClass constructor\")\n",
    "\n",
    "class DerivedClass(BaseClass):\n",
    "    def __init__(self):\n",
    "        print(\"This is the DerivedClass constructor\")\n",
    "\n",
    "def create_new_class():\n",
    "    new_class = type(\"NewClass\", (BaseClass,), {})\n",
    "    return new_class\n",
    "\n",
    "new_class = create_new_class()\n",
    "object = new_class()\n",
    "print(object.__class__.__name__)"
   ]
  },
  {
   "cell_type": "markdown",
   "id": "0396fb44-ea16-488a-8528-ada6792db514",
   "metadata": {},
   "source": [
    "Q20:- Create a Python class for a social media application, using composition to represent users, posts, and\n",
    "comments."
   ]
  },
  {
   "cell_type": "code",
   "execution_count": 21,
   "id": "f377a2a3-831b-431d-b1f8-6dc4d0224d82",
   "metadata": {},
   "outputs": [
    {
     "name": "stdout",
     "output_type": "stream",
     "text": [
      "Alice said:\n",
      "Hello, world!\n",
      "Comments:\n",
      "Carol: Nice post, Alice!\n",
      "Bob said:\n",
      "Python is awesome!\n",
      "Comments:\n",
      "David: I totally agree!\n"
     ]
    }
   ],
   "source": [
    "class Comment:\n",
    "    def __init__(self, author, content):\n",
    "        self.author = author\n",
    "        self.content = content\n",
    "\n",
    "    def display(self):\n",
    "        return f\"{self.author}: {self.content}\"\n",
    "\n",
    "class Post:\n",
    "    def __init__(self, author, content):\n",
    "        self.author = author\n",
    "        self.content = content\n",
    "        self.comments = []\n",
    "\n",
    "    def add_comment(self, comment):\n",
    "        self.comments.append(comment)\n",
    "\n",
    "    def display(self):\n",
    "        comments_str = \"\\n\".join([comment.display() for comment in self.comments])\n",
    "        return f\"{self.author} said:\\n{self.content}\\nComments:\\n{comments_str}\"\n",
    "\n",
    "class User:\n",
    "    def __init__(self, username):\n",
    "        self.username = username\n",
    "        self.posts = []\n",
    "\n",
    "    def create_post(self, content):\n",
    "        post = Post(self.username, content)\n",
    "        self.posts.append(post)\n",
    "        return post\n",
    "\n",
    "# Social Media Application\n",
    "class SocialMediaApp:\n",
    "    def __init__(self):\n",
    "        self.users = []\n",
    "\n",
    "    def create_user(self, username):\n",
    "        user = User(username)\n",
    "        self.users.append(user)\n",
    "        return user\n",
    "\n",
    "# Example usage:\n",
    "app = SocialMediaApp()\n",
    "user1 = app.create_user(\"Alice\")\n",
    "user2 = app.create_user(\"Bob\")\n",
    "\n",
    "post1 = user1.create_post(\"Hello, world!\")\n",
    "comment1 = Comment(\"Carol\", \"Nice post, Alice!\")\n",
    "post1.add_comment(comment1)\n",
    "\n",
    "post2 = user2.create_post(\"Python is awesome!\")\n",
    "comment2 = Comment(\"David\", \"I totally agree!\")\n",
    "post2.add_comment(comment2)\n",
    "\n",
    "for user in app.users:\n",
    "    for post in user.posts:\n",
    "        print(post.display())\n"
   ]
  },
  {
   "cell_type": "code",
   "execution_count": null,
   "id": "2cf8aad4-5ef2-4c88-809b-e48d672f0a55",
   "metadata": {},
   "outputs": [],
   "source": []
  },
  {
   "cell_type": "code",
   "execution_count": null,
   "id": "f6c61bec-74c1-4b47-8897-3d5799e65641",
   "metadata": {},
   "outputs": [],
   "source": []
  },
  {
   "cell_type": "code",
   "execution_count": null,
   "id": "b4cdbf7f-415b-427a-b1eb-8c94d54b9760",
   "metadata": {},
   "outputs": [],
   "source": []
  },
  {
   "cell_type": "code",
   "execution_count": null,
   "id": "57a99e5c-b5d8-4129-84ab-854ed67dda76",
   "metadata": {},
   "outputs": [],
   "source": []
  },
  {
   "cell_type": "code",
   "execution_count": null,
   "id": "abee9744-64db-42d3-9d50-e046a6be5fa1",
   "metadata": {},
   "outputs": [],
   "source": []
  },
  {
   "cell_type": "code",
   "execution_count": null,
   "id": "b9079d6d-37dc-4997-98d5-fd0f5c9f419d",
   "metadata": {},
   "outputs": [],
   "source": []
  },
  {
   "cell_type": "code",
   "execution_count": null,
   "id": "b707ba1d-3dd3-4977-a3c6-c3a58e5802e2",
   "metadata": {},
   "outputs": [],
   "source": []
  },
  {
   "cell_type": "code",
   "execution_count": null,
   "id": "a7a21ec1-5f91-4502-a1e8-316f1645256c",
   "metadata": {},
   "outputs": [],
   "source": []
  },
  {
   "cell_type": "code",
   "execution_count": null,
   "id": "091134b8-3431-41ac-aa72-def82b53d948",
   "metadata": {},
   "outputs": [],
   "source": []
  },
  {
   "cell_type": "code",
   "execution_count": null,
   "id": "7ec5f827-c3c5-4c8a-8d21-6505c9c2a2c4",
   "metadata": {},
   "outputs": [],
   "source": []
  },
  {
   "cell_type": "code",
   "execution_count": null,
   "id": "063fc293-6369-4017-a985-c871d32c5c58",
   "metadata": {},
   "outputs": [],
   "source": []
  },
  {
   "cell_type": "code",
   "execution_count": null,
   "id": "1818843c-df7c-4092-a7a5-d91823b9bd9b",
   "metadata": {},
   "outputs": [],
   "source": []
  },
  {
   "cell_type": "code",
   "execution_count": null,
   "id": "032def7c-7e09-4a6c-97e8-492ed5f6698b",
   "metadata": {},
   "outputs": [],
   "source": []
  },
  {
   "cell_type": "code",
   "execution_count": null,
   "id": "8a765e03-2d0f-49b9-aae7-afe9bfa284c8",
   "metadata": {},
   "outputs": [],
   "source": []
  },
  {
   "cell_type": "code",
   "execution_count": null,
   "id": "ec830ef4-7c6e-46de-8e15-a3a2705e7a89",
   "metadata": {},
   "outputs": [],
   "source": []
  },
  {
   "cell_type": "code",
   "execution_count": null,
   "id": "7783d6fd-f268-4a06-930a-780e95ea0e44",
   "metadata": {},
   "outputs": [],
   "source": []
  },
  {
   "cell_type": "code",
   "execution_count": null,
   "id": "fc34da07-542e-4f19-a404-392d9b80a853",
   "metadata": {},
   "outputs": [],
   "source": []
  },
  {
   "cell_type": "code",
   "execution_count": null,
   "id": "8476db22-563e-455a-8157-1e7419edadb0",
   "metadata": {},
   "outputs": [],
   "source": []
  },
  {
   "cell_type": "code",
   "execution_count": null,
   "id": "490c80a4-2300-41ea-b4e6-695617178473",
   "metadata": {},
   "outputs": [],
   "source": []
  },
  {
   "cell_type": "code",
   "execution_count": null,
   "id": "a350f584-52df-4ff1-8326-575c1c989a38",
   "metadata": {},
   "outputs": [],
   "source": []
  },
  {
   "cell_type": "code",
   "execution_count": null,
   "id": "280529a9-2707-4987-8e3a-dea8c5f76aa3",
   "metadata": {},
   "outputs": [],
   "source": []
  },
  {
   "cell_type": "code",
   "execution_count": null,
   "id": "5f334f90-c143-4f37-9145-4dd338cce186",
   "metadata": {},
   "outputs": [],
   "source": []
  },
  {
   "cell_type": "code",
   "execution_count": null,
   "id": "28231b33-7b6e-46ca-a29e-fe4ac0d79ac7",
   "metadata": {},
   "outputs": [],
   "source": []
  },
  {
   "cell_type": "code",
   "execution_count": null,
   "id": "4e6d807c-e34e-49e7-8898-c2afdbc3343d",
   "metadata": {},
   "outputs": [],
   "source": []
  },
  {
   "cell_type": "code",
   "execution_count": null,
   "id": "a90e1cae-613f-4cfc-9bad-1ede202665af",
   "metadata": {},
   "outputs": [],
   "source": []
  },
  {
   "cell_type": "code",
   "execution_count": null,
   "id": "56739d0c-e5cb-4ef9-86f8-b7205a2a066e",
   "metadata": {},
   "outputs": [],
   "source": []
  },
  {
   "cell_type": "code",
   "execution_count": null,
   "id": "c5d031f3-a97a-4c2d-b3ab-af345bdcb6a5",
   "metadata": {},
   "outputs": [],
   "source": []
  },
  {
   "cell_type": "code",
   "execution_count": null,
   "id": "c36d3411-f30f-4f9c-8f67-977138e3866e",
   "metadata": {},
   "outputs": [],
   "source": []
  },
  {
   "cell_type": "code",
   "execution_count": null,
   "id": "c0af5733-0185-430c-b05a-cb27c3ac6707",
   "metadata": {},
   "outputs": [],
   "source": []
  },
  {
   "cell_type": "code",
   "execution_count": null,
   "id": "eaecb982-ab6c-436c-b9f5-5deabea9321b",
   "metadata": {},
   "outputs": [],
   "source": []
  },
  {
   "cell_type": "code",
   "execution_count": null,
   "id": "eef9606b-d3a8-489e-9431-65a83554ae11",
   "metadata": {},
   "outputs": [],
   "source": []
  },
  {
   "cell_type": "code",
   "execution_count": null,
   "id": "aac55f7a-5b98-4aff-ad59-6d967b2ca477",
   "metadata": {},
   "outputs": [],
   "source": []
  },
  {
   "cell_type": "code",
   "execution_count": null,
   "id": "5f3c8f71-f4fc-402c-9028-3d8eae47dd30",
   "metadata": {},
   "outputs": [],
   "source": []
  }
 ],
 "metadata": {
  "kernelspec": {
   "display_name": "Python 3 (ipykernel)",
   "language": "python",
   "name": "python3"
  },
  "language_info": {
   "codemirror_mode": {
    "name": "ipython",
    "version": 3
   },
   "file_extension": ".py",
   "mimetype": "text/x-python",
   "name": "python",
   "nbconvert_exporter": "python",
   "pygments_lexer": "ipython3",
   "version": "3.10.8"
  }
 },
 "nbformat": 4,
 "nbformat_minor": 5
}
