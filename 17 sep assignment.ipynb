{
 "cells": [
  {
   "cell_type": "markdown",
   "id": "816394d1-0379-4427-acf2-81682f9899ea",
   "metadata": {},
   "source": [
    "Q1. Write a Python program to print numbers from 1 to 10 using a for loop.\n"
   ]
  },
  {
   "cell_type": "code",
   "execution_count": 1,
   "id": "561000c3-697b-47a6-99b6-4d8252f1ea78",
   "metadata": {},
   "outputs": [
    {
     "name": "stdout",
     "output_type": "stream",
     "text": [
      "1\n",
      "2\n",
      "3\n",
      "4\n",
      "5\n",
      "6\n",
      "7\n",
      "8\n",
      "9\n",
      "10\n"
     ]
    }
   ],
   "source": [
    "for i in range(1,11):\n",
    "    print(i)   # the loop iterates from 1 to 10 and at every iteration it will print the counting\n",
    "    "
   ]
  },
  {
   "cell_type": "markdown",
   "id": "eb64f821-aed5-4343-9571-2d59c2d2688f",
   "metadata": {},
   "source": [
    "Q2. Explain the difference between a for loop and a while loop in Python"
   ]
  },
  {
   "cell_type": "markdown",
   "id": "eee4f755-d3c2-4713-9bb5-f5bafbffc2fb",
   "metadata": {},
   "source": [
    "Ans2:- in python both for loop and while is used for repitative task but they have different structure and syntax.\n",
    "\n",
    "--->For Loop:-In a for loop, you specify an iterable (such as a list, tuple, string, or range) and the loop variable takes on each value from the iterable in sequence. in for loop variable is automatically initialize and incremented based on element in iterable.\n",
    "\n",
    "for variable in iterable:\n",
    "   #code to be executed\n",
    "   \n",
    "--->While Loop:- n a while loop, you specify a condition, and the loop continues executing as long as the condition is True. in while loop we have to manually initialize and update the loop control variable within the loop block.\n",
    "\n",
    "while condition:\n",
    "  #code to be executed\n",
    "  "
   ]
  },
  {
   "cell_type": "markdown",
   "id": "963cc60f-f782-4513-86f6-9a464128a58c",
   "metadata": {},
   "source": [
    "Q3. Write a Python program to calculate the sum of all numbers from 1 to 100 using a for loop.\n"
   ]
  },
  {
   "cell_type": "code",
   "execution_count": 2,
   "id": "ad2ac626-a845-42df-b5f7-d4a8b2d4486e",
   "metadata": {},
   "outputs": [
    {
     "name": "stdin",
     "output_type": "stream",
     "text": [
      "Enter the range of the counting:  12\n"
     ]
    },
    {
     "name": "stdout",
     "output_type": "stream",
     "text": [
      "The sum of the numbers from 1 to n is: 78\n"
     ]
    }
   ],
   "source": [
    "# Prompt the user to enter the range of numbers they want to sum\n",
    "n = int(input(\"Enter the range of the counting: \"))\n",
    "\n",
    "# Initialize a variable 'add' to keep track of the running sum\n",
    "add = 0\n",
    "\n",
    "# Use a for loop to iterate through numbers from 1 to 'n'\n",
    "# The 'range(1, n+1)' generates numbers starting from 1 up to and including 'n'\n",
    "for i in range(1, n+1):\n",
    "    # Add the current value 'i' to the running sum 'add'\n",
    "    add = add + i\n",
    "\n",
    "# Print the result, which is the sum of numbers from 1 to 'n'\n",
    "print(\"The sum of the numbers from 1 to n is:\", add)\n"
   ]
  },
  {
   "cell_type": "markdown",
   "id": "de868816-08b8-43eb-9e5e-10b1e47fffd0",
   "metadata": {},
   "source": [
    "Q4. How do you iterate through a list using a for loop in Python?\n"
   ]
  },
  {
   "cell_type": "code",
   "execution_count": 3,
   "id": "f24adbd3-fb7d-4329-bf5c-9755803ccb1c",
   "metadata": {},
   "outputs": [
    {
     "name": "stdout",
     "output_type": "stream",
     "text": [
      "1\n",
      "2\n",
      "3\n",
      "4\n",
      "5\n",
      "6\n",
      "7\n",
      "8\n",
      "9\n",
      "10\n"
     ]
    }
   ],
   "source": [
    "# Create a list called 'lis' containing some numbers\n",
    "lis = [1, 2, 3, 4, 5, 6, 7, 8, 9, 10]\n",
    "\n",
    "# Use a for loop to iterate through the elements of the 'lis' list\n",
    "# During each iteration, the loop variable 'i' will take on the value of the current element\n",
    "for i in lis:\n",
    "    # Inside the loop, print the current element 'i'\n",
    "    print(i)\n"
   ]
  },
  {
   "cell_type": "markdown",
   "id": "13662299-5762-419e-a1e8-f44bd3a9edd8",
   "metadata": {},
   "source": [
    "Q5. Write a Python program to find the product of all elements in a list using a for loop.\n"
   ]
  },
  {
   "cell_type": "code",
   "execution_count": 4,
   "id": "4466271a-a77a-4704-97b9-7831a4d46f79",
   "metadata": {},
   "outputs": [
    {
     "name": "stdout",
     "output_type": "stream",
     "text": [
      "The product of the numbers in the list is: 3628800\n"
     ]
    }
   ],
   "source": [
    "# Create a list called 'lis' containing some numbers\n",
    "lis = [1, 2, 3, 4, 5, 6, 7, 8, 9, 10]\n",
    "\n",
    "# Initialize a variable 'prod' to store the product of the numbers, starting with 1\n",
    "prod = 1\n",
    "\n",
    "# Use a for loop to iterate through the elements of the 'lis' list\n",
    "# During each iteration, the loop variable 'i' will take on the value of the current element\n",
    "for i in lis:\n",
    "    # Inside the loop, multiply the current element 'i' with the running product 'prod'\n",
    "    prod = prod * i\n",
    "\n",
    "# Print the result, which is the product of all the numbers in the list\n",
    "print(\"The product of the numbers in the list is:\", prod)\n"
   ]
  },
  {
   "cell_type": "markdown",
   "id": "71df442a-51c9-4861-8d95-8aa39fccb700",
   "metadata": {},
   "source": [
    "Q6. Create a Python program that prints all even numbers from 1 to 20 using a for loop"
   ]
  },
  {
   "cell_type": "code",
   "execution_count": 5,
   "id": "0dd58cd3-f8b5-4773-840d-f71912fd761b",
   "metadata": {},
   "outputs": [
    {
     "name": "stdin",
     "output_type": "stream",
     "text": [
      "Enter the range of the numbers:  12\n"
     ]
    },
    {
     "name": "stdout",
     "output_type": "stream",
     "text": [
      "2\n",
      "4\n",
      "6\n",
      "8\n",
      "10\n",
      "12\n"
     ]
    }
   ],
   "source": [
    "# Prompt the user to enter the range of numbers they want to check for even numbers\n",
    "n = int(input(\"Enter the range of the numbers: \"))\n",
    "\n",
    "# Use a for loop to iterate through numbers from 1 to 'n'\n",
    "# The 'range(1, n+1)' generates numbers starting from 1 up to and including 'n'\n",
    "for i in range(1, n+1):\n",
    "    # Check if the current number 'i' is even\n",
    "    if i % 2 == 0:\n",
    "        # If 'i' is even, print it\n",
    "        print(i)\n"
   ]
  },
  {
   "cell_type": "markdown",
   "id": "814aa126-2fe3-480a-a920-f798a0211562",
   "metadata": {},
   "source": [
    "Q7. Write a Python program that calculates the factorial of a number using a for loop."
   ]
  },
  {
   "cell_type": "code",
   "execution_count": 6,
   "id": "4a8adf22-139f-46ef-8289-63e5f967a903",
   "metadata": {},
   "outputs": [
    {
     "name": "stdin",
     "output_type": "stream",
     "text": [
      "Enter the range of the numbers:-  6\n"
     ]
    },
    {
     "name": "stdout",
     "output_type": "stream",
     "text": [
      "The factorial of the number 6 is:- 720\n"
     ]
    }
   ],
   "source": [
    "n=int(input(\"Enter the range of the numbers:- \"))\n",
    "fact=1\n",
    "\n",
    "for i in range(1,n+1):\n",
    "    fact=fact*i\n",
    "    \n",
    "print(f\"The factorial of the number {n} is:- {fact}\")"
   ]
  },
  {
   "cell_type": "markdown",
   "id": "12a4cd73-32f1-4060-b0ff-44ddc01fc365",
   "metadata": {},
   "source": [
    "Q8. How can you iterate through the characters of a string using a for loop in Python?"
   ]
  },
  {
   "cell_type": "code",
   "execution_count": 7,
   "id": "64af49a6-2404-4faf-b587-86d686f2bee2",
   "metadata": {},
   "outputs": [
    {
     "name": "stdout",
     "output_type": "stream",
     "text": [
      "h\n",
      "e\n",
      "l\n",
      "l\n",
      "o\n",
      " \n",
      "w\n",
      "o\n",
      "r\n",
      "l\n",
      "d\n",
      "!\n"
     ]
    }
   ],
   "source": [
    "# Define a string called 'string' containing some text\n",
    "string = \"hello world!\"\n",
    "\n",
    "# Use a for loop to iterate through the characters in the 'string'\n",
    "# During each iteration, the loop variable 'i' will take on the value of the current character\n",
    "for i in string:\n",
    "    # Inside the loop, print the current character 'i'\n",
    "    print(i)\n"
   ]
  },
  {
   "cell_type": "markdown",
   "id": "90e70bd2-42b3-4542-8170-1ce9cac1e4df",
   "metadata": {},
   "source": [
    "Q9. Write a Python program to find the largest number in a list using a for loop.\n"
   ]
  },
  {
   "cell_type": "code",
   "execution_count": 8,
   "id": "ea1c8cf4-b7e0-4e35-846f-60e5f4da0ff5",
   "metadata": {},
   "outputs": [
    {
     "name": "stdout",
     "output_type": "stream",
     "text": [
      "The largest number from the given list '[123, 876, 65, 435, 98, 1, 2, 3, 900]' is: 900\n"
     ]
    }
   ],
   "source": [
    "# Define a list called 'lis' containing some numbers\n",
    "lis = [123, 876, 65, 435, 98, 1, 2, 3, 900]\n",
    "\n",
    "# Initialize a variable 'max_number' to store the maximum value, initially set to the first element in the list\n",
    "max_number = lis[0]\n",
    "\n",
    "# Use a for loop to iterate through the elements of the 'lis' list\n",
    "for number in lis:\n",
    "    # Check if the current 'number' is greater than the current maximum 'max_number'\n",
    "    if number > max_number:\n",
    "        # If 'number' is greater, update 'max_number' with the new maximum value found\n",
    "        max_number = number\n",
    "\n",
    "# Print the largest number found in the list\n",
    "print(f\"The largest number from the given list '{lis}' is: {max_number}\")\n"
   ]
  },
  {
   "cell_type": "markdown",
   "id": "faca17f7-82af-4e53-904d-0ed196bc5d5e",
   "metadata": {},
   "source": [
    "Q10. Create a Python program that prints the Fibonacci sequence up to a specified limit using a for loop.\n"
   ]
  },
  {
   "cell_type": "code",
   "execution_count": 10,
   "id": "e5c06e6d-d1c9-4bf5-bbf0-d7fc125f9d5e",
   "metadata": {},
   "outputs": [
    {
     "name": "stdin",
     "output_type": "stream",
     "text": [
      "Enter the limit of the given number:  20\n"
     ]
    },
    {
     "name": "stdout",
     "output_type": "stream",
     "text": [
      "The Fibonacci numbers up to 20 are:\n",
      "0 1 1 2 3 5 8 13 21 34 55 89 144 233 377 610 987 1597 2584 4181 6765 "
     ]
    }
   ],
   "source": [
    "# Define a function 'fibonacci' that generates the Fibonacci sequence up to a specified 'limit'\n",
    "def fibonacci(limit):\n",
    "    fib_seq = []  # Initialize an empty list to store the Fibonacci sequence\n",
    "\n",
    "    a, b = 0, 1  # Initialize the first two Fibonacci numbers\n",
    "\n",
    "    # Use a for loop to generate Fibonacci numbers until reaching the 'limit'\n",
    "    for _ in range(limit + 1):\n",
    "        fib_seq.append(a)  # Append the current Fibonacci number 'a' to the sequence\n",
    "        a, b = b, a + b   # Update 'a' and 'b' to calculate the next Fibonacci number\n",
    "\n",
    "    return fib_seq  # Return the generated Fibonacci sequence\n",
    "\n",
    "# Input: Prompt the user to enter the limit for the Fibonacci sequence\n",
    "limit = int(input(\"Enter the limit of the given number: \"))\n",
    "\n",
    "# Call the 'fibonacci' function with the specified limit to generate the sequence\n",
    "sequence = fibonacci(limit)\n",
    "\n",
    "# Print the generated Fibonacci sequence\n",
    "print(f\"The Fibonacci numbers up to {limit} are:\")\n",
    "for num in sequence:\n",
    "    print(num, end=\" \")  # Print each number in the sequence separated by a space\n"
   ]
  },
  {
   "cell_type": "markdown",
   "id": "96358d0a-c614-422b-bd2a-5c5eeac907cb",
   "metadata": {},
   "source": [
    "Q11. Write a Python program to count the number of vowels in a given string using a for loop"
   ]
  },
  {
   "cell_type": "code",
   "execution_count": 11,
   "id": "b0c24a8f-65c0-4133-92ac-3745df6ec51a",
   "metadata": {},
   "outputs": [
    {
     "name": "stdin",
     "output_type": "stream",
     "text": [
      "Enter the string:  ayush\n"
     ]
    },
    {
     "name": "stdout",
     "output_type": "stream",
     "text": [
      "The count of vowels in the string is: 2\n"
     ]
    }
   ],
   "source": [
    "# Prompt the user to enter a string\n",
    "string = input(\"Enter the string: \")\n",
    "\n",
    "# Define a string 'vowels' containing all the vowel characters (both lowercase and uppercase)\n",
    "vowels = \"aeiouAEIOU\"\n",
    "\n",
    "# Initialize a variable 'count' to keep track of the count of vowels, starting at 0\n",
    "count = 0\n",
    "\n",
    "# Use a for loop to iterate through each character 'char' in the input 'string'\n",
    "for char in string:\n",
    "    # Check if the current character 'char' is in the 'vowels' string\n",
    "    if char in vowels:\n",
    "        # If 'char' is a vowel, increment the 'count' by 1\n",
    "        count = count + 1\n",
    "\n",
    "# Print the count of vowels found in the string\n",
    "print(\"The count of vowels in the string is:\", count)\n"
   ]
  },
  {
   "cell_type": "markdown",
   "id": "7e331f8b-5a50-495a-918e-e784ce1c0f92",
   "metadata": {},
   "source": [
    "Q12. Create a Python program that generates a multiplication table for a given number using a for loop.\n"
   ]
  },
  {
   "cell_type": "code",
   "execution_count": 13,
   "id": "68f2528f-e7cc-4838-85f0-ae2973fe5d22",
   "metadata": {},
   "outputs": [
    {
     "name": "stdin",
     "output_type": "stream",
     "text": [
      "Enter the number:  12\n"
     ]
    },
    {
     "name": "stdout",
     "output_type": "stream",
     "text": [
      "12  *  1  =  12\n",
      "12  *  2  =  24\n",
      "12  *  3  =  36\n",
      "12  *  4  =  48\n",
      "12  *  5  =  60\n",
      "12  *  6  =  72\n",
      "12  *  7  =  84\n",
      "12  *  8  =  96\n",
      "12  *  9  =  108\n",
      "12  *  10  =  120\n"
     ]
    }
   ],
   "source": [
    "# Prompt the user to enter a number\n",
    "n = int(input(\"Enter the number: \"))\n",
    "\n",
    "# Use a for loop to iterate from 1 to 10 (inclusive)\n",
    "for i in range(1, 11):\n",
    "    # Calculate the product of 'n' and 'i' and print it in a formatted way\n",
    "    print(n, ' * ', i, ' = ', n * i)\n"
   ]
  },
  {
   "cell_type": "markdown",
   "id": "c57f7267-442c-463a-95e5-796f6266de07",
   "metadata": {},
   "source": [
    "Q13. Write a Python program to reverse a list using a for loop.\n"
   ]
  },
  {
   "cell_type": "code",
   "execution_count": 14,
   "id": "66ecd21b-9beb-492c-bb61-9a9c07a2dde2",
   "metadata": {},
   "outputs": [
    {
     "name": "stdout",
     "output_type": "stream",
     "text": [
      "Original List: [1, 2, 3, 4, 5, 6, 7, 8, 9, 10]\n",
      "Reversed List: [10, 9, 8, 7, 6, 5, 4, 3, 2, 1]\n"
     ]
    }
   ],
   "source": [
    "# Define an original list 'listi' with elements\n",
    "listi = [1, 2, 3, 4, 5, 6, 7, 8, 9, 10]\n",
    "\n",
    "# Initialize an empty list 'lis' to store the reversed elements\n",
    "lis = []\n",
    "\n",
    "# Use a for loop to iterate through the original list 'listi' in reverse order\n",
    "# We start from the last index (len(listi) - 1) and go in reverse direction until the first index (-1)\n",
    "for i in range(len(listi) - 1, -1, -1):\n",
    "    # Append the current element from 'listi' to the 'lis' list\n",
    "    lis.append(listi[i])\n",
    "\n",
    "# Print the original list and the reversed list\n",
    "print(\"Original List:\", listi)\n",
    "print(\"Reversed List:\", lis)\n"
   ]
  },
  {
   "cell_type": "markdown",
   "id": "0e914309-9d5f-40da-b4ed-54cfecbc9731",
   "metadata": {},
   "source": [
    "Q14.Write a Python program to find the common elements between two lists using a for loop.\n"
   ]
  },
  {
   "cell_type": "code",
   "execution_count": 15,
   "id": "2d353ad4-32a9-4278-9d90-44b589f42f2c",
   "metadata": {},
   "outputs": [
    {
     "name": "stdout",
     "output_type": "stream",
     "text": [
      "The common elements from both lists are: [2, 4, 6, 8]\n"
     ]
    }
   ],
   "source": [
    "# Define two lists 'lis1' and 'lis2' with elements\n",
    "lis1 = [1, 2, 3, 4, 5, 6, 7, 8]\n",
    "lis2 = [2, 4, 6, 8, 10]\n",
    "\n",
    "# Initialize an empty list 'common_lis' to store the common elements\n",
    "common_lis = []\n",
    "\n",
    "# Use a for loop to iterate through elements in 'lis1'\n",
    "for i in lis1:\n",
    "    # Check if the current element 'i' is also in 'lis2'\n",
    "    if i in lis2:\n",
    "        # If 'i' is found in both lists, append it to 'common_lis'\n",
    "        common_lis.append(i)\n",
    "\n",
    "# Print the common elements found in both lists\n",
    "print(\"The common elements from both lists are:\", common_lis)\n"
   ]
  },
  {
   "cell_type": "markdown",
   "id": "de0df3b0-28ba-4d4c-af75-33ac01a830a9",
   "metadata": {},
   "source": [
    "Q15. Explain how to use a for loop to iterate through the keys and values of a dictionary in Python."
   ]
  },
  {
   "cell_type": "code",
   "execution_count": 16,
   "id": "b703d78b-a4f9-497f-946a-b40b595676a0",
   "metadata": {},
   "outputs": [
    {
     "name": "stdout",
     "output_type": "stream",
     "text": [
      "name : James\n",
      "age : 19\n",
      "experience : 4 years\n"
     ]
    }
   ],
   "source": [
    "# we can iterate through key and values of a dictionary in python using the items() by for loop\n",
    "\n",
    "\n",
    "# Define a dictionary called 'dictio' with key-value pairs\n",
    "dictio = {\"name\": \"James\", \"age\": 19, \"experience\": \"4 years\"}\n",
    "\n",
    "# Use a for loop to iterate through the keys and values of the dictionary\n",
    "for key, value in dictio.items():\n",
    "    # Inside the loop, 'key' and 'value' represent each key-value pair from the dictionary\n",
    "    # Print the key and its corresponding value in a formatted way\n",
    "    print(key, \":\", value)\n"
   ]
  },
  {
   "cell_type": "markdown",
   "id": "e8e5b624-719b-42a4-9fa2-8acd5e77fabf",
   "metadata": {},
   "source": [
    "Q16. Write a Python program to find the GCD (Greatest Common Divisor) of two numbers using a for loop"
   ]
  },
  {
   "cell_type": "code",
   "execution_count": 17,
   "id": "178187ca-d316-4390-8cc9-80214d84a082",
   "metadata": {},
   "outputs": [
    {
     "name": "stdin",
     "output_type": "stream",
     "text": [
      "Enter the first number:  12\n",
      "Enter the second number:  23\n"
     ]
    },
    {
     "name": "stdout",
     "output_type": "stream",
     "text": [
      "The GCD of 12 and 23 is: 1\n"
     ]
    }
   ],
   "source": [
    "# Function to find the GCD of two numbers using the Euclidean algorithm\n",
    "def find_gcd(a, b):\n",
    "    while b:\n",
    "        a, b = b, a % b\n",
    "    return a\n",
    "\n",
    "# Input: Prompt the user to enter two numbers\n",
    "num1 = int(input(\"Enter the first number: \"))\n",
    "num2 = int(input(\"Enter the second number: \"))\n",
    "\n",
    "# Call the find_gcd function to calculate the GCD\n",
    "gcd = find_gcd(num1, num2)\n",
    "\n",
    "# Print the GCD of the two numbers\n",
    "print(f\"The GCD of {num1} and {num2} is: {gcd}\")\n"
   ]
  },
  {
   "cell_type": "markdown",
   "id": "5eded7b3-a5a9-4f47-abc1-0293cc35a496",
   "metadata": {},
   "source": [
    "Q17. Create a Python program that checks if a string is a palindrome using a for loop"
   ]
  },
  {
   "cell_type": "code",
   "execution_count": 18,
   "id": "5de35c45-0862-47d1-8e5d-2177d2bb3743",
   "metadata": {},
   "outputs": [
    {
     "name": "stdin",
     "output_type": "stream",
     "text": [
      "Enter the string:  pwskills\n"
     ]
    },
    {
     "name": "stdout",
     "output_type": "stream",
     "text": [
      "The string is not a palindrome\n"
     ]
    }
   ],
   "source": [
    "# Prompt the user to enter a string\n",
    "string = input(\"Enter the string: \")\n",
    "\n",
    "# Initialize an empty list 'lis' to store individual characters from the string\n",
    "lis = []\n",
    "\n",
    "# Use a for loop to iterate through each character in the input string\n",
    "for i in string:\n",
    "    lis.append(i)  # Append each character to the 'lis' list\n",
    "\n",
    "# Reverse the 'lis' list to create a reversed string\n",
    "lis.reverse()\n",
    "\n",
    "# Join the reversed characters back into a single string\n",
    "final = ''.join(lis)\n",
    "\n",
    "# Check if the original string is equal to the reversed string (i.e., a palindrome)\n",
    "if string == final:\n",
    "    print(\"The string is a palindrome\")\n",
    "else:\n",
    "    print(\"The string is not a palindrome\")\n"
   ]
  },
  {
   "cell_type": "markdown",
   "id": "9f73cd6b-b8d7-40e2-8afe-9ed28687136c",
   "metadata": {},
   "source": [
    "Q18. Write a Python program to remove duplicates from a list using a for loop"
   ]
  },
  {
   "cell_type": "code",
   "execution_count": 19,
   "id": "dc3e1827-8913-4826-81b1-e2b7ad907f88",
   "metadata": {},
   "outputs": [
    {
     "name": "stdout",
     "output_type": "stream",
     "text": [
      "The list of unique items is: [1, 2, 3, 4, 5, 6, 7, 9, 10, 11]\n"
     ]
    }
   ],
   "source": [
    "# Define the original list 'lis' with duplicate elements\n",
    "lis = [1, 2, 3, 4, 5, 1, 3, 4, 6, 7, 3, 5, 4, 9, 10, 1, 11]\n",
    "\n",
    "# Initialize an empty list 'unique_lis' to store unique elements\n",
    "unique_lis = []\n",
    "\n",
    "# Use a for loop to iterate through each item in the original list 'lis'\n",
    "for item in lis:\n",
    "    # Check if the current item is not already in the 'unique_lis' list\n",
    "    if item not in unique_lis:\n",
    "        # If the item is not in the list, append it to 'unique_lis'\n",
    "        unique_lis.append(item)\n",
    "\n",
    "# Print the list containing unique items\n",
    "print(\"The list of unique items is:\", unique_lis)\n"
   ]
  },
  {
   "cell_type": "markdown",
   "id": "3b30119a-d0c4-4940-a7fd-8580f4e6f48c",
   "metadata": {},
   "source": [
    "Q19. Create a Python program that counts the number of words in a sentence using a for loop."
   ]
  },
  {
   "cell_type": "code",
   "execution_count": 21,
   "id": "d0f1a29b-9552-4ab9-a575-2c16af028b3e",
   "metadata": {},
   "outputs": [
    {
     "name": "stdin",
     "output_type": "stream",
     "text": [
      "Enter the string:  hey how are you\n"
     ]
    },
    {
     "name": "stdout",
     "output_type": "stream",
     "text": [
      "The total number of words in the string is: 4\n"
     ]
    }
   ],
   "source": [
    "# Prompt the user to enter a string\n",
    "string = input(\"Enter the string: \")\n",
    "\n",
    "# Split the input string into a list of words using whitespace as the delimiter\n",
    "lis = string.split()\n",
    "\n",
    "# Initialize a counter 'word_counter' to keep track of the number of words\n",
    "word_counter = 0\n",
    "\n",
    "# Use a for loop to iterate through each word in the list 'lis'\n",
    "for word in lis:\n",
    "    # Increment the 'word_counter' for each word encountered in the list\n",
    "    word_counter = word_counter + 1\n",
    "\n",
    "# Print the total count of words in the input string\n",
    "print(\"The total number of words in the string is:\", word_counter)\n"
   ]
  },
  {
   "cell_type": "markdown",
   "id": "201a62ad-297a-4ee5-b77f-9f5744ed1e2b",
   "metadata": {},
   "source": [
    "Q20. Write a Python program to find the sum of all odd numbers from 1 to 50 using a for loop."
   ]
  },
  {
   "cell_type": "code",
   "execution_count": 22,
   "id": "1d349f27-0d5c-47e2-afb9-d50b5ef0a27e",
   "metadata": {},
   "outputs": [
    {
     "name": "stdin",
     "output_type": "stream",
     "text": [
      "Enter the range of the numbers:-  12\n"
     ]
    },
    {
     "name": "stdout",
     "output_type": "stream",
     "text": [
      "The sum of the odd numbers upto n is:-  36\n"
     ]
    }
   ],
   "source": [
    "n=int(input(\"Enter the range of the numbers:- \"))\n",
    "add=0\n",
    "for i in range(1,n+1):\n",
    "    if(i%2!=0):\n",
    "        add=add+i\n",
    "        \n",
    "print(\"The sum of the odd numbers upto n is:- \",add)\n",
    "        "
   ]
  },
  {
   "cell_type": "markdown",
   "id": "9dd7e249-64a2-495b-bbb6-eba109f0f9fa",
   "metadata": {},
   "source": [
    "Q21. Write a Python program that checks if a given year is a leap year using a for loop"
   ]
  },
  {
   "cell_type": "code",
   "execution_count": 23,
   "id": "014af4e9-4db2-40f8-9087-fe11b9b59ce6",
   "metadata": {},
   "outputs": [
    {
     "name": "stdin",
     "output_type": "stream",
     "text": [
      "Enter the year to check the year is leap year or not:-  2022\n"
     ]
    },
    {
     "name": "stdout",
     "output_type": "stream",
     "text": [
      "The year 2022 is not a leap year\n"
     ]
    }
   ],
   "source": [
    "year=int(input(\"Enter the year to check the year is leap year or not:- \"))\n",
    "\n",
    "if (year%4==0 and year%100!=0) or (year%40==0):\n",
    "    print(f\"The year {year} is a leap year\")\n",
    "else:\n",
    "    print(f\"The year {year} is not a leap year\")"
   ]
  },
  {
   "cell_type": "markdown",
   "id": "c8b821f3-2c78-47ab-99e4-e56782f58af3",
   "metadata": {},
   "source": [
    "Q22. Create a Python program that calculates the square root of a number using a for loop"
   ]
  },
  {
   "cell_type": "code",
   "execution_count": 26,
   "id": "583ec96a-498f-447f-a782-4d04c56abda9",
   "metadata": {},
   "outputs": [
    {
     "name": "stdin",
     "output_type": "stream",
     "text": [
      "Enter a number to calculate its square root:  4\n"
     ]
    },
    {
     "name": "stdout",
     "output_type": "stream",
     "text": [
      "The square root of 4.0 is approximately 2.000000\n"
     ]
    }
   ],
   "source": [
    "# Function to calculate the square root using the Newton-Raphson method\n",
    "def square_root(number, epsilon=1e-6, max_iterations=100):\n",
    "    guess = number / 2.0  # Initial guess (starting from half of the number)\n",
    "\n",
    "    for _ in range(max_iterations):\n",
    "        next_guess = 0.5 * (guess + number / guess)  # Calculate the next guess\n",
    "        if abs(next_guess - guess) < epsilon:\n",
    "            return next_guess  # If the guess is close enough to the actual square root, return it\n",
    "        guess = next_guess\n",
    "\n",
    "    return guess  # Return the final guess if max_iterations reached\n",
    "\n",
    "# Input: Prompt the user to enter a number\n",
    "number = float(input(\"Enter a number to calculate its square root: \"))\n",
    "\n",
    "# Calculate the square root using the square_root function\n",
    "result = square_root(number)\n",
    "\n",
    "# Print the calculated square root\n",
    "print(f\"The square root of {number} is approximately {result:.6f}\")\n"
   ]
  },
  {
   "cell_type": "markdown",
   "id": "fb481773-7c61-4e66-b035-a591c6f7963b",
   "metadata": {},
   "source": [
    "Q23.Write a Python program to find the LCM (Least Common Multiple) of two numbers using a for loop.\n"
   ]
  },
  {
   "cell_type": "code",
   "execution_count": 30,
   "id": "0623d9ae-94b5-48d0-a0f2-8c84f1e8278c",
   "metadata": {},
   "outputs": [
    {
     "name": "stdin",
     "output_type": "stream",
     "text": [
      "Enter the first number:  2\n",
      "Enter the second number:  2\n"
     ]
    },
    {
     "name": "stdout",
     "output_type": "stream",
     "text": [
      "The LCM of 2 and 2 is: 2\n"
     ]
    }
   ],
   "source": [
    "# Input: Prompt the user to enter two numbers\n",
    "n1 = int(input(\"Enter the first number: \"))\n",
    "n2 = int(input(\"Enter the second number: \"))\n",
    "\n",
    "# Determine the greater number among n1 and n2\n",
    "if n1 > n2:\n",
    "    greater = n1\n",
    "else:\n",
    "    greater = n2\n",
    "\n",
    "# Use a while loop to find the LCM\n",
    "while True:\n",
    "    # Check if 'greater' is divisible by both n1 and n2\n",
    "    if greater % n1 == 0 and greater % n2 == 0:\n",
    "        lcm = greater  # If divisible, 'greater' is the LCM\n",
    "        break\n",
    "    \n",
    "    greater += 1  # Increment 'greater' to check the next number\n",
    "\n",
    "# Print the LCM of the two numbers\n",
    "print(f\"The LCM of {n1} and {n2} is: {lcm}\")\n"
   ]
  },
  {
   "cell_type": "markdown",
   "id": "2aca94f0-690d-4224-8b55-495ad95f631e",
   "metadata": {},
   "source": [
    "if - else:----------"
   ]
  },
  {
   "cell_type": "markdown",
   "id": "6d034ced-fd10-41f5-906b-11d903b79340",
   "metadata": {},
   "source": [
    "Q1. Write a Python program to check if a number is positive, negative, or zero using an if-else statement"
   ]
  },
  {
   "cell_type": "code",
   "execution_count": 31,
   "id": "109ae4ce-4b1e-4384-8c86-81d59e51c8b0",
   "metadata": {},
   "outputs": [
    {
     "name": "stdin",
     "output_type": "stream",
     "text": [
      "Enter the number to check if it is positive, negative, or zero:  1\n"
     ]
    },
    {
     "name": "stdout",
     "output_type": "stream",
     "text": [
      "1 is a positive number\n"
     ]
    }
   ],
   "source": [
    "# Prompt the user to enter an integer and store it in the variable 'n'\n",
    "n = int(input(\"Enter the number to check if it is positive, negative, or zero: \"))\n",
    "\n",
    "# Check if 'n' is equal to 0\n",
    "if n == 0:\n",
    "    # If 'n' is equal to 0, print that it is zero\n",
    "    print(f\"{n} is zero\")\n",
    "\n",
    "# Check if 'n' is greater than 0\n",
    "elif n > 0:\n",
    "    # If 'n' is greater than 0, print that it is a positive number\n",
    "    print(f\"{n} is a positive number\")\n",
    "\n",
    "# If 'n' is neither 0 nor greater than 0, it must be negative\n",
    "else:\n",
    "    # If 'n' is not 0 or greater than 0, print that it is a negative number\n",
    "    print(f\"{n} is a negative number\")\n"
   ]
  },
  {
   "cell_type": "markdown",
   "id": "c57a80e1-8349-4ac3-bb13-168a6486a296",
   "metadata": {},
   "source": [
    "Q2. Create a Python program that checks if a given number is even or odd using an if-else statement"
   ]
  },
  {
   "cell_type": "code",
   "execution_count": 32,
   "id": "cfc781be-f86d-4839-9c06-df0002e55bbc",
   "metadata": {},
   "outputs": [
    {
     "name": "stdin",
     "output_type": "stream",
     "text": [
      "Enter the number to check if it is even or odd:  13\n"
     ]
    },
    {
     "name": "stdout",
     "output_type": "stream",
     "text": [
      "13 is an odd number\n"
     ]
    }
   ],
   "source": [
    "# Prompt the user to enter an integer and store it in the variable 'n'\n",
    "n = int(input(\"Enter the number to check if it is even or odd: \"))\n",
    "\n",
    "# Check if 'n' is divisible by 2 (i.e., it leaves no remainder when divided by 2)\n",
    "if n % 2 == 0:\n",
    "    # If 'n' is divisible by 2, it is an even number; so, print that it is even\n",
    "    print(f\"{n} is an even number\")\n",
    "    \n",
    "# If 'n' is not divisible by 2 (i.e., it leaves a remainder when divided by 2)\n",
    "else:\n",
    "    # If 'n' is not divisible by 2, it is an odd number; so, print that it is odd\n",
    "    print(f\"{n} is an odd number\")\n"
   ]
  },
  {
   "cell_type": "markdown",
   "id": "e3404c5e-2d4b-4e3e-b62d-fe28d55029b5",
   "metadata": {},
   "source": [
    "Q3. How can you use nested if-else statements in Python, and provide an example?"
   ]
  },
  {
   "cell_type": "code",
   "execution_count": 34,
   "id": "eed88c3e-376d-49d6-b8b6-fb76b75b4feb",
   "metadata": {},
   "outputs": [
    {
     "name": "stdin",
     "output_type": "stream",
     "text": [
      "Enter the marks of the student to check its grade:-  60\n"
     ]
    },
    {
     "name": "stdout",
     "output_type": "stream",
     "text": [
      "Grade D\n"
     ]
    }
   ],
   "source": [
    "\"\"\"\n",
    "Nested if-else statements in Python are used to create a more complex \n",
    "decision-making structure within another if or else block. \n",
    "This allows you to evaluate multiple conditions sequentially, with each inner\n",
    "if-else block being dependent on the condition(s) of its outer block.\n",
    "Nested if-else statements can be used to handle various scenarios and make\n",
    "your code more flexible.\n",
    "\n",
    "\"\"\"\n",
    "\n",
    "# for e.g:--\n",
    "\n",
    "marks=float(input(\"Enter the marks of the student to check its grade:- \"))\n",
    "\n",
    "if marks>=90:\n",
    "    print(\"Grade A\")\n",
    "    \n",
    "else:\n",
    "    if marks>=80:\n",
    "        print(\"Grade B\")\n",
    "    \n",
    "    elif marks>=70:\n",
    "        print(\"Grade C\")\n",
    "        \n",
    "    elif marks>=60:\n",
    "        print(\"Grade D\")\n",
    "        \n",
    "    elif marks>=50:\n",
    "        print(\"Grade E\")\n",
    "        \n",
    "    elif marks>=40:\n",
    "        print(\"Grade E1\")\n",
    "        \n",
    "    else:\n",
    "        print(\"Fail\")"
   ]
  },
  {
   "cell_type": "markdown",
   "id": "b7342fc4-29f8-4075-b643-f7ae3733e037",
   "metadata": {},
   "source": [
    "Q4. Write a Python program to determine the largest of three numbers using if-else."
   ]
  },
  {
   "cell_type": "code",
   "execution_count": 35,
   "id": "30a59a08-b259-429d-92d4-b3f123999878",
   "metadata": {},
   "outputs": [
    {
     "name": "stdin",
     "output_type": "stream",
     "text": [
      "Enter the first number:  12\n",
      "Enter the second number:  13\n",
      "Enter the third number:  44\n"
     ]
    },
    {
     "name": "stdout",
     "output_type": "stream",
     "text": [
      "44 is greater than 13 and 12\n"
     ]
    }
   ],
   "source": [
    "# Prompt the user to enter the first number and store it in variable 'a'\n",
    "a = int(input(\"Enter the first number: \"))\n",
    "\n",
    "# Prompt the user to enter the second number and store it in variable 'b'\n",
    "b = int(input(\"Enter the second number: \"))\n",
    "\n",
    "# Prompt the user to enter the third number and store it in variable 'c'\n",
    "c = int(input(\"Enter the third number: \"))\n",
    "\n",
    "# Check if 'a' is greater than or equal to both 'b' and 'c'\n",
    "if a >= b and a >= c:\n",
    "    # If 'a' is the greatest, print a message indicating it is greater than 'b' and 'c'\n",
    "    print(f\"{a} is greater than {b} and {c}\")\n",
    "    \n",
    "# If 'a' is not the greatest, check if 'b' is greater than or equal to 'c'    \n",
    "elif b >= a and b >= c:\n",
    "    # If 'b' is the greatest, print a message indicating it is greater than 'c' and 'a'\n",
    "    print(f\"{b} is greater than {c} and {a}\")\n",
    "    \n",
    "# If neither 'a' nor 'b' is the greatest, it means 'c' is the greatest\n",
    "else:\n",
    "    # Print a message indicating that 'c' is greater than 'b' and 'a'\n",
    "    print(f\"{c} is greater than {b} and {a}\")\n"
   ]
  },
  {
   "cell_type": "markdown",
   "id": "cba6ef35-6830-497a-ab63-c2d5428ca4d3",
   "metadata": {},
   "source": [
    "Q5. Write a Python program that calculates the absolute value of a number using if-else."
   ]
  },
  {
   "cell_type": "code",
   "execution_count": 37,
   "id": "527ee16f-84c9-4e42-aa7d-93dab2f59d61",
   "metadata": {},
   "outputs": [
    {
     "name": "stdin",
     "output_type": "stream",
     "text": [
      "Enter the number:  -12\n"
     ]
    },
    {
     "name": "stdout",
     "output_type": "stream",
     "text": [
      "The absolute value of -12 is 12\n"
     ]
    }
   ],
   "source": [
    "# Prompt the user to enter a number and store it in variable 'n'\n",
    "n = int(input(\"Enter the number: \"))\n",
    "\n",
    "# Check if 'n' is less than 0 (negative)\n",
    "if n < 0:\n",
    "    # Calculate the absolute value of 'n' using the 'abs' function\n",
    "    absolute = abs(n)\n",
    "    \n",
    "    # Print a message indicating the absolute value of 'n'\n",
    "    print(f\"The absolute value of {n} is {absolute}\")\n",
    "    \n",
    "# If 'n' is non-negative (zero or positive)\n",
    "else:\n",
    "    # Print a message stating that 'n' is already in its absolute form\n",
    "    print(f\"The number {n} is already in its absolute form\")\n"
   ]
  },
  {
   "cell_type": "markdown",
   "id": "c36fdd11-c315-40ec-9915-84fb6796562b",
   "metadata": {},
   "source": [
    "Q6. Create a Python program that checks if a given character is a vowel or consonant using if-else."
   ]
  },
  {
   "cell_type": "code",
   "execution_count": 38,
   "id": "8e966763-4648-43e3-8c2b-b05cd2e96d76",
   "metadata": {},
   "outputs": [
    {
     "name": "stdin",
     "output_type": "stream",
     "text": [
      "Enter a valid alphabet character:-  a\n"
     ]
    },
    {
     "name": "stdout",
     "output_type": "stream",
     "text": [
      " 'a' is a vowel\n"
     ]
    }
   ],
   "source": [
    "ch=input(\"Enter a valid alphabet character:- \")\n",
    "vowels=\"AEIOUaeiou\"\n",
    "\n",
    "if ch in vowels:\n",
    "    print(f\" '{ch}' is a vowel\")\n",
    "\n",
    "else:\n",
    "    print(f\" '{ch}' is a consonant\")"
   ]
  },
  {
   "cell_type": "markdown",
   "id": "363636de-f8c1-44ef-a4ec-52b7e2e3501b",
   "metadata": {},
   "source": [
    "Q7. Write a Python program to determine if a user is eligible to vote based on their age using if-else."
   ]
  },
  {
   "cell_type": "code",
   "execution_count": 39,
   "id": "4a822f70-3d67-4101-9923-0c20cd78717e",
   "metadata": {},
   "outputs": [
    {
     "name": "stdin",
     "output_type": "stream",
     "text": [
      "Enter the age of the person:  12\n"
     ]
    },
    {
     "name": "stdout",
     "output_type": "stream",
     "text": [
      "The person is not eligible for voting!\n"
     ]
    }
   ],
   "source": [
    "# Prompt the user to enter the age of the person and store it in the 'age' variable\n",
    "age = int(input(\"Enter the age of the person: \"))\n",
    "\n",
    "# Check if 'age' is greater than or equal to 18\n",
    "if age >= 18:\n",
    "    # If 'age' is 18 or older, print a message indicating that the person can vote\n",
    "    print(\"The person can vote!\")\n",
    "    \n",
    "# If 'age' is less than 18\n",
    "else:\n",
    "    # Print a message indicating that the person is not eligible for voting\n",
    "    print(\"The person is not eligible for voting!\")\n"
   ]
  },
  {
   "cell_type": "markdown",
   "id": "43ecb53f-1bb2-47fa-b472-25bc18454151",
   "metadata": {},
   "source": [
    "Q8. Create a Python program that calculates the discount amount based on the purchase amount using if-else"
   ]
  },
  {
   "cell_type": "code",
   "execution_count": 40,
   "id": "971b4180-a18f-42ac-a492-517225213247",
   "metadata": {},
   "outputs": [
    {
     "name": "stdin",
     "output_type": "stream",
     "text": [
      "Enter the amount to check your discounted price:  1200000\n"
     ]
    },
    {
     "name": "stdout",
     "output_type": "stream",
     "text": [
      "Discount amount with discount rate 40.0%: 480000.0 Rupees\n",
      "Total bill: 720000.0 Rupees\n"
     ]
    }
   ],
   "source": [
    "amount = int(input(\"Enter the amount to check your discounted price: \"))\n",
    "\n",
    "if amount <= 5000:\n",
    "    rate = 0  # No discount for amounts less than or equal to 5000 Rupees\n",
    "    \n",
    "elif amount <= 20000:\n",
    "    rate = 0.2  # 20% discount for amounts between 5000 and 20000 Rupees\n",
    "    \n",
    "elif amount <= 40000:\n",
    "    rate = 0.3  # 30% discount for amounts between 20000 and 40000 Rupees\n",
    "    \n",
    "else:\n",
    "    rate = 0.4  # 40% discount for amounts greater than 40000 Rupees\n",
    "\n",
    "# Calculate the discounted price and total bill\n",
    "discounted_price = amount * rate\n",
    "total_bill = amount - discounted_price\n",
    "\n",
    "print(f\"Discount amount with discount rate {rate*100}%: {discounted_price} Rupees\")\n",
    "print(f\"Total bill: {total_bill} Rupees\")\n"
   ]
  },
  {
   "cell_type": "markdown",
   "id": "a1925888-03d6-4ac6-93b4-e79248056e4d",
   "metadata": {},
   "source": [
    "Q9. Write a Python program to check if a number is within a specified range using if-else.\n"
   ]
  },
  {
   "cell_type": "code",
   "execution_count": 41,
   "id": "8c4217cc-9af0-41ea-b45e-7cab102c379b",
   "metadata": {},
   "outputs": [
    {
     "name": "stdin",
     "output_type": "stream",
     "text": [
      "Enter the number:  12\n"
     ]
    },
    {
     "name": "stdout",
     "output_type": "stream",
     "text": [
      "12 lies between the range 10-100\n"
     ]
    }
   ],
   "source": [
    "# Define the upper and lower limits of the range\n",
    "upper_limit = 100\n",
    "lower_limit = 10\n",
    "\n",
    "# Prompt the user to enter a number and store it in the variable 'n'\n",
    "n = int(input(\"Enter the number: \"))\n",
    "\n",
    "# Check if 'n' is within the specified range\n",
    "if n >= lower_limit and n <= upper_limit:\n",
    "    # If 'n' is within the range, print a message indicating so\n",
    "    print(f\"{n} lies between the range {lower_limit}-{upper_limit}\")\n",
    "else:\n",
    "    # If 'n' is outside the range, print a message indicating so\n",
    "    print(f\"{n} number is out of the range\")\n"
   ]
  },
  {
   "cell_type": "markdown",
   "id": "fd06d9dc-9c97-4d73-b722-42dda77bfe33",
   "metadata": {},
   "source": [
    "Q10. Create a Python program that determines the grade of a student based on their score using if-else"
   ]
  },
  {
   "cell_type": "code",
   "execution_count": 42,
   "id": "89995cde-4c12-4350-9655-148a56237392",
   "metadata": {},
   "outputs": [
    {
     "name": "stdin",
     "output_type": "stream",
     "text": [
      "Enter the marks of the student:  21\n"
     ]
    },
    {
     "name": "stdout",
     "output_type": "stream",
     "text": [
      "FAIL!\n"
     ]
    }
   ],
   "source": [
    "# Prompt the user to enter the marks of the student as a floating-point number\n",
    "marks = float(input(\"Enter the marks of the student: \"))\n",
    "\n",
    "# Check the marks against grade criteria, starting with the highest grade\n",
    "\n",
    "# If marks are 90 or higher, assign 'Grade A'\n",
    "if marks >= 90:\n",
    "    print(\"Grade A\")\n",
    "    \n",
    "# If marks are between 80 and 89 (inclusive), assign 'Grade B'\n",
    "elif marks >= 80:\n",
    "    print(\"Grade B\")\n",
    "    \n",
    "# If marks are between 70 and 79 (inclusive), assign 'Grade C'\n",
    "elif marks >= 70:\n",
    "    print(\"Grade C\")\n",
    "    \n",
    "# If marks are between 60 and 69 (inclusive), assign 'Grade D'\n",
    "elif marks >= 60:\n",
    "    print(\"Grade D\")\n",
    "    \n",
    "# If marks are between 50 and 59 (inclusive), assign 'Grade E1'\n",
    "elif marks >= 50:\n",
    "    print(\"Grade E1\")\n",
    "    \n",
    "# If marks are between 40 and 49 (inclusive), assign 'Grade E'\n",
    "elif marks >= 40:\n",
    "    print(\"Grade E\")\n",
    "    \n",
    "# If marks are below 40, assign 'FAIL!'\n",
    "else:\n",
    "    print(\"FAIL!\")\n"
   ]
  },
  {
   "cell_type": "markdown",
   "id": "2b91dd8d-dac7-42f2-91a4-5737a163df7e",
   "metadata": {},
   "source": [
    "Q11. Write a Python program to check if a string is empty or not using if-else.\n"
   ]
  },
  {
   "cell_type": "code",
   "execution_count": 43,
   "id": "cc118cbd-1255-4c3f-8f75-00cf158247bf",
   "metadata": {},
   "outputs": [
    {
     "name": "stdin",
     "output_type": "stream",
     "text": [
      "Enter the string:  ayush\n"
     ]
    },
    {
     "name": "stdout",
     "output_type": "stream",
     "text": [
      "The string 'ayush' is not an empty string\n"
     ]
    }
   ],
   "source": [
    "# Prompt the user to enter a string and store it in the variable 'inp_str'\n",
    "inp_str = input(\"Enter the string: \")\n",
    "\n",
    "# Calculate the length of the input string using the 'len' function\n",
    "length = len(inp_str)\n",
    "\n",
    "# Check if the length of the input string is equal to 0\n",
    "if length == 0:\n",
    "    # If the length is 0, print a message indicating that the string is empty\n",
    "    print(f\"The string '{inp_str}' is an empty string\")\n",
    "    \n",
    "# If the length is not 0\n",
    "else:\n",
    "    # Print a message indicating that the string is not empty\n",
    "    print(f\"The string '{inp_str}' is not an empty string\")\n"
   ]
  },
  {
   "cell_type": "markdown",
   "id": "7a87884e-4bfc-4a1f-bc65-d8ca9d108359",
   "metadata": {},
   "source": [
    "Q12. Create a Python program that identifies the type of a triangle (e.g., equilateral, isosceles, or scalene) based on input values using if-else."
   ]
  },
  {
   "cell_type": "code",
   "execution_count": 44,
   "id": "7ca4af4b-40eb-4d98-96c5-dc0f543ded93",
   "metadata": {},
   "outputs": [
    {
     "name": "stdin",
     "output_type": "stream",
     "text": [
      "Enter the length of the first side of the triangle:  123\n",
      "Enter the length of the second side of the triangle:  123\n",
      "Enter the length of the third side of the triangle:  12\n"
     ]
    },
    {
     "name": "stdout",
     "output_type": "stream",
     "text": [
      "Isosceles triangle!\n"
     ]
    }
   ],
   "source": [
    "# Prompt the user to enter the lengths of the three sides of the triangle\n",
    "side1 = float(input(\"Enter the length of the first side of the triangle: \"))\n",
    "side2 = float(input(\"Enter the length of the second side of the triangle: \"))\n",
    "side3 = float(input(\"Enter the length of the third side of the triangle: \"))\n",
    "\n",
    "# Check the type of triangle based on side lengths\n",
    "\n",
    "# If all three sides are equal, it's an equilateral triangle\n",
    "if side1 == side2 == side3:\n",
    "    print(\"Equilateral triangle!\")\n",
    "\n",
    "# If at least two sides are equal (but not all three), it's an isosceles triangle\n",
    "elif side1 == side2 or side1 == side3 or side2 == side3:\n",
    "    print(\"Isosceles triangle!\")\n",
    "\n",
    "# If no sides are equal, it's a scalene triangle\n",
    "else:\n",
    "    print(\"Scalene triangle!\")\n"
   ]
  },
  {
   "cell_type": "markdown",
   "id": "02914982-c9d6-4e7c-a84d-c264af1a5200",
   "metadata": {},
   "source": [
    "Q13. Write a Python program to determine the day of the week based on a user-provided number using if-else"
   ]
  },
  {
   "cell_type": "code",
   "execution_count": 45,
   "id": "6c8de7f3-2dbe-4259-868a-bbee7f232234",
   "metadata": {},
   "outputs": [
    {
     "name": "stdin",
     "output_type": "stream",
     "text": [
      "Enter a number (1-7) to determine the day of the week:  6\n"
     ]
    },
    {
     "name": "stdout",
     "output_type": "stream",
     "text": [
      "The day corresponding to 6 is Friday.\n"
     ]
    }
   ],
   "source": [
    "# Prompt the user to enter a number representing a day of the week\n",
    "day_number = int(input(\"Enter a number (1-7) to determine the day of the week: \"))\n",
    "\n",
    "# Use if-else statements to determine the day based on the user's input\n",
    "if day_number == 1:\n",
    "    day_name = \"Sunday\"\n",
    "elif day_number == 2:\n",
    "    day_name = \"Monday\"\n",
    "elif day_number == 3:\n",
    "    day_name = \"Tuesday\"\n",
    "elif day_number == 4:\n",
    "    day_name = \"Wednesday\"\n",
    "elif day_number == 5:\n",
    "    day_name = \"Thursday\"\n",
    "elif day_number == 6:\n",
    "    day_name = \"Friday\"\n",
    "elif day_number == 7:\n",
    "    day_name = \"Saturday\"\n",
    "else:\n",
    "    day_name = \"Invalid input\"\n",
    "\n",
    "# Print the determined day of the week\n",
    "print(f\"The day corresponding to {day_number} is {day_name}.\")\n"
   ]
  },
  {
   "cell_type": "markdown",
   "id": "04999ed3-b04d-48a1-b902-c042e233424b",
   "metadata": {},
   "source": [
    "Q14. Create a Python program that checks if a given year is a leap year using both if-else and a function."
   ]
  },
  {
   "cell_type": "code",
   "execution_count": 46,
   "id": "f49a3e24-3672-45be-acd1-f63532c3f2b2",
   "metadata": {},
   "outputs": [
    {
     "name": "stdin",
     "output_type": "stream",
     "text": [
      "Enter the year:-  2022\n"
     ]
    },
    {
     "name": "stdout",
     "output_type": "stream",
     "text": [
      "The 2022 is not an leap year\n"
     ]
    }
   ],
   "source": [
    "def is_leapyear(year):\n",
    "    if (year%4==0 and year%100!=0) or year%400==0:\n",
    "        return True\n",
    "    else:\n",
    "        return False\n",
    "        \n",
    "year=int(input(\"Enter the year:- \"))\n",
    "if is_leapyear(year):\n",
    "    print(f\"The {year} is a Leap year\")\n",
    "    \n",
    "else:\n",
    "    print(f\"The {year} is not an leap year\")"
   ]
  },
  {
   "cell_type": "markdown",
   "id": "8cc6b915-477f-4db6-96d0-f9562ce2df35",
   "metadata": {},
   "source": [
    "Q15. How do you use the \"assert\" statement in Python to add debugging checks within if-else blocks?"
   ]
  },
  {
   "cell_type": "code",
   "execution_count": null,
   "id": "9f1c5969-7389-43fb-bfca-d6b741ac82f8",
   "metadata": {},
   "outputs": [
    {
     "name": "stdin",
     "output_type": "stream",
     "text": [
      "Enter the number:-  12\n"
     ]
    },
    {
     "name": "stdout",
     "output_type": "stream",
     "text": [
      "12 is greater than 5.\n",
      "This line is executed regardless of the assertion.\n"
     ]
    }
   ],
   "source": [
    "\"\"\"\n",
    "In Python, the assert statement is used to add debugging checks within if-else\n",
    "blocks and other parts of your code to ensure that certain conditions hold true.\n",
    "The assert statement is typically used for debugging purposes and is often \n",
    "disabled in production code for performance reasons. When an assert statement \n",
    "is encountered, Python checks whether the given condition is true, and if it's \n",
    "not, it raises an AssertionError exception, which can help identify and debug \n",
    "issues.\n",
    "\"\"\"\n",
    "\n",
    "\n",
    "x = int(input(\"Enter the number:- \"))\n",
    "\n",
    "# Check if 'x' is greater than 5 using assert\n",
    "assert x > 5, \"x should be greater than 5\"\n",
    "\n",
    "\n",
    "if x <= 5:\n",
    "    print(f\"{x} is not greater than 5.\")\n",
    "else:\n",
    "    print(f\"{x} is greater than 5.\")\n",
    "\n",
    "# The code continues to execute after the assert statement\n",
    "print(\"This line is executed regardless of the assertion.\")\n"
   ]
  },
  {
   "cell_type": "markdown",
   "id": "fbc4c6a5-58f3-41d9-9d16-5a55c5f8bb2c",
   "metadata": {},
   "source": [
    "Q16. Create a Python program that determines the eligibility of a person for a senior citizen discount based on age using if-else.\n"
   ]
  },
  {
   "cell_type": "code",
   "execution_count": 48,
   "id": "9d6b8301-b171-4b97-9f12-3d2155bdd86c",
   "metadata": {},
   "outputs": [
    {
     "name": "stdin",
     "output_type": "stream",
     "text": [
      "Enter your age:  12\n"
     ]
    },
    {
     "name": "stdout",
     "output_type": "stream",
     "text": [
      "Sorry, you are not eligible for a senior citizen discount.\n"
     ]
    }
   ],
   "source": [
    "# Prompt the user to enter their age\n",
    "age = int(input(\"Enter your age: \"))\n",
    "\n",
    "# Define the minimum age for senior citizen eligibility\n",
    "senior_citizen_age = 60\n",
    "\n",
    "# Check if the age meets the eligibility criteria\n",
    "if age >= senior_citizen_age:\n",
    "    print(\"Congratulations! You are eligible for a senior citizen discount.\")\n",
    "else:\n",
    "    print(\"Sorry, you are not eligible for a senior citizen discount.\")\n"
   ]
  },
  {
   "cell_type": "markdown",
   "id": "2fc9eac9-2739-4ce6-affe-90f6a8698dc1",
   "metadata": {},
   "source": [
    "Q17. Write a Python program to categorize a given character as uppercase, lowercase, or neither using if-else"
   ]
  },
  {
   "cell_type": "code",
   "execution_count": 49,
   "id": "064b120e-b245-40f6-b5bb-ab59ed49da78",
   "metadata": {},
   "outputs": [
    {
     "name": "stdin",
     "output_type": "stream",
     "text": [
      "Enter the character:  w\n"
     ]
    },
    {
     "name": "stdout",
     "output_type": "stream",
     "text": [
      "'w' is a lowercase character\n"
     ]
    }
   ],
   "source": [
    "# Prompt the user to enter a character\n",
    "ch = input(\"Enter the character: \")\n",
    "\n",
    "# Check if the character is uppercase using 'isupper()'\n",
    "if ch.isupper():\n",
    "    # If 'ch' is uppercase, print a message indicating it's an uppercase character\n",
    "    print(f\"'{ch}' is an uppercase character\")\n",
    "    \n",
    "# Check if the character is lowercase using 'islower()'\n",
    "elif ch.islower():\n",
    "    # If 'ch' is lowercase, print a message indicating it's a lowercase character\n",
    "    print(f\"'{ch}' is a lowercase character\")\n",
    "    \n",
    "# If 'ch' is neither uppercase nor lowercase\n",
    "else:\n",
    "    # Print a message indicating that the input is not a valid character\n",
    "    print(\"Enter a valid character!\")\n"
   ]
  },
  {
   "cell_type": "markdown",
   "id": "d2289274-b8e7-4695-b771-5e8a33027d9b",
   "metadata": {},
   "source": [
    "Q18. Write a Python program to determine the roots of a quadratic equation using if-else.\n",
    " "
   ]
  },
  {
   "cell_type": "code",
   "execution_count": 50,
   "id": "177aab45-9e5d-46c0-b15a-b460205b686f",
   "metadata": {},
   "outputs": [
    {
     "name": "stdin",
     "output_type": "stream",
     "text": [
      "Enter the coefficient 'a':  12\n",
      "Enter the coefficient 'b':  12\n",
      "Enter the coefficient 'c':  23\n"
     ]
    },
    {
     "name": "stdout",
     "output_type": "stream",
     "text": [
      "The roots are complex: -0.5 + 1.2909944487358056i and -0.5 - 1.2909944487358056i\n"
     ]
    }
   ],
   "source": [
    "# Prompt the user to enter the coefficients of the quadratic equation\n",
    "a = float(input(\"Enter the coefficient 'a': \"))\n",
    "b = float(input(\"Enter the coefficient 'b': \"))\n",
    "c = float(input(\"Enter the coefficient 'c': \"))\n",
    "\n",
    "# Calculate the discriminant (the value inside the square root)\n",
    "discriminant = b**2 - 4*a*c\n",
    "\n",
    "# Check if the discriminant is positive, negative, or zero\n",
    "if discriminant > 0:\n",
    "    # Two real and distinct roots\n",
    "    root1 = (-b + discriminant**0.5) / (2*a)\n",
    "    root2 = (-b - discriminant**0.5) / (2*a)\n",
    "    print(f\"The roots are real and distinct: {root1} and {root2}\")\n",
    "elif discriminant == 0:\n",
    "    # One real root (a repeated root)\n",
    "    root1 = -b / (2*a)\n",
    "    print(f\"There is one real and repeated root: {root1}\")\n",
    "else:\n",
    "    # Complex roots (no real roots)\n",
    "    real_part = -b / (2*a)\n",
    "    imaginary_part = (-discriminant)**0.5 / (2*a)\n",
    "    print(f\"The roots are complex: {real_part} + {imaginary_part}i and {real_part} - {imaginary_part}i\")\n"
   ]
  },
  {
   "cell_type": "markdown",
   "id": "88ddbb4d-88f2-4f2f-a5a5-a5b65fe68439",
   "metadata": {},
   "source": [
    "Q19. Create a Python program that checks if a given year is a century year or not using if-else."
   ]
  },
  {
   "cell_type": "code",
   "execution_count": 51,
   "id": "14dfee21-f62e-4764-a446-bb981ac41203",
   "metadata": {},
   "outputs": [
    {
     "name": "stdin",
     "output_type": "stream",
     "text": [
      "Enter the year to check if it is a century year or not:  1200\n"
     ]
    },
    {
     "name": "stdout",
     "output_type": "stream",
     "text": [
      "The year 1200 is a century year\n"
     ]
    }
   ],
   "source": [
    "# Prompt the user to enter a year\n",
    "year = int(input(\"Enter the year to check if it is a century year or not: \"))\n",
    "\n",
    "# Check if the year is a century year\n",
    "# A century year is divisible by 100 without leaving a remainder\n",
    "if year % 100 == 0:\n",
    "    # If the year is divisible by 100, print a message indicating it's a century year\n",
    "    print(f\"The year {year} is a century year\")\n",
    "else:\n",
    "    # If the year is not divisible by 100, print a message indicating it's not a century year\n",
    "    print(f\"The year {year} is not a century year\")\n"
   ]
  },
  {
   "cell_type": "markdown",
   "id": "ed9c5c1e-1ae0-45fd-8e85-297b120521eb",
   "metadata": {},
   "source": [
    "Q20. Write a Python program to determine if a given number is a perfect square using if-else."
   ]
  },
  {
   "cell_type": "code",
   "execution_count": 53,
   "id": "7333fef5-60f1-43f5-959e-13cfcebeb022",
   "metadata": {},
   "outputs": [
    {
     "name": "stdin",
     "output_type": "stream",
     "text": [
      "Enter the number:-  9\n"
     ]
    },
    {
     "name": "stdout",
     "output_type": "stream",
     "text": [
      "The number 9 is a perfect square\n"
     ]
    }
   ],
   "source": [
    "n = int(input(\"Enter the number:- \"))  # Takes user input and converts it to an integer\n",
    "\n",
    "if n > 0:  # Checks if the input number is positive\n",
    "    squareroot = int(n ** 0.5)  # Calculates the integer square root of the input number\n",
    "\n",
    "    # Checks if the square of the integer square root equals the input number\n",
    "    if squareroot * squareroot == n:\n",
    "        print(f\"The number {n} is a perfect square\")\n",
    "    else:\n",
    "        print(f\"The number {n} is not a perfect square\")\n",
    "else:\n",
    "    # If the input number is not positive, it's considered negative and not a perfect square\n",
    "    print(f\"{n} is a negative number and not a perfect square\")\n"
   ]
  },
  {
   "cell_type": "markdown",
   "id": "86799fce-2569-4345-8bd2-bc4ab90c95b6",
   "metadata": {},
   "source": [
    "Q21. Explain the purpose of the \"continue\" and \"break\" statements within if-else loops."
   ]
  },
  {
   "cell_type": "markdown",
   "id": "770c7826-93f6-4d76-adc9-c8e5ac12ffdc",
   "metadata": {},
   "source": [
    "Ans21:- \n",
    "1.Break=The \"break\" statement is used to prematurely exit a loop when a certain condition is met. It is typically used to terminate the entire loop, not just the current iteration.When the \"break\" statement is encountered within a loop, the program immediately exits the loop.\n",
    "\n",
    "2.Continue=The \"continue\" statement is used to skip the current iteration of a loop and proceed to the next iteration. It allows you to skip specific code within a loop for certain conditions without exiting the loop entirely.\n"
   ]
  },
  {
   "cell_type": "markdown",
   "id": "c79cd61b-34d8-43d7-b674-39ddfc4f7761",
   "metadata": {},
   "source": [
    "Q22. Create a Python program that calculates the BMI (Body Mass Index) of a person based on their weight and height using if-else.\n"
   ]
  },
  {
   "cell_type": "code",
   "execution_count": 54,
   "id": "c327eb8f-0ba9-4d62-8af9-987dfc0ab5eb",
   "metadata": {},
   "outputs": [
    {
     "name": "stdin",
     "output_type": "stream",
     "text": [
      "Enter your weight in kilograms:  22\n",
      "Enter your height in meters:  12\n"
     ]
    },
    {
     "name": "stdout",
     "output_type": "stream",
     "text": [
      "Your BMI is 0.15\n",
      "You are categorized as 'Underweight'\n"
     ]
    }
   ],
   "source": [
    "# Input weight in kilograms and height in meters\n",
    "weight = float(input(\"Enter your weight in kilograms: \"))\n",
    "height = float(input(\"Enter your height in meters: \"))\n",
    "\n",
    "# Calculate BMI\n",
    "bmi = weight / (height ** 2)\n",
    "\n",
    "# Determine BMI category using if-else statements\n",
    "if bmi < 18.5:\n",
    "    category = \"Underweight\"\n",
    "elif 18.5 <= bmi < 24.9:\n",
    "    category = \"Normal Weight\"\n",
    "elif 25 <= bmi < 29.9:\n",
    "    category = \"Overweight\"\n",
    "else:\n",
    "    category = \"Obese\"\n",
    "\n",
    "# Display the calculated BMI and category\n",
    "print(f\"Your BMI is {bmi:.2f}\")\n",
    "print(f\"You are categorized as '{category}'\")\n"
   ]
  },
  {
   "cell_type": "markdown",
   "id": "024d4f23-2f14-4823-8e3b-02dccbfa6717",
   "metadata": {},
   "source": [
    "Q23. How can you use the \"filter()\" function with if-else statements to filter elements from a list?"
   ]
  },
  {
   "cell_type": "code",
   "execution_count": 55,
   "id": "c4991979-6b57-4103-be5b-863e716df63d",
   "metadata": {},
   "outputs": [
    {
     "name": "stdout",
     "output_type": "stream",
     "text": [
      "The list of even numbers filter out from the list: [2, 4, 6, 8, 10, 12, 14, 16, 18, 20]\n"
     ]
    }
   ],
   "source": [
    "\"\"\"\n",
    "Filter function filters a sequence of elements based on a given predicate(a\n",
    "function that returns a boolean value) and returns a new sequence containing \n",
    "only the elements that meet the predicate\n",
    "\n",
    "syntax:---\n",
    "\n",
    "filter(predicate,iterable)\n",
    "\n",
    "the iterable can be list ,tuple or any other iterable objects\n",
    "\n",
    "\"\"\"\n",
    "# for  example:----\n",
    "\n",
    "# Define a custom function 'iseven' that takes an element 'x' and returns True if it's even, False otherwise.\n",
    "def iseven(x):\n",
    "    if x % 2 == 0:\n",
    "        return True\n",
    "    return False\n",
    "\n",
    "# Create a list 'lis' containing a sequence of numbers.\n",
    "lis = [1, 2, 3, 4, 5, 6, 7, 8, 9, 10, 11, 12, 13, 14, 15, 16, 17, 18, 19, 20]\n",
    "\n",
    "# Use the 'filter()' function to filter even numbers from the 'lis' list.\n",
    "# The 'iseven' function is used as the predicate to determine whether an element is even or not.\n",
    "filtered_lis = list(filter(iseven, lis))\n",
    "\n",
    "# Print the filtered list of even numbers.\n",
    "print(\"The list of even numbers filter out from the list:\", filtered_lis)\n"
   ]
  },
  {
   "cell_type": "markdown",
   "id": "61914b45-b793-4e5f-abd2-96fe0ff5cf60",
   "metadata": {},
   "source": [
    "Q24. Write a Python program to determine if a given number is prime or not using if-else."
   ]
  },
  {
   "cell_type": "code",
   "execution_count": 56,
   "id": "fd2e7b0e-9846-44de-95fe-6f6b70cfcaf7",
   "metadata": {},
   "outputs": [
    {
     "name": "stdin",
     "output_type": "stream",
     "text": [
      "Enter the number to check whether it is a prime number or not:  12\n"
     ]
    },
    {
     "name": "stdout",
     "output_type": "stream",
     "text": [
      "12 is not a prime number\n"
     ]
    }
   ],
   "source": [
    "# Define a function isprime that takes an integer n as input\n",
    "def isprime(n):\n",
    "    # Check if n is equal to 0 or 1, which are not prime numbers\n",
    "    if n == 0 or n == 1:\n",
    "        return False\n",
    "    \n",
    "    # Use a for loop to check for factors of n from 2 to n-1\n",
    "    for i in range(2, n):\n",
    "        # If n is divisible by any number in this range, it's not prime\n",
    "        if n % i == 0:\n",
    "            return False\n",
    "    \n",
    "    # If none of the previous conditions were met, n is prime\n",
    "    return True\n",
    "\n",
    "# Take user input for the number to be checked\n",
    "n = int(input(\"Enter the number to check whether it is a prime number or not: \"))\n",
    "\n",
    "# Call the isprime function and check its return value\n",
    "if isprime(n):\n",
    "    # If isprime returns True, print that the number is prime\n",
    "    print(f\"{n} is a prime number\")\n",
    "else:\n",
    "    # If isprime returns False, print that the number is not prime\n",
    "    print(f\"{n} is not a prime number\")\n"
   ]
  },
  {
   "cell_type": "markdown",
   "id": "80c4e5c3-1b73-4e3b-950a-154a5c1bbdb4",
   "metadata": {},
   "source": [
    "map:-"
   ]
  },
  {
   "cell_type": "markdown",
   "id": "e21a02c2-c212-42b8-a9cd-0c22df6a28ad",
   "metadata": {},
   "source": [
    "Q1. Explain the purpose of the `map()` function in Python and provide an example of how it can be used to apply a function to each element of an iterable.\n"
   ]
  },
  {
   "cell_type": "code",
   "execution_count": 57,
   "id": "c777d8e7-81ab-487e-b7f4-6f5ef16c6a3a",
   "metadata": {},
   "outputs": [
    {
     "name": "stdout",
     "output_type": "stream",
     "text": [
      "Original list:-  [1, 2, 3, 4, 5, 6, 7]\n",
      "Modified list:-  [3, 4, 5, 6, 7, 8, 9]\n"
     ]
    }
   ],
   "source": [
    "\"\"\"\"\n",
    "The map function are called as high order functions because as they take other\n",
    "function as argumments\n",
    "\n",
    "The map function applies a function to each element in a sequence and return a\n",
    "new sequence containing the trasformed elements\n",
    "\n",
    "Syntax:---- map(function,iterable)\n",
    "\n",
    "the function argument is applied to each iterables ina a sequence and the iterable\n",
    "argument can be list,tuple and other iterable object\n",
    "\n",
    "\"\"\"\n",
    "\n",
    "# for example:-------\n",
    "\n",
    "# Create a list called 'lis' containing the numbers 1 through 7.\n",
    "lis = [1, 2, 3, 4, 5, 6, 7]\n",
    "\n",
    "# Use the 'map' function to apply a lambda function to each element in the 'lis' list.\n",
    "# The lambda function takes each element 'x' from the 'lis' list and adds 2 to it.\n",
    "# The result is a new list where each element is 2 greater than the corresponding element in the 'lis' list.\n",
    "newlis = list(map(lambda x: x + 2, lis))\n",
    "\n",
    "# Print the original list 'lis'.\n",
    "print(\"Original list:- \", lis)\n",
    "\n",
    "# Print the modified list 'newlis'.\n",
    "print(\"Modified list:- \", newlis)\n"
   ]
  },
  {
   "cell_type": "markdown",
   "id": "ef892111-5aa8-43e8-a8cc-e41d25abd062",
   "metadata": {},
   "source": [
    "Q2. Write a Python program that uses the `map()` function to square each element of a list of numbers.\n"
   ]
  },
  {
   "cell_type": "code",
   "execution_count": 58,
   "id": "b62f5db9-12a8-4ffd-89c2-20f9589a0c22",
   "metadata": {},
   "outputs": [
    {
     "name": "stdout",
     "output_type": "stream",
     "text": [
      "Original List:-  [10, 20, 30, 40, 50, 60, 70, 80, 90, 100]\n",
      "Squared List:-  [100, 400, 900, 1600, 2500, 3600, 4900, 6400, 8100, 10000]\n"
     ]
    }
   ],
   "source": [
    "# Create a list called 'lis' containing the numbers 10 through 100 in increments of 10.\n",
    "lis = [10, 20, 30, 40, 50, 60, 70, 80, 90, 100]\n",
    "\n",
    "# Use the 'map' function to apply a lambda function to each element in the 'lis' list.\n",
    "# The lambda function takes each element 'x' from the 'lis' list and calculates its square (x**2).\n",
    "# The result is a new list where each element is the square of the corresponding element in the 'lis' list.\n",
    "mylis = list(map(lambda x: x**2, lis))\n",
    "\n",
    "# Print the original list 'lis'.\n",
    "print(\"Original List:- \", lis)\n",
    "\n",
    "# Print the squared list 'mylis'.\n",
    "print(\"Squared List:- \", mylis)\n"
   ]
  },
  {
   "cell_type": "markdown",
   "id": "ee0f8bf7-5f43-4201-9520-aba51498f32c",
   "metadata": {},
   "source": [
    "Q3. How does the `map()` function differ from a list comprehension in Python, and when would you choose one over the other?\n"
   ]
  },
  {
   "cell_type": "markdown",
   "id": "b30ed7af-d112-4103-8621-1f695edbb966",
   "metadata": {},
   "source": [
    "Ans3:- The map() function and list comprehensions are both used in Python for applying a function to each element of an iterable (e.g., a list) and generating a new iterable as a result. However, they differ in their syntax, use cases, and readability."
   ]
  },
  {
   "cell_type": "markdown",
   "id": "1204b59b-42ca-4e8c-b61e-4af49ef94fa2",
   "metadata": {},
   "source": [
    "Q4. Create a Python program that uses the `map()` function to convert a list of names to uppercase."
   ]
  },
  {
   "cell_type": "code",
   "execution_count": 60,
   "id": "327bb83c-3bcf-4533-b857-84b6a17b4f36",
   "metadata": {},
   "outputs": [
    {
     "name": "stdout",
     "output_type": "stream",
     "text": [
      "Original name list:- \n",
      "['ayush', 'sudhanshu', 'bhumi', 'bhavya', 'ayushi', 'chandan']\n",
      "Upper case name list:- \n",
      "['AYUSH', 'SUDHANSHU', 'BHUMI', 'BHAVYA', 'AYUSHI', 'CHANDAN']\n"
     ]
    }
   ],
   "source": [
    "# Create a list called 'lis' containing several names as strings.\n",
    "lis = [\"ayush\", \"sudhanshu\", \"bhumi\", \"bhavya\", \"ayushi\", \"chandan\"]\n",
    "\n",
    "# Use the 'map' function to apply a lambda function to each element in the 'lis' list.\n",
    "# The lambda function takes each string 'x' from the 'lis' list and converts it to uppercase using the 'upper()' method.\n",
    "# The result is a new list where each string element is converted to uppercase.\n",
    "newlis = list(map(lambda x: x.upper(), lis))\n",
    "\n",
    "# Print the original name list 'lis'.\n",
    "print(\"Original name list:- \")\n",
    "print(lis)\n",
    "\n",
    "# Print the uppercase name list 'newlis'.\n",
    "print(\"Upper case name list:- \")\n",
    "print(newlis)\n"
   ]
  },
  {
   "cell_type": "markdown",
   "id": "c01cf9ae-4de4-4288-af2a-3e74e565b5d4",
   "metadata": {},
   "source": [
    "Q5.Write a Python program that uses the `map()` function to calculate the length of each word in a list of strings.\n"
   ]
  },
  {
   "cell_type": "code",
   "execution_count": 61,
   "id": "fd9f9e3d-8176-471d-a62c-514ba4e2a11e",
   "metadata": {},
   "outputs": [
    {
     "name": "stdout",
     "output_type": "stream",
     "text": [
      "Length of names:-  [8, 11, 2, 2, 3, 9]\n",
      "Dictionary of name and their length:-- \n",
      "{'pwskills': 8, 'Datascience': 11, 'ml': 2, 'Dl': 2, 'LLM': 3, 'fullstack': 9}\n"
     ]
    }
   ],
   "source": [
    "# Create a list called 'lis' containing several strings (names).\n",
    "lis = [\"pwskills\", \"Datascience\", \"ml\", \"Dl\", \"LLM\", \"fullstack\"]\n",
    "\n",
    "# Use the 'map' function to apply a lambda function to each element in the 'lis' list.\n",
    "# The lambda function takes each string 'x' from the 'lis' list and calculates its length using the 'len()' function.\n",
    "# The result is a new list where each element is the length of the corresponding string in the 'lis' list.\n",
    "newlis = list(map(lambda x: len(x), lis))\n",
    "\n",
    "# Print the lengths of the names.\n",
    "print(\"Length of names:- \", newlis)\n",
    "\n",
    "# Use the 'zip' function to pair the elements from the 'lis' list and the 'newlis' list and create key-value pairs.\n",
    "# Then, use the 'dict()' constructor to convert these pairs into a dictionary.\n",
    "result_dict = dict(zip(lis, newlis))\n",
    "\n",
    "# Print the resulting dictionary, where the keys are the names and the values are their corresponding lengths.\n",
    "print(\"Dictionary of name and their length:-- \")\n",
    "print(result_dict)\n"
   ]
  },
  {
   "cell_type": "markdown",
   "id": "6dd73344-e1eb-4e8a-84c3-7c6ebe242a17",
   "metadata": {},
   "source": [
    "Q6. How can you use the `map()` function to apply a custom function to elements of multiple lists simultaneously in Python?\n"
   ]
  },
  {
   "cell_type": "code",
   "execution_count": 62,
   "id": "bd5fd450-bc80-4127-ab63-834618c12736",
   "metadata": {},
   "outputs": [
    {
     "name": "stdout",
     "output_type": "stream",
     "text": [
      "3 out of 1 list:-  [15, 18, 21]\n"
     ]
    }
   ],
   "source": [
    "\"\"\"\n",
    "we can use map() function to apply a custom function to multiple list \n",
    "by passing multiple list in the argument.\n",
    "\n",
    "\"\"\"\n",
    "\n",
    "# For example:---\n",
    "\n",
    "# Create three lists, lis1, lis2, and lis3, each containing three numeric elements.\n",
    "lis1 = [1, 2, 3]\n",
    "lis2 = [8, 9, 10]\n",
    "lis3 = [6, 7, 8]\n",
    "\n",
    "# Use the 'map' function to apply a lambda function to elements of all three lists simultaneously.\n",
    "# The lambda function takes three arguments, 'x', 'y', and 'z', which correspond to elements from lis1, lis2, and lis3.\n",
    "# It calculates the sum of these elements (x + y + z).\n",
    "# The result is a new list where each element is the sum of elements at the same index in lis1, lis2, and lis3.\n",
    "newlis = list(map(lambda x, y, z: x + y + z, lis1, lis2, lis3))\n",
    "\n",
    "# Print the result, which is a list containing the sums of corresponding elements from the three input lists.\n",
    "print(\"3 out of 1 list:- \", newlis)\n"
   ]
  },
  {
   "cell_type": "markdown",
   "id": "4426f936-15db-47e3-b5bb-70c37df7fdad",
   "metadata": {},
   "source": [
    "Q7. Create a Python program that uses `map()` to convert a list of temperatures from Celsius to Fahrenheit.\n"
   ]
  },
  {
   "cell_type": "code",
   "execution_count": 64,
   "id": "08aaee26-db09-430d-8f32-e835c51e3c43",
   "metadata": {},
   "outputs": [
    {
     "name": "stdout",
     "output_type": "stream",
     "text": [
      "Temperature in Celsius:-  [42, 43, 32, 21, 47, 22, 20, 10]\n",
      "Temperature in Fahrenheit:-  [107.6, 109.4, 89.6, 69.8, 116.6, 71.6, 68.0, 50.0]\n"
     ]
    }
   ],
   "source": [
    "# Create a list called 'celsius' containing temperatures in Celsius.\n",
    "celsius = [42, 43, 32, 21, 47, 22, 20, 10]\n",
    "\n",
    "# Use the 'map' function to apply a lambda function to each temperature in the 'celsius' list.\n",
    "# The lambda function takes each temperature 'x' from the 'celsius' list and converts it to Fahrenheit using the formula (x*1.8)+32.\n",
    "# The 'round()' function is used to round the result to two decimal places.\n",
    "# The result is a new list where each element is the corresponding temperature in Fahrenheit.\n",
    "farhenite = list(map(lambda x: round((x * 1.8) + 32, 2), celsius))\n",
    "\n",
    "# Print the original temperature list in Celsius.\n",
    "print(\"Temperature in Celsius:- \", celsius)\n",
    "\n",
    "# Print the temperature list converted to Fahrenheit.\n",
    "print(\"Temperature in Fahrenheit:- \", farhenite)\n"
   ]
  },
  {
   "cell_type": "markdown",
   "id": "3ac9cbd5-b6f8-41e9-a5e5-be575d30a04d",
   "metadata": {},
   "source": [
    "Q8. Write a Python program that uses the `map()` function to round each element of a list of floating-point numbers to the nearest integer."
   ]
  },
  {
   "cell_type": "code",
   "execution_count": 65,
   "id": "8589f514-1870-4b7b-a64b-f50001656d68",
   "metadata": {},
   "outputs": [
    {
     "name": "stdout",
     "output_type": "stream",
     "text": [
      "Original Float Numbers: [3.14, 2.718, 1.618, 4.669, 5.55]\n",
      "Rounded Numbers: [3, 3, 2, 5, 6]\n"
     ]
    }
   ],
   "source": [
    "# Create a list of floating-point numbers.\n",
    "float_numbers = [3.14, 2.718, 1.618, 4.669, 5.55]\n",
    "\n",
    "# Use the 'map' function to apply the 'round()' function to each element in the list.\n",
    "# The 'round()' function rounds each number to the nearest integer.\n",
    "rounded_numbers = list(map(round, float_numbers))\n",
    "\n",
    "# Print the original list of floating-point numbers.\n",
    "print(\"Original Float Numbers:\", float_numbers)\n",
    "\n",
    "# Print the list of rounded integers.\n",
    "print(\"Rounded Numbers:\", rounded_numbers)\n"
   ]
  },
  {
   "cell_type": "markdown",
   "id": "94b8ce5f-7a6e-49f5-b40b-d56ec76b1f42",
   "metadata": {},
   "source": [
    "Reduce:-----"
   ]
  },
  {
   "cell_type": "markdown",
   "id": "a30857af-2061-45ce-a139-ffe812daf77c",
   "metadata": {},
   "source": [
    "Q1. What is the `reduce()` function in Python, and what module should you import to use it? Provide an example of its basic usage"
   ]
  },
  {
   "cell_type": "code",
   "execution_count": 66,
   "id": "4c3b1b30-d141-4790-bbd8-141a3eb904b8",
   "metadata": {},
   "outputs": [
    {
     "name": "stdout",
     "output_type": "stream",
     "text": [
      "55\n"
     ]
    }
   ],
   "source": [
    "\"\"\"\n",
    "The reduce() function is a higher order function that applies a function to a\n",
    "sequence and return a single value it is a part of the functools modules in\n",
    "python.\n",
    "\n",
    "Syntax:--- reduce(function,iterable)\n",
    "\n",
    "The reduce function applies the function to the first two elements in the iterables\n",
    "and then applies the function to the result and the next element, and so on the \n",
    "reduce function returns the final list.\n",
    "\n",
    "\"\"\"\n",
    "# for example:----\n",
    "# Import the 'reduce' function from the 'functools' module.\n",
    "from functools import reduce\n",
    "\n",
    "# Create a list called 'numbers' containing integers from 1 to 10.\n",
    "numbers = [1, 2, 3, 4, 5, 6, 7, 8, 9, 10]\n",
    "\n",
    "# Use the 'reduce' function to apply a lambda function to accumulate the sum of all elements in the 'numbers' list.\n",
    "# The lambda function takes two arguments 'x' and 'y' and returns their sum (x + y).\n",
    "# The 'reduce' function iteratively applies this lambda function to the elements of the list, accumulating the sum.\n",
    "add = reduce(lambda x, y: x + y, numbers)\n",
    "\n",
    "# Print the result, which is the sum of all elements in the 'numbers' list.\n",
    "print(add)\n"
   ]
  },
  {
   "cell_type": "markdown",
   "id": "94a9b35d-fbec-4790-998e-97ff902f40ff",
   "metadata": {},
   "source": [
    "Q2. Write a Python program that uses the `reduce()` function to find the product of all elements in a list"
   ]
  },
  {
   "cell_type": "code",
   "execution_count": 67,
   "id": "95f986e6-5926-4d5b-8b1c-16571edadc55",
   "metadata": {},
   "outputs": [
    {
     "name": "stdout",
     "output_type": "stream",
     "text": [
      "120\n"
     ]
    }
   ],
   "source": [
    "# Import the 'reduce' function from the 'functools' module.\n",
    "from functools import reduce\n",
    "\n",
    "# Create a list called 'lis' containing integers.\n",
    "lis = [1, 2, 3, 4, 5]\n",
    "\n",
    "# Use the 'reduce' function to apply a lambda function to calculate the product of all elements in the 'lis' list.\n",
    "# The lambda function takes two arguments 'x' and 'y' and returns their product (x * y).\n",
    "# The 'reduce' function iteratively applies this lambda function to the elements of the list, accumulating the product.\n",
    "prod = reduce(lambda x, y: x * y, lis)\n",
    "\n",
    "# Print the result, which is the product of all elements in the 'lis' list.\n",
    "print(prod)\n"
   ]
  },
  {
   "cell_type": "markdown",
   "id": "67559a57-aa60-4add-a9ba-81628a2cd9d3",
   "metadata": {},
   "source": [
    "Q3. Create a Python program that uses `reduce()` to find the maximum element in a list of numbers."
   ]
  },
  {
   "cell_type": "code",
   "execution_count": 69,
   "id": "34433f7e-76be-4ff4-b4cb-860b8a66cbb1",
   "metadata": {},
   "outputs": [
    {
     "name": "stdout",
     "output_type": "stream",
     "text": [
      "The maximum number out of the list is:-  1234\n"
     ]
    }
   ],
   "source": [
    "# Import the 'reduce' function from the 'functools' module.\n",
    "from functools import reduce\n",
    "\n",
    "# Create a list called 'lis' containing a series of numbers.\n",
    "lis = [123, 897, 456, 23, 900, 1234]\n",
    "\n",
    "# Use the 'reduce()' function to find the maximum element in the 'lis' list.\n",
    "# The 'reduce()' function takes two arguments: a lambda function and the list 'lis'.\n",
    "# The lambda function takes two arguments 'x' and 'y' and returns 'x' if 'x' is greater than 'y', otherwise 'y'.\n",
    "# The 'reduce()' function applies this lambda function iteratively to the elements in the 'lis' list.\n",
    "# It starts with the first two elements, finds the maximum, and continues comparing the maximum with the next element until it finds the overall maximum.\n",
    "maximum = reduce(lambda x, y: x if x > y else y, lis)\n",
    "\n",
    "# Print the maximum number found in the 'lis' list.\n",
    "print(\"The maximum number out of the list is:- \", maximum)\n"
   ]
  },
  {
   "cell_type": "markdown",
   "id": "470a9419-62e7-4b7a-82c7-976e79b4cdba",
   "metadata": {},
   "source": [
    "Q4. How can you use the `reduce()` function to concatenate a list of strings into a single string?\n"
   ]
  },
  {
   "cell_type": "code",
   "execution_count": 70,
   "id": "72200a1c-c62b-4c44-aea3-537989e2eb42",
   "metadata": {},
   "outputs": [
    {
     "name": "stdout",
     "output_type": "stream",
     "text": [
      "hii how are you\n"
     ]
    }
   ],
   "source": [
    "# Import the 'reduce' function from the 'functools' module.\n",
    "from functools import reduce\n",
    "\n",
    "# Create a list called 'lis' containing a series of strings.\n",
    "lis = [\"hii\", \" \", \"how\", \" \", \"are\", \" \", \"you\"]\n",
    "\n",
    "# Use the 'reduce()' function to concatenate the strings in the 'lis' list.\n",
    "# The 'reduce()' function takes two arguments: a lambda function and the list 'lis'.\n",
    "# The lambda function takes two strings, 'x' and 'y', and returns their concatenation using the '+' operator.\n",
    "# The 'reduce()' function applies this lambda function iteratively to the elements in the 'lis' list.\n",
    "# It starts with the first two strings, concatenates them, and continues concatenating the result with the next string until it creates a single concatenated string.\n",
    "final = reduce(lambda x, y: x + y, lis)\n",
    "\n",
    "# Print the final concatenated string.\n",
    "print(final)\n"
   ]
  },
  {
   "cell_type": "markdown",
   "id": "c4098479-5785-43f2-983a-bb1096200780",
   "metadata": {},
   "source": [
    "Q5. Write a Python program that calculates the factorial of a number using the `reduce()` function"
   ]
  },
  {
   "cell_type": "code",
   "execution_count": 72,
   "id": "73d8aa82-f38f-4840-b6f4-06353e5085d7",
   "metadata": {},
   "outputs": [
    {
     "name": "stdin",
     "output_type": "stream",
     "text": [
      "Enter the number to find its factorial:-  5\n"
     ]
    },
    {
     "name": "stdout",
     "output_type": "stream",
     "text": [
      "The factorial of 5! is :- 120\n"
     ]
    }
   ],
   "source": [
    "# Import the `reduce` function from the `functools` module\n",
    "from functools import reduce\n",
    "\n",
    "# Define a function called `factorial` that calculates the factorial of a number `n`\n",
    "def factorial(n):\n",
    "    # Base case: if n is 0, return 1 (0! = 1 by convention)\n",
    "    if n == 0:\n",
    "        return 1\n",
    "    \n",
    "    # Use the `reduce` function to multiply all numbers in the range from 1 to n\n",
    "    # The `lambda` function multiplies two numbers `x` and `y`\n",
    "    # The `reduce` function accumulates the result of these multiplications\n",
    "    return reduce(lambda x, y: x * y, range(1, n + 1))\n",
    "\n",
    "# Get an integer input from the user and store it in the variable `num`\n",
    "num = int(input(\"Enter the number to find its factorial:- \"))\n",
    "\n",
    "# Call the `factorial` function with the user-provided number and store the result in `fact`\n",
    "fact = factorial(num)\n",
    "\n",
    "# Print the result, indicating the factorial of the input number\n",
    "print(f\"The factorial of {num}! is :- {fact}\")\n"
   ]
  },
  {
   "cell_type": "markdown",
   "id": "72a68c4e-89e7-498f-a71e-4d271bf573ae",
   "metadata": {},
   "source": [
    "Q6. Create a Python program that uses `reduce()` to find the GCD (Greatest Common Divisor) of a list of numbers."
   ]
  },
  {
   "cell_type": "code",
   "execution_count": 73,
   "id": "0aba7700-9758-4b77-ba50-0ede3e59de15",
   "metadata": {},
   "outputs": [
    {
     "name": "stdout",
     "output_type": "stream",
     "text": [
      "The GCD of [12, 18, 24, 36] is: 6\n"
     ]
    }
   ],
   "source": [
    "# Import necessary modules\n",
    "from functools import reduce  # Import the reduce function from functools\n",
    "import math  # Import the math module for the gcd function\n",
    "\n",
    "# Define a function to find the GCD (Greatest Common Divisor) of two numbers\n",
    "def find_gcd(x, y):\n",
    "    return math.gcd(x, y)\n",
    "\n",
    "# Define a function to find the GCD of a list of numbers\n",
    "def gcd_of_list(lis):\n",
    "    # Check if the list is empty\n",
    "    if len(lis) == 0:\n",
    "        return None  # Return None if the list is empty\n",
    "    \n",
    "    # Check if there's only one number in the list\n",
    "    elif len(lis) == 1:\n",
    "        return lis[0]  # Return the single number as it's its own GCD\n",
    "    \n",
    "    else:\n",
    "        # Use the reduce function to apply the find_gcd function to the list of numbers\n",
    "        # reduce(func, seq) applies the func cumulatively to the items of the sequence, reducing the sequence to a single result.\n",
    "        # In this case, it finds the GCD of the numbers in the list sequentially.\n",
    "        return reduce(find_gcd, lis)\n",
    "\n",
    "# List of numbers for which you want to find the GCD\n",
    "lis = [12, 18, 24, 36]\n",
    "\n",
    "# Calculate the GCD of the list of numbers using the gcd_of_list function\n",
    "gcd = gcd_of_list(lis)\n",
    "\n",
    "# Print the result\n",
    "print(f\"The GCD of {lis} is: {gcd}\")\n"
   ]
  },
  {
   "cell_type": "markdown",
   "id": "14ae5596-d8f7-4e86-914c-4ec3cc2e2398",
   "metadata": {},
   "source": [
    "Q7. Write a Python program that uses the `reduce()` function to find the sum of the digits of a given number."
   ]
  },
  {
   "cell_type": "code",
   "execution_count": 74,
   "id": "a0595e8a-e3c4-44ea-b54d-1d87aa68deb4",
   "metadata": {},
   "outputs": [
    {
     "name": "stdin",
     "output_type": "stream",
     "text": [
      "Enter a number:  12\n"
     ]
    },
    {
     "name": "stdout",
     "output_type": "stream",
     "text": [
      "The sum of the digits in 12 is: 3\n"
     ]
    }
   ],
   "source": [
    "from functools import reduce\n",
    "\n",
    "# Function to convert a character to an integer and sum it\n",
    "def sum_digits(x, y):\n",
    "    return int(x) + int(y)\n",
    "\n",
    "# Input: A number as a string\n",
    "number_str = input(\"Enter a number: \")\n",
    "\n",
    "# Check if the input is a valid number\n",
    "if number_str.isdigit():\n",
    "    # Convert the number to a list of its digits as strings\n",
    "    digits = list(number_str)\n",
    "    \n",
    "    # Use reduce to sum the digits\n",
    "    result = reduce(sum_digits, digits)\n",
    "    \n",
    "    print(f\"The sum of the digits in {number_str} is: {result}\")\n",
    "else:\n",
    "    print(\"Invalid input. Please enter a valid number.\")\n"
   ]
  },
  {
   "cell_type": "markdown",
   "id": "b31312df-1033-4a10-8340-107f2da705b8",
   "metadata": {},
   "source": [
    "Filter:----"
   ]
  },
  {
   "cell_type": "markdown",
   "id": "ce6bf046-17cc-4641-b6cd-bc800d30fdc8",
   "metadata": {},
   "source": [
    "Q1. Explain the purpose of the `filter()` function in Python and provide an example of how it can be used to filter elements from an iterable"
   ]
  },
  {
   "cell_type": "code",
   "execution_count": 84,
   "id": "7cd20643-5c98-4120-b517-4b63b0476476",
   "metadata": {},
   "outputs": [
    {
     "name": "stdout",
     "output_type": "stream",
     "text": [
      "[2, 4, 6, 8, 10]\n"
     ]
    }
   ],
   "source": [
    "\"\"\"\n",
    "\n",
    "The filter function filters a sequence of elements based on a given predicate(a\n",
    "function that returns a boolean value) and returns a new sequence containing\n",
    "only the elements that meet the predicate.\n",
    "\n",
    "filter function is a high order function because it uses other function as argument\n",
    "\n",
    "Syntax:--- filter(predicate,iterable)\n",
    "\n",
    "\"\"\"\n",
    "\n",
    "# for example:---\n",
    "\n",
    "# Create a list called `lis` containing integers from 1 to 10\n",
    "lis = [1, 2, 3, 4, 5, 6, 7, 8, 9, 10]\n",
    "\n",
    "# Use the `filter` function to create a new list `newlis` that contains only even numbers\n",
    "# The `lambda` function defines the filtering criteria; it checks if a number `x` is even (x % 2 == 0)\n",
    "newlis = list(filter(lambda x: x % 2 == 0, lis))\n",
    "\n",
    "# Print the list `newlis` containing only even numbers\n",
    "print(newlis)\n"
   ]
  },
  {
   "cell_type": "markdown",
   "id": "0250b16c-98de-476a-83d0-c13845b420a1",
   "metadata": {},
   "source": [
    "Q2. Write a Python program that uses the `filter()` function to select even numbers from a list of integers."
   ]
  },
  {
   "cell_type": "code",
   "execution_count": 75,
   "id": "9e5d8a93-ed38-40a7-9651-e79b80746991",
   "metadata": {},
   "outputs": [
    {
     "name": "stdout",
     "output_type": "stream",
     "text": [
      "The list of even numbers from the original list is:-  [12, 88, 42, 64, 78, 90, 22, 24]\n"
     ]
    }
   ],
   "source": [
    "# Define a list called 'lis' with some integer values.\n",
    "lis = [12, 15, 65, 88, 42, 64, 78, 90, 21, 22, 24]\n",
    "\n",
    "# Use the 'filter' function to create a new list called 'newlis' that contains only even numbers from the 'lis' list.\n",
    "# The 'lambda' function here is used as the filtering criterion, checking if each element (denoted as 'x') in 'lis' is even.\n",
    "newlis = list(filter(lambda x: x % 2 == 0, lis))\n",
    "\n",
    "# Print the result, indicating that it's the list of even numbers from the original list.\n",
    "print(\"The list of even numbers from the original list is:- \", newlis)\n"
   ]
  },
  {
   "cell_type": "markdown",
   "id": "3e72ff84-4e6c-46cc-be8d-ff8e5f612af3",
   "metadata": {},
   "source": [
    "Q3. Create a Python program that uses the `filter()` function to select names that start with a specific letter from a list of strings"
   ]
  },
  {
   "cell_type": "code",
   "execution_count": 76,
   "id": "1fe330a2-d12d-48fc-b2a8-85efba452553",
   "metadata": {},
   "outputs": [
    {
     "name": "stdout",
     "output_type": "stream",
     "text": [
      "['pwskills', 'program', 'power']\n"
     ]
    }
   ],
   "source": [
    "# Define a list called 'lis' with some strings.\n",
    "lis = [\"pwskills\", \"program\", \"Data\", \"science\", \"power\"]\n",
    "\n",
    "# Use the 'filter' function to create a new list called 'newlis' that contains only strings that start with the letter 'p'.\n",
    "# The 'lambda' function here is used as the filtering criterion, checking if each element (denoted as 'x') in 'lis' starts with the letter 'p'.\n",
    "newlis = list(filter(lambda x: x.startswith('p'), lis))\n",
    "\n",
    "# Print the result, which is the list of strings from the original list that start with 'p'.\n",
    "print(newlis)\n"
   ]
  },
  {
   "cell_type": "markdown",
   "id": "67474410-d16a-4cc7-8e0c-3c7e5dbd517b",
   "metadata": {},
   "source": [
    "Q4. Write a Python program that uses the `filter()` function to select prime numbers from a list of integers.\n"
   ]
  },
  {
   "cell_type": "code",
   "execution_count": 79,
   "id": "dbadbe3c-828b-4f37-b048-5627e2c2f077",
   "metadata": {},
   "outputs": [
    {
     "name": "stdout",
     "output_type": "stream",
     "text": [
      "[2, 3, 5, 7, 11, 13, 17, 19, 23, 29]\n"
     ]
    }
   ],
   "source": [
    "# Define a function called `isprime` to check if a number is prime\n",
    "def isprime(num):\n",
    "    # Check if the number is less than or equal to 1; such numbers are not prime\n",
    "    if num <= 1:\n",
    "        return False\n",
    "    \n",
    "    # Iterate through numbers from 2 to (num - 1) to check for factors\n",
    "    for i in range(2, num):\n",
    "        # If `num` is divisible by `i`, it's not prime, so return False\n",
    "        if num % i == 0:\n",
    "            return False\n",
    "    \n",
    "    # If no factors were found, the number is prime, so return True\n",
    "    return True\n",
    "\n",
    "# Create a list called `lis` containing some numbers\n",
    "lis = [1, 2, 3, 4, 5, 6, 7, 8, 9, 10, 11, 12, 13, 14, 15, 16, 17, 18, 19, 20, 21, 23, 25, 27, 29]\n",
    "\n",
    "# Use the `filter` function to create a new list `newlis` containing only prime numbers\n",
    "# The `isprime` function is used as the filter function to determine which elements to include\n",
    "newlis = list(filter(isprime, lis))\n",
    "\n",
    "# Print the list of prime numbers\n",
    "print(newlis)\n"
   ]
  },
  {
   "cell_type": "markdown",
   "id": "c017e76b-8de2-4648-b079-72309c7fcf15",
   "metadata": {},
   "source": [
    "Q5. How can you use the `filter()` function to remove None values from a list in Python?"
   ]
  },
  {
   "cell_type": "code",
   "execution_count": 80,
   "id": "9ffb6c10-fe88-48a1-b81b-a07897e55bb2",
   "metadata": {},
   "outputs": [
    {
     "name": "stdout",
     "output_type": "stream",
     "text": [
      "The list after removing None values:-  [1, 3, 4, 5, 6]\n"
     ]
    }
   ],
   "source": [
    "# Define a list 'lis' containing a mix of values, including None.\n",
    "lis = [1, None, 3, None, 4, 5, 6, None]\n",
    "\n",
    "# Use the 'filter' function to create a new list 'newlis' that contains only non-None values.\n",
    "# The lambda function here checks if each element 'x' in 'lis' is not equal to None using 'x is not None'.\n",
    "newlis = list(filter(lambda x: x is not None, lis))\n",
    "\n",
    "# Print the result, which is the list 'newlis' after removing the None values.\n",
    "print(\"The list after removing None values:- \", newlis)\n"
   ]
  },
  {
   "cell_type": "markdown",
   "id": "1332f05d-b2d1-4f34-93bf-18aba0dd3a82",
   "metadata": {},
   "source": [
    "Q6. Create a Python program that uses `filter()` to select words longer than a certain length from a list of strings.\n"
   ]
  },
  {
   "cell_type": "code",
   "execution_count": 81,
   "id": "6f069c41-779d-4bc4-a3cb-acf678d4862a",
   "metadata": {},
   "outputs": [
    {
     "name": "stdout",
     "output_type": "stream",
     "text": [
      "['pwskill', 'data', 'Science', 'machine']\n"
     ]
    }
   ],
   "source": [
    "# Define a list 'lis' containing a collection of strings.\n",
    "lis = [\"pwskill\", \"Hey\", \"How\", \"are\", \"you\", \"data\", \"Science\", \"machine\"]\n",
    "\n",
    "# Define a variable 'length' with a value of 3.\n",
    "length = 3\n",
    "\n",
    "# Use the 'filter' function to create a new list 'newlis' that contains only strings longer than the specified 'length'.\n",
    "# The lambda function checks if the length of each string 'x' in 'lis' is greater than 'length'.\n",
    "newlis = list(filter(lambda x: len(x) > length, lis))\n",
    "\n",
    "# Print the result, which is the list 'newlis' containing strings longer than 'length'.\n",
    "print(newlis)\n"
   ]
  },
  {
   "cell_type": "markdown",
   "id": "046b61db-015a-43d5-8354-2d5d39c2418b",
   "metadata": {},
   "source": [
    "Q7. Write a Python program that uses the `filter()` function to select elements greater than a specified threshold from a list of values."
   ]
  },
  {
   "cell_type": "code",
   "execution_count": 82,
   "id": "19c8ec29-3fa9-423d-a907-82f3853b2901",
   "metadata": {},
   "outputs": [
    {
     "name": "stdout",
     "output_type": "stream",
     "text": [
      "[20, 30, 40, 50, 60, 70, 80, 90, 100]\n"
     ]
    }
   ],
   "source": [
    "# Define a list 'lis' containing a collection of numeric values.\n",
    "lis = [1, 2, 3, 4, 5, 6, 7, 8, 9, 10, 20, 30, 40, 50, 60, 70, 80, 90, 100]\n",
    "\n",
    "# Define the 'value' variable to specify the threshold for filtering.\n",
    "value = 10\n",
    "\n",
    "# Use the 'filter' function to create a new list 'newlis' that contains elements greater than the specified 'value'.\n",
    "# The lambda function here checks if each element 'x' in 'lis' is greater than 'value'.\n",
    "newlis = list(filter(lambda x: x > value, lis))\n",
    "\n",
    "# Print the result, which is the list of elements greater than 'value'.\n",
    "print(newlis)\n"
   ]
  },
  {
   "cell_type": "markdown",
   "id": "61c1c45b-7dbc-4b29-a013-c59ee5fbaf7f",
   "metadata": {},
   "source": [
    " Recursion:---"
   ]
  },
  {
   "cell_type": "markdown",
   "id": "d82f18d9-fa33-4138-aa94-58bda69eaaf2",
   "metadata": {},
   "source": [
    "Q1. Explain the concept of recursion in Python. How does it differ from iteration?"
   ]
  },
  {
   "cell_type": "code",
   "execution_count": null,
   "id": "76404946-419e-469c-99cc-0c07fcbc3b31",
   "metadata": {},
   "outputs": [],
   "source": [
    "\"\"\"\n",
    "\n",
    "Recursion:- Recursion is a programming technique where a function calls itself\n",
    "to solve a smaller instance of the same problem. In other words, a problem \n",
    "is divided into smaller, similar subproblems until a base case is reached, and \n",
    "then the solutions to the subproblems are combined to solve the original problem.\n",
    "\n",
    "\n",
    "Iteration:- Iteration is a programming construct where a block of code is\n",
    "repeatedly executed until a specified condition is met. It involves using loops,\n",
    "such as for and while, to perform repetitive tasks.\n",
    "\n",
    "\"\"\"\n"
   ]
  },
  {
   "cell_type": "markdown",
   "id": "59b15ed3-d166-4f22-88aa-f1b4ea64a529",
   "metadata": {},
   "source": [
    "Q2. Write a Python program to calculate the factorial of a number using recursion."
   ]
  },
  {
   "cell_type": "code",
   "execution_count": 85,
   "id": "93462470-6600-4831-a314-2e46ca3ba916",
   "metadata": {},
   "outputs": [
    {
     "name": "stdin",
     "output_type": "stream",
     "text": [
      "Enter the number to find its factorial:  5\n"
     ]
    },
    {
     "name": "stdout",
     "output_type": "stream",
     "text": [
      "The factorial of 5 is: 120\n"
     ]
    }
   ],
   "source": [
    "# Define a recursive function 'fact' to calculate the factorial of a number.\n",
    "def fact(num):\n",
    "    # Base case: If num is 0 or 1, return 1 because 0! = 1 and 1! = 1.\n",
    "    if num <= 1:\n",
    "        return 1\n",
    "    \n",
    "    # Recursive case: Factorial of num = num * factorial of (num-1)\n",
    "    return num * fact(num - 1)\n",
    "\n",
    "# Prompt the user to enter a number for which to find the factorial.\n",
    "num = int(input(\"Enter the number to find its factorial: \"))\n",
    "\n",
    "# Call the 'fact' function to calculate the factorial for the entered number.\n",
    "result = fact(num)\n",
    "\n",
    "# Print the result, which is the factorial of the entered number.\n",
    "print(f\"The factorial of {num} is: {result}\")\n"
   ]
  },
  {
   "cell_type": "markdown",
   "id": "66e4ecf4-4bed-4ce7-b752-44ad5c9832d1",
   "metadata": {},
   "source": [
    "Q3. Create a recursive Python function to find the nth Fibonacci number.\n"
   ]
  },
  {
   "cell_type": "code",
   "execution_count": 86,
   "id": "9fb3515e-8467-4424-a09e-58a2eedca8c2",
   "metadata": {},
   "outputs": [
    {
     "name": "stdin",
     "output_type": "stream",
     "text": [
      "Enter the term to find its Fibonacci number:  12\n"
     ]
    },
    {
     "name": "stdout",
     "output_type": "stream",
     "text": [
      "The Fibonacci of 12th term is: 144\n"
     ]
    }
   ],
   "source": [
    "# Define a recursive function 'fib' to find the nth Fibonacci number.\n",
    "def fib(n):\n",
    "    # Base case: If n is 0 or 1, return n because F(0) = 0 and F(1) = 1.\n",
    "    if n <= 1:\n",
    "        return n\n",
    "    \n",
    "    # Recursive case: F(n) = F(n-1) + F(n-2)\n",
    "    return fib(n - 1) + fib(n - 2)\n",
    "\n",
    "# Prompt the user to enter the term (n) for which to find the Fibonacci number.\n",
    "n = int(input(\"Enter the term to find its Fibonacci number: \"))\n",
    "\n",
    "# Call the 'fib' function to find the Fibonacci number for the input term.\n",
    "res = fib(n)\n",
    "\n",
    "# Print the result, which is the Fibonacci number for the entered term.\n",
    "print(f\"The Fibonacci of {n}th term is: {res}\")\n"
   ]
  },
  {
   "cell_type": "markdown",
   "id": "dd9a7d8b-a022-4761-9f97-b7f22ff76b86",
   "metadata": {},
   "source": [
    "Q4. Write a recursive Python function to calculate the sum of all elements in a list. "
   ]
  },
  {
   "cell_type": "code",
   "execution_count": 87,
   "id": "6bf96b56-a09f-4c93-9603-ea7e770c022d",
   "metadata": {},
   "outputs": [
    {
     "name": "stdout",
     "output_type": "stream",
     "text": [
      "The sum of the elements of the list is: 28\n"
     ]
    }
   ],
   "source": [
    "# Define a recursive function 'add' to calculate the sum of elements in a list.\n",
    "def add(lis):\n",
    "    # Base case: If the list is empty, return 0.\n",
    "    if not lis:\n",
    "        return 0\n",
    "    \n",
    "    # Recursive case: Add the first element to the sum of the rest of the list.\n",
    "    return lis[0] + add(lis[1:])\n",
    "\n",
    "# Define a list 'lis' containing a collection of integers.\n",
    "lis = [1, 2, 3, 4, 5, 6, 7]\n",
    "\n",
    "# Call the 'add' function to calculate the sum of elements in the list.\n",
    "res = add(lis)\n",
    "\n",
    "# Print the result, which is the sum of elements in the list.\n",
    "print(\"The sum of the elements of the list is:\", res)\n"
   ]
  },
  {
   "cell_type": "markdown",
   "id": "57c1d77b-a0e6-4e98-a416-63a317e0f3a2",
   "metadata": {},
   "source": [
    "Q5. How can you prevent a recursive function from running indefinitely, causing a stack overflow error?"
   ]
  },
  {
   "cell_type": "markdown",
   "id": "54a6e58c-f93f-49b2-8b2a-8d2c02c98b83",
   "metadata": {},
   "source": [
    "Ans 5:-- To prevent a recursive function from running indefinitely and causing a stack overflow error, ensure that there's a well-defined base case that will stop the recursion. The base case should be reached for all possible inputs, ensuring the function eventually terminates. Additionally, carefully control and limit the recursive depth to avoid excessive stack usage"
   ]
  },
  {
   "cell_type": "markdown",
   "id": "f1234066-fb98-41a0-a74c-09859fa93b68",
   "metadata": {},
   "source": [
    "Q6. Create a recursive Python function to find the greatest common divisor (GCD) of two numbers using the Euclidean algorithm.\n"
   ]
  },
  {
   "cell_type": "code",
   "execution_count": 1,
   "id": "69b0374f-daa8-4a86-80e2-e68b516d44e8",
   "metadata": {},
   "outputs": [
    {
     "name": "stdin",
     "output_type": "stream",
     "text": [
      "Enter the first number:-  12\n",
      "Enter the second number:-  2\n"
     ]
    },
    {
     "name": "stdout",
     "output_type": "stream",
     "text": [
      "The greatest common divisor of 12 and 2 is 2\n"
     ]
    }
   ],
   "source": [
    "# Define a function called `gcd` to calculate the greatest common divisor (GCD) of two numbers, `a` and `b`\n",
    "def gcd(a, b):\n",
    "    # Base case: if `b` is 0, the GCD is `a`\n",
    "    if b == 0:\n",
    "        return a\n",
    "    \n",
    "    # Recursive case: Calculate the GCD using the Euclidean algorithm\n",
    "    # The GCD of `a` and `b` is the same as the GCD of `b` and the remainder of `a` divided by `b` (a % b)\n",
    "    return gcd(b, a % b)\n",
    "\n",
    "# Get two integer inputs from the user and store them in `num1` and `num2`\n",
    "num1 = int(input(\"Enter the first number:- \"))\n",
    "num2 = int(input(\"Enter the second number:- \"))\n",
    "\n",
    "# Call the `gcd` function with the user-provided numbers and store the result in `res`\n",
    "res = gcd(num1, num2)\n",
    "\n",
    "# Print the result, indicating the GCD of the two input numbers\n",
    "print(f\"The greatest common divisor of {num1} and {num2} is {res}\")\n"
   ]
  },
  {
   "cell_type": "markdown",
   "id": "1086ac30-14e7-408f-9e73-51ecfd2efc3c",
   "metadata": {},
   "source": [
    "Q7. Write a recursive Python function to reverse a string."
   ]
  },
  {
   "cell_type": "code",
   "execution_count": 3,
   "id": "57f7face-45bc-4932-baa2-5efae772747c",
   "metadata": {},
   "outputs": [
    {
     "name": "stdin",
     "output_type": "stream",
     "text": [
      "Enter the string:-  dwqd\n"
     ]
    },
    {
     "name": "stdout",
     "output_type": "stream",
     "text": [
      "The reverse of the string 'dwqd' is 'dqwd'\n"
     ]
    }
   ],
   "source": [
    "# Define a recursive function called `reverse_str` to reverse a string\n",
    "def reverse_str(string):\n",
    "    # Base case: If the length of the string is less than or equal to 1, return the string itself\n",
    "    if len(string) <= 1:\n",
    "        return string\n",
    "    \n",
    "    # Recursive case:\n",
    "    # Call `reverse_str` with the substring `string[1:]` (all characters except the first one),\n",
    "    # and then append the first character `string[0]` at the end\n",
    "    return reverse_str(string[1:]) + string[0]\n",
    "\n",
    "# Get a string input from the user and store it in `inp_str`\n",
    "inp_str = input(\"Enter the string:- \")\n",
    "\n",
    "# Call the `reverse_str` function with the user-provided string and store the result in `res`\n",
    "res = reverse_str(inp_str)\n",
    "\n",
    "# Print the result, indicating the reversed string\n",
    "print(f\"The reverse of the string '{inp_str}' is '{res}'\")\n"
   ]
  },
  {
   "cell_type": "markdown",
   "id": "5d804988-4542-4134-bb0b-45e57c4888f8",
   "metadata": {},
   "source": [
    "Q8. Create a recursive Python function to calculate the power of a number (x^n)"
   ]
  },
  {
   "cell_type": "code",
   "execution_count": 5,
   "id": "c48d840a-605f-44b1-9c63-ae2c42ae228a",
   "metadata": {},
   "outputs": [
    {
     "name": "stdin",
     "output_type": "stream",
     "text": [
      "Enter the number (base):-  12\n",
      "Enter the power (exponent):-  2\n"
     ]
    },
    {
     "name": "stdout",
     "output_type": "stream",
     "text": [
      "12^2 is equal to 144\n"
     ]
    }
   ],
   "source": [
    "# Define a recursive function called `power` to calculate x^n, where x is the base and n is the exponent\n",
    "def power(x, n):\n",
    "    # Base case: If n is 0, return 1 (x^0 is defined as 1)\n",
    "    if n == 0:\n",
    "        return 1\n",
    "    \n",
    "    # Recursive case:\n",
    "    # Calculate x^n by multiplying x with the result of (x^(n-1))\n",
    "    return x * power(x, n - 1)\n",
    "\n",
    "# Get an integer input for the base 'x' from the user\n",
    "x = int(input(\"Enter the number (base):- \"))\n",
    "\n",
    "# Get an integer input for the exponent 'n' from the user\n",
    "n = int(input(\"Enter the power (exponent):- \"))\n",
    "\n",
    "# Call the `power` function with the user-provided values of 'x' and 'n' and store the result in 'res'\n",
    "res = power(x, n)\n",
    "\n",
    "# Print the result, indicating the exponentiation\n",
    "print(f\"{x}^{n} is equal to {res}\")\n"
   ]
  },
  {
   "cell_type": "markdown",
   "id": "805b063c-8578-46c1-9ab9-6e851c5331c5",
   "metadata": {},
   "source": [
    "Q9. Write a recursive Python function to find all permutations of a given string.\n"
   ]
  },
  {
   "cell_type": "code",
   "execution_count": 6,
   "id": "93515b3e-b98e-4983-a9ee-7c487f9d2582",
   "metadata": {},
   "outputs": [
    {
     "name": "stdout",
     "output_type": "stream",
     "text": [
      "Permutations of abc are: ['abc', 'acb', 'bac', 'bca', 'cab', 'cba']\n"
     ]
    }
   ],
   "source": [
    "def get_permutations(string):\n",
    "    # Base case: If the string has only one character, return it as a single-item list.\n",
    "    if len(string) == 1:\n",
    "        return [string]\n",
    "\n",
    "    # Initialize a list to store permutations.\n",
    "    permutations = []\n",
    "\n",
    "    # Iterate through each character in the string.\n",
    "    for i in range(len(string)):\n",
    "        # Select the current character as the first character.\n",
    "        current_char = string[i]\n",
    "\n",
    "        # Generate the remaining string by excluding the current character.\n",
    "        remaining_string = string[:i] + string[i + 1:]\n",
    "\n",
    "        # Recursively find permutations of the remaining string.\n",
    "        sub_permutations = get_permutations(remaining_string)\n",
    "\n",
    "        # Combine the current character with each permutation of the remaining string.\n",
    "        for sub_permutation in sub_permutations:\n",
    "            permutations.append(current_char + sub_permutation)\n",
    "\n",
    "    return permutations\n",
    "\n",
    "# Example usage:\n",
    "input_string = \"abc\"\n",
    "result = get_permutations(input_string)\n",
    "print(\"Permutations of\", input_string, \"are:\", result)\n"
   ]
  },
  {
   "cell_type": "markdown",
   "id": "3e16dccc-f0db-48a8-9a71-e851ac07edab",
   "metadata": {},
   "source": [
    "Q10. Write a recursive Python function to check if a string is a palindrome.\n"
   ]
  },
  {
   "cell_type": "code",
   "execution_count": 7,
   "id": "92b8ff2e-9114-4350-ba97-5d2b6f68519d",
   "metadata": {},
   "outputs": [
    {
     "name": "stdout",
     "output_type": "stream",
     "text": [
      "'racecar' is a palindrome.\n"
     ]
    }
   ],
   "source": [
    "def is_palindrome(string):\n",
    "    # Base case: If the string has 0 or 1 character, it's a palindrome.\n",
    "    if len(string) <= 1:\n",
    "        return True\n",
    "    \n",
    "    # Check if the first and last characters are the same.\n",
    "    if string[0] != string[-1]:\n",
    "        return False\n",
    "    \n",
    "    # Recursive case: Check if the substring between the first and last characters is a palindrome.\n",
    "    return is_palindrome(string[1:-1])\n",
    "\n",
    "# Example usage:\n",
    "input_string = \"racecar\"\n",
    "result = is_palindrome(input_string)\n",
    "if result:\n",
    "    print(f\"'{input_string}' is a palindrome.\")\n",
    "else:\n",
    "    print(f\"'{input_string}' is not a palindrome.\")\n"
   ]
  },
  {
   "cell_type": "markdown",
   "id": "52215db2-046a-4521-867f-687f7b8a487d",
   "metadata": {},
   "source": [
    "Q11. Create a recursive Python function to generate all possible combinations of a list of elements."
   ]
  },
  {
   "cell_type": "code",
   "execution_count": 8,
   "id": "e9672232-82f5-48dd-af2a-90a542254d52",
   "metadata": {},
   "outputs": [
    {
     "name": "stdout",
     "output_type": "stream",
     "text": [
      "All possible combinations: [[], [4], [3], [3, 4], [2], [2, 4], [2, 3], [2, 3, 4], [1], [1, 4], [1, 3], [1, 3, 4], [1, 2], [1, 2, 4], [1, 2, 3], [1, 2, 3, 4]]\n"
     ]
    }
   ],
   "source": [
    "def generate_combinations(lst):\n",
    "    if not lst:\n",
    "        return [[]]  # Return an empty list as the base case.\n",
    "\n",
    "    first_element = lst[0]\n",
    "    rest_of_elements = lst[1:]\n",
    "\n",
    "    # Recursive call to get combinations without the first element.\n",
    "    combinations_without_first = generate_combinations(rest_of_elements)\n",
    "\n",
    "    # Combine the first element with each combination without it.\n",
    "    combinations_with_first = []\n",
    "    for combination in combinations_without_first:\n",
    "        combinations_with_first.append([first_element] + combination)\n",
    "\n",
    "    # Return combinations with and without the first element.\n",
    "    return combinations_without_first + combinations_with_first\n",
    "\n",
    "# Example usage:\n",
    "my_list = [1, 2, 3,4]\n",
    "result = generate_combinations(my_list)\n",
    "print(\"All possible combinations:\", result)\n"
   ]
  },
  {
   "cell_type": "markdown",
   "id": "8506c40f-87b2-4f66-a7ee-0bc9a9c044c5",
   "metadata": {},
   "source": [
    "Basics of function:------"
   ]
  },
  {
   "cell_type": "markdown",
   "id": "f8e86d31-778d-4519-82c8-c1f49f517ab8",
   "metadata": {},
   "source": [
    "Q1. What is a function in Python, and why is it used?\n"
   ]
  },
  {
   "cell_type": "markdown",
   "id": "e969e0b2-612f-4330-994a-89387ed9c1a5",
   "metadata": {},
   "source": [
    "Ans1:- In Python, a function is a reusable block of code that performs a specific task or set of tasks. Functions are used to organize code into manageable and modular pieces, making it easier to understand, maintain, and reuse. Here's why functions are used in Python"
   ]
  },
  {
   "cell_type": "markdown",
   "id": "0974aaac-009f-4557-8710-8e7ecbc807a1",
   "metadata": {},
   "source": [
    "Q2. How do you define a function in Python? Provide an example"
   ]
  },
  {
   "cell_type": "code",
   "execution_count": 9,
   "id": "96f82952-c706-4b13-93f2-644fad4bf3ba",
   "metadata": {},
   "outputs": [
    {
     "name": "stdout",
     "output_type": "stream",
     "text": [
      "The result of adding 1, 2, and 3 is: 6\n"
     ]
    }
   ],
   "source": [
    "\"\"\"\n",
    "\n",
    "n Python, you can define a function using the def keyword\n",
    "\n",
    "Syntax:-- \n",
    "\n",
    "def functionname(parameteres):\n",
    "     function body\n",
    "     return result\n",
    "     \n",
    "\"\"\"\n",
    "\n",
    "# for example\n",
    "\n",
    "# Define a function named 'add' that takes three parameters: x, y, and z.\n",
    "def add(x, y, z):\n",
    "    # The function computes the sum of x, y, and z and returns the result.\n",
    "    return x + y + z\n",
    "\n",
    "# Call the 'add' function with arguments 1, 2, and 3 and store the result.\n",
    "result = add(1, 2, 3)\n",
    "\n",
    "# Print the result.\n",
    "print(\"The result of adding 1, 2, and 3 is:\", result)\n"
   ]
  },
  {
   "cell_type": "markdown",
   "id": "8843b00c-ad8d-436d-8b6e-f192a61ecd8b",
   "metadata": {},
   "source": [
    "Q3. Explain the difference between a function definition and a function call."
   ]
  },
  {
   "cell_type": "markdown",
   "id": "59776bea-4f56-46ef-8905-6696588ed77b",
   "metadata": {},
   "source": [
    "Ans3:\n",
    "1. function defination:-\n",
    "-->A function definition is the process of creating and specifying the behavior of a function.\n",
    "\n",
    "-->It starts with the def keyword followed by the function name, a pair of parentheses (), and a colon : to define the function's name and parameters.\n",
    "\n",
    "\n",
    "-->Inside the function definition, you provide the implementation of the function, specifying what it does when called.\n",
    "\n",
    "\n",
    "-->The function definition creates a blueprint or a template for the function's behavior, but it does not execute the code within the function.\n",
    "\n",
    "\n",
    "2. function call:- \n",
    "\n",
    "--> A function call is the act of invoking or executing a defined function with specific arguments or inputs.\n",
    "\n",
    "--> It is done by using the function's name followed by a pair of parentheses () containing the arguments (if any) required by the function.\n",
    "\n",
    "\n",
    "--> When a function is called, the code within the function's definition is executed, and the function may return a result or perform a specific task.\n"
   ]
  },
  {
   "cell_type": "markdown",
   "id": "8f581290-2515-454b-892d-1ea51f04cb44",
   "metadata": {},
   "source": [
    "Q4. Write a Python program that defines a function to calculate the sum of two numbers and then calls the function.\n"
   ]
  },
  {
   "cell_type": "code",
   "execution_count": 10,
   "id": "4de26215-738c-4b28-8326-7d8114b1854a",
   "metadata": {},
   "outputs": [
    {
     "name": "stdin",
     "output_type": "stream",
     "text": [
      "Enter the first number:  12\n",
      "Enter the second number:  21\n"
     ]
    },
    {
     "name": "stdout",
     "output_type": "stream",
     "text": [
      "The sum of 12 and 21 is: 33\n"
     ]
    }
   ],
   "source": [
    "# Define a function named 'add' that takes two parameters: a and b.\n",
    "def add(a, b):\n",
    "    # The function computes the sum of a and b and returns the result.\n",
    "    return a + b\n",
    "\n",
    "# Prompt the user to enter the first number and convert it to an integer.\n",
    "a = int(input(\"Enter the first number: \"))\n",
    "\n",
    "# Prompt the user to enter the second number and convert it to an integer.\n",
    "b = int(input(\"Enter the second number: \"))\n",
    "\n",
    "# Call the 'add' function with the values entered by the user as arguments and store the result.\n",
    "res = add(a, b)\n",
    "\n",
    "# Print the result using f-strings.\n",
    "print(f\"The sum of {a} and {b} is: {res}\")\n"
   ]
  },
  {
   "cell_type": "markdown",
   "id": "229e5d75-71a8-4338-a4fc-3cb2d3bd16d7",
   "metadata": {},
   "source": [
    "Q5. What is a function signature, and what information does it typically include?"
   ]
  },
  {
   "cell_type": "markdown",
   "id": "c846907b-e600-4d8e-b7e8-15d85e24191e",
   "metadata": {},
   "source": [
    "Ans5:- A function signature is a concise and standardized way of representing essential information about a function in programming. It provides a high-level summary of the function's characteristics and is typically found in function documentation, code comments, or function declarations. The information included in a function signature can vary depending on the programming language and coding conventions.includes the information like:\n",
    "\n",
    "1 function name\n",
    "2 parameteres/arguments\n",
    "3 return type\n",
    "4 modifiers/annotations\n",
    "\n"
   ]
  },
  {
   "cell_type": "markdown",
   "id": "e875efd3-c33b-4c26-97c4-82e71320f8d8",
   "metadata": {},
   "source": [
    "Q6. Create a Python function that takes two arguments and returns their product.\n",
    " "
   ]
  },
  {
   "cell_type": "code",
   "execution_count": 11,
   "id": "d1aebfc0-a086-4052-bd74-35a35577c61b",
   "metadata": {},
   "outputs": [
    {
     "name": "stdin",
     "output_type": "stream",
     "text": [
      "Enter the first number:  12\n",
      "Enter the second number:  21\n"
     ]
    },
    {
     "name": "stdout",
     "output_type": "stream",
     "text": [
      "The product of 12 and 21 is: 252\n"
     ]
    }
   ],
   "source": [
    "# Define a function named 'product' that takes two parameters: a and b.\n",
    "def product(a, b):\n",
    "    # The function computes the product of a and b and returns the result.\n",
    "    return a * b\n",
    "\n",
    "# Prompt the user to enter the first number and convert it to an integer.\n",
    "a = int(input(\"Enter the first number: \"))\n",
    "\n",
    "# Prompt the user to enter the second number and convert it to an integer.\n",
    "b = int(input(\"Enter the second number: \"))\n",
    "\n",
    "# Call the 'product' function with the values entered by the user as arguments and store the result.\n",
    "res = product(a, b)\n",
    "\n",
    "# Print the result using f-strings.\n",
    "print(f\"The product of {a} and {b} is: {res}\")\n"
   ]
  },
  {
   "cell_type": "markdown",
   "id": "fcf12db6-506b-48cf-aaff-89c51853bee6",
   "metadata": {},
   "source": [
    "Function parameteres and arguments:----"
   ]
  },
  {
   "cell_type": "markdown",
   "id": "48d3eb03-95a0-421b-a6a0-38c29fc6b4d5",
   "metadata": {},
   "source": [
    "Q1. Explain the concepts of formal parameters and actual arguments in Python functions.\n"
   ]
  },
  {
   "cell_type": "markdown",
   "id": "81505282-9f4b-4c39-a7e0-2bbdd57cd99e",
   "metadata": {},
   "source": [
    "1 Formal parameters are placeholders or variables defined in the function's parameter list, and they serve as a way to receive input values when the function is called.\n",
    "\n",
    "def add(x, y):  # 'x' and 'y' are formal parameters\n",
    "    return x + y\n",
    "\n",
    "2 Actual arguments are the values or expressions that are passed into a function when it is called\n",
    "\n",
    "result = add(3, 5)  # '3' and '5' are actual arguments passed to the 'add' function\n"
   ]
  },
  {
   "cell_type": "markdown",
   "id": "85a223c3-7694-41df-aea3-4fbad6ec0146",
   "metadata": {},
   "source": [
    "Q2. Write a Python program that defines a function with default argument values."
   ]
  },
  {
   "cell_type": "code",
   "execution_count": 12,
   "id": "4c6ecc8a-b977-4515-b3d0-8af0bd5492ec",
   "metadata": {},
   "outputs": [
    {
     "name": "stdout",
     "output_type": "stream",
     "text": [
      "Greeting: helloworld!\n"
     ]
    }
   ],
   "source": [
    "# Define a function named 'greet' with two parameters, 'a' and 'b', both of which have default values.\n",
    "def greet(a=\"hello\", b=\"world!\"):\n",
    "    # The function concatenates the values of 'a' and 'b' and returns the result.\n",
    "    return a + b\n",
    "\n",
    "# Call the 'greet' function without providing any arguments.\n",
    "result = greet()\n",
    "\n",
    "# Print the result.\n",
    "print(\"Greeting:\", result)\n"
   ]
  },
  {
   "cell_type": "markdown",
   "id": "5b7bfc85-f242-41c3-acd1-d125fe85dd59",
   "metadata": {},
   "source": [
    "Q3. How do you use keyword arguments in Python function calls? Provide an example.\n"
   ]
  },
  {
   "cell_type": "code",
   "execution_count": 13,
   "id": "13b982b8-8a1a-4f11-965c-81301b7694c7",
   "metadata": {},
   "outputs": [
    {
     "name": "stdout",
     "output_type": "stream",
     "text": [
      "Hi John\n",
      "Hello Rocky\n"
     ]
    }
   ],
   "source": [
    "# Define a function 'greet' with two parameters, 'name' and 'greeting'.\n",
    "def greet(name, greeting):\n",
    "    # The function prints a greeting message by combining 'name' and 'greeting'.\n",
    "    print(f\"{greeting} {name}\")\n",
    "\n",
    "# Call the 'greet' function with keyword arguments.\n",
    "greet(name=\"John\", greeting=\"Hi\")  # Using keyword arguments to specify parameter values.\n",
    "greet(name=\"Rocky\", greeting=\"Hello\")  # Another call with different values.\n"
   ]
  },
  {
   "cell_type": "markdown",
   "id": "5fa3d06d-b52f-4597-a57f-72f0daca3449",
   "metadata": {},
   "source": [
    "Q4. Create a Python function that accepts a variable number of arguments and calculates their sum.\n"
   ]
  },
  {
   "cell_type": "code",
   "execution_count": 14,
   "id": "badf2dad-7735-4506-b07c-c355e946ddad",
   "metadata": {},
   "outputs": [
    {
     "name": "stdout",
     "output_type": "stream",
     "text": [
      "The sum of the numbers is: 55\n"
     ]
    }
   ],
   "source": [
    "# Define a function 'add' that accepts a variable number of arguments using '*args'.\n",
    "def add(*args):\n",
    "    # Initialize a variable 'total' to store the sum of the arguments.\n",
    "    total = 0\n",
    "    \n",
    "    # Iterate through each argument in 'args'.\n",
    "    for num in args:\n",
    "        # Add the current argument 'num' to the 'total'.\n",
    "        total += num\n",
    "    \n",
    "    # Return the calculated total sum.\n",
    "    return total\n",
    "\n",
    "# Call the 'add' function with a list of numbers.\n",
    "result = add(1, 2, 3, 4, 5, 6, 7, 8, 9, 10)\n",
    "\n",
    "# Print the result.\n",
    "print(\"The sum of the numbers is:\", result)\n"
   ]
  },
  {
   "cell_type": "markdown",
   "id": "4f3a6d09-97c6-48b9-9cee-5ed3a699238d",
   "metadata": {},
   "source": [
    "Q5. What is the purpose of the `*args` and `**kwargs` syntax in function parameter lists?"
   ]
  },
  {
   "cell_type": "code",
   "execution_count": 15,
   "id": "3afdc1b1-9342-414f-ae29-285acabd23d8",
   "metadata": {},
   "outputs": [
    {
     "name": "stdout",
     "output_type": "stream",
     "text": [
      "Output for the args function:----------\n",
      "1\n",
      "2\n",
      "3\n",
      "four\n",
      "Output for the kwargs function:----------\n",
      "name: Alice\n",
      "age: 30\n",
      "city: Wonderland\n"
     ]
    }
   ],
   "source": [
    "# *args\n",
    "\n",
    "def print_args(*args):\n",
    "    for arg in args:\n",
    "        print(arg)\n",
    "        \n",
    "        \n",
    "# **kwargs        \n",
    "def print_kwargs(**kwargs):\n",
    "    for key, value in kwargs.items():\n",
    "        print(f\"{key}: {value}\")\n",
    "        \n",
    "print(\"Output for the args function:----------\")        \n",
    "print_args(1, 2, 3, \"four\")   # function call for args\n",
    "\n",
    "print(\"Output for the kwargs function:----------\")        \n",
    "\n",
    "print_kwargs(name=\"Alice\", age=30, city=\"Wonderland\")  # function call for kwargs\n",
    "\n",
    "\n",
    "\n",
    "\n"
   ]
  },
  {
   "cell_type": "markdown",
   "id": "61e1b91d-e01d-4599-9ff0-47e5c3075b94",
   "metadata": {},
   "source": [
    "Return values and scoping:------"
   ]
  },
  {
   "cell_type": "markdown",
   "id": "83e0de66-139d-4132-8c87-defc35346442",
   "metadata": {},
   "source": [
    "Q1. Describe the role of the `return` statement in Python functions and provide examples"
   ]
  },
  {
   "cell_type": "code",
   "execution_count": 16,
   "id": "1b4f113d-9937-4c7b-b016-03383c111f08",
   "metadata": {},
   "outputs": [
    {
     "name": "stdin",
     "output_type": "stream",
     "text": [
      "Enter the number for finding its factorial:  12\n"
     ]
    },
    {
     "name": "stdout",
     "output_type": "stream",
     "text": [
      "The factorial of 12 is 479001600\n"
     ]
    }
   ],
   "source": [
    "\"\"\"\n",
    "In Python, the return statement is used within functions to specify the value\n",
    "that the function should produce as its output or result. When a function is \n",
    "called, it may perform some operations and calculations, and the return \n",
    "statement allows it to send back a value to the caller. This returned value\n",
    "can then be used in other parts of the program.\n",
    "\n",
    "\"\"\"\n",
    "\n",
    "# for example\n",
    "\n",
    "# Define a function called 'fact' that takes an integer 'n' as an argument.\n",
    "def fact(n):\n",
    "    # Initialize a variable 'fact' to 1. This will be used to store the factorial.\n",
    "    fact = 1\n",
    "    \n",
    "    # Use a 'for' loop to iterate through numbers from 1 to 'n' (inclusive).\n",
    "    for i in range(1, n + 1):\n",
    "        # Multiply 'fact' by the current value of 'i'.\n",
    "        fact *= i\n",
    "        \n",
    "    # Return the calculated factorial value.\n",
    "    return fact\n",
    "\n",
    "# Prompt the user to input a number for which they want to calculate the factorial.\n",
    "n = int(input(\"Enter the number for finding its factorial: \"))\n",
    "\n",
    "# Call the 'fact' function with the user-provided 'n' and store the result in 'res'.\n",
    "res = fact(n)\n",
    "\n",
    "# Print the result, showing the calculated factorial for the input number.\n",
    "print(f\"The factorial of {n} is {res}\")\n"
   ]
  },
  {
   "cell_type": "markdown",
   "id": "036ac0e1-228f-42e2-8a88-c20071b1d79f",
   "metadata": {},
   "source": [
    "Q2. Explain the concept of variable scope in Python, including local and global variables."
   ]
  },
  {
   "cell_type": "markdown",
   "id": "79675108-1f58-42c9-bb38-952186cefc02",
   "metadata": {},
   "source": [
    "Ans2:- in Python, variable scope refers to the region or part of the code where a variable can be accessed or modified. Understanding variable scope is essential because it determines how variables are treated within different parts of a program.\n",
    "\n",
    "1 Local variables\n",
    "\n",
    "-->Local variables are declared and defined within a specific block of code, typically within a function.\n",
    "\n",
    "-->They are only accessible and meaningful within that block or function where they are defined.\n",
    "\n",
    "-->Local variables have limited scope and are usually created when a function is called and destroyed when the function exits.\n",
    "\n",
    "-->Attempting to access a local variable from outside its defining block will result in a NameError.\n",
    "\n",
    "2 Global variable\n",
    "\n",
    "-->Global variables are declared outside of any function or block, making them accessible from any part of the code, including within functions.\n",
    "\n",
    "-->They have a global scope, meaning they are available throughout the entire program.\n",
    "\n",
    "-->Modifying a global variable within a function requires using the global keyword to indicate that you are working with the global variable and not creating a new local variable with the same name."
   ]
  },
  {
   "cell_type": "markdown",
   "id": "7155dda0-b7d8-4e41-abf9-cf601d783ea9",
   "metadata": {},
   "source": [
    "Q3. Write a Python program that demonstrates the use of global variables within functions.\n"
   ]
  },
  {
   "cell_type": "code",
   "execution_count": 17,
   "id": "90c90ccf-842b-432f-8ada-1c32aef8c2da",
   "metadata": {},
   "outputs": [
    {
     "name": "stdout",
     "output_type": "stream",
     "text": [
      "Initial global variable value: 10\n",
      "Modified global variable value: 20\n",
      "Global variable is 20\n"
     ]
    }
   ],
   "source": [
    "# Declare a global variable\n",
    "global_var = 10\n",
    "\n",
    "# Define a function that modifies the global variable\n",
    "def modify_global_var():\n",
    "    global global_var  # Declare that we are using the global variable\n",
    "    global_var = 20\n",
    "\n",
    "# Define a function that reads the global variable\n",
    "def read_global_var():\n",
    "    print(f\"Global variable is {global_var}\")\n",
    "\n",
    "# Print the initial value of the global variable\n",
    "print(\"Initial global variable value:\", global_var)\n",
    "\n",
    "# Call the function to modify the global variable\n",
    "modify_global_var()\n",
    "\n",
    "# Print the modified global variable\n",
    "print(\"Modified global variable value:\", global_var)\n",
    "\n",
    "# Call the function to read the global variable\n",
    "read_global_var()\n"
   ]
  },
  {
   "cell_type": "markdown",
   "id": "5e0e0330-be7d-4b79-8865-ac33b409ddf1",
   "metadata": {},
   "source": [
    "Q4. Create a Python function that calculates the factorial of a number and returns it.\n"
   ]
  },
  {
   "cell_type": "code",
   "execution_count": 19,
   "id": "bc0d7a30-d7c8-4de7-8b94-123d39e26e30",
   "metadata": {},
   "outputs": [
    {
     "name": "stdin",
     "output_type": "stream",
     "text": [
      "Enter the number to find its factorial:  6\n"
     ]
    },
    {
     "name": "stdout",
     "output_type": "stream",
     "text": [
      "The factorial of 6 is 720\n"
     ]
    }
   ],
   "source": [
    "# Define a function called `factorial` to calculate the factorial of a number 'n'\n",
    "def factorial(n):\n",
    "    fact = 1  # Initialize a variable `fact` to store the factorial and set it to 1 initially\n",
    "    for i in range(1, n + 1):  # Iterate through numbers from 1 to 'n'\n",
    "        fact *= i  # Multiply 'fact' by the current value of 'i'\n",
    "    return fact  # Return the calculated factorial\n",
    "\n",
    "# Get an integer input from the user and store it in the variable 'num'\n",
    "num = int(input(\"Enter the number to find its factorial: \"))\n",
    "\n",
    "# Call the 'factorial' function with the user-provided number 'num' and store the result in 'res'\n",
    "res = factorial(num)\n",
    "\n",
    "# Print the result, indicating the factorial of the input number\n",
    "print(f\"The factorial of {num} is {res}\")\n"
   ]
  },
  {
   "cell_type": "markdown",
   "id": "def4a3b3-b67c-44de-b8f8-878e286b0977",
   "metadata": {},
   "source": [
    "Q5. How can you access variables defined outside a function from within the function?\n",
    " "
   ]
  },
  {
   "cell_type": "code",
   "execution_count": 20,
   "id": "bcee1e54-b201-48d1-a71c-cdaf5bf2703c",
   "metadata": {},
   "outputs": [
    {
     "name": "stdout",
     "output_type": "stream",
     "text": [
      "Global variable inside the function: 200\n",
      "Global variable outside the function: 200\n"
     ]
    }
   ],
   "source": [
    "\"\"\"\n",
    "You can access variables defined outside a function from within the function \n",
    "by explicitly indicating that you want to use the global variable. In Python, \n",
    "you can use the global keyword to inform the interpreter that you are referring\n",
    "to a global variable, rather than creating a new local variable with the same \n",
    "name.\n",
    "\n",
    "\"\"\"\n",
    "\n",
    "# for example\n",
    "\n",
    "# Define a global variable 'var' and set its value to 200\n",
    "var = 200\n",
    "\n",
    "# Define a function 'access_global'\n",
    "def access_global():\n",
    "    # Use the 'global' keyword to indicate that we are accessing the global variable 'var'\n",
    "    global var\n",
    "    \n",
    "    # Print the value of the global variable 'var' from within the function\n",
    "    print(\"Global variable inside the function:\", var)\n",
    "\n",
    "# Call the 'access_global' function\n",
    "access_global()\n",
    "\n",
    "# Print the value of the global variable 'var' from outside the function\n",
    "print(\"Global variable outside the function:\", var)\n"
   ]
  },
  {
   "cell_type": "markdown",
   "id": "90098008-3368-4b48-ae40-2721e8119f6a",
   "metadata": {},
   "source": [
    "Lambda functions and high-order functions---"
   ]
  },
  {
   "cell_type": "markdown",
   "id": "3a86d568-1312-4cf4-a778-822ae14b2a4f",
   "metadata": {},
   "source": [
    "Q1. What are lambda functions in Python, and when are they typically used?\n"
   ]
  },
  {
   "cell_type": "markdown",
   "id": "326ab56f-d897-4f85-94c9-16247437f9c7",
   "metadata": {},
   "source": [
    "Ans1:- In Python, a lambda function, also known as an anonymous function, is a small, unnamed, and inline function defined using the lambda keyword. Lambda functions are typically used when you need a simple function for a short period of time, and you don't want to define a full-fledged function using the def keyword. They are particularly useful in situations where you need to pass a function as an argument to another function, such as in higher-order functions like map, filter, and sorted.\n",
    "\n",
    "lambda argument : expression\n",
    "\n",
    "where,\n",
    "\n",
    "-->lambda:- lambda keyword is used to define a lambda function\n",
    "\n",
    "--> argument:- The input arguments or parameteres that lambda function takes\n",
    "\n",
    "-->expression:- the expression or calculations that lambda function performs\n",
    "\n"
   ]
  },
  {
   "cell_type": "markdown",
   "id": "3359314d-d967-4472-8421-007a38628e3d",
   "metadata": {},
   "source": [
    "Q2. Write a Python program that uses lambda functions to sort a list of tuples based on the second element."
   ]
  },
  {
   "cell_type": "code",
   "execution_count": 10,
   "id": "4bd33fc0-95c9-4b30-bac8-f6a1a13712eb",
   "metadata": {},
   "outputs": [
    {
     "name": "stdout",
     "output_type": "stream",
     "text": [
      "('ayush', 19)\n",
      "('alice', 20)\n",
      "('jhon', 34)\n",
      "('charan', 43)\n"
     ]
    }
   ],
   "source": [
    "# Define a list of tuples called 'data' where each tuple contains a name and an age.\n",
    "data = [(\"alice\", 20), (\"jhon\", 34), (\"charan\", 43), (\"ayush\", 19)]\n",
    "\n",
    "# Use the 'sorted' function to sort the 'data' list based on the second element (age) of each tuple.\n",
    "# The 'key' argument is set to a lambda function 'lambda x: x[1]' which extracts the second element (age) for comparison during sorting.\n",
    "sorted_data = sorted(data, key=lambda x: x[1])\n",
    "\n",
    "# Iterate through the sorted list and print each item.\n",
    "for item in sorted_data:\n",
    "    print(item)\n"
   ]
  },
  {
   "cell_type": "markdown",
   "id": "24a01cac-b76e-469b-829f-85b2323f6e77",
   "metadata": {},
   "source": [
    "Q3. Explain the concept of higher-order functions in Python, and provide an example.\n"
   ]
  },
  {
   "cell_type": "code",
   "execution_count": 13,
   "id": "33cd097d-f434-4060-a55f-5e4c30858df2",
   "metadata": {},
   "outputs": [
    {
     "name": "stdout",
     "output_type": "stream",
     "text": [
      "The result of addition operation: 9\n",
      "The result of subtraction operation: -2\n",
      "The result of multiplication operation: 36\n"
     ]
    }
   ],
   "source": [
    "\"\"\"\n",
    "In Python, a higher-order function is a function that can take one or more \n",
    "functions as arguments and/or can return a function as its result. Essentially,\n",
    "higher-order functions treat functions as first-class citizens, just like any \n",
    "other data type (e.g., integers, strings). They enable you to abstract and \n",
    "manipulate code by passing behavior (functions) as arguments or returning them\n",
    "as results. This concept is a fundamental aspect of functional programming.\n",
    "\"\"\"\n",
    "\n",
    "# for example\n",
    "\n",
    "# Define a higher-order function 'apply_operation' that takes three arguments:\n",
    "# 1. 'op' - a binary operation function (e.g., addition, subtraction, multiplication)\n",
    "# 2. 'a' - the first operand\n",
    "# 3. 'b' - the second operand\n",
    "def apply_operation(op, a, b):\n",
    "    # Call the 'op' function with 'a' and 'b' to perform the specified operation.\n",
    "    result = op(a, b)\n",
    "    # Return the result of the operation.\n",
    "    return result\n",
    "\n",
    "# Define a binary operation function 'addition' to add two numbers.\n",
    "def addition(a, b):\n",
    "    return a + b\n",
    "\n",
    "# Define a binary operation function 'subtraction' to subtract the second number from the first.\n",
    "def subtraction(a, b):\n",
    "    return a - b\n",
    "\n",
    "# Define a binary operation function 'multiply' to multiply two numbers.\n",
    "def multiply(a, b):\n",
    "    return a * b\n",
    "\n",
    "# Use the 'apply_operation' function to apply different operations to pairs of numbers.\n",
    "res1 = apply_operation(addition, 4, 5)        # Calls 'addition(4, 5)' -> Result: 9\n",
    "res2 = apply_operation(subtraction, 3, 5)     # Calls 'subtraction(3, 5)' -> Result: -2\n",
    "res3 = apply_operation(multiply, 4, 9)        # Calls 'multiply(4, 9)' -> Result: 36\n",
    "\n",
    "# Print the results of the operations.\n",
    "print(\"The result of addition operation:\", res1)       # Output: The result of addition operation: 9\n",
    "print(\"The result of subtraction operation:\", res2)    # Output: The result of subtraction operation: -2\n",
    "print(\"The result of multiplication operation:\", res3) # Output: The result of multiplication operation: 36\n"
   ]
  },
  {
   "cell_type": "markdown",
   "id": "377f3c99-ea41-4ae6-9da0-24d7e9c9a1ac",
   "metadata": {},
   "source": [
    "Q4. Create a Python function that takes a list of numbers and a function as arguments, applying the function to each element in the list."
   ]
  },
  {
   "cell_type": "code",
   "execution_count": 17,
   "id": "8fb7b4e6-460b-4c01-ad40-7e2ea82ef016",
   "metadata": {},
   "outputs": [
    {
     "name": "stdout",
     "output_type": "stream",
     "text": [
      "Original List: [1, 2, 3, 4, 5, 6, 7, 8, 9]\n",
      "Modified List: [1, 4, 9, 16, 25, 36, 49, 64, 81]\n"
     ]
    }
   ],
   "source": [
    "# Define an original list 'lis' containing integers.\n",
    "lis = [1, 2, 3, 4, 5, 6, 7, 8, 9]\n",
    "\n",
    "# Use the 'map()' function to apply a lambda function to each element of the 'lis' list.\n",
    "# The lambda function calculates the square of each element (x**2).\n",
    "newlis = list(map(lambda x: x**2, lis))\n",
    "\n",
    "# Print the original list.\n",
    "print(\"Original List:\", lis)  # Output: Original List: [1, 2, 3, 4, 5, 6, 7, 8, 9]\n",
    "\n",
    "# Print the modified list (the squares of the elements).\n",
    "print(\"Modified List:\", newlis)  # Output: Modified List: [1, 4, 9, 16, 25, 36, 49, 64, 81]\n"
   ]
  },
  {
   "cell_type": "markdown",
   "id": "f33fbd0f-8d75-43f5-a966-5caa961b50c5",
   "metadata": {},
   "source": [
    "Built-in Functions:\n"
   ]
  },
  {
   "cell_type": "markdown",
   "id": "d7ab4bdb-0f6c-45db-a9d8-c8a0bc2cf117",
   "metadata": {},
   "source": [
    "Q1. Describe the role of built-in functions like `len()`, `max()`, and `min()` in Python."
   ]
  },
  {
   "cell_type": "markdown",
   "id": "8b415999-93f9-40d3-bcd0-a7ecbecd3833",
   "metadata": {},
   "source": [
    "1 len()= The len() function is used to determine the length or the number of items in an iterable or a container.\n",
    "\n",
    "2 max()= The max() function is used to find the maximum element from a collection of values.\n",
    "\n",
    "3 min()= The min() function is used to find the minimum element from a collection of values."
   ]
  },
  {
   "cell_type": "markdown",
   "id": "c943db6b-2d45-4a2b-87fc-2c1d715772e2",
   "metadata": {},
   "source": [
    "Q2. Write a Python program that uses the `map()` function to apply a function to each element of a list.\n"
   ]
  },
  {
   "cell_type": "code",
   "execution_count": 16,
   "id": "b8cf13bb-58ce-4b96-83c7-059abea85903",
   "metadata": {},
   "outputs": [
    {
     "name": "stdout",
     "output_type": "stream",
     "text": [
      "Original List: [1, 2, 3, 4, 5, 6, 7, 8, 9]\n",
      "Modified List: [1, 4, 9, 16, 25, 36, 49, 64, 81]\n"
     ]
    }
   ],
   "source": [
    "# Define an original list 'lis' containing integers.\n",
    "lis = [1, 2, 3, 4, 5, 6, 7, 8, 9]\n",
    "\n",
    "# Use the 'map()' function to apply a lambda function to each element of the 'lis' list.\n",
    "# The lambda function calculates the square of each element (x**2).\n",
    "newlis = list(map(lambda x: x**2, lis))\n",
    "\n",
    "# Print the original list.\n",
    "print(\"Original List:\", lis)  # Output: Original List: [1, 2, 3, 4, 5, 6, 7, 8, 9]\n",
    "\n",
    "# Print the modified list (the squares of the elements).\n",
    "print(\"Modified List:\", newlis)  # Output: Modified List: [1, 4, 9, 16, 25, 36, 49, 64, 81]\n"
   ]
  },
  {
   "cell_type": "markdown",
   "id": "3b5d5d14-48b9-4921-8273-6590f16ae826",
   "metadata": {},
   "source": [
    "Q3. How does the `filter()` function work in Python, and when would you use it?\n"
   ]
  },
  {
   "cell_type": "markdown",
   "id": "86ad5a2a-1554-47f3-994d-ece77a4d6fb1",
   "metadata": {},
   "source": [
    "\n",
    "Filter function filters a sequence of elements based on a given predicate(a\n",
    "function that returns a boolean value) and returns a new sequence containing \n",
    "only the elements that meet the predicate\n",
    "\n",
    "syntax:---\n",
    "\n",
    "filter(predicate,iterable)\n",
    "\n",
    "the iterable can be list ,tuple or any other iterable objects\n",
    "\n",
    "you should consider using the filter() function in Python when you need to \n",
    "filter elements from an iterable (such as a list, tuple, or other iterable\n",
    "objects) based on a specific condition or criterion.\n"
   ]
  },
  {
   "cell_type": "markdown",
   "id": "41087ce3-b148-442b-a0d9-b4703d6e8366",
   "metadata": {},
   "source": [
    "Q4. Create a Python program that uses the `reduce()` function to find the product of all elements in a list.\n"
   ]
  },
  {
   "cell_type": "code",
   "execution_count": 21,
   "id": "d961ae11-cb61-4b8d-989a-a1db369552c6",
   "metadata": {},
   "outputs": [
    {
     "name": "stdout",
     "output_type": "stream",
     "text": [
      "The product of the elements in the list is: 40320\n"
     ]
    }
   ],
   "source": [
    "# Import the 'reduce' function from the 'functools' module\n",
    "from functools import reduce\n",
    "\n",
    "# Define a list of numbers\n",
    "lis = [1, 2, 3, 4, 5, 6, 7, 8]\n",
    "\n",
    "# Use the 'reduce()' function to compute the product of all elements in the list\n",
    "# The lambda function 'lambda x, y: x * y' defines how two elements should be combined (multiplied) at each step.\n",
    "final = reduce(lambda x, y: x * y, lis)\n",
    "\n",
    "# Print the result, which is the product of all elements in the list\n",
    "print(\"The product of the elements in the list is:\", final)\n"
   ]
  },
  {
   "cell_type": "markdown",
   "id": "06ca883d-d2d8-49e7-82d0-11afc897096a",
   "metadata": {},
   "source": [
    "Function Documentation and Best Practices:"
   ]
  },
  {
   "cell_type": "markdown",
   "id": "8885ced5-9b72-4bc9-83ce-e51ee59bd41d",
   "metadata": {},
   "source": [
    "Q1. Explain the purpose of docstrings in Python functions and how to write them."
   ]
  },
  {
   "cell_type": "markdown",
   "id": "116fc12b-4806-4fb0-99b8-cedbf63a36c2",
   "metadata": {},
   "source": [
    "Ans1:- In Python, a docstring is a string literal that appears as the first statement in a module, function, class, or method definition. Docstrings serve the purpose of documenting the purpose, usage, and behavior of your code. They are used to provide information about the code to other developers (including your future self) and can be accessed programmatically for documentation generation tools\n",
    "\n",
    "--> purpose\n",
    "\n",
    "1 Documentation\n",
    "2 Readability\n",
    "3 interactive help\n",
    "\n",
    "Docstrings are typically enclosed in triple-quotes (either single or double), and they are placed immediately after the definition of a function, class, or module\n",
    "\n",
    "def sum(a,b):\n",
    "\"\"\" adding two numbers and returning the result \"\"\"\n",
    "return a+b\n"
   ]
  },
  {
   "cell_type": "markdown",
   "id": "69c44853-fb4c-4b4c-973f-395b53c3fdae",
   "metadata": {},
   "source": [
    "Q2. Describe some best practices for naming functions and variables in Python, including naming conventions and guidelines.\n"
   ]
  },
  {
   "cell_type": "markdown",
   "id": "cd6ffe2a-0259-4e10-bd3f-65482fbcac2f",
   "metadata": {},
   "source": [
    "Ans2:- \n",
    "-->Use Descriptive Names: Choose names that clearly convey the purpose or meaning of the variable or function.\n",
    "\n",
    "-->Follow Naming Conventions:\n",
    ". Variable and function names should be lowercase with underscores (snake_case).\n",
    ". Class names should be in CamelCase (CapitalizedWords).\n",
    ". Use Meaningful Variable Names: Use names like counter instead of single        letters like c.\n",
    "\n",
    "-->Be Consistent: Maintain a consistent naming style throughout your codebase.\n",
    "\n",
    "-->Avoid Reserved Words: Don't use Python's reserved words (e.g., class, def, if) as variable or function names.\n",
    "\n",
    "-->Use Verb-Noun for Functions: Function names should typically start with a verb followed by a noun (e.g., calculate_area).\n",
    "\n",
    "-->Use Plural for Collections: Use plural names for lists and collections (e.g., students for a list of student objects).\n",
    "\n",
    "-->Constants in Uppercase: Constants should be in ALL_CAPS with underscores (e.g., MAX_VALUE).\n",
    "\n",
    "-->Avoid Ambiguous Abbreviations: Avoid abbreviations that might be unclear to others (e.g., use temperature instead of temp).\n",
    "\n",
    "-->Use PEP 8 Guidelines: Follow the PEP 8 style guide for Python code, which provides detailed naming conventions and style recommendations.\n",
    "\n",
    "-->Avoid Single-Character Names: Except for common iterators (e.g., i, j in loops), avoid single-character variable names.\n",
    "\n",
    "-->Document Unusual Names: If you use non-standard or unusual names, document their meaning in comments or docstrings.\n",
    "\n",
    "-->Use Verb-Noun for Methods: Method names in classes should follow the same verb-noun convention as functions.\n",
    "\n",
    "-->Avoid Confusing Similar Names: Avoid using names that are similar to built-in functions or modules (e.g., don't name a variable math).\n",
    "\n",
    "-->Use Clear and Consistent Prefixes/Suffixes: Use prefixes or suffixes to indicate the type of variable (e.g., user_list for a list of users).\n",
    "\n",
    "-->Use Capitalized Constants: Use capital letters for constant variables that should not be modified."
   ]
  },
  {
   "cell_type": "code",
   "execution_count": null,
   "id": "6e60ec51-8084-4d34-8cba-a266affe7b09",
   "metadata": {},
   "outputs": [],
   "source": []
  },
  {
   "cell_type": "code",
   "execution_count": null,
   "id": "57a741dc-5f76-4ed0-9b9f-757b371eb4e5",
   "metadata": {},
   "outputs": [],
   "source": []
  },
  {
   "cell_type": "code",
   "execution_count": null,
   "id": "e92f33dc-3a2a-4125-a55d-cdf85af23ea9",
   "metadata": {},
   "outputs": [],
   "source": []
  },
  {
   "cell_type": "code",
   "execution_count": null,
   "id": "798fd210-7fe3-4588-bff4-61ea449813b7",
   "metadata": {},
   "outputs": [],
   "source": []
  },
  {
   "cell_type": "code",
   "execution_count": null,
   "id": "d16463c3-ab0e-4836-a44f-7c4c4a9f0249",
   "metadata": {},
   "outputs": [],
   "source": []
  },
  {
   "cell_type": "code",
   "execution_count": null,
   "id": "37da4991-b8b9-4e32-b5f4-3008f1c96df9",
   "metadata": {},
   "outputs": [],
   "source": []
  },
  {
   "cell_type": "code",
   "execution_count": null,
   "id": "d4b1b5be-abd1-45ab-8080-3a5f3ae85036",
   "metadata": {},
   "outputs": [],
   "source": []
  },
  {
   "cell_type": "code",
   "execution_count": null,
   "id": "efd55dcf-a2f5-4c35-a2b7-858093179a70",
   "metadata": {},
   "outputs": [],
   "source": []
  },
  {
   "cell_type": "code",
   "execution_count": null,
   "id": "b19d65e2-ef44-42d8-889c-407eb47e64cf",
   "metadata": {},
   "outputs": [],
   "source": []
  },
  {
   "cell_type": "code",
   "execution_count": null,
   "id": "7895a0b0-6369-4eb5-9cf8-2bfbfdd99486",
   "metadata": {},
   "outputs": [],
   "source": []
  },
  {
   "cell_type": "code",
   "execution_count": null,
   "id": "5315055d-e9e7-4612-8954-49ddfe04775c",
   "metadata": {},
   "outputs": [],
   "source": []
  },
  {
   "cell_type": "code",
   "execution_count": null,
   "id": "03a32acd-81d3-4313-b02a-0062ff5967a8",
   "metadata": {},
   "outputs": [],
   "source": []
  },
  {
   "cell_type": "code",
   "execution_count": null,
   "id": "494f8821-dc80-4de0-addf-5ae8d015a5b5",
   "metadata": {},
   "outputs": [],
   "source": []
  },
  {
   "cell_type": "code",
   "execution_count": null,
   "id": "4ea501cb-f9ca-4aa6-8036-085f1e46e073",
   "metadata": {},
   "outputs": [],
   "source": []
  },
  {
   "cell_type": "code",
   "execution_count": null,
   "id": "af913955-1a99-4bbc-890f-6a6e7972c0fb",
   "metadata": {},
   "outputs": [],
   "source": []
  },
  {
   "cell_type": "code",
   "execution_count": null,
   "id": "57fed924-4325-446d-98da-0f92658f5eec",
   "metadata": {},
   "outputs": [],
   "source": []
  },
  {
   "cell_type": "code",
   "execution_count": null,
   "id": "61633bce-0034-4137-a5b0-8a6b66dc117a",
   "metadata": {},
   "outputs": [],
   "source": []
  },
  {
   "cell_type": "code",
   "execution_count": null,
   "id": "2c3b2f78-87ad-4814-866c-8b1682dee01b",
   "metadata": {},
   "outputs": [],
   "source": []
  },
  {
   "cell_type": "code",
   "execution_count": null,
   "id": "6841143e-d432-41d3-9d83-385eefd7710e",
   "metadata": {},
   "outputs": [],
   "source": []
  },
  {
   "cell_type": "code",
   "execution_count": null,
   "id": "514a4a74-639f-4b64-90c3-f5e762b2b808",
   "metadata": {},
   "outputs": [],
   "source": []
  },
  {
   "cell_type": "code",
   "execution_count": null,
   "id": "553456b9-d155-44b0-a2fc-87776ecc76d6",
   "metadata": {},
   "outputs": [],
   "source": []
  },
  {
   "cell_type": "code",
   "execution_count": null,
   "id": "315eaf72-97e0-4a40-96ee-32f256ae4a35",
   "metadata": {},
   "outputs": [],
   "source": []
  },
  {
   "cell_type": "code",
   "execution_count": null,
   "id": "b8dd5114-682a-4a3e-997c-ee34dffdd0d4",
   "metadata": {},
   "outputs": [],
   "source": []
  },
  {
   "cell_type": "code",
   "execution_count": null,
   "id": "cc71d3a4-1e55-4e64-9cce-c7e4fbaa9aa9",
   "metadata": {},
   "outputs": [],
   "source": []
  },
  {
   "cell_type": "code",
   "execution_count": null,
   "id": "e7b37acb-cdc8-4952-afed-8096af6a480c",
   "metadata": {},
   "outputs": [],
   "source": []
  },
  {
   "cell_type": "code",
   "execution_count": null,
   "id": "434c813c-1c8b-4078-9e34-47ecd2f27201",
   "metadata": {},
   "outputs": [],
   "source": []
  },
  {
   "cell_type": "code",
   "execution_count": null,
   "id": "31df8f38-f6a1-4451-b564-bf49bb095f42",
   "metadata": {},
   "outputs": [],
   "source": []
  },
  {
   "cell_type": "code",
   "execution_count": null,
   "id": "b4db2ebb-8ded-4400-9e8f-d297a51738aa",
   "metadata": {},
   "outputs": [],
   "source": []
  },
  {
   "cell_type": "code",
   "execution_count": null,
   "id": "4d0c8b6f-5105-48d2-b469-841c50934136",
   "metadata": {},
   "outputs": [],
   "source": []
  }
 ],
 "metadata": {
  "kernelspec": {
   "display_name": "Python 3 (ipykernel)",
   "language": "python",
   "name": "python3"
  },
  "language_info": {
   "codemirror_mode": {
    "name": "ipython",
    "version": 3
   },
   "file_extension": ".py",
   "mimetype": "text/x-python",
   "name": "python",
   "nbconvert_exporter": "python",
   "pygments_lexer": "ipython3",
   "version": "3.10.8"
  }
 },
 "nbformat": 4,
 "nbformat_minor": 5
}
