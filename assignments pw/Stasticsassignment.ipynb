{
 "cells": [
  {
   "cell_type": "markdown",
   "metadata": {},
   "source": [
    "1. **Generate a list of 100 integers containing values between 90 to 130 and store it in the variable `int_list`. After generating the list, find the following:**\n"
   ]
  },
  {
   "cell_type": "code",
   "execution_count": 4,
   "metadata": {},
   "outputs": [
    {
     "data": {
      "text/plain": [
       "array([127, 124,  90, 109,  92, 113,  92, 112, 108, 109,  90, 126, 118,\n",
       "        95,  90, 121, 100,  91, 105,  97, 127, 128, 115, 126, 102, 103,\n",
       "       119, 114, 126, 129,  96, 126, 101, 123,  98, 107, 100,  96, 113,\n",
       "        99, 115,  93, 106,  98,  98,  96, 103, 110,  90, 111, 122, 112,\n",
       "       107,  97, 118, 125, 127, 123, 123, 128,  93, 109, 123,  94, 128,\n",
       "       123,  96, 104, 110,  97, 110, 101, 124, 107, 113, 101,  95, 108,\n",
       "       108, 101, 110, 128, 106, 109, 122,  90, 114, 110, 113, 112, 124,\n",
       "       103,  95, 118, 102, 116, 100,  97, 128, 121])"
      ]
     },
     "execution_count": 4,
     "metadata": {},
     "output_type": "execute_result"
    }
   ],
   "source": [
    "import numpy as np \n",
    "\n",
    "int_list = np.random.randint(90,130,100)\n",
    "int_list"
   ]
  },
  {
   "cell_type": "markdown",
   "metadata": {},
   "source": [
    "   - (i) Write a Python function to calculate the mean of a given list of numbers.\n"
   ]
  },
  {
   "cell_type": "code",
   "execution_count": 5,
   "metadata": {},
   "outputs": [
    {
     "data": {
      "text/plain": [
       "109.22"
      ]
     },
     "execution_count": 5,
     "metadata": {},
     "output_type": "execute_result"
    }
   ],
   "source": [
    "def calculate_mean(l):\n",
    "    return sum(l)/len(l)\n",
    "\n",
    "calculate_mean(int_list)"
   ]
  },
  {
   "cell_type": "markdown",
   "metadata": {},
   "source": [
    "   - (ii) Create a function to find the median of a list of numbers.\n"
   ]
  },
  {
   "cell_type": "code",
   "execution_count": 6,
   "metadata": {},
   "outputs": [
    {
     "data": {
      "text/plain": [
       "109.0"
      ]
     },
     "execution_count": 6,
     "metadata": {},
     "output_type": "execute_result"
    }
   ],
   "source": [
    "def calculate_median(l):\n",
    "    return np.median(l)\n",
    "\n",
    "calculate_median(int_list)"
   ]
  },
  {
   "cell_type": "markdown",
   "metadata": {},
   "source": [
    "   - (iii) Develop a program to compute the mode of a list of integers.\n"
   ]
  },
  {
   "cell_type": "code",
   "execution_count": 7,
   "metadata": {},
   "outputs": [
    {
     "data": {
      "text/plain": [
       "90"
      ]
     },
     "execution_count": 7,
     "metadata": {},
     "output_type": "execute_result"
    }
   ],
   "source": [
    "import statistics as st \n",
    "\n",
    "st.mode(int_list)"
   ]
  },
  {
   "cell_type": "markdown",
   "metadata": {},
   "source": [
    "   - (iv) Implement a function to calculate the weighted mean of a list of values and their corresponding weights.\n"
   ]
  },
  {
   "cell_type": "code",
   "execution_count": 14,
   "metadata": {},
   "outputs": [
    {
     "name": "stdout",
     "output_type": "stream",
     "text": [
      "Weighted Mean: 109.60316831683168\n"
     ]
    }
   ],
   "source": [
    "\n",
    "\n",
    "def weighted_mean(values, weights):\n",
    " \n",
    "    values = np.array(values)\n",
    "    weights = np.array(weights)\n",
    "    \n",
    "    if np.sum(weights) == 0:\n",
    "        print(\"Sum of weights must be non-zero.\")\n",
    "    \n",
    "    weighted_mean_value = np.sum(values * weights) / np.sum(weights)\n",
    "    \n",
    "    return weighted_mean_value\n",
    "\n",
    "\n",
    "weights = [range(1,101)]\n",
    "\n",
    "mean_value = weighted_mean(int_list, weights)\n",
    "print(\"Weighted Mean:\", mean_value)\n"
   ]
  },
  {
   "cell_type": "markdown",
   "metadata": {},
   "source": [
    "   - (v) Write a Python function to find the geometric mean of a list of positive numbers.\n"
   ]
  },
  {
   "cell_type": "code",
   "execution_count": 16,
   "metadata": {},
   "outputs": [
    {
     "name": "stdout",
     "output_type": "stream",
     "text": [
      "Geometric Mean: 0.0\n"
     ]
    }
   ],
   "source": [
    "\n",
    "\n",
    "def geometric_mean(values):\n",
    "    \n",
    "    values = np.array(values)\n",
    "    \n",
    "    if np.any(values <= 0):\n",
    "        print(\"All values must be positive to calculate geometric mean.\")\n",
    "    \n",
    "    \n",
    "    product = np.prod(values)\n",
    "    n = len(values)\n",
    "    geo_mean = product ** (1 / n)\n",
    "    \n",
    "    return geo_mean\n",
    "\n",
    "\n",
    "\n",
    "mean_value = geometric_mean(int_list)\n",
    "print(\"Geometric Mean:\", mean_value)\n"
   ]
  },
  {
   "cell_type": "markdown",
   "metadata": {},
   "source": [
    "   - (vi) Create a program to calculate the harmonic mean of a list of values.\n"
   ]
  },
  {
   "cell_type": "code",
   "execution_count": 18,
   "metadata": {},
   "outputs": [
    {
     "name": "stdout",
     "output_type": "stream",
     "text": [
      "Harmonic Mean: 107.93772044145769\n"
     ]
    }
   ],
   "source": [
    "def harmonic_mean(values):\n",
    "    values = np.array(values)\n",
    "    \n",
    "    if np.any(values <= 0):\n",
    "        raise print(\"All values must be positive to calculate harmonic mean.\")\n",
    "    \n",
    "    n = len(values)\n",
    "    reciprocal_sum = np.sum(1 / values)\n",
    "    harm_mean = n / reciprocal_sum\n",
    "    \n",
    "    return harm_mean\n",
    "\n",
    "\n",
    "mean_value = harmonic_mean(int_list)\n",
    "print(\"Harmonic Mean:\", mean_value)\n"
   ]
  },
  {
   "cell_type": "markdown",
   "metadata": {},
   "source": [
    "   - (vii) Build a function to determine the midrange of a list of numbers (average of the minimum and maximum).\n"
   ]
  },
  {
   "cell_type": "code",
   "execution_count": 20,
   "metadata": {},
   "outputs": [
    {
     "name": "stdout",
     "output_type": "stream",
     "text": [
      "Midrange: 109.5\n"
     ]
    }
   ],
   "source": [
    "def midrange(values):\n",
    "\n",
    "    values = np.array(values)\n",
    "    \n",
    "    if len(values) == 0:\n",
    "        print(\"The list is empty. Cannot calculate midrange.\")\n",
    "    \n",
    "    min_value = np.min(values)\n",
    "    max_value = np.max(values)\n",
    "    midrange_value = (min_value + max_value) / 2\n",
    "    \n",
    "    return midrange_value\n",
    "\n",
    "\n",
    "midrange_value = midrange(int_list)\n",
    "print(\"Midrange:\", midrange_value)\n"
   ]
  },
  {
   "cell_type": "markdown",
   "metadata": {},
   "source": [
    "   - (viii) Implement a Python program to find the trimmed mean of a list, excluding a certain percentage of outliers.\n"
   ]
  },
  {
   "cell_type": "code",
   "execution_count": 22,
   "metadata": {},
   "outputs": [
    {
     "name": "stdout",
     "output_type": "stream",
     "text": [
      "Trimmed Mean: 108.9\n"
     ]
    }
   ],
   "source": [
    "import numpy as np\n",
    "\n",
    "def trimmed_mean(values, trim_percent):\n",
    "   \n",
    "    if not (0 <= trim_percent < 50):\n",
    "        print(\"Trim percentage must be between 0 and 50.\")\n",
    "    \n",
    "    values = np.array(values)\n",
    "    \n",
    "    if len(values) == 0:\n",
    "        raise ValueError(\"The list is empty. Cannot calculate trimmed mean.\")\n",
    "    sorted_values = np.sort(values)\n",
    "    \n",
    "    num_values = len(sorted_values)\n",
    "    trim_count = int(np.floor(trim_percent / 100 * num_values))\n",
    "    \n",
    "    trimmed_values = sorted_values[trim_count:num_values - trim_count]\n",
    "    \n",
    "    trimmed_mean_value = np.mean(trimmed_values)\n",
    "    \n",
    "    return trimmed_mean_value\n",
    "\n",
    "values = [1, 2, 3, 4, 5, 100, 200]\n",
    "trim_percent = 20  \n",
    "\n",
    "mean_value = trimmed_mean(int_list, trim_percent)\n",
    "print(\"Trimmed Mean:\", mean_value)\n"
   ]
  },
  {
   "cell_type": "markdown",
   "metadata": {},
   "source": [
    "\n",
    "2. **Generate a list of 500 integers containing values between 200 to 300 and store it in the variable `int_list2`. After generating the list, find the following:**\n"
   ]
  },
  {
   "cell_type": "code",
   "execution_count": 29,
   "metadata": {},
   "outputs": [],
   "source": [
    "int_list2 = np.random.randint(200,300,500)\n",
    "# int_list2"
   ]
  },
  {
   "cell_type": "markdown",
   "metadata": {},
   "source": [
    "   - (i) Compare the given list of visualizations for the given data:\n",
    "     1. Frequency & Gaussian distribution\n",
    "     2. Frequency smoothened KDE plot\n",
    "     3. Gaussian distribution & smoothened KDE plot\n"
   ]
  },
  {
   "cell_type": "markdown",
   "metadata": {},
   "source": [
    "1. Frequency & Gaussian distribution"
   ]
  },
  {
   "cell_type": "code",
   "execution_count": 30,
   "metadata": {},
   "outputs": [
    {
     "data": {
      "image/png": "[encoded data removed]",
      "text/plain": [
       "<Figure size 1400x600 with 1 Axes>"
      ]
     },
     "metadata": {},
     "output_type": "display_data"
    }
   ],
   "source": [
    "import numpy as np\n",
    "import matplotlib.pyplot as plt\n",
    "import seaborn as sns\n",
    "from scipy.stats import norm\n",
    "\n",
    "\n",
    "plt.figure(figsize=(14, 6))\n",
    "\n",
    "plt.subplot(1, 2, 1)\n",
    "sns.histplot(int_list2, bins=30, kde=False, color='blue', edgecolor='black')\n",
    "plt.title('Frequency Distribution')\n",
    "\n",
    "mean, std = np.mean(int_list2), np.std(int_list2)\n",
    "xmin, xmax = plt.xlim()\n",
    "x = np.linspace(xmin, xmax, 100)\n",
    "p = norm.pdf(x, mean, std)\n",
    "plt.plot(x, p * len(int_list2) * (xmax - xmin) / 30, 'k', linewidth=2)\n",
    "plt.title('Gaussian Distribution')\n",
    "\n",
    "plt.tight_layout()\n",
    "plt.show()\n"
   ]
  },
  {
   "cell_type": "markdown",
   "metadata": {},
   "source": [
    "2. Frequency smoothened KDE plot"
   ]
  },
  {
   "cell_type": "code",
   "execution_count": 31,
   "metadata": {},
   "outputs": [
    {
     "data": {
      "image/png": "[encoded data removed]",
      "text/plain": [
       "<Figure size 700x600 with 1 Axes>"
      ]
     },
     "metadata": {},
     "output_type": "display_data"
    }
   ],
   "source": [
    "\n",
    "plt.figure(figsize=(7, 6))\n",
    "sns.kdeplot(int_list2, bw_adjust=0.5, fill=True, color='purple')\n",
    "plt.title('Smoothened KDE Plot')\n",
    "plt.xlabel('Value')\n",
    "plt.ylabel('Density')\n",
    "plt.show()\n"
   ]
  },
  {
   "cell_type": "markdown",
   "metadata": {},
   "source": [
    "3. Gaussian distribution & smoothened KDE plot"
   ]
  },
  {
   "cell_type": "code",
   "execution_count": 32,
   "metadata": {},
   "outputs": [
    {
     "data": {
      "image/png": "[encoded data removed]",
      "text/plain": [
       "<Figure size 1000x600 with 1 Axes>"
      ]
     },
     "metadata": {},
     "output_type": "display_data"
    }
   ],
   "source": [
    "plt.figure(figsize=(10, 6))\n",
    "sns.kdeplot(int_list2, bw_adjust=0.5, fill=True, color='purple', label='KDE Plot')\n",
    "\n",
    "mean, std = np.mean(int_list2), np.std(int_list2)\n",
    "xmin, xmax = plt.xlim()\n",
    "x = np.linspace(xmin, xmax, 100)\n",
    "p = norm.pdf(x, mean, std)\n",
    "plt.plot(x, p * len(int_list2) * (xmax - xmin) / 30, 'k', linewidth=2, label='Gaussian Distribution')\n",
    "\n",
    "plt.title('Gaussian Distribution & Smoothened KDE Plot')\n",
    "plt.xlabel('Value')\n",
    "plt.ylabel('Density')\n",
    "plt.legend()\n",
    "plt.show()\n"
   ]
  },
  {
   "cell_type": "markdown",
   "metadata": {},
   "source": [
    "   - (ii) Write a Python function to calculate the range of a given list of numbers.\n"
   ]
  },
  {
   "cell_type": "code",
   "execution_count": 33,
   "metadata": {},
   "outputs": [
    {
     "name": "stdout",
     "output_type": "stream",
     "text": [
      "Range: 20\n"
     ]
    }
   ],
   "source": [
    "def calculate_range(numbers):\n",
    "    \n",
    "    \n",
    "    if len(numbers) == 0:\n",
    "        print(\"The list is empty. Cannot calculate range.\")\n",
    "    \n",
    "    import numpy as np\n",
    "    numbers = np.array(numbers)\n",
    "    \n",
    "    min_value = np.min(numbers)\n",
    "    max_value = np.max(numbers)\n",
    "    range_value = max_value - min_value\n",
    "    \n",
    "    return range_value\n",
    "\n",
    "numbers = [10, 15, 20, 25, 30]\n",
    "range_value = calculate_range(numbers)\n",
    "print(\"Range:\", range_value)\n"
   ]
  },
  {
   "cell_type": "code",
   "execution_count": null,
   "metadata": {},
   "outputs": [],
   "source": []
  },
  {
   "cell_type": "markdown",
   "metadata": {},
   "source": [
    "   - (iii) Create a program to find the variance and standard deviation of a list of numbers."
   ]
  },
  {
   "cell_type": "code",
   "execution_count": 37,
   "metadata": {},
   "outputs": [
    {
     "data": {
      "text/plain": [
       "(880.880684, 29.67963416216581)"
      ]
     },
     "execution_count": 37,
     "metadata": {},
     "output_type": "execute_result"
    }
   ],
   "source": [
    " \n",
    "variance = np.var(int_list2)\n",
    "\n",
    "std_dev = np.sqrt(variance)\n",
    "\n",
    "variance, std\n"
   ]
  },
  {
   "cell_type": "markdown",
   "metadata": {},
   "source": [
    "\n",
    "   - (iv) Implement a function to compute the interquartile range (IQR) of a list of values.\n"
   ]
  },
  {
   "cell_type": "code",
   "execution_count": 42,
   "metadata": {},
   "outputs": [
    {
     "name": "stdout",
     "output_type": "stream",
     "text": [
      "Interquartile Range (IQR): 54.25\n"
     ]
    }
   ],
   "source": [
    "import numpy as np\n",
    "\n",
    "def interquartile_range(values):\n",
    "    \n",
    "    values = np.array(values)\n",
    "    \n",
    "    if len(values) == 0:\n",
    "        print(\"The list is empty. Cannot calculate IQR.\")\n",
    "    \n",
    "    sorted_values = np.sort(values)\n",
    "    \n",
    "    Q1 = np.percentile(sorted_values, 25)\n",
    "    Q3 = np.percentile(sorted_values, 75)\n",
    "    \n",
    "    IQR = Q3 - Q1\n",
    "    \n",
    "    return IQR\n",
    "\n",
    "iqr_value = interquartile_range(int_list2)\n",
    "print(\"Interquartile Range (IQR):\", iqr_value)\n"
   ]
  },
  {
   "cell_type": "markdown",
   "metadata": {},
   "source": [
    "   - (v) Build a program to calculate the coefficient of variation for a dataset.\n"
   ]
  },
  {
   "cell_type": "code",
   "execution_count": 41,
   "metadata": {},
   "outputs": [
    {
     "name": "stdout",
     "output_type": "stream",
     "text": [
      "Coefficient of Variation (CV): 11.80790206726999\n"
     ]
    }
   ],
   "source": [
    "import numpy as np\n",
    "\n",
    "def coefficient_of_variation(values):\n",
    "    \n",
    "    values = np.array(values)\n",
    "    \n",
    "    if len(values) == 0:\n",
    "        print(\"The list is empty. Cannot calculate CV.\")\n",
    "    \n",
    "    mean = np.mean(values)\n",
    "    std_dev = np.std(values, ddof=0) \n",
    "    \n",
    "    if mean == 0:\n",
    "        print(\"Mean is zero.\")\n",
    "    \n",
    "    cv = (std_dev / mean) * 100\n",
    "    \n",
    "    return cv\n",
    "\n",
    "cv_value = coefficient_of_variation(int_list2)\n",
    "print(\"Coefficient of Variation (CV):\", cv_value)\n"
   ]
  },
  {
   "cell_type": "markdown",
   "metadata": {},
   "source": [
    "   - (vi) Write a Python function to find the mean absolute deviation (MAD) of a list of numbers.\n"
   ]
  },
  {
   "cell_type": "code",
   "execution_count": 40,
   "metadata": {},
   "outputs": [
    {
     "name": "stdout",
     "output_type": "stream",
     "text": [
      "Mean Absolute Deviation (MAD): 26.458672\n"
     ]
    }
   ],
   "source": [
    "import numpy as np\n",
    "\n",
    "def mean_absolute_deviation(values):\n",
    "    values = np.array(values)\n",
    "    \n",
    "    if len(values) == 0:\n",
    "        print(\"The list is empty. Cannot calculate MAD.\")\n",
    "    \n",
    "    mean = np.mean(values)\n",
    "    \n",
    "    abs_deviations = np.abs(values - mean)\n",
    "    \n",
    "    mad = np.mean(abs_deviations)\n",
    "    \n",
    "    return mad\n",
    "\n",
    "mad_value = mean_absolute_deviation(int_list2)\n",
    "print(\"Mean Absolute Deviation (MAD):\", mad_value)\n"
   ]
  },
  {
   "cell_type": "markdown",
   "metadata": {},
   "source": [
    "   - (vii) Create a program to calculate the quartile deviation of a list of values.\n"
   ]
  },
  {
   "cell_type": "code",
   "execution_count": 43,
   "metadata": {},
   "outputs": [
    {
     "name": "stdout",
     "output_type": "stream",
     "text": [
      "Quartile Deviation (QD): 27.125\n"
     ]
    }
   ],
   "source": [
    "import numpy as np\n",
    "\n",
    "def quartile_deviation(values):\n",
    "\n",
    "    values = np.array(values)\n",
    "    \n",
    "    if len(values) == 0:\n",
    "        print(\"The list is empty. Cannot calculate Quartile Deviation.\")\n",
    "    \n",
    "    Q1 = np.percentile(values, 25)\n",
    "    Q3 = np.percentile(values, 75)\n",
    "    \n",
    "    QD = (Q3 - Q1) / 2\n",
    "    \n",
    "    return QD\n",
    "\n",
    "qd_value = quartile_deviation(int_list2)\n",
    "print(\"Quartile Deviation (QD):\", qd_value)\n"
   ]
  },
  {
   "cell_type": "markdown",
   "metadata": {},
   "source": [
    "   - (viii) Implement a function to find the range-based coefficient of dispersion for a dataset.\n"
   ]
  },
  {
   "cell_type": "code",
   "execution_count": 44,
   "metadata": {},
   "outputs": [
    {
     "name": "stdout",
     "output_type": "stream",
     "text": [
      "Range-Based Coefficient of Dispersion: 0.3938668173174089\n"
     ]
    }
   ],
   "source": [
    "import numpy as np\n",
    "\n",
    "def range_based_coefficient_of_dispersion(values):\n",
    "    \n",
    "    \n",
    "    values = np.array(values)\n",
    "    \n",
    "    if len(values) == 0:\n",
    "        print(\"The list is empty\")\n",
    "    \n",
    "    range_value = np.max(values) - np.min(values)\n",
    "    \n",
    "    mean = np.mean(values)\n",
    "    \n",
    "    if mean == 0:\n",
    "        print(\"Mean is zero\")\n",
    "    \n",
    "    coefficient_of_dispersion = range_value / mean\n",
    "    \n",
    "    return coefficient_of_dispersion\n",
    "\n",
    "coefficient_of_dispersion = range_based_coefficient_of_dispersion(int_list2)\n",
    "print(\"Range-Based Coefficient of Dispersion:\", coefficient_of_dispersion)\n"
   ]
  },
  {
   "cell_type": "markdown",
   "metadata": {},
   "source": [
    "\n",
    "\n",
    "3. **Write a Python class representing a discrete random variable with methods to calculate its expected value and variance.**\n"
   ]
  },
  {
   "cell_type": "code",
   "execution_count": 45,
   "metadata": {},
   "outputs": [
    {
     "name": "stdout",
     "output_type": "stream",
     "text": [
      "Expected Value: 3.0\n",
      "Variance: 1.0\n"
     ]
    }
   ],
   "source": [
    "class DiscreteRandomVariable:\n",
    "    def __init__(self, values, probabilities):\n",
    "        import numpy as np \n",
    "        \n",
    "        self.values = np.array(values)\n",
    "        self.probabilities = np.array(probabilities)\n",
    "        \n",
    "        \n",
    "        if len(self.values) != len(self.probabilities):\n",
    "            print(\"Values and probabilities must have the same length.\")\n",
    "        \n",
    "        \n",
    "        if not np.isclose(np.sum(self.probabilities), 1):\n",
    "            print(\"Probabilities must sum up to 1.\")\n",
    "        \n",
    "    def expected_value(self):\n",
    "        return np.sum(self.values * self.probabilities)\n",
    "    \n",
    "    def variance(self):\n",
    "       \n",
    "        mean = self.expected_value()\n",
    "        squared_diffs = (self.values - mean) ** 2\n",
    "        return np.sum(squared_diffs * self.probabilities)\n",
    "\n",
    "\n",
    "values = [1,2,3,4]\n",
    "probabilities = [0.1, 0.2, 0.3, 0.4]\n",
    "\n",
    "random_variable = DiscreteRandomVariable(values, probabilities)\n",
    "\n",
    "\n",
    "expected_val = random_variable.expected_value()\n",
    "variance = random_variable.variance()\n",
    "\n",
    "print(\"Expected Value:\", expected_val)\n",
    "print(\"Variance:\", variance)\n"
   ]
  },
  {
   "cell_type": "markdown",
   "metadata": {},
   "source": [
    "   - Implement a program to simulate the rolling of a fair six-sided die and calculate the expected value and variance of the outcomes.\n"
   ]
  },
  {
   "cell_type": "code",
   "execution_count": 46,
   "metadata": {},
   "outputs": [
    {
     "name": "stdout",
     "output_type": "stream",
     "text": [
      "First 10 simulated rolls: [6 5 2 5 3 5 5 3 2 1]...\n",
      "Expected Value: 3.5\n",
      "Variance: 2.9166666666666665\n"
     ]
    }
   ],
   "source": [
    "import numpy as np\n",
    "\n",
    "def simulate_die_rolls(num_rolls):\n",
    "  \n",
    "    sides = 6\n",
    "    values = np.arange(1, sides + 1)\n",
    "    probabilities = np.ones(sides) / sides\n",
    "    \n",
    "    rolls = np.random.choice(values, size=num_rolls, p=probabilities)\n",
    "    return rolls\n",
    "\n",
    "def calculate_expected_value():\n",
    "  \n",
    "    values = np.arange(1, 7)\n",
    "    probabilities = np.ones(6) / 6\n",
    "    expected_value = np.sum(values * probabilities)\n",
    "    return expected_value\n",
    "\n",
    "def calculate_variance():\n",
    "\n",
    "    values = np.arange(1, 7)\n",
    "    probabilities = np.ones(6) / 6\n",
    "    mean = calculate_expected_value()\n",
    "    squared_diffs = (values - mean) ** 2\n",
    "    variance = np.sum(squared_diffs * probabilities)\n",
    "    return variance\n",
    "\n",
    "num_rolls = 1000\n",
    "rolls = simulate_die_rolls(num_rolls)\n",
    "\n",
    "expected_val = calculate_expected_value()\n",
    "variance = calculate_variance()\n",
    "\n",
    "print(f\"First 10 simulated rolls: {rolls[:10]}...\") \n",
    "print(\"Expected Value:\", expected_val)\n",
    "print(\"Variance:\", variance)\n"
   ]
  },
  {
   "cell_type": "markdown",
   "metadata": {},
   "source": [
    "   - Create a Python function to generate random samples from a given probability distribution (e.g., binomial, Poisson) and calculate their mean and variance.\n"
   ]
  },
  {
   "cell_type": "code",
   "execution_count": 48,
   "metadata": {},
   "outputs": [
    {
     "name": "stdout",
     "output_type": "stream",
     "text": [
      "Binomial Distribution:\n",
      "First 10 samples: [6 6 5 6 3 4 5 5 8 5]\n",
      "Mean: 5.008\n",
      "Variance: 2.323936\n",
      "\n",
      "Poisson Distribution:\n",
      "First 10 samples: [7 5 5 6 6 2 2 5 6 7]\n",
      "Mean: 5.06\n",
      "Variance: 5.2264\n"
     ]
    }
   ],
   "source": [
    "\n",
    "\n",
    "def generate_samples(distribution, *params, size=1000):\n",
    " \n",
    "    if distribution == 'binomial':\n",
    "        n, p = params\n",
    "        samples = np.random.binomial(n, p, size)\n",
    "    elif distribution == 'poisson':\n",
    "        lam = params[0]\n",
    "        samples = np.random.poisson(lam, size)\n",
    "    else:\n",
    "        print(\"Unsupported distribution.\")\n",
    "    \n",
    "    mean = np.mean(samples)\n",
    "    variance = np.var(samples)\n",
    "    \n",
    "    return samples, mean, variance\n",
    "\n",
    "\n",
    "# Binomial distribution\n",
    "n = 10\n",
    "p = 0.5\n",
    "samples_binomial, mean_binomial, variance_binomial = generate_samples('binomial', n, p, size=1000)\n",
    "print(\"Binomial Distribution:\")\n",
    "print(\"First 10 samples:\", samples_binomial[:10])\n",
    "print(\"Mean:\", mean_binomial)\n",
    "print(\"Variance:\", variance_binomial)\n",
    "\n",
    "# Poisson distribution\n",
    "lam = 5\n",
    "samples_poisson, mean_poisson, variance_poisson = generate_samples('poisson', lam, size=1000)\n",
    "print(\"\\nPoisson Distribution:\")\n",
    "print(\"First 10 samples:\", samples_poisson[:10])\n",
    "print(\"Mean:\", mean_poisson)\n",
    "print(\"Variance:\", variance_poisson)\n"
   ]
  },
  {
   "cell_type": "markdown",
   "metadata": {},
   "source": [
    "   - Write a Python script to generate random numbers from a Gaussian (normal) distribution and compute the mean, variance, and standard deviation of the samples.\n"
   ]
  },
  {
   "cell_type": "code",
   "execution_count": 49,
   "metadata": {},
   "outputs": [
    {
     "name": "stdout",
     "output_type": "stream",
     "text": [
      "First 10 samples: [-0.19318324  1.13619577 -0.79237865 -2.29429842  0.20174597 -1.71459417\n",
      " -0.27850218  0.56705227 -0.69949885  0.08923569]\n",
      "Mean of samples: -0.011599841224265937\n",
      "Variance of samples: 0.9747633096719316\n",
      "Standard Deviation of samples: 0.9873010228253243\n"
     ]
    }
   ],
   "source": [
    "import numpy as np\n",
    "\n",
    "def generate_normal_samples(mean, std_dev, size=1000):\n",
    "\n",
    "\n",
    "    samples = np.random.normal(loc=mean, scale=std_dev, size=size)\n",
    "    \n",
    "    sample_mean = np.mean(samples)\n",
    "    sample_variance = np.var(samples)\n",
    "    sample_std_dev = np.sqrt(sample_variance)\n",
    "    \n",
    "    return samples, sample_mean, sample_variance, sample_std_dev\n",
    "\n",
    "mean = 0  \n",
    "std_dev = 1  \n",
    "size = 1000  \n",
    "\n",
    "samples, sample_mean, sample_variance, sample_std_dev = generate_normal_samples(mean, std_dev, size)\n",
    "\n",
    "print(f\"First 10 samples: {samples[:10]}\")\n",
    "print(f\"Mean of samples: {sample_mean}\")\n",
    "print(f\"Variance of samples: {sample_variance}\")\n",
    "print(f\"Standard Deviation of samples: {sample_std_dev}\")\n"
   ]
  },
  {
   "cell_type": "code",
   "execution_count": null,
   "metadata": {},
   "outputs": [],
   "source": []
  },
  {
   "cell_type": "markdown",
   "metadata": {},
   "source": [
    "   - Write a Python function to calculate the probability density function (PDF) of a continuous random variable for a given normal distribution.\n"
   ]
  },
  {
   "cell_type": "code",
   "execution_count": 50,
   "metadata": {},
   "outputs": [
    {
     "name": "stdout",
     "output_type": "stream",
     "text": [
      "PDF values: [0.39894228 0.24197072 0.24197072 0.05399097]\n"
     ]
    }
   ],
   "source": [
    "\n",
    "def normal_pdf(x, mean, std_dev):\n",
    "    \n",
    "\n",
    "    x = np.array(x)\n",
    "    mean = np.array(mean)\n",
    "    std_dev = np.array(std_dev)\n",
    "    \n",
    "    coefficient = 1 / (std_dev * np.sqrt(2 * np.pi))\n",
    "    exponent = np.exp(- (x - mean)**2 / (2 * std_dev**2))\n",
    "    pdf = coefficient * exponent\n",
    "    \n",
    "    return pdf\n",
    "\n",
    "mean = 0\n",
    "std_dev = 1\n",
    "x_values = [0, 1, -1, 2]\n",
    "\n",
    "pdf_values = normal_pdf(x_values, mean, std_dev)\n",
    "print(\"PDF values:\", pdf_values)\n"
   ]
  },
  {
   "cell_type": "markdown",
   "metadata": {},
   "source": [
    "   - Create a program to calculate the cumulative distribution function (CDF) of exponential distribution.\n"
   ]
  },
  {
   "cell_type": "code",
   "execution_count": 52,
   "metadata": {},
   "outputs": [
    {
     "name": "stdout",
     "output_type": "stream",
     "text": [
      "CDF values: [0.         0.63212056 0.86466472 0.95021293 0.98168436]\n"
     ]
    }
   ],
   "source": [
    "\n",
    "def exponential_cdf(x, rate):\n",
    "\n",
    "\n",
    "    x = np.array(x)\n",
    "    \n",
    "    cdf = 1 - np.exp(-x / rate)\n",
    "    \n",
    "    return cdf\n",
    "\n",
    "rate = 1  \n",
    "x_values = [0, 1, 2, 3, 4]\n",
    "\n",
    "cdf_values = exponential_cdf(x_values, rate)\n",
    "print(\"CDF values:\", cdf_values)\n"
   ]
  },
  {
   "cell_type": "markdown",
   "metadata": {},
   "source": [
    "   - Write a Python function to calculate the probability mass function (PMF) of Poisson distribution.\n"
   ]
  },
  {
   "cell_type": "code",
   "execution_count": 62,
   "metadata": {},
   "outputs": [
    {
     "name": "stdout",
     "output_type": "stream",
     "text": [
      "Skewness of the 'tip' column: 1.1332130376158205\n"
     ]
    }
   ],
   "source": [
    "# Calculate skewness of the 'tip' column\n",
    "tip_skewness = data['total_bill'].skew()\n",
    "print(\"Skewness of the 'tip' column:\", tip_skewness)\n"
   ]
  },
  {
   "cell_type": "markdown",
   "metadata": {},
   "source": [
    "   - Use the seaborn library to load the `tips` dataset. Find the following from the dataset for the columns `total_bill` and `tip`:\n"
   ]
  },
  {
   "cell_type": "code",
   "execution_count": 56,
   "metadata": {},
   "outputs": [
    {
     "data": {
      "text/html": [
       "<div>\n",
       "<style scoped>\n",
       "    .dataframe tbody tr th:only-of-type {\n",
       "        vertical-align: middle;\n",
       "    }\n",
       "\n",
       "    .dataframe tbody tr th {\n",
       "        vertical-align: top;\n",
       "    }\n",
       "\n",
       "    .dataframe thead th {\n",
       "        text-align: right;\n",
       "    }\n",
       "</style>\n",
       "<table border=\"1\" class=\"dataframe\">\n",
       "  <thead>\n",
       "    <tr style=\"text-align: right;\">\n",
       "      <th></th>\n",
       "      <th>total_bill</th>\n",
       "      <th>tip</th>\n",
       "      <th>sex</th>\n",
       "      <th>smoker</th>\n",
       "      <th>day</th>\n",
       "      <th>time</th>\n",
       "      <th>size</th>\n",
       "    </tr>\n",
       "  </thead>\n",
       "  <tbody>\n",
       "    <tr>\n",
       "      <th>0</th>\n",
       "      <td>16.99</td>\n",
       "      <td>1.01</td>\n",
       "      <td>Female</td>\n",
       "      <td>No</td>\n",
       "      <td>Sun</td>\n",
       "      <td>Dinner</td>\n",
       "      <td>2</td>\n",
       "    </tr>\n",
       "    <tr>\n",
       "      <th>1</th>\n",
       "      <td>10.34</td>\n",
       "      <td>1.66</td>\n",
       "      <td>Male</td>\n",
       "      <td>No</td>\n",
       "      <td>Sun</td>\n",
       "      <td>Dinner</td>\n",
       "      <td>3</td>\n",
       "    </tr>\n",
       "    <tr>\n",
       "      <th>2</th>\n",
       "      <td>21.01</td>\n",
       "      <td>3.50</td>\n",
       "      <td>Male</td>\n",
       "      <td>No</td>\n",
       "      <td>Sun</td>\n",
       "      <td>Dinner</td>\n",
       "      <td>3</td>\n",
       "    </tr>\n",
       "    <tr>\n",
       "      <th>3</th>\n",
       "      <td>23.68</td>\n",
       "      <td>3.31</td>\n",
       "      <td>Male</td>\n",
       "      <td>No</td>\n",
       "      <td>Sun</td>\n",
       "      <td>Dinner</td>\n",
       "      <td>2</td>\n",
       "    </tr>\n",
       "    <tr>\n",
       "      <th>4</th>\n",
       "      <td>24.59</td>\n",
       "      <td>3.61</td>\n",
       "      <td>Female</td>\n",
       "      <td>No</td>\n",
       "      <td>Sun</td>\n",
       "      <td>Dinner</td>\n",
       "      <td>4</td>\n",
       "    </tr>\n",
       "  </tbody>\n",
       "</table>\n",
       "</div>"
      ],
      "text/plain": [
       "   total_bill   tip     sex smoker  day    time  size\n",
       "0       16.99  1.01  Female     No  Sun  Dinner     2\n",
       "1       10.34  1.66    Male     No  Sun  Dinner     3\n",
       "2       21.01  3.50    Male     No  Sun  Dinner     3\n",
       "3       23.68  3.31    Male     No  Sun  Dinner     2\n",
       "4       24.59  3.61  Female     No  Sun  Dinner     4"
      ]
     },
     "execution_count": 56,
     "metadata": {},
     "output_type": "execute_result"
    }
   ],
   "source": [
    "import seaborn as sns \n",
    "\n",
    "data = sns.load_dataset('tips')\n",
    "data.head()"
   ]
  },
  {
   "cell_type": "markdown",
   "metadata": {},
   "source": [
    "     (i) Write a Python function that calculates their skewness.\n"
   ]
  },
  {
   "cell_type": "code",
   "execution_count": 64,
   "metadata": {},
   "outputs": [
    {
     "name": "stdout",
     "output_type": "stream",
     "text": [
      "Skewness of the 'tip' column: 1.4654510370979401\n",
      "Skewness of the 'total bill column: 1.4654510370979401\n"
     ]
    }
   ],
   "source": [
    "# Calculate skewness of the 'tip' column\n",
    "tip_skewness = data['tip'].skew()\n",
    "print(\"Skewness of the 'tip' column:\", tip_skewness)\n",
    "\n",
    "\n",
    "totalbill_skewness = data['tip'].skew()\n",
    "print(\"Skewness of the 'total bill column:\", totalbill_skewness)\n"
   ]
  },
  {
   "cell_type": "markdown",
   "metadata": {},
   "source": [
    "(ii) Create a program that determines whether the columns exhibit positive skewness, negative skewness, or are approximately symmetric."
   ]
  },
  {
   "cell_type": "code",
   "execution_count": 65,
   "metadata": {},
   "outputs": [
    {
     "data": {
      "text/plain": [
       "{'total_bill': 'Positive skewness',\n",
       " 'tip': 'Positive skewness',\n",
       " 'size': 'Positive skewness'}"
      ]
     },
     "execution_count": 65,
     "metadata": {},
     "output_type": "execute_result"
    }
   ],
   "source": [
    "\n",
    "\n",
    "def classify_skewness(skewness, threshold=0.1):\n",
    "\n",
    "    if skewness > threshold:\n",
    "        return \"Positive skewness\"\n",
    "    elif skewness < -threshold:\n",
    "        return \"Negative skewness\"\n",
    "    else:\n",
    "        return \"Approximately symmetric\"\n",
    "\n",
    "skewness_results = {}\n",
    "threshold = 0.1\n",
    "for column in data.select_dtypes(include='number').columns:\n",
    "    skewness = data[column].skew()\n",
    "    classification = classify_skewness(skewness, threshold)\n",
    "    skewness_results[column] = classification\n",
    "\n",
    "skewness_results\n",
    "\n"
   ]
  },
  {
   "cell_type": "markdown",
   "metadata": {},
   "source": [
    "(iii) Write a function that calculates the covariance between two columns.\n"
   ]
  },
  {
   "cell_type": "code",
   "execution_count": 69,
   "metadata": {},
   "outputs": [
    {
     "data": {
      "text/plain": [
       "8.323501629224856"
      ]
     },
     "execution_count": 69,
     "metadata": {},
     "output_type": "execute_result"
    }
   ],
   "source": [
    "def calc_covariance(c1,c2):\n",
    "    x = data[c1]\n",
    "    y = data[c2]\n",
    "\n",
    "    covariance = x.cov(y)\n",
    "    return covariance\n",
    "\n",
    "calc_covariance('tip','total_bill')"
   ]
  },
  {
   "cell_type": "markdown",
   "metadata": {},
   "source": [
    "     (iv) Implement a Python program that calculates the Pearson correlation coefficient between two columns.\n"
   ]
  },
  {
   "cell_type": "code",
   "execution_count": 70,
   "metadata": {},
   "outputs": [
    {
     "data": {
      "text/plain": [
       "0.6757341092113643"
      ]
     },
     "execution_count": 70,
     "metadata": {},
     "output_type": "execute_result"
    }
   ],
   "source": [
    "correlation = data['tip'].corr(data['total_bill'])\n",
    "correlation"
   ]
  },
  {
   "cell_type": "markdown",
   "metadata": {},
   "source": [
    "     (v) Write a script to visualize the correlation between two specific columns in a Pandas DataFrame using scatter plots.\n"
   ]
  },
  {
   "cell_type": "code",
   "execution_count": 71,
   "metadata": {},
   "outputs": [
    {
     "data": {
      "image/png": "[encoded data removed]",
      "text/plain": [
       "<Figure size 1000x600 with 1 Axes>"
      ]
     },
     "metadata": {},
     "output_type": "display_data"
    }
   ],
   "source": [
    "import matplotlib.pyplot as plt \n",
    "import seaborn as sns \n",
    "import numpy as np \n",
    "\n",
    "col1 = 'total_bill'\n",
    "col2 = 'tip'\n",
    "\n",
    "plt.figure(figsize=(10, 6))  \n",
    "sns.scatterplot(x=data['total_bill'], y=data['tip'], alpha=0.7)\n",
    "    \n",
    "    # Add titles and labels\n",
    "plt.title(f'Scatter Plot of {col1} vs {col2}', fontsize=16)\n",
    "plt.xlabel(col1, fontsize=14)\n",
    "plt.ylabel(col2, fontsize=14)\n",
    "    \n",
    "sns.regplot(x=data[col1], y=data[col2], scatter=False, color='red', line_kws={\"linewidth\":2})\n",
    "    \n",
    "    \n",
    "plt.grid(True)\n",
    "plt.show()"
   ]
  },
  {
   "cell_type": "markdown",
   "metadata": {},
   "source": [
    "\n",
    "\n",
    "4. A company wants to test if a new website layout leads to a higher conversion rate (percentage of visitors who make a purchase). They collect data from the old and new layouts to compare.\n",
    "   - Apply a z-test to find which layout is successful.\n",
    "\n"
   ]
  },
  {
   "cell_type": "code",
   "execution_count": 72,
   "metadata": {},
   "outputs": [
    {
     "name": "stdout",
     "output_type": "stream",
     "text": [
      "Z-score: 2.677397763008329\n",
      "P-value: 0.003709824630512837\n",
      "Reject the null hypothesis: The new layout significantly improves the conversion rate.\n"
     ]
    }
   ],
   "source": [
    "import numpy as np\n",
    "from scipy import stats\n",
    "\n",
    "def z_test_two_proportions(successes_old, total_old, successes_new, total_new):\n",
    "\n",
    "    p_old = successes_old / total_old\n",
    "    p_new = successes_new / total_new\n",
    "    \n",
    "    p_pooled = (successes_old + successes_new) / (total_old + total_new)\n",
    "    \n",
    "    standard_error = np.sqrt(p_pooled * (1 - p_pooled) * (1 / total_old + 1 / total_new))\n",
    "    \n",
    "    z_score = (p_new - p_old) / standard_error\n",
    "    \n",
    "    p_value = 1 - stats.norm.cdf(z_score)\n",
    "    \n",
    "    return z_score, p_value\n",
    "\n",
    "successes_old = 200 \n",
    "total_old = 1000     \n",
    "successes_new = 250  \n",
    "total_new = 1000     \n",
    "\n",
    "z_score, p_value = z_test_two_proportions(successes_old, total_old, successes_new, total_new)\n",
    "\n",
    "print(f\"Z-score: {z_score}\")\n",
    "print(f\"P-value: {p_value}\")\n",
    "\n",
    "alpha = 0.05 \n",
    "if p_value < alpha:\n",
    "    print(\"Reject the null hypothesis: The new layout significantly improves the conversion rate.\")\n",
    "else:\n",
    "    print(\"Fail to reject the null hypothesis: No significant difference in conversion rate.\")\n"
   ]
  },
  {
   "cell_type": "markdown",
   "metadata": {},
   "source": [
    "5. A tutoring service claims that its program improves students' exam scores. A sample of students who participated in the program was taken, and their scores before and after the program were recorded.\n",
    "   - Use a z-test to determine if the claims made by the tutor are true or false.\n",
    "\n"
   ]
  },
  {
   "cell_type": "code",
   "execution_count": 74,
   "metadata": {},
   "outputs": [
    {
     "name": "stdout",
     "output_type": "stream",
     "text": [
      "Z-score: inf\n",
      "P-value: 0.0\n",
      "Reject the null hypothesis: The tutoring program significantly improved scores.\n"
     ]
    },
    {
     "name": "stderr",
     "output_type": "stream",
     "text": [
      "/tmp/ipykernel_4852/4162317211.py:14: RuntimeWarning: divide by zero encountered in scalar divide\n",
      "  z_score = mean_diff / (std_diff / np.sqrt(n))\n"
     ]
    }
   ],
   "source": [
    "import numpy as np\n",
    "from scipy import stats\n",
    "\n",
    "def z_test_paired_scores(before, after):\n",
    "\n",
    "    before = np.array(before)\n",
    "    after = np.array(after)\n",
    "    differences = after - before\n",
    "    \n",
    "    mean_diff = np.mean(differences)\n",
    "    std_diff = np.std(differences, ddof=0)\n",
    "    \n",
    "    n = len(differences)\n",
    "    z_score = mean_diff / (std_diff / np.sqrt(n))\n",
    "    p_value = 2 * (1 - stats.norm.cdf(np.abs(z_score)))\n",
    "    \n",
    "    return z_score, p_value\n",
    "\n",
    "scores_before = [75, 80, 70, 85, 90]  \n",
    "scores_after = [80, 85, 75, 90, 95]   \n",
    "\n",
    "z_score, p_value = z_test_paired_scores(scores_before, scores_after)\n",
    "\n",
    "print(f\"Z-score: {z_score}\")\n",
    "print(f\"P-value: {p_value}\")\n",
    "\n",
    "alpha = 0.05 \n",
    "if p_value < alpha:\n",
    "    print(\"Reject the null hypothesis: The tutoring program significantly improved scores.\")\n",
    "else:\n",
    "    print(\"Fail to reject the null hypothesis: No significant improvement in scores.\")\n"
   ]
  },
  {
   "cell_type": "markdown",
   "metadata": {},
   "source": [
    "6. A pharmaceutical company wants to determine if a new drug is effective in reducing blood pressure. They conduct a study and record blood pressure measurements before and after administering the drug.\n",
    "   - Implement a z-test to determine if the drug is effective.\n"
   ]
  },
  {
   "cell_type": "code",
   "execution_count": 75,
   "metadata": {},
   "outputs": [
    {
     "name": "stdout",
     "output_type": "stream",
     "text": [
      "Z-score: 10.5935\n",
      "P-value: 1.0000\n",
      "Fail to reject the null hypothesis: No significant reduction in blood pressure.\n"
     ]
    }
   ],
   "source": [
    "\n",
    "def z_test_paired_samples(before, after):\n",
    "    \n",
    "    differences = before - after  \n",
    "    \n",
    "    mean_diff = np.mean(differences)\n",
    "    std_diff = np.std(differences, ddof=0) \n",
    "    \n",
    "    n = len(differences)\n",
    "    \n",
    "    z_score = mean_diff / (std_diff / np.sqrt(n))\n",
    "    \n",
    "    p_value = stats.norm.cdf(z_score)\n",
    "    \n",
    "    return z_score, p_value\n",
    "\n",
    "before_drug = np.array([145, 150, 140, 135, 155, 160, 152, 148, 130, 138])\n",
    "after_drug = np.array([130, 140, 132, 128, 145, 148, 138, 136, 125, 130])\n",
    "\n",
    "z_score, p_value = z_test_paired_samples(before_drug, after_drug)\n",
    "\n",
    "print(f\"Z-score: {z_score:.4f}\")\n",
    "print(f\"P-value: {p_value:.4f}\")\n",
    "\n",
    "alpha = 0.05  \n",
    "if p_value < alpha:\n",
    "    print(\"Reject the null hypothesis: The drug significantly reduces blood pressure.\")\n",
    "else:\n",
    "    print(\"Fail to reject the null hypothesis: No significant reduction in blood pressure.\")\n"
   ]
  },
  {
   "cell_type": "markdown",
   "metadata": {},
   "source": [
    "\n",
    "7. A customer service department claims that their average response time is less than 5 minutes. A sample of recent customer interactions was taken, and the response times were recorded.\n",
    "   - Implement a z-test to verify the claims made by the customer service department.\n",
    "\n"
   ]
  },
  {
   "cell_type": "code",
   "execution_count": 76,
   "metadata": {},
   "outputs": [
    {
     "name": "stdout",
     "output_type": "stream",
     "text": [
      "Z-score: -3.3567\n",
      "P-value: 0.0004\n",
      "Reject the null hypothesis: The average response time is significantly less than 5 minutes.\n"
     ]
    }
   ],
   "source": [
    "\n",
    "def z_test_one_sample(response_times, claimed_mean):\n",
    "    sample_mean = np.mean(response_times)\n",
    "    sample_std = np.std(response_times, ddof=0)\n",
    "    n = len(response_times)\n",
    "    z_score = (sample_mean - claimed_mean) / (sample_std / np.sqrt(n))\n",
    "    p_value = stats.norm.cdf(z_score)\n",
    "    return z_score, p_value\n",
    "\n",
    "response_times = np.array([4.3, 3.8, 5.1, 4.9, 4.7, 4.2, 5.2, 4.5, 4.6, 4.4])\n",
    "claimed_mean = 5\n",
    "\n",
    "z_score, p_value = z_test_one_sample(response_times, claimed_mean)\n",
    "\n",
    "print(f\"Z-score: {z_score:.4f}\")\n",
    "print(f\"P-value: {p_value:.4f}\")\n",
    "\n",
    "alpha = 0.05\n",
    "if p_value < alpha:\n",
    "    print(\"Reject the null hypothesis: The average response time is significantly less than 5 minutes.\")\n",
    "else:\n",
    "    print(\"Fail to reject the null hypothesis: No significant evidence that the average response time is less than 5 minutes.\")\n"
   ]
  },
  {
   "cell_type": "markdown",
   "metadata": {},
   "source": [
    "8. A company is testing two different website layouts to see which one leads to higher click-through rates.\n",
    "   - Write a Python function to perform an A/B test analysis, including calculating the t-statistic, degrees of freedom, and p-value.\n",
    "\n"
   ]
  },
  {
   "cell_type": "code",
   "execution_count": 78,
   "metadata": {},
   "outputs": [
    {
     "name": "stdout",
     "output_type": "stream",
     "text": [
      "T-statistic: -7.2981\n",
      "Degrees of Freedom: 17.8799\n",
      "P-value: 0.0000\n",
      "Reject the null hypothesis: There is a significant difference between the click-through rates of the two layouts.\n"
     ]
    }
   ],
   "source": [
    "\n",
    "def ab_test_analysis(layout_a_clicks, layout_b_clicks):\n",
    "    layout_a_clicks = np.array(layout_a_clicks)\n",
    "    layout_b_clicks = np.array(layout_b_clicks)\n",
    "    \n",
    "    mean_a = np.mean(layout_a_clicks)\n",
    "    mean_b = np.mean(layout_b_clicks)\n",
    "    var_a = np.var(layout_a_clicks, ddof=1)\n",
    "    var_b = np.var(layout_b_clicks, ddof=1)\n",
    "    n_a = len(layout_a_clicks)\n",
    "    n_b = len(layout_b_clicks)\n",
    "    \n",
    "    t_statistic = (mean_a - mean_b) / np.sqrt((var_a / n_a) + (var_b / n_b))\n",
    "    df = ((var_a / n_a + var_b / n_b) ** 2) / (( (var_a / n_a) ** 2 / (n_a - 1)) + ((var_b / n_b) ** 2 / (n_b - 1)))\n",
    "    p_value = 2 * (1 - stats.t.cdf(np.abs(t_statistic), df))\n",
    "    \n",
    "    return t_statistic, df, p_value\n",
    "\n",
    "layout_a_clicks = [28, 32, 33, 29, 31, 34, 30, 35, 36, 37]\n",
    "layout_b_clicks = [40, 41, 38, 42, 39, 44, 43, 41, 45, 47]\n",
    "\n",
    "t_statistic, df, p_value = ab_test_analysis(layout_a_clicks, layout_b_clicks)\n",
    "\n",
    "print(f\"T-statistic: {t_statistic:.4f}\")\n",
    "print(f\"Degrees of Freedom: {df:.4f}\")\n",
    "print(f\"P-value: {p_value:.4f}\")\n",
    "\n",
    "alpha = 0.05\n",
    "if p_value < alpha:\n",
    "    print(\"Reject the null hypothesis: There is a significant difference between the click-through rates of the two layouts.\")\n",
    "else:\n",
    "    print(\"Fail to reject the null hypothesis: No significant difference between the click-through rates of the two layouts.\")\n"
   ]
  },
  {
   "cell_type": "markdown",
   "metadata": {},
   "source": [
    "9. A pharmaceutical company wants to determine if a new drug is more effective than an existing drug in reducing cholesterol levels.\n",
    "   - Create a program to analyze the clinical trial data and calculate the t-statistic and p-value for the treatment effect.\n"
   ]
  },
  {
   "cell_type": "code",
   "execution_count": 79,
   "metadata": {},
   "outputs": [
    {
     "name": "stdout",
     "output_type": "stream",
     "text": [
      "T-statistic: -4.1405\n",
      "Degrees of Freedom: 17.8668\n",
      "P-value: 0.0003\n",
      "Reject the null hypothesis: The new drug is significantly more effective in reducing cholesterol levels compared to the existing drug.\n"
     ]
    }
   ],
   "source": [
    "\n",
    "def t_test_treatment_effect(existing_drug_levels, new_drug_levels):\n",
    "    existing_drug_levels = np.array(existing_drug_levels)\n",
    "    new_drug_levels = np.array(new_drug_levels)\n",
    "    \n",
    "    mean_existing = np.mean(existing_drug_levels)\n",
    "    mean_new = np.mean(new_drug_levels)\n",
    "    var_existing = np.var(existing_drug_levels, ddof=1)\n",
    "    var_new = np.var(new_drug_levels, ddof=1)\n",
    "    n_existing = len(existing_drug_levels)\n",
    "    n_new = len(new_drug_levels)\n",
    "    \n",
    "    t_statistic = (mean_new - mean_existing) / np.sqrt((var_new / n_new) + (var_existing / n_existing))\n",
    "    \n",
    "    df = ((var_new / n_new + var_existing / n_existing) ** 2) / \\\n",
    "         (( (var_new / n_new) ** 2 / (n_new - 1)) + ((var_existing / n_existing) ** 2 / (n_existing - 1)))\n",
    "    \n",
    "    p_value = stats.t.cdf(t_statistic, df)\n",
    "    \n",
    "    return t_statistic, df, p_value\n",
    "\n",
    "existing_drug_levels = [180, 182, 175, 185, 178, 176, 172, 184, 179, 183]\n",
    "new_drug_levels = [170, 172, 165, 168, 175, 173, 170, 178, 172, 176]\n",
    "\n",
    "t_statistic, df, p_value = t_test_treatment_effect(existing_drug_levels, new_drug_levels)\n",
    "\n",
    "print(f\"T-statistic: {t_statistic:.4f}\")\n",
    "print(f\"Degrees of Freedom: {df:.4f}\")\n",
    "print(f\"P-value: {p_value:.4f}\")\n",
    "\n",
    "alpha = 0.05\n",
    "if p_value < alpha:\n",
    "    print(\"Reject the null hypothesis: The new drug is significantly more effective in reducing cholesterol levels compared to the existing drug.\")\n",
    "else:\n",
    "    print(\"Fail to reject the null hypothesis: No significant evidence that the new drug is more effective than the existing drug.\")\n"
   ]
  },
  {
   "cell_type": "markdown",
   "metadata": {},
   "source": [
    "\n",
    "10. A school district introduces an educational intervention program to improve math scores.\n",
    "    - Write a Python function to analyze pre- and post-intervention test scores, calculating the t-statistic and p-value to determine if the intervention had a significant impact.\n"
   ]
  },
  {
   "cell_type": "code",
   "execution_count": 81,
   "metadata": {},
   "outputs": [
    {
     "name": "stdout",
     "output_type": "stream",
     "text": [
      "T-statistic: 4.4284\n",
      "Degrees of Freedom: 9\n",
      "P-value: 0.0017\n",
      "Reject the null hypothesis: The intervention had a significant impact on the math scores.\n"
     ]
    }
   ],
   "source": [
    "\n",
    "\n",
    "def paired_t_test(pre_intervention_scores, post_intervention_scores):\n",
    "    pre_intervention_scores = np.array(pre_intervention_scores)\n",
    "    post_intervention_scores = np.array(post_intervention_scores)\n",
    "    \n",
    "    if len(pre_intervention_scores) != len(post_intervention_scores):\n",
    "        raise ValueError(\"The number of pre-intervention and post-intervention scores must be the same.\")\n",
    "    \n",
    "    differences = post_intervention_scores - pre_intervention_scores\n",
    "    mean_difference = np.mean(differences)\n",
    "    std_difference = np.std(differences, ddof=1)\n",
    "    n = len(differences)\n",
    "    \n",
    "    t_statistic = mean_difference / (std_difference / np.sqrt(n))\n",
    "    \n",
    "    df = n - 1\n",
    "    \n",
    "    p_value = 2 * (1 - stats.t.cdf(np.abs(t_statistic), df))\n",
    "    \n",
    "    return t_statistic, df, p_value\n",
    "\n",
    "pre_intervention_scores = [80, 85, 90, 75, 88, 82, 92, 78, 85, 87]\n",
    "post_intervention_scores = [90, 92, 88, 92, 95, 91, 96, 93, 89, 93]\n",
    "\n",
    "t_statistic, df, p_value = paired_t_test(pre_intervention_scores, post_intervention_scores)\n",
    "\n",
    "print(f\"T-statistic: {t_statistic:.4f}\")\n",
    "print(f\"Degrees of Freedom: {df}\")\n",
    "print(f\"P-value: {p_value:.4f}\")\n",
    "\n",
    "alpha = 0.05\n",
    "if p_value < alpha:\n",
    "    print(\"Reject the null hypothesis: The intervention had a significant impact on the math scores.\")\n",
    "else:\n",
    "    print(\"Fail to reject the null hypothesis: No significant evidence that the intervention had an impact on the math scores.\")\n"
   ]
  },
  {
   "cell_type": "markdown",
   "metadata": {},
   "source": [
    "\n",
    "11. An HR department wants to investigate if there's a gender-based salary gap within the company.\n",
    "    - Develop a program to analyze salary data, calculate the t-statistic, and determine if there's a statistically significant difference between the average salaries of male and female employees.\n"
   ]
  },
  {
   "cell_type": "code",
   "execution_count": 82,
   "metadata": {},
   "outputs": [
    {
     "name": "stdout",
     "output_type": "stream",
     "text": [
      "T-statistic: 0.0611\n",
      "Degrees of Freedom: 36.1668\n",
      "P-value: 0.9516\n",
      "Fail to reject the null hypothesis: No significant difference in the average salaries between male and female employees.\n"
     ]
    }
   ],
   "source": [
    "\n",
    "\n",
    "def t_test_salary_gap(male_salaries, female_salaries):\n",
    "    male_salaries = np.array(male_salaries)\n",
    "    female_salaries = np.array(female_salaries)\n",
    "    \n",
    "    mean_male = np.mean(male_salaries)\n",
    "    mean_female = np.mean(female_salaries)\n",
    "    var_male = np.var(male_salaries, ddof=1)\n",
    "    var_female = np.var(female_salaries, ddof=1)\n",
    "    n_male = len(male_salaries)\n",
    "    n_female = len(female_salaries)\n",
    "    \n",
    "    t_statistic = (mean_male - mean_female) / np.sqrt((var_male / n_male) + (var_female / n_female))\n",
    "    \n",
    "    df = ((var_male / n_male + var_female / n_female) ** 2) / \\\n",
    "         (( (var_male / n_male) ** 2 / (n_male - 1)) + ((var_female / n_female) ** 2 / (n_female - 1)))\n",
    "    \n",
    "    p_value = 2 * (1 - stats.t.cdf(np.abs(t_statistic), df))\n",
    "    \n",
    "    return t_statistic, df, p_value\n",
    "\n",
    "np.random.seed(0)\n",
    "male_salaries = np.random.normal(loc=50000, scale=10000, size=20)\n",
    "female_salaries = np.random.normal(loc=55000, scale=9000, size=20)\n",
    "\n",
    "t_statistic, df, p_value = t_test_salary_gap(male_salaries, female_salaries)\n",
    "\n",
    "print(f\"T-statistic: {t_statistic:.4f}\")\n",
    "print(f\"Degrees of Freedom: {df:.4f}\")\n",
    "print(f\"P-value: {p_value:.4f}\")\n",
    "\n",
    "alpha = 0.05\n",
    "if p_value < alpha:\n",
    "    print(\"Reject the null hypothesis: There is a significant difference in the average salaries between male and female employees.\")\n",
    "else:\n",
    "    print(\"Fail to reject the null hypothesis: No significant difference in the average salaries between male and female employees.\")\n"
   ]
  },
  {
   "cell_type": "markdown",
   "metadata": {},
   "source": [
    "\n",
    "12. A manufacturer produces two different versions of a product and wants to compare their quality scores.\n",
    "    - Create a Python function to analyze quality assessment data, calculate the t-statistic, and determine if there's a significant difference in quality between the two versions.\n"
   ]
  },
  {
   "cell_type": "code",
   "execution_count": 83,
   "metadata": {},
   "outputs": [
    {
     "name": "stdout",
     "output_type": "stream",
     "text": [
      "T-statistic: 11.3258\n",
      "Degrees of Freedom: 44.4706\n",
      "P-value: 0.0000\n",
      "Reject the null hypothesis: There is a significant difference in quality scores between Version 1 and Version 2.\n"
     ]
    }
   ],
   "source": [
    "\n",
    "def t_test_quality_scores(version1_scores, version2_scores):\n",
    "    version1_scores = np.array(version1_scores)\n",
    "    version2_scores = np.array(version2_scores)\n",
    "    mean_v1 = np.mean(version1_scores)\n",
    "    mean_v2 = np.mean(version2_scores)\n",
    "    var_v1 = np.var(version1_scores, ddof=1)\n",
    "    var_v2 = np.var(version2_scores, ddof=1)\n",
    "    n_v1 = len(version1_scores)\n",
    "    n_v2 = len(version2_scores)\n",
    "    \n",
    "    \n",
    "    t_statistic = (mean_v1 - mean_v2) / np.sqrt((var_v1 / n_v1) + (var_v2 / n_v2))\n",
    "    \n",
    "    df = ((var_v1 / n_v1 + var_v2 / n_v2) ** 2) / \\\n",
    "         (( (var_v1 / n_v1) ** 2 / (n_v1 - 1)) + ((var_v2 / n_v2) ** 2 / (n_v2 - 1)))\n",
    "    \n",
    "    p_value = 2 * (1 - stats.t.cdf(np.abs(t_statistic), df))\n",
    "    \n",
    "    return t_statistic, df, p_value\n",
    "\n",
    "version1_scores = [85, 88, 82, 89, 87, 84, 90, 88, 85, 86, 91, 83, 87, 84, 89, 86, 84, 88, 85, 86, 89, 90, 87, 88, 85]\n",
    "version2_scores = [80, 78, 83, 81, 79, 82, 76, 80, 78, 81, 77, 82, 80, 79, 82, 79, 80, 81, 79, 82, 79, 78, 80, 81, 82]\n",
    "\n",
    "t_statistic, df, p_value = t_test_quality_scores(version1_scores, version2_scores)\n",
    "\n",
    "print(f\"T-statistic: {t_statistic:.4f}\")\n",
    "print(f\"Degrees of Freedom: {df:.4f}\")\n",
    "print(f\"P-value: {p_value:.4f}\")\n",
    "\n",
    "alpha = 0.05\n",
    "if p_value < alpha:\n",
    "    print(\"Reject the null hypothesis: There is a significant difference in quality scores between Version 1 and Version 2.\")\n",
    "else:\n",
    "    print(\"Fail to reject the null hypothesis: No significant difference in quality scores between Version 1 and Version 2.\")\n"
   ]
  },
  {
   "cell_type": "markdown",
   "metadata": {},
   "source": [
    "\n",
    "13. A restaurant chain collects customer satisfaction scores for two different branches.\n",
    "    - Write a program to analyze the scores, calculate the t-statistic, and determine if there's a statistically significant difference in customer satisfaction between the branches.\n"
   ]
  },
  {
   "cell_type": "code",
   "execution_count": 84,
   "metadata": {},
   "outputs": [
    {
     "name": "stdout",
     "output_type": "stream",
     "text": [
      "T-statistic: 5.4801\n",
      "Degrees of Freedom: 60.0000\n",
      "P-value: 0.0000\n",
      "Reject the null hypothesis: There is a significant difference in customer satisfaction scores between Branch A and Branch B.\n"
     ]
    }
   ],
   "source": [
    "\n",
    "\n",
    "def t_test_customer_satisfaction(branch_a_scores, branch_b_scores):\n",
    "    branch_a_scores = np.array(branch_a_scores)\n",
    "    branch_b_scores = np.array(branch_b_scores)\n",
    "    \n",
    "    mean_a = np.mean(branch_a_scores)\n",
    "    mean_b = np.mean(branch_b_scores)\n",
    "    var_a = np.var(branch_a_scores, ddof=1)\n",
    "    var_b = np.var(branch_b_scores, ddof=1)\n",
    "    n_a = len(branch_a_scores)\n",
    "    n_b = len(branch_b_scores)\n",
    "    \n",
    "    t_statistic = (mean_a - mean_b) / np.sqrt((var_a / n_a) + (var_b / n_b))\n",
    "    \n",
    "    df = ((var_a / n_a + var_b / n_b) ** 2) / \\\n",
    "         (( (var_a / n_a) ** 2 / (n_a - 1)) + ((var_b / n_b) ** 2 / (n_b - 1)))\n",
    "    \n",
    "    p_value = 2 * (1 - stats.t.cdf(np.abs(t_statistic), df))\n",
    "    \n",
    "    return t_statistic, df, p_value\n",
    "\n",
    "\n",
    "branch_a_scores = [4, 5, 3, 4, 5, 4, 5, 3, 4, 4, 5, 4, 4, 3, 4, 5, 5, 4, 3, 4, 5, 4, 3, 5, 4, 4, 5, 3, 4, 5, 4]\n",
    "branch_b_scores = [3, 4, 2, 3, 4, 3, 4, 2, 3, 3, 4, 3, 3, 2, 3, 4, 4, 3, 2, 3, 4, 3, 2, 4, 3, 3, 4, 2, 3, 4, 3]\n",
    "\n",
    "t_statistic, df, p_value = t_test_customer_satisfaction(branch_a_scores, branch_b_scores)\n",
    "\n",
    "print(f\"T-statistic: {t_statistic:.4f}\")\n",
    "print(f\"Degrees of Freedom: {df:.4f}\")\n",
    "print(f\"P-value: {p_value:.4f}\")\n",
    "\n",
    "alpha = 0.05\n",
    "if p_value < alpha:\n",
    "    print(\"Reject the null hypothesis: There is a significant difference in customer satisfaction scores between Branch A and Branch B.\")\n",
    "else:\n",
    "    print(\"Fail to reject the null hypothesis: No significant difference in customer satisfaction scores between Branch A and Branch B.\")\n"
   ]
  },
  {
   "cell_type": "markdown",
   "metadata": {},
   "source": [
    "\n",
    "14. A political analyst wants to determine if there is a significant association between age groups and voter preferences (Candidate A or Candidate B).\n",
    "    - Perform a Chi-Square test to determine if there is a significant association between age groups and voter preferences.\n"
   ]
  },
  {
   "cell_type": "code",
   "execution_count": 85,
   "metadata": {},
   "outputs": [
    {
     "name": "stdout",
     "output_type": "stream",
     "text": [
      "Chi-Square Statistic: 0.8780\n",
      "P-value: 0.6447\n",
      "Degrees of Freedom: 2\n",
      "Expected Frequencies:\n",
      "[[96.824 85.176]\n",
      " [89.908 79.092]\n",
      " [79.268 69.732]]\n",
      "Fail to reject the null hypothesis: No significant association between age groups and voter preferences.\n"
     ]
    }
   ],
   "source": [
    "import numpy as np\n",
    "import pandas as pd\n",
    "from scipy.stats import chi2_contingency\n",
    "\n",
    "def chi_square_test(age_groups, voter_preferences):\n",
    "    \n",
    "    df = pd.DataFrame({\n",
    "        'Age Group': age_groups,\n",
    "        'Voter Preference': voter_preferences\n",
    "    })\n",
    "    \n",
    "    contingency_table = pd.crosstab(df['Age Group'], df['Voter Preference'])\n",
    "    \n",
    "    chi2_stat, p_value, dof, expected = chi2_contingency(contingency_table)\n",
    "    \n",
    "    return chi2_stat, p_value, dof, expected\n",
    "\n",
    "np.random.seed(0)\n",
    "age_groups = np.random.choice(['18-30', '31-50', '51+'], size=500)\n",
    "voter_preferences = np.random.choice(['Candidate A', 'Candidate B'], size=500)\n",
    "\n",
    "chi2_stat, p_value, dof, expected = chi_square_test(age_groups, voter_preferences)\n",
    "\n",
    "print(f\"Chi-Square Statistic: {chi2_stat:.4f}\")\n",
    "print(f\"P-value: {p_value:.4f}\")\n",
    "print(f\"Degrees of Freedom: {dof}\")\n",
    "print(\"Expected Frequencies:\")\n",
    "print(expected)\n",
    "\n",
    "alpha = 0.05\n",
    "if p_value < alpha:\n",
    "    print(\"Reject the null hypothesis: There is a significant association between age groups and voter preferences.\")\n",
    "else:\n",
    "    print(\"Fail to reject the null hypothesis: No significant association between age groups and voter preferences.\")\n"
   ]
  },
  {
   "cell_type": "markdown",
   "metadata": {},
   "source": [
    "\n",
    "15. A company conducted a customer satisfaction survey to determine if there is a significant relationship between product satisfaction levels (Satisfied, Neutral, Dissatisfied) and the region where customers are located (East, West, North, South).\n",
    "    - Conduct a Chi-Square test to determine if there is a significant relationship between product satisfaction levels and customer regions.\n"
   ]
  },
  {
   "cell_type": "code",
   "execution_count": 2,
   "metadata": {},
   "outputs": [
    {
     "name": "stdout",
     "output_type": "stream",
     "text": [
      "Chi-Square Statistic: 27.777056277056275\n",
      "P-value: 0.00010349448486004387\n",
      "Degrees of Freedom: 6\n",
      "Expected Frequencies Table:\n",
      "[[34.14634146 34.14634146 37.56097561 34.14634146]\n",
      " [36.58536585 36.58536585 40.24390244 36.58536585]\n",
      " [29.26829268 29.26829268 32.19512195 29.26829268]]\n"
     ]
    }
   ],
   "source": [
    "import numpy as np\n",
    "from scipy.stats import chi2_contingency\n",
    "\n",
    "data = np.array([[50, 30, 40, 20], [30, 40, 30, 50], [20, 30, 40, 30]])\n",
    "\n",
    "chi2_stat, p_val, dof, expected = chi2_contingency(data)\n",
    "\n",
    "print(f\"Chi-Square Statistic: {chi2_stat}\")\n",
    "print(f\"P-value: {p_val}\")\n",
    "print(f\"Degrees of Freedom: {dof}\")\n",
    "print(f\"Expected Frequencies Table:\\n{expected}\")\n"
   ]
  },
  {
   "cell_type": "markdown",
   "metadata": {},
   "source": [
    "\n",
    "16. A company implemented an employee training program to improve job performance (Effective, Neutral, Ineffective).\n",
    "    - Perform a Chi-Square test to determine if there is a significant difference between job performance levels before and after the training.\n"
   ]
  },
  {
   "cell_type": "code",
   "execution_count": 3,
   "metadata": {},
   "outputs": [
    {
     "name": "stdout",
     "output_type": "stream",
     "text": [
      "Chi-Square Statistic: 22.161728395061726\n",
      "P-value: 0.00018609719479882557\n",
      "Degrees of Freedom: 4\n",
      "Expected Frequencies Table:\n",
      "[[34.48275862 34.48275862 31.03448276]\n",
      " [34.48275862 34.48275862 31.03448276]\n",
      " [31.03448276 31.03448276 27.93103448]]\n"
     ]
    }
   ],
   "source": [
    "import numpy as np\n",
    "from scipy.stats import chi2_contingency\n",
    "\n",
    "data = np.array([[50, 30, 20], [30, 40, 30], [20, 30, 40]])\n",
    "\n",
    "chi2_stat, p_val, dof, expected = chi2_contingency(data)\n",
    "\n",
    "print(f\"Chi-Square Statistic: {chi2_stat}\")\n",
    "print(f\"P-value: {p_val}\")\n",
    "print(f\"Degrees of Freedom: {dof}\")\n",
    "print(f\"Expected Frequencies Table:\\n{expected}\")\n"
   ]
  },
  {
   "cell_type": "markdown",
   "metadata": {},
   "source": [
    "\n",
    "17. A company produces three different versions of a product: Standard, Premium, and Deluxe.\n",
    "    - Perform an ANOVA test to determine if there is a significant difference in customer satisfaction scores among the three product versions."
   ]
  },
  {
   "cell_type": "code",
   "execution_count": 1,
   "metadata": {},
   "outputs": [
    {
     "name": "stdout",
     "output_type": "stream",
     "text": [
      "F-statistic: 27.0356\n",
      "P-value: 0.0000\n"
     ]
    }
   ],
   "source": [
    "import numpy as np\n",
    "import scipy.stats as stats\n",
    "\n",
    "standard_scores = [80, 85, 90, 78, 88, 82, 92, 78, 85, 87]\n",
    "premium_scores = [90, 92, 88, 92, 95, 91, 96, 93, 89, 93]\n",
    "deluxe_scores = [95, 98, 92, 97, 96, 94, 98, 97, 92, 99]\n",
    "\n",
    "f_statistic, p_value = stats.f_oneway(standard_scores, premium_scores, deluxe_scores)\n",
    "\n",
    "print(f\"F-statistic: {f_statistic:.4f}\")\n",
    "print(f\"P-value: {p_value:.4f}\")\n"
   ]
  }
 ],
 "metadata": {
  "kernelspec": {
   "display_name": "Python 3 (ipykernel)",
   "language": "python",
   "name": "python3"
  },
  "language_info": {
   "codemirror_mode": {
    "name": "ipython",
    "version": 3
   },
   "file_extension": ".py",
   "mimetype": "text/x-python",
   "name": "python",
   "nbconvert_exporter": "python",
   "pygments_lexer": "ipython3",
   "version": "3.10.9"
  }
 },
 "nbformat": 4,
 "nbformat_minor": 4
}
