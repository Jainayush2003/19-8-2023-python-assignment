{
 "cells": [
  {
   "cell_type": "markdown",
   "id": "2d3a0dc0-1680-4da9-90c4-553c8c95c46d",
   "metadata": {},
   "source": [
    "Basic level:"
   ]
  },
  {
   "cell_type": "markdown",
   "id": "89f7664a-7086-41d1-b894-84875687a756",
   "metadata": {},
   "source": [
    "Q1. Write a Python program to print the numbers from 1 to 10 using a `for` loop."
   ]
  },
  {
   "cell_type": "code",
   "execution_count": 1,
   "id": "a31a11c8-db58-4794-992e-c6cba373b5ff",
   "metadata": {},
   "outputs": [
    {
     "name": "stdin",
     "output_type": "stream",
     "text": [
      "Enter the range of counting:  10\n"
     ]
    },
    {
     "name": "stdout",
     "output_type": "stream",
     "text": [
      "1\n",
      "2\n",
      "3\n",
      "4\n",
      "5\n",
      "6\n",
      "7\n",
      "8\n",
      "9\n",
      "10\n"
     ]
    }
   ],
   "source": [
    "# Prompt the user to enter a range, and convert the input to an integer\n",
    "n = int(input(\"Enter the range of counting: \"))\n",
    "\n",
    "# This for loop iterates from 1 to 'n' (inclusive)\n",
    "for i in range(1, n + 1):\n",
    "    # Print the current value of 'i'\n",
    "    print(i)\n"
   ]
  },
  {
   "cell_type": "markdown",
   "id": "76e8da7f-55d8-4dcf-b1a9-72e0e6602900",
   "metadata": {},
   "source": [
    "Q2. Create a program that calculates the sum of all numbers in a list using a `for` loop."
   ]
  },
  {
   "cell_type": "code",
   "execution_count": 2,
   "id": "9bee3aa4-bb29-4203-9cd3-9a12258c8546",
   "metadata": {},
   "outputs": [
    {
     "name": "stdin",
     "output_type": "stream",
     "text": [
      "Enter the numbers you want to sum:  12\n"
     ]
    },
    {
     "name": "stdout",
     "output_type": "stream",
     "text": [
      "78\n"
     ]
    }
   ],
   "source": [
    "# Prompt the user to enter a number and convert it to an integer\n",
    "n = int(input(\"Enter the numbers you want to sum: \"))\n",
    "\n",
    "# Initialize a variable 'sum' to store the sum of numbers\n",
    "sum = 0\n",
    "\n",
    "# Start a loop that goes from 1 to 'n' (inclusive)\n",
    "for i in range(1, n + 1):\n",
    "    # Add the current value of 'i' to the running sum\n",
    "    sum = sum + i\n",
    "\n",
    "# Print the final sum\n",
    "print(sum)\n"
   ]
  },
  {
   "cell_type": "markdown",
   "id": "408545f0-57f8-47b9-a024-c9800b66db7d",
   "metadata": {},
   "source": [
    "Q3. Write a program to print the characters of a string in reverse order using a `for` loop."
   ]
  },
  {
   "cell_type": "code",
   "execution_count": 3,
   "id": "20c68da7-bcb6-4f6c-9645-babe4877481a",
   "metadata": {},
   "outputs": [
    {
     "name": "stdin",
     "output_type": "stream",
     "text": [
      "Enter a string:  aysh\n"
     ]
    },
    {
     "name": "stdout",
     "output_type": "stream",
     "text": [
      "Reversed string: hsya\n"
     ]
    }
   ],
   "source": [
    "# Input a string from the user\n",
    "input_string = input(\"Enter a string: \")\n",
    "\n",
    "# Initialize an empty string to store the reversed string\n",
    "reversed_string = \"\"\n",
    "\n",
    "# Use a for loop to iterate through the input string in reverse order\n",
    "for char in reversed(input_string):\n",
    "    # Add each character to the reversed string\n",
    "    reversed_string += char\n",
    "\n",
    "# Print the reversed string\n",
    "print(\"Reversed string:\", reversed_string)\n"
   ]
  },
  {
   "cell_type": "markdown",
   "id": "fb7ae8e8-2641-4c45-bc7d-09298da0035e",
   "metadata": {},
   "source": [
    "Q4. Develop a program that finds the factorial of a given number using a `for` loop."
   ]
  },
  {
   "cell_type": "code",
   "execution_count": 4,
   "id": "8e5b6249-ca13-4d80-a941-dbef8f472fd7",
   "metadata": {},
   "outputs": [
    {
     "name": "stdin",
     "output_type": "stream",
     "text": [
      "Enter the number for factorial:  12\n"
     ]
    },
    {
     "name": "stdout",
     "output_type": "stream",
     "text": [
      "479001600\n"
     ]
    }
   ],
   "source": [
    "# Prompt the user to enter a number and convert it to an integer\n",
    "n = int(input(\"Enter the number for factorial: \"))\n",
    "\n",
    "# Initialize a variable 'fact' to store the factorial, and set it to 1\n",
    "fact = 1\n",
    "\n",
    "# Start a loop that goes from 1 to 'n' (inclusive)\n",
    "for i in range(1, n + 1):\n",
    "    # Multiply 'fact' by the current value of 'i' and update 'fact'\n",
    "    fact = fact * i\n",
    "\n",
    "# Print the final factorial value\n",
    "print(fact)\n"
   ]
  },
  {
   "cell_type": "markdown",
   "id": "f8feb5c8-4183-4014-a4f8-1d4bb0970ff9",
   "metadata": {},
   "source": [
    "Q5. Create a program to print the multiplication table of a given number using a `for` loop."
   ]
  },
  {
   "cell_type": "code",
   "execution_count": 5,
   "id": "33803fb4-ff94-4618-a22b-8aadcab9e625",
   "metadata": {},
   "outputs": [
    {
     "name": "stdin",
     "output_type": "stream",
     "text": [
      "Enter the table you want:  123\n"
     ]
    },
    {
     "name": "stdout",
     "output_type": "stream",
     "text": [
      "123 * 1 = 123\n",
      "123 * 2 = 246\n",
      "123 * 3 = 369\n",
      "123 * 4 = 492\n",
      "123 * 5 = 615\n",
      "123 * 6 = 738\n",
      "123 * 7 = 861\n",
      "123 * 8 = 984\n",
      "123 * 9 = 1107\n",
      "123 * 10 = 1230\n"
     ]
    }
   ],
   "source": [
    "# Prompt the user to enter a number and convert it to an integer\n",
    "table = int(input(\"Enter the table you want: \"))\n",
    "\n",
    "# Use a for loop to generate and print the multiplication table\n",
    "for i in range(1, 11):\n",
    "    # Calculate the product of 'table' and 'i' and print it in the format \"table * i = result\"\n",
    "    print(table, '*', i, '=', table * i)\n"
   ]
  },
  {
   "cell_type": "markdown",
   "id": "6f028603-cfbc-4a77-bb3f-eb538b3ba269",
   "metadata": {},
   "source": [
    "Q6. Write a program that counts the number of even and odd numbers in a list using a `for` loop."
   ]
  },
  {
   "cell_type": "code",
   "execution_count": 6,
   "id": "e9c9681b-848b-4014-be5d-3cbd90edc8b4",
   "metadata": {},
   "outputs": [
    {
     "name": "stdin",
     "output_type": "stream",
     "text": [
      "Enter the range of numbers:  12\n"
     ]
    },
    {
     "name": "stdout",
     "output_type": "stream",
     "text": [
      "The count of even numbers is: 6\n",
      "The count of odd numbers is: 6\n"
     ]
    }
   ],
   "source": [
    "# Prompt the user to enter a range (maximum number) and convert it to an integer\n",
    "n = int(input(\"Enter the range of numbers: \"))\n",
    "\n",
    "# Initialize counters for even and odd numbers to 0\n",
    "count_even = 0\n",
    "count_odd = 0\n",
    "\n",
    "# Use a for loop to iterate from 1 to 'n' (inclusive)\n",
    "for i in range(1, n + 1):\n",
    "    # Check if 'i' is even (divisible by 2)\n",
    "    if i % 2 == 0:\n",
    "        # If 'i' is even, increment the count of even numbers\n",
    "        count_even += 1\n",
    "    else:\n",
    "        # If 'i' is not even (odd), increment the count of odd numbers\n",
    "        count_odd += 1\n",
    "\n",
    "# Print the counts of even and odd numbers\n",
    "print(\"The count of even numbers is:\", count_even)\n",
    "print(\"The count of odd numbers is:\", count_odd)\n"
   ]
  },
  {
   "cell_type": "markdown",
   "id": "8936c286-8098-419b-9c89-0152045b9cf7",
   "metadata": {},
   "source": [
    "Q7. Develop a program that prints the squares of numbers from 1 to 5 using a `for` loop."
   ]
  },
  {
   "cell_type": "code",
   "execution_count": 7,
   "id": "12fd4678-5cec-4445-b8b7-d5a6f72d27a2",
   "metadata": {},
   "outputs": [
    {
     "name": "stdin",
     "output_type": "stream",
     "text": [
      "Enter the range of numbers:  7\n"
     ]
    },
    {
     "name": "stdout",
     "output_type": "stream",
     "text": [
      "1 ** 2 = 1\n",
      "2 ** 2 = 4\n",
      "3 ** 2 = 9\n",
      "4 ** 2 = 16\n",
      "5 ** 2 = 25\n",
      "6 ** 2 = 36\n",
      "7 ** 2 = 49\n"
     ]
    }
   ],
   "source": [
    "# Prompt the user to enter a range (maximum number) and convert it to an integer\n",
    "n = int(input(\"Enter the range of numbers: \"))\n",
    "\n",
    "# Use a for loop to iterate from 1 to 'n' (inclusive)\n",
    "for i in range(1, n + 1):\n",
    "    # Calculate and print the square of each number in the format \"number ** 2 = result\"\n",
    "    print(i, '**', 2, '=', i ** 2)\n"
   ]
  },
  {
   "cell_type": "markdown",
   "id": "c052d680-5d55-4c46-80f0-d6aff4c06bba",
   "metadata": {},
   "source": [
    "Q8. Create a program to find the length of a string without using the `len()` function."
   ]
  },
  {
   "cell_type": "code",
   "execution_count": 8,
   "id": "079d31a7-3de6-48fa-bf70-747027c847fb",
   "metadata": {},
   "outputs": [
    {
     "name": "stdin",
     "output_type": "stream",
     "text": [
      "Enter any string:  pwskills\n"
     ]
    },
    {
     "name": "stdout",
     "output_type": "stream",
     "text": [
      "The length of the string is: 8\n"
     ]
    }
   ],
   "source": [
    "# Prompt the user to enter a string and store it in the variable 'stri'\n",
    "stri = input(\"Enter any string: \")\n",
    "\n",
    "# Initialize a counter 'count' to 0 to keep track of the string's length\n",
    "count = 0\n",
    "\n",
    "# Use a for loop to iterate through each character in the string\n",
    "for _ in stri:\n",
    "    # For each character, increment the 'count' by 1\n",
    "    count += 1\n",
    "\n",
    "# Print the length of the string\n",
    "print(\"The length of the string is:\", count)\n"
   ]
  },
  {
   "cell_type": "markdown",
   "id": "0bd99aaf-185e-4712-ae3d-286d232a2b77",
   "metadata": {},
   "source": [
    "Q9. Write a program that calculates the average of a list of numbers using a `for` loop."
   ]
  },
  {
   "cell_type": "code",
   "execution_count": 9,
   "id": "4c3c26c0-4385-46b6-88c9-d21652e67094",
   "metadata": {},
   "outputs": [
    {
     "name": "stdout",
     "output_type": "stream",
     "text": [
      "46.5\n"
     ]
    }
   ],
   "source": [
    "# Define a list of numbers\n",
    "lis = [18, 90, 88, 18, 56, 9]\n",
    "\n",
    "# Find the length of the list\n",
    "length_of_list = len(lis)\n",
    "\n",
    "# Initialize a variable 'sum' to keep track of the sum of numbers in the list\n",
    "sum = 0\n",
    "\n",
    "# Use a for loop to iterate through each number in the list\n",
    "for i in lis:\n",
    "    # Add the current number 'i' to the running sum\n",
    "    sum += i\n",
    "\n",
    "# Calculate the average by dividing the sum by the length of the list\n",
    "average = sum / length_of_list\n",
    "\n",
    "# Print the calculated average\n",
    "print(average)\n"
   ]
  },
  {
   "cell_type": "markdown",
   "id": "3dbdcdd9-7a31-4188-ab45-cfd25cc8c2ed",
   "metadata": {},
   "source": [
    "Q10. Develop a program that prints the first `n` Fibonacci numbers using a `for` loop."
   ]
  },
  {
   "cell_type": "code",
   "execution_count": 10,
   "id": "3976beff-fc4f-4758-92e1-956046cdc362",
   "metadata": {},
   "outputs": [
    {
     "name": "stdin",
     "output_type": "stream",
     "text": [
      "Enter the number of Fibonacci numbers you want:  10\n"
     ]
    },
    {
     "name": "stdout",
     "output_type": "stream",
     "text": [
      "[0, 1, 1, 2, 3, 5, 8, 13, 21, 34, 55]\n"
     ]
    }
   ],
   "source": [
    "# Prompt the user to enter the number of Fibonacci numbers they want\n",
    "n = int(input(\"Enter the number of Fibonacci numbers you want: \"))\n",
    "\n",
    "# Initialize a list 'first_fib' with the first two Fibonacci numbers\n",
    "first_fib = [0, 1]\n",
    "\n",
    "# Use a for loop to generate the remaining Fibonacci numbers\n",
    "for i in range(2, n + 1):\n",
    "    # Calculate the next Fibonacci number by adding the last two numbers\n",
    "    next_fib = first_fib[i - 1] + first_fib[i - 2]\n",
    "    \n",
    "    # Append the next Fibonacci number to the 'first_fib' list\n",
    "    first_fib.append(next_fib)\n",
    "\n",
    "# Print the list of Fibonacci numbers\n",
    "print(first_fib)\n"
   ]
  },
  {
   "cell_type": "markdown",
   "id": "bae5d681-472a-4622-85b1-363b4662322d",
   "metadata": {},
   "source": [
    "Intermediate Level:-"
   ]
  },
  {
   "cell_type": "markdown",
   "id": "bf5a38f9-2a0c-47b0-a190-8fbff3e43520",
   "metadata": {},
   "source": [
    "Q11. Write a program to check if a given list contains any duplicates using a `for` loop."
   ]
  },
  {
   "cell_type": "code",
   "execution_count": 12,
   "id": "d3b465d0-71c7-4d92-a6e1-a8d1219f911d",
   "metadata": {},
   "outputs": [
    {
     "name": "stdin",
     "output_type": "stream",
     "text": [
      "Enter a list of elements separated by spaces:  1 2 3 3 4 5 6 7\n"
     ]
    },
    {
     "name": "stdout",
     "output_type": "stream",
     "text": [
      "The list contains duplicates.\n"
     ]
    }
   ],
   "source": [
    "# Input a list from the user\n",
    "input_list = input(\"Enter a list of elements separated by spaces: \").split()\n",
    "\n",
    "# Convert the input elements to integers (assuming integers are expected)\n",
    "input_list = [int(item) for item in input_list]\n",
    "\n",
    "# Initialize an empty list to store unique elements\n",
    "unique_elements = []\n",
    "\n",
    "# Initialize a flag to indicate if duplicates are found\n",
    "has_duplicates = False\n",
    "\n",
    "# Use a for loop to iterate through the input list\n",
    "for item in input_list:\n",
    "    # If the current item is already in the unique_elements list, it's a duplicate\n",
    "    if item in unique_elements:\n",
    "        has_duplicates = True\n",
    "        break  # Break the loop if a duplicate is found\n",
    "    else:\n",
    "        unique_elements.append(item)  # Add the item to the unique_elements list\n",
    "\n",
    "# Check the flag and print the result\n",
    "if has_duplicates:\n",
    "    print(\"The list contains duplicates.\")\n",
    "else:\n",
    "    print(\"The list does not contain duplicates.\")\n"
   ]
  },
  {
   "cell_type": "markdown",
   "id": "480ae64d-3d80-4b9f-8f0c-ccf664e8aa2c",
   "metadata": {},
   "source": [
    "Q12. Create a program that prints the prime numbers in a given range using a `for` loop."
   ]
  },
  {
   "cell_type": "code",
   "execution_count": 13,
   "id": "dd4e06c2-71b3-4450-9496-8706777e1d1f",
   "metadata": {},
   "outputs": [
    {
     "name": "stdin",
     "output_type": "stream",
     "text": [
      "Enter the range of the prime numbers you want:  15\n"
     ]
    },
    {
     "name": "stdout",
     "output_type": "stream",
     "text": [
      "2\n",
      "3\n",
      "5\n",
      "7\n",
      "11\n",
      "13\n"
     ]
    }
   ],
   "source": [
    "# Get the range of prime numbers you want from the user\n",
    "n = int(input(\"Enter the range of the prime numbers you want: \"))\n",
    "\n",
    "# Loop through numbers from 2 to the specified range (inclusive)\n",
    "for i in range(2, n + 1):\n",
    "    # For each number 'i', check its divisibility by numbers from 2 to 'i-1'\n",
    "    for j in range(2, i):\n",
    "        # If 'i' is divisible by 'j' without a remainder, it's not prime, so break the loop\n",
    "        if i % j == 0:\n",
    "            break\n",
    "    else:\n",
    "        # If 'i' is not divisible by any 'j' without a remainder, it's prime, so print it\n",
    "        print(i)\n"
   ]
  },
  {
   "cell_type": "markdown",
   "id": "e5115bbc-424e-4a68-bef6-7c23e4d5b04f",
   "metadata": {},
   "source": [
    "Q13. Develop a program that counts the number of vowels in a string using a `for` loop."
   ]
  },
  {
   "cell_type": "code",
   "execution_count": 14,
   "id": "23d12339-fb00-48e5-bf5b-28d8f89b7fd3",
   "metadata": {},
   "outputs": [
    {
     "name": "stdin",
     "output_type": "stream",
     "text": [
      "Enter any string:  pwskills\n"
     ]
    },
    {
     "name": "stdout",
     "output_type": "stream",
     "text": [
      "The count of vowels in the string is: 1\n"
     ]
    }
   ],
   "source": [
    "# Get a string input from the user\n",
    "inp_str = input(\"Enter any string: \")\n",
    "\n",
    "# Define a string containing all the vowels (both lowercase and uppercase)\n",
    "vowels = 'aeiouAEIOU'\n",
    "\n",
    "# Initialize a counter to keep track of the count of vowels in the string\n",
    "counter = 0\n",
    "\n",
    "# Iterate through each character in the input string\n",
    "for char in inp_str:\n",
    "    # Check if the current character 'char' is in the 'vowels' string\n",
    "    if char in vowels:\n",
    "        # If 'char' is a vowel, increment the counter\n",
    "        counter += 1\n",
    "\n",
    "# Print the count of vowels found in the string\n",
    "print(\"The count of vowels in the string is:\", counter)"
   ]
  },
  {
   "cell_type": "markdown",
   "id": "49c31c13-259e-4ed6-b165-fcac18f36f42",
   "metadata": {},
   "source": [
    "Q14. Write a program to find the maximum element in a 2D list using a nested `for` loop."
   ]
  },
  {
   "cell_type": "code",
   "execution_count": 15,
   "id": "66e1bd26-41dc-4e87-9561-c861227abb39",
   "metadata": {},
   "outputs": [
    {
     "name": "stdout",
     "output_type": "stream",
     "text": [
      "The maximum element in the 2D list is: 6488757\n"
     ]
    }
   ],
   "source": [
    "# Given 2D list\n",
    "matrix = [[134,6488757,123,546,789]]\n",
    "\n",
    "# Initialize the maximum element with the first element of the list.\n",
    "max_element = matrix[0][0]\n",
    "\n",
    "# Use nested for loops to find the maximum element in the 2D list.\n",
    "for row in matrix:\n",
    "    for element in row:\n",
    "        if element > max_element:\n",
    "            max_element = element\n",
    "\n",
    "# Display the maximum element.\n",
    "print(f\"The maximum element in the 2D list is: {max_element}\")\n"
   ]
  },
  {
   "cell_type": "markdown",
   "id": "9919372d-af39-48df-b0be-75e3beb61bdf",
   "metadata": {},
   "source": [
    "Q15. Create a program that removes all occurrences of a specific element from a list using a `for` loop."
   ]
  },
  {
   "cell_type": "code",
   "execution_count": 16,
   "id": "1b16f5db-a596-4b0d-bed3-15aef1697dd0",
   "metadata": {},
   "outputs": [
    {
     "name": "stdin",
     "output_type": "stream",
     "text": [
      "Enter the elements of the list separated by space:  1 2 3 4 5 6 78 8 9 10\n",
      "Enter the element you want to remove:  78\n"
     ]
    },
    {
     "name": "stdout",
     "output_type": "stream",
     "text": [
      "[1, 2, 3, 4, 5, 6, 8, 9, 10]\n"
     ]
    }
   ],
   "source": [
    "# Get a string of space-separated elements from the user and split it into a list\n",
    "inp_lis = input(\"Enter the elements of the list separated by space: \").split()\n",
    "\n",
    "# Convert the elements to integers and store them in inp_lis\n",
    "inp_lis = [int(i) for i in inp_lis]\n",
    "\n",
    "# Initialize an empty list to store the updated elements\n",
    "updated_lis = []\n",
    "\n",
    "# Get the element the user wants to remove\n",
    "element_to_remove = int(input(\"Enter the element you want to remove: \"))\n",
    "\n",
    "# Iterate through each element in the inp_lis\n",
    "for element in inp_lis:\n",
    "    # Check if the current element is equal to the element_to_remove\n",
    "    if element != element_to_remove:\n",
    "        # If not equal, add it to the updated_lis\n",
    "        updated_lis.append(element)\n",
    "\n",
    "# Print the updated list without the specified element\n",
    "print(updated_lis)\n"
   ]
  },
  {
   "cell_type": "markdown",
   "id": "bf891de3-5a34-4674-8b40-b611e4633956",
   "metadata": {},
   "source": [
    "Q.16 Develop a program that generates a multiplication table for numbers from 1 to 5 using a nested `for` loop."
   ]
  },
  {
   "cell_type": "code",
   "execution_count": 17,
   "id": "eacfbe1c-0e94-40ad-98bb-11a5cf22ec63",
   "metadata": {},
   "outputs": [
    {
     "name": "stdin",
     "output_type": "stream",
     "text": [
      "Enter the tables you want:  12\n"
     ]
    },
    {
     "name": "stdout",
     "output_type": "stream",
     "text": [
      "Table of 1:\n",
      "1 * 1 = 1\n",
      "1 * 2 = 2\n",
      "1 * 3 = 3\n",
      "1 * 4 = 4\n",
      "1 * 5 = 5\n",
      "1 * 6 = 6\n",
      "1 * 7 = 7\n",
      "1 * 8 = 8\n",
      "1 * 9 = 9\n",
      "1 * 10 = 10\n",
      "Table of 2:\n",
      "2 * 1 = 2\n",
      "2 * 2 = 4\n",
      "2 * 3 = 6\n",
      "2 * 4 = 8\n",
      "2 * 5 = 10\n",
      "2 * 6 = 12\n",
      "2 * 7 = 14\n",
      "2 * 8 = 16\n",
      "2 * 9 = 18\n",
      "2 * 10 = 20\n",
      "Table of 3:\n",
      "3 * 1 = 3\n",
      "3 * 2 = 6\n",
      "3 * 3 = 9\n",
      "3 * 4 = 12\n",
      "3 * 5 = 15\n",
      "3 * 6 = 18\n",
      "3 * 7 = 21\n",
      "3 * 8 = 24\n",
      "3 * 9 = 27\n",
      "3 * 10 = 30\n",
      "Table of 4:\n",
      "4 * 1 = 4\n",
      "4 * 2 = 8\n",
      "4 * 3 = 12\n",
      "4 * 4 = 16\n",
      "4 * 5 = 20\n",
      "4 * 6 = 24\n",
      "4 * 7 = 28\n",
      "4 * 8 = 32\n",
      "4 * 9 = 36\n",
      "4 * 10 = 40\n",
      "Table of 5:\n",
      "5 * 1 = 5\n",
      "5 * 2 = 10\n",
      "5 * 3 = 15\n",
      "5 * 4 = 20\n",
      "5 * 5 = 25\n",
      "5 * 6 = 30\n",
      "5 * 7 = 35\n",
      "5 * 8 = 40\n",
      "5 * 9 = 45\n",
      "5 * 10 = 50\n",
      "Table of 6:\n",
      "6 * 1 = 6\n",
      "6 * 2 = 12\n",
      "6 * 3 = 18\n",
      "6 * 4 = 24\n",
      "6 * 5 = 30\n",
      "6 * 6 = 36\n",
      "6 * 7 = 42\n",
      "6 * 8 = 48\n",
      "6 * 9 = 54\n",
      "6 * 10 = 60\n",
      "Table of 7:\n",
      "7 * 1 = 7\n",
      "7 * 2 = 14\n",
      "7 * 3 = 21\n",
      "7 * 4 = 28\n",
      "7 * 5 = 35\n",
      "7 * 6 = 42\n",
      "7 * 7 = 49\n",
      "7 * 8 = 56\n",
      "7 * 9 = 63\n",
      "7 * 10 = 70\n",
      "Table of 8:\n",
      "8 * 1 = 8\n",
      "8 * 2 = 16\n",
      "8 * 3 = 24\n",
      "8 * 4 = 32\n",
      "8 * 5 = 40\n",
      "8 * 6 = 48\n",
      "8 * 7 = 56\n",
      "8 * 8 = 64\n",
      "8 * 9 = 72\n",
      "8 * 10 = 80\n",
      "Table of 9:\n",
      "9 * 1 = 9\n",
      "9 * 2 = 18\n",
      "9 * 3 = 27\n",
      "9 * 4 = 36\n",
      "9 * 5 = 45\n",
      "9 * 6 = 54\n",
      "9 * 7 = 63\n",
      "9 * 8 = 72\n",
      "9 * 9 = 81\n",
      "9 * 10 = 90\n",
      "Table of 10:\n",
      "10 * 1 = 10\n",
      "10 * 2 = 20\n",
      "10 * 3 = 30\n",
      "10 * 4 = 40\n",
      "10 * 5 = 50\n",
      "10 * 6 = 60\n",
      "10 * 7 = 70\n",
      "10 * 8 = 80\n",
      "10 * 9 = 90\n",
      "10 * 10 = 100\n",
      "Table of 11:\n",
      "11 * 1 = 11\n",
      "11 * 2 = 22\n",
      "11 * 3 = 33\n",
      "11 * 4 = 44\n",
      "11 * 5 = 55\n",
      "11 * 6 = 66\n",
      "11 * 7 = 77\n",
      "11 * 8 = 88\n",
      "11 * 9 = 99\n",
      "11 * 10 = 110\n",
      "Table of 12:\n",
      "12 * 1 = 12\n",
      "12 * 2 = 24\n",
      "12 * 3 = 36\n",
      "12 * 4 = 48\n",
      "12 * 5 = 60\n",
      "12 * 6 = 72\n",
      "12 * 7 = 84\n",
      "12 * 8 = 96\n",
      "12 * 9 = 108\n",
      "12 * 10 = 120\n"
     ]
    }
   ],
   "source": [
    "# Get the number of tables the user wants to print from the user\n",
    "tbls = int(input(\"Enter the tables you want: \"))\n",
    "\n",
    "# Outer loop: Iterate through each table from 1 to the specified number\n",
    "for i in range(1, tbls + 1):\n",
    "    # Print a header indicating the current table\n",
    "    print(f\"Table of {i}:\")\n",
    "\n",
    "    # Inner loop: Iterate through numbers from 1 to 10 for multiplication\n",
    "    for j in range(1, 11):\n",
    "        # Print the multiplication expression and result\n",
    "        print(i, '*', j, '=', i * j)\n"
   ]
  },
  {
   "cell_type": "markdown",
   "id": "b91c9839-0cbf-477f-9f3a-a325d9652100",
   "metadata": {},
   "source": [
    "Q17. Write a program that converts a list of Fahrenheit temperatures to Celsius using a `for` loop."
   ]
  },
  {
   "cell_type": "code",
   "execution_count": 18,
   "id": "521a8079-ecb9-4347-aace-117cb30b5e54",
   "metadata": {},
   "outputs": [
    {
     "name": "stdout",
     "output_type": "stream",
     "text": [
      "Fahrenheit temperature list: [107.3, 100.9, 102, 97.9, 84.6, 77.6, 65.3]\n",
      "Celsius temperature list: [41.83, 38.28, 38.89, 36.61, 29.22, 25.33, 18.5]\n"
     ]
    }
   ],
   "source": [
    "# Define a list of temperatures in Fahrenheit\n",
    "farh_lis = [107.3, 100.9, 102, 97.9, 84.6, 77.6, 65.3]\n",
    "\n",
    "# Create an empty list to store the temperatures converted to Celsius\n",
    "cel_lis = []\n",
    "\n",
    "# Loop through each temperature in the farh_lis\n",
    "for temp in farh_lis:\n",
    "    # Convert each Fahrenheit temperature to Celsius using the formula: (Fahrenheit - 32) * (5/9)\n",
    "    celsius_temp = (temp - 32) * (5/9)\n",
    "    \n",
    "    # Append the converted Celsius temperature to the cel_lis\n",
    "    cel_lis.append(celsius_temp)\n",
    "\n",
    "# Use a list comprehension to round each element in cel_lis to 2 decimal places\n",
    "cel_lis = [round(num, 2) for num in cel_lis]\n",
    "\n",
    "# Print the original Fahrenheit temperature list\n",
    "print(\"Fahrenheit temperature list:\", farh_lis)\n",
    "\n",
    "# Print the converted Celsius temperature list\n",
    "print(\"Celsius temperature list:\", cel_lis)\n"
   ]
  },
  {
   "cell_type": "markdown",
   "id": "89c87be8-03d4-4f6b-902f-92700238fed4",
   "metadata": {},
   "source": [
    "Q18. 18. Create a program to print the common elements from two lists using a `for` loop."
   ]
  },
  {
   "cell_type": "code",
   "execution_count": 19,
   "id": "2959b8d5-6d6e-4c28-8ef0-81722347f988",
   "metadata": {},
   "outputs": [
    {
     "name": "stdout",
     "output_type": "stream",
     "text": [
      "The common elements between both lists are: [6, 7, 8, 9, 10]\n"
     ]
    }
   ],
   "source": [
    "# Define two lists\n",
    "lis1 = [1, 2, 3, 4, 5, 6, 7, 8, 9, 10]\n",
    "lis2 = [6, 7, 8, 9, 10, 11, 12]\n",
    "\n",
    "# Initialize an empty list to store the common elements\n",
    "common_elements = []\n",
    "\n",
    "# Loop through elements in lis1\n",
    "for element1 in lis1:\n",
    "    # Loop through elements in lis2\n",
    "    for element2 in lis2:\n",
    "        # Check if the current element from lis1 is equal to the current element from lis2\n",
    "        if element1 == element2:\n",
    "            # If they are equal and not already in the common_elements list, add them\n",
    "            if element1 not in common_elements:\n",
    "                common_elements.append(element1)\n",
    "\n",
    "# Print the common elements between lis1 and lis2\n",
    "print(\"The common elements between both lists are:\", common_elements)\n"
   ]
  },
  {
   "cell_type": "markdown",
   "id": "3cede808-c5eb-4cf2-a0e7-ede0f39eb387",
   "metadata": {},
   "source": [
    "Q19. Develop a program that prints the pattern of right-angled triangles using a `for` loop. Use ‘*’ to draw the\n",
    "pattern"
   ]
  },
  {
   "cell_type": "code",
   "execution_count": 20,
   "id": "4f0485e2-b784-4fa6-b847-3186734cc2ce",
   "metadata": {},
   "outputs": [
    {
     "name": "stdin",
     "output_type": "stream",
     "text": [
      "Enter the number of rows for the right-angled triangle:  17\n"
     ]
    },
    {
     "name": "stdout",
     "output_type": "stream",
     "text": [
      "* \n",
      "* * \n",
      "* * * \n",
      "* * * * \n",
      "* * * * * \n",
      "* * * * * * \n",
      "* * * * * * * \n",
      "* * * * * * * * \n",
      "* * * * * * * * * \n",
      "* * * * * * * * * * \n",
      "* * * * * * * * * * * \n",
      "* * * * * * * * * * * * \n",
      "* * * * * * * * * * * * * \n",
      "* * * * * * * * * * * * * * \n",
      "* * * * * * * * * * * * * * * \n",
      "* * * * * * * * * * * * * * * * \n",
      "* * * * * * * * * * * * * * * * * \n"
     ]
    }
   ],
   "source": [
    "# Define the number of rows for the triangle\n",
    "n = int(input(\"Enter the number of rows for the right-angled triangle: \"))\n",
    "\n",
    "# Outer loop: Iterate through each row\n",
    "for i in range(1, n + 1):\n",
    "    # Inner loop: Print asterisks (*) for each column in the current row\n",
    "    for j in range(i):\n",
    "        print(\"*\", end=\" \")  # Use end=\" \" to print asterisks on the same line\n",
    "    print()  # Move to the next line after printing each row\n"
   ]
  },
  {
   "cell_type": "markdown",
   "id": "7a61f858-1344-4a69-bba5-635c8dcecdfd",
   "metadata": {},
   "source": [
    "Q20. Write a program to find the greatest common divisor (GCD) of two numbers using a `for` loop."
   ]
  },
  {
   "cell_type": "code",
   "execution_count": 21,
   "id": "85ef448c-f122-4310-8c49-e4a9fe6472dc",
   "metadata": {},
   "outputs": [
    {
     "name": "stdin",
     "output_type": "stream",
     "text": [
      "Enter the first number:  123 \n",
      "Enter the second number:  234\n"
     ]
    },
    {
     "name": "stdout",
     "output_type": "stream",
     "text": [
      "The GCD of 123 and 234 is 3\n"
     ]
    }
   ],
   "source": [
    "# Function to find the GCD of two numbers using a for loop\n",
    "def gcd(num1, num2):\n",
    "    # Find the smaller of the two numbers\n",
    "    if num1 < num2:\n",
    "        smaller = num1\n",
    "    else:\n",
    "        smaller = num2\n",
    "\n",
    "    # Initialize a variable to store the GCD\n",
    "    gcd_result = 1\n",
    "\n",
    "    # Iterate from 1 to the smaller number\n",
    "    for i in range(1, smaller + 1):\n",
    "        # Check if both numbers are divisible by the current value of i\n",
    "        if num1 % i == 0 and num2 % i == 0:\n",
    "            gcd_result = i  # Update the GCD if both are divisible\n",
    "\n",
    "    return gcd_result\n",
    "\n",
    "# Get input from the user for the two numbers\n",
    "num1 = int(input(\"Enter the first number: \"))\n",
    "num2 = int(input(\"Enter the second number: \"))\n",
    "\n",
    "# Calculate the GCD using the gcd() function\n",
    "result = gcd(num1, num2)\n",
    "\n",
    "# Print the GCD\n",
    "print(f\"The GCD of {num1} and {num2} is {result}\")\n"
   ]
  },
  {
   "cell_type": "markdown",
   "id": "e5c5b171-d422-4660-b5a0-5f4318093a53",
   "metadata": {},
   "source": [
    "Advanced level:- "
   ]
  },
  {
   "cell_type": "markdown",
   "id": "ba2051b0-2126-42c2-bb54-637d97860085",
   "metadata": {},
   "source": [
    "Q21. Create a program that calculates the sum of the digits of numbers in a list using a list comprehension."
   ]
  },
  {
   "cell_type": "code",
   "execution_count": 3,
   "id": "01835952-0e91-44ee-b1d8-3932790acb06",
   "metadata": {},
   "outputs": [
    {
     "name": "stdin",
     "output_type": "stream",
     "text": [
      "Enter the elements of the list separated by space:  123 345 678 909\n"
     ]
    },
    {
     "name": "stdout",
     "output_type": "stream",
     "text": [
      "The list having the sum of the digits are: [6, 12, 21, 18]\n"
     ]
    }
   ],
   "source": [
    "# Define a function called sum_digit that takes a list of numbers as input.\n",
    "def sum_digit(numbers_list):\n",
    "    # Create a new list called sum_of_digit using a list comprehension.\n",
    "    # For each number in numbers_list, do the following:\n",
    "    #   - Convert the number to a string using str(number).\n",
    "    #   - Iterate through the digits in the string representation.\n",
    "    #   - Convert each digit back to an integer using int(digit).\n",
    "    #   - Calculate the sum of these digits using the sum() function.\n",
    "    sum_of_digit = [sum(int(digit) for digit in str(number)) for number in numbers_list]\n",
    "    \n",
    "    # Return the list of sums.\n",
    "    return sum_of_digit\n",
    "\n",
    "# Ask the user to input a list of numbers separated by spaces and split them into a list.\n",
    "input_str = input(\"Enter the elements of the list separated by space: \")\n",
    "input_list = input_str.split()\n",
    "\n",
    "# Convert the elements in the input list from strings to integers.\n",
    "input_list = [int(i) for i in input_list]\n",
    "\n",
    "# Call the sum_digit function with the input list and store the result in 'result'.\n",
    "result = sum_digit(input_list)\n",
    "\n",
    "# Print the list of sums obtained from the function.\n",
    "print(\"The list having the sum of the digits are:\", result)\n"
   ]
  },
  {
   "cell_type": "markdown",
   "id": "0e84c476-c3a5-4fbe-83bc-b89d9676bc06",
   "metadata": {},
   "source": [
    "Q22. Write a program to find the prime factors of a given number using a `for` loop and list comprehension."
   ]
  },
  {
   "cell_type": "code",
   "execution_count": 4,
   "id": "5b7e9f3c-0efd-4436-8684-a05d195371b6",
   "metadata": {},
   "outputs": [
    {
     "name": "stdin",
     "output_type": "stream",
     "text": [
      "Enter a number:  123\n"
     ]
    },
    {
     "name": "stdout",
     "output_type": "stream",
     "text": [
      "Prime factors of 123 are: [3, 41]\n"
     ]
    }
   ],
   "source": [
    "# Define a function to find the prime factors of a number.\n",
    "def prime_factors(n):\n",
    "    factors = []  # Create an empty list to store the prime factors.\n",
    "    \n",
    "    # Check for the factor 2 repeatedly until n is odd.\n",
    "    while n % 2 == 0:\n",
    "        factors.append(2)  # Add 2 as a prime factor.\n",
    "        n //= 2  # Divide n by 2 to make it odd.\n",
    "\n",
    "    # Check for other odd prime factors up to the square root of n.\n",
    "    for i in range(3, int(n**0.5) + 1, 2):\n",
    "        while n % i == 0:\n",
    "            factors.append(i)  # Add the prime factor i.\n",
    "            n //= i  # Divide n by i to reduce it.\n",
    "\n",
    "    # If n is a prime number greater than 2, add it as a prime factor.\n",
    "    if n > 2:\n",
    "        factors.append(n)\n",
    "\n",
    "    return factors\n",
    "\n",
    "# Input: Get a number from the user.\n",
    "number = int(input(\"Enter a number: \"))\n",
    "\n",
    "# Find prime factors using the prime_factors function.\n",
    "factors = prime_factors(number)\n",
    "\n",
    "# Display the prime factors of the input number.\n",
    "print(f\"Prime factors of {number} are: {factors}\")\n"
   ]
  },
  {
   "cell_type": "markdown",
   "id": "deb85dda-1cdc-4a85-93d2-3a64fc1010b1",
   "metadata": {},
   "source": [
    "Q23.  Develop a program that extracts unique elements from a list and stores them in a new list using a list comprehension."
   ]
  },
  {
   "cell_type": "code",
   "execution_count": 6,
   "id": "cb04ae48-d4e2-4fb5-9bef-e290db6b3efc",
   "metadata": {},
   "outputs": [
    {
     "name": "stdin",
     "output_type": "stream",
     "text": [
      "Enter the elements of the list seperated by commas:-  1 2 2 3 3 4 5 8\n"
     ]
    },
    {
     "name": "stdout",
     "output_type": "stream",
     "text": [
      "Unique elements: [1, 2, 3, 4, 5, 8]\n"
     ]
    }
   ],
   "source": [
    "def extract_unique_elements(input_list):\n",
    "    unique_elements = [x for i, x in enumerate(input_list) if x not in input_list[:i]]\n",
    "    return unique_elements\n",
    "\n",
    "# Input list with duplicate elements\n",
    "input_list = input(\"Enter the elements of the list seperated by commas:- \").split()\n",
    "input_list=[int(i) for i in input_list]\n",
    "\n",
    "# Call the function to extract unique elements\n",
    "unique_elements = extract_unique_elements(input_list)\n",
    "\n",
    "# Print the list of unique elements\n",
    "print(\"Unique elements:\", unique_elements)\n"
   ]
  },
  {
   "cell_type": "markdown",
   "id": "3e91defa-e25e-4cf1-898a-4d29b7a9665a",
   "metadata": {},
   "source": [
    "Q24. Create a program that generates a list of all palindromic numbers up to a specified limit using a list\n",
    "comprehension."
   ]
  },
  {
   "cell_type": "code",
   "execution_count": 7,
   "id": "4ea095a3-b4bb-4655-a6bb-f3f391e4f53a",
   "metadata": {},
   "outputs": [
    {
     "name": "stdin",
     "output_type": "stream",
     "text": [
      "Enter the range for checking palindrome numbers:  90\n"
     ]
    },
    {
     "name": "stdout",
     "output_type": "stream",
     "text": [
      "Palindrome numbers list up to 90 is: [0, 1, 2, 3, 4, 5, 6, 7, 8, 9, 11, 22, 33, 44, 55, 66, 77, 88]\n"
     ]
    }
   ],
   "source": [
    "# Function to check if a number is a palindrome\n",
    "def is_palindrome(number):\n",
    "    # Convert the number to a string and check if it's equal to its reverse.\n",
    "    return str(number) == str(number)[::-1]\n",
    "\n",
    "# Get the range limit from the user\n",
    "n = int(input(\"Enter the range for checking palindrome numbers: \"))\n",
    "\n",
    "# Use a list comprehension to generate a list of palindrome numbers\n",
    "palindrome_list = [x for x in range(n + 1) if is_palindrome(x)]\n",
    "\n",
    "# Print the list of palindrome numbers up to the specified range\n",
    "print(f\"Palindrome numbers list up to {n} is: {palindrome_list}\")\n"
   ]
  },
  {
   "cell_type": "markdown",
   "id": "c6c9c96b-8ba9-427f-8cee-92f740deb915",
   "metadata": {},
   "source": [
    "Q25. Write a program to flatten a nested list using list comprehension."
   ]
  },
  {
   "cell_type": "code",
   "execution_count": 9,
   "id": "5d0e6dbd-a313-4e84-8432-3cbb3be8d1a8",
   "metadata": {},
   "outputs": [
    {
     "name": "stdout",
     "output_type": "stream",
     "text": [
      "The flattened list: [1, 2, 3, 4, 5, 6, 7, 8, 9]\n"
     ]
    }
   ],
   "source": [
    "# Define a function to flatten a nested list\n",
    "def nested_to_flat(nes_lis):\n",
    "    # Use a list comprehension to flatten the nested list\n",
    "    flat_list = [element for sublist in nes_lis for element in sublist]\n",
    "    return flat_list\n",
    "\n",
    "# Nested list\n",
    "lis = [[1, 2, 3], [4, 5, 6], [7, 8, 9]]\n",
    "\n",
    "# Call the function to flatten the nested list\n",
    "result = nested_to_flat(lis)\n",
    "\n",
    "# Print the flattened list\n",
    "print(\"The flattened list:\", result)\n"
   ]
  },
  {
   "cell_type": "markdown",
   "id": "73384d6b-b33a-4a28-9de2-2e9e5c49b3f3",
   "metadata": {},
   "source": [
    "Q26. Develop a program that computes the sum of even and odd numbers in a list separately using list comprehension."
   ]
  },
  {
   "cell_type": "code",
   "execution_count": 10,
   "id": "652dc28d-a26c-4e4a-9ddb-05b550dd596a",
   "metadata": {},
   "outputs": [
    {
     "name": "stdout",
     "output_type": "stream",
     "text": [
      "The sum of the even numbers in the list is: 2320\n",
      "The sum of the odd numbers in the list is: 2276\n"
     ]
    }
   ],
   "source": [
    "# List of numbers\n",
    "lis = [121, 645, 242, 98, 142, 733, 734, 102, 1002, 777]\n",
    "\n",
    "# Use list comprehensions to compute the sum of even and odd numbers separately\n",
    "sum_even = sum([i for i in lis if i % 2 == 0])  # Calculate sum of even numbers\n",
    "sum_odd = sum([i for i in lis if i % 2 != 0])   # Calculate sum of odd numbers\n",
    "\n",
    "# Print the sums\n",
    "print(\"The sum of the even numbers in the list is:\", sum_even)\n",
    "print(\"The sum of the odd numbers in the list is:\", sum_odd)\n"
   ]
  },
  {
   "cell_type": "markdown",
   "id": "bef32811-f31f-4ada-9120-b0e8aa2520a5",
   "metadata": {},
   "source": [
    "Q27. Create a program that generates a list of squares of odd numbers between 1 and 10 using list comprehension."
   ]
  },
  {
   "cell_type": "code",
   "execution_count": 11,
   "id": "38553e93-8a63-45eb-b790-a6564844787a",
   "metadata": {},
   "outputs": [
    {
     "name": "stdin",
     "output_type": "stream",
     "text": [
      "Enter the range:  12\n"
     ]
    },
    {
     "name": "stdout",
     "output_type": "stream",
     "text": [
      "List of the squares of odd numbers is: [1, 9, 25, 49, 81, 121]\n"
     ]
    }
   ],
   "source": [
    "# Define a function to generate a list of squares of odd numbers up to 'n'\n",
    "def odd_squares(n):\n",
    "    # Use a list comprehension to create a list of squares of odd numbers\n",
    "    odd_sq_list = [i**2 for i in range(n + 1) if i % 2 != 0]\n",
    "    return odd_sq_list\n",
    "\n",
    "# Get the range 'n' from the user\n",
    "n = int(input(\"Enter the range: \"))\n",
    "\n",
    "# Call the 'odd_squares' function to generate the list of squares of odd numbers\n",
    "result = odd_squares(n)\n",
    "\n",
    "# Print the list of squares of odd numbers\n",
    "print(\"List of the squares of odd numbers is:\", result)\n"
   ]
  },
  {
   "cell_type": "markdown",
   "id": "2ce6f9c4-f058-4cf5-b2a3-f59deadccb0c",
   "metadata": {},
   "source": [
    "Q28. Write a program that combines two lists into a dictionary using list comprehension."
   ]
  },
  {
   "cell_type": "code",
   "execution_count": 12,
   "id": "6b98e37b-9969-4a4e-a5ef-74b146838c3d",
   "metadata": {},
   "outputs": [
    {
     "name": "stdout",
     "output_type": "stream",
     "text": [
      "Combined lists into a dictionary: {'a': 1, 'b': 2, 'c': 3, 'd': 4}\n"
     ]
    }
   ],
   "source": [
    "# Define a function to combine two lists into a dictionary\n",
    "def dict_maker(keys, values):\n",
    "    # Use a dictionary comprehension to create a dictionary from the two lists\n",
    "    dictionary = {key: value for key, value in zip(keys, values)}\n",
    "    return dictionary\n",
    "\n",
    "# Lists of keys and values\n",
    "keys = [\"a\", \"b\", \"c\", \"d\"]\n",
    "values = [1, 2, 3, 4]\n",
    "\n",
    "# Call the 'dict_maker' function to combine the two lists into a dictionary\n",
    "result = dict_maker(keys, values)\n",
    "\n",
    "# Print the resulting dictionary\n",
    "print(\"Combined lists into a dictionary:\", result)\n"
   ]
  },
  {
   "cell_type": "markdown",
   "id": "23629859-b481-4116-820f-9c3718f3c134",
   "metadata": {},
   "source": [
    "Q29. Develop a program that extracts the vowels from a string and stores them in a list using list comprehension."
   ]
  },
  {
   "cell_type": "code",
   "execution_count": 13,
   "id": "9bb85198-c331-4b33-913b-9c02a518ebaf",
   "metadata": {},
   "outputs": [
    {
     "name": "stdin",
     "output_type": "stream",
     "text": [
      "Enter the string:-  aysh jain is a good boy\n"
     ]
    },
    {
     "name": "stdout",
     "output_type": "stream",
     "text": [
      "The vowels extracted from the string are:-  ['a', 'a', 'i', 'i', 'a', 'o', 'o', 'o']\n"
     ]
    }
   ],
   "source": [
    "def vowel_extracter(inp_str):\n",
    "    vowels='aeiouAEIOU'\n",
    "    vowel_lis=[char for words in inp_str for char in words if char in vowels] \n",
    "    return vowel_lis\n",
    "\n",
    "user_string=input(\"Enter the string:- \")\n",
    "result=vowel_extracter(user_string)\n",
    "print(\"The vowels extracted from the string are:- \",result)\n",
    "\n",
    "\n",
    "    "
   ]
  },
  {
   "cell_type": "markdown",
   "id": "4bd496f5-9963-459f-ae4c-3941e0e81ddf",
   "metadata": {},
   "source": [
    "Q30. Create a program that removes all non-numeric characters from a list of strings using list comprehension."
   ]
  },
  {
   "cell_type": "code",
   "execution_count": 15,
   "id": "5f076583-8a83-456b-a7a7-0851d07fde80",
   "metadata": {},
   "outputs": [
    {
     "name": "stdout",
     "output_type": "stream",
     "text": [
      "The numbers extracted from the list of strings are: ['123', '4747', '876']\n"
     ]
    }
   ],
   "source": [
    "# List of strings containing alphanumeric characters\n",
    "lis = [\"hello123\", \"fhf4747\", \"nggewgw876\"]\n",
    "\n",
    "# Use list comprehension to extract numbers from each string\n",
    "# For each string 'stri' in the list 'lis', it iterates through each character 'ch'.\n",
    "# It checks if 'ch' is a digit using 'isdigit()' and keeps only the digits.\n",
    "# The ''.join() function combines the extracted digits into a single string.\n",
    "numbers_extracted = [''.join(ch for ch in stri if ch.isdigit()) for stri in lis]\n",
    "\n",
    "# Print the list of extracted numbers\n",
    "print(\"The numbers extracted from the list of strings are:\", numbers_extracted)\n"
   ]
  },
  {
   "cell_type": "markdown",
   "id": "061ec054-fc62-404f-8f1e-7fbf92c3edf0",
   "metadata": {},
   "source": [
    "Advanced level:- "
   ]
  },
  {
   "cell_type": "markdown",
   "id": "38e2c409-bf65-45fb-8cee-e1d4f7f40ca6",
   "metadata": {},
   "source": [
    "Q31. Write a program to generate a list of prime numbers using the Sieve of Eratosthenes algorithm and list comprehension."
   ]
  },
  {
   "cell_type": "code",
   "execution_count": 16,
   "id": "6706a9f5-84d1-43ca-9ee7-88b39fa50722",
   "metadata": {},
   "outputs": [
    {
     "name": "stdin",
     "output_type": "stream",
     "text": [
      "Enter an upper limit for prime numbers:  16\n"
     ]
    },
    {
     "name": "stdout",
     "output_type": "stream",
     "text": [
      "Prime numbers up to 16:\n",
      "[2, 3, 5, 7, 11, 13]\n"
     ]
    }
   ],
   "source": [
    "# Define a function to generate prime numbers up to a given upper limit 'n' using the Sieve of Eratosthenes algorithm.\n",
    "def sieve_of_eratosthenes(n):\n",
    "    # Create a boolean list 'sieve' of size (n + 1) and initialize all values to True.\n",
    "    sieve = [True] * (n + 1)\n",
    "    \n",
    "    # Set the values for 0 and 1 to False since they are not prime.\n",
    "    sieve[0] = sieve[1] = False\n",
    "\n",
    "    # Iterate through numbers starting from 2 up to the square root of 'n'.\n",
    "    for i in range(2, int(n**0.5) + 1):\n",
    "        # If 'i' is marked as prime (True), mark all multiples of 'i' as not prime.\n",
    "        if sieve[i]:\n",
    "            for j in range(i**2, n + 1, i):\n",
    "                sieve[j] = False\n",
    "\n",
    "    # Create a list 'primes' using list comprehension, containing all numbers marked as prime (True) in the 'sieve' list.\n",
    "    primes = [i for i in range(2, n + 1) if sieve[i]]\n",
    "    \n",
    "    # Return the list of prime numbers.\n",
    "    return primes\n",
    "\n",
    "# Input the upper limit for prime number generation from the user.\n",
    "n = int(input(\"Enter an upper limit for prime numbers: \"))\n",
    "\n",
    "# Check if the entered upper limit is less than 2 (no prime numbers in this range).\n",
    "if n < 2:\n",
    "    print(\"There are no prime numbers in the specified range.\")\n",
    "else:\n",
    "    # Generate the list of prime numbers up to 'n' using the sieve_of_eratosthenes function.\n",
    "    prime_list = sieve_of_eratosthenes(n)\n",
    "    \n",
    "    # Display the prime numbers and the upper limit to the user.\n",
    "    print(f\"Prime numbers up to {n}:\")\n",
    "    print(prime_list)\n"
   ]
  },
  {
   "cell_type": "markdown",
   "id": "c7f47dd8-7961-4c73-9243-17be2ed10739",
   "metadata": {},
   "source": [
    "Q32. Create a program that generates a list of all Pythagorean triplets up to a specified limit using list\n",
    "comprehension."
   ]
  },
  {
   "cell_type": "code",
   "execution_count": 17,
   "id": "7a0007ce-4a83-4662-9135-0dfc835bc8ef",
   "metadata": {},
   "outputs": [
    {
     "name": "stdin",
     "output_type": "stream",
     "text": [
      "Enter an upper limit for generating Pythagorean triplets:  176\n"
     ]
    },
    {
     "name": "stdout",
     "output_type": "stream",
     "text": [
      "Pythagorean triplets up to 176:\n",
      "(3, 4, 5)\n",
      "(5, 12, 13)\n",
      "(6, 8, 10)\n",
      "(7, 24, 25)\n",
      "(8, 15, 17)\n",
      "(9, 12, 15)\n",
      "(9, 40, 41)\n",
      "(10, 24, 26)\n",
      "(11, 60, 61)\n",
      "(12, 16, 20)\n",
      "(12, 35, 37)\n",
      "(13, 84, 85)\n",
      "(14, 48, 50)\n",
      "(15, 20, 25)\n",
      "(15, 36, 39)\n",
      "(15, 112, 113)\n",
      "(16, 30, 34)\n",
      "(16, 63, 65)\n",
      "(17, 144, 145)\n",
      "(18, 24, 30)\n",
      "(18, 80, 82)\n",
      "(20, 21, 29)\n",
      "(20, 48, 52)\n",
      "(20, 99, 101)\n",
      "(21, 28, 35)\n",
      "(21, 72, 75)\n",
      "(22, 120, 122)\n",
      "(24, 32, 40)\n",
      "(24, 45, 51)\n",
      "(24, 70, 74)\n",
      "(24, 143, 145)\n",
      "(25, 60, 65)\n",
      "(26, 168, 170)\n",
      "(27, 36, 45)\n",
      "(27, 120, 123)\n",
      "(28, 45, 53)\n",
      "(28, 96, 100)\n",
      "(30, 40, 50)\n",
      "(30, 72, 78)\n",
      "(32, 60, 68)\n",
      "(32, 126, 130)\n",
      "(33, 44, 55)\n",
      "(33, 56, 65)\n",
      "(35, 84, 91)\n",
      "(35, 120, 125)\n",
      "(36, 48, 60)\n",
      "(36, 77, 85)\n",
      "(36, 105, 111)\n",
      "(36, 160, 164)\n",
      "(39, 52, 65)\n",
      "(39, 80, 89)\n",
      "(40, 42, 58)\n",
      "(40, 75, 85)\n",
      "(40, 96, 104)\n",
      "(42, 56, 70)\n",
      "(42, 144, 150)\n",
      "(44, 117, 125)\n",
      "(45, 60, 75)\n",
      "(45, 108, 117)\n",
      "(48, 55, 73)\n",
      "(48, 64, 80)\n",
      "(48, 90, 102)\n",
      "(48, 140, 148)\n",
      "(49, 168, 175)\n",
      "(50, 120, 130)\n",
      "(51, 68, 85)\n",
      "(51, 140, 149)\n",
      "(52, 165, 173)\n",
      "(54, 72, 90)\n",
      "(55, 132, 143)\n",
      "(56, 90, 106)\n",
      "(56, 105, 119)\n",
      "(57, 76, 95)\n",
      "(60, 63, 87)\n",
      "(60, 80, 100)\n",
      "(60, 91, 109)\n",
      "(60, 144, 156)\n",
      "(63, 84, 105)\n",
      "(64, 120, 136)\n",
      "(65, 72, 97)\n",
      "(65, 156, 169)\n",
      "(66, 88, 110)\n",
      "(66, 112, 130)\n",
      "(69, 92, 115)\n",
      "(72, 96, 120)\n",
      "(72, 135, 153)\n",
      "(72, 154, 170)\n",
      "(75, 100, 125)\n",
      "(78, 104, 130)\n",
      "(80, 84, 116)\n",
      "(80, 150, 170)\n",
      "(81, 108, 135)\n",
      "(84, 112, 140)\n",
      "(84, 135, 159)\n",
      "(85, 132, 157)\n",
      "(87, 116, 145)\n",
      "(88, 105, 137)\n",
      "(90, 120, 150)\n",
      "(93, 124, 155)\n",
      "(96, 110, 146)\n",
      "(96, 128, 160)\n",
      "(99, 132, 165)\n",
      "(100, 105, 145)\n",
      "(102, 136, 170)\n",
      "(105, 140, 175)\n",
      "(119, 120, 169)\n",
      "(120, 126, 174)\n"
     ]
    }
   ],
   "source": [
    "# Function to generate Pythagorean triplets up to a specified limit 'limit'.\n",
    "def generate_pythagorean_triplets(limit):\n",
    "    # Initialize an empty list to store the Pythagorean triplets.\n",
    "    triplets = []\n",
    "    \n",
    "    # Use list comprehension to generate Pythagorean triplets by iterating through 'a', 'b', and 'c' values.\n",
    "    # 'a' and 'b' are in the range [1, limit), and 'c' is in the range [b, limit).\n",
    "    triplets = [(a, b, c) for a in range(1, limit) for b in range(a, limit) for c in range(b, limit) if a**2 + b**2 == c**2]\n",
    "    \n",
    "    # Return the list of Pythagorean triplets.\n",
    "    return triplets\n",
    "\n",
    "# Input the upper limit for generating Pythagorean triplets from the user.\n",
    "limit = int(input(\"Enter an upper limit for generating Pythagorean triplets: \"))\n",
    "\n",
    "# Generate the list of Pythagorean triplets up to the specified limit using the generate_pythagorean_triplets function.\n",
    "pythagorean_triplets = generate_pythagorean_triplets(limit)\n",
    "\n",
    "# Display the list of Pythagorean triplets to the user.\n",
    "print(f\"Pythagorean triplets up to {limit}:\")\n",
    "for triplet in pythagorean_triplets:\n",
    "    print(triplet)\n"
   ]
  },
  {
   "cell_type": "markdown",
   "id": "644188cc-d1da-4db6-8882-a76e5decd697",
   "metadata": {},
   "source": [
    "Q33. Develop a program that generates a list of all possible combinations of two lists using list comprehension."
   ]
  },
  {
   "cell_type": "code",
   "execution_count": 18,
   "id": "bc8fab3c-79bb-4755-8a12-f2cb2c807c5e",
   "metadata": {},
   "outputs": [
    {
     "name": "stdout",
     "output_type": "stream",
     "text": [
      "All possible combinations: [(1, 'a'), (1, 'b'), (1, 'c'), (2, 'a'), (2, 'b'), (2, 'c'), (3, 'a'), (3, 'b'), (3, 'c')]\n"
     ]
    }
   ],
   "source": [
    "# Two lists\n",
    "list1 = [1, 2, 3]\n",
    "list2 = ['a', 'b', 'c']\n",
    "\n",
    "# Generate all possible combinations of elements from the two lists\n",
    "combinations = [(x, y) for x in list1 for y in list2]\n",
    "\n",
    "# Print the list of combinations\n",
    "print(\"All possible combinations:\", combinations)\n"
   ]
  },
  {
   "cell_type": "markdown",
   "id": "9343c2ae-1f07-4bcb-b73d-18da3aa4041c",
   "metadata": {},
   "source": [
    "Q34. Write a program that calculates the mean, median, and mode of a list of numbers using list comprehension. "
   ]
  },
  {
   "cell_type": "code",
   "execution_count": 19,
   "id": "b202669a-81ba-4f33-8bb1-0de1c9b64a62",
   "metadata": {},
   "outputs": [
    {
     "name": "stdin",
     "output_type": "stream",
     "text": [
      "Enter a list of numbers separated by spaces:  1 2 3 4 5 6\n"
     ]
    },
    {
     "name": "stdout",
     "output_type": "stream",
     "text": [
      "Mean: 3.5\n",
      "Median: 3.5\n",
      "Mode: 1.0\n"
     ]
    }
   ],
   "source": [
    "import statistics  # Import the statistics module to calculate the mode.\n",
    "\n",
    "# Input a list of numbers from the user.\n",
    "input_str = input(\"Enter a list of numbers separated by spaces: \")\n",
    "\n",
    "# Using list comprehension to convert the input string into a list of floating-point numbers.\n",
    "numbers = [float(x) for x in input_str.split()]\n",
    "\n",
    "# Calculate the mean using list comprehension.\n",
    "mean = sum(numbers) / len(numbers)\n",
    "\n",
    "# Calculate the median using list comprehension.\n",
    "sorted_numbers = sorted(numbers)  # Sort the list of numbers in ascending order.\n",
    "n = len(sorted_numbers)  # Get the count of numbers in the list.\n",
    "\n",
    "# Check if the count of numbers is even or odd to calculate the median accordingly.\n",
    "if n % 2 == 0:\n",
    "    # If the count is even, calculate the median as the average of the two middle numbers.\n",
    "    median = (sorted_numbers[n // 2 - 1] + sorted_numbers[n // 2]) / 2\n",
    "else:\n",
    "    # If the count is odd, the median is the middle number in the sorted list.\n",
    "    median = sorted_numbers[n // 2]\n",
    "\n",
    "# Calculate the mode using the statistics library.\n",
    "mode = statistics.mode(numbers)\n",
    "\n",
    "# Display the mean, median, and mode to the user.\n",
    "print(f\"Mean: {mean}\")\n",
    "print(f\"Median: {median}\")\n",
    "print(f\"Mode: {mode}\")\n"
   ]
  },
  {
   "cell_type": "markdown",
   "id": "b63b090f-609f-4108-85a1-b0d4a9ba9dee",
   "metadata": {},
   "source": [
    "Q35. Create a program that generates Pascal's triangle up to a specified number of rows using list comprehension. "
   ]
  },
  {
   "cell_type": "code",
   "execution_count": 20,
   "id": "749016ac-1665-42b2-97cc-318d89459e99",
   "metadata": {},
   "outputs": [
    {
     "name": "stdin",
     "output_type": "stream",
     "text": [
      "Enter the number of rows for Pascal's triangle:  12\n"
     ]
    },
    {
     "name": "stdout",
     "output_type": "stream",
     "text": [
      "Pascal's Triangle:\n",
      "1\n",
      "1 1\n",
      "1 2 1\n",
      "1 3 3 1\n",
      "1 4 6 4 1\n",
      "1 5 10 10 5 1\n",
      "1 6 15 20 15 6 1\n",
      "1 7 21 35 35 21 7 1\n",
      "1 8 28 56 70 56 28 8 1\n",
      "1 9 36 84 126 126 84 36 9 1\n",
      "1 10 45 120 210 252 210 120 45 10 1\n",
      "1 11 55 165 330 462 462 330 165 55 11 1\n"
     ]
    }
   ],
   "source": [
    "# Function to generate Pascal's triangle up to a specified number of rows.\n",
    "def generate_pascals_triangle(num_rows):\n",
    "    # Initialize Pascal's triangle with the first row containing a single 1.\n",
    "    triangle = [[1]]\n",
    "    \n",
    "    # Use list comprehension to generate each subsequent row of Pascal's triangle.\n",
    "    for _ in range(1, num_rows):\n",
    "        # Get the previous row.\n",
    "        prev_row = triangle[-1]\n",
    "        \n",
    "        # Calculate the current row using list comprehension.\n",
    "        current_row = [1] + [prev_row[i] + prev_row[i + 1] for i in range(len(prev_row) - 1)] + [1]\n",
    "        \n",
    "        # Append the current row to the triangle.\n",
    "        triangle.append(current_row)\n",
    "    \n",
    "    return triangle\n",
    "\n",
    "# Input the number of rows for Pascal's triangle from the user.\n",
    "num_rows = int(input(\"Enter the number of rows for Pascal's triangle: \"))\n",
    "\n",
    "# Generate Pascal's triangle up to the specified number of rows using the function.\n",
    "pascals_triangle = generate_pascals_triangle(num_rows)\n",
    "\n",
    "# Display Pascal's triangle to the user.\n",
    "print(\"Pascal's Triangle:\")\n",
    "for row in pascals_triangle:\n",
    "    print(' '.join(map(str, row)))\n"
   ]
  },
  {
   "cell_type": "markdown",
   "id": "228556f4-ad50-40f8-a21f-d94272cad67a",
   "metadata": {},
   "source": [
    "Q36. Develop a program that calculates the sum of the digits of a factorial of numbers from 1 to 5 using list comprehension."
   ]
  },
  {
   "cell_type": "code",
   "execution_count": 22,
   "id": "93c1947b-ec42-4a95-9665-9a7e6ddcb72a",
   "metadata": {},
   "outputs": [
    {
     "name": "stdout",
     "output_type": "stream",
     "text": [
      "Factorial number list is: [1, 2, 6, 24, 120]\n",
      "The sum of factorial number digits are: [1, 2, 6, 6, 3]\n"
     ]
    }
   ],
   "source": [
    "# Initialize variables to store factorial and a list to store factorial results.\n",
    "fact = 1\n",
    "fact_list = []\n",
    "\n",
    "# Calculate factorials of numbers from 1 to 5 and store them in a list.\n",
    "for i in range(1, 6):\n",
    "    fact = fact * i  # Calculate factorial by multiplying the current number by the previous factorial.\n",
    "    fact_list.append(fact)  # Append the factorial result to the list.\n",
    "\n",
    "# Display the list of factorials.\n",
    "print(\"Factorial number list is:\", fact_list)\n",
    "\n",
    "# Use list comprehension to calculate the sum of digits for each factorial.\n",
    "fact_sum = [sum(int(digit) for digit in str(number)) for number in fact_list]\n",
    "\n",
    "# Display the sum of digits for each factorial.\n",
    "print(\"The sum of factorial number digits are:\", fact_sum)\n"
   ]
  },
  {
   "cell_type": "markdown",
   "id": "03e276db-7191-49a4-b04c-add56a08b98f",
   "metadata": {},
   "source": [
    "Q37. Write a program that finds the longest word in a sentence using list comprehension."
   ]
  },
  {
   "cell_type": "code",
   "execution_count": null,
   "id": "892e86e9-5bca-4cae-ad80-4c6800f836e4",
   "metadata": {},
   "outputs": [],
   "source": [
    "# Prompt the user to input a string.\n",
    "input_string = input(\"Enter any string: \")\n",
    "\n",
    "# Split the input string into words and store them in a list.\n",
    "lis = input_string.split()\n",
    "\n",
    "# Find the longest word in the list of words using list comprehension and the max function.\n",
    "# The key argument specifies that the length of each word should be used as the criterion for finding the maximum.\n",
    "longest_word = [max(lis, key=len)]\n",
    "\n",
    "# Print the list of words from the input string.\n",
    "print(\"List of words from the input string:\", lis)\n",
    "\n",
    "# Print the longest word found in the string.\n",
    "print(\"The longest word from the string is:\", longest_word[0])\n"
   ]
  },
  {
   "cell_type": "markdown",
   "id": "99ecf71a-ddd0-4066-8423-68173964954a",
   "metadata": {},
   "source": [
    "Q38. Create a program that filters a list of strings to include only those with more than three vowels using list comprehension."
   ]
  },
  {
   "cell_type": "code",
   "execution_count": 35,
   "id": "cbeaeae2-038c-41bb-8149-298f8e04b439",
   "metadata": {},
   "outputs": [
    {
     "name": "stdin",
     "output_type": "stream",
     "text": [
      "Enter a list of strings separated by commas:  clld\n"
     ]
    },
    {
     "name": "stdout",
     "output_type": "stream",
     "text": [
      "Strings with more than three vowels:\n"
     ]
    }
   ],
   "source": [
    "# Function to count the number of vowels in a string.\n",
    "def count_vowels(s):\n",
    "    vowels = \"aeiouAEIOU\"\n",
    "    return sum(1 for char in s if char in vowels)\n",
    "\n",
    "# Input a list of strings from the user, separated by commas.\n",
    "input_string = input(\"Enter a list of strings separated by commas: \")\n",
    "\n",
    "# Split the input string into individual strings and remove leading/trailing spaces.\n",
    "input_list = [s.strip() for s in input_string.split(',')]\n",
    "\n",
    "# Use list comprehension to filter strings with more than three vowels.\n",
    "filtered_list = [string for string in input_list if count_vowels(string) > 3]\n",
    "\n",
    "# Display the filtered list.\n",
    "print(\"Strings with more than three vowels:\")\n",
    "for string in filtered_list:\n",
    "    print(string)\n"
   ]
  },
  {
   "cell_type": "markdown",
   "id": "53fe3618-921f-4c2a-ba07-325522414e83",
   "metadata": {},
   "source": [
    "Q39. Develop a program that calculates the sum of the digits of numbers from 1 to 1000 using list comprehension."
   ]
  },
  {
   "cell_type": "code",
   "execution_count": 38,
   "id": "622280aa-62f6-4c36-9e58-f1af4721dd22",
   "metadata": {},
   "outputs": [
    {
     "name": "stdin",
     "output_type": "stream",
     "text": [
      "Enter the range of numbers:  1000\n"
     ]
    },
    {
     "name": "stdout",
     "output_type": "stream",
     "text": [
      "Final list of sums of digits from 1 to 1000 : [1, 2, 3, 4, 5, 6, 7, 8, 9, 1, 2, 3, 4, 5, 6, 7, 8, 9, 10, 2, 3, 4, 5, 6, 7, 8, 9, 10, 11, 3, 4, 5, 6, 7, 8, 9, 10, 11, 12, 4, 5, 6, 7, 8, 9, 10, 11, 12, 13, 5, 6, 7, 8, 9, 10, 11, 12, 13, 14, 6, 7, 8, 9, 10, 11, 12, 13, 14, 15, 7, 8, 9, 10, 11, 12, 13, 14, 15, 16, 8, 9, 10, 11, 12, 13, 14, 15, 16, 17, 9, 10, 11, 12, 13, 14, 15, 16, 17, 18, 1, 2, 3, 4, 5, 6, 7, 8, 9, 10, 2, 3, 4, 5, 6, 7, 8, 9, 10, 11, 3, 4, 5, 6, 7, 8, 9, 10, 11, 12, 4, 5, 6, 7, 8, 9, 10, 11, 12, 13, 5, 6, 7, 8, 9, 10, 11, 12, 13, 14, 6, 7, 8, 9, 10, 11, 12, 13, 14, 15, 7, 8, 9, 10, 11, 12, 13, 14, 15, 16, 8, 9, 10, 11, 12, 13, 14, 15, 16, 17, 9, 10, 11, 12, 13, 14, 15, 16, 17, 18, 10, 11, 12, 13, 14, 15, 16, 17, 18, 19, 2, 3, 4, 5, 6, 7, 8, 9, 10, 11, 3, 4, 5, 6, 7, 8, 9, 10, 11, 12, 4, 5, 6, 7, 8, 9, 10, 11, 12, 13, 5, 6, 7, 8, 9, 10, 11, 12, 13, 14, 6, 7, 8, 9, 10, 11, 12, 13, 14, 15, 7, 8, 9, 10, 11, 12, 13, 14, 15, 16, 8, 9, 10, 11, 12, 13, 14, 15, 16, 17, 9, 10, 11, 12, 13, 14, 15, 16, 17, 18, 10, 11, 12, 13, 14, 15, 16, 17, 18, 19, 11, 12, 13, 14, 15, 16, 17, 18, 19, 20, 3, 4, 5, 6, 7, 8, 9, 10, 11, 12, 4, 5, 6, 7, 8, 9, 10, 11, 12, 13, 5, 6, 7, 8, 9, 10, 11, 12, 13, 14, 6, 7, 8, 9, 10, 11, 12, 13, 14, 15, 7, 8, 9, 10, 11, 12, 13, 14, 15, 16, 8, 9, 10, 11, 12, 13, 14, 15, 16, 17, 9, 10, 11, 12, 13, 14, 15, 16, 17, 18, 10, 11, 12, 13, 14, 15, 16, 17, 18, 19, 11, 12, 13, 14, 15, 16, 17, 18, 19, 20, 12, 13, 14, 15, 16, 17, 18, 19, 20, 21, 4, 5, 6, 7, 8, 9, 10, 11, 12, 13, 5, 6, 7, 8, 9, 10, 11, 12, 13, 14, 6, 7, 8, 9, 10, 11, 12, 13, 14, 15, 7, 8, 9, 10, 11, 12, 13, 14, 15, 16, 8, 9, 10, 11, 12, 13, 14, 15, 16, 17, 9, 10, 11, 12, 13, 14, 15, 16, 17, 18, 10, 11, 12, 13, 14, 15, 16, 17, 18, 19, 11, 12, 13, 14, 15, 16, 17, 18, 19, 20, 12, 13, 14, 15, 16, 17, 18, 19, 20, 21, 13, 14, 15, 16, 17, 18, 19, 20, 21, 22, 5, 6, 7, 8, 9, 10, 11, 12, 13, 14, 6, 7, 8, 9, 10, 11, 12, 13, 14, 15, 7, 8, 9, 10, 11, 12, 13, 14, 15, 16, 8, 9, 10, 11, 12, 13, 14, 15, 16, 17, 9, 10, 11, 12, 13, 14, 15, 16, 17, 18, 10, 11, 12, 13, 14, 15, 16, 17, 18, 19, 11, 12, 13, 14, 15, 16, 17, 18, 19, 20, 12, 13, 14, 15, 16, 17, 18, 19, 20, 21, 13, 14, 15, 16, 17, 18, 19, 20, 21, 22, 14, 15, 16, 17, 18, 19, 20, 21, 22, 23, 6, 7, 8, 9, 10, 11, 12, 13, 14, 15, 7, 8, 9, 10, 11, 12, 13, 14, 15, 16, 8, 9, 10, 11, 12, 13, 14, 15, 16, 17, 9, 10, 11, 12, 13, 14, 15, 16, 17, 18, 10, 11, 12, 13, 14, 15, 16, 17, 18, 19, 11, 12, 13, 14, 15, 16, 17, 18, 19, 20, 12, 13, 14, 15, 16, 17, 18, 19, 20, 21, 13, 14, 15, 16, 17, 18, 19, 20, 21, 22, 14, 15, 16, 17, 18, 19, 20, 21, 22, 23, 15, 16, 17, 18, 19, 20, 21, 22, 23, 24, 7, 8, 9, 10, 11, 12, 13, 14, 15, 16, 8, 9, 10, 11, 12, 13, 14, 15, 16, 17, 9, 10, 11, 12, 13, 14, 15, 16, 17, 18, 10, 11, 12, 13, 14, 15, 16, 17, 18, 19, 11, 12, 13, 14, 15, 16, 17, 18, 19, 20, 12, 13, 14, 15, 16, 17, 18, 19, 20, 21, 13, 14, 15, 16, 17, 18, 19, 20, 21, 22, 14, 15, 16, 17, 18, 19, 20, 21, 22, 23, 15, 16, 17, 18, 19, 20, 21, 22, 23, 24, 16, 17, 18, 19, 20, 21, 22, 23, 24, 25, 8, 9, 10, 11, 12, 13, 14, 15, 16, 17, 9, 10, 11, 12, 13, 14, 15, 16, 17, 18, 10, 11, 12, 13, 14, 15, 16, 17, 18, 19, 11, 12, 13, 14, 15, 16, 17, 18, 19, 20, 12, 13, 14, 15, 16, 17, 18, 19, 20, 21, 13, 14, 15, 16, 17, 18, 19, 20, 21, 22, 14, 15, 16, 17, 18, 19, 20, 21, 22, 23, 15, 16, 17, 18, 19, 20, 21, 22, 23, 24, 16, 17, 18, 19, 20, 21, 22, 23, 24, 25, 17, 18, 19, 20, 21, 22, 23, 24, 25, 26, 9, 10, 11, 12, 13, 14, 15, 16, 17, 18, 10, 11, 12, 13, 14, 15, 16, 17, 18, 19, 11, 12, 13, 14, 15, 16, 17, 18, 19, 20, 12, 13, 14, 15, 16, 17, 18, 19, 20, 21, 13, 14, 15, 16, 17, 18, 19, 20, 21, 22, 14, 15, 16, 17, 18, 19, 20, 21, 22, 23, 15, 16, 17, 18, 19, 20, 21, 22, 23, 24, 16, 17, 18, 19, 20, 21, 22, 23, 24, 25, 17, 18, 19, 20, 21, 22, 23, 24, 25, 26, 18, 19, 20, 21, 22, 23, 24, 25, 26, 27, 1]\n"
     ]
    }
   ],
   "source": [
    "# Define a function to calculate the sum of digits for numbers from 1 to 'n'.\n",
    "def sum_of_digits(n):\n",
    "    # Use list comprehension to calculate the sum of digits for each number in the range from 1 to 'n'.\n",
    "    sum_lis = [sum(int(digit) for digit in str(number)) for number in range(1, n + 1)]\n",
    "    \n",
    "    # Return the list of sums of digits.\n",
    "    return sum_lis\n",
    "\n",
    "# Input the range of numbers from the user.\n",
    "n = int(input(\"Enter the range of numbers: \"))\n",
    "\n",
    "# Call the 'sum_of_digits' function with the specified range and store the result.\n",
    "result = sum_of_digits(n)\n",
    "\n",
    "# Display the final list of sums of digits.\n",
    "print(\"Final list of sums of digits from 1 to\", n, \":\", result)\n"
   ]
  },
  {
   "cell_type": "markdown",
   "id": "84759a21-3f9b-49e9-be42-a89ff6ec2e36",
   "metadata": {},
   "source": [
    "Q40. Write a program that generates a list of prime palindromic numbers using list comprehension."
   ]
  },
  {
   "cell_type": "code",
   "execution_count": 41,
   "id": "026df41a-0fe9-4052-a734-74d4a5b95483",
   "metadata": {},
   "outputs": [
    {
     "name": "stdin",
     "output_type": "stream",
     "text": [
      "Enter an upper limit for generating prime palindromic numbers:  1000\n"
     ]
    },
    {
     "name": "stdout",
     "output_type": "stream",
     "text": [
      "Prime palindromic numbers up to 1000:\n",
      "[2, 3, 5, 7, 11, 101, 131, 151, 181, 191, 313, 353, 373, 383, 727, 757, 787, 797, 919, 929]\n"
     ]
    }
   ],
   "source": [
    "# Function to check if a number is prime.\n",
    "def is_prime(num):\n",
    "    if num < 2:\n",
    "        return False\n",
    "    for i in range(2, int(num ** 0.5) + 1):\n",
    "        if num % i == 0:\n",
    "            return False\n",
    "    return True\n",
    "\n",
    "# Function to check if a number is a palindrome.\n",
    "def is_palindrome(num):\n",
    "    num_str = str(num)\n",
    "    return num_str == num_str[::-1]\n",
    "\n",
    "# Input the upper limit for generating prime palindromic numbers.\n",
    "limit = int(input(\"Enter an upper limit for generating prime palindromic numbers: \"))\n",
    "\n",
    "# Use list comprehension to generate prime palindromic numbers up to the specified limit.\n",
    "prime_palindromic_numbers = [num for num in range(2, limit + 1) if is_prime(num) and is_palindrome(num)]\n",
    "\n",
    "# Display the list of prime palindromic numbers.\n",
    "print(f\"Prime palindromic numbers up to {limit}:\")\n",
    "print(prime_palindromic_numbers)\n"
   ]
  },
  {
   "cell_type": "code",
   "execution_count": null,
   "id": "4178ccf6-10e9-48b3-8207-f83db3432b00",
   "metadata": {},
   "outputs": [],
   "source": []
  },
  {
   "cell_type": "code",
   "execution_count": null,
   "id": "b1ebf4ac-def7-4bd2-b9d1-8781db6f0da1",
   "metadata": {},
   "outputs": [],
   "source": []
  },
  {
   "cell_type": "code",
   "execution_count": null,
   "id": "8cb16bc3-f260-4481-9a60-2f6da39352da",
   "metadata": {},
   "outputs": [],
   "source": []
  },
  {
   "cell_type": "code",
   "execution_count": null,
   "id": "9e36eace-6401-4498-8bcc-7601bddc3f33",
   "metadata": {},
   "outputs": [],
   "source": []
  },
  {
   "cell_type": "code",
   "execution_count": null,
   "id": "f381b610-38cd-4762-a106-5b5c1276d285",
   "metadata": {},
   "outputs": [],
   "source": []
  },
  {
   "cell_type": "code",
   "execution_count": null,
   "id": "0e8ce76e-512e-4d7d-bd14-f4738c3401f1",
   "metadata": {},
   "outputs": [],
   "source": []
  },
  {
   "cell_type": "code",
   "execution_count": null,
   "id": "a365048c-24f9-4dfe-9d89-0c43c5a85c5b",
   "metadata": {},
   "outputs": [],
   "source": []
  },
  {
   "cell_type": "code",
   "execution_count": null,
   "id": "416aa080-db7f-44be-a359-a46717bc3952",
   "metadata": {},
   "outputs": [],
   "source": []
  },
  {
   "cell_type": "code",
   "execution_count": null,
   "id": "b9849113-35f5-4b76-901a-8429fc4c915c",
   "metadata": {},
   "outputs": [],
   "source": []
  }
 ],
 "metadata": {
  "kernelspec": {
   "display_name": "Python 3 (ipykernel)",
   "language": "python",
   "name": "python3"
  },
  "language_info": {
   "codemirror_mode": {
    "name": "ipython",
    "version": 3
   },
   "file_extension": ".py",
   "mimetype": "text/x-python",
   "name": "python",
   "nbconvert_exporter": "python",
   "pygments_lexer": "ipython3",
   "version": "3.10.8"
  }
 },
 "nbformat": 4,
 "nbformat_minor": 5
}
