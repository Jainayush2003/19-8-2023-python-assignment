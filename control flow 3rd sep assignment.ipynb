{
 "cells": [
  {
   "cell_type": "markdown",
   "id": "fd6f5f83-7782-4a7d-9637-cc8848cfc3d8",
   "metadata": {},
   "source": [
    "Basic if-else statements:-"
   ]
  },
  {
   "cell_type": "markdown",
   "id": "d9317db1-94ed-4d4f-a0e7-31596d34e309",
   "metadata": {},
   "source": [
    "Q1. Write a Python program to check if a given number is positive or negative."
   ]
  },
  {
   "cell_type": "code",
   "execution_count": 17,
   "id": "ef646cf8-9fa6-4d19-82f5-ee265b9074fb",
   "metadata": {},
   "outputs": [
    {
     "name": "stdin",
     "output_type": "stream",
     "text": [
      "Enter any number to check it is positive or negative:-  12\n"
     ]
    },
    {
     "name": "stdout",
     "output_type": "stream",
     "text": [
      "12 is positive number\n"
     ]
    }
   ],
   "source": [
    "n=int(input(\"Enter any number to check it is positive or negative:- \"))\n",
    "\n",
    "if (n<0):\n",
    "    print(f\"{n} is negative number\")\n",
    "elif (n==0):\n",
    "    print(f\"{n} is zero\")\n",
    "else:\n",
    "    print(f\"{n} is positive number\")"
   ]
  },
  {
   "cell_type": "markdown",
   "id": "a76e806e-723a-406b-a146-04b6bee6f9aa",
   "metadata": {},
   "source": [
    "Q2. Create a program that determines if a person is eligible to vote based on their age."
   ]
  },
  {
   "cell_type": "code",
   "execution_count": 18,
   "id": "330567ef-9429-404a-aa1b-ceb5c1fe4545",
   "metadata": {},
   "outputs": [
    {
     "name": "stdin",
     "output_type": "stream",
     "text": [
      "Enter your age to check you are eligible for vote or not:-  34\n"
     ]
    },
    {
     "name": "stdout",
     "output_type": "stream",
     "text": [
      "The person having age 34 can vote\n"
     ]
    }
   ],
   "source": [
    "age=int(input(\"Enter your age to check you are eligible for vote or not:- \"))\n",
    "\n",
    "if (age>=18):\n",
    "    print(f\"The person having age {age} can vote\")\n",
    "else:\n",
    "    print(f\"The person having the age {age} cannot eligible for voting\")"
   ]
  },
  {
   "cell_type": "markdown",
   "id": "31150c9f-25ea-48ef-8fd8-35aef7ad39be",
   "metadata": {},
   "source": [
    "Q3. 3. Develop a program to find the maximum of two numbers using if-else statements."
   ]
  },
  {
   "cell_type": "code",
   "execution_count": null,
   "id": "4b62f946-fe37-4b36-ac29-e7c916b4de6f",
   "metadata": {},
   "outputs": [
    {
     "name": "stdin",
     "output_type": "stream",
     "text": [
      "Enter the first number:-  21\n",
      "Enter the second number:-  23\n"
     ]
    },
    {
     "name": "stdout",
     "output_type": "stream",
     "text": [
      "23 is greater than 21\n"
     ]
    }
   ],
   "source": [
    "n1=int(input(\"Enter the first number:- \"))\n",
    "n2=int(input(\"Enter the second number:- \"))\n",
    "\n",
    "if (n1>n2):\n",
    "    print(f\" {n1} is greater than {n2}\")\n",
    "elif (n1==n2):\n",
    "    print(f\"{n1} and {n2} are equal\")\n",
    "else:\n",
    "    print(f\"{n2} is greater than {n1}\")"
   ]
  },
  {
   "cell_type": "markdown",
   "id": "8bb170a2-ca92-490b-97c9-96444b92230f",
   "metadata": {},
   "source": [
    "Q4. Write a Python script to classify a given year as a leap year or not. "
   ]
  },
  {
   "cell_type": "code",
   "execution_count": null,
   "id": "0dff3ddf-7a2e-4091-a321-fee200d0e62c",
   "metadata": {},
   "outputs": [
    {
     "name": "stdin",
     "output_type": "stream",
     "text": [
      "Enter a year:  2020\n"
     ]
    },
    {
     "name": "stdout",
     "output_type": "stream",
     "text": [
      "2020 is a leap year\n"
     ]
    }
   ],
   "source": [
    "# Input a year from the user.\n",
    "year = int(input(\"Enter a year: \"))\n",
    "\n",
    "# Check if it's a leap year.\n",
    "if (year % 4 == 0 and year % 100 != 0) or (year % 400 == 0):\n",
    "    print(f\"{year} is a leap year\")\n",
    "else:\n",
    "    print(f\"{year} is not a leap year\")\n"
   ]
  },
  {
   "cell_type": "markdown",
   "id": "0be82153-e17c-4b16-b846-7cc84fab8f72",
   "metadata": {},
   "source": [
    "Q5. Create a program that checks whether a character is a vowel or a consonant."
   ]
  },
  {
   "cell_type": "code",
   "execution_count": null,
   "id": "5e322c67-cce1-4081-954e-e47306395535",
   "metadata": {},
   "outputs": [
    {
     "name": "stdin",
     "output_type": "stream",
     "text": [
      "Enter a character:  e\n"
     ]
    },
    {
     "name": "stdout",
     "output_type": "stream",
     "text": [
      "e is a vowel\n"
     ]
    }
   ],
   "source": [
    "# Input a character from the user (assuming a single character is entered).\n",
    "char = input(\"Enter a character: \")\n",
    "\n",
    "# Check if the character is a vowel or a consonant.\n",
    "if char.isalpha() and len(char) == 1:\n",
    "    if char in 'aeiouAEIOU':\n",
    "        print(f\"{char} is a vowel\")\n",
    "    else:\n",
    "        print(f\"{char} is a consonant\")\n",
    "else:\n",
    "    print(\"Invalid input. Please enter a single alphabetic character.\")\n"
   ]
  },
  {
   "cell_type": "markdown",
   "id": "805b3bb4-7943-4008-a7c5-ef83767ad622",
   "metadata": {},
   "source": [
    "Q6. Implement a program to determine whether a given number is even or odd."
   ]
  },
  {
   "cell_type": "code",
   "execution_count": 1,
   "id": "b2f3bf2b-ad4f-4390-bc4b-1d57b320541d",
   "metadata": {},
   "outputs": [
    {
     "name": "stdin",
     "output_type": "stream",
     "text": [
      "Enter the number to check whether it is even or odd:-  45\n"
     ]
    },
    {
     "name": "stdout",
     "output_type": "stream",
     "text": [
      " 45 is odd number\n"
     ]
    }
   ],
   "source": [
    "n=int(input(\"Enter the number to check whether it is even or odd:- \"))\n",
    "\n",
    "if (n%2==0):\n",
    "    print(f\" {n} is even number\")\n",
    "else:\n",
    "    print(f\" {n} is odd number\")"
   ]
  },
  {
   "cell_type": "markdown",
   "id": "9e3ae509-7c5a-42a7-a13f-c1e413ded388",
   "metadata": {},
   "source": [
    "Q7. 7. Write a Python function to calculate the absolute value of a number without using the `abs()` function."
   ]
  },
  {
   "cell_type": "code",
   "execution_count": 2,
   "id": "fc1602d2-f2c5-4280-bb1a-eeabc76e8917",
   "metadata": {},
   "outputs": [
    {
     "name": "stdin",
     "output_type": "stream",
     "text": [
      "Enter any number:-  -67\n"
     ]
    },
    {
     "name": "stdout",
     "output_type": "stream",
     "text": [
      "the absolute value of -67 is: 67\n"
     ]
    }
   ],
   "source": [
    "def absolute_num(n):\n",
    "    if (n>=0):\n",
    "        return n\n",
    "    else:\n",
    "        return (-n)\n",
    "    \n",
    "num=int(input(\"Enter any number:- \"))\n",
    "\n",
    "result=absolute_num(num)\n",
    "\n",
    "print(f\"the absolute value of {num} is: {result}\")"
   ]
  },
  {
   "cell_type": "markdown",
   "id": "594dad1e-dbe3-4732-b040-f322c0b01849",
   "metadata": {},
   "source": [
    "Q8. 8. Develop a program that determines the largest of three given numbers using if-else statements."
   ]
  },
  {
   "cell_type": "code",
   "execution_count": 3,
   "id": "3d355b46-ccdc-45c6-8806-da600b07d05a",
   "metadata": {},
   "outputs": [
    {
     "name": "stdin",
     "output_type": "stream",
     "text": [
      "Enter the first number:-  123\n",
      "Enter the secondmnumber:-  456\n",
      "Enter the second number:-  78\n"
     ]
    },
    {
     "name": "stdout",
     "output_type": "stream",
     "text": [
      "456 is greater than 123 and 78\n"
     ]
    }
   ],
   "source": [
    "a=int(input(\"Enter the first number:- \"))\n",
    "b=int(input(\"Enter the secondmnumber:- \"))\n",
    "c=int(input(\"Enter the second number:- \"))\n",
    "\n",
    "if ((a>=b) and (a>=c)):\n",
    "    print(f\" {a} is greater than {b} and {c}\")\n",
    "elif ((b>=a) and (b>=c)):\n",
    "    print(f\"{b} is greater than {a} and {c}\")\n",
    "else:\n",
    "    print(f\"{c} is greater than {a} and {b}\")"
   ]
  },
  {
   "cell_type": "markdown",
   "id": "5882fc5f-438c-408d-9580-21e199225833",
   "metadata": {},
   "source": [
    "Q9. Create a program that checks if a given string is a palindrome."
   ]
  },
  {
   "cell_type": "code",
   "execution_count": 4,
   "id": "491fd049-0bf1-4fbe-9582-22c9680a9efd",
   "metadata": {},
   "outputs": [
    {
     "name": "stdin",
     "output_type": "stream",
     "text": [
      "enter any string:-  ghgggghj\n"
     ]
    },
    {
     "name": "stdout",
     "output_type": "stream",
     "text": [
      " 'ghgggghj' is not palindrome\n"
     ]
    }
   ],
   "source": [
    "string=input(\"enter any string:- \")\n",
    "\n",
    "if (string==string[::-1]):\n",
    "    print(f\" '{string}' is palindrome\")\n",
    "else:\n",
    "    print(f\" '{string}' is not palindrome\")"
   ]
  },
  {
   "cell_type": "markdown",
   "id": "32a5ce31-943b-4b4d-8609-f62af59cb6cf",
   "metadata": {},
   "source": [
    "Q10. Write a Python program to calculate the grade based on a student's score."
   ]
  },
  {
   "cell_type": "code",
   "execution_count": 5,
   "id": "fa4ad32e-cde3-492b-80b4-2cf02553a4bd",
   "metadata": {},
   "outputs": [
    {
     "name": "stdin",
     "output_type": "stream",
     "text": [
      "Enter the student's score:  78\n"
     ]
    },
    {
     "name": "stdout",
     "output_type": "stream",
     "text": [
      "The student's grade is: C\n"
     ]
    }
   ],
   "source": [
    "# Input the student's score from the user.\n",
    "score = float(input(\"Enter the student's score: \"))\n",
    "\n",
    "# Define the grading criteria.\n",
    "if score >= 90:\n",
    "    grade = 'A'\n",
    "elif score >= 80:\n",
    "    grade = 'B'\n",
    "elif score >= 70:\n",
    "    grade = 'c'\n",
    "elif score >= 60:\n",
    "    grade = 'D'\n",
    "else:\n",
    "    grade = 'F'\n",
    "\n",
    "# Display the student's grade.\n",
    "print(f\"The student's grade is: {grade}\")\n"
   ]
  },
  {
   "cell_type": "markdown",
   "id": "2c3127bf-b310-4328-8e7b-a067ec05fb08",
   "metadata": {},
   "source": [
    "Nested if-else statement:- "
   ]
  },
  {
   "cell_type": "markdown",
   "id": "3d5570f6-c2da-4abf-871f-98cbf79aa631",
   "metadata": {},
   "source": [
    "Q11. 11. Write a program to find the largest among three numbers using nested if-else statements."
   ]
  },
  {
   "cell_type": "code",
   "execution_count": 6,
   "id": "9580a84f-91fa-4768-bffc-b2accadbd621",
   "metadata": {},
   "outputs": [
    {
     "name": "stdin",
     "output_type": "stream",
     "text": [
      "Enter the first number:  12131\n",
      "Enter the second number:  1324\n",
      "Enter the third number:  12\n"
     ]
    },
    {
     "name": "stdout",
     "output_type": "stream",
     "text": [
      "The largest number among 12131, 1324, and 12 is: 12131\n"
     ]
    }
   ],
   "source": [
    "# Input three numbers from the user.\n",
    "num1 = int(input(\"Enter the first number: \"))\n",
    "num2 = int(input(\"Enter the second number: \"))\n",
    "num3 = int(input(\"Enter the third number: \"))\n",
    "\n",
    "# Use nested if-else statements to find the largest number.\n",
    "if num1 >= num2:\n",
    "    if num1 >= num3:\n",
    "        largest = num1\n",
    "    else:\n",
    "        largest = num3\n",
    "else:\n",
    "    if num2 >= num3:\n",
    "        largest = num2\n",
    "    else:\n",
    "        largest = num3\n",
    "\n",
    "# Display the largest number.\n",
    "print(f\"The largest number among {num1}, {num2}, and {num3} is: {largest}\")\n"
   ]
  },
  {
   "cell_type": "markdown",
   "id": "c7fc9b35-8470-4d45-af2a-258a297fbce1",
   "metadata": {},
   "source": [
    "Q12. Implement a program to determine if a triangle is equilateral, isosceles, or scalene."
   ]
  },
  {
   "cell_type": "code",
   "execution_count": 7,
   "id": "044eadea-1011-4323-a87d-97dd96a6a161",
   "metadata": {},
   "outputs": [
    {
     "name": "stdin",
     "output_type": "stream",
     "text": [
      "Enter the length of the first side:  12\n",
      "Enter the length of the second side:  12\n",
      "Enter the length of the third side:  4\n"
     ]
    },
    {
     "name": "stdout",
     "output_type": "stream",
     "text": [
      "The triangle with side lengths 12, 12, and 4 is isosceles.\n"
     ]
    }
   ],
   "source": [
    "# Input the lengths of the three sides of the triangle.\n",
    "side1 = int(input(\"Enter the length of the first side: \"))\n",
    "side2 = int(input(\"Enter the length of the second side: \"))\n",
    "side3 = int(input(\"Enter the length of the third side: \"))\n",
    "\n",
    "# Initialize the triangle type as \"scalene\" by default.\n",
    "triangle_type = \"scalene\"\n",
    "\n",
    "# Check if it's an equilateral triangle.\n",
    "if side1 == side2 and side2 == side3:\n",
    "    triangle_type = \"equilateral\"\n",
    "else:\n",
    "    # Check if it's an isosceles triangle.\n",
    "    if side1 == side2 or side1 == side3 or side2 == side3:\n",
    "        triangle_type = \"isosceles\"\n",
    "\n",
    "# Display the type of triangle.\n",
    "print(f\"The triangle with side lengths {side1}, {side2}, and {side3} is {triangle_type}.\")\n"
   ]
  },
  {
   "cell_type": "markdown",
   "id": "527ed15d-7808-4521-bd0a-030d094a832f",
   "metadata": {},
   "source": [
    "Q13. 13. Develop a program that checks if a year is a leap year and also if it is a century year."
   ]
  },
  {
   "cell_type": "code",
   "execution_count": 8,
   "id": "b76ba845-e7bd-4378-99d1-acc2a6d5a2d4",
   "metadata": {},
   "outputs": [
    {
     "name": "stdin",
     "output_type": "stream",
     "text": [
      "Enter a year:  2024\n"
     ]
    },
    {
     "name": "stdout",
     "output_type": "stream",
     "text": [
      "2024 is a leap year but not a century year.\n"
     ]
    }
   ],
   "source": [
    "# Input a year from the user.\n",
    "year = int(input(\"Enter a year: \"))\n",
    "\n",
    "# Check if it's a leap year.\n",
    "is_leap_year = (year % 4 == 0 and year % 100 != 0) or (year % 400 == 0)\n",
    "\n",
    "# Check if it's a century year.\n",
    "is_century_year = year % 100 == 0\n",
    "\n",
    "# Display the results.\n",
    "if is_leap_year:\n",
    "    if is_century_year:\n",
    "        print(f\"{year} is a leap year and a century year.\")\n",
    "    else:\n",
    "        print(f\"{year} is a leap year but not a century year.\")\n",
    "else:\n",
    "    if is_century_year:\n",
    "        print(f\"{year} is not a leap year but a century year.\")\n",
    "    else:\n",
    "        print(f\"{year} is not a leap year and not a century year.\")\n"
   ]
  },
  {
   "cell_type": "markdown",
   "id": "58a16bb5-9fde-4591-a48e-bf82b8aae767",
   "metadata": {},
   "source": [
    "Q14. Write a Python script to determine if a number is positive, negative, or zero."
   ]
  },
  {
   "cell_type": "code",
   "execution_count": 9,
   "id": "bf9eab16-0d7e-4034-b0fb-1e01a99d0fcb",
   "metadata": {},
   "outputs": [
    {
     "name": "stdin",
     "output_type": "stream",
     "text": [
      "Enter the number to check it is postive or negative:-  23\n"
     ]
    },
    {
     "name": "stdout",
     "output_type": "stream",
     "text": [
      " 23 is positive number\n"
     ]
    }
   ],
   "source": [
    "n=int(input(\"Enter the number to check it is postive or negative:- \"))\n",
    "\n",
    "if n>=0:\n",
    "    if n==0:\n",
    "        print(f\" {n} is zero\")\n",
    "    else:\n",
    "        print(f\" {n} is positive number\")\n",
    "else:\n",
    "    print(f\" {n} is negative number\")"
   ]
  },
  {
   "cell_type": "markdown",
   "id": "8a123571-0d0d-4851-99c9-140ee3b8c840",
   "metadata": {},
   "source": [
    "Q15. Create a program to check if a person is a teenager (between 13 and 19 years old). "
   ]
  },
  {
   "cell_type": "code",
   "execution_count": 10,
   "id": "9c443395-f4cb-4bc9-adfd-131b3c37d186",
   "metadata": {},
   "outputs": [
    {
     "name": "stdin",
     "output_type": "stream",
     "text": [
      "Enter the person's age:  12\n"
     ]
    },
    {
     "name": "stdout",
     "output_type": "stream",
     "text": [
      "The person is not a teenager.\n"
     ]
    }
   ],
   "source": [
    "# Input the age of the person.\n",
    "age = int(input(\"Enter the person's age: \"))\n",
    "\n",
    "# Check if the age falls within the teenager range using nested if-else statements.\n",
    "if age >= 13 and age <= 19:\n",
    "    print(\"The person is a teenager.\")\n",
    "else:\n",
    "    print(\"The person is not a teenager.\")\n"
   ]
  },
  {
   "cell_type": "markdown",
   "id": "8b3bc9a4-f5d4-44b9-8400-9d8f1563aa69",
   "metadata": {},
   "source": [
    "Q16. Develop a program that determines the type of angle based on its measure (acute, obtuse, or right)."
   ]
  },
  {
   "cell_type": "code",
   "execution_count": 11,
   "id": "71fd8c50-69e8-4ae4-8449-621218584044",
   "metadata": {},
   "outputs": [
    {
     "name": "stdin",
     "output_type": "stream",
     "text": [
      "Enter the angle:  97\n"
     ]
    },
    {
     "name": "stdout",
     "output_type": "stream",
     "text": [
      "Obtuse-angled triangle\n"
     ]
    }
   ],
   "source": [
    "def classify_angles(angle1):\n",
    "    # Check if the sum of angles is 180 degrees (valid triangle)\n",
    "    if angle<180:\n",
    "        # Check the type of triangle based on its angles\n",
    "        if angle == 90:\n",
    "            return \"Right-angled triangle\"\n",
    "        elif angle > 90 and angle < 180:\n",
    "            return \"Obtuse-angled triangle\"\n",
    "        else:\n",
    "            return \"Acute-angled triangle\"\n",
    "    else:\n",
    "        return \"Not a valid triangle\"\n",
    "\n",
    "# Input the angles of the triangle\n",
    "angle = int(input(\"Enter the angle: \"))\n",
    "\n",
    "\n",
    "# Call the function and display the result\n",
    "triangle_type = classify_angles(angle)\n",
    "print(triangle_type)\n"
   ]
  },
  {
   "cell_type": "markdown",
   "id": "5f8b73e4-0ab8-4b81-9ab7-7083551550ae",
   "metadata": {},
   "source": [
    "Q17. Write a Python program to calculate the roots of a quadratic equation."
   ]
  },
  {
   "cell_type": "code",
   "execution_count": 12,
   "id": "a1243f40-9969-44c7-8985-c6268a0047aa",
   "metadata": {},
   "outputs": [
    {
     "name": "stdin",
     "output_type": "stream",
     "text": [
      "Enter the coefficient a:  1\n",
      "Enter the coefficient b:  2\n",
      "Enter the coefficient c:  3\n"
     ]
    },
    {
     "name": "stdout",
     "output_type": "stream",
     "text": [
      "The equation has complex roots:\n",
      "Complex Root 1: -1.0 + 1.4142135623730951i\n",
      "Complex Root 2: -1.0 - 1.4142135623730951i\n"
     ]
    }
   ],
   "source": [
    "# Input the coefficients a, b, and c from the user.\n",
    "a = float(input(\"Enter the coefficient a: \"))\n",
    "b = float(input(\"Enter the coefficient b: \"))\n",
    "c = float(input(\"Enter the coefficient c: \"))\n",
    "\n",
    "# Calculate the discriminant (the value inside the square root).\n",
    "discriminant = b**2 - 4 * a * c\n",
    "\n",
    "# Check the number of roots and calculate them using if-else statements.\n",
    "if discriminant > 0:\n",
    "    # Two real and distinct roots.\n",
    "    root1 = (-b + (discriminant**0.5)) / (2 * a)\n",
    "    root2 = (-b - (discriminant**0.5)) / (2 * a)\n",
    "    print(f\"The equation has two real and distinct roots:\")\n",
    "    print(f\"Root 1: {root1}\")\n",
    "    print(f\"Root 2: {root2}\")\n",
    "elif discriminant == 0:\n",
    "    # One real root (repeated root).\n",
    "    root = -b / (2 * a)\n",
    "    print(f\"The equation has one real root:\")\n",
    "    print(f\"Root: {root}\")\n",
    "else:\n",
    "    # Complex roots (no real roots).\n",
    "    real_part = -b / (2 * a)\n",
    "    imaginary_part = ((-discriminant)**0.5) / (2 * a)\n",
    "    print(f\"The equation has complex roots:\")\n",
    "    print(f\"Complex Root 1: {real_part} + {imaginary_part}i\")\n",
    "    print(f\"Complex Root 2: {real_part} - {imaginary_part}i\")\n"
   ]
  },
  {
   "cell_type": "markdown",
   "id": "60fe32d2-bc64-4be9-8dad-d6cbf111110b",
   "metadata": {},
   "source": [
    "Q18. Implement a program to determine the day of the week based on a user-provided number (1 for Monday, 2 for Tuesday, etc.)."
   ]
  },
  {
   "cell_type": "code",
   "execution_count": 13,
   "id": "cfc931c2-da51-48e4-a12a-fc65d375a98a",
   "metadata": {},
   "outputs": [
    {
     "name": "stdin",
     "output_type": "stream",
     "text": [
      "Enter a number (1-7) to determine the day of the week:  5\n"
     ]
    },
    {
     "name": "stdout",
     "output_type": "stream",
     "text": [
      "The day corresponding to 5 is Friday.\n"
     ]
    }
   ],
   "source": [
    "# Input the day number from the user.\n",
    "day_number = int(input(\"Enter a number (1-7) to determine the day of the week: \"))\n",
    "\n",
    "# Defining a list of day names.\n",
    "days_of_week = [\"Monday\", \"Tuesday\", \"Wednesday\", \"Thursday\", \"Friday\", \"Saturday\", \"Sunday\"]\n",
    "\n",
    "# Checking if the input is within a valid range.\n",
    "if 1 <= day_number <= 7:\n",
    "    # Subtract 1 from the input to access the corresponding day in the list.\n",
    "    day_name = days_of_week[day_number - 1]\n",
    "    print(f\"The day corresponding to {day_number} is {day_name}.\")\n",
    "else:\n",
    "    print(\"Invalid input. Please enter a number between 1 and 7.\")\n"
   ]
  },
  {
   "cell_type": "markdown",
   "id": "8fb9a6a7-3b14-40b7-989b-355c41d4832c",
   "metadata": {},
   "source": [
    "Q19. Create a program that determines if a year is a leap year and also if it is evenly divisible by 400."
   ]
  },
  {
   "cell_type": "code",
   "execution_count": 14,
   "id": "95b3db74-a964-4900-b26b-f159655b0be0",
   "metadata": {},
   "outputs": [
    {
     "name": "stdin",
     "output_type": "stream",
     "text": [
      "Enter the year:-  2020\n"
     ]
    },
    {
     "name": "stdout",
     "output_type": "stream",
     "text": [
      "2020 is leap year and evenly divisible by 400\n"
     ]
    }
   ],
   "source": [
    "year=int(input(\"Enter the year:- \"))\n",
    "\n",
    "if (year%4==0 and year%100!=0) or year%400==0:\n",
    "    print(f\"{year} is leap year and evenly divisible by 400\")\n",
    "else:\n",
    "    print(f\"{year} is not a leap year\")"
   ]
  },
  {
   "cell_type": "markdown",
   "id": "63f1b236-f05a-4323-bf90-f50cff2652f6",
   "metadata": {},
   "source": [
    "Q20.Develop a program that checks if a given number is prime or not using nested if-else statements."
   ]
  },
  {
   "cell_type": "code",
   "execution_count": 16,
   "id": "30b6755e-f409-4f5f-b47e-ef47b8e38a20",
   "metadata": {},
   "outputs": [
    {
     "name": "stdin",
     "output_type": "stream",
     "text": [
      "Enter the number for checking whether it is prime or not:-  11\n"
     ]
    },
    {
     "name": "stdout",
     "output_type": "stream",
     "text": [
      "11 is a prime number.\n"
     ]
    }
   ],
   "source": [
    "n=int(input(\"Enter the number for checking whether it is prime or not:- \"))\n",
    "\n",
    "if n>1:\n",
    "    for i in range(2,int(n**0.5)+1):\n",
    "        if(n%i==0):\n",
    "            print(f\"{n} is not a prime number.\")\n",
    "            break\n",
    "    else:\n",
    "        print(f\"{n} is a prime number.\")\n",
    "else:\n",
    "    print(f\"{n} is not a prime number.\")"
   ]
  },
  {
   "cell_type": "markdown",
   "id": "983368af-cdab-4bf0-8f42-de5f3a99b474",
   "metadata": {},
   "source": [
    "Elif statements:- "
   ]
  },
  {
   "cell_type": "markdown",
   "id": "04b579ab-2ee2-478d-910e-a70b432b319f",
   "metadata": {},
   "source": [
    "Q21. Write a Python program to assign grades based on different ranges of scores using elif statements."
   ]
  },
  {
   "cell_type": "code",
   "execution_count": 17,
   "id": "02d11d5c-d29c-4695-9be3-15fb9c09ff47",
   "metadata": {},
   "outputs": [
    {
     "name": "stdin",
     "output_type": "stream",
     "text": [
      "Enter the marks to check the grade:-  43\n"
     ]
    },
    {
     "name": "stdout",
     "output_type": "stream",
     "text": [
      "The student having the marks 43.0 having the grade is 'D' \n"
     ]
    }
   ],
   "source": [
    "marks=float(input(\"Enter the marks to check the grade:- \"))\n",
    "\n",
    "if marks>=90:\n",
    "    grade=\"A++\"\n",
    "elif marks>=80:\n",
    "    grade=\"A\"\n",
    "elif marks>=70:\n",
    "    grade=\"B++\"\n",
    "elif marks>=60:\n",
    "    grade=\"B\"\n",
    "elif marks>=50:\n",
    "    grade=\"C\"\n",
    "elif marks>=40:\n",
    "    grade=\"D\"\n",
    "else:\n",
    "    grade=\"Fail\"\n",
    "    \n",
    "print(f\"The student having the marks {marks} having the grade is '{grade}' \")"
   ]
  },
  {
   "cell_type": "markdown",
   "id": "b04608f8-cce0-46d7-9491-da8031fdcc80",
   "metadata": {},
   "source": [
    "Q22 Implement a program to determine the type of a triangle based on its angles."
   ]
  },
  {
   "cell_type": "code",
   "execution_count": 18,
   "id": "fd0851ec-a598-4fdb-b6ce-f3a6deb6224f",
   "metadata": {},
   "outputs": [
    {
     "name": "stdin",
     "output_type": "stream",
     "text": [
      "Enter the angle:-  123\n"
     ]
    },
    {
     "name": "stdout",
     "output_type": "stream",
     "text": [
      "123 is obtuse-angled triangle\n"
     ]
    }
   ],
   "source": [
    "angle=int(input(\"Enter the angle:- \"))\n",
    "\n",
    "if angle==90:\n",
    "    print(f\"{angle} is the right-angled triangle\")\n",
    "elif angle>90 and angle<180:\n",
    "    print(f\"{angle} is obtuse-angled triangle\")\n",
    "elif angle<90:\n",
    "    print(f\"{angle} is acute-angled triangle\")\n",
    "    \n",
    "else:\n",
    "    print(f\"{angle} is out of range\")"
   ]
  },
  {
   "cell_type": "markdown",
   "id": "e111ac7a-dd08-400c-bc35-a287c0da824b",
   "metadata": {},
   "source": [
    "Q23. Develop a program to categorize a given person's BMI into underweight, normal, overweight, or obese using\n",
    "elif statements."
   ]
  },
  {
   "cell_type": "code",
   "execution_count": 19,
   "id": "4e0d53db-c866-429c-a9f8-4cd44848e733",
   "metadata": {},
   "outputs": [
    {
     "name": "stdin",
     "output_type": "stream",
     "text": [
      "Enter your weight in kilograms:  76\n",
      "Enter your height in meters:  1.55\n"
     ]
    },
    {
     "name": "stdout",
     "output_type": "stream",
     "text": [
      "Your BMI is 31.63, which is categorized as Obese.\n"
     ]
    }
   ],
   "source": [
    "def calculate_bmi(weight_kg, height_m):\n",
    "    # Calculate BMI using the formula: BMI = weight (kg) / (height (m) ^ 2)\n",
    "    return weight_kg / (height_m ** 2)\n",
    "\n",
    "def categorize_bmi(bmi):\n",
    "    if bmi < 18.5:\n",
    "        return \"Underweight\"\n",
    "    elif 18.5 <= bmi < 24.9:\n",
    "        return \"Normal Weight\"\n",
    "    elif 25 <= bmi < 29.9:\n",
    "        return \"Overweight\"\n",
    "    else:\n",
    "        return \"Obese\"\n",
    "\n",
    "# Input weight and height from the user\n",
    "weight_kg = float(input(\"Enter your weight in kilograms: \"))\n",
    "height_m = float(input(\"Enter your height in meters: \"))\n",
    "\n",
    "# Calculate BMI\n",
    "bmi = calculate_bmi(weight_kg, height_m)\n",
    "\n",
    "# Categorize BMI and display the result\n",
    "bmi_category = categorize_bmi(bmi)\n",
    "print(f\"Your BMI is {bmi:.2f}, which is categorized as {bmi_category}.\")\n"
   ]
  },
  {
   "cell_type": "markdown",
   "id": "67aee641-44be-4b3f-be4c-a4c58dafedeb",
   "metadata": {},
   "source": [
    "Q24. Create a program that determines whether a given number is positive, negative, or zero using elif statements. "
   ]
  },
  {
   "cell_type": "code",
   "execution_count": 20,
   "id": "ab6da7f7-fa3d-4656-b242-540c5c40bafb",
   "metadata": {},
   "outputs": [
    {
     "name": "stdin",
     "output_type": "stream",
     "text": [
      "Enter a number:  12\n"
     ]
    },
    {
     "name": "stdout",
     "output_type": "stream",
     "text": [
      "The number is positive.\n"
     ]
    }
   ],
   "source": [
    "# Input a number from the user\n",
    "num = float(input(\"Enter a number: \"))\n",
    "\n",
    "# Use elif statements to categorize the number\n",
    "if num > 0:\n",
    "    print(\"The number is positive.\")\n",
    "elif num < 0:\n",
    "    print(\"The number is negative.\")\n",
    "else:\n",
    "    print(\"The number is zero.\")\n"
   ]
  },
  {
   "cell_type": "markdown",
   "id": "aafc642b-8dd3-4654-ab4f-7352df11606f",
   "metadata": {},
   "source": [
    "Q25. Write a Python script to determine the type of a character (uppercase, lowercase, or special) using elif statements."
   ]
  },
  {
   "cell_type": "code",
   "execution_count": 21,
   "id": "e889142e-44c0-46a4-b60d-575d05f651c9",
   "metadata": {},
   "outputs": [
    {
     "name": "stdin",
     "output_type": "stream",
     "text": [
      "Enter the alphabetic character to check it is uppercase or lowercase:-  A\n"
     ]
    },
    {
     "name": "stdout",
     "output_type": "stream",
     "text": [
      "'A' is Uppercase character\n"
     ]
    }
   ],
   "source": [
    "char=input(\"Enter the alphabetic character to check it is uppercase or lowercase:- \")\n",
    "\n",
    "if (char>='a' and char<='z'):\n",
    "    print(f\"'{char}' is Lowercase character\")\n",
    "elif (char>='A' and char<='Z'):\n",
    "    print(f\"'{char}' is Uppercase character\")\n",
    "else:\n",
    "    print(f\"'{char}' is not a valid alphabetic character\")"
   ]
  },
  {
   "cell_type": "markdown",
   "id": "0e125481-0de7-4228-acad-fe0ec3b923ab",
   "metadata": {},
   "source": [
    "Q26. Implement a program to calculate the discounted price based on different purchase amounts using elif statements."
   ]
  },
  {
   "cell_type": "code",
   "execution_count": 22,
   "id": "31b206fc-5162-4ba7-8687-ffb9380908ef",
   "metadata": {},
   "outputs": [
    {
     "name": "stdin",
     "output_type": "stream",
     "text": [
      "Enter the purchase amount in Indian Rupees:  1200\n"
     ]
    },
    {
     "name": "stdout",
     "output_type": "stream",
     "text": [
      "The discounted price is: 1140.00 Indian Rupees\n"
     ]
    }
   ],
   "source": [
    "# Input the purchase amount in Indian Rupees\n",
    "purchase_amount = float(input(\"Enter the purchase amount in Indian Rupees: \"))\n",
    "\n",
    "# Initialize variables for discount rates\n",
    "discount_rate_1 = 0.05  # 5% discount\n",
    "discount_rate_2 = 0.10  # 10% discount\n",
    "discount_rate_3 = 0.15  # 15% discount\n",
    "\n",
    "# Apply discounts based on different purchase amounts using elif statements\n",
    "if purchase_amount < 1000:\n",
    "    discounted_price = purchase_amount\n",
    "elif 1000 <= purchase_amount < 5000:\n",
    "    discounted_price = purchase_amount - (purchase_amount * discount_rate_1)\n",
    "elif 5000 <= purchase_amount < 10000:\n",
    "    discounted_price = purchase_amount - (purchase_amount * discount_rate_2)\n",
    "else:\n",
    "    discounted_price = purchase_amount - (purchase_amount * discount_rate_3)\n",
    "\n",
    "# Display the discounted price\n",
    "print(f\"The discounted price is: {discounted_price:.2f} Indian Rupees\")\n"
   ]
  },
  {
   "cell_type": "markdown",
   "id": "79e7395b-c84d-49c0-999c-c6c19da79305",
   "metadata": {},
   "source": [
    "Q27. Develop a program to calculate the electricity bill based on different consumption slabs using elif statements."
   ]
  },
  {
   "cell_type": "code",
   "execution_count": 24,
   "id": "2926de4b-cbc7-4a33-8dc4-fd1e3ab0edc8",
   "metadata": {},
   "outputs": [
    {
     "name": "stdin",
     "output_type": "stream",
     "text": [
      "Enter your electricity consumption (kWh):  234\n"
     ]
    },
    {
     "name": "stdout",
     "output_type": "stream",
     "text": [
      "Your electricity bill is: ₹1405.00\n"
     ]
    }
   ],
   "source": [
    "# Input the electricity consumption in kilowatt-hours (kWh)\n",
    "consumption = float(input(\"Enter your electricity consumption (kWh): \"))\n",
    "\n",
    "# Define the electricity rates for different slabs in INR\n",
    "rate_slab1_inr = 5.00  # ₹5.00 per kWh for the first 100 kWh\n",
    "rate_slab2_inr = 6.50  # ₹6.50 per kWh for consumption above 100 kWh up to 200 kWh\n",
    "rate_slab3_inr = 7.50  # ₹7.50 per kWh for consumption above 200 kWh\n",
    "\n",
    "# Initialize the total bill variable in INR\n",
    "total_bill_inr = 0\n",
    "\n",
    "# Calculate the electricity bill using elif statements for different slabs\n",
    "if consumption <= 100:\n",
    "    total_bill_inr = consumption * rate_slab1_inr\n",
    "elif consumption <= 200:\n",
    "    total_bill_inr = (100 * rate_slab1_inr) + ((consumption - 100) * rate_slab2_inr)\n",
    "else:\n",
    "    total_bill_inr = (100 * rate_slab1_inr) + (100 * rate_slab2_inr) + ((consumption - 200) * rate_slab3_inr)\n",
    "\n",
    "# Display the electricity bill in Indian Rupees to the user\n",
    "print(f\"Your electricity bill is: ₹{total_bill_inr:.2f}\")\n"
   ]
  },
  {
   "cell_type": "markdown",
   "id": "ddbea931-89fd-47fd-9fd6-7889b0d55a6c",
   "metadata": {},
   "source": [
    "Q28. Create a program to determine the type of quadrilateral based on its angles and sides using elif\n",
    "statements."
   ]
  },
  {
   "cell_type": "code",
   "execution_count": 25,
   "id": "5f64807b-df0b-4a4c-80a1-9ed4c0f75adb",
   "metadata": {},
   "outputs": [
    {
     "name": "stdin",
     "output_type": "stream",
     "text": [
      "Enter the first angle in degrees:  90\n",
      "Enter the second angle in degrees:  180\n",
      "Enter the third angle in degrees:  67\n",
      "Enter the fourth angle in degrees:  94\n",
      "Enter the length of the first side:  12\n",
      "Enter the length of the second side:  13\n",
      "Enter the length of the third side:  14\n",
      "Enter the length of the fourth side:  15\n"
     ]
    },
    {
     "name": "stdout",
     "output_type": "stream",
     "text": [
      "The quadrilateral is a Quadrilateral (General).\n"
     ]
    }
   ],
   "source": [
    "# Input angles and sides of the quadrilateral\n",
    "angle1 = int(input(\"Enter the first angle in degrees: \"))\n",
    "angle2 = int(input(\"Enter the second angle in degrees: \"))\n",
    "angle3 = int(input(\"Enter the third angle in degrees: \"))\n",
    "angle4 = int(input(\"Enter the fourth angle in degrees: \"))\n",
    "\n",
    "side1 = float(input(\"Enter the length of the first side: \"))\n",
    "side2 = float(input(\"Enter the length of the second side: \"))\n",
    "side3 = float(input(\"Enter the length of the third side: \"))\n",
    "side4 = float(input(\"Enter the length of the fourth side: \"))\n",
    "\n",
    "# Determine the type of quadrilateral using elif statements\n",
    "if angle1 == angle2 == angle3 == angle4 == 90:\n",
    "    if side1 == side2 == side3 == side4:\n",
    "        quadrilateral_type = \"Square\"\n",
    "    elif side1 == side3 and side2 == side4:\n",
    "        quadrilateral_type = \"Rectangle\"\n",
    "    else:\n",
    "        quadrilateral_type = \"Quadrilateral (Right Angles)\"\n",
    "elif angle1 == angle3 and angle2 == angle4:\n",
    "    if side1 == side2 == side3 == side4:\n",
    "        quadrilateral_type = \"Rhombus\"\n",
    "    else:\n",
    "        quadrilateral_type = \"Quadrilateral (Opposite Angles Equal)\"\n",
    "elif side1 == side2 == side3 == side4:\n",
    "    quadrilateral_type = \"Trapezoid\"\n",
    "else:\n",
    "    quadrilateral_type = \"Quadrilateral (General)\"\n",
    "\n",
    "# Display the type of quadrilateral\n",
    "print(f\"The quadrilateral is a {quadrilateral_type}.\")\n"
   ]
  },
  {
   "cell_type": "markdown",
   "id": "bb7a01bf-41cd-492f-952d-58ac61fb3757",
   "metadata": {},
   "source": [
    "Q29. Write a Python script to determine the season based on a user-provided month using elif statements."
   ]
  },
  {
   "cell_type": "code",
   "execution_count": 26,
   "id": "552d47d0-dd45-48e5-b066-424e09b9d667",
   "metadata": {},
   "outputs": [
    {
     "name": "stdin",
     "output_type": "stream",
     "text": [
      "Enter the name of the month:-  november\n"
     ]
    },
    {
     "name": "stdout",
     "output_type": "stream",
     "text": [
      "During the 'november' there is 'winter' season\n"
     ]
    }
   ],
   "source": [
    "month=input(\"Enter the name of the month:- \").lower()\n",
    "\n",
    "if month in [\"october\",\"november\",\"december\",\"january\",\"february\"]:\n",
    "    season=\"winter\"\n",
    "elif month in [\"march\",\"april\",\"may\"]:\n",
    "    season=\"Summer\"\n",
    "elif month in [\"june\",\"july\",\"august\",\"September\"]:\n",
    "    season=\"monsoon\"\n",
    "else:\n",
    "    season=\"invalid month\"\n",
    "\n",
    "    \n",
    "print(f\"During the '{month}' there is '{season}' season\")"
   ]
  },
  {
   "cell_type": "markdown",
   "id": "ee0e548c-3b9d-498d-8739-7229881df6e1",
   "metadata": {},
   "source": [
    "Q30. Implement a program to determine the type of a year (leap or common) and month (30 or 31 days) using elif statements."
   ]
  },
  {
   "cell_type": "code",
   "execution_count": 27,
   "id": "bb7471c7-1f07-432a-a64c-bf3da3e8c27c",
   "metadata": {},
   "outputs": [
    {
     "name": "stdin",
     "output_type": "stream",
     "text": [
      "Enter the year:-  2017\n",
      "Enter the month between 1 - 12:-  6\n"
     ]
    },
    {
     "name": "stdout",
     "output_type": "stream",
     "text": [
      "The year 2017 is a Common year, and the month 6 has 30 days\n"
     ]
    }
   ],
   "source": [
    "year=int(input(\"Enter the year:- \"))\n",
    "month=int(input(\"Enter the month between 1 - 12:- \"))\n",
    "\n",
    "# conditions for leap year\n",
    "\n",
    "if (year%4==0 and year%100!=0) or year%400==0:\n",
    "    year_type=\"Leap\"\n",
    "else:\n",
    "    year_type=\"Common\"\n",
    "    \n",
    "# conditions for the days in a month\n",
    "\n",
    "if month in [1,3,5,7,8,10,12]:\n",
    "    month_days=31\n",
    "elif month in [4,6,9,11]:\n",
    "    month_days=30\n",
    "elif month==2:\n",
    "    if year_type==\"Leap\":\n",
    "        month_days=29\n",
    "    else:\n",
    "        month_days=28\n",
    "else:\n",
    "    month_days=\"Invalid month\"\n",
    "    \n",
    "if month_days!=\"invalid month\":\n",
    "    print(f\"The year {year} is a {year_type} year, and the month {month} has {month_days} days\")\n",
    "    \n",
    "else:\n",
    "    print(\"Invalid month entered\")\n",
    "    "
   ]
  },
  {
   "cell_type": "markdown",
   "id": "76c95dbe-de54-45c9-b81c-ae24355bb74a",
   "metadata": {},
   "source": [
    "Basic level:- "
   ]
  },
  {
   "cell_type": "markdown",
   "id": "97193c0c-202c-4a2a-8e87-59bcf7ea7855",
   "metadata": {},
   "source": [
    "Q1. Write a Python program that checks if a given number is positive, negative, or zero."
   ]
  },
  {
   "cell_type": "code",
   "execution_count": 28,
   "id": "3da63b90-c225-4a05-8dcf-42977a52922d",
   "metadata": {},
   "outputs": [
    {
     "name": "stdin",
     "output_type": "stream",
     "text": [
      "Enter the number:-  12\n"
     ]
    },
    {
     "name": "stdout",
     "output_type": "stream",
     "text": [
      "The number is positive\n"
     ]
    }
   ],
   "source": [
    "n=int(input(\"Enter the number:- \")) # taking the input from the user\n",
    "\n",
    "if n<0:       # condition for -ve numbers\n",
    "    print(\"The number is negative\")\n",
    "elif n>0:     # condition for +ve numbers\n",
    "    print(\"The number is positive\")\n",
    "else:         # condition for the number==0\n",
    "    print(\"The number is zero\")"
   ]
  },
  {
   "cell_type": "markdown",
   "id": "7c61a3de-611c-482a-b1aa-f47051fb90a0",
   "metadata": {},
   "source": [
    "Q2. Create a program to determine if a person is eligible to vote based on their age."
   ]
  },
  {
   "cell_type": "code",
   "execution_count": 29,
   "id": "eb2e9b81-eb99-491e-84f5-479865544c84",
   "metadata": {},
   "outputs": [
    {
     "name": "stdin",
     "output_type": "stream",
     "text": [
      "Enter the age of the person to check whether he is eligible for voting or not:-  34\n"
     ]
    },
    {
     "name": "stdout",
     "output_type": "stream",
     "text": [
      "The person is  eligible for voting\n"
     ]
    }
   ],
   "source": [
    "# taking the age input from the user\n",
    "age=int(input(\"Enter the age of the person to check whether he is eligible for voting or not:- \"))\n",
    "\n",
    "if age>=18:    # if conditions true person can vote\n",
    "    print(\"The person is  eligible for voting\")\n",
    "else:          # else not eligible to vote\n",
    "    print(\"The person is not eligible for voting\")"
   ]
  },
  {
   "cell_type": "markdown",
   "id": "1a11ac5e-ee7b-43f8-9b83-d8070718b1b3",
   "metadata": {},
   "source": [
    "Q3.  Write a program to find the maximum of two given numbers using conditional statements."
   ]
  },
  {
   "cell_type": "code",
   "execution_count": 30,
   "id": "1dfb50e4-e4d9-4ad8-bff9-612f4dccd2a5",
   "metadata": {},
   "outputs": [
    {
     "name": "stdin",
     "output_type": "stream",
     "text": [
      "Enter the first number:-  23\n",
      "Enter the second number:-  56\n"
     ]
    },
    {
     "name": "stdout",
     "output_type": "stream",
     "text": [
      "56 is greater than 23\n"
     ]
    }
   ],
   "source": [
    "a=int(input(\"Enter the first number:- \"))  # input first number from user\n",
    "b=int(input(\"Enter the second number:- \"))  # second number from user\n",
    "\n",
    "if a>=b:    # condion for a>b\n",
    "    print(f\"{a} is greater than {b}\")\n",
    "else:       # else b>a\n",
    "    print(f\"{b} is greater than {a}\")\n"
   ]
  },
  {
   "cell_type": "markdown",
   "id": "877c938d-34c4-445c-9cd1-c28fa6095fe7",
   "metadata": {},
   "source": [
    "Q4. Develop a program that calculates the grade of a student based on their exam score."
   ]
  },
  {
   "cell_type": "code",
   "execution_count": 31,
   "id": "aa79f2fa-3a39-42cc-96cb-a9a84847a728",
   "metadata": {},
   "outputs": [
    {
     "name": "stdin",
     "output_type": "stream",
     "text": [
      "Enter the marks to check the grade:-  12\n"
     ]
    },
    {
     "name": "stdout",
     "output_type": "stream",
     "text": [
      "The student having the marks 12.0 having the grade is 'Fail' \n"
     ]
    }
   ],
   "source": [
    "marks=float(input(\"Enter the marks to check the grade:- \"))\n",
    "\n",
    "if marks>=90:\n",
    "    grade=\"A++\"\n",
    "elif marks>=80:\n",
    "    grade=\"A\"\n",
    "elif marks>=70:\n",
    "    grade=\"B++\"\n",
    "elif marks>=60:\n",
    "    grade=\"B\"\n",
    "elif marks>=50:\n",
    "    grade=\"C\"\n",
    "elif marks>=40:\n",
    "    grade=\"D\"\n",
    "else:\n",
    "    grade=\"Fail\"\n",
    "    \n",
    "print(f\"The student having the marks {marks} having the grade is '{grade}' \")"
   ]
  },
  {
   "cell_type": "markdown",
   "id": "c5412298-53f9-4a13-8e04-89a6a9efc74a",
   "metadata": {},
   "source": [
    "Q5. Create a program that checks if a year is a leap year or not."
   ]
  },
  {
   "cell_type": "code",
   "execution_count": 32,
   "id": "beb2dc71-782a-49aa-b029-554f1f10015a",
   "metadata": {},
   "outputs": [
    {
     "name": "stdin",
     "output_type": "stream",
     "text": [
      "Enter the year to check whether it is leap year or common year:-  4567\n"
     ]
    },
    {
     "name": "stdout",
     "output_type": "stream",
     "text": [
      "This is not a leap year\n"
     ]
    }
   ],
   "source": [
    "# taking the iput as year from the user\n",
    "year=int(input(\"Enter the year to check whether it is leap year or common year:- \"))\n",
    "\n",
    "if (year%4==0 and year%100!=0) or year%400==0:  # condition for leap year\n",
    "    print(\"This is leap year\")\n",
    "else:                                           # else not a leap year\n",
    "    print(\"This is not a leap year\")\n",
    "    "
   ]
  },
  {
   "cell_type": "markdown",
   "id": "d975f148-fe89-4687-9507-03dab871c7f1",
   "metadata": {},
   "source": [
    "Q6. Write a program to classify a triangle based on its sides' lengths."
   ]
  },
  {
   "cell_type": "code",
   "execution_count": 33,
   "id": "14dcd2cd-a0a0-43e9-8030-fcdc1c4a1df4",
   "metadata": {},
   "outputs": [
    {
     "name": "stdin",
     "output_type": "stream",
     "text": [
      "Enter the first side:-  123\n",
      "Enter the second side:-  567\n",
      "Enter the third side:-  35\n"
     ]
    },
    {
     "name": "stdout",
     "output_type": "stream",
     "text": [
      "Scalene triangle\n"
     ]
    }
   ],
   "source": [
    "# taking sides input from the user\n",
    "s1=float(input(\"Enter the first side:- \"))\n",
    "s2=float(input(\"Enter the second side:- \"))\n",
    "s3=float(input(\"Enter the third side:- \"))\n",
    "\n",
    "if s1==s2==s3:   # if all the sides are equal\n",
    "    print(\"Equilateral triangle\")\n",
    "elif (s1==s2 or s1==s3 or s2==s3):   # if any two sides are equal\n",
    "    print(\"isosceles triangle\")\n",
    "else:             # if any of the sides are not equals to each other\n",
    "    print(\"Scalene triangle\")"
   ]
  },
  {
   "cell_type": "markdown",
   "id": "39bb116b-5c48-46e9-bbde-8c5ee6074589",
   "metadata": {},
   "source": [
    "Q7.Build a program that determines the largest of three given numbers. "
   ]
  },
  {
   "cell_type": "code",
   "execution_count": 34,
   "id": "61b3ea0c-e9dc-41d2-8ea3-ec3e57cc7eb0",
   "metadata": {},
   "outputs": [
    {
     "name": "stdin",
     "output_type": "stream",
     "text": [
      "Enter the first number:  12\n",
      "Enter the second number:  45\n",
      "Enter the third number:  67\n"
     ]
    },
    {
     "name": "stdout",
     "output_type": "stream",
     "text": [
      "67 is greater than or equal to 12 and 45\n"
     ]
    }
   ],
   "source": [
    "# Input three numbers from the user\n",
    "a = int(input(\"Enter the first number: \"))\n",
    "b = int(input(\"Enter the second number: \"))\n",
    "c = int(input(\"Enter the third number: \"))\n",
    "\n",
    "# Check which number is greater using if-elif-else statements\n",
    "if a >= b and a >= c:\n",
    "    # If 'a' is greater than or equal to 'b' and 'c'\n",
    "    print(f\"{a} is greater than or equal to {b} and {c}\")\n",
    "elif b >= c and b >= a:\n",
    "    # If 'b' is greater than or equal to 'c' and 'a'\n",
    "    print(f\"{b} is greater than or equal to {a} and {c}\")\n",
    "else:\n",
    "    # If 'c' is greater than or equal to 'a' and 'b'\n",
    "    print(f\"{c} is greater than or equal to {a} and {b}\")\n"
   ]
  },
  {
   "cell_type": "markdown",
   "id": "dedee7c2-2b60-481a-94a1-fdcd1c9d1358",
   "metadata": {},
   "source": [
    "Q8.Develop a program that checks whether a character is a vowel or a consonant."
   ]
  },
  {
   "cell_type": "code",
   "execution_count": 35,
   "id": "109ec7d9-ab09-4659-9751-c8c22b10c496",
   "metadata": {},
   "outputs": [
    {
     "name": "stdin",
     "output_type": "stream",
     "text": [
      "Enter the character:-  f\n"
     ]
    },
    {
     "name": "stdout",
     "output_type": "stream",
     "text": [
      "'f' is a consonant\n"
     ]
    }
   ],
   "source": [
    "ch=input(\"Enter the character:- \")\n",
    "vowels='aeiouAEIOU'\n",
    "\n",
    "if ch.isalpha() and len(ch)==1:\n",
    "    if ch in vowels:\n",
    "        print(f\"'{ch}' is a vowel\")\n",
    "    else:\n",
    "        print(f\"'{ch}' is a consonant\")\n",
    "else:\n",
    "    print(f\"'{ch}' invalid character\") "
   ]
  },
  {
   "cell_type": "markdown",
   "id": "37fecb47-ae6c-4f74-9e01-181ac7f05dab",
   "metadata": {},
   "source": [
    "Q9. Create a program to calculate the total cost of a shopping cart based on discounts."
   ]
  },
  {
   "cell_type": "code",
   "execution_count": 36,
   "id": "fe421658-a578-4111-9202-031465abfab0",
   "metadata": {},
   "outputs": [
    {
     "name": "stdin",
     "output_type": "stream",
     "text": [
      "Enter the price of item 1:  1234\n",
      "Enter the price of item 2:  23525\n",
      "Enter the price of item 3:  325435\n",
      "Enter the quantity of item 1:  2542\n",
      "Enter the quantity of item 2:  23524\n",
      "Enter the quantity of item 3:  324\n"
     ]
    },
    {
     "name": "stdout",
     "output_type": "stream",
     "text": [
      "You get 10.0% discount on your actual price Rs.661979868.0, so your discounted bill is Rs.595781881.20\n"
     ]
    }
   ],
   "source": [
    "# Input the prices of items bought by the user\n",
    "item1 = float(input(\"Enter the price of item 1: \"))\n",
    "item2 = float(input(\"Enter the price of item 2: \"))\n",
    "item3 = float(input(\"Enter the price of item 3: \"))\n",
    "\n",
    "# Input the quantity of each item bought by the user\n",
    "item1_qty = int(input(\"Enter the quantity of item 1: \"))\n",
    "item2_qty = int(input(\"Enter the quantity of item 2: \"))\n",
    "item3_qty = int(input(\"Enter the quantity of item 3: \"))\n",
    "\n",
    "# Calculate the total cost before discounts\n",
    "total_cost = (item1 * item1_qty) + (item2 * item2_qty) + (item3 * item3_qty)\n",
    "\n",
    "# Check for and apply discounts based on predefined rules\n",
    "if total_cost >= 10000:  # If the total cost is greater than or equal to Rs. 10,000\n",
    "    discount = 0.1  # 10% discount\n",
    "    discounted_bill = total_cost - (total_cost * discount)\n",
    "    print(f\"You get {discount*100}% discount on your actual price Rs.{total_cost}, so your discounted bill is Rs.{discounted_bill:.2f}\")\n",
    "elif total_cost >= 5000:  # If the total cost is greater than or equal to Rs. 5,000\n",
    "    discount = 0.05  # 5% discount\n",
    "    discounted_bill = total_cost - (total_cost * discount)\n",
    "    print(f\"You get {discount*100}% discount on your actual price Rs.{total_cost}, so your discounted bill is Rs.{discounted_bill:.2f}\")\n",
    "else:\n",
    "    # If the total cost is less than Rs. 5,000, no discount is applied\n",
    "    discounted_bill = total_cost\n",
    "    print(f\"You have purchased the items less than Rs. 5,000, so you are not getting any discount. Your total bill is Rs.{discounted_bill:.2f}\")\n"
   ]
  },
  {
   "cell_type": "markdown",
   "id": "932c1619-bd4e-497d-a12a-a1f011a14642",
   "metadata": {},
   "source": [
    "Q10. Write a program that checks if a given number is even or odd."
   ]
  },
  {
   "cell_type": "code",
   "execution_count": 37,
   "id": "9676be66-f048-41a7-a553-de1ca0602b7c",
   "metadata": {},
   "outputs": [
    {
     "name": "stdin",
     "output_type": "stream",
     "text": [
      "Enter the number:  232\n"
     ]
    },
    {
     "name": "stdout",
     "output_type": "stream",
     "text": [
      "Even number\n"
     ]
    }
   ],
   "source": [
    "# Input a number from the user\n",
    "n = int(input(\"Enter the number: \"))\n",
    "\n",
    "# Check if the number is even or odd using the modulo operator (%)\n",
    "if n % 2 == 0:\n",
    "    # If the remainder when n is divided by 2 is 0, it's an even number\n",
    "    print(\"Even number\")\n",
    "else:\n",
    "    # If the remainder when n is divided by 2 is not 0, it's an odd number\n",
    "    print(\"Odd number\")\n"
   ]
  },
  {
   "cell_type": "markdown",
   "id": "8cd9ca2e-6746-4d14-b0bc-d2b8c8550bc7",
   "metadata": {},
   "source": [
    "Intermediate level:- "
   ]
  },
  {
   "cell_type": "markdown",
   "id": "87d6fa5c-f8a6-4985-bd47-5e2d7c23a5cf",
   "metadata": {},
   "source": [
    "Q11. Write a program that calculates the roots of a quadratic equation ."
   ]
  },
  {
   "cell_type": "code",
   "execution_count": null,
   "id": "6cf6361d-5a54-4ba8-9461-79792748cb5e",
   "metadata": {},
   "outputs": [
    {
     "name": "stdin",
     "output_type": "stream",
     "text": [
      "Enter the coefficient a:  2\n",
      "Enter the coefficient b:  3\n",
      "Enter the coefficient c:  34\n"
     ]
    },
    {
     "name": "stdout",
     "output_type": "stream",
     "text": [
      "The roots are complex: (-0.75+4.054318685056714j) and (-0.75-4.054318685056714j)\n"
     ]
    }
   ],
   "source": [
    "import math\n",
    "\n",
    "# Input coefficients a, b, and c from the user\n",
    "a = float(input(\"Enter the coefficient a: \"))\n",
    "b = float(input(\"Enter the coefficient b: \"))\n",
    "c = float(input(\"Enter the coefficient c: \"))\n",
    "\n",
    "# Calculate the discriminant (the value inside the square root)\n",
    "discriminant = b**2 - 4*a*c\n",
    "\n",
    "# Check the nature of the roots based on the discriminant\n",
    "if discriminant > 0:\n",
    "    # Two real and distinct roots\n",
    "    root1 = (-b + math.sqrt(discriminant)) / (2*a)\n",
    "    root2 = (-b - math.sqrt(discriminant)) / (2*a)\n",
    "    print(f\"The roots are real and distinct: {root1} and {root2}\")\n",
    "elif discriminant == 0:\n",
    "    # One real root (repeated)\n",
    "    root = -b / (2*a)\n",
    "    print(f\"The root is real and repeated: {root}\")\n",
    "else:\n",
    "    # Complex roots\n",
    "    real_part = -b / (2*a)\n",
    "    imaginary_part = math.sqrt(-discriminant) / (2*a)\n",
    "    root1 = complex(real_part, imaginary_part)\n",
    "    root2 = complex(real_part, -imaginary_part)\n",
    "    print(f\"The roots are complex: {root1} and {root2}\")\n"
   ]
  },
  {
   "cell_type": "markdown",
   "id": "73e1b8b0-b1e1-4901-84ad-17c99d23d71a",
   "metadata": {},
   "source": [
    "Q12. Create a program that determines the day of the week based on the day number (1-7)."
   ]
  },
  {
   "cell_type": "code",
   "execution_count": 39,
   "id": "1e2346e3-02b1-4214-b59e-525fc0be5b3a",
   "metadata": {},
   "outputs": [
    {
     "name": "stdin",
     "output_type": "stream",
     "text": [
      "Enter the number of the day between (1-7):-  6\n"
     ]
    },
    {
     "name": "stdout",
     "output_type": "stream",
     "text": [
      "on the 6th day the name of the day is saturday\n"
     ]
    }
   ],
   "source": [
    "day_names=[\"monday\",\"tuesday\",\"wednesday\",\"thursday\",\"friday\",\"saturday\",\"sunday\"]\n",
    "day_number=int(input(\"Enter the number of the day between (1-7):- \"))\n",
    "\n",
    "if 1<= day_number <=7:\n",
    "    day_name=day_names[day_number-1]\n",
    "    \n",
    "else:\n",
    "    day_name=\"invalid day\"\n",
    "    \n",
    "print(f\"on the {day_number}th day the name of the day is {day_name}\")\n"
   ]
  },
  {
   "cell_type": "markdown",
   "id": "f22dd6b2-c1f5-476c-9ec4-1adcce35f74d",
   "metadata": {},
   "source": [
    "Q13. Develop a program that calculates the factorial of a given number using recursion."
   ]
  },
  {
   "cell_type": "code",
   "execution_count": 40,
   "id": "55ab6011-1c19-4cba-b804-2f406909dcea",
   "metadata": {},
   "outputs": [
    {
     "name": "stdin",
     "output_type": "stream",
     "text": [
      "Enter the number:  23\n"
     ]
    },
    {
     "name": "stdout",
     "output_type": "stream",
     "text": [
      "The factorial of the given number 23 is: 25852016738884976640000\n"
     ]
    }
   ],
   "source": [
    "# Define a recursive function to calculate the factorial of a number 'n'\n",
    "def factorial(n):\n",
    "    # Base case: If 'n' is 0, return 1, as 0! is defined as 1\n",
    "    if n == 0:\n",
    "        return 1\n",
    "    else:\n",
    "        # Recursive case: Calculate factorial by multiplying 'n' with factorial of (n-1)\n",
    "        return n * factorial(n - 1)\n",
    "\n",
    "# Get user input for the number for which you want to calculate the factorial\n",
    "n = int(input(\"Enter the number: \"))\n",
    "\n",
    "# Check if the input number is negative\n",
    "if n < 0:\n",
    "    print(\"Factorial of a negative number is not defined.\")\n",
    "else:\n",
    "    # Call the 'factorial' function to calculate the factorial of 'n'\n",
    "    result = factorial(n)\n",
    "    # Print the result\n",
    "    print(f\"The factorial of the given number {n} is: {result}\")\n"
   ]
  },
  {
   "cell_type": "markdown",
   "id": "54442db3-0f4f-4140-9366-9f823fc0d4a4",
   "metadata": {},
   "source": [
    "Q14. Write a program to find the largest among three numbers without using the `max()` function."
   ]
  },
  {
   "cell_type": "code",
   "execution_count": 41,
   "id": "6b01f362-2526-46da-86b6-708e414c4456",
   "metadata": {},
   "outputs": [
    {
     "name": "stdin",
     "output_type": "stream",
     "text": [
      "Enter the first number:  123\n",
      "Enter the second number:  567\n",
      "Enter the third number:  432\n"
     ]
    },
    {
     "name": "stdout",
     "output_type": "stream",
     "text": [
      "The largest number among 123.0 , 567.0 and 432.0 is: 567.0\n"
     ]
    }
   ],
   "source": [
    "# Get input for three numbers from the user\n",
    "num1 = float(input(\"Enter the first number: \"))\n",
    "num2 = float(input(\"Enter the second number: \"))\n",
    "num3 = float(input(\"Enter the third number: \"))\n",
    "\n",
    "# Compare the numbers to find the largest\n",
    "if num1 >= num2 and num1 >= num3:\n",
    "    largest = num1\n",
    "elif num2 >= num1 and num2 >= num3:\n",
    "    largest = num2\n",
    "else:\n",
    "    largest = num3\n",
    "\n",
    "# Print the largest number\n",
    "print(\"The largest number among\", num1, \",\", num2, \"and\", num3, \"is:\", largest)\n"
   ]
  },
  {
   "cell_type": "markdown",
   "id": "89d52af5-242e-4b59-aaf2-6438f9d8d9cd",
   "metadata": {},
   "source": [
    "Q15. Create a program that simulates a basic ATM transaction menu."
   ]
  },
  {
   "cell_type": "code",
   "execution_count": 44,
   "id": "7a16cd97-f6f4-4017-94ef-d718b1608b8e",
   "metadata": {},
   "outputs": [
    {
     "name": "stdout",
     "output_type": "stream",
     "text": [
      "\\ATM menu\n",
      "1 Display balance\n",
      "2 Deposite amount\n",
      "3 withdrawing money\n",
      "4 Quit\n",
      "\n"
     ]
    },
    {
     "name": "stdin",
     "output_type": "stream",
     "text": [
      "Enter your choice 1/2/3/4:-  3\n",
      "Enter the amount you want to withdraw:-  1234\n"
     ]
    },
    {
     "name": "stdout",
     "output_type": "stream",
     "text": [
      "You do not have sufficiet balance in your account\n",
      "\\ATM menu\n",
      "1 Display balance\n",
      "2 Deposite amount\n",
      "3 withdrawing money\n",
      "4 Quit\n",
      "\n"
     ]
    },
    {
     "name": "stdin",
     "output_type": "stream",
     "text": [
      "Enter your choice 1/2/3/4:-  4\n"
     ]
    },
    {
     "name": "stdout",
     "output_type": "stream",
     "text": [
      "Thankyou! for using the ATM\n"
     ]
    }
   ],
   "source": [
    "balance=1000\n",
    "\n",
    "def display_menu():\n",
    "    print(\"\\ATM menu\")\n",
    "    print(\"1 Display balance\")\n",
    "    print(\"2 Deposite amount\")\n",
    "    print(\"3 withdrawing money\")\n",
    "    print(\"4 Quit\")\n",
    "    print()\n",
    "    \n",
    "# function for checking the balance\n",
    "\n",
    "def check_balance():\n",
    "    print(f\"Your account balance is {balance}\")\n",
    "\n",
    "# function for depositing the money\n",
    "\n",
    "def deposite():\n",
    "    global balance\n",
    "    amount=int(input(\"Enter the amount you have to deposite in your account:- \"))\n",
    "    if amount>0:\n",
    "        balance+=amount\n",
    "        print(f\"your account is credited with rupees {amount}\")\n",
    "    else:\n",
    "        print(\"please enter an amount greater than 0\")\n",
    "\n",
    "        \n",
    "# function for withdrawing the money\n",
    "\n",
    "def withdraw():\n",
    "    global balance\n",
    "    amount=int(input(\"Enter the amount you want to withdraw:- \"))\n",
    "    if amount>0 and amount<=balance:\n",
    "        balance-=amount\n",
    "        print(f\"Your account is debited with rupees {amount}\")\n",
    "    else:\n",
    "        print(\"You do not have sufficiet balance in your account\")\n",
    "        \n",
    "# main program\n",
    "while True:\n",
    "    display_menu()\n",
    "    choice=int(input(\"Enter your choice 1/2/3/4:- \"))\n",
    "    \n",
    "    if choice==1:\n",
    "        check_balance()\n",
    "    elif choice==2:\n",
    "        deposite()\n",
    "    elif choice==3:\n",
    "        withdraw()\n",
    "    elif choice==4:\n",
    "        print(\"Thankyou! for using the ATM\")\n",
    "        break\n",
    "    else:\n",
    "        print(\"Enter the valid key!\")\n",
    "\n",
    "\n",
    "    "
   ]
  },
  {
   "cell_type": "markdown",
   "id": "a17e43bc-b8f4-4e76-a161-5d29504489a1",
   "metadata": {},
   "source": [
    "Q16. Build a program that checks if a given string is a palindrome or not."
   ]
  },
  {
   "cell_type": "code",
   "execution_count": 45,
   "id": "0f88ec91-4c21-4fce-9c90-18a21eb5e1d6",
   "metadata": {},
   "outputs": [
    {
     "name": "stdin",
     "output_type": "stream",
     "text": [
      "Enter the string:-  ayush\n"
     ]
    },
    {
     "name": "stdout",
     "output_type": "stream",
     "text": [
      "The string is not palindrome\n"
     ]
    }
   ],
   "source": [
    "# Ask the user to input a string and store it in the 'string' variable.\n",
    "string = input(\"Enter the string:- \")\n",
    "\n",
    "# Reverse the input string using slicing ([::-1]) and store it in 'reverse_str'.\n",
    "reverse_str = string[::-1]\n",
    "\n",
    "# Check if the original string is equal to its reverse.\n",
    "if string == reverse_str:\n",
    "    # If they are equal, print that the string is a palindrome.\n",
    "    print(\"The string is palindrome\")\n",
    "else:\n",
    "    # If they are not equal, print that the string is not a palindrome.\n",
    "    print(\"The string is not palindrome\")\n"
   ]
  },
  {
   "cell_type": "markdown",
   "id": "c4965e23-bd28-4d19-9f73-c67292d74098",
   "metadata": {},
   "source": [
    "Q17. Write a program that calculates the average of a list of numbers, excluding the smallest and largest values."
   ]
  },
  {
   "cell_type": "code",
   "execution_count": 46,
   "id": "748db360-31ae-461d-94b9-0d5f02a7e2dc",
   "metadata": {},
   "outputs": [
    {
     "name": "stdin",
     "output_type": "stream",
     "text": [
      "Enter the elements in the list seperated by spaces:-  1 2 3 4 5 6 7 7 822111 \n"
     ]
    },
    {
     "name": "stdout",
     "output_type": "stream",
     "text": [
      "The average of the lis without smallest and largest value is:-  4.857142857142857\n"
     ]
    }
   ],
   "source": [
    "inp_lis=input(\"Enter the elements in the list seperated by spaces:- \").split()\n",
    "inp_lis=[int(i) for i in inp_lis]\n",
    "\n",
    "sorting=sorted(inp_lis)\n",
    "\n",
    "sorted_lis=sorting[1:-1]\n",
    "\n",
    "avg=sum(sorted_lis)/len(sorted_lis)\n",
    "\n",
    "print(\"The average of the lis without smallest and largest value is:- \",avg)"
   ]
  },
  {
   "cell_type": "markdown",
   "id": "86fca8b1-1d5c-468f-98e9-db61fa037cee",
   "metadata": {},
   "source": [
    "Q18. 18. Develop a program that converts a given temperature from Celsius to Fahrenheit."
   ]
  },
  {
   "cell_type": "code",
   "execution_count": 47,
   "id": "89f3a8f4-9b03-477d-a543-f985b770652c",
   "metadata": {},
   "outputs": [
    {
     "name": "stdin",
     "output_type": "stream",
     "text": [
      "Enter temperature in Celsius:  56\n"
     ]
    },
    {
     "name": "stdout",
     "output_type": "stream",
     "text": [
      "56.0 degrees Celsius is equal to 132.8 degrees Fahrenheit\n"
     ]
    }
   ],
   "source": [
    "# Function to convert Celsius to Fahrenheit\n",
    "def celsius_to_fahrenheit(celsius):\n",
    "    fahrenheit = (celsius * 9/5) + 32\n",
    "    return fahrenheit\n",
    "\n",
    "# Input temperature in Celsius from the user\n",
    "celsius = float(input(\"Enter temperature in Celsius: \"))\n",
    "\n",
    "# Call the function to perform the conversion\n",
    "fahrenheit = celsius_to_fahrenheit(celsius)\n",
    "\n",
    "# Display the result\n",
    "print(f\"{celsius} degrees Celsius is equal to {fahrenheit} degrees Fahrenheit\")\n"
   ]
  },
  {
   "cell_type": "markdown",
   "id": "f1f23bba-48fe-4272-95ac-e3142389f11f",
   "metadata": {},
   "source": [
    "Q19. Create a program that simulates a basic calculator for addition, subtraction, multiplication, and division."
   ]
  },
  {
   "cell_type": "code",
   "execution_count": 48,
   "id": "7a53ab00-ae9b-48c9-8aed-086791799313",
   "metadata": {},
   "outputs": [
    {
     "name": "stdin",
     "output_type": "stream",
     "text": [
      "Enter the first number:-  1234\n",
      "Enter the second number:-  6543\n"
     ]
    },
    {
     "name": "stdout",
     "output_type": "stream",
     "text": [
      "Enter + for addition!\n",
      "Enter - for subbtraction!\n",
      "Enter * for multiplication!\n",
      "Enter / for division!\n"
     ]
    },
    {
     "name": "stdin",
     "output_type": "stream",
     "text": [
      "Enter the operation you have to perform:-  *\n"
     ]
    },
    {
     "name": "stdout",
     "output_type": "stream",
     "text": [
      "The result is:-  8074062\n"
     ]
    }
   ],
   "source": [
    "a=int(input(\"Enter the first number:- \"))\n",
    "b=int(input(\"Enter the second number:- \"))\n",
    "\n",
    "print(\"Enter + for addition!\")\n",
    "print(\"Enter - for subbtraction!\")\n",
    "print(\"Enter * for multiplication!\")\n",
    "print(\"Enter / for division!\")\n",
    "operation=input(\"Enter the operation you have to perform:- \")\n",
    "\n",
    "if operation=='+':\n",
    "    result=a+b\n",
    "elif operation=='-':\n",
    "    result=a-b\n",
    "elif operation=='*':\n",
    "    result=a*b\n",
    "elif operation=='/':\n",
    "    result=a/b\n",
    "else:\n",
    "    result=\"invalid operation\"\n",
    "    \n",
    "print(\"The result is:- \",result)"
   ]
  },
  {
   "cell_type": "markdown",
   "id": "583fb4e8-551e-4d7b-b9f1-122afe0254d7",
   "metadata": {},
   "source": [
    "Q20. Write a program that determines the roots of a cubic equation using the Cardano formula."
   ]
  },
  {
   "cell_type": "code",
   "execution_count": 1,
   "id": "3a3606e1-15fd-40ab-89a4-33d06705b02b",
   "metadata": {},
   "outputs": [
    {
     "name": "stdin",
     "output_type": "stream",
     "text": [
      "Enter coefficient a:  1\n",
      "Enter coefficient b:  2\n",
      "Enter coefficient c:  3\n",
      "Enter coefficient d:  4\n"
     ]
    },
    {
     "name": "stdout",
     "output_type": "stream",
     "text": [
      "The roots of the cubic equation are:\n",
      "Root 1: -1.760304-1.199503j\n"
     ]
    }
   ],
   "source": [
    "import math\n",
    "\n",
    "# Function to find the roots of a cubic equation using Cardano's method\n",
    "def cubic_roots(a, b, c, d):\n",
    "    # Calculate the discriminant and its components\n",
    "    p = c / a - (b ** 2) / (3 * (a ** 2))\n",
    "    q = (2 * (b ** 3)) / (27 * (a ** 3)) - (b * c) / (3 * (a ** 2)) + d / a\n",
    "    discriminant = (q ** 2) / 4 + (p ** 3) / 27\n",
    "\n",
    "    # Check the discriminant for different cases\n",
    "    if discriminant > 0:\n",
    "        u = ((-q / 2) + math.sqrt(discriminant)) ** (1 / 3)\n",
    "        v = ((-q / 2) - math.sqrt(discriminant)) ** (1 / 3)\n",
    "        real_root = -b / (3 * a) - u - v\n",
    "        return [real_root]\n",
    "\n",
    "    elif discriminant == 0:\n",
    "        u = ((-q / 2) + math.sqrt(discriminant)) ** (1 / 3)\n",
    "        v = ((-q / 2) - math.sqrt(discriminant)) ** (1 / 3)\n",
    "        real_root = -b / (3 * a) - u - v\n",
    "        imaginary_root = (u + v) / 2 * math.sqrt(3)\n",
    "        return [real_root, imaginary_root, imaginary_root]\n",
    "\n",
    "    else:\n",
    "        r = math.sqrt((-(p ** 3)) / 27)\n",
    "        theta = math.acos(-q / (2 * r))\n",
    "        root1 = 2 * math.sqrt(-p / 3) * math.cos(theta / 3) - b / (3 * a)\n",
    "        root2 = 2 * math.sqrt(-p / 3) * math.cos((theta + 2 * math.pi) / 3) - b / (3 * a)\n",
    "        root3 = 2 * math.sqrt(-p / 3) * math.cos((theta + 4 * math.pi) / 3) - b / (3 * a)\n",
    "        return [root1, root2, root3]\n",
    "\n",
    "# Input coefficients a, b, c, and d of the cubic equation\n",
    "a = float(input(\"Enter coefficient a: \"))\n",
    "b = float(input(\"Enter coefficient b: \"))\n",
    "c = float(input(\"Enter coefficient c: \"))\n",
    "d = float(input(\"Enter coefficient d: \"))\n",
    "\n",
    "# Calculate and display the roots\n",
    "roots = cubic_roots(a, b, c, d)\n",
    "print(\"The roots of the cubic equation are:\")\n",
    "for i, root in enumerate(roots):\n",
    "    print(f\"Root {i+1}: {root:.6f}\")\n"
   ]
  },
  {
   "cell_type": "markdown",
   "id": "af53d301-dc15-4612-b476-e42268ca1b1d",
   "metadata": {},
   "source": [
    "Advanced level:- "
   ]
  },
  {
   "cell_type": "markdown",
   "id": "7848c5f8-4483-47b1-b3c3-fe148bede770",
   "metadata": {},
   "source": [
    "Q21. Create a program that calculates the income tax based on the user's income and tax brackets."
   ]
  },
  {
   "cell_type": "code",
   "execution_count": 2,
   "id": "1c47e413-f89a-4862-98eb-53250f5604eb",
   "metadata": {},
   "outputs": [
    {
     "name": "stdin",
     "output_type": "stream",
     "text": [
      "Enter your income:  1234567890\n"
     ]
    },
    {
     "name": "stdout",
     "output_type": "stream",
     "text": [
      "Your income tax is: 493782155.90\n"
     ]
    }
   ],
   "source": [
    "# Define tax brackets and their corresponding tax rates\n",
    "tax_brackets = [\n",
    "    (0, 10000, 0.10),\n",
    "    (10001, 40000, 0.20),\n",
    "    (40001, 80000, 0.30),\n",
    "    (80001, float('inf'), 0.40)\n",
    "]\n",
    "\n",
    "# Input the user's income\n",
    "try:\n",
    "    income = float(input(\"Enter your income: \"))\n",
    "except ValueError:\n",
    "    print(\"Please enter a valid income.\")\n",
    "    exit(1)\n",
    "\n",
    "# Calculate the income tax\n",
    "tax_owed = 0\n",
    "\n",
    "for bracket in tax_brackets:\n",
    "    min_income, max_income, tax_rate = bracket\n",
    "    if income <= 0:\n",
    "        break\n",
    "    if income > max_income:\n",
    "        taxable_amount = max_income - min_income\n",
    "    else:\n",
    "        taxable_amount = income - min_income\n",
    "\n",
    "    tax_owed += taxable_amount * tax_rate\n",
    "    income -= taxable_amount\n",
    "\n",
    "# Display the calculated income tax\n",
    "print(f\"Your income tax is: {tax_owed:.2f}\")\n"
   ]
  },
  {
   "cell_type": "markdown",
   "id": "d46fc083-ef53-448f-b1d6-21c77420574e",
   "metadata": {},
   "source": [
    "Q22. Write a program that simulates a rock-paper-scissors game against the computer."
   ]
  },
  {
   "cell_type": "code",
   "execution_count": 9,
   "id": "a3fe9fd1-c450-4e0e-8829-39e4d05c0587",
   "metadata": {},
   "outputs": [
    {
     "name": "stdout",
     "output_type": "stream",
     "text": [
      "Let's play Rock-Paper-Scissors against the computer!\n"
     ]
    },
    {
     "name": "stdin",
     "output_type": "stream",
     "text": [
      "Choose rock, paper, or scissors:  rock\n"
     ]
    },
    {
     "name": "stdout",
     "output_type": "stream",
     "text": [
      "You chose rock.\n",
      "Computer chose scissors.\n",
      "You win!\n"
     ]
    },
    {
     "name": "stdin",
     "output_type": "stream",
     "text": [
      "Play again? (yes/no):  no\n"
     ]
    },
    {
     "name": "stdout",
     "output_type": "stream",
     "text": [
      "Thanks for playing!\n"
     ]
    }
   ],
   "source": [
    "import random\n",
    "\n",
    "def get_user_choice():\n",
    "    \"\"\"Get the user's choice (rock, paper, or scissors).\"\"\"\n",
    "    while True:\n",
    "        user_choice = input(\"Choose rock, paper, or scissors: \").lower()\n",
    "        if user_choice in [\"rock\", \"paper\", \"scissors\"]:\n",
    "            return user_choice\n",
    "        else:\n",
    "            print(\"Invalid choice. Please choose rock, paper, or scissors.\")\n",
    "\n",
    "def get_computer_choice():\n",
    "    \"\"\"Generate the computer's choice (randomly).\"\"\"\n",
    "    choices = [\"rock\", \"paper\", \"scissors\"]\n",
    "    return random.choice(choices)\n",
    "\n",
    "def determine_winner(user_choice, computer_choice):\n",
    "    \"\"\"Determine the winner of the game.\"\"\"\n",
    "    if user_choice == computer_choice:\n",
    "        return \"It's a tie!\"\n",
    "    elif (\n",
    "        (user_choice == \"rock\" and computer_choice == \"scissors\")\n",
    "        or (user_choice == \"paper\" and computer_choice == \"rock\")\n",
    "        or (user_choice == \"scissors\" and computer_choice == \"paper\")\n",
    "    ):\n",
    "        return \"You win!\"\n",
    "    else:\n",
    "        return \"Computer wins!\"\n",
    "\n",
    "def play_game():\n",
    "    \"\"\"Play the rock-paper-scissors game.\"\"\"\n",
    "    print(\"Let's play Rock-Paper-Scissors against the computer!\")\n",
    "\n",
    "    while True:\n",
    "        user_choice = get_user_choice()\n",
    "        computer_choice = get_computer_choice()\n",
    "\n",
    "        print(f\"You chose {user_choice}.\")\n",
    "        print(f\"Computer chose {computer_choice}.\")\n",
    "\n",
    "        result = determine_winner(user_choice, computer_choice)\n",
    "        print(result)\n",
    "\n",
    "        play_again = input(\"Play again? (yes/no): \").lower()\n",
    "        if play_again != \"yes\":\n",
    "            print(\"Thanks for playing!\")\n",
    "            break\n",
    "\n",
    "if __name__ == \"__main__\":\n",
    "    play_game()\n"
   ]
  },
  {
   "cell_type": "markdown",
   "id": "ef97cdb4-d6c7-4c98-8372-787d40f12949",
   "metadata": {},
   "source": [
    "Q23. Develop a program that generates a random password based on user preferences (length, complexity)."
   ]
  },
  {
   "cell_type": "code",
   "execution_count": 3,
   "id": "4451a423-f726-4ef3-a675-ed6e3a8b89a5",
   "metadata": {},
   "outputs": [
    {
     "name": "stdout",
     "output_type": "stream",
     "text": [
      "-----------Password generator------------\n",
      "--------Generates a stronger password-------\n"
     ]
    },
    {
     "name": "stdin",
     "output_type": "stream",
     "text": [
      "Enter the length of the password:  4\n",
      "Enter the complexity of the password ('high', 'low', or 'medium'):  medium\n"
     ]
    },
    {
     "name": "stdout",
     "output_type": "stream",
     "text": [
      "Your password is: 'CqdB'\n"
     ]
    }
   ],
   "source": [
    "# Import necessary modules\n",
    "import random\n",
    "import string as st\n",
    "\n",
    "# Function to generate a random password\n",
    "def password_generator(length, complexity):\n",
    "    # Define character sets based on complexity level\n",
    "    if complexity == \"low\":\n",
    "        characters = st.ascii_letters  # Letters only\n",
    "    elif complexity == \"medium\":\n",
    "        characters = st.ascii_letters + st.digits  # Letters and digits\n",
    "    elif complexity == \"hard\":\n",
    "        characters = st.ascii_letters + st.digits + st.punctuation  # Letters, digits, and punctuation\n",
    "    else:\n",
    "        print(\"Invalid complexity. Please enter 'high', 'low', or 'medium'.\")\n",
    "        return None\n",
    "    \n",
    "    # Generate a random password by selecting characters from the chosen set\n",
    "    password = ''.join(random.choice(characters) for _ in range(length))\n",
    "    return password\n",
    "\n",
    "# Main function to take user input and generate a password\n",
    "def main():\n",
    "    print(\"-----------Password generator------------\")\n",
    "    print(\"--------Generates a stronger password-------\")\n",
    "    \n",
    "    # Prompt the user for password length and complexity\n",
    "    length = int(input(\"Enter the length of the password: \"))\n",
    "    complexity = input(\"Enter the complexity of the password ('high', 'low', or 'medium'): \")\n",
    "    \n",
    "    # Generate the password using the provided inputs\n",
    "    pass_gen = password_generator(length, complexity)\n",
    "    \n",
    "    # Display the generated password\n",
    "    if pass_gen:\n",
    "        print(f\"Your password is: '{pass_gen}'\")\n",
    "\n",
    "# Check if the script is being run as the main program\n",
    "if __name__ == \"__main__\":\n",
    "    main()\n"
   ]
  },
  {
   "cell_type": "markdown",
   "id": "ea02f0fc-b742-49f0-94b1-c8b9c7a60068",
   "metadata": {},
   "source": [
    "Q24. Create a program that implements a simple text-based adventure game with branching scenarios."
   ]
  },
  {
   "cell_type": "code",
   "execution_count": 4,
   "id": "4bff241a-3c22-4788-a01a-c36c7a2cd37e",
   "metadata": {},
   "outputs": [
    {
     "name": "stdout",
     "output_type": "stream",
     "text": [
      "Welcome to the Text Adventure Game!\n",
      "You find yourself at a crossroads. Which path will you choose?\n",
      "1. Go left\n",
      "2. Go right\n"
     ]
    },
    {
     "name": "stdin",
     "output_type": "stream",
     "text": [
      "Enter 1 or 2:  1\n"
     ]
    },
    {
     "name": "stdout",
     "output_type": "stream",
     "text": [
      "You chose to go left and find a treasure around you in the forest.\n",
      "You can hear strange noises in the distance.\n",
      "1. Enter the forest\n",
      "2. Turn back\n"
     ]
    },
    {
     "name": "stdin",
     "output_type": "stream",
     "text": [
      "Enter 1 or 2:  1\n"
     ]
    },
    {
     "name": "stdout",
     "output_type": "stream",
     "text": [
      "You venture into the forest and discover a hidden treasure chest!\n",
      "Congratulations! You've won the game.\n"
     ]
    },
    {
     "name": "stdin",
     "output_type": "stream",
     "text": [
      "Do you want to play again? (yes/no):  no\n"
     ]
    },
    {
     "name": "stdout",
     "output_type": "stream",
     "text": [
      "Thanks for playing! Goodbye.\n"
     ]
    }
   ],
   "source": [
    "def start_game():\n",
    "    print(\"Welcome to the Text Adventure Game!\")\n",
    "    print(\"You find yourself at a crossroads. Which path will you choose?\")\n",
    "    print(\"1. Go left\")\n",
    "    print(\"2. Go right\")\n",
    "\n",
    "    choice = input(\"Enter 1 or 2: \")\n",
    "\n",
    "    if choice == \"1\":\n",
    "        path_left()\n",
    "    elif choice == \"2\":\n",
    "        path_right()\n",
    "    else:\n",
    "        print(\"Invalid choice. Please enter 1 or 2.\")\n",
    "        start_game()\n",
    "\n",
    "def path_left():\n",
    "    print(\"You chose to go left and find a treasure around you in the forest.\")\n",
    "    print(\"You can hear strange noises in the distance.\")\n",
    "    print(\"1. Enter the forest\")\n",
    "    print(\"2. Turn back\")\n",
    "\n",
    "    choice = input(\"Enter 1 or 2: \")\n",
    "\n",
    "    if choice == \"1\":\n",
    "        explore_forest()\n",
    "    elif choice == \"2\":\n",
    "        start_game()\n",
    "    else:\n",
    "        print(\"Invalid choice. Please enter 1 or 2.\")\n",
    "        path_left()\n",
    "\n",
    "def path_right():\n",
    "    print(\"You chose to go right.\")\n",
    "    print(\"The sun sets, and there's a beautiful river nearby.\")\n",
    "    print(\"1. Relax by the river\")\n",
    "    print(\"2. Continue exploring\")\n",
    "\n",
    "    choice = input(\"Enter 1 or 2: \")\n",
    "\n",
    "    if choice == \"1\":\n",
    "        relax_by_river()\n",
    "    elif choice == \"2\":\n",
    "        continue_exploring()\n",
    "    else:\n",
    "        print(\"Invalid choice. Please enter 1 or 2.\")\n",
    "        path_right()\n",
    "\n",
    "def explore_forest():\n",
    "    print(\"You venture into the forest and discover a hidden treasure chest!\")\n",
    "    print(\"Congratulations! You've won the game.\")\n",
    "    play_again()\n",
    "\n",
    "def relax_by_river():\n",
    "    print(\"You spend a peaceful night on the bank of river, feeling refreshed.\")\n",
    "    print(\"Thanks for playing the Text Adventure Game.\")\n",
    "    play_again()\n",
    "\n",
    "def continue_exploring():\n",
    "    print(\"You continue exploring the meadow and come across a friendly unicorn!\")\n",
    "    print(\"The unicorn offers to take you on a magical journey.\")\n",
    "    print(\"You've completed the adventure. Well done!\")\n",
    "    play_again()\n",
    "\n",
    "def play_again():\n",
    "    play_again = input(\"Do you want to play again? (yes/no): \").lower()\n",
    "    if play_again == \"yes\":\n",
    "        start_game()\n",
    "    elif play_again == \"no\":\n",
    "        print(\"Thanks for playing! Goodbye.\")\n",
    "    else:\n",
    "        print(\"Invalid choice. Please enter 'yes' or 'no'.\")\n",
    "        play_again()\n",
    "\n",
    "# Start the game\n",
    "start_game()\n"
   ]
  },
  {
   "cell_type": "markdown",
   "id": "9ed511cc-4aca-4af9-8e30-b77d93488600",
   "metadata": {},
   "source": [
    "Q25. Build a program that solves a linear equation for x, considering different cases."
   ]
  },
  {
   "cell_type": "code",
   "execution_count": 5,
   "id": "0ce0ef4b-8f1a-402b-985f-16a3daa6266a",
   "metadata": {},
   "outputs": [
    {
     "name": "stdout",
     "output_type": "stream",
     "text": [
      "Linear Equation Solver\n",
      "Enter a linear equation in the form 'ax + b = 0'\n"
     ]
    },
    {
     "name": "stdin",
     "output_type": "stream",
     "text": [
      "Enter the value of 'a':  12\n",
      "Enter the value of 'b':  45\n"
     ]
    },
    {
     "name": "stdout",
     "output_type": "stream",
     "text": [
      "The solution is x = -3.75\n"
     ]
    }
   ],
   "source": [
    "# Define a function to solve a linear equation ax + b = 0\n",
    "def solve_linear_equation(a, b):\n",
    "    if a == 0:\n",
    "        if b == 0:\n",
    "            # Case 1: Infinite solutions (identity equation)\n",
    "            return \"Infinite solutions (identity equation)\"\n",
    "        else:\n",
    "            # Case 2: No solution (contradiction)\n",
    "            return \"No solution (contradiction)\"\n",
    "    else:\n",
    "        # Case 3: Calculate and return the solution x\n",
    "        x = -b / a\n",
    "        return f\"The solution is x = {x}\"\n",
    "\n",
    "# Define the main function\n",
    "def main():\n",
    "    print(\"Linear Equation Solver\")\n",
    "    print(\"Enter a linear equation in the form 'ax + b = 0'\")\n",
    "\n",
    "    try:\n",
    "        # Get user input for coefficients 'a' and 'b' as floating-point numbers\n",
    "        a = float(input(\"Enter the value of 'a': \"))\n",
    "        b = float(input(\"Enter the value of 'b': \"))\n",
    "    except ValueError:\n",
    "        # Handle invalid input (non-numeric values)\n",
    "        print(\"Invalid input. Please enter numeric values for 'a' and 'b'.\")\n",
    "        return\n",
    "\n",
    "    # Call the solve_linear_equation function to calculate the solution\n",
    "    result = solve_linear_equation(a, b)\n",
    "    \n",
    "    # Display the result (either the solution or a message about infinite/no solutions)\n",
    "    print(result)\n",
    "\n",
    "# Check if the script is being run as the main program\n",
    "if __name__ == \"__main__\":\n",
    "    # Call the main function to start the program\n",
    "    main()\n"
   ]
  },
  {
   "cell_type": "markdown",
   "id": "66fad320-86e9-4878-84b8-aef77e5e2377",
   "metadata": {},
   "source": [
    "Q26. Write a program that simulates a basic quiz game with multiple-choice questions and scoring."
   ]
  },
  {
   "cell_type": "code",
   "execution_count": 6,
   "id": "15775c6a-0293-4cf3-b48b-8f2d4869fdc0",
   "metadata": {},
   "outputs": [
    {
     "name": "stdout",
     "output_type": "stream",
     "text": [
      "Welcome to the quiz game-----------\n",
      "Q1. what is the full form of Ml:- \n",
      "A) machine learning\n",
      "B) man learning\n",
      "C) mutual learning\n"
     ]
    },
    {
     "name": "stdin",
     "output_type": "stream",
     "text": [
      "choose any one of them A,B or C:-  a\n"
     ]
    },
    {
     "name": "stdout",
     "output_type": "stream",
     "text": [
      "Your answer is correct\n",
      "Q2. what is the full form of DL:- \n",
      "A) dear learning\n",
      "B) deep learning\n",
      "C) do learning\n"
     ]
    },
    {
     "name": "stdin",
     "output_type": "stream",
     "text": [
      "choose any one of them A,B or C:-  b\n"
     ]
    },
    {
     "name": "stdout",
     "output_type": "stream",
     "text": [
      "Your answer is correct\n",
      "Q3. what is the full form of LLM:- \n",
      "A) Large Language Model\n",
      "B) Large Language machine\n",
      "C) Learn Language model\n"
     ]
    },
    {
     "name": "stdin",
     "output_type": "stream",
     "text": [
      "choose any one of them A,B or C:-  c\n"
     ]
    },
    {
     "name": "stdout",
     "output_type": "stream",
     "text": [
      "Incorrect answer\n",
      "Your Total score in the quiz is 2/3\n"
     ]
    }
   ],
   "source": [
    "def quiz_game():\n",
    "    print(\"Welcome to the quiz game-----------\")\n",
    "    score=0\n",
    "    # question 1\n",
    "    print(\"Q1. what is the full form of Ml:- \")\n",
    "    print(\"A) machine learning\")\n",
    "    print(\"B) man learning\")\n",
    "    print(\"C) mutual learning\")\n",
    "    \n",
    "    answer1=input(\"choose any one of them A,B or C:- \").upper()\n",
    "    if answer1==\"A\":\n",
    "        print(\"Your answer is correct\")\n",
    "        score+=1\n",
    "    else:\n",
    "        print(\"Incorrect answer\")\n",
    "    \n",
    "    # question 2\n",
    "    \n",
    "    print(\"Q2. what is the full form of DL:- \")\n",
    "    print(\"A) dear learning\")\n",
    "    print(\"B) deep learning\")\n",
    "    print(\"C) do learning\")\n",
    "    \n",
    "    answer2=input(\"choose any one of them A,B or C:- \").upper()\n",
    "    if answer2==\"B\":\n",
    "        print(\"Your answer is correct\")\n",
    "        score+=1\n",
    "    else:\n",
    "        print(\"Incorrect answer\")\n",
    "        \n",
    "    # question 3\n",
    "    \n",
    "    print(\"Q3. what is the full form of LLM:- \")\n",
    "    print(\"A) Large Language Model\")\n",
    "    print(\"B) Large Language machine\")\n",
    "    print(\"C) Learn Language model\")\n",
    "    \n",
    "    answer3=input(\"choose any one of them A,B or C:- \").upper()\n",
    "    if answer3==\"A\":\n",
    "        print(\"Your answer is correct\")\n",
    "        score+=1\n",
    "    else:\n",
    "        print(\"Incorrect answer\")\n",
    "    \n",
    "    \n",
    "    print(f\"Your Total score in the quiz is {score}/3\")\n",
    "if __name__ == \"__main__\":\n",
    "    quiz_game()"
   ]
  },
  {
   "cell_type": "markdown",
   "id": "a0ee4152-e095-42ac-bdde-d8feab0a625d",
   "metadata": {},
   "source": [
    "Q27. Develop a program that determines whether a given  is a prime number or not."
   ]
  },
  {
   "cell_type": "code",
   "execution_count": 3,
   "id": "3e8506be-49fd-4444-be3c-d493a2a4ca2e",
   "metadata": {},
   "outputs": [
    {
     "name": "stdout",
     "output_type": "stream",
     "text": [
      "--------prime year checker---------\n"
     ]
    },
    {
     "name": "stdin",
     "output_type": "stream",
     "text": [
      "Enter the year to check whether it is prime or not:_  1344\n"
     ]
    },
    {
     "name": "stdout",
     "output_type": "stream",
     "text": [
      "No the given year 1344 is not a prime number\n"
     ]
    }
   ],
   "source": [
    "def prime_year(year):\n",
    "    if year<=1:\n",
    "        return False\n",
    "    \n",
    "    for i in range(2,int(year**0.5)+1):\n",
    "        if (year%i==0):\n",
    "            return False\n",
    "    return True\n",
    "\n",
    "def main():\n",
    "    print(\"--------prime year checker---------\")\n",
    "    \n",
    "    \n",
    "    try:\n",
    "        year=int(input(\"Enter the year to check whether it is prime or not:_ \"))\n",
    "        if prime_year(year==4):\n",
    "            print(f\"Yes the given year {year} is a prime number\")\n",
    "        else:\n",
    "            print(f\"No the given year {year} is not a prime number\")\n",
    "            \n",
    "    except ValueError:\n",
    "        print(\"Enter the valid year\")\n",
    "\n",
    "if __name__==\"__main__\":\n",
    "    main()"
   ]
  },
  {
   "cell_type": "markdown",
   "id": "05a8d89b-cf6c-4167-93cd-c3b78db4ed3e",
   "metadata": {},
   "source": [
    "Q28. Create a program that sorts three numbers in ascending order using conditional statements."
   ]
  },
  {
   "cell_type": "code",
   "execution_count": 4,
   "id": "f4f5031a-6611-4086-9bea-07e6e2842dc6",
   "metadata": {},
   "outputs": [
    {
     "name": "stdout",
     "output_type": "stream",
     "text": [
      "Ascending Order Sorter\n"
     ]
    },
    {
     "name": "stdin",
     "output_type": "stream",
     "text": [
      "Enter the first number:  12\n",
      "Enter the second number:  766\n",
      "Enter the third number:  43\n"
     ]
    },
    {
     "name": "stdout",
     "output_type": "stream",
     "text": [
      "Sorted numbers in ascending order: (12, 43, 766)\n"
     ]
    }
   ],
   "source": [
    "def sort_numbers(num1, num2, num3):\n",
    "    if num1 <= num2 and num1 <= num3:\n",
    "        if num2 <= num3:\n",
    "            return num1, num2, num3\n",
    "        else:\n",
    "            return num1, num3, num2\n",
    "    elif num2 <= num1 and num2 <= num3:\n",
    "        if num1 <= num3:\n",
    "            return num2, num1, num3\n",
    "        else:\n",
    "            return num2, num3, num1\n",
    "    else:\n",
    "        if num1 <= num2:\n",
    "            return num3, num1, num2\n",
    "        else:\n",
    "            return num3, num2, num1\n",
    "\n",
    "def main():\n",
    "    print(\"Ascending Order Sorter\")\n",
    "    try:\n",
    "        num1 = int(input(\"Enter the first number: \"))\n",
    "        num2 = int(input(\"Enter the second number: \"))\n",
    "        num3 = int(input(\"Enter the third number: \"))\n",
    "        \n",
    "        sorted_nums = sort_numbers(num1, num2, num3)\n",
    "        \n",
    "        print(\"Sorted numbers in ascending order:\", sorted_nums)\n",
    "    except ValueError:\n",
    "        print(\"Invalid input. Please enter valid numeric values.\")\n",
    "\n",
    "if __name__ == \"__main__\":\n",
    "    main()\n"
   ]
  },
  {
   "cell_type": "markdown",
   "id": "465e63ae-ef55-4836-a098-8f11210e58ec",
   "metadata": {},
   "source": [
    "Q29. Build a program that determines the roots of a quartic equation using numerical methods."
   ]
  },
  {
   "cell_type": "code",
   "execution_count": 3,
   "id": "9fc2abb0-3c6c-4144-bf95-a7152ffcf8d2",
   "metadata": {},
   "outputs": [
    {
     "name": "stdout",
     "output_type": "stream",
     "text": [
      "Quartic Equation Solver\n",
      "Enter the coefficients of the quartic equation ax^4 + bx^3 + cx^2 + dx + e\n"
     ]
    },
    {
     "name": "stdin",
     "output_type": "stream",
     "text": [
      "Enter coefficient 'a':  12\n",
      "Enter coefficient 'b':  34\n",
      "Enter coefficient 'c':  32\n",
      "Enter coefficient 'd':  56\n",
      "Enter coefficient 'e':  43\n",
      "Enter an initial guess for the root:  12\n"
     ]
    },
    {
     "name": "stdout",
     "output_type": "stream",
     "text": [
      "A root of the quartic equation is approximately -0.934888\n"
     ]
    }
   ],
   "source": [
    "def quartic_equation(x, coefficients):\n",
    "    \"\"\"\n",
    "    Calculate the value of the quartic equation at a given point x.\n",
    "    The coefficients list should contain the coefficients of the quartic equation\n",
    "    in the following order: [a, b, c, d, e], where the equation is ax^4 + bx^3 + cx^2 + dx + e.\n",
    "    \"\"\"\n",
    "    a, b, c, d, e = coefficients\n",
    "    return a * x**4 + b * x**3 + c * x**2 + d * x + e\n",
    "\n",
    "def quartic_derivative(x, coefficients):\n",
    "    \"\"\"\n",
    "    Calculate the derivative of the quartic equation at a given point x.\n",
    "    The coefficients list should contain the coefficients of the quartic equation\n",
    "    in the following order: [a, b, c, d, e], where the equation is ax^4 + bx^3 + cx^2 + dx + e.\n",
    "    \"\"\"\n",
    "    a, b, c, d, e = coefficients\n",
    "    return 4 * a * x**3 + 3 * b * x**2 + 2 * c * x + d\n",
    "\n",
    "def newton_raphson_quartic(coefficients, initial_guess, tolerance=1e-6, max_iterations=100):\n",
    "    \"\"\"\n",
    "    Use the Newton-Raphson method to find a root of the quartic equation.\n",
    "    \"\"\"\n",
    "    x = initial_guess\n",
    "    iteration = 0\n",
    "\n",
    "    while iteration < max_iterations:\n",
    "        f_x = quartic_equation(x, coefficients)\n",
    "        f_prime_x = quartic_derivative(x, coefficients)\n",
    "\n",
    "        if abs(f_prime_x) < tolerance:\n",
    "            return x  # Avoid division by zero\n",
    "\n",
    "        x -= f_x / f_prime_x\n",
    "\n",
    "        if abs(f_x) < tolerance:\n",
    "            return x  # Found a root within tolerance\n",
    "\n",
    "        iteration += 1\n",
    "\n",
    "    raise Exception(\"Newton-Raphson method did not converge within the specified number of iterations.\")\n",
    "\n",
    "def main():\n",
    "    print(\"Quartic Equation Solver\")\n",
    "    print(\"Enter the coefficients of the quartic equation ax^4 + bx^3 + cx^2 + dx + e\")\n",
    "\n",
    "    try:\n",
    "        a = float(input(\"Enter coefficient 'a': \"))\n",
    "        b = float(input(\"Enter coefficient 'b': \"))\n",
    "        c = float(input(\"Enter coefficient 'c': \"))\n",
    "        d = float(input(\"Enter coefficient 'd': \"))\n",
    "        e = float(input(\"Enter coefficient 'e': \"))\n",
    "\n",
    "        coefficients = [a, b, c, d, e]\n",
    "\n",
    "        initial_guess = float(input(\"Enter an initial guess for the root: \"))\n",
    "\n",
    "        root = newton_raphson_quartic(coefficients, initial_guess)\n",
    "\n",
    "        print(f\"A root of the quartic equation is approximately {root:.6f}\")\n",
    "    except ValueError:\n",
    "        print(\"Invalid input. Please enter valid numeric values.\")\n",
    "\n",
    "if __name__ == \"__main__\":\n",
    "    main()\n"
   ]
  },
  {
   "cell_type": "markdown",
   "id": "9fbd558e-19de-4dba-84b9-c8376282a487",
   "metadata": {},
   "source": [
    "Q30. Write a program that calculates the BMI (Body Mass Index) and provides health recommendations based\n",
    "on the user's input."
   ]
  },
  {
   "cell_type": "code",
   "execution_count": 2,
   "id": "513157d7-d252-4795-82c5-470c1e3306c1",
   "metadata": {},
   "outputs": [
    {
     "name": "stdout",
     "output_type": "stream",
     "text": [
      "BMI Calculator and Health Recommendations\n"
     ]
    },
    {
     "name": "stdin",
     "output_type": "stream",
     "text": [
      "Enter your weight in kilograms:  76\n",
      "Enter your height in meters:  1.89\n"
     ]
    },
    {
     "name": "stdout",
     "output_type": "stream",
     "text": [
      "Your BMI is: 21.28\n",
      "Your BMI is in the normal range. Maintain a healthy lifestyle.\n"
     ]
    }
   ],
   "source": [
    "def calculate_bmi(weight, height):\n",
    "    \"\"\"\n",
    "    Calculate the Body Mass Index (BMI) using weight (in kilograms) and height (in meters).\n",
    "    Formula: BMI = weight / (height^2)\n",
    "    \"\"\"\n",
    "    if weight <= 0 or height <= 0:\n",
    "        return None  # Invalid input\n",
    "\n",
    "    bmi = weight / (height ** 2)\n",
    "    return bmi\n",
    "\n",
    "def get_health_recommendation(bmi):\n",
    "    \"\"\"\n",
    "    Provide health recommendations based on BMI.\n",
    "    \"\"\"\n",
    "    if bmi is None:\n",
    "        return \"Invalid input. Please enter valid weight and height.\"\n",
    "    elif bmi < 18.5:\n",
    "        return \"You are underweight. Consider gaining some weight.\"\n",
    "    elif 18.5 <= bmi < 24.9:\n",
    "        return \"Your BMI is in the normal range. Maintain a healthy lifestyle.\"\n",
    "    elif 25.0 <= bmi < 29.9:\n",
    "        return \"You are overweight. Consider losing some weight.\"\n",
    "    else:\n",
    "        return \"You are obese. Consult a healthcare professional for guidance.\"\n",
    "\n",
    "def main():\n",
    "    print(\"BMI Calculator and Health Recommendations\")\n",
    "    try:\n",
    "        weight = float(input(\"Enter your weight in kilograms: \"))\n",
    "        height = float(input(\"Enter your height in meters: \"))\n",
    "\n",
    "        bmi = calculate_bmi(weight, height)\n",
    "\n",
    "        print(f\"Your BMI is: {bmi:.2f}\")\n",
    "        recommendation = get_health_recommendation(bmi)\n",
    "        print(recommendation)\n",
    "    except ValueError:\n",
    "        print(\"Invalid input. Please enter valid numeric values for weight and height.\")\n",
    "\n",
    "if __name__ == \"__main__\":\n",
    "    main()\n"
   ]
  },
  {
   "cell_type": "markdown",
   "id": "fd939820-6a2f-49aa-93fe-2a56b5811a7c",
   "metadata": {},
   "source": [
    "Challanged level:- "
   ]
  },
  {
   "cell_type": "markdown",
   "id": "0da27dda-5bfd-4108-a7dd-c8d6970c09da",
   "metadata": {},
   "source": [
    "Q31. Create a program that validates a password based on complexity rules (length, characters, etc.)."
   ]
  },
  {
   "cell_type": "code",
   "execution_count": 4,
   "id": "e57e5bf3-055f-42eb-8e2e-b20149cc5578",
   "metadata": {},
   "outputs": [
    {
     "name": "stdout",
     "output_type": "stream",
     "text": [
      "-----Password Generator---------\n",
      "--------Strong Password--------\n"
     ]
    },
    {
     "name": "stdin",
     "output_type": "stream",
     "text": [
      "Enter the length of the password:  32\n",
      "Enter which type of password you want (alpha/alphanum/special):  \n"
     ]
    },
    {
     "name": "stdout",
     "output_type": "stream",
     "text": [
      "Enter the correct type for the password!\n"
     ]
    }
   ],
   "source": [
    "import string\n",
    "import random\n",
    "\n",
    "def password_gen(length, character):\n",
    "    # Define character sets based on the user's choice\n",
    "    if character == \"alpha\":\n",
    "        pass_d = string.ascii_letters  # Password contains only alphabets\n",
    "    elif character == \"alphanum\":\n",
    "        pass_d = string.ascii_letters + string.digits  # Password contains alphabets and numbers\n",
    "    elif character == \"special\":\n",
    "        pass_d = string.punctuation + string.digits  # Password contains special characters and numbers\n",
    "    else:\n",
    "        print(\"Enter the correct type for the password!\")\n",
    "        return None\n",
    "\n",
    "    # Generate the password by randomly selecting characters from the chosen character set\n",
    "    password = ''.join(random.choice(pass_d) for _ in range(length))\n",
    "    return password\n",
    "\n",
    "def main():\n",
    "    print(\"-----Password Generator---------\")\n",
    "    print(\"--------Strong Password--------\")\n",
    "\n",
    "    # Prompt the user for password length and character type\n",
    "    length = int(input(\"Enter the length of the password: \"))\n",
    "    character = input(\"Enter which type of password you want (alpha/alphanum/special): \")\n",
    "\n",
    "    # Generate the password using the user's input\n",
    "    pass_gen = password_gen(length, character)\n",
    "\n",
    "    # Display the generated password\n",
    "    if pass_gen:\n",
    "        print(f\"Your password is: {pass_gen}\")\n",
    "\n",
    "if __name__ == \"__main__\":\n",
    "    main()\n"
   ]
  },
  {
   "cell_type": "markdown",
   "id": "cf1e179d-2d57-4d25-a91b-c8df8bebebfa",
   "metadata": {},
   "source": [
    "Q32. Develop a program that performs matrix addition and subtraction based on user input."
   ]
  },
  {
   "cell_type": "code",
   "execution_count": null,
   "id": "6f0dd795-725e-42af-96b0-3661b320d5a8",
   "metadata": {},
   "outputs": [
    {
     "name": "stdout",
     "output_type": "stream",
     "text": [
      "Matrix Addition and Subtraction\n"
     ]
    },
    {
     "name": "stdin",
     "output_type": "stream",
     "text": [
      "Enter the number of rows for first matrix:  12\n",
      "Enter the number of columns for first matrix:  3\n"
     ]
    },
    {
     "name": "stdout",
     "output_type": "stream",
     "text": [
      "Enter first matrix:\n"
     ]
    },
    {
     "name": "stdin",
     "output_type": "stream",
     "text": [
      "Enter element at row 1, column 1:  3\n"
     ]
    }
   ],
   "source": [
    "# Define a function to perform matrix addition between two matrices.\n",
    "def matrix_addition(matrix1, matrix2):\n",
    "    if len(matrix1) != len(matrix2) or len(matrix1[0]) != len(matrix2[0]):\n",
    "        return None  # Matrices must have the same dimensions for addition\n",
    "\n",
    "    result = []\n",
    "    for i in range(len(matrix1)):\n",
    "        row = []\n",
    "        for j in range(len(matrix1[0])):\n",
    "            row.append(matrix1[i][j] + matrix2[i][j])\n",
    "        result.append(row)\n",
    "\n",
    "    return result\n",
    "\n",
    "# Define a function to perform matrix subtraction between two matrices.\n",
    "def matrix_subtraction(matrix1, matrix2):\n",
    "    if len(matrix1) != len(matrix2) or len(matrix1[0]) != len(matrix2[0]):\n",
    "        return None  # Matrices must have the same dimensions for subtraction\n",
    "\n",
    "    result = []\n",
    "    for i in range(len(matrix1)):\n",
    "        row = []\n",
    "        for j in range(len(matrix1[0])):\n",
    "            row.append(matrix1[i][j] - matrix2[i][j])\n",
    "        result.append(row)\n",
    "\n",
    "    return result\n",
    "\n",
    "# Define a function to input a matrix from the user.\n",
    "def input_matrix(prompt):\n",
    "    try:\n",
    "        rows = int(input(f\"Enter the number of rows for {prompt} matrix: \"))\n",
    "        cols = int(input(f\"Enter the number of columns for {prompt} matrix: \"))\n",
    "\n",
    "        matrix = []\n",
    "        print(f\"Enter {prompt} matrix:\")\n",
    "        for i in range(rows):\n",
    "            row = []\n",
    "            for j in range(cols):\n",
    "                element = float(input(f\"Enter element at row {i+1}, column {j+1}: \"))\n",
    "                row.append(element)\n",
    "            matrix.append(row)\n",
    "\n",
    "        return matrix\n",
    "    except ValueError:\n",
    "        print(\"Invalid input. Please enter valid numeric values for the matrix.\")\n",
    "        return None\n",
    "\n",
    "# Define the main function.\n",
    "def main():\n",
    "    print(\"Matrix Addition and Subtraction\")\n",
    "    \n",
    "    # Input the first and second matrices.\n",
    "    matrix1 = input_matrix(\"first\")\n",
    "    matrix2 = input_matrix(\"second\")\n",
    "\n",
    "    # Check if the matrices were input correctly.\n",
    "    if matrix1 is None or matrix2 is None:\n",
    "        return\n",
    "\n",
    "    # Perform matrix addition and subtraction.\n",
    "    addition_result = matrix_addition(matrix1, matrix2)\n",
    "    subtraction_result = matrix_subtraction(matrix1, matrix2)\n",
    "\n",
    "    # Display the results if they are not None.\n",
    "    if addition_result is not None:\n",
    "        print(\"\\nMatrix Addition Result:\")\n",
    "        for row in addition_result:\n",
    "            print(row)\n",
    "\n",
    "    if subtraction_result is not None:\n",
    "        print(\"\\nMatrix Subtraction Result:\")\n",
    "        for row in subtraction_result:\n",
    "            print(row)\n",
    "\n",
    "# Check if the script is run as the main program.\n",
    "if __name__ == \"__main__\":\n",
    "    main()\n",
    "\n",
    "    "
   ]
  },
  {
   "cell_type": "markdown",
   "id": "de9d3a5f-5c3b-439d-83ed-1a7edd9cc602",
   "metadata": {},
   "source": [
    "Q33. Write a program that calculates the greatest common divisor (GCD) of two numbers using the Euclidean algorithm. "
   ]
  },
  {
   "cell_type": "code",
   "execution_count": 1,
   "id": "3fcca6e5-d27d-46b8-b7b3-d6fb92f900dd",
   "metadata": {},
   "outputs": [
    {
     "name": "stdout",
     "output_type": "stream",
     "text": [
      "Greatest Common Divisor (GCD) Calculator\n"
     ]
    },
    {
     "name": "stdin",
     "output_type": "stream",
     "text": [
      "Enter the first number:  123\n",
      "Enter the second number:  678\n"
     ]
    },
    {
     "name": "stdout",
     "output_type": "stream",
     "text": [
      "The GCD of 123 and 678 is: 3\n"
     ]
    }
   ],
   "source": [
    "def euclidean_gcd(a, b):\n",
    "    \"\"\"\n",
    "    Calculate the Greatest Common Divisor (GCD) of two numbers using the Euclidean algorithm.\n",
    "    \"\"\"\n",
    "    while b:\n",
    "        a, b = b, a % b\n",
    "    return a\n",
    "\n",
    "def main():\n",
    "    print(\"Greatest Common Divisor (GCD) Calculator\")\n",
    "    try:\n",
    "        num1 = int(input(\"Enter the first number: \"))\n",
    "        num2 = int(input(\"Enter the second number: \"))\n",
    "\n",
    "        gcd = euclidean_gcd(num1, num2)\n",
    "\n",
    "        print(f\"The GCD of {num1} and {num2} is: {gcd}\")\n",
    "    except ValueError:\n",
    "        print(\"Invalid input. Please enter valid numeric values.\")\n",
    "\n",
    "if __name__ == \"__main__\":\n",
    "    main()\n"
   ]
  },
  {
   "cell_type": "markdown",
   "id": "9a1b571a-ec79-4446-b71e-27544661b202",
   "metadata": {},
   "source": [
    "Q34. Build a program that performs matrix multiplication using nested loops and conditional statements."
   ]
  },
  {
   "cell_type": "code",
   "execution_count": 1,
   "id": "264eb7b1-ff06-40d3-9121-91ec6524c45c",
   "metadata": {},
   "outputs": [
    {
     "name": "stdout",
     "output_type": "stream",
     "text": [
      "Matrix Multiplication\n"
     ]
    },
    {
     "name": "stdin",
     "output_type": "stream",
     "text": [
      "Enter the number of rows for first matrix:  3\n",
      "Enter the number of columns for first matrix:  2\n"
     ]
    },
    {
     "name": "stdout",
     "output_type": "stream",
     "text": [
      "Enter first matrix:\n"
     ]
    },
    {
     "name": "stdin",
     "output_type": "stream",
     "text": [
      "Enter element at row 1, column 1:  1\n",
      "Enter element at row 1, column 2:  2\n",
      "Enter element at row 2, column 1:  3\n",
      "Enter element at row 2, column 2:  4\n",
      "Enter element at row 3, column 1:  5\n",
      "Enter element at row 3, column 2:  6\n",
      "Enter the number of rows for second matrix:  2\n",
      "Enter the number of columns for second matrix:  1\n"
     ]
    },
    {
     "name": "stdout",
     "output_type": "stream",
     "text": [
      "Enter second matrix:\n"
     ]
    },
    {
     "name": "stdin",
     "output_type": "stream",
     "text": [
      "Enter element at row 1, column 1:  1\n",
      "Enter element at row 2, column 1:  2\n"
     ]
    },
    {
     "name": "stdout",
     "output_type": "stream",
     "text": [
      "\n",
      "Matrix Multiplication Result:\n",
      "[5.0]\n",
      "[11.0]\n",
      "[17.0]\n"
     ]
    }
   ],
   "source": [
    "# Define a function to perform matrix multiplication between two matrices.\n",
    "def matrix_multiply(matrix1, matrix2):\n",
    "    # Get the dimensions of the input matrices.\n",
    "    rows1, cols1 = len(matrix1), len(matrix1[0])\n",
    "    rows2, cols2 = len(matrix2), len(matrix2[0])\n",
    "\n",
    "    # Check if the matrices can be multiplied (the number of columns in the first matrix must match the number of rows in the second matrix).\n",
    "    if cols1 != rows2:\n",
    "        return None  # The matrices cannot be multiplied\n",
    "\n",
    "    # Initialize an empty matrix to store the result.\n",
    "    result = []\n",
    "    for i in range(rows1):\n",
    "        row = []\n",
    "        for j in range(cols2):\n",
    "            element = 0\n",
    "            # Perform the dot product of the corresponding row from the first matrix and column from the second matrix.\n",
    "            for k in range(cols1):\n",
    "                element += matrix1[i][k] * matrix2[k][j]\n",
    "            row.append(element)\n",
    "        result.append(row)\n",
    "\n",
    "    return result\n",
    "\n",
    "# Define a function to input a matrix from the user.\n",
    "def input_matrix(prompt):\n",
    "    try:\n",
    "        rows = int(input(f\"Enter the number of rows for {prompt} matrix: \"))\n",
    "        cols = int(input(f\"Enter the number of columns for {prompt} matrix: \"))\n",
    "\n",
    "        matrix = []\n",
    "        print(f\"Enter {prompt} matrix:\")\n",
    "        for i in range(rows):\n",
    "            row = []\n",
    "            for j in range(cols):\n",
    "                element = float(input(f\"Enter element at row {i+1}, column {j+1}: \"))\n",
    "                row.append(element)\n",
    "            matrix.append(row)\n",
    "\n",
    "        return matrix\n",
    "    except ValueError:\n",
    "        print(\"Invalid input. Please enter valid numeric values for the matrix.\")\n",
    "        return None\n",
    "\n",
    "# Define the main function.\n",
    "def main():\n",
    "    print(\"Matrix Multiplication\")\n",
    "    \n",
    "    # Input the first and second matrices.\n",
    "    matrix1 = input_matrix(\"first\")\n",
    "    matrix2 = input_matrix(\"second\")\n",
    "\n",
    "    # Check if the matrices were input correctly.\n",
    "    if matrix1 is None or matrix2 is None:\n",
    "        return\n",
    "\n",
    "    # Perform matrix multiplication.\n",
    "    multiplication_result = matrix_multiply(matrix1, matrix2)\n",
    "\n",
    "    # Display the results if they are not None.\n",
    "    if multiplication_result is not None:\n",
    "        print(\"\\nMatrix Multiplication Result:\")\n",
    "        for row in multiplication_result:\n",
    "            print(row)\n",
    "\n",
    "# Check if the script is run as the main program.\n",
    "if __name__ == \"__main__\":\n",
    "    main()\n"
   ]
  },
  {
   "cell_type": "markdown",
   "id": "f78f0554-f986-42d9-839c-b5d86402e0fd",
   "metadata": {},
   "source": [
    "Q35. Create a program that simulates a basic text-based tic-tac-toe game against the computer."
   ]
  },
  {
   "cell_type": "code",
   "execution_count": 2,
   "id": "9e9121a5-97af-42ac-bd23-1725d6e6f538",
   "metadata": {},
   "outputs": [
    {
     "name": "stdout",
     "output_type": "stream",
     "text": [
      "Welcome to Text-Based Tic-Tac-Toe against the Computer!\n",
      "Player is 'X', Computer is 'O'\n",
      "Enter your move as row and column (e.g., '1 2' for the first row, second column).\n",
      "  |   |  \n",
      "---------\n",
      "  |   |  \n",
      "---------\n",
      "  |   |  \n",
      "---------\n"
     ]
    },
    {
     "name": "stdin",
     "output_type": "stream",
     "text": [
      "Your move:  1 1\n"
     ]
    },
    {
     "name": "stdout",
     "output_type": "stream",
     "text": [
      "X |   |  \n",
      "---------\n",
      "  |   |  \n",
      "---------\n",
      "  |   |  \n",
      "---------\n",
      "Computer's move:\n",
      "Computer chose: 2 2\n",
      "X |   |  \n",
      "---------\n",
      "  | X |  \n",
      "---------\n",
      "  |   |  \n",
      "---------\n"
     ]
    },
    {
     "name": "stdin",
     "output_type": "stream",
     "text": [
      "Your move:  3 1\n"
     ]
    },
    {
     "name": "stdout",
     "output_type": "stream",
     "text": [
      "X |   |  \n",
      "---------\n",
      "  | X |  \n",
      "---------\n",
      "X |   |  \n",
      "---------\n",
      "Computer's move:\n",
      "Computer chose: 2 3\n",
      "X |   |  \n",
      "---------\n",
      "  | X | X\n",
      "---------\n",
      "X |   |  \n",
      "---------\n"
     ]
    },
    {
     "name": "stdin",
     "output_type": "stream",
     "text": [
      "Your move:  2 2\n"
     ]
    },
    {
     "name": "stdout",
     "output_type": "stream",
     "text": [
      "Invalid move. Try again.\n",
      "X |   |  \n",
      "---------\n",
      "  | X | X\n",
      "---------\n",
      "X |   |  \n",
      "---------\n"
     ]
    },
    {
     "name": "stdin",
     "output_type": "stream",
     "text": [
      "Your move:  \n"
     ]
    },
    {
     "name": "stdout",
     "output_type": "stream",
     "text": [
      "Invalid input. Enter row and column as integers (e.g., '1 2').\n",
      "X |   |  \n",
      "---------\n",
      "  | X | X\n",
      "---------\n",
      "X |   |  \n",
      "---------\n"
     ]
    },
    {
     "name": "stdin",
     "output_type": "stream",
     "text": [
      "Your move:  \n"
     ]
    },
    {
     "name": "stdout",
     "output_type": "stream",
     "text": [
      "Invalid input. Enter row and column as integers (e.g., '1 2').\n",
      "X |   |  \n",
      "---------\n",
      "  | X | X\n",
      "---------\n",
      "X |   |  \n",
      "---------\n"
     ]
    },
    {
     "name": "stdin",
     "output_type": "stream",
     "text": [
      "Your move:  \n"
     ]
    },
    {
     "name": "stdout",
     "output_type": "stream",
     "text": [
      "Invalid input. Enter row and column as integers (e.g., '1 2').\n",
      "X |   |  \n",
      "---------\n",
      "  | X | X\n",
      "---------\n",
      "X |   |  \n",
      "---------\n"
     ]
    },
    {
     "name": "stdin",
     "output_type": "stream",
     "text": [
      "Your move:  \n"
     ]
    },
    {
     "name": "stdout",
     "output_type": "stream",
     "text": [
      "Invalid input. Enter row and column as integers (e.g., '1 2').\n",
      "X |   |  \n",
      "---------\n",
      "  | X | X\n",
      "---------\n",
      "X |   |  \n",
      "---------\n"
     ]
    },
    {
     "name": "stdin",
     "output_type": "stream",
     "text": [
      "Your move:  \n"
     ]
    },
    {
     "name": "stdout",
     "output_type": "stream",
     "text": [
      "Invalid input. Enter row and column as integers (e.g., '1 2').\n",
      "X |   |  \n",
      "---------\n",
      "  | X | X\n",
      "---------\n",
      "X |   |  \n",
      "---------\n"
     ]
    },
    {
     "name": "stdin",
     "output_type": "stream",
     "text": [
      "Your move:  \n"
     ]
    },
    {
     "name": "stdout",
     "output_type": "stream",
     "text": [
      "Invalid input. Enter row and column as integers (e.g., '1 2').\n",
      "X |   |  \n",
      "---------\n",
      "  | X | X\n",
      "---------\n",
      "X |   |  \n",
      "---------\n"
     ]
    },
    {
     "name": "stdin",
     "output_type": "stream",
     "text": [
      "Your move:  \n"
     ]
    },
    {
     "name": "stdout",
     "output_type": "stream",
     "text": [
      "Invalid input. Enter row and column as integers (e.g., '1 2').\n",
      "X |   |  \n",
      "---------\n",
      "  | X | X\n",
      "---------\n",
      "X |   |  \n",
      "---------\n"
     ]
    },
    {
     "name": "stdin",
     "output_type": "stream",
     "text": [
      "Your move:  1 2\n"
     ]
    },
    {
     "name": "stdout",
     "output_type": "stream",
     "text": [
      "X | X |  \n",
      "---------\n",
      "  | X | X\n",
      "---------\n",
      "X |   |  \n",
      "---------\n",
      "Computer's move:\n",
      "Computer chose: 3 2\n",
      "X | X |  \n",
      "---------\n",
      "  | X | X\n",
      "---------\n",
      "X | X |  \n",
      "---------\n",
      "Computer wins!\n"
     ]
    }
   ],
   "source": [
    "import random\n",
    "\n",
    "def print_board(board):\n",
    "    # Print the Tic-Tac-Toe board.\n",
    "    for row in board:\n",
    "        print(\" | \".join(row))\n",
    "        print(\"-\" * 9)\n",
    "\n",
    "def check_win(board, player):\n",
    "    # Check if the player has won horizontally, vertically, or diagonally.\n",
    "    for row in board:\n",
    "        if all(cell == player for cell in row):\n",
    "            return True\n",
    "\n",
    "    for col in range(3):\n",
    "        if all(board[row][col] == player for row in range(3)):\n",
    "            return True\n",
    "\n",
    "    if all(board[i][i] == player for i in range(3)) or all(board[i][2 - i] == player for i in range(3)):\n",
    "        return True\n",
    "\n",
    "    return False\n",
    "\n",
    "def is_board_full(board):\n",
    "    # Check if the board is full (a tie).\n",
    "    return all(cell != \" \" for row in board for cell in row)\n",
    "\n",
    "def get_computer_move(board):\n",
    "    # Generate a random computer move.\n",
    "    empty_cells = [(i, j) for i in range(3) for j in range(3) if board[i][j] == \" \"]\n",
    "    return random.choice(empty_cells)\n",
    "\n",
    "def main():\n",
    "    print(\"Welcome to Text-Based Tic-Tac-Toe against the Computer!\")\n",
    "    print(\"Player is 'X', Computer is 'O'\")\n",
    "    print(\"Enter your move as row and column (e.g., '1 2' for the first row, second column).\")\n",
    "\n",
    "    board = [[\" \" for _ in range(3)] for _ in range(3)]\n",
    "    player = \"X\"\n",
    "    computer = \"O\"\n",
    "\n",
    "    while True:\n",
    "        print_board(board)\n",
    "\n",
    "        if player == \"X\":\n",
    "            try:\n",
    "                row, col = map(int, input(\"Your move: \").split())\n",
    "                if 1 <= row <= 3 and 1 <= col <= 3 and board[row - 1][col - 1] == \" \":\n",
    "                    board[row - 1][col - 1] = player\n",
    "                    if check_win(board, player):\n",
    "                        print_board(board)\n",
    "                        print(\"Congratulations! You win!\")\n",
    "                        break\n",
    "                    elif is_board_full(board):\n",
    "                        print_board(board)\n",
    "                        print(\"It's a tie!\")\n",
    "                        break\n",
    "                    player = \"O\"\n",
    "                    computer = \"X\"\n",
    "                else:\n",
    "                    print(\"Invalid move. Try again.\")\n",
    "            except (ValueError, IndexError):\n",
    "                print(\"Invalid input. Enter row and column as integers (e.g., '1 2').\")\n",
    "        else:\n",
    "            print(\"Computer's move:\")\n",
    "            row, col = get_computer_move(board)\n",
    "            print(f\"Computer chose: {row + 1} {col + 1}\")\n",
    "            board[row][col] = computer\n",
    "            if check_win(board, computer):\n",
    "                print_board(board)\n",
    "                print(\"Computer wins!\")\n",
    "                break\n",
    "            elif is_board_full(board):\n",
    "                print_board(board)\n",
    "                print(\"It's a tie!\")\n",
    "                break\n",
    "            player = \"X\"\n",
    "            computer = \"O\"\n",
    "\n",
    "if __name__ == \"__main__\":\n",
    "    main()\n"
   ]
  },
  {
   "cell_type": "markdown",
   "id": "bf604c22-6596-4596-a5e6-5c722d3af452",
   "metadata": {},
   "source": [
    "Q36. Write a program that generates Fibonacci numbers up to a specified term using iterative methods."
   ]
  },
  {
   "cell_type": "code",
   "execution_count": 3,
   "id": "026628f6-875f-4efc-99f9-9f05d27dfb92",
   "metadata": {},
   "outputs": [
    {
     "name": "stdout",
     "output_type": "stream",
     "text": [
      "Fibonacci Number Generator (Iterative)\n"
     ]
    },
    {
     "name": "stdin",
     "output_type": "stream",
     "text": [
      "Enter the number of Fibonacci numbers to generate:  12\n"
     ]
    },
    {
     "name": "stdout",
     "output_type": "stream",
     "text": [
      "Fibonacci sequence up to term 12:\n",
      "Term 1: 0\n",
      "Term 2: 1\n",
      "Term 3: 1\n",
      "Term 4: 2\n",
      "Term 5: 3\n",
      "Term 6: 5\n",
      "Term 7: 8\n",
      "Term 8: 13\n",
      "Term 9: 21\n",
      "Term 10: 34\n",
      "Term 11: 55\n",
      "Term 12: 89\n"
     ]
    }
   ],
   "source": [
    "def generate_fibonacci(n):\n",
    "    # Initialize variables to store the first two Fibonacci numbers.\n",
    "    fib_list = [0, 1]\n",
    "\n",
    "    # Generate Fibonacci numbers iteratively.\n",
    "    while len(fib_list) < n:\n",
    "        next_num = fib_list[-1] + fib_list[-2]\n",
    "        fib_list.append(next_num)\n",
    "\n",
    "    return fib_list\n",
    "\n",
    "def main():\n",
    "    print(\"Fibonacci Number Generator (Iterative)\")\n",
    "    try:\n",
    "        n = int(input(\"Enter the number of Fibonacci numbers to generate: \"))\n",
    "        if n <= 0:\n",
    "            print(\"Please enter a positive integer.\")\n",
    "            return\n",
    "\n",
    "        fibonacci_sequence = generate_fibonacci(n)\n",
    "\n",
    "        print(f\"Fibonacci sequence up to term {n}:\")\n",
    "        for term, number in enumerate(fibonacci_sequence, start=1):\n",
    "            print(f\"Term {term}: {number}\")\n",
    "    except ValueError:\n",
    "        print(\"Invalid input. Please enter a valid positive integer.\")\n",
    "\n",
    "if __name__ == \"__main__\":\n",
    "    main()\n"
   ]
  },
  {
   "cell_type": "markdown",
   "id": "26fa2af3-350f-4c96-8bb1-5b8a5eb9ce7b",
   "metadata": {},
   "source": [
    "Q37. Develop a program that calculates the nth term of the Fibonacci sequence using memoization."
   ]
  },
  {
   "cell_type": "code",
   "execution_count": 4,
   "id": "40733e84-c5b2-4a08-ae1e-12fc626e378f",
   "metadata": {},
   "outputs": [
    {
     "name": "stdout",
     "output_type": "stream",
     "text": [
      "Fibonacci Number Calculator (Memoization)\n"
     ]
    },
    {
     "name": "stdin",
     "output_type": "stream",
     "text": [
      "Enter the term (n) of the Fibonacci sequence to calculate:  4\n"
     ]
    },
    {
     "name": "stdout",
     "output_type": "stream",
     "text": [
      "The 4-th term of the Fibonacci sequence is: 3\n"
     ]
    }
   ],
   "source": [
    "# Dictionary to store already computed Fibonacci numbers for memoization.\n",
    "fib_cache = {}\n",
    "\n",
    "def fibonacci_memoization(n):\n",
    "    # Base cases: Fibonacci of 0 and 1 is 0 and 1, respectively.\n",
    "    if n in fib_cache:\n",
    "        # If the result is already cached, return it.\n",
    "        return fib_cache[n]\n",
    "    if n == 0:\n",
    "        return 0\n",
    "    elif n == 1:\n",
    "        return 1\n",
    "    else:\n",
    "        # Calculate Fibonacci using recursion and memoization.\n",
    "        result = fibonacci_memoization(n - 1) + fibonacci_memoization(n - 2)\n",
    "        # Cache the result for future use.\n",
    "        fib_cache[n] = result\n",
    "        return result\n",
    "\n",
    "def main():\n",
    "    print(\"Fibonacci Number Calculator (Memoization)\")\n",
    "    try:\n",
    "        n = int(input(\"Enter the term (n) of the Fibonacci sequence to calculate: \"))\n",
    "        if n < 0:\n",
    "            print(\"Please enter a non-negative integer.\")\n",
    "            return\n",
    "\n",
    "        fibonacci_number = fibonacci_memoization(n)\n",
    "\n",
    "        print(f\"The {n}-th term of the Fibonacci sequence is: {fibonacci_number}\")\n",
    "    except ValueError:\n",
    "        print(\"Invalid input. Please enter a valid non-negative integer.\")\n",
    "\n",
    "if __name__ == \"__main__\":\n",
    "    main()\n"
   ]
  },
  {
   "cell_type": "markdown",
   "id": "b3fd1992-8ab2-4016-a752-5bd10121d469",
   "metadata": {},
   "source": [
    "Q38. Create a program that generates a calendar for a given month and year using conditional statements."
   ]
  },
  {
   "cell_type": "code",
   "execution_count": 5,
   "id": "d2284daa-5727-40c4-addc-6f6a70b67711",
   "metadata": {},
   "outputs": [
    {
     "name": "stdout",
     "output_type": "stream",
     "text": [
      "Calendar Generator\n"
     ]
    },
    {
     "name": "stdin",
     "output_type": "stream",
     "text": [
      "Enter the year:  999\n",
      "Enter the month (1-12):  4\n"
     ]
    },
    {
     "name": "stdout",
     "output_type": "stream",
     "text": [
      "Calendar for April 999\n",
      "\n",
      "Mon\tTue\tWed\tThu\tFri\tSat\tSun\t\n",
      " 1\t 2\t 3\t 4\t 5\t 6\t 7\t\n",
      " 8\t 9\t10\t11\t12\t13\t14\t\n",
      "15\t16\t17\t18\t19\t20\t21\t\n",
      "22\t23\t24\t25\t26\t27\t28\t\n",
      "29\t30\t  \t  \t  \t  \t  \t\n"
     ]
    }
   ],
   "source": [
    "import calendar\n",
    "\n",
    "def generate_calendar(year, month):\n",
    "    # Create a calendar object for the specified year and month.\n",
    "    cal = calendar.monthcalendar(year, month)\n",
    "\n",
    "    # Get the names of the days of the week.\n",
    "    weekdays = ['Mon', 'Tue', 'Wed', 'Thu', 'Fri', 'Sat', 'Sun']\n",
    "\n",
    "    # Print the month and year header.\n",
    "    month_name = calendar.month_name[month]\n",
    "    print(f\"Calendar for {month_name} {year}\\n\")\n",
    "\n",
    "    # Print the day headers (Mon, Tue, ..., Sun).\n",
    "    for day in weekdays:\n",
    "        print(day, end='\\t')\n",
    "    print()  # Move to the next line\n",
    "\n",
    "    # Iterate through each week in the calendar and print the dates.\n",
    "    for week in cal:\n",
    "        for day in week:\n",
    "            if day == 0:\n",
    "                print('  ', end='\\t')  # Print two spaces for empty days\n",
    "            else:\n",
    "                print(f\"{day:2d}\", end='\\t')  # Print day with leading zero\n",
    "        print()  # Move to the next line\n",
    "\n",
    "def main():\n",
    "    print(\"Calendar Generator\")\n",
    "    try:\n",
    "        year = int(input(\"Enter the year: \"))\n",
    "        month = int(input(\"Enter the month (1-12): \"))\n",
    "\n",
    "        if 1 <= month <= 12:\n",
    "            generate_calendar(year, month)\n",
    "        else:\n",
    "            print(\"Invalid month. Please enter a number between 1 and 12.\")\n",
    "    except ValueError:\n",
    "        print(\"Invalid input. Please enter valid numeric values.\")\n",
    "\n",
    "if __name__ == \"__main__\":\n",
    "    main()\n"
   ]
  },
  {
   "cell_type": "markdown",
   "id": "ba64d854-e77c-4cb7-b378-ed56f2800d26",
   "metadata": {},
   "source": [
    "Q39. Build a program that simulates a basic text-based blackjack game against the computer."
   ]
  },
  {
   "cell_type": "code",
   "execution_count": 6,
   "id": "7f33615a-696c-488c-a1cf-1c9f97423bd5",
   "metadata": {},
   "outputs": [
    {
     "name": "stdout",
     "output_type": "stream",
     "text": [
      "Welcome to Text-Based Blackjack!\n",
      "\n",
      "Your hand:\n",
      "Queen of Diamonds\n",
      "King of Spades\n",
      "Total Value: 20\n",
      "\n"
     ]
    },
    {
     "name": "stdin",
     "output_type": "stream",
     "text": [
      "Do you want to 'Hit' or 'Stand'?  hit\n"
     ]
    },
    {
     "name": "stdout",
     "output_type": "stream",
     "text": [
      "\n",
      "Your hand:\n",
      "Queen of Diamonds\n",
      "King of Spades\n",
      "Queen of Clubs\n",
      "Total Value: 30\n",
      "\n",
      "\n",
      "Computer's hand:\n",
      "King of Diamonds\n",
      "Two of Spades\n",
      "Queen of Clubs\n",
      "Total Value: 22\n",
      "\n",
      "Bust! You lose.\n"
     ]
    },
    {
     "name": "stdin",
     "output_type": "stream",
     "text": [
      "Do you want to play again? (yes/no):  no\n"
     ]
    },
    {
     "name": "stdout",
     "output_type": "stream",
     "text": [
      "Thanks for playing!\n"
     ]
    }
   ],
   "source": [
    "import random\n",
    "\n",
    "# Define card ranks, suits, and values.\n",
    "suits = ['Hearts', 'Diamonds', 'Clubs', 'Spades']\n",
    "ranks = ['Two', 'Three', 'Four', 'Five', 'Six', 'Seven', 'Eight', 'Nine', 'Ten', 'Jack', 'Queen', 'King', 'Ace']\n",
    "values = [2, 3, 4, 5, 6, 7, 8, 9, 10, 10, 10, 10, 11]\n",
    "\n",
    "# Define the maximum hand value before busting.\n",
    "max_hand_value = 21\n",
    "\n",
    "def deal_card():\n",
    "    \"\"\"Deal a random card.\"\"\"\n",
    "    suit = random.choice(suits)\n",
    "    rank = random.choice(ranks)\n",
    "    value = values[ranks.index(rank)]\n",
    "    return {'suit': suit, 'rank': rank, 'value': value}\n",
    "\n",
    "def calculate_hand_value(hand):\n",
    "    \"\"\"Calculate the value of a hand, accounting for aces.\"\"\"\n",
    "    total_value = sum(card['value'] for card in hand)\n",
    "    num_aces = sum(1 for card in hand if card['rank'] == 'Ace')\n",
    "\n",
    "    while total_value > max_hand_value and num_aces:\n",
    "        total_value -= 10\n",
    "        num_aces -= 1\n",
    "\n",
    "    return total_value\n",
    "\n",
    "def display_hand(hand):\n",
    "    \"\"\"Display a player's hand.\"\"\"\n",
    "    for card in hand:\n",
    "        print(f\"{card['rank']} of {card['suit']}\")\n",
    "\n",
    "def blackjack():\n",
    "    print(\"Welcome to Text-Based Blackjack!\")\n",
    "\n",
    "    while True:\n",
    "        player_hand = [deal_card(), deal_card()]\n",
    "        computer_hand = [deal_card()]\n",
    "\n",
    "        print(\"\\nYour hand:\")\n",
    "        display_hand(player_hand)\n",
    "        print(f\"Total Value: {calculate_hand_value(player_hand)}\\n\")\n",
    "\n",
    "        while calculate_hand_value(player_hand) < max_hand_value:\n",
    "            choice = input(\"Do you want to 'Hit' or 'Stand'? \").strip().lower()\n",
    "\n",
    "            if choice == 'hit':\n",
    "                player_hand.append(deal_card())\n",
    "                print(\"\\nYour hand:\")\n",
    "                display_hand(player_hand)\n",
    "                print(f\"Total Value: {calculate_hand_value(player_hand)}\\n\")\n",
    "            elif choice == 'stand':\n",
    "                break\n",
    "            else:\n",
    "                print(\"Invalid choice. Enter 'Hit' or 'Stand'.\")\n",
    "\n",
    "        while calculate_hand_value(computer_hand) < 17:\n",
    "            computer_hand.append(deal_card())\n",
    "\n",
    "        print(\"\\nComputer's hand:\")\n",
    "        display_hand(computer_hand)\n",
    "        print(f\"Total Value: {calculate_hand_value(computer_hand)}\\n\")\n",
    "\n",
    "        player_value = calculate_hand_value(player_hand)\n",
    "        computer_value = calculate_hand_value(computer_hand)\n",
    "\n",
    "        if player_value > max_hand_value:\n",
    "            print(\"Bust! You lose.\")\n",
    "        elif computer_value > max_hand_value:\n",
    "            print(\"Computer busts! You win.\")\n",
    "        elif player_value > computer_value:\n",
    "            print(\"You win!\")\n",
    "        elif player_value < computer_value:\n",
    "            print(\"You lose.\")\n",
    "        else:\n",
    "            print(\"It's a tie!\")\n",
    "\n",
    "        play_again = input(\"Do you want to play again? (yes/no): \").strip().lower()\n",
    "        if play_again != 'yes':\n",
    "            print(\"Thanks for playing!\")\n",
    "            break\n",
    "\n",
    "if __name__ == \"__main__\":\n",
    "    blackjack()\n"
   ]
  },
  {
   "cell_type": "markdown",
   "id": "749f7ec0-7510-4d12-91b6-942e1543e32f",
   "metadata": {},
   "source": [
    "Q40. Write a program that generates the prime factors of a given number using trial division."
   ]
  },
  {
   "cell_type": "code",
   "execution_count": 7,
   "id": "346b7f8e-e713-4ba1-853c-3f1dec740596",
   "metadata": {},
   "outputs": [
    {
     "name": "stdout",
     "output_type": "stream",
     "text": [
      "Prime Factor Generator\n"
     ]
    },
    {
     "name": "stdin",
     "output_type": "stream",
     "text": [
      "Enter a positive integer:  34\n"
     ]
    },
    {
     "name": "stdout",
     "output_type": "stream",
     "text": [
      "The prime factors of 34 are: 2, 17\n"
     ]
    }
   ],
   "source": [
    "def prime_factors(n):\n",
    "    factors = []  # Initialize an empty list to store the prime factors.\n",
    "    divisor = 2   # Start with the smallest prime divisor, which is 2.\n",
    "\n",
    "    while n > 1:\n",
    "        while n % divisor == 0:\n",
    "            # While n is divisible by the current divisor, add the divisor to the list of factors.\n",
    "            factors.append(divisor)\n",
    "            # Divide n by the divisor to reduce n.\n",
    "            n //= divisor\n",
    "        divisor += 1  # Move on to the next potential divisor.\n",
    "\n",
    "    return factors  # Return the list of prime factors once n becomes 1.\n",
    "\n",
    "def main():\n",
    "    print(\"Prime Factor Generator\")\n",
    "\n",
    "    try:\n",
    "        num = int(input(\"Enter a positive integer: \"))\n",
    "\n",
    "        if num <= 0:\n",
    "            print(\"Please enter a positive integer.\")\n",
    "        else:\n",
    "            factors = prime_factors(num)\n",
    "\n",
    "            if len(factors) == 1:\n",
    "                print(f\"{num} is a prime number.\")  # If only one factor, it's the number itself.\n",
    "            else:\n",
    "                print(f\"The prime factors of {num} are: {', '.join(map(str, factors))}\")\n",
    "                # Display the prime factors as a comma-separated string.\n",
    "    except ValueError:\n",
    "        print(\"Invalid input. Please enter a positive integer.\")\n",
    "\n",
    "if __name__ == \"__main__\":\n",
    "    main()\n"
   ]
  },
  {
   "cell_type": "code",
   "execution_count": null,
   "id": "bc087364-3cef-4fd0-ba1f-b8b872c8a46c",
   "metadata": {},
   "outputs": [],
   "source": []
  },
  {
   "cell_type": "code",
   "execution_count": null,
   "id": "9ca63406-d692-4ff6-9870-2a66fb33b14a",
   "metadata": {},
   "outputs": [],
   "source": []
  },
  {
   "cell_type": "code",
   "execution_count": null,
   "id": "067d75f9-8153-4562-a879-f45c0d3b7bc6",
   "metadata": {},
   "outputs": [],
   "source": []
  },
  {
   "cell_type": "code",
   "execution_count": null,
   "id": "ffb1b602-f4c1-40ce-8195-a3a81798bc26",
   "metadata": {},
   "outputs": [],
   "source": []
  },
  {
   "cell_type": "code",
   "execution_count": null,
   "id": "d23664ff-331c-46dc-8bc7-465d3d3cdcd1",
   "metadata": {},
   "outputs": [],
   "source": []
  },
  {
   "cell_type": "code",
   "execution_count": null,
   "id": "1363bead-51df-47ad-b194-a50e1f85a3f5",
   "metadata": {},
   "outputs": [],
   "source": []
  },
  {
   "cell_type": "code",
   "execution_count": null,
   "id": "fc2d9b15-e628-4a0b-a71a-925e35a22896",
   "metadata": {},
   "outputs": [],
   "source": []
  },
  {
   "cell_type": "code",
   "execution_count": null,
   "id": "c01ee3f4-05c2-4d20-beeb-00052812aedb",
   "metadata": {},
   "outputs": [],
   "source": []
  }
 ],
 "metadata": {
  "kernelspec": {
   "display_name": "Python 3 (ipykernel)",
   "language": "python",
   "name": "python3"
  },
  "language_info": {
   "codemirror_mode": {
    "name": "ipython",
    "version": 3
   },
   "file_extension": ".py",
   "mimetype": "text/x-python",
   "name": "python",
   "nbconvert_exporter": "python",
   "pygments_lexer": "ipython3",
   "version": "3.10.8"
  }
 },
 "nbformat": 4,
 "nbformat_minor": 5
}
