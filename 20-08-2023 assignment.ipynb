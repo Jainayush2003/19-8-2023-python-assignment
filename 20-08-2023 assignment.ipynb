{
 "cells": [
  {
   "cell_type": "markdown",
   "id": "a1f74c34-d4a9-443b-8119-df613caf8d1a",
   "metadata": {},
   "source": [
    "String based questions"
   ]
  },
  {
   "cell_type": "markdown",
   "id": "a632f8a4-73d6-4378-accf-7009b1628b9f",
   "metadata": {},
   "source": [
    "Q1.Write a program to reverse a string."
   ]
  },
  {
   "cell_type": "code",
   "execution_count": 72,
   "id": "5b588a6a-b564-4dba-b4de-fe4912b3465f",
   "metadata": {},
   "outputs": [
    {
     "name": "stdin",
     "output_type": "stream",
     "text": [
      "enter any string:-  ayush\n"
     ]
    },
    {
     "name": "stdout",
     "output_type": "stream",
     "text": [
      "the string after reversing it is:-  hsuya\n"
     ]
    }
   ],
   "source": [
    "# code:-\n",
    "\n",
    "st=input(\"enter any string:- \")\n",
    "\n",
    "reverse_string=st[::-1]\n",
    "\n",
    "print(\"the string after reversing it is:- \",reverse_string)\n"
   ]
  },
  {
   "cell_type": "markdown",
   "id": "208bd3f2-d832-4819-9ad7-9ab364e51dd8",
   "metadata": {},
   "source": [
    "Q2. Check if a string is a palindrome."
   ]
  },
  {
   "cell_type": "code",
   "execution_count": 73,
   "id": "955cff9a-a826-48a6-805a-29f3d99c8263",
   "metadata": {},
   "outputs": [
    {
     "name": "stdin",
     "output_type": "stream",
     "text": [
      "enter the string:-  racecar\n"
     ]
    },
    {
     "name": "stdout",
     "output_type": "stream",
     "text": [
      "it is palindrome string\n"
     ]
    }
   ],
   "source": [
    "st=input(\"enter the string:- \")\n",
    "\n",
    "reverse_str=st[::-1]\n",
    "\n",
    "if(reverse_str==st):\n",
    "    print(\"it is palindrome string\")\n",
    "    \n",
    "else:\n",
    "    print(\"it is not palindrome string\")"
   ]
  },
  {
   "cell_type": "markdown",
   "id": "b1668be0-eafe-4cca-999b-49e03b43b783",
   "metadata": {},
   "source": [
    "Q3. Convert a string to uppercase."
   ]
  },
  {
   "cell_type": "code",
   "execution_count": 74,
   "id": "24b7d9b5-53b7-4267-b9b5-7f425d256899",
   "metadata": {},
   "outputs": [
    {
     "name": "stdin",
     "output_type": "stream",
     "text": [
      "enter any string:-  pwskills\n"
     ]
    },
    {
     "name": "stdout",
     "output_type": "stream",
     "text": [
      "the string in uppercase:-  PWSKILLS\n"
     ]
    }
   ],
   "source": [
    "st=input(\"enter any string:- \")\n",
    "\n",
    "upper_string=st.upper()\n",
    "print(\"the string in uppercase:- \",upper_string)"
   ]
  },
  {
   "cell_type": "markdown",
   "id": "e56c4a61-4e3d-45ce-ae31-9320e4fbc044",
   "metadata": {},
   "source": [
    "Q4. Convert a string to lowercase."
   ]
  },
  {
   "cell_type": "code",
   "execution_count": 75,
   "id": "46d4cbcc-302f-426a-9f74-aed6a74cb1c8",
   "metadata": {},
   "outputs": [
    {
     "name": "stdin",
     "output_type": "stream",
     "text": [
      "enter any string:-  PWSKILLS\n"
     ]
    },
    {
     "name": "stdout",
     "output_type": "stream",
     "text": [
      "the string in lowercase:-  pwskills\n"
     ]
    }
   ],
   "source": [
    "st=input(\"enter any string:- \")\n",
    "\n",
    "lower_string=st.lower()\n",
    "print(\"the string in lowercase:- \",lower_string)"
   ]
  },
  {
   "cell_type": "markdown",
   "id": "9c7e9148-7ffc-4347-bd74-7fe9948a6a58",
   "metadata": {},
   "source": [
    "Q5. Count the number of vowels in a string."
   ]
  },
  {
   "cell_type": "code",
   "execution_count": 76,
   "id": "6ba47972-6e10-40c9-9f1e-0cdcbece39ee",
   "metadata": {},
   "outputs": [
    {
     "name": "stdin",
     "output_type": "stream",
     "text": [
      "Enter the string:-  hey how are you\n"
     ]
    },
    {
     "name": "stdout",
     "output_type": "stream",
     "text": [
      "the count of vowels in a sstring is:-  6\n"
     ]
    }
   ],
   "source": [
    "st=input(\"Enter the string:- \")\n",
    "count=0\n",
    "vowels='aeiouAEIOU'\n",
    "for char in st:\n",
    "    if char in vowels:\n",
    "        count=count+1\n",
    "        \n",
    "print(\"the count of vowels in a sstring is:- \",count)"
   ]
  },
  {
   "cell_type": "markdown",
   "id": "760c256d-58bb-44e9-b7c1-2b7e01d6bac6",
   "metadata": {},
   "source": [
    "Q6. Count the number of consonants in a string."
   ]
  },
  {
   "cell_type": "code",
   "execution_count": 77,
   "id": "c889a6ba-2b91-40f8-96a5-5f6c9da1982c",
   "metadata": {},
   "outputs": [
    {
     "name": "stdin",
     "output_type": "stream",
     "text": [
      "Enter the string:-  full stack data science pro batch\n"
     ]
    },
    {
     "name": "stdout",
     "output_type": "stream",
     "text": [
      "the count of consonants in a string is:-  19\n"
     ]
    }
   ],
   "source": [
    "st=input(\"Enter the string:- \")\n",
    "count=0\n",
    "vowels='aeiouAEIOU'                 # except the vowels in the alphabet all are consonant so we use not in vowels\n",
    "st=st.replace(\" \",\"\")              # The space is replaced by blank because it is counting the space also\n",
    "for char in st:\n",
    "    if char not in vowels:\n",
    "        count=count+1\n",
    "        \n",
    "print(\"the count of consonants in a string is:- \",count)"
   ]
  },
  {
   "cell_type": "markdown",
   "id": "d3765191-8c85-4c10-9c12-fae013bbcc9c",
   "metadata": {},
   "source": [
    "Q7. Remove all whitespaces from a string."
   ]
  },
  {
   "cell_type": "code",
   "execution_count": 78,
   "id": "47893bd2-f1b7-43b4-845a-ba3bf034adec",
   "metadata": {},
   "outputs": [
    {
     "name": "stdin",
     "output_type": "stream",
     "text": [
      "Enter the string:-  hey how are you\n"
     ]
    },
    {
     "name": "stdout",
     "output_type": "stream",
     "text": [
      "The string after removing whitespace:-  heyhowareyou\n"
     ]
    }
   ],
   "source": [
    "def remove_whitespace(input_string):\n",
    "    return input_string.replace(\" \",\"\")\n",
    "\n",
    "\n",
    "user_input=input(\"Enter the string:- \")\n",
    "output=remove_whitespace(user_input)\n",
    "print(\"The string after removing whitespace:- \",output)"
   ]
  },
  {
   "cell_type": "markdown",
   "id": "847051d3-3e17-470c-9783-e29dabaac06b",
   "metadata": {},
   "source": [
    "Q8. Find the length of a string without using the `len()` function."
   ]
  },
  {
   "cell_type": "code",
   "execution_count": 79,
   "id": "d9f09d27-afd3-4be4-adf9-9150700e4c9f",
   "metadata": {},
   "outputs": [
    {
     "name": "stdin",
     "output_type": "stream",
     "text": [
      "Enter the string:-  data science\n"
     ]
    },
    {
     "name": "stdout",
     "output_type": "stream",
     "text": [
      "Length: 12\n"
     ]
    }
   ],
   "source": [
    "def string_len(input_string):\n",
    "    count = 0\n",
    "    for _ in input_string:     # this loop will iterate through  each character\n",
    "        count += 1\n",
    "    return count\n",
    "\n",
    "# Example usage\n",
    "user_input=input(\"Enter the string:- \")\n",
    "length = string_len(user_input)\n",
    "print(\"Length:\", length)\n"
   ]
  },
  {
   "cell_type": "markdown",
   "id": "2be0eba7-806a-4eac-a9b1-ba1ec4c2bc44",
   "metadata": {},
   "source": [
    "Q9. Check if a string contains a specific word."
   ]
  },
  {
   "cell_type": "code",
   "execution_count": 80,
   "id": "92558409-d459-45c7-805d-a1389fc89712",
   "metadata": {},
   "outputs": [
    {
     "name": "stdin",
     "output_type": "stream",
     "text": [
      "Enter the string:-  full stack data science\n",
      "Enter the word:-  science\n"
     ]
    },
    {
     "name": "stdout",
     "output_type": "stream",
     "text": [
      "The string contains the 'science' \n"
     ]
    }
   ],
   "source": [
    "def checking_word(input_string, specific_word):\n",
    "    return specific_word in input_string\n",
    "\n",
    "\n",
    "user_input = input(\"Enter the string:- \")\n",
    "word = input(\"Enter the word:- \")\n",
    "if checking_word(user_input,word):\n",
    "    print(f\"The string contains the '{word}' \")\n",
    "else:\n",
    "    print(f\"the string did not contain '{word}' \")\n"
   ]
  },
  {
   "cell_type": "markdown",
   "id": "7ec03b93-ffca-4797-8827-1083b0c26812",
   "metadata": {},
   "source": [
    "Q10. Replace a word in a string with another word."
   ]
  },
  {
   "cell_type": "code",
   "execution_count": 81,
   "id": "3a41682d-94aa-4f21-a112-b1201bca7b62",
   "metadata": {},
   "outputs": [
    {
     "name": "stdin",
     "output_type": "stream",
     "text": [
      "Enter a string:  hey how are you\n",
      "Enter the word you want to replace:  hey\n",
      "Enter the new word:  hello\n"
     ]
    },
    {
     "name": "stdout",
     "output_type": "stream",
     "text": [
      "Updated string: hello how are you\n"
     ]
    }
   ],
   "source": [
    "def replace_word(input_string, old_word, new_word):\n",
    "    return input_string.replace(old_word, new_word)\n",
    "\n",
    "\n",
    "user_input = input(\"Enter a string: \")\n",
    "word1 = input(\"Enter the word you want to replace: \")\n",
    "word2 = input(\"Enter the new word: \")\n",
    "\n",
    "output_string = replace_word(user_input, word1, word2)\n",
    "print(\"Updated string:\", output_string)\n"
   ]
  },
  {
   "cell_type": "markdown",
   "id": "dd87cf88-28ab-414c-944b-31cbb06925b6",
   "metadata": {},
   "source": [
    "Q11. Count the occurrences of a word in a string."
   ]
  },
  {
   "cell_type": "code",
   "execution_count": 82,
   "id": "a1a2bdf7-3758-4be7-9b87-853ad169dc80",
   "metadata": {},
   "outputs": [
    {
     "name": "stdin",
     "output_type": "stream",
     "text": [
      "Enter a string:  twinkle twinkle littile star\n",
      "Enter the word to count:  twinkle\n"
     ]
    },
    {
     "name": "stdout",
     "output_type": "stream",
     "text": [
      "The word 'twinkle' appears 2 times in the string.\n"
     ]
    }
   ],
   "source": [
    "def counting_word_occurrences(input_string, target_word):\n",
    "    words = input_string.split()\n",
    "    count = 0\n",
    "    for word in words:\n",
    "        if word == target_word:\n",
    "            count += 1\n",
    "    return count\n",
    "\n",
    "\n",
    "user_input= input(\"Enter a string: \")\n",
    "counter_word = input(\"Enter the word to count: \")\n",
    "\n",
    "occurrences = counting_word_occurrences(user_input, counter_word)\n",
    "print(f\"The word '{counter_word}' appears {occurrences} times in the string.\")\n"
   ]
  },
  {
   "cell_type": "markdown",
   "id": "cbec7e96-a63f-44b0-a295-754c61af4d71",
   "metadata": {},
   "source": [
    "Q12. Find the first occurrence of a word in a string."
   ]
  },
  {
   "cell_type": "code",
   "execution_count": 84,
   "id": "379eba9b-2033-48a2-b0ee-8116b2376a3a",
   "metadata": {},
   "outputs": [
    {
     "name": "stdin",
     "output_type": "stream",
     "text": [
      "Enter any string:-  hello how  are you\n",
      "Enter the word to find its first occurrence:-  are\n"
     ]
    },
    {
     "name": "stdout",
     "output_type": "stream",
     "text": [
      " the first occurrence of 'are' starts at index 11\n"
     ]
    }
   ],
   "source": [
    "def first_occurrence_index(input_string,word):\n",
    "    index=input_string.find(word)\n",
    "    return index\n",
    "\n",
    "user_input=input(\"Enter any string:- \")\n",
    "word=input(\"Enter the word to find its first occurrence:- \")\n",
    "\n",
    "final_count=find_occurrence_index(user_input,word)\n",
    "\n",
    "if first_occurrence_index!=-1:\n",
    "    print(f\" the first occurrence of '{word}' starts at index {final_count}\")\n",
    "    \n",
    "else:\n",
    "    print(f\"{word} not found in string\")\n",
    "    "
   ]
  },
  {
   "cell_type": "markdown",
   "id": "b8aa6854-545a-4424-99e8-99723faa08a8",
   "metadata": {},
   "source": [
    "Q13. Find the last occurrence of a word in a string."
   ]
  },
  {
   "cell_type": "code",
   "execution_count": 86,
   "id": "1d896c5a-0fb2-4f54-85f0-8d861e0251b0",
   "metadata": {},
   "outputs": [
    {
     "name": "stdin",
     "output_type": "stream",
     "text": [
      "Enter any string:-  \n",
      "Enter word to find its last occurence in the string:-  \n"
     ]
    },
    {
     "name": "stdout",
     "output_type": "stream",
     "text": [
      "The last occurence of '' ends with index 0\n"
     ]
    }
   ],
   "source": [
    "def last_occurrence_finder(input_string,word):\n",
    "    index=input_string.rfind(word)\n",
    "    return index\n",
    "\n",
    "user_input=input(\"Enter any string:- \")\n",
    "word=input(\"Enter word to find its last occurence in the string:- \")\n",
    "\n",
    "final_output=last_occurrence_finder(user_input,word)\n",
    "\n",
    "if last_occurrence_finder!=-1:\n",
    "    print(f\"The last occurence of '{word}' ends with index {final_output}\")\n",
    "    \n",
    "else:\n",
    "    print(f\"'{word}' not found in a string\")"
   ]
  },
  {
   "cell_type": "markdown",
   "id": "7f20b971-c12d-45b2-b073-62ea947a6af8",
   "metadata": {},
   "source": [
    "Q14. Split a string into a list of words."
   ]
  },
  {
   "cell_type": "code",
   "execution_count": 87,
   "id": "d4c6354f-dd26-4a76-bf74-812d6e56d3c7",
   "metadata": {},
   "outputs": [
    {
     "name": "stdin",
     "output_type": "stream",
     "text": [
      "Enter the string:-  full stack data science pro batch\n"
     ]
    },
    {
     "name": "stdout",
     "output_type": "stream",
     "text": [
      "The string after spliting looks like:-  ['full', 'stack', 'data', 'science', 'pro', 'batch']\n",
      "The type of output is:-  <class 'list'>\n"
     ]
    }
   ],
   "source": [
    "def split_string(input_string):\n",
    "    spliting=input_string.split()\n",
    "    return spliting\n",
    "\n",
    "user_input=input(\"Enter the string:- \")\n",
    "\n",
    "output=split_string(user_input)\n",
    "\n",
    "print(\"The string after spliting looks like:- \",output)\n",
    "print(\"The type of output is:- \",type(output))"
   ]
  },
  {
   "cell_type": "markdown",
   "id": "9777cdde-8739-40a9-957f-208309ca3e5d",
   "metadata": {},
   "source": [
    "Q15. Join a list of words into a string."
   ]
  },
  {
   "cell_type": "code",
   "execution_count": 88,
   "id": "50eaa9ff-6dd5-480b-baf8-baa0d287f18d",
   "metadata": {},
   "outputs": [
    {
     "name": "stdout",
     "output_type": "stream",
     "text": [
      "The string is 'hey how are you'\n"
     ]
    }
   ],
   "source": [
    "li=[\"hey\",\"how\",\"are\",\"you\"]\n",
    "\n",
    "join_string=\" \".join(li)   # \" \" this is a seperator used between words\n",
    "print(f\"The string is '{join_string}'\") "
   ]
  },
  {
   "cell_type": "markdown",
   "id": "f64f0950-2269-4c73-9a6f-a83259f40736",
   "metadata": {},
   "source": [
    "Q16. Convert a string where words are separated by spaces to one where words\n",
    "are separated by underscores."
   ]
  },
  {
   "cell_type": "code",
   "execution_count": 89,
   "id": "0a67f3be-55b9-45f5-804d-e3126e77e510",
   "metadata": {},
   "outputs": [
    {
     "name": "stdin",
     "output_type": "stream",
     "text": [
      "Enter any string:-  hello how are you\n"
     ]
    },
    {
     "name": "stdout",
     "output_type": "stream",
     "text": [
      "The modified string is 'hello_how_are_you'\n"
     ]
    }
   ],
   "source": [
    "def space_to_underscore(input_string):\n",
    "    modified_string=input_string.replace(\" \",\"_\")\n",
    "    return modified_string\n",
    "\n",
    "user_input=input(\"Enter any string:- \")\n",
    "output=space_to_underscore(user_input)\n",
    "\n",
    "print(f\"The modified string is '{output}'\")"
   ]
  },
  {
   "cell_type": "markdown",
   "id": "d4fe1e81-e7dd-49ee-b455-0280fa89d7ed",
   "metadata": {},
   "source": [
    "Q17. Check if a string starts with a specific word or phrase."
   ]
  },
  {
   "cell_type": "code",
   "execution_count": 90,
   "id": "f499c3da-21cf-4bb5-9bbf-312442b8457b",
   "metadata": {},
   "outputs": [
    {
     "name": "stdin",
     "output_type": "stream",
     "text": [
      "Enter string:-  full stack data science\n",
      "Enter the word or phrase:-  full\n"
     ]
    },
    {
     "name": "stdout",
     "output_type": "stream",
     "text": [
      "Yes the string startswith 'full'\n"
     ]
    }
   ],
   "source": [
    "user_input=input(\"Enter string:- \")\n",
    "word=input(\"Enter the word or phrase:- \")\n",
    "\n",
    "if user_input.startswith(word):\n",
    "    print(f\"Yes the string startswith '{word}'\")\n",
    "    \n",
    "else:\n",
    "    print(f\"No string does not startswith '{word}'\")\n",
    "    "
   ]
  },
  {
   "cell_type": "markdown",
   "id": "d2278628-9768-473a-a8d1-77e64258e03b",
   "metadata": {},
   "source": [
    "Q18. Check if a string ends with a specific word or phrase."
   ]
  },
  {
   "cell_type": "code",
   "execution_count": 91,
   "id": "bdc1d194-aca8-42d7-8561-c76044386ecb",
   "metadata": {},
   "outputs": [
    {
     "name": "stdin",
     "output_type": "stream",
     "text": [
      "Enter string:-  full stack data science pro\n",
      "Enter the word or phrase:-  pro\n"
     ]
    },
    {
     "name": "stdout",
     "output_type": "stream",
     "text": [
      "Yes the string endswith 'pro'\n"
     ]
    }
   ],
   "source": [
    "user_input=input(\"Enter string:- \")\n",
    "word=input(\"Enter the word or phrase:- \")\n",
    "\n",
    "if user_input.endswith(word):\n",
    "    print(f\"Yes the string endswith '{word}'\")\n",
    "    \n",
    "else:\n",
    "    print(f\"No string does not endswith '{word}'\")\n",
    "    "
   ]
  },
  {
   "cell_type": "markdown",
   "id": "5ec5c105-bfb1-47ff-896d-d3dea498f580",
   "metadata": {},
   "source": [
    "Q19. Convert a string to title case"
   ]
  },
  {
   "cell_type": "code",
   "execution_count": 92,
   "id": "c800fc9d-7626-4e5b-b420-c16da5f736cb",
   "metadata": {},
   "outputs": [
    {
     "name": "stdin",
     "output_type": "stream",
     "text": [
      "enter the string:-  hey how are you\n"
     ]
    },
    {
     "name": "stdout",
     "output_type": "stream",
     "text": [
      "The modified string is:-  Hey How Are You\n"
     ]
    }
   ],
   "source": [
    "user_input=input(\"enter the string:- \")\n",
    "\n",
    "modified_string=user_input.title()\n",
    "\n",
    "print(\"The modified string is:- \",modified_string)"
   ]
  },
  {
   "cell_type": "markdown",
   "id": "7a5a7309-a169-47d4-93ce-6b077b299e3d",
   "metadata": {},
   "source": [
    "Q20. Find the longest word in a string."
   ]
  },
  {
   "cell_type": "code",
   "execution_count": 93,
   "id": "bcaf8370-ab8f-4d98-944a-994759cdaa97",
   "metadata": {},
   "outputs": [
    {
     "name": "stdin",
     "output_type": "stream",
     "text": [
      "Enter string:-  full stack data science pro\n"
     ]
    },
    {
     "name": "stdout",
     "output_type": "stream",
     "text": [
      "The longest word from a sting is 'science' having a length 7\n"
     ]
    }
   ],
   "source": [
    "def max_finder(input_string):\n",
    "    splits=user_input.split()\n",
    "    maximum=max(splits,key=len)\n",
    "    return maximum\n",
    "\n",
    "user_input=input(\"Enter string:- \")\n",
    "output=max_finder(user_input)\n",
    "length=len(output)\n",
    "\n",
    "\n",
    "print(f\"The longest word from a sting is '{output}' having a length {length}\")"
   ]
  },
  {
   "cell_type": "markdown",
   "id": "d697c82b-fb65-47a7-885e-90a8b63a56dc",
   "metadata": {},
   "source": [
    "Q21. Find the shortest word in a string.\n"
   ]
  },
  {
   "cell_type": "code",
   "execution_count": 94,
   "id": "31e529d9-04cb-4ba3-a3a4-051e9dbbaf3d",
   "metadata": {},
   "outputs": [
    {
     "name": "stdin",
     "output_type": "stream",
     "text": [
      "Enter string:-  full stack data science pro\n"
     ]
    },
    {
     "name": "stdout",
     "output_type": "stream",
     "text": [
      "The shortest word from a sting is 'pro' having a length 3\n"
     ]
    }
   ],
   "source": [
    "def min_finder(input_string):\n",
    "    splits=user_input.split()\n",
    "    minimum=min(splits,key=len)\n",
    "    return minimum\n",
    "\n",
    "user_input=input(\"Enter string:- \")\n",
    "output=min_finder(user_input)\n",
    "length=len(output)\n",
    "\n",
    "\n",
    "print(f\"The shortest word from a sting is '{output}' having a length {length}\")"
   ]
  },
  {
   "cell_type": "markdown",
   "id": "2f85932c-bbac-40c1-bf13-d797ac49853b",
   "metadata": {},
   "source": [
    "Q22. Reverse the order of words in a string."
   ]
  },
  {
   "cell_type": "code",
   "execution_count": 95,
   "id": "49491005-489c-4cb9-9264-3a13412c1aa2",
   "metadata": {},
   "outputs": [
    {
     "name": "stdin",
     "output_type": "stream",
     "text": [
      "enter any string:-  hey how are you\n"
     ]
    },
    {
     "name": "stdout",
     "output_type": "stream",
     "text": [
      "First string:-  hey how are you\n",
      "Reversed string:-  you are how hey\n"
     ]
    }
   ],
   "source": [
    "\"\"\" \n",
    "steps to do this code is:- \n",
    "step1:- first convert a string into list of words\n",
    "step2:- Then reverse the whole list and  convert again this list into a string\n",
    "\n",
    "\"\"\"\n",
    "\n",
    "def reverse_string(input_string):\n",
    "    splits=input_string.split()\n",
    "    reversing=splits[::-1]\n",
    "    joining=\" \".join(reversing)\n",
    "    return joining\n",
    "\n",
    "user_input=input(\"enter any string:- \")\n",
    "output=reverse_string(user_input)\n",
    "\n",
    "print(\"First string:- \",user_input)\n",
    "print(\"Reversed string:- \",output)"
   ]
  },
  {
   "cell_type": "markdown",
   "id": "b8286890-712c-4742-ab09-74fb132f1f5a",
   "metadata": {},
   "source": [
    "Q23. Check if a string is alphanumeric."
   ]
  },
  {
   "cell_type": "code",
   "execution_count": 98,
   "id": "5c117b9e-4e91-411c-a06c-8f25d50b774f",
   "metadata": {},
   "outputs": [
    {
     "name": "stdin",
     "output_type": "stream",
     "text": [
      "Enter any string:-  pwskills123\n"
     ]
    },
    {
     "name": "stdout",
     "output_type": "stream",
     "text": [
      "The string is alphanumeric\n"
     ]
    }
   ],
   "source": [
    "user_input=input(\"Enter any string:- \")\n",
    "\n",
    "if user_input.isalnum():\n",
    "    print(\"The string is alphanumeric\")\n",
    "else:\n",
    "    print(\"No string is not alphanumeric\")\n",
    "    "
   ]
  },
  {
   "cell_type": "markdown",
   "id": "124702ed-e175-424e-918d-4a4170c6a36e",
   "metadata": {},
   "source": [
    "Q24. Extract all digits from a string."
   ]
  },
  {
   "cell_type": "code",
   "execution_count": 99,
   "id": "a4ef2c70-18c7-44ef-abaf-b15d76e7eabd",
   "metadata": {},
   "outputs": [
    {
     "name": "stdin",
     "output_type": "stream",
     "text": [
      "Enter the string:-  pwskills1234@gmail.com\n"
     ]
    },
    {
     "name": "stdout",
     "output_type": "stream",
     "text": [
      "The extracted digits from a strring is:-  1234\n"
     ]
    }
   ],
   "source": [
    "def extract_digits(input_string):\n",
    "    digits = [char for char in input_string if char.isdigit()]\n",
    "    return \"\".join(digits)\n",
    "\n",
    "text_with_digits = input(\"Enter the string:- \")\n",
    "extracted_digits = extract_digits(text_with_digits)\n",
    "\n",
    "print(\"The extracted digits from a strring is:- \",extracted_digits)\n"
   ]
  },
  {
   "cell_type": "markdown",
   "id": "b24fdfee-4b75-4319-8480-e6b56fabfde8",
   "metadata": {},
   "source": [
    "Q25. Extract all alphabets from a string."
   ]
  },
  {
   "cell_type": "code",
   "execution_count": 100,
   "id": "c51791e7-3026-4361-89a0-0e384406009c",
   "metadata": {},
   "outputs": [
    {
     "name": "stdin",
     "output_type": "stream",
     "text": [
      "Enter any string:-  pwskills fsds\n"
     ]
    },
    {
     "name": "stdout",
     "output_type": "stream",
     "text": [
      "The extracted aplphabets are:- 'p w s k i l l s f s d s'\n"
     ]
    }
   ],
   "source": [
    "def alpha_extractor(input_string):\n",
    "    alphabets=[char for char in input_string if char.isalpha()]\n",
    "    return \" \".join(alphabets)\n",
    "\n",
    "user_input=input(\"Enter any string:- \")\n",
    "final_output=alpha_extractor(user_input)\n",
    "\n",
    "print(f\"The extracted aplphabets are:- '{final_output}'\")\n",
    "    "
   ]
  },
  {
   "cell_type": "markdown",
   "id": "cb6202e2-4afc-464c-940e-0dc3f9149384",
   "metadata": {},
   "source": [
    "Q26. Count the number of uppercase letters in a string."
   ]
  },
  {
   "cell_type": "code",
   "execution_count": 101,
   "id": "91e04892-7cdf-4e1b-a903-2ebe6331e647",
   "metadata": {},
   "outputs": [
    {
     "name": "stdin",
     "output_type": "stream",
     "text": [
      "Enter any string:-  Ayush Jain\n"
     ]
    },
    {
     "name": "stdout",
     "output_type": "stream",
     "text": [
      "the count of uppercase letters in the string is:-2\n"
     ]
    }
   ],
   "source": [
    "def uppercase_counter(input_string):\n",
    "    count=0\n",
    "    for char in input_string:\n",
    "        if char.isupper():\n",
    "            count+=1\n",
    "            \n",
    "    return count\n",
    "\n",
    "user_input=input(\"Enter any string:- \")\n",
    "output=uppercase_counter(user_input)\n",
    "\n",
    "print(f\"the count of uppercase letters in the string is:- {output}\")"
   ]
  },
  {
   "cell_type": "markdown",
   "id": "99dfca60-3a8c-43a7-9812-a015533585b3",
   "metadata": {},
   "source": [
    "Q27. Count the number of lowercase letters in a string."
   ]
  },
  {
   "cell_type": "code",
   "execution_count": 103,
   "id": "2140ab49-0bff-4fe9-8c67-ea10fe7fa7e0",
   "metadata": {},
   "outputs": [
    {
     "name": "stdin",
     "output_type": "stream",
     "text": [
      "Enter any string:-  Ayush Jain\n"
     ]
    },
    {
     "name": "stdout",
     "output_type": "stream",
     "text": [
      "the count of lowercase letters in the string is:-  7\n"
     ]
    }
   ],
   "source": [
    "def lowercase_counter(input_string):\n",
    "    count=0\n",
    "    for char in input_string:\n",
    "        if char.islower():\n",
    "            count+=1\n",
    "            \n",
    "    return count\n",
    "\n",
    "user_input=input(\"Enter any string:- \")\n",
    "output=lowercase_counter(user_input)\n",
    "\n",
    "print(f\"the count of lowercase letters in the string is:-  {output}\")"
   ]
  },
  {
   "cell_type": "markdown",
   "id": "52bba5fe-1a09-4076-a655-d678c3cb8039",
   "metadata": {},
   "source": [
    "Q28. Swap the case of each character in a string."
   ]
  },
  {
   "cell_type": "code",
   "execution_count": 104,
   "id": "a5cc39b5-92cf-4026-8886-10b2332f3b03",
   "metadata": {},
   "outputs": [
    {
     "name": "stdin",
     "output_type": "stream",
     "text": [
      "Enter any string:-  ayush jain\n"
     ]
    },
    {
     "name": "stdout",
     "output_type": "stream",
     "text": [
      "Original string:- 'ayush jain'\n",
      "Modified string:- 'AYUSH JAIN'\n"
     ]
    }
   ],
   "source": [
    "def swaping_case(input_string):\n",
    "    swaped_string=input_string.swapcase()\n",
    "    return swaped_string\n",
    "\n",
    "user_input=input(\"Enter any string:- \")\n",
    "output=swaping_case(user_input)\n",
    "\n",
    "print(f\"Original string:- '{user_input}'\")\n",
    "print(f\"Modified string:- '{output}'\")"
   ]
  },
  {
   "cell_type": "markdown",
   "id": "7588d753-0483-4b26-9151-f4ddd38265d2",
   "metadata": {},
   "source": [
    "Q29. Remove a specific word from a string."
   ]
  },
  {
   "cell_type": "code",
   "execution_count": 105,
   "id": "7f38c4e8-4b57-461a-83ad-7a8233fa40bd",
   "metadata": {},
   "outputs": [
    {
     "name": "stdin",
     "output_type": "stream",
     "text": [
      "Enter any string:-  hey how are you\n",
      "Enter the targeted word:-  hey\n"
     ]
    },
    {
     "name": "stdout",
     "output_type": "stream",
     "text": [
      "Original string:- 'hey how are you'\n",
      "Modified string after removing the 'hey' is:- 'how are you'\n"
     ]
    }
   ],
   "source": [
    "def word_remover(input_string,specific_word):\n",
    "    words=input_string.split()\n",
    "    string_without_word=[word for word in words if word!=specific_word]\n",
    "    return \" \".join(string_without_word)\n",
    "\n",
    "user_input=input(\"Enter any string:- \")\n",
    "target_word=input(\"Enter the targeted word:- \")\n",
    "\n",
    "final_output=word_remover(user_input,target_word)\n",
    "\n",
    "print(f\"Original string:- '{user_input}'\")\n",
    "print(f\"Modified string after removing the '{target_word}' is:- '{final_output}'\")\n",
    "\n",
    "      \n",
    "  \n",
    "    "
   ]
  },
  {
   "cell_type": "markdown",
   "id": "6baa4625-a319-49c0-bc23-a32bfb0c8b17",
   "metadata": {},
   "source": [
    "Q30. Check if a string is a valid email address. "
   ]
  },
  {
   "cell_type": "code",
   "execution_count": 106,
   "id": "b6ce805c-1326-4c4a-9b88-2c9e88200c72",
   "metadata": {},
   "outputs": [
    {
     "name": "stdin",
     "output_type": "stream",
     "text": [
      "Enter the email address:-  pwskills123@gmail.com\n"
     ]
    },
    {
     "name": "stdout",
     "output_type": "stream",
     "text": [
      "'pwskills123@gmail.com' is a valid email address.\n"
     ]
    }
   ],
   "source": [
    "import re   # we have to import the re module to find the patterns in the Email address \n",
    "\n",
    "def is_valid_email(email):\n",
    "    pattern = r\"^[a-zA-Z0-9._%+-]+@[a-zA-Z0-9.-]+\\.[a-zA-Z]{2,}$\"   # this is our pattern \n",
    "    return re.match(pattern, email) \n",
    "\n",
    "email_address =input(\"Enter the email address:- \")\n",
    "if is_valid_email(email_address):\n",
    "    print(f\"'{email_address}' is a valid email address.\")\n",
    "else:\n",
    "    print(f\"'{email_address}' is not a valid email address.\")\n"
   ]
  },
  {
   "cell_type": "markdown",
   "id": "7901de55-1b8b-4321-8455-0d84d913f1c5",
   "metadata": {},
   "source": [
    "Q31. Extract the username from an email address string."
   ]
  },
  {
   "cell_type": "code",
   "execution_count": 107,
   "id": "8ea018c2-24f2-4c9c-92ee-cbbf4daea54f",
   "metadata": {},
   "outputs": [
    {
     "name": "stdin",
     "output_type": "stream",
     "text": [
      "Enter a valid email address:-  ayush123@gmail.com\n"
     ]
    },
    {
     "name": "stdout",
     "output_type": "stream",
     "text": [
      "The username is:-  ayush123\n"
     ]
    }
   ],
   "source": [
    "def extract_name(input_string):\n",
    "    spliting=input_string.split(\"@\")\n",
    "    username=spliting[0]\n",
    "    return username\n",
    "\n",
    "user_input=input(\"Enter a valid email address:- \")\n",
    "\n",
    "output=extract_name(user_input)\n",
    "\n",
    "print(\"The username is:- \",output)"
   ]
  },
  {
   "cell_type": "markdown",
   "id": "5693088e-98cb-4026-b409-9b40672d3d70",
   "metadata": {},
   "source": [
    "Q32. Extract the domain name from an email address string."
   ]
  },
  {
   "cell_type": "code",
   "execution_count": 108,
   "id": "3fe6a1c5-95dc-45a4-ac10-ade47fd7fde4",
   "metadata": {},
   "outputs": [
    {
     "name": "stdin",
     "output_type": "stream",
     "text": [
      "Enter a valid email address:-  ayush123@gmail.com\n"
     ]
    },
    {
     "name": "stdout",
     "output_type": "stream",
     "text": [
      "The domain name is:-  gmail\n"
     ]
    }
   ],
   "source": [
    "def domain_name(input_string):\n",
    "    spliting=input_string.split(\"@\")\n",
    "    username=spliting[1]\n",
    "    domain=username.split(\".\")[0]\n",
    "    return domain\n",
    "\n",
    "user_input=input(\"Enter a valid email address:- \")\n",
    "\n",
    "output=domain_name(user_input)\n",
    "\n",
    "print(\"The domain name is:- \",output)"
   ]
  },
  {
   "cell_type": "markdown",
   "id": "120a5955-5a08-47e7-8029-2021893dca45",
   "metadata": {},
   "source": [
    "Q33. Replace multiple spaces in a string with a single space."
   ]
  },
  {
   "cell_type": "code",
   "execution_count": 109,
   "id": "cbf4094a-fc59-4f6c-9c4b-821ac5a738e7",
   "metadata": {},
   "outputs": [
    {
     "name": "stdin",
     "output_type": "stream",
     "text": [
      "Enter any string:-  hey     how         are       you\n"
     ]
    },
    {
     "name": "stdout",
     "output_type": "stream",
     "text": [
      "Original string is 'hey     how         are       you'\n",
      "Modified string is 'hey how are you'\n"
     ]
    }
   ],
   "source": [
    "user_input=input(\"Enter any string:- \")\n",
    "spliting=user_input.split()\n",
    "\n",
    "removing_multiple_space=\" \".join(spliting)\n",
    "\n",
    "print(f\"Original string is '{user_input}'\")\n",
    "print(f\"Modified string is '{removing_multiple_space}'\")\n",
    "\n"
   ]
  },
  {
   "cell_type": "markdown",
   "id": "2d4be8ad-aadb-48b4-87ef-7e3b836027e3",
   "metadata": {},
   "source": [
    "Q34. Check if a string is a valid URL."
   ]
  },
  {
   "cell_type": "code",
   "execution_count": 110,
   "id": "17ff721b-5962-4cce-8e1b-777c597a255e",
   "metadata": {},
   "outputs": [
    {
     "name": "stdout",
     "output_type": "stream",
     "text": [
      "Collecting validators\n",
      "  Downloading validators-0.22.0-py3-none-any.whl (26 kB)\n",
      "Installing collected packages: validators\n",
      "Successfully installed validators-0.22.0\n",
      "Note: you may need to restart the kernel to use updated packages.\n"
     ]
    }
   ],
   "source": [
    "pip install validators\n"
   ]
  },
  {
   "cell_type": "code",
   "execution_count": 111,
   "id": "bb538a62-822f-4fae-8cae-2409dc8c8530",
   "metadata": {},
   "outputs": [
    {
     "name": "stdin",
     "output_type": "stream",
     "text": [
      "Enter the URL:-  https://gray-analyst-aimlb.pwskills.app/lab/tree\n"
     ]
    },
    {
     "name": "stdout",
     "output_type": "stream",
     "text": [
      "https://gray-analyst-aimlb.pwskills.app/lab/tree is a valid URL.\n"
     ]
    }
   ],
   "source": [
    "import validators\n",
    "\n",
    "def is_valid_url(url):\n",
    "    return validators.url(url)\n",
    "\n",
    "\n",
    "\n",
    "input_url=input(\"Enter the URL:- \")\n",
    "if is_valid_url(input_url):\n",
    "    print(f\"{input_url} is a valid URL.\")\n",
    "else:\n",
    "    print(f\"{input_url} is not a valid URL.\")\n"
   ]
  },
  {
   "cell_type": "markdown",
   "id": "41bf1258-ba5b-4f39-83a3-d54bebe86851",
   "metadata": {},
   "source": [
    "Q35. Extract the protocol (http or https) from a URL string."
   ]
  },
  {
   "cell_type": "code",
   "execution_count": 112,
   "id": "08b9bc77-b7d3-4c3a-9295-241db3d0f513",
   "metadata": {},
   "outputs": [
    {
     "name": "stdin",
     "output_type": "stream",
     "text": [
      "Enter the valid URL:-  https://gray-analyst-aimlb.pwskills.app/lab/tree\n"
     ]
    },
    {
     "name": "stdout",
     "output_type": "stream",
     "text": [
      "The protocol name from the url is 'https'\n"
     ]
    }
   ],
   "source": [
    "input_string=input(\"Enter the valid URL:- \")\n",
    "\n",
    "spliting=input_string.split(\":\")\n",
    "protocol=spliting[0]\n",
    "\n",
    "print(f\"The protocol name from the url is '{protocol}'\")"
   ]
  },
  {
   "cell_type": "markdown",
   "id": "c97774b3-5748-41a2-91a1-ccc197323d11",
   "metadata": {},
   "source": [
    "Q36. Find the frequency of each character in a string."
   ]
  },
  {
   "cell_type": "code",
   "execution_count": 113,
   "id": "ca0972e8-3827-43c7-ae43-971aa96fa909",
   "metadata": {},
   "outputs": [
    {
     "name": "stdin",
     "output_type": "stream",
     "text": [
      "Enter the string:-  hey how are you\n"
     ]
    },
    {
     "name": "stdout",
     "output_type": "stream",
     "text": [
      "the 'h' occurs 2 times\n",
      "the 'e' occurs 2 times\n",
      "the 'y' occurs 2 times\n",
      "the ' ' occurs 3 times\n",
      "the 'o' occurs 2 times\n",
      "the 'w' occurs 1 times\n",
      "the 'a' occurs 1 times\n",
      "the 'r' occurs 1 times\n",
      "the 'u' occurs 1 times\n"
     ]
    }
   ],
   "source": [
    "def frequency_counter(input_string):\n",
    "    frequency={}\n",
    "    for char in input_string:\n",
    "        if char in frequency:\n",
    "            frequency[char]+=1\n",
    "        else:\n",
    "            frequency[char]=1\n",
    "            \n",
    "    return frequency\n",
    "\n",
    "user_input=input(\"Enter the string:- \")\n",
    "\n",
    "char_freq=frequency_counter(user_input)\n",
    "\n",
    "\n",
    "for char,freq in char_freq.items():\n",
    "    print(f\"the '{char}' occurs {freq} times\")\n",
    "    \n",
    "        "
   ]
  },
  {
   "cell_type": "markdown",
   "id": "5f925bf5-d247-4884-9428-8a1e71ef6bad",
   "metadata": {},
   "source": [
    "Q37. Remove all punctuation from a string."
   ]
  },
  {
   "cell_type": "code",
   "execution_count": 114,
   "id": "37a5ffd0-f343-4d81-8e95-48b9e07b4977",
   "metadata": {},
   "outputs": [
    {
     "name": "stdin",
     "output_type": "stream",
     "text": [
      "Enter the string a!y$u!s#h\n"
     ]
    },
    {
     "name": "stdout",
     "output_type": "stream",
     "text": [
      "ayush\n"
     ]
    }
   ],
   "source": [
    "import string\n",
    "\n",
    "def remove_punctuation(input_string):\n",
    "    return ''.join(char for char in input_string if char not in string.punctuation)\n",
    "\n",
    "input_string = input(\"Enter the string\")\n",
    "cleaned_string = remove_punctuation(input_string)\n",
    "print(cleaned_string)\n"
   ]
  },
  {
   "cell_type": "markdown",
   "id": "05a05e49-58a7-4bf9-8582-4a64a2cbb685",
   "metadata": {},
   "source": [
    "Q38. Check if a string contains only digits."
   ]
  },
  {
   "cell_type": "code",
   "execution_count": 116,
   "id": "cbafca64-0a7a-4724-8c7d-3d67836c7c8e",
   "metadata": {},
   "outputs": [
    {
     "name": "stdin",
     "output_type": "stream",
     "text": [
      "Enter the string:-  123456788910\n"
     ]
    },
    {
     "name": "stdout",
     "output_type": "stream",
     "text": [
      "yes string only contains digit\n"
     ]
    }
   ],
   "source": [
    "st=input(\"Enter the string:- \")\n",
    "\n",
    "if st.isdigit():\n",
    "    print(\"yes string only contains digit\")\n",
    "    \n",
    "else:\n",
    "    print(\"string is not in a numeric  form\")"
   ]
  },
  {
   "cell_type": "markdown",
   "id": "e0abe4e0-fbee-4185-8b7e-04f59d5c058b",
   "metadata": {},
   "source": [
    "Q39. Check if a string contains only alphabets."
   ]
  },
  {
   "cell_type": "code",
   "execution_count": 118,
   "id": "c889cdb9-4a85-472e-88c8-97a56ab7ae6a",
   "metadata": {},
   "outputs": [
    {
     "name": "stdin",
     "output_type": "stream",
     "text": [
      "Enter the string:-  ayush\n"
     ]
    },
    {
     "name": "stdout",
     "output_type": "stream",
     "text": [
      "yes string only contains alphabets\n"
     ]
    }
   ],
   "source": [
    "st=input(\"Enter the string:- \")\n",
    "\n",
    "if st.isalpha():\n",
    "    print(\"yes string only contains alphabets\")\n",
    "    \n",
    "else:\n",
    "    print(\"string also contains characters and numbers other than alphabet\")"
   ]
  },
  {
   "cell_type": "markdown",
   "id": "c3f88628-a81a-4900-8419-90c89c5808f8",
   "metadata": {},
   "source": [
    "Q40. Convert a string to a list of characters."
   ]
  },
  {
   "cell_type": "code",
   "execution_count": 119,
   "id": "0658e049-554d-4270-93b0-59b505730b80",
   "metadata": {},
   "outputs": [
    {
     "name": "stdin",
     "output_type": "stream",
     "text": [
      "enter any string:-  hey how are you\n"
     ]
    },
    {
     "name": "stdout",
     "output_type": "stream",
     "text": [
      "['hey', 'how', 'are', 'you']\n"
     ]
    }
   ],
   "source": [
    "user_input=input(\"enter any string:- \")\n",
    "list_of_words=user_input.split()\n",
    "print(list_of_words)"
   ]
  },
  {
   "cell_type": "markdown",
   "id": "15de1b20-15bb-47ab-a462-3f6f138dfc67",
   "metadata": {},
   "source": [
    "Q41. Check if two strings are anagrams."
   ]
  },
  {
   "cell_type": "code",
   "execution_count": 121,
   "id": "d3ed6173-5df4-41a6-ba9e-5196912baa31",
   "metadata": {},
   "outputs": [
    {
     "name": "stdin",
     "output_type": "stream",
     "text": [
      "Enter first string:-  live\n",
      "Enter second string:-  evil\n"
     ]
    },
    {
     "name": "stdout",
     "output_type": "stream",
     "text": [
      "The strings are anagrams\n"
     ]
    }
   ],
   "source": [
    "def anagram_checker(str1,str2):\n",
    "    return (sorted(str1)==sorted(str2))\n",
    "\n",
    "string1=input(\"Enter first string:- \")\n",
    "string2=input(\"Enter second string:- \")\n",
    "\n",
    "final_output=anagram_checker(string1,string2)\n",
    "\n",
    "if final_output:\n",
    "    print(\"The strings are anagrams\")\n",
    "    \n",
    "else:\n",
    "    print(\"The string are not anagrams\")\n",
    "            \n",
    "            "
   ]
  },
  {
   "cell_type": "markdown",
   "id": "ec678ab5-fb25-4b64-979a-58030b9fff25",
   "metadata": {},
   "source": [
    "Q42. Encode a string using a Caesar cipher."
   ]
  },
  {
   "cell_type": "code",
   "execution_count": 122,
   "id": "3bd77004-3ad4-4e68-82c1-575a08068719",
   "metadata": {},
   "outputs": [
    {
     "name": "stdin",
     "output_type": "stream",
     "text": [
      "Enter the string to encrypt:-  hello world\n"
     ]
    },
    {
     "name": "stdout",
     "output_type": "stream",
     "text": [
      "Original: hello world\n",
      "Encrypted: khoor zruog\n"
     ]
    }
   ],
   "source": [
    "def caesar_cipher_encrypt(text, shift, shift_letters=True, shift_digits=True):\n",
    "    encrypted_text = ''\n",
    "    for char in text:\n",
    "        if char.isalpha() and shift_letters:\n",
    "            base = ord('a') if char.islower() else ord('A')\n",
    "            shifted_char = chr((ord(char) - base + shift) % 26 + base)\n",
    "            encrypted_text += shifted_char\n",
    "        elif char.isdigit() and shift_digits:\n",
    "            shifted_digit = chr((ord(char) - ord('0') + shift) % 10 + ord('0'))\n",
    "            encrypted_text += shifted_digit\n",
    "        else:\n",
    "            encrypted_text += char\n",
    "    return encrypted_text\n",
    "\n",
    "plain_text = input(\"Enter the string to encrypt:- \")\n",
    "shift_amount = 3\n",
    "encrypted_text = caesar_cipher_encrypt(plain_text, shift_amount)\n",
    "print(\"Original:\", plain_text)\n",
    "print(\"Encrypted:\", encrypted_text)\n"
   ]
  },
  {
   "cell_type": "markdown",
   "id": "ef3b19e9-f6e8-4055-9a5a-e95a6706d623",
   "metadata": {},
   "source": [
    "Q43. Decode a Caesar cipher encoded string."
   ]
  },
  {
   "cell_type": "code",
   "execution_count": 123,
   "id": "d7d371f8-0399-42d1-b802-3031c3e1af7c",
   "metadata": {},
   "outputs": [
    {
     "name": "stdin",
     "output_type": "stream",
     "text": [
      "Enter the string to decrypt:-  khoor zruog\n"
     ]
    },
    {
     "name": "stdout",
     "output_type": "stream",
     "text": [
      "Encrypted: khoor zruog\n",
      "Decrypted: hello world\n"
     ]
    }
   ],
   "source": [
    "def caesar_cipher_decrypt(encrypted_text, shift, shift_letters=True, shift_digits=True):\n",
    "    decrypted_text = ''\n",
    "    for char in encrypted_text:\n",
    "        if char.isalpha() and shift_letters:\n",
    "            base = ord('a') if char.islower() else ord('A')\n",
    "            decrypted_char = chr((ord(char) - base - shift) % 26 + base)\n",
    "            decrypted_text += decrypted_char\n",
    "        elif char.isdigit() and shift_digits:\n",
    "            decrypted_digit = chr((ord(char) - ord('0') - shift) % 10 + ord('0'))\n",
    "            decrypted_text += decrypted_digit\n",
    "        else:\n",
    "            decrypted_text += char\n",
    "    return decrypted_text\n",
    "\n",
    "encrypted_text = input(\"Enter the string to decrypt:- \")\n",
    "shift_amount = 3\n",
    "decrypted_text = caesar_cipher_decrypt(encrypted_text, shift_amount)\n",
    "print(\"Encrypted:\", encrypted_text)\n",
    "print(\"Decrypted:\", decrypted_text)\n"
   ]
  },
  {
   "cell_type": "markdown",
   "id": "0791566b-3dcb-4eb3-9cc1-cf446c23f0e4",
   "metadata": {},
   "source": [
    "Q44. Find the most frequent word in a string."
   ]
  },
  {
   "cell_type": "code",
   "execution_count": 124,
   "id": "34d1c55e-6095-4469-a35d-42c8afbaf4ae",
   "metadata": {},
   "outputs": [
    {
     "name": "stdout",
     "output_type": "stream",
     "text": [
      "The most frequent word is 'this' with frequency 3.\n"
     ]
    }
   ],
   "source": [
    "import re\n",
    "from collections import Counter\n",
    "\n",
    "def most_frequent_word(input_string):\n",
    "    words = re.findall(r'\\w+', input_string.lower())  # Find all words in the string\n",
    "    word_counter = Counter(words)\n",
    "    most_common_word = word_counter.most_common(1)\n",
    "    return most_common_word[0] if most_common_word else None\n",
    "\n",
    "input_string = \"This is a test string. This string is a test. Test is this.\"\n",
    "result = most_frequent_word(input_string)\n",
    "\n",
    "if result:\n",
    "    most_common_word, frequency = result\n",
    "    print(f\"The most frequent word is '{most_common_word}' with frequency {frequency}.\")\n",
    "else:\n",
    "    print(\"No words found in the input.\")\n"
   ]
  },
  {
   "cell_type": "code",
   "execution_count": 54,
   "id": "e0afb4e2-06bd-4d44-9d0a-827e4cefb554",
   "metadata": {},
   "outputs": [],
   "source": []
  },
  {
   "cell_type": "code",
   "execution_count": 57,
   "id": "444d627d-d511-4e2d-b49e-11840e98e414",
   "metadata": {},
   "outputs": [
    {
     "data": {
      "text/plain": [
       "['ayush', 'jain', 'is', 'ayush', 'ayush']"
      ]
     },
     "execution_count": 57,
     "metadata": {},
     "output_type": "execute_result"
    }
   ],
   "source": []
  },
  {
   "cell_type": "code",
   "execution_count": 58,
   "id": "4233a77c-fc30-4982-9a2a-e9f4b00b5c28",
   "metadata": {},
   "outputs": [],
   "source": []
  },
  {
   "cell_type": "code",
   "execution_count": null,
   "id": "9c7d3771-4f29-4385-81c2-2ac2cdac0754",
   "metadata": {},
   "outputs": [],
   "source": []
  },
  {
   "cell_type": "markdown",
   "id": "41cb3930-6e48-42e6-8e56-de040f91f798",
   "metadata": {},
   "source": [
    "Q45. Find all unique words in a string."
   ]
  },
  {
   "cell_type": "code",
   "execution_count": 61,
   "id": "31ba7f05-147e-408e-bb18-2bcd1d0d5ef3",
   "metadata": {},
   "outputs": [
    {
     "name": "stdout",
     "output_type": "stream",
     "text": [
      "jain\n",
      "from\n",
      "khajuriya\n",
      "madhyapradesh\n",
      "ayush\n",
      "sarangh\n"
     ]
    }
   ],
   "source": [
    "user_input=\"ayush jain from khajuriya sarangh from madhyapradesh\"\n",
    "\n",
    "spliting=user_input.split() # first we split the string into the words of the list\n",
    "set_words=set(spliting)  # then converting the list into the set to get all the unique elements from the string\n",
    "\n",
    "for i in set_words:  # itersting through each element from the set and printing it\n",
    "    print(i)\n",
    "    "
   ]
  },
  {
   "cell_type": "markdown",
   "id": "0fde2be4-aac0-46b1-a6ce-cfc538938178",
   "metadata": {},
   "source": [
    "Q46. Count the number of syllables in a string."
   ]
  },
  {
   "cell_type": "code",
   "execution_count": 4,
   "id": "c297f927-f262-4dce-a2ac-6a214348bff2",
   "metadata": {},
   "outputs": [
    {
     "name": "stdout",
     "output_type": "stream",
     "text": [
      "The word 'satata' has 3 syllables.\n"
     ]
    }
   ],
   "source": [
    "def count_syllables(word):\n",
    "    vowels = \"aeiouAEIOU\"\n",
    "    count = 0\n",
    "    prev_char = None\n",
    "\n",
    "    for char in word:\n",
    "        if char in vowels and prev_char not in vowels:\n",
    "            count += 1\n",
    "        prev_char = char\n",
    "\n",
    "    if word.endswith('e'):\n",
    "        count -= 1\n",
    "\n",
    "    return max(1, count)  # Minimum syllable count is 1\n",
    "\n",
    "input_word = \"satata\"\n",
    "syllable_count = count_syllables(input_word)\n",
    "print(f\"The word '{input_word}' has {syllable_count} syllables.\")\n"
   ]
  },
  {
   "cell_type": "markdown",
   "id": "1304f913-4bf4-45ca-afc3-8318712b4930",
   "metadata": {},
   "source": [
    "Q47. Check if a string contains any special characters."
   ]
  },
  {
   "cell_type": "code",
   "execution_count": 6,
   "id": "de420180-1398-4b49-b344-3e3cc42e7bc4",
   "metadata": {},
   "outputs": [
    {
     "name": "stdin",
     "output_type": "stream",
     "text": [
      "Enter the string:  ayush\n"
     ]
    },
    {
     "name": "stdout",
     "output_type": "stream",
     "text": [
      "'ayush' does not contain special characters.\n"
     ]
    }
   ],
   "source": [
    "# Import the 'string' module, which contains a string constant 'punctuation' containing all punctuation characters.\n",
    "import string\n",
    "\n",
    "# Define a function called 'contains_special_characters' that takes an 'input_string' as an argument.\n",
    "def contains_special_characters(input_string):\n",
    "    # Iterate through each character 'char' in the input string.\n",
    "    for char in input_string:\n",
    "        # Check if the current character 'char' is in the 'string.punctuation' set.\n",
    "        if char in string.punctuation:\n",
    "            # If a punctuation character is found, immediately return True.\n",
    "            return True\n",
    "    # If no punctuation character is found after looping through the entire string, return False.\n",
    "    return False\n",
    "\n",
    "# Prompt the user to enter a string and store it in the variable 'test_string'.\n",
    "test_string = input(\"Enter the string: \")\n",
    "\n",
    "# Call the 'contains_special_characters' function with the 'test_string' and check its result.\n",
    "if contains_special_characters(test_string):\n",
    "    # If the function returns True, print a message indicating that the string contains special characters.\n",
    "    print(f\"'{test_string}' contains special characters.\")\n",
    "else:\n",
    "    # If the function returns False, print a message indicating that the string does not contain special characters.\n",
    "    print(f\"'{test_string}' does not contain special characters.\")\n"
   ]
  },
  {
   "cell_type": "markdown",
   "id": "69281ad1-fc33-4a3f-ad82-f90bf443c16d",
   "metadata": {},
   "source": [
    "Q48. Remove the nth word from a string."
   ]
  },
  {
   "cell_type": "code",
   "execution_count": 8,
   "id": "c6fd7812-10c8-4f84-9565-a8576ce22a2a",
   "metadata": {},
   "outputs": [
    {
     "name": "stdin",
     "output_type": "stream",
     "text": [
      "Enter the string:  ayush jain is agood\n",
      "Enter the index of the word:  2\n"
     ]
    },
    {
     "name": "stdout",
     "output_type": "stream",
     "text": [
      "ayush jain agood\n"
     ]
    }
   ],
   "source": [
    "# Define a function called 'remove_word' that takes two arguments:\n",
    "# 'input_string' is the string from which a word will be removed,\n",
    "# 'n' is the index of the word to remove.\n",
    "def remove_word(input_string, n):\n",
    "    # Split the input string into a list of words, using whitespace as the separator.\n",
    "    spliting = input_string.split()\n",
    "    \n",
    "    # Remove the word at the specified index 'n' using the 'pop' method, which also returns the removed word.\n",
    "    removing = spliting.pop(n)\n",
    "    \n",
    "    # Join the remaining words back into a single string with spaces between them.\n",
    "    joining_string = \" \".join(spliting)\n",
    "    \n",
    "    # Return the resulting string with the specified word removed.\n",
    "    return joining_string\n",
    "\n",
    "# Prompt the user to enter a string and store it in the variable 'user_input'.\n",
    "user_input = input(\"Enter the string: \")\n",
    "\n",
    "# Prompt the user to enter the index of the word they want to remove and convert it to an integer.\n",
    "n_index = int(input(\"Enter the index of the word: \"))\n",
    "\n",
    "# Call the 'remove_word' function with the 'user_input' and 'n_index' as arguments, and store the result in 'final_output'.\n",
    "final_output = remove_word(user_input, n_index)\n",
    "\n",
    "# Print the final output, which is the input string with the specified word removed.\n",
    "print(final_output)\n"
   ]
  },
  {
   "cell_type": "markdown",
   "id": "c9251716-dd75-49b9-b32d-c50dfab07136",
   "metadata": {},
   "source": [
    "Q49. Insert a word at the nth position in a string. "
   ]
  },
  {
   "cell_type": "code",
   "execution_count": 10,
   "id": "a8564462-8ef8-4571-a5fc-158c9e2c2e3f",
   "metadata": {},
   "outputs": [
    {
     "name": "stdin",
     "output_type": "stream",
     "text": [
      "Enter any string:  full stack data science pro\n",
      "Enter the value or word to be entered in the string:  batch\n",
      "Enter the index for inserting the value:  -2\n"
     ]
    },
    {
     "name": "stdout",
     "output_type": "stream",
     "text": [
      "full stack data batch science pro\n"
     ]
    }
   ],
   "source": [
    "# Define a function called 'inserting_word' that takes three arguments:\n",
    "# 'input_string' is the string in which a word will be inserted.\n",
    "# 'n' is the index at which the word will be inserted.\n",
    "# 'value' is the word to be inserted.\n",
    "def inserting_word(input_string, n, value):\n",
    "    # Split the input string into a list of words, using whitespace as the separator.\n",
    "    splitting = input_string.split()\n",
    "    \n",
    "    # Use the 'insert' method to insert the specified 'value' at the specified index 'n' in the list.\n",
    "    # Note that 'insert' modifies the list in place and returns 'None'.\n",
    "    splitting.insert(n, value)\n",
    "    \n",
    "    # Join the modified list of words back into a single string with spaces between them.\n",
    "    joining_string = \" \".join(splitting)\n",
    "    \n",
    "    # Return the resulting string with the new word inserted.\n",
    "    return joining_string\n",
    "\n",
    "# Prompt the user to enter a string and store it in the variable 'user_input'.\n",
    "user_input = input(\"Enter any string: \")\n",
    "\n",
    "# Prompt the user to enter the word they want to insert and store it in the variable 'input_value'.\n",
    "input_value = input(\"Enter the value or word to be entered in the string: \")\n",
    "\n",
    "# Prompt the user to enter the index at which they want to insert the word and convert it to an integer.\n",
    "nth_index = int(input(\"Enter the index for inserting the value: \"))\n",
    "\n",
    "# Call the 'inserting_word' function with the 'user_input', 'nth_index', and 'input_value' as arguments,\n",
    "# and store the result in 'output'.\n",
    "output = inserting_word(user_input, nth_index, input_value)\n",
    "\n",
    "# Print the final output, which is the input string with the specified word inserted at the specified index.\n",
    "print(output)\n"
   ]
  },
  {
   "cell_type": "markdown",
   "id": "31f849a1-63ca-4f7f-92b8-7995cd72629f",
   "metadata": {},
   "source": [
    "Q50. Convert a CSV string to a list of lists."
   ]
  },
  {
   "cell_type": "code",
   "execution_count": 1,
   "id": "9a2d071d-d82b-44c7-9c95-5f7eedd64650",
   "metadata": {},
   "outputs": [
    {
     "name": "stdout",
     "output_type": "stream",
     "text": [
      "[['1', 'john', 'doe', '28', 'it_sector', '30000$', 'male', 'los_santos']]\n"
     ]
    }
   ],
   "source": [
    "# Create an empty list to store the final output.\n",
    "final_list = []\n",
    "\n",
    "# Define a string 'x' containing comma-separated values.\n",
    "x = '1,john,doe,28,it_sector,30000$,male,los_santos'\n",
    "\n",
    "# Split the string 'x' into a list using ',' as the delimiter.\n",
    "output = x.split(',')\n",
    "\n",
    "# Append the resulting list 'output' to the 'final_list'.\n",
    "final_list.append(output)\n",
    "\n",
    "# Print the 'final_list', which contains the split values from the string 'x'.\n",
    "print(final_list)\n"
   ]
  },
  {
   "cell_type": "markdown",
   "id": "d530949e-0441-473e-9b8e-94b5ce8d1d73",
   "metadata": {},
   "source": [
    "Q1. Create a list with integers from 1 to 10."
   ]
  },
  {
   "cell_type": "code",
   "execution_count": 125,
   "id": "44853f13-bbae-4df2-a6e1-9fef1bfae58f",
   "metadata": {},
   "outputs": [
    {
     "name": "stdout",
     "output_type": "stream",
     "text": [
      "[1, 2, 3, 4, 5, 6, 7, 8, 9, 10]\n",
      "Type is:-  <class 'list'>\n"
     ]
    }
   ],
   "source": [
    "lis=[1,2,3,4,5,6,7,8,9,10]\n",
    "print(lis)\n",
    "print(\"Type is:- \",type(lis))"
   ]
  },
  {
   "cell_type": "markdown",
   "id": "a87caf59-fd37-40a2-b236-e8569363daa1",
   "metadata": {},
   "source": [
    "Q2. Find the length of a list without using the `len()` function."
   ]
  },
  {
   "cell_type": "code",
   "execution_count": 126,
   "id": "00abf10d-503c-4f35-9572-875994d77923",
   "metadata": {},
   "outputs": [
    {
     "name": "stdout",
     "output_type": "stream",
     "text": [
      "The count of elements in the list is:-  17\n"
     ]
    }
   ],
   "source": [
    "def len_counter(list1):\n",
    "    count=0\n",
    "    for _ in list1:\n",
    "        count+=1\n",
    "    return count\n",
    "\n",
    "list1=[1,2,3,4,5,6,7,8,9,10,11,12,13,14,15,16,\"pwskills\"]\n",
    "\n",
    "output=len_counter(list1)\n",
    "print(\"The count of elements in the list is:- \",output)\n",
    "    "
   ]
  },
  {
   "cell_type": "markdown",
   "id": "87d09417-4069-48d1-8253-08e040bdcd18",
   "metadata": {},
   "source": [
    "Q3. Append an element to the end of a list."
   ]
  },
  {
   "cell_type": "code",
   "execution_count": 127,
   "id": "b3820cd0-53f5-4f55-917b-65df51e5e09a",
   "metadata": {},
   "outputs": [
    {
     "name": "stdout",
     "output_type": "stream",
     "text": [
      "[1, 2, 3, 4, 5, 6, 7, 8]\n"
     ]
    }
   ],
   "source": [
    "lis=[1,2,3,4,5,6,7]\n",
    "lis1=lis.append(8)\n",
    "print(lis)"
   ]
  },
  {
   "cell_type": "markdown",
   "id": "f84061a0-1a74-412c-a5c6-8de49720cb8b",
   "metadata": {},
   "source": [
    "Q4. Insert an element at a specific index in a list."
   ]
  },
  {
   "cell_type": "code",
   "execution_count": 129,
   "id": "3b9fff1d-530f-4ac0-a602-259dba16fa50",
   "metadata": {},
   "outputs": [
    {
     "name": "stdout",
     "output_type": "stream",
     "text": [
      "['ayush', 'data science', 'pwskills', 'large language model', 'machine learning', 'deep learning']\n"
     ]
    }
   ],
   "source": [
    "my_lis=[\"ayush\",\"data science\",\"pwskills\",\"machine learning\",\"deep learning\"]\n",
    "\n",
    "my_lis.insert(3,\"large language model\") # it will insert the  element at the third index\n",
    "print(my_lis)   # updated list\n"
   ]
  },
  {
   "cell_type": "markdown",
   "id": "3f1b8de4-3b69-4792-ad33-a50e1c3d71c6",
   "metadata": {},
   "source": [
    "Q5. Remove an element from a list by its value."
   ]
  },
  {
   "cell_type": "code",
   "execution_count": 130,
   "id": "06142826-3caf-4722-bbe5-baee8fa8fa01",
   "metadata": {},
   "outputs": [
    {
     "name": "stdout",
     "output_type": "stream",
     "text": [
      "['yellow', 'red', 'blue', 'green', 'purple']\n"
     ]
    }
   ],
   "source": [
    "our_lis=[\"yellow\",\"red\",\"blue\",\"green\",\"purple\",\"pink\"]\n",
    "our_lis.remove(\"pink\")   # it will remove the elemennt 'pink' from the list\n",
    "print(our_lis)           # updated list"
   ]
  },
  {
   "cell_type": "markdown",
   "id": "2a4cdb53-a3dd-4d77-98f4-54e1dccaeac0",
   "metadata": {},
   "source": [
    "Q6. Remove an element from a list by its index."
   ]
  },
  {
   "cell_type": "code",
   "execution_count": 132,
   "id": "d4f914f0-d700-4594-8e00-43dff293064b",
   "metadata": {},
   "outputs": [
    {
     "name": "stdout",
     "output_type": "stream",
     "text": [
      "['hii', 'hello', 'how', 'are', 'you']\n"
     ]
    }
   ],
   "source": [
    "listt=[\"hii\",\"hello\",\"how\",12,\"are\",\"you\"]\n",
    "listt.pop(3)   # it will remove the element at the third index and by default it will remove the last element from the list\n",
    "\n",
    "# printing the updated list\n",
    "print(listt)"
   ]
  },
  {
   "cell_type": "markdown",
   "id": "75b4ad92-8f55-4d20-b10c-252b49fb2755",
   "metadata": {},
   "source": [
    "Q7. Check if an element exists in a list."
   ]
  },
  {
   "cell_type": "code",
   "execution_count": 133,
   "id": "757eff19-03d0-4d64-b426-d96919f16740",
   "metadata": {},
   "outputs": [
    {
     "name": "stdin",
     "output_type": "stream",
     "text": [
      "Enter the element to check it is present in the list or not:-  3\n"
     ]
    },
    {
     "name": "stdout",
     "output_type": "stream",
     "text": [
      "Yes it is present in the given list\n"
     ]
    }
   ],
   "source": [
    "lis1=[1,2,3,4,5,6,7,8,9,10]\n",
    "element=int(input(\"Enter the element to check it is present in the list or not:- \"))\n",
    "\n",
    "if element in lis1:\n",
    "    print(\"Yes it is present in the given list\")\n",
    "else:\n",
    "    print(\"no the element is not present in the list\")"
   ]
  },
  {
   "cell_type": "markdown",
   "id": "bde571f7-0c83-4aa6-afd9-197b079e7c9a",
   "metadata": {},
   "source": [
    "Q8. Find the index of the first occurrence of an element in a list."
   ]
  },
  {
   "cell_type": "code",
   "execution_count": 134,
   "id": "02ab5b3f-3b8d-4b8a-8706-d08aa16445bf",
   "metadata": {},
   "outputs": [
    {
     "name": "stdout",
     "output_type": "stream",
     "text": [
      "the index of the first occur element is:-  3\n"
     ]
    }
   ],
   "source": [
    "elec=[\"mobile\",\"macbook\",\"ps4\",\"speaker\",\"headphones\",\"speaker\"]\n",
    "indexing=elec.index(\"speaker\")\n",
    "print(\"the index of the first occur element is:- \",indexing)"
   ]
  },
  {
   "cell_type": "markdown",
   "id": "759964ff-6819-459c-a8b9-e0e41779a835",
   "metadata": {},
   "source": [
    "Q9. Count the occurrences of an element in a list."
   ]
  },
  {
   "cell_type": "code",
   "execution_count": 135,
   "id": "6165113d-47c7-4b55-9316-7fd2fad9a718",
   "metadata": {},
   "outputs": [
    {
     "name": "stdin",
     "output_type": "stream",
     "text": [
      "Enter the element:-  2\n"
     ]
    },
    {
     "name": "stdout",
     "output_type": "stream",
     "text": [
      "The element 2 appears 5 times in the list\n"
     ]
    }
   ],
   "source": [
    "lis=[1,2,3,4,5,6,7,8,9,10,2,2,5,6,8,3,5,2,3,4,46,7,8,3,67,2]\n",
    "element=int(input(\"Enter the element:- \"))\n",
    "counter=lis.count(element)   # it will give count of the particular elemnt in the list\n",
    "print(f\"The element {element} appears {counter} times in the list\")"
   ]
  },
  {
   "cell_type": "markdown",
   "id": "494885d4-a665-4bac-a250-b95c77722622",
   "metadata": {},
   "source": [
    "Q10. Reverse the order of elements in a list."
   ]
  },
  {
   "cell_type": "code",
   "execution_count": 136,
   "id": "1490f56e-cf23-40cd-a1cd-b33a039540c0",
   "metadata": {},
   "outputs": [
    {
     "name": "stdout",
     "output_type": "stream",
     "text": [
      "Original list:-  ['pen', 'pencil', 'Eraser', 'sharpner', 'whitener', 'highlighter']\n",
      "Modified list:-  ['highlighter', 'whitener', 'sharpner', 'Eraser', 'pencil', 'pen']\n"
     ]
    }
   ],
   "source": [
    "lis=[\"pen\",\"pencil\",\"Eraser\",\"sharpner\",\"whitener\",\"highlighter\"]\n",
    "reversed_list=lis[::-1]    # it will reverse the string\n",
    "print(\"Original list:- \",lis)\n",
    "print(\"Modified list:- \",reversed_list)"
   ]
  },
  {
   "cell_type": "markdown",
   "id": "40efdc64-0a1c-4e13-abe4-0a4aa7fca6c2",
   "metadata": {},
   "source": [
    "Q11. Sort a list in ascending order."
   ]
  },
  {
   "cell_type": "code",
   "execution_count": 137,
   "id": "5af9d538-bde1-4bd0-843e-cdf177a85058",
   "metadata": {},
   "outputs": [
    {
     "name": "stdout",
     "output_type": "stream",
     "text": [
      "[1, 2, 2, 4, 4, 5, 6, 6, 7, 12, 89, 89, 220, 423, 876]\n"
     ]
    }
   ],
   "source": [
    "lis=[2,5,2,4,6,1,7,4,6,89,12,89,220,876,423]\n",
    "lis.sort()  # by default it will sort the values in ascending order (by default reverse=False)\n",
    "print(lis)"
   ]
  },
  {
   "cell_type": "markdown",
   "id": "b08e46bb-ce98-4ac9-8298-dca658f162e8",
   "metadata": {},
   "source": [
    "Q12. Sort a list in descending order."
   ]
  },
  {
   "cell_type": "code",
   "execution_count": 138,
   "id": "1dd6680e-3340-47c0-810c-9031cf8e1ea0",
   "metadata": {},
   "outputs": [
    {
     "name": "stdout",
     "output_type": "stream",
     "text": [
      "[876, 423, 220, 89, 89, 12, 7, 6, 6, 5, 4, 4, 2, 2, 1]\n"
     ]
    }
   ],
   "source": [
    "lis=[2,5,2,4,6,1,7,4,6,89,12,89,220,876,423]\n",
    "lis.sort(reverse=True)  # for sorting in descending order we have to pass a  parametere reverse=True\n",
    "print(lis)"
   ]
  },
  {
   "cell_type": "markdown",
   "id": "6995461f-9c06-4ca2-9c27-3873809d130d",
   "metadata": {},
   "source": [
    "Q13. Create a list of even numbers from 1 to 20."
   ]
  },
  {
   "cell_type": "code",
   "execution_count": 139,
   "id": "9f57cc0d-cc1e-42c3-90ba-9a06792a5b2f",
   "metadata": {},
   "outputs": [
    {
     "name": "stdout",
     "output_type": "stream",
     "text": [
      "[2, 4, 6, 8, 10, 12, 14, 16, 18, 20]\n"
     ]
    }
   ],
   "source": [
    "# we are doing this question using the list comprehension\n",
    "lis=[i for i in range(1,21) if i%2==0]\n",
    "print(lis)"
   ]
  },
  {
   "cell_type": "markdown",
   "id": "eb5e6ff8-b7a9-401e-92c6-cda1b2f4f481",
   "metadata": {},
   "source": [
    "Q14. Create a list of odd numbers from 1 to 20."
   ]
  },
  {
   "cell_type": "code",
   "execution_count": 140,
   "id": "2357b4c0-3d6f-465e-8219-41058485b412",
   "metadata": {},
   "outputs": [
    {
     "name": "stdout",
     "output_type": "stream",
     "text": [
      "[1, 3, 5, 7, 9, 11, 13, 15, 17, 19]\n"
     ]
    }
   ],
   "source": [
    "# we are doing this question using the list comprehension\n",
    "lis=[i for i in range(1,21) if i%2!=0]\n",
    "print(lis)"
   ]
  },
  {
   "cell_type": "markdown",
   "id": "46eab2ba-247f-4355-bc40-438486f6dfe1",
   "metadata": {},
   "source": [
    "Q15. Find the sum of all elements in a list."
   ]
  },
  {
   "cell_type": "code",
   "execution_count": 144,
   "id": "53cdc902-b979-4a3d-8900-e43dc3dd7aae",
   "metadata": {},
   "outputs": [
    {
     "name": "stdout",
     "output_type": "stream",
     "text": [
      "The addition of the [10, 10, 10, 21, 21, 10] is : 82 \n"
     ]
    }
   ],
   "source": [
    "lis=[10,10,10,21,21,10]\n",
    "# for doing sum of all elements in the list we will using for loop\n",
    "add=0\n",
    "# loop  will iterate through all the element in the list \n",
    "for i in lis:\n",
    "    add=add+i  # it will store the sum in every iteration\n",
    "    \n",
    "print(f\"The addition of the {lis} is : {add} \")\n"
   ]
  },
  {
   "cell_type": "markdown",
   "id": "68dc1f83-9bc2-4081-aff3-c06c5a0a62a6",
   "metadata": {},
   "source": [
    "Q16. Find the maximum value in a list."
   ]
  },
  {
   "cell_type": "code",
   "execution_count": 146,
   "id": "67dd438e-4437-4df8-b001-f7f3a16b2103",
   "metadata": {},
   "outputs": [
    {
     "name": "stdout",
     "output_type": "stream",
     "text": [
      "Maximum number from [18978, 907388, 4874235, 189974271, 72148414124, 874714694867124, 89786] is:-  874714694867124\n"
     ]
    }
   ],
   "source": [
    "lis=[18978,907388,4874235,189974271,72148414124,874714694867124,89786]\n",
    "maximum=max(lis)   # finding the max value from the list using max() function\n",
    "print(f\"Maximum number from {lis} is:- \",maximum)"
   ]
  },
  {
   "cell_type": "markdown",
   "id": "aa9025be-e06a-41bd-bf36-c53dde31e2c4",
   "metadata": {},
   "source": [
    "Q17. Find the minimum value in a list."
   ]
  },
  {
   "cell_type": "code",
   "execution_count": 147,
   "id": "16defca0-264d-41e0-b6e2-8efe0fd13099",
   "metadata": {},
   "outputs": [
    {
     "name": "stdout",
     "output_type": "stream",
     "text": [
      "Minimum number from [18978, 907388, 4874235, 189974271, 72148414124, 874714694867124, 89786] is:-  18978\n"
     ]
    }
   ],
   "source": [
    "lis=[18978,907388,4874235,189974271,72148414124,874714694867124,89786]\n",
    "minimum=min(lis)   # finding the min value from the list using the min() function\n",
    "print(f\"Minimum number from {lis} is:- \",minimum)"
   ]
  },
  {
   "cell_type": "markdown",
   "id": "068aa0f6-b693-4016-984f-378ae110a975",
   "metadata": {},
   "source": [
    "Q18. Create a list of squares of numbers from 1 to 10."
   ]
  },
  {
   "cell_type": "code",
   "execution_count": 148,
   "id": "d755e536-4c68-4cb3-8f18-99ae6a760d55",
   "metadata": {},
   "outputs": [
    {
     "name": "stdout",
     "output_type": "stream",
     "text": [
      "[1, 4, 9, 16, 25, 36, 49, 64, 81, 100]\n"
     ]
    }
   ],
   "source": [
    "# for solving this question we will use list comprehension\n",
    "lis=[(i**2) for i in range(1,11)]\n",
    "print(lis)"
   ]
  },
  {
   "cell_type": "markdown",
   "id": "60fc39d1-f633-4133-9a64-1cce4e92a5f2",
   "metadata": {},
   "source": [
    "Q19. Create a list of random numbers."
   ]
  },
  {
   "cell_type": "code",
   "execution_count": 149,
   "id": "df6aebf3-8aba-49b2-83f3-c0b126551c11",
   "metadata": {},
   "outputs": [
    {
     "name": "stdin",
     "output_type": "stream",
     "text": [
      "Enter how many random numbers you want:-  19\n"
     ]
    },
    {
     "name": "stdout",
     "output_type": "stream",
     "text": [
      "[7, 4, 2, 5, 3, 7, 4, 8, 5, 9, 6, 9, 4, 5, 2, 6, 7, 4, 8]\n"
     ]
    }
   ],
   "source": [
    "import random  # random is the library used to generate the random integer between given ranges\n",
    "\n",
    "lis=[]  # created an empty list\n",
    "n=int(input(\"Enter how many random numbers you want:- \"))  # numbers of random number\n",
    "for i in range(n):\n",
    "    lis.append(random.randint(2,9)) # randint generate random numbers between given parametere (2,9)\n",
    "print(lis)"
   ]
  },
  {
   "cell_type": "markdown",
   "id": "697e9979-8154-41f0-a4d7-59c0a4ceff13",
   "metadata": {},
   "source": [
    "Q20. Remove duplicates from a list."
   ]
  },
  {
   "cell_type": "code",
   "execution_count": 151,
   "id": "dc36b2a0-fbe2-42a9-a2e3-26f473c22d7e",
   "metadata": {},
   "outputs": [
    {
     "name": "stdout",
     "output_type": "stream",
     "text": [
      "Original list:-  [1, 2, 3, 4, 7, 51, 4, 12, 2, 45, 6, 8, 90, 5, 3, 5, 6, 7, 8, 5]\n",
      "Modified list:-  {1, 2, 3, 4, 5, 6, 7, 8, 12, 45, 51, 90}\n"
     ]
    }
   ],
   "source": [
    "lis=[1,2,3,4,7,51,4,12,2,45,6,8,90,5,3,5,6,7,8,5]\n",
    "# using set comprehension\n",
    "my_set={i for i in lis}  # set only contains unique elements because set does not allow duplicacy\n",
    "print(\"Original list:- \",lis)\n",
    "print(\"Modified list:- \",my_set)"
   ]
  },
  {
   "cell_type": "markdown",
   "id": "772da7ed-bf02-4bbd-90c0-2c0e644c7538",
   "metadata": {},
   "source": [
    "Q21. Find the common elements between two lists."
   ]
  },
  {
   "cell_type": "code",
   "execution_count": 152,
   "id": "1c2e6587-15e1-4cbe-8b28-08afd48c12bc",
   "metadata": {},
   "outputs": [
    {
     "name": "stdout",
     "output_type": "stream",
     "text": [
      "[4, 5, 9, 10]\n"
     ]
    }
   ],
   "source": [
    "lis1=[1,2,3,4,5,6,7,8,9,10]\n",
    "lis2=[4,5,10,9,12,13,14,15,16,17]\n",
    "lis3=[]\n",
    "\n",
    "for i in lis1:   # elements in the lis1\n",
    "    if i in lis2: # if elements of lis1 in lis2 then append to lis3 else pass\n",
    "        lis3.append(i)\n",
    "        \n",
    "print(lis3)  # common elements between both lists\n"
   ]
  },
  {
   "cell_type": "markdown",
   "id": "574e3d3c-8c19-459c-b08a-bed3f2b2a072",
   "metadata": {},
   "source": [
    "Q22. Find the difference between two lists."
   ]
  },
  {
   "cell_type": "code",
   "execution_count": 153,
   "id": "ffb23256-5adf-4858-bbc9-49fd5e2671b3",
   "metadata": {},
   "outputs": [
    {
     "name": "stdout",
     "output_type": "stream",
     "text": [
      "The difference between two list is:-  [5, 6, 7]\n"
     ]
    }
   ],
   "source": [
    "lis1=[1,2,3,4,5,6,7]\n",
    "lis2=[1,2,3,4,9,10,11]\n",
    "\n",
    "# first we have to convert both the list into the sets to find the difference using the inbuilt function difference()\n",
    "\n",
    "set1=set(lis1)\n",
    "set2=set(lis2)\n",
    "\n",
    "lis3=set1.difference(set2) # haves in set1 but not in set2\n",
    "print(\"The difference between two list is:- \",list(lis3))"
   ]
  },
  {
   "cell_type": "markdown",
   "id": "8b43f15a-b52f-4818-827a-bb41ae4716cb",
   "metadata": {},
   "source": [
    "Q23. Merge two lists."
   ]
  },
  {
   "cell_type": "code",
   "execution_count": 154,
   "id": "6daa3743-b1fe-45dd-9ce0-c359a5dc2864",
   "metadata": {},
   "outputs": [
    {
     "name": "stdout",
     "output_type": "stream",
     "text": [
      "[1, 2, 3, 4, 5, 6, 7, 1, 2, 3, 4, 9, 10, 11]\n"
     ]
    }
   ],
   "source": [
    "lis1=[1,2,3,4,5,6,7]\n",
    "lis2=[1,2,3,4,9,10,11]\n",
    "\n",
    "# we can merge two list using extend function\n",
    "\n",
    "lis1.extend(lis2)\n",
    "print(lis1)"
   ]
  },
  {
   "cell_type": "markdown",
   "id": "b86ff702-ec31-4505-8668-6f57d867e0a7",
   "metadata": {},
   "source": [
    "Q24. Multiply all elements in a list by 2."
   ]
  },
  {
   "cell_type": "code",
   "execution_count": 155,
   "id": "25cb7f91-e02d-450e-8f5f-0ece47ad52fe",
   "metadata": {},
   "outputs": [
    {
     "name": "stdout",
     "output_type": "stream",
     "text": [
      "[2, 8, 10, 12, 14, 16, 180, 200]\n"
     ]
    }
   ],
   "source": [
    "lis=[1,4,5,6,7,8,90,100]\n",
    "new_lis=[i*2 for i in lis]  # list comprehension\n",
    "print(new_lis)"
   ]
  },
  {
   "cell_type": "markdown",
   "id": "55b9994a-4694-42a7-8879-75647396d1ab",
   "metadata": {},
   "source": [
    "Q25. Filter out all even numbers from a list."
   ]
  },
  {
   "cell_type": "code",
   "execution_count": 157,
   "id": "5bf86608-5235-4f0d-a542-8bb1ee8fbbdd",
   "metadata": {},
   "outputs": [
    {
     "name": "stdout",
     "output_type": "stream",
     "text": [
      "Even number list from old list:-  [2, 4, 6, 8, 90]\n"
     ]
    }
   ],
   "source": [
    "lis=[1,2,3,4,5,6,7,8,90,11,43,3383,83]\n",
    "even_lis=[]\n",
    "for i in lis:  # elements of lis\n",
    "    if i%2==0: # if elements of lis are even then append in even_lis else pass\n",
    "        even_lis.append(i)\n",
    "print(\"Even number list from old list:- \",even_lis)"
   ]
  },
  {
   "cell_type": "markdown",
   "id": "21bb96b5-a5bf-42d1-9d33-8446b9f16258",
   "metadata": {},
   "source": [
    "Q26. Convert a list of strings to a list of integers."
   ]
  },
  {
   "cell_type": "code",
   "execution_count": 158,
   "id": "77fc593b-9963-4d43-a382-29b7bdd6a3c5",
   "metadata": {},
   "outputs": [
    {
     "name": "stdout",
     "output_type": "stream",
     "text": [
      "Original list:-  ['1', '2', '3', '4', '10']\n",
      "Modified list:-  [1, 2, 3, 4, 10]\n"
     ]
    }
   ],
   "source": [
    "lis=[\"1\",\"2\",\"3\",\"4\",\"10\"] # list of the string integers\n",
    "new_lis=[int(i) for i in lis] # converting the string into int using list comprehension\n",
    "print(\"Original list:- \",lis) # original list\n",
    "print(\"Modified list:- \",new_lis) # printing the new lis"
   ]
  },
  {
   "cell_type": "markdown",
   "id": "7c70ae4c-a54b-4362-80fd-279b073c6fad",
   "metadata": {},
   "source": [
    "Q27. Convert a list of integers to a list of strings."
   ]
  },
  {
   "cell_type": "code",
   "execution_count": 160,
   "id": "c7c5a6f5-ced3-493d-9e50-e718b180b18e",
   "metadata": {},
   "outputs": [
    {
     "name": "stdout",
     "output_type": "stream",
     "text": [
      "Original string:-  [1, 2, 3, 4, 5, 6, 7, 8, 9, 10]\n",
      "Modifiednlist:-  ['1', '2', '3', '4', '5', '6', '7', '8', '9', '10']\n"
     ]
    }
   ],
   "source": [
    "lis=[1,2,3,4,5,6,7,8,9,10]  # list of the integer\n",
    "new_lis=[str(i) for i in lis] # converting the integer into string\n",
    "print(\"Original string:- \",lis)  \n",
    "print(\"Modifiednlist:- \",new_lis)"
   ]
  },
  {
   "cell_type": "markdown",
   "id": "65a0270c-9bdc-4842-b1f4-bec34ff1923e",
   "metadata": {},
   "source": [
    "Q28. Flatten a nested list."
   ]
  },
  {
   "cell_type": "code",
   "execution_count": 162,
   "id": "de709f2e-3886-48f0-be62-40ce06bf2cd9",
   "metadata": {},
   "outputs": [
    {
     "name": "stdout",
     "output_type": "stream",
     "text": [
      "The flattened list is:-  [1, 2, 3, 3, 4, 5, 78, 90, 101, 102, 103]\n"
     ]
    }
   ],
   "source": [
    "def flatten_list(nested):  # flattening the list means to convert the nested lists into a single list\n",
    "    flattened=[]  # created an empty list\n",
    "    for items in nested: # items contains in the nested list\n",
    "        # isinstance checks the datatype of the item like (item,list) it is list or not\n",
    "        if isinstance(items,list):   # if item is list then extend it in flattend list\n",
    "            flattened.extend(flatten_list(items))\n",
    "        else:          # if it is only single item then append it in flattened item\n",
    "            flattened.append(items)\n",
    "    return flattened  # return the flattened because we have created the function\n",
    "\n",
    "nested_list=[[1,2,3],[3,4,5],78,90,[101,102,103]]  # nested list\n",
    "\n",
    "final_output=flatten_list(nested_list)\n",
    "print(\"The flattened list is:- \",final_output) # printing the result"
   ]
  },
  {
   "cell_type": "markdown",
   "id": "ffeff5fc-f8e0-4d8b-98b7-081b43ea3c10",
   "metadata": {},
   "source": [
    "Q29. Create a list of the first 10 Fibonacci numbers."
   ]
  },
  {
   "cell_type": "code",
   "execution_count": 163,
   "id": "a8d89b1d-4b20-4256-a496-527570c6fcf3",
   "metadata": {},
   "outputs": [
    {
     "name": "stdout",
     "output_type": "stream",
     "text": [
      "The fibonacci number list is:-  [0, 1, 1, 2, 3, 5, 8, 13, 21, 34]\n"
     ]
    }
   ],
   "source": [
    "def fibonacci_num(n):  # created a function\n",
    "    fib_lis=[0,1]      # created a list of first two fibonacci numbers\n",
    "    for i in range(2,n):  # iterating the i in the range of (2,n)\n",
    "        fib2=fib_lis[i-1]+fib_lis[i-2]   # formula or logic to solve the fibonacci problem\n",
    "        fib_lis.append(fib2) # appending the nex fib numbers in the fib_lis\n",
    "    return fib_lis           # returning the fib lis because we have created a functions\n",
    "\n",
    "n=10      # n is for how many fib numbers user wants in a list\n",
    "final_list=fibonacci_num(n)\n",
    "print(\"The fibonacci number list is:- \",final_list)\n",
    "        "
   ]
  },
  {
   "cell_type": "markdown",
   "id": "39dc0724-d1d3-4580-a508-cf081dde0826",
   "metadata": {},
   "source": [
    "Q30. Check if a list is sorted."
   ]
  },
  {
   "cell_type": "code",
   "execution_count": 164,
   "id": "92cc86ba-0b13-4091-9e25-b5f93a20c3fc",
   "metadata": {},
   "outputs": [
    {
     "name": "stdout",
     "output_type": "stream",
     "text": [
      "True\n",
      "False\n"
     ]
    }
   ],
   "source": [
    "# for ascending order\n",
    "def is_sorted(lis):  # created a function\n",
    "    return all(lis[i]<=lis[i+1] for i in range(len(lis)-1)) # we have to check the list sorted in a ascending order \n",
    "\n",
    "unsorted_lis=[65,3,7,23,10,85]\n",
    "sorted_lis=[10,20,20,30,40,900,10023,90023]\n",
    "\n",
    "print(is_sorted(sorted_lis)) \n",
    "print(is_sorted(unsorted_lis))"
   ]
  },
  {
   "cell_type": "markdown",
   "id": "977f17b6-19c7-44aa-a70b-65d500b02a94",
   "metadata": {},
   "source": [
    "Q31. Rotate a list to the left by `n` positions. "
   ]
  },
  {
   "cell_type": "code",
   "execution_count": 165,
   "id": "dd55a880-0504-4a39-8bb6-01a6dc3a99fb",
   "metadata": {},
   "outputs": [
    {
     "name": "stdout",
     "output_type": "stream",
     "text": [
      "[3, 4, 5, 6, 1, 2]\n"
     ]
    }
   ],
   "source": [
    "def rotate_left(lis,n):\n",
    "    n=n%len(lis)    # to ensure the n is within the length of list\n",
    "    \n",
    "    rotated=lis[n:]+lis[:n]\n",
    "    return rotated\n",
    "\n",
    "my_lis=[1,2,3,4,5,6]\n",
    "n=2\n",
    "\n",
    "final_list=rotate_left(my_lis,n)\n",
    "print(final_list)"
   ]
  },
  {
   "cell_type": "markdown",
   "id": "59c021f0-a037-4f5f-a142-a88fe38a61dc",
   "metadata": {},
   "source": [
    "Q32. Rotate a list to the right by `n` positions."
   ]
  },
  {
   "cell_type": "code",
   "execution_count": 166,
   "id": "3d335a19-26e4-4393-9271-5c64283503ae",
   "metadata": {},
   "outputs": [
    {
     "name": "stdout",
     "output_type": "stream",
     "text": [
      "[5, 6, 1, 2, 3, 4]\n"
     ]
    }
   ],
   "source": [
    "def rotate_right(lis,n):\n",
    "    n=n%len(lis)\n",
    "    rotated=lis[-n:]+lis[:-n]\n",
    "    return rotated\n",
    "my_lis=[1,2,3,4,5,6]\n",
    "n=2\n",
    "final_lis=rotate_right(my_lis,n)\n",
    "print(final_lis)"
   ]
  },
  {
   "cell_type": "markdown",
   "id": "db80ab54-53f6-4ced-9db8-828aea711f93",
   "metadata": {},
   "source": [
    "Q33. Create a list of prime numbers up to 50."
   ]
  },
  {
   "cell_type": "code",
   "execution_count": 168,
   "id": "3356d8de-3b3c-4766-be8a-487cea9bd6f6",
   "metadata": {},
   "outputs": [
    {
     "name": "stdout",
     "output_type": "stream",
     "text": [
      "[2, 3, 5, 7, 11, 13, 17, 19, 23, 29, 31, 37, 41, 43, 47]\n"
     ]
    }
   ],
   "source": [
    "l=[]  # created an empty list\n",
    "for i in range(2,50+1): # iterating i from the range 2 to 51\n",
    "    for j in range(2,i):  # iterating the j int the range of 2 to i(value of i depends upoun the iteration of above loop)\n",
    "        if(i%j==0):      # if i%j==0 then break the second loop \n",
    "            break\n",
    "    else:\n",
    "        l.append(i) # append the i in the list 'l'\n",
    "print(l) # print the list of the prime numbers"
   ]
  },
  {
   "cell_type": "markdown",
   "id": "48f45ed7-3c4b-4c56-bb4c-d6b89a9ca8ae",
   "metadata": {},
   "source": [
    "Q34. Split a list into chunks of size `n`."
   ]
  },
  {
   "cell_type": "code",
   "execution_count": 169,
   "id": "95e6eb25-4b0a-419f-a352-e6d688f29bbb",
   "metadata": {},
   "outputs": [
    {
     "name": "stdin",
     "output_type": "stream",
     "text": [
      "Enter the size of the chunks:-  4\n"
     ]
    },
    {
     "name": "stdout",
     "output_type": "stream",
     "text": [
      "Chunked list:-  [[1, 2, 3, 4], [5, 6, 7, 8], [9, 10]]\n"
     ]
    }
   ],
   "source": [
    "def list_into_chunks(lis,n):  # creating the function\n",
    "    return [lis[i:i+n] for i in range(0,len(lis),n)] # it will return a list splits into the chunks of the size 'n'\n",
    "\n",
    "original_lis=[1,2,3,4,5,6,7,8,9,10]\n",
    "chunks=int(input(\"Enter the size of the chunks:- \"))  # size of chunk\n",
    "\n",
    "final_lis=list_into_chunks(original_lis,chunks)\n",
    "print(\"Chunked list:- \",final_lis)\n",
    "            \n"
   ]
  },
  {
   "cell_type": "markdown",
   "id": "dc88f9da-bf24-4562-8acf-fc98ccf1663a",
   "metadata": {},
   "source": [
    "Q35. Find the second largest number in a list."
   ]
  },
  {
   "cell_type": "code",
   "execution_count": 171,
   "id": "a1d7aa72-f15e-4171-b0e0-eaa512dbdb5f",
   "metadata": {},
   "outputs": [
    {
     "name": "stdout",
     "output_type": "stream",
     "text": [
      "The second largest number is:-  92\n"
     ]
    }
   ],
   "source": [
    "def second_largest(lis):   # created a function\n",
    "    if len(lis)<2:  # giving the condition the list must contains elements more than two\n",
    "        print(\"The list must contain more than two element\")\n",
    "    \n",
    "    sorting_number=sorted(lis,reverse=True) # in descending order\n",
    "    second_max=sorting_number[1]   # taking the second max element in the consideration\n",
    "    return second_max    # returning the second max because we have created a function  \n",
    "\n",
    "my_lis=[23,84,1,7,92,3333333,5,6,2,90,54,78,89]\n",
    "final_lis=second_largest(my_lis)\n",
    "\n",
    "print(\"The second largest number is:- \",final_lis)\n"
   ]
  },
  {
   "cell_type": "markdown",
   "id": "22750a4d-86f4-4158-8741-e01b8620a5da",
   "metadata": {},
   "source": [
    "Q36. Replace every element in a list with its square."
   ]
  },
  {
   "cell_type": "code",
   "execution_count": 173,
   "id": "6c7b24a8-fcc7-4344-bb22-18950ab8f367",
   "metadata": {},
   "outputs": [
    {
     "name": "stdout",
     "output_type": "stream",
     "text": [
      "Original list:-  [12, 13, 14, 22]\n",
      "Modified list:-  [144, 169, 196, 484]\n"
     ]
    }
   ],
   "source": [
    "lis=[12,13,14,22]  # created a list\n",
    "\n",
    "my_lis=[x**2 for x in lis]    # created a list comprehension to replace the elements in the lis with its square\n",
    "print(\"Original list:- \",lis)\n",
    "print(\"Modified list:- \",my_lis)"
   ]
  },
  {
   "cell_type": "markdown",
   "id": "7f0410ca-d8ec-4749-aef1-5134f896b72f",
   "metadata": {
    "tags": []
   },
   "source": [
    "Q37. Convert a list to a dictionary where list elements become keys and their\n",
    "indices become values."
   ]
  },
  {
   "cell_type": "code",
   "execution_count": 177,
   "id": "2e2940e7-15b6-474f-afef-1001c044e4b3",
   "metadata": {},
   "outputs": [
    {
     "name": "stdout",
     "output_type": "stream",
     "text": [
      "{'apple': 0, 'banana': 1, 'cherry': 2, 'date': 3}\n"
     ]
    }
   ],
   "source": [
    "original_list = ['apple', 'banana', 'cherry', 'date']\n",
    "\n",
    "result_dict = {}  # created an empty dictionary \n",
    "\n",
    "for keys,values in enumerate(original_list):  # iterating the keys and values in a list using the enumerate() function\n",
    "    result_dict[values] = keys  # it will give values of list as keys and indices of list as values of dictionary\n",
    "\n",
    "print(result_dict)\n",
    "\n"
   ]
  },
  {
   "cell_type": "markdown",
   "id": "acea49e5-d9e3-4ded-b948-08966dde21ed",
   "metadata": {},
   "source": [
    "Q38. Shuffle the elements of a list randomly."
   ]
  },
  {
   "cell_type": "code",
   "execution_count": 179,
   "id": "c3c535bb-883e-4070-85c6-13d7e42faa99",
   "metadata": {},
   "outputs": [
    {
     "name": "stdout",
     "output_type": "stream",
     "text": [
      "Randomly shuffled list:-  [8, 5, 7, 6, 10, 9, 2, 3, 1, 4]\n"
     ]
    }
   ],
   "source": [
    "import random   # importing the library 'random'  to shuffle the elements of the list randomly\n",
    "lis=[1,2,3,4,5,6,7,8,9,10]\n",
    "random.shuffle(lis) # shuffling the elements using shuffle() function\n",
    "print(\"Randomly shuffled list:- \",lis)"
   ]
  },
  {
   "cell_type": "markdown",
   "id": "14c7c6e8-26d1-4ba4-857a-91547590bb57",
   "metadata": {},
   "source": [
    "Q39. Create a list of the first 10 factorial numbers."
   ]
  },
  {
   "cell_type": "code",
   "execution_count": 181,
   "id": "07a4b2e8-cc77-4036-8784-cb0ea4526b56",
   "metadata": {},
   "outputs": [
    {
     "name": "stdout",
     "output_type": "stream",
     "text": [
      "[1, 2, 6, 24, 120, 720, 5040, 40320, 362880, 3628800]\n"
     ]
    }
   ],
   "source": [
    "def factorial(n):  # created a function\n",
    "    if n==0:     # if n==0 then return 1\n",
    "        return 1\n",
    "    else:\n",
    "        return (n*factorial(n-1)) # else use this formula\n",
    "    \n",
    "first_10_fact=[factorial(i) for i in range(1,10+1)]  # store the first 10 factorial number using list comprehension\n",
    "print(first_10_fact)"
   ]
  },
  {
   "cell_type": "markdown",
   "id": "79d7d135-36a2-4feb-a3dc-d790eaf1fc1a",
   "metadata": {},
   "source": [
    "Q40. Check if two lists have at least one element in common."
   ]
  },
  {
   "cell_type": "code",
   "execution_count": null,
   "id": "2f16d9ef-bd8d-4e30-b34c-4e9491f6249a",
   "metadata": {},
   "outputs": [],
   "source": [
    "# created two lists \n",
    "lis1=[1,2,3,4,5,6,7,8,9,10]\n",
    "lis2=[1,2,3,11,12,13,14,15]\n",
    "\n",
    "# converting both the list into set by typecasting()\n",
    "set1=set(lis1)\n",
    "set2=set(lis2)\n",
    "\n",
    "# using the inbuilt function of set intersection() to find common elements\n",
    "diff=set1.intersection(set2)\n",
    "\n",
    "if len(list(diff))==1: # if len of common elements is 1\n",
    "    print(\"yes there is at least one common element\")\n",
    "    print(list(diff))\n",
    "else:    \n",
    "    print(\"more than one comman elements\")\n",
    "    print(\"Common element:- \",list(diff))"
   ]
  },
  {
   "cell_type": "markdown",
   "id": "0d47b174-01a7-411b-afe2-f2c5b6fd97e2",
   "metadata": {},
   "source": [
    "Q41. Remove all elements from a list."
   ]
  },
  {
   "cell_type": "code",
   "execution_count": 4,
   "id": "98aacf8d-3da3-490c-ba4b-43951610e04b",
   "metadata": {},
   "outputs": [
    {
     "name": "stdout",
     "output_type": "stream",
     "text": [
      "[]\n"
     ]
    }
   ],
   "source": [
    "lis=[1,2,3,4,5,6,7,8,9,10]  # created a list\n",
    "lis.clear() # using the inbuilt function of list clear() to remove all elements from the list\n",
    "print(lis)"
   ]
  },
  {
   "cell_type": "markdown",
   "id": "bb58f48c-5624-4f90-a6ec-e2a1c27f95b7",
   "metadata": {},
   "source": [
    "Q42. Replace negative numbers in a list with 0."
   ]
  },
  {
   "cell_type": "code",
   "execution_count": 6,
   "id": "85d5c53c-2a20-4e83-a4d3-2eb691bea534",
   "metadata": {},
   "outputs": [
    {
     "name": "stdout",
     "output_type": "stream",
     "text": [
      "[0, 0, 0, 67, 98]\n"
     ]
    }
   ],
   "source": [
    "lis=[-23,-90,-45,67,98]  # created a list of positive and negative integers\n",
    "\n",
    "my_lis=[x if x>=0 else 0 for x in lis] # using list comprehension to print number as it is if it is positive number and if it is negative then replace it with 0 \n",
    "\n",
    "print(my_lis)"
   ]
  },
  {
   "cell_type": "markdown",
   "id": "6f692853-6382-49c8-aaaa-f2330f768a2c",
   "metadata": {},
   "source": [
    "Q43. Convert a string into a list of words."
   ]
  },
  {
   "cell_type": "code",
   "execution_count": 8,
   "id": "f0ac2518-a987-4c74-a46d-4ba8694986f4",
   "metadata": {},
   "outputs": [
    {
     "name": "stdout",
     "output_type": "stream",
     "text": [
      "['full', 'stack', 'data', 'science', 'pro', 'batch']\n"
     ]
    }
   ],
   "source": [
    "string=\"full stack data science pro batch\"\n",
    "\n",
    "list_of_word=string.split() # spliting the words in a string into the list\n",
    "print(list_of_word)"
   ]
  },
  {
   "cell_type": "markdown",
   "id": "aee2cacd-31dd-4536-a945-bd06a4848868",
   "metadata": {},
   "source": [
    "Q44. Convert a list of words into a string."
   ]
  },
  {
   "cell_type": "code",
   "execution_count": 10,
   "id": "1d8b4b20-49b6-49de-97ab-763425f85552",
   "metadata": {},
   "outputs": [
    {
     "name": "stdout",
     "output_type": "stream",
     "text": [
      "full stack data science pro batch\n"
     ]
    }
   ],
   "source": [
    "lis=['full', 'stack', 'data', 'science', 'pro', 'batch']\n",
    "string=' '.join(lis)   # joining the words of the list by \" \" in string\n",
    "print(string)"
   ]
  },
  {
   "cell_type": "markdown",
   "id": "e923c160-9217-4635-957b-454e2fe9f781",
   "metadata": {},
   "source": [
    "Q45. Create a list of the first `n` powers of 2."
   ]
  },
  {
   "cell_type": "code",
   "execution_count": 12,
   "id": "27f30280-1108-4c6f-b783-c274371be33c",
   "metadata": {},
   "outputs": [
    {
     "name": "stdout",
     "output_type": "stream",
     "text": [
      "[1, 2, 4, 8, 16, 32, 64, 128, 256, 512]\n"
     ]
    }
   ],
   "source": [
    "n = 10  # range of the powers of 2\n",
    "powers_of_2 = [2 ** i for i in range(n)] # list comprehension stores the first n powers of 2\n",
    "\n",
    "print(powers_of_2)\n"
   ]
  },
  {
   "cell_type": "markdown",
   "id": "1691307f-4056-4820-a16f-c28d7aa3a4f1",
   "metadata": {},
   "source": [
    "Q46. Find the longest string in a list of strings."
   ]
  },
  {
   "cell_type": "code",
   "execution_count": 13,
   "id": "aed76e96-ce63-4fbd-bdde-a9559daa8905",
   "metadata": {},
   "outputs": [
    {
     "name": "stdout",
     "output_type": "stream",
     "text": [
      "Longest string in the list is:-  science\n"
     ]
    }
   ],
   "source": [
    "lis=[\"full\",\"stack\",\"data\",\"science\",\"pro\",\"batch\"]  # created a list of words\n",
    "\n",
    "longest_string=max(lis,key=len)  # finding the longest word in the list on the basis of len() function\n",
    "print(\"Longest string in the list is:- \",longest_string)"
   ]
  },
  {
   "cell_type": "markdown",
   "id": "f729e443-4c8a-49a1-9031-a8585373bd2e",
   "metadata": {},
   "source": [
    "Q47. Find the longest string in a list of strings."
   ]
  },
  {
   "cell_type": "code",
   "execution_count": 14,
   "id": "7d923c0f-27de-45e6-aaf5-ada78e30b29a",
   "metadata": {},
   "outputs": [
    {
     "name": "stdout",
     "output_type": "stream",
     "text": [
      "shortet string in the list is:-  pro\n"
     ]
    }
   ],
   "source": [
    "lis=[\"full\",\"stack\",\"data\",\"science\",\"pro\",\"batch\"]    # created a list of the words\n",
    "\n",
    "shortest_string=min(lis,key=len)    # finding the shortest word in a list on the basis of len() function\n",
    "print(\"shortet string in the list is:- \",shortest_string)"
   ]
  },
  {
   "cell_type": "markdown",
   "id": "e3acc04c-ba13-4ba2-b41d-0e5dd4007c3d",
   "metadata": {},
   "source": [
    "Q48. Create a list of the first `n` triangular numbers."
   ]
  },
  {
   "cell_type": "code",
   "execution_count": 16,
   "id": "4a1ce00a-3b38-4979-8bca-073406e861f9",
   "metadata": {},
   "outputs": [
    {
     "name": "stdin",
     "output_type": "stream",
     "text": [
      "Enter the triangular numbers you want:-  10\n"
     ]
    },
    {
     "name": "stdout",
     "output_type": "stream",
     "text": [
      "[1, 3, 6, 10, 15, 21, 28, 36, 45, 55]\n"
     ]
    }
   ],
   "source": [
    "def triangular_number_list(n):  # created a function\n",
    "    triangular_list=[]   # creating the empty list to append the triangular number in it\n",
    "    for i in range(1,n+1):   # iterating the i in the range of(1,n+1)\n",
    "        triangular_number=i*(i+1)//2  # formula\n",
    "        triangular_list.append(triangular_number)  # appending the triangular number in the list\n",
    "    return triangular_list    # returning the triangular list because we have created a function\n",
    "n=int(input(\"Enter the triangular numbers you want:- \"))   #taking input from user how many triangular number we want\n",
    "\n",
    "final_output=triangular_number_list(n)\n",
    "\n",
    "print(final_output)  # printing the final output or list"
   ]
  },
  {
   "cell_type": "markdown",
   "id": "526a1cad-3c0e-4fa4-b781-fc5c3830d934",
   "metadata": {},
   "source": [
    "Q49. Check if a list contains another list as a subsequence."
   ]
  },
  {
   "cell_type": "code",
   "execution_count": 17,
   "id": "f4e4b5f5-158e-4e4e-89b1-ac6442a2dd3f",
   "metadata": {},
   "outputs": [
    {
     "name": "stdout",
     "output_type": "stream",
     "text": [
      "The subsequence is present.\n"
     ]
    }
   ],
   "source": [
    "def is_subsequence(sub, lst):\n",
    "    sub_len = len(sub)\n",
    "    lst_len = len(lst)\n",
    "\n",
    "    if sub_len == 0:\n",
    "        return True  # An empty list is always a subsequence\n",
    "\n",
    "    sub_index = 0  # Index for the subsequence\n",
    "\n",
    "    for element in lst:\n",
    "        if element == sub[sub_index]:\n",
    "            sub_index += 1  # Move to the next element in the subsequence\n",
    "\n",
    "            if sub_index == sub_len:\n",
    "                return True  # Entire subsequence found\n",
    "\n",
    "    return False  # Subsequence not found\n",
    "\n",
    "# Example usage:\n",
    "main_list = [1, 2, 3, 4, 5, 6, 7]\n",
    "subsequence = [2, 4, 6]\n",
    "\n",
    "result = is_subsequence(subsequence, main_list)\n",
    "\n",
    "if result:\n",
    "    print(\"The subsequence is present.\")\n",
    "else:\n",
    "    print(\"The subsequence is not present.\")\n"
   ]
  },
  {
   "cell_type": "markdown",
   "id": "c5f3c972-10ea-4480-bfe9-8e3d8f9f8ac8",
   "metadata": {},
   "source": [
    "Q50. Swap two elements in a list by their indices."
   ]
  },
  {
   "cell_type": "code",
   "execution_count": 18,
   "id": "a2bc7c9f-1c5c-4a6e-98b5-1998096e4fdb",
   "metadata": {},
   "outputs": [
    {
     "name": "stdout",
     "output_type": "stream",
     "text": [
      "List after swapping elements:\n",
      "[1, 4, 3, 2, 5]\n"
     ]
    }
   ],
   "source": [
    "# creating a list\n",
    "my_list = [1, 2, 3, 4, 5]\n",
    "\n",
    "# Indices of the elements to be swapped\n",
    "index1 = 1\n",
    "index2 = 3\n",
    "\n",
    "# Perform the swapping operation\n",
    "my_list[index1], my_list[index2] = my_list[index2], my_list[index1] # this means (replacing the element of index 1 with 3 and vice-versa)\n",
    "\n",
    "# printing the modified list\n",
    "print(\"List after swapping elements:\")\n",
    "print(my_list)\n"
   ]
  },
  {
   "cell_type": "markdown",
   "id": "fa0848ef-8708-45e2-9a71-1dfb5dd90580",
   "metadata": {},
   "source": [
    "Tuple based question:"
   ]
  },
  {
   "cell_type": "markdown",
   "id": "3c54cbd6-bfb2-4f2c-bfa4-988dd92216bb",
   "metadata": {},
   "source": [
    "Q1. Create a tuple with integers from 1 to 5."
   ]
  },
  {
   "cell_type": "code",
   "execution_count": 19,
   "id": "763f160d-ded2-4aba-b568-a902caae0b66",
   "metadata": {},
   "outputs": [
    {
     "name": "stdout",
     "output_type": "stream",
     "text": [
      "(1, 2, 3, 4, 5)\n"
     ]
    }
   ],
   "source": [
    "# creating a tuple having counting from 1 to 5\n",
    "tupl=(1,2,3,4,5)\n",
    "# tuples are created by using parenthisis\n",
    "print(tupl)"
   ]
  },
  {
   "cell_type": "markdown",
   "id": "c9669339-c0fa-423a-8b99-a86a4c6e2297",
   "metadata": {},
   "source": [
    "Q2. Access the third element of a tuple."
   ]
  },
  {
   "cell_type": "code",
   "execution_count": 20,
   "id": "f640b9f9-9581-4029-ad42-33f8a618994a",
   "metadata": {},
   "outputs": [
    {
     "name": "stdout",
     "output_type": "stream",
     "text": [
      "the third element in the tuple is:-  5\n"
     ]
    }
   ],
   "source": [
    "tupl=(1,3,5,6,7,8,9,10)\n",
    "# we can access the third element of the tuple by its indexing\n",
    "print(\"the third element in the tuple is:- \",tupl[2])"
   ]
  },
  {
   "cell_type": "markdown",
   "id": "c776e763-9387-43b2-b54b-e2c00f379398",
   "metadata": {},
   "source": [
    "Q3. Find the length of a tuple without using the `len()` function."
   ]
  },
  {
   "cell_type": "code",
   "execution_count": 21,
   "id": "c7c2a0c0-5f35-4414-a7ff-f84f50d3def1",
   "metadata": {},
   "outputs": [
    {
     "name": "stdout",
     "output_type": "stream",
     "text": [
      "the length of the tuple is:-  14\n"
     ]
    }
   ],
   "source": [
    "# first creating a tuple\n",
    "tupl=(1,2,3,4,5,6,7,8,9,10,11,12,13,12)\n",
    "# instead of using len() function we can use '_'(underscore) which will iterate through each element\n",
    "# declare a variable called counter to count the len of tupl\n",
    "counter=0\n",
    "for _ in tupl:\n",
    "    counter+=1\n",
    "print(\"the length of the tuple is:- \",counter)"
   ]
  },
  {
   "cell_type": "markdown",
   "id": "11e041f7-ae69-4938-81ca-9f52e58ff08b",
   "metadata": {},
   "source": [
    "Q4. Count the occurrences of an element in a tuple."
   ]
  },
  {
   "cell_type": "code",
   "execution_count": 22,
   "id": "84df4ffc-f724-429d-b378-2e474ddc6080",
   "metadata": {},
   "outputs": [
    {
     "name": "stdout",
     "output_type": "stream",
     "text": [
      "The count of the given elemnent is:-  2\n"
     ]
    }
   ],
   "source": [
    "# create a tuple\n",
    "tupl=(1,2,3,4,5,6,7,8,9,10,11,12,13,12,3,5,6,4,5,6,4,5,6,4,6,55,6)\n",
    "# count() function returns the count of the particular element\n",
    "counter=tupl.count(3)\n",
    "# printing the counter\n",
    "print(\"The count of the given elemnent is:- \",counter)"
   ]
  },
  {
   "cell_type": "markdown",
   "id": "6f9ebbb7-8e1f-446b-9ab1-b06b4c747479",
   "metadata": {},
   "source": [
    "Q5. Find the index of the first occurrence of an element in a tuple."
   ]
  },
  {
   "cell_type": "code",
   "execution_count": 23,
   "id": "ac1de88c-8a0e-4943-8423-7f499b2cb767",
   "metadata": {},
   "outputs": [
    {
     "name": "stdout",
     "output_type": "stream",
     "text": [
      "The index of the given element is:-  10\n"
     ]
    }
   ],
   "source": [
    "# create a tuple\n",
    "tupl=(1,2,3,4,5,6,7,8,9,10,11,12,13,12,3,5,6,4,5,6,4,5,6,4,6,55,6)\n",
    "# the index() function returns the index of given elements as parametere\n",
    "index_of_element=tupl.index(11)\n",
    "# printing the index of the given element\n",
    "print(\"The index of the given element is:- \",index_of_element)"
   ]
  },
  {
   "cell_type": "markdown",
   "id": "16acca0f-c7fc-405e-9a3f-0609c799f4ce",
   "metadata": {},
   "source": [
    "Q6. Check if an element exists in a tuple."
   ]
  },
  {
   "cell_type": "code",
   "execution_count": 24,
   "id": "460cb763-23c2-4fdd-aa59-09cdce1ba176",
   "metadata": {},
   "outputs": [
    {
     "name": "stdin",
     "output_type": "stream",
     "text": [
      "Enter the element to check it is present in the tuple or not:-  5\n"
     ]
    },
    {
     "name": "stdout",
     "output_type": "stream",
     "text": [
      "Yes! it is present\n"
     ]
    }
   ],
   "source": [
    "# creating the tuple\n",
    "tupl=(1,2,3,4,5,6,7,8,9,10)\n",
    "# the we use if else condition to see the element exist in the tuple or not\n",
    "# taking element input from user\n",
    "n=int(input(\"Enter the element to check it is present in the tuple or not:- \"))\n",
    "\n",
    "if n in tupl:\n",
    "    print(\"Yes! it is present\")\n",
    "else:\n",
    "    print(\"No! it is not present in the tuple\")\n",
    "          "
   ]
  },
  {
   "cell_type": "markdown",
   "id": "d547f8a7-1eac-4814-ac88-a07d27bf8cf9",
   "metadata": {},
   "source": [
    "Q7. Convert a tuple to a list."
   ]
  },
  {
   "cell_type": "code",
   "execution_count": 25,
   "id": "65509d7c-4991-415a-abfb-14cc8d69781d",
   "metadata": {},
   "outputs": [
    {
     "name": "stdout",
     "output_type": "stream",
     "text": [
      "Before typecasting the type is:-  <class 'tuple'>\n",
      "After typecasting the type is:-  <class 'list'>\n"
     ]
    }
   ],
   "source": [
    "# first creating the tuple\n",
    "tupl=(1,2,3,4,5,6,7,8)\n",
    "# then converting it into a list using typecasting(converting one datatype to another)\n",
    "lis=list(tupl)\n",
    "print(\"Before typecasting the type is:- \",type(tupl))\n",
    "print(\"After typecasting the type is:- \",type(lis))"
   ]
  },
  {
   "cell_type": "markdown",
   "id": "16450ccb-4333-4e03-8d2d-79a73d1c81ac",
   "metadata": {},
   "source": [
    "Q8. Convert a tuple to a list."
   ]
  },
  {
   "cell_type": "code",
   "execution_count": 26,
   "id": "17cd8c2a-f2d8-4ed4-8371-dc40bdd57872",
   "metadata": {},
   "outputs": [
    {
     "name": "stdout",
     "output_type": "stream",
     "text": [
      "Before typecasting the type is:-  <class 'list'>\n",
      "After typecasting the type is:-  <class 'tuple'>\n"
     ]
    }
   ],
   "source": [
    "# first creating the list\n",
    "my_lis=[1,2,3,4,5,6,7,8]\n",
    "# then converting the list into tuple using typecasting(converting one datatype to another)\n",
    "my_tupl=tuple(my_lis)\n",
    "print(\"Before typecasting the type is:- \",type(my_lis))\n",
    "print(\"After typecasting the type is:- \",type(my_tupl))"
   ]
  },
  {
   "cell_type": "markdown",
   "id": "f4edd65e-5f34-4451-9e62-94e8cbf13e42",
   "metadata": {},
   "source": [
    "Q9. Unpack the elements of a tuple into variables."
   ]
  },
  {
   "cell_type": "code",
   "execution_count": 27,
   "id": "68d3ecfe-fd54-44ed-bd51-2613d539b9c3",
   "metadata": {},
   "outputs": [
    {
     "name": "stdout",
     "output_type": "stream",
     "text": [
      "var1: 10\n",
      "var2: 20\n",
      "var3: 30\n",
      "var4: 40\n",
      "var5: 50\n"
     ]
    }
   ],
   "source": [
    "# Step 1: Create a tuple\n",
    "my_tupl = (10, 20, 30,40,50)\n",
    "\n",
    "# Step 2: Unpack the elements of the tuple into variables\n",
    "var1, var2, var3,var4,var5 = my_tupl\n",
    "\n",
    "# Step 3: Print the variables\n",
    "print(\"var1:\", var1)\n",
    "print(\"var2:\", var2)\n",
    "print(\"var3:\", var3)\n",
    "print(\"var4:\", var4)\n",
    "print(\"var5:\", var5)"
   ]
  },
  {
   "cell_type": "markdown",
   "id": "b4d0dc99-19b5-45d6-ba07-001e8db1bf8f",
   "metadata": {},
   "source": [
    "Q10. Create a tuple of even numbers from 1 to 10."
   ]
  },
  {
   "cell_type": "code",
   "execution_count": 28,
   "id": "9d91e7d4-0fc5-4ac6-b932-fc032845f2f2",
   "metadata": {},
   "outputs": [
    {
     "name": "stdout",
     "output_type": "stream",
     "text": [
      "(2, 4, 6, 8, 10)\n"
     ]
    }
   ],
   "source": [
    "# step1: doing a tuple comprehension means giving loop and conditions in the single tuple itself\n",
    "tupl=tuple((x for x in range(1,11) if x%2==0))\n",
    "# for performing the tuple comprehension we have to wrap the generator fuction around the ttuple()\n",
    "# step2: printing the tuple\n",
    "print(tupl)"
   ]
  },
  {
   "cell_type": "markdown",
   "id": "7664bb77-1278-4842-bd58-58aa61bb0d1a",
   "metadata": {},
   "source": [
    "Q11. Create a tuple of odd numbers from 1 to 10."
   ]
  },
  {
   "cell_type": "code",
   "execution_count": 29,
   "id": "212f7673-0afc-4686-8310-bd6318e19332",
   "metadata": {},
   "outputs": [
    {
     "name": "stdout",
     "output_type": "stream",
     "text": [
      "(1, 3, 5, 7, 9)\n"
     ]
    }
   ],
   "source": [
    "# step1: doing a tuple comprehension means giving loop and conditions in the single tuple itself\n",
    "tupl=tuple((x for x in range(1,11) if x%2!=0))\n",
    "# for performing the tuple comprehension we have to wrap the generator fuction around the ttuple()\n",
    "# step2: printing the tuple\n",
    "print(tupl)"
   ]
  },
  {
   "cell_type": "markdown",
   "id": "3e2ce23e-07d1-41fc-8336-4a8aee95ffe2",
   "metadata": {},
   "source": [
    "Q.12 Concatenate two tuples."
   ]
  },
  {
   "cell_type": "code",
   "execution_count": 30,
   "id": "b6c0b9ba-1954-4045-8fde-ea36fd9fb3b1",
   "metadata": {},
   "outputs": [
    {
     "name": "stdout",
     "output_type": "stream",
     "text": [
      "The concated  tuple is:-  (1, 2, 3, 4, 5, 6, 7, 8, 9, 10, 11, 12)\n"
     ]
    }
   ],
   "source": [
    "# creating the two tuple\n",
    "tupl1=(1,2,3,4,5,6)\n",
    "tupl2=(7,8,9,10,11,12)\n",
    "\n",
    "# concating both the tuple with the help of addition '+' symbol\n",
    "tupl3=tupl1+tupl2\n",
    "# printing the concated tuple\n",
    "print(\"The concated  tuple is:- \",tupl3)"
   ]
  },
  {
   "cell_type": "markdown",
   "id": "17bc46cb-ecac-4edb-9271-9f4210bde28f",
   "metadata": {},
   "source": [
    "Q13. Repeat a tuple three times."
   ]
  },
  {
   "cell_type": "code",
   "execution_count": 31,
   "id": "a748b425-efdd-4021-853a-596aac3aa358",
   "metadata": {},
   "outputs": [
    {
     "name": "stdout",
     "output_type": "stream",
     "text": [
      "Modified tuple:-  (1, 2, 3, 1, 2, 3, 1, 2, 3)\n"
     ]
    }
   ],
   "source": [
    "# step1: first create a tuple\n",
    "tupl=(1,2,3)\n",
    "#step2: then use star sign to three times the tuple \n",
    "tip=tupl*3\n",
    "# step:3 then print the modified tuple\n",
    "print(\"Modified tuple:- \",tip)"
   ]
  },
  {
   "cell_type": "markdown",
   "id": "5e8d2ae4-973e-49ae-bf51-b7d70288783b",
   "metadata": {},
   "source": [
    "Q14. Check if a tuple is empty."
   ]
  },
  {
   "cell_type": "code",
   "execution_count": 34,
   "id": "94d7848e-7766-4fee-b59e-b4b8b3f99a19",
   "metadata": {},
   "outputs": [
    {
     "name": "stdout",
     "output_type": "stream",
     "text": [
      "it (1, 2, 3, 4, 5, 6, 7, 8, 9, 10) is not empty tuple\n",
      "it is () empty tuple\n"
     ]
    }
   ],
   "source": [
    "# step1: create a tuple\n",
    "tupl1=(1,2,3,4,5,6,7,8,9,10)\n",
    "tupl2=()\n",
    "\n",
    "# created the two tuple one having the eelement and another is empty\n",
    "# checking length of the tuple\n",
    "\n",
    "length1=len(tupl1)\n",
    "length2=len(tupl2)\n",
    "# checking the empty of h=filled with conditional statement\n",
    "if(length1>=1):\n",
    "    print(f\"it {tupl1} is not empty tuple\")\n",
    "\n",
    "if (length2<1):\n",
    "    print(f\"it is {tupl2} empty tuple\")\n",
    "\n"
   ]
  },
  {
   "cell_type": "markdown",
   "id": "6165f1b4-d14b-4434-b388-3fb91e46d857",
   "metadata": {},
   "source": [
    "Q15. Create a nested tuple."
   ]
  },
  {
   "cell_type": "code",
   "execution_count": 35,
   "id": "40128148-b3cf-4a0a-977e-a9b83c0f196a",
   "metadata": {},
   "outputs": [
    {
     "name": "stdout",
     "output_type": "stream",
     "text": [
      "The nested tuple:-  (1, 2, 3, (8, 9, 3), (1, 6, 7))\n"
     ]
    }
   ],
   "source": [
    "# step1: creating a nested tuple(tuple inside the tuple)\n",
    "tupl=(1,2,3,(8,9,3),(1,6,7))\n",
    "# the nested tuple  is created \n",
    "# step2: printing it\n",
    "print(\"The nested tuple:- \",tupl)"
   ]
  },
  {
   "cell_type": "markdown",
   "id": "3d87a16c-8145-418a-a92b-b668b594edd9",
   "metadata": {},
   "source": [
    "Q16. Access the first element of a nested tuple."
   ]
  },
  {
   "cell_type": "code",
   "execution_count": 36,
   "id": "a16865e0-af0b-4ba4-9b8d-bf607dd9608d",
   "metadata": {},
   "outputs": [
    {
     "name": "stdout",
     "output_type": "stream",
     "text": [
      "The first element is:-  1\n"
     ]
    }
   ],
   "source": [
    "# step1: created a nested tuple\n",
    "tupl=((1,2,3),(8,9,3),(1,6,7))\n",
    "# by using indexing of element we access the first element of the nested tuple\n",
    "element=y=tupl[0][0]\n",
    "# printing the first element\n",
    "print(\"The first element is:- \",element)"
   ]
  },
  {
   "cell_type": "markdown",
   "id": "7a504bae-d46d-48e6-8716-5f1cf5049246",
   "metadata": {},
   "source": [
    "Q17. Create a tuple with a single element."
   ]
  },
  {
   "cell_type": "code",
   "execution_count": 37,
   "id": "8c17539e-99a9-463e-be5f-6777acf99a00",
   "metadata": {},
   "outputs": [
    {
     "name": "stdout",
     "output_type": "stream",
     "text": [
      "The tuple is:-  (1,)\n",
      "Type:-  <class 'tuple'>\n"
     ]
    }
   ],
   "source": [
    "# creating the tuple with single element is like\n",
    "tupl=(1,)\n",
    "print(\"The tuple is:- \",tupl)\n",
    "print(\"Type:- \",type(tupl))\n",
    "# type function will give the datatype of the data given as parametere"
   ]
  },
  {
   "cell_type": "markdown",
   "id": "db5a843e-0485-4be3-a203-a300153e2312",
   "metadata": {},
   "source": [
    "Q18. Compare two tuples."
   ]
  },
  {
   "cell_type": "code",
   "execution_count": 38,
   "id": "440a607c-6bc0-4042-ad76-2c357a41cfb4",
   "metadata": {},
   "outputs": [
    {
     "name": "stdout",
     "output_type": "stream",
     "text": [
      "tuple1 == tuple2: False\n",
      "tuple1 != tuple2: True\n",
      "tuple1 < tuple2: True\n",
      "tuple1 <= tuple2: True\n",
      "tuple1 > tuple2: False\n",
      "tuple1 >= tuple2: False\n"
     ]
    }
   ],
   "source": [
    "# Step 1: Create two tuples\n",
    "tupl1 = (100,200,300,500)\n",
    "tupl2 = (100,200,300,100000)\n",
    "\n",
    "# Step 2: Compare the two tuples using comparison operators\n",
    "print(\"tuple1 == tuple2:\", tupl1 == tupl2)  # Equality check\n",
    "print(\"tuple1 != tuple2:\", tupl1 != tupl2)  # Inequality check\n",
    "print(\"tuple1 < tuple2:\", tupl1 < tupl2)    # Less than check\n",
    "print(\"tuple1 <= tuple2:\", tupl1 <= tupl2)  # Less than equals to check\n",
    "print(\"tuple1 > tuple2:\", tupl1 > tupl2)    # Greater than check\n",
    "print(\"tuple1 >= tuple2:\", tupl1 >= tupl2)  # Greater than equals to check"
   ]
  },
  {
   "cell_type": "markdown",
   "id": "9687848c-fc6f-429e-8412-8ee6fc21ff3a",
   "metadata": {},
   "source": [
    "Q19. Delete a tuple."
   ]
  },
  {
   "cell_type": "code",
   "execution_count": 41,
   "id": "b72ca453-3c7a-433f-82db-a6fd5b4ddfe7",
   "metadata": {},
   "outputs": [
    {
     "ename": "NameError",
     "evalue": "name 'tupl' is not defined",
     "output_type": "error",
     "traceback": [
      "\u001b[0;31m---------------------------------------------------------------------------\u001b[0m",
      "\u001b[0;31mNameError\u001b[0m                                 Traceback (most recent call last)",
      "Cell \u001b[0;32mIn[41], line 8\u001b[0m\n\u001b[1;32m      5\u001b[0m \u001b[38;5;28;01mdel\u001b[39;00m tupl\n\u001b[1;32m      7\u001b[0m \u001b[38;5;66;03m# Step 3: Try to access the tuple (will gave   a NameError)\u001b[39;00m\n\u001b[0;32m----> 8\u001b[0m \u001b[38;5;28mprint\u001b[39m(\u001b[43mtupl\u001b[49m)\n",
      "\u001b[0;31mNameError\u001b[0m: name 'tupl' is not defined"
     ]
    }
   ],
   "source": [
    "# Step 1: Create a tuple\n",
    "tupl=(1, 2, 3, 4, 5)\n",
    "\n",
    "# Step 2: Deleting the tuple using the 'del' statement\n",
    "del tupl\n",
    "\n",
    "# Step 3: Try to access the tuple (will gave   a NameError)\n",
    "print(tupl)"
   ]
  },
  {
   "cell_type": "markdown",
   "id": "f26939d3-6d0e-4ac8-9c88-289a95973ce6",
   "metadata": {},
   "source": [
    "Q20. Slice a tuple."
   ]
  },
  {
   "cell_type": "code",
   "execution_count": 42,
   "id": "056765ca-4efe-46d2-b003-c517af8f5aa6",
   "metadata": {},
   "outputs": [
    {
     "name": "stdout",
     "output_type": "stream",
     "text": [
      "The sliced part of the tuple is:-  (3, 4, 5, 6, 7, 8)\n"
     ]
    }
   ],
   "source": [
    "# step1: crrating the tuple\n",
    "tupl=(1,2,3,4,5,6,7,8,9,10,11)\n",
    "# we can slice the tuple using indexes and colon ':'\n",
    "sliced_part=tupl[2:8]\n",
    "print(\"The sliced part of the tuple is:- \",sliced_part)"
   ]
  },
  {
   "cell_type": "markdown",
   "id": "620e0800-2b09-40ad-a252-fe71c9ab456a",
   "metadata": {},
   "source": [
    "Q21. Find the maximum value in a tuple."
   ]
  },
  {
   "cell_type": "code",
   "execution_count": 43,
   "id": "d2a5297b-7784-47f1-861d-28147c8afa12",
   "metadata": {},
   "outputs": [
    {
     "name": "stdout",
     "output_type": "stream",
     "text": [
      "The maximum value in the tuple is:-  1421441\n"
     ]
    }
   ],
   "source": [
    "# step1: creating the tuple\n",
    "tupl=(12,3,4,5,890,123456,86554,1421441,5686)\n",
    "# step2: checking the maximum value using the max() function\n",
    "max_value=max(tupl)\n",
    "# step3: printing the maximum value\n",
    "print(\"The maximum value in the tuple is:- \",max_value)"
   ]
  },
  {
   "cell_type": "markdown",
   "id": "9e052dc7-d275-4e1c-b600-4125836f5941",
   "metadata": {},
   "source": [
    "Q22. Find the minimum value in a tuple."
   ]
  },
  {
   "cell_type": "code",
   "execution_count": 44,
   "id": "20e8da5f-0a2a-40fe-aa4f-c0abf3a889c2",
   "metadata": {},
   "outputs": [
    {
     "name": "stdout",
     "output_type": "stream",
     "text": [
      "The minimum value in the tuple is:-  3\n"
     ]
    }
   ],
   "source": [
    "# step1: creating the tuple\n",
    "tupl=(12,3,4,5,890,123456,86554,1421441,5686)\n",
    "# step2: checking the minimum value using the min() function\n",
    "min_value=min(tupl)\n",
    "# step3: printing the minimum value\n",
    "print(\"The minimum value in the tuple is:- \",min_value)"
   ]
  },
  {
   "cell_type": "markdown",
   "id": "d99c4e01-5909-4256-ad73-dcefdd8a7e2a",
   "metadata": {},
   "source": [
    "Q23. Convert a string to a tuple of characters."
   ]
  },
  {
   "cell_type": "code",
   "execution_count": 45,
   "id": "ec64d896-b0a6-473b-817b-dcfd65549f11",
   "metadata": {},
   "outputs": [
    {
     "name": "stdout",
     "output_type": "stream",
     "text": [
      "Tuple of characters: ('p', 'w', 's', 'k', 'i', 'l', 'l', 's', ' ', 'f', 's', 'd', 's')\n"
     ]
    }
   ],
   "source": [
    "# Step 1: Create a string\n",
    "string = \"pwskills fsds\"\n",
    "\n",
    "# Step 2: Convert the string to a tuple of characters\n",
    "characters_in_tuple = tuple(string)\n",
    "\n",
    "# Step 3: Print the tuple of characters\n",
    "print(\"Tuple of characters:\",characters_in_tuple)"
   ]
  },
  {
   "cell_type": "markdown",
   "id": "7fe62027-d949-4a63-bfef-88a78d07d794",
   "metadata": {},
   "source": [
    "Q24. Convert a tuple of characters to a string."
   ]
  },
  {
   "cell_type": "code",
   "execution_count": 46,
   "id": "d6bf90a8-561b-4e6f-90b1-d89930e6c399",
   "metadata": {},
   "outputs": [
    {
     "name": "stdout",
     "output_type": "stream",
     "text": [
      "Modified string:-  pwskills fsds\n"
     ]
    }
   ],
   "source": [
    "# step1: creating the tuple of the characters\n",
    "tupl=('p', 'w', 's', 'k', 'i', 'l', 'l', 's', ' ', 'f', 's', 'd', 's')\n",
    "#step2: join the characters using join method\n",
    "string_of_character=''.join(tupl)\n",
    "# step3: modified string\n",
    "print(\"Modified string:- \",string_of_character)"
   ]
  },
  {
   "cell_type": "markdown",
   "id": "3855b94c-78b2-4421-8cdc-5662b88c6e20",
   "metadata": {},
   "source": [
    "Q25. Create a tuple from multiple data types."
   ]
  },
  {
   "cell_type": "code",
   "execution_count": 47,
   "id": "c4e7f267-9b81-4190-8a67-6edab63fa81b",
   "metadata": {},
   "outputs": [
    {
     "name": "stdout",
     "output_type": "stream",
     "text": [
      "(1, 2, 3, (4+5j), 'pwskills', 5.4)\n"
     ]
    }
   ],
   "source": [
    "# step1: ccreating the tuple having multiple datatype\n",
    "tupl=(1,2,3,4+5j,\"pwskills\",5.4)\n",
    "print(tupl)"
   ]
  },
  {
   "cell_type": "markdown",
   "id": "86b84f71-cbf3-4690-8347-92cee3cadf88",
   "metadata": {},
   "source": [
    "Q26. Check if two tuples are identical."
   ]
  },
  {
   "cell_type": "code",
   "execution_count": 48,
   "id": "c4b1ee62-9418-4a05-8f47-3ebeb8a84cc0",
   "metadata": {},
   "outputs": [
    {
     "name": "stdout",
     "output_type": "stream",
     "text": [
      "tuple1 and tuple2 are identical: True\n",
      "tuple3 and tuple4 are identical: True\n",
      "tuple1 and tuple3 are identical: False\n",
      "tuple1 and tuple4 are identical: False\n"
     ]
    }
   ],
   "source": [
    "#step1: creating the tuple\n",
    "tupl1=(1,2,3)\n",
    "tupl2=(1,2,3)\n",
    "tupl3=(4,5,6)\n",
    "tupl4=(4,5,6)\n",
    "# comparing the tuples using equality operator\n",
    "are_identical1=(tupl1==tupl2)\n",
    "are_identical2=(tupl3==tupl4)\n",
    "are_identical3=(tupl1==tupl3)\n",
    "are_identical4=(tupl1==tupl4)\n",
    "\n",
    "# checking if the tuples are identical or not\n",
    "print(\"tuple1 and tuple2 are identical:\", are_identical1)\n",
    "print(\"tuple3 and tuple4 are identical:\", are_identical2)\n",
    "print(\"tuple1 and tuple3 are identical:\", are_identical3)\n",
    "print(\"tuple1 and tuple4 are identical:\", are_identical4)\n"
   ]
  },
  {
   "cell_type": "markdown",
   "id": "eac704b1-289c-40ac-beb2-382e7f1438fc",
   "metadata": {},
   "source": [
    "Q27. Sort the elements of a tuple."
   ]
  },
  {
   "cell_type": "code",
   "execution_count": 49,
   "id": "95ca44ca-d220-4a49-97f1-f4de9653167a",
   "metadata": {},
   "outputs": [
    {
     "name": "stdout",
     "output_type": "stream",
     "text": [
      "The sorted tuple:-  (1, 2, 3, 4, 6, 9, 10, 44, 53, 222, 987)\n"
     ]
    }
   ],
   "source": [
    "#step1: creating the tuple\n",
    "tupl=(4,53,6,222,3,44,987,1,2,9,10)\n",
    "#step2 : change the tuple into the list and again convert the sorted list into the tuple\n",
    "new_tupl=tuple(sorted(tupl))\n",
    "# step3: print the sorted tuple in ascending order\n",
    "print(\"The sorted tuple:- \",new_tupl)"
   ]
  },
  {
   "cell_type": "markdown",
   "id": "34ebb0df-0299-401f-817e-1a9a597db38e",
   "metadata": {},
   "source": [
    "Q28. Convert a tuple of integers to a tuple of strings."
   ]
  },
  {
   "cell_type": "code",
   "execution_count": 50,
   "id": "d682c1f8-8ae4-4ff8-9606-c559f01962d7",
   "metadata": {},
   "outputs": [
    {
     "name": "stdout",
     "output_type": "stream",
     "text": [
      "Modified tuple:-  ('1', '2', '3', '4', '5', '6', '7', '8', '9', '10')\n"
     ]
    }
   ],
   "source": [
    "#step1: creating the tuple of  integer\n",
    "tupl=(1,2,3,4,5,6,7,8,9,10)\n",
    "# step2: doing the tuple comprehension\n",
    "new_tupl=tuple(str(i) for i in tupl)\n",
    "# step3: printing the new_tuple\n",
    "print(\"Modified tuple:- \",new_tupl)"
   ]
  },
  {
   "cell_type": "markdown",
   "id": "0847687c-8894-418e-8a93-e75e148f8777",
   "metadata": {},
   "source": [
    "Q29. Convert a tuple of strings to a tuple of integers."
   ]
  },
  {
   "cell_type": "code",
   "execution_count": 51,
   "id": "9e8df39f-9af1-4422-8728-b5521629a51c",
   "metadata": {},
   "outputs": [
    {
     "name": "stdout",
     "output_type": "stream",
     "text": [
      "The modified tuple:-  (1, 2, 3, 4, 5, 6, 7, 8, 9, 10)\n"
     ]
    }
   ],
   "source": [
    "# step1: creating the tuple\n",
    "tupl=('1', '2', '3', '4', '5', '6', '7', '8', '9', '10')\n",
    "# step2: doing the tuple comprehension\n",
    "new_tupl=tuple(int(i) for i in tupl)\n",
    "# step3: printing the modified tuple\n",
    "print(\"The modified tuple:- \",new_tupl)"
   ]
  },
  {
   "cell_type": "markdown",
   "id": "7b6c388a-3feb-40ec-8d90-a032071d3b8d",
   "metadata": {},
   "source": [
    "Q30. Merge two tuples."
   ]
  },
  {
   "cell_type": "code",
   "execution_count": 52,
   "id": "4c6191de-cf0b-4ae2-bcb3-f0c22c94c9a3",
   "metadata": {},
   "outputs": [
    {
     "name": "stdout",
     "output_type": "stream",
     "text": [
      "The merged tuple:-  (1, 2, 3, 4, 5, 6, 7, 8, 9, 10)\n"
     ]
    }
   ],
   "source": [
    "# step1: creating the tuples\n",
    "tupl1=(1,2,3,4,5,6)\n",
    "tupl2=(7,8,9,10)\n",
    "# step2: merging both the tuple using addition symbol '+'\n",
    "tupl3=tupl1+tupl2\n",
    "# step3: printing the merged tuple\n",
    "print(\"The merged tuple:- \",tupl3)"
   ]
  },
  {
   "cell_type": "markdown",
   "id": "5582b0ee-3239-4d03-9063-1f5d53d36bb9",
   "metadata": {},
   "source": [
    "Q31. Flatten a nested tuple."
   ]
  },
  {
   "cell_type": "code",
   "execution_count": 53,
   "id": "cd7c0f5a-0373-455b-b216-33afc3de5a47",
   "metadata": {},
   "outputs": [
    {
     "name": "stdout",
     "output_type": "stream",
     "text": [
      "The flattened tuple:-  (1, 2, 3, 4, 5, 6, 7, 8, 9, 10)\n"
     ]
    }
   ],
   "source": [
    "# step1: creating the function\n",
    "def flatten_tuple(tupl):\n",
    "    flat_lis=[]\n",
    "    for item in tupl:\n",
    "        if isinstance(item,tuple):\n",
    "            flat_lis.extend(flatten_tuple(item))\n",
    "        else:\n",
    "            flat_lis.append(item)\n",
    "    # returning the flat_lis after converting it from list from tuple\n",
    "    return tuple(flat_lis)\n",
    "\n",
    "my_tupl=(1,2,3,(4,5,6,7),(8,9,10))\n",
    "final_output=flatten_tuple(my_tupl)\n",
    "# printing the final output\n",
    "print(\"The flattened tuple:- \",final_output)"
   ]
  },
  {
   "cell_type": "markdown",
   "id": "0356d5ca-ccc1-4ffd-98c7-0712bf4cd97d",
   "metadata": {},
   "source": [
    "Q32. Create a tuple of the first 5 prime numbers."
   ]
  },
  {
   "cell_type": "code",
   "execution_count": 54,
   "id": "2e2d3b2f-c427-4067-906c-afe96b51ea82",
   "metadata": {},
   "outputs": [
    {
     "name": "stdout",
     "output_type": "stream",
     "text": [
      "The tuple of first five numbers are:-  (2, 3, 5, 7, 11)\n"
     ]
    }
   ],
   "source": [
    "# first of all  we have to perform all the operations in the list and at the end wwe have to typecast this list into a tuple\n",
    "# creating an empty list\n",
    "lis=[]\n",
    "for i in range(2,100):\n",
    "    for j in range(2,i):\n",
    "        if(i%j==0):\n",
    "            break\n",
    "    else:\n",
    "        lis.append(i)\n",
    "print(\"The tuple of first five numbers are:- \",tuple(lis)[:5])"
   ]
  },
  {
   "cell_type": "markdown",
   "id": "96736eec-87c8-4147-ab11-7507c7561cc0",
   "metadata": {},
   "source": [
    "Q33. Check if a tuple is a palindrome."
   ]
  },
  {
   "cell_type": "code",
   "execution_count": 55,
   "id": "454cebeb-cebc-456e-b1a1-b430e8d84686",
   "metadata": {},
   "outputs": [
    {
     "name": "stdout",
     "output_type": "stream",
     "text": [
      "palindrom_tuple is palindrome:-  True\n",
      "not_palindrom_tuple is palindrome:-  False\n"
     ]
    }
   ],
   "source": [
    "# step1: creating the function\n",
    "def is_palindrome(tupl):\n",
    "    return tupl==tupl[::-1]\n",
    "\n",
    "# step2: creating two tuples and the test cases\n",
    "palindrome_tuple=(1,2,1)\n",
    "not_palindrome_tuple=(5,4,1)\n",
    "\n",
    "test_case1=is_palindrome(palindrome_tuple)\n",
    "test_case2=is_palindrome(not_palindrome_tuple)\n",
    "# step3: checking this test cases\n",
    "# palindrome means reads the same forwards and backwards\n",
    "print(\"palindrom_tuple is palindrome:- \",test_case1)\n",
    "print(\"not_palindrom_tuple is palindrome:- \",test_case2)"
   ]
  },
  {
   "cell_type": "markdown",
   "id": "8d2517b1-e9e7-46d3-937e-d1bfa43d7dff",
   "metadata": {},
   "source": [
    "Q34. Create a tuple of squares of numbers from 1 to 5."
   ]
  },
  {
   "cell_type": "code",
   "execution_count": 57,
   "id": "9a0fa094-df67-4ae5-94c1-658c9aa5a3dc",
   "metadata": {},
   "outputs": [
    {
     "name": "stdout",
     "output_type": "stream",
     "text": [
      "tuple:-  (1, 4, 9, 16, 25)\n"
     ]
    }
   ],
   "source": [
    "# step1: doing the tuple ccomprehension\n",
    "tupl=tuple(i**2 for i in range(1,6))\n",
    "# printing the tuple of squares of number from 1 to 5 is\n",
    "print(\"tuple:- \",tupl)"
   ]
  },
  {
   "cell_type": "markdown",
   "id": "d4fc2fec-dff2-4baa-a09a-d9128ba42eef",
   "metadata": {},
   "source": [
    "Q35. Filter out all even numbers from a tuple."
   ]
  },
  {
   "cell_type": "code",
   "execution_count": 58,
   "id": "918d25de-303e-4ce5-8e8b-d3c0adaf5b05",
   "metadata": {},
   "outputs": [
    {
     "name": "stdout",
     "output_type": "stream",
     "text": [
      "Filtered tuple having only even number:-  (2, 4, 6, 8, 10, 12, 14, 16)\n"
     ]
    }
   ],
   "source": [
    "#step1: creating the tuple\n",
    "tupl=(1,2,3,4,5,6,7,8,9,10,11,12,13,14,15,16,17)\n",
    "# step2: doing the tuple comprehension for filtering even numbers from tuple\n",
    "new_tupl=tuple(i for i in tupl if i%2==0)\n",
    "# step3: printing the new tuple\n",
    "print(\"Filtered tuple having only even number:- \",new_tupl)"
   ]
  },
  {
   "cell_type": "markdown",
   "id": "6b42d5ca-ff42-42a0-b28a-b6ea4cbc027d",
   "metadata": {},
   "source": [
    "Q36. Multiply all elements in a tuple by 2."
   ]
  },
  {
   "cell_type": "code",
   "execution_count": 59,
   "id": "edf19b7e-fbbd-4c35-9446-21f68b30b6f4",
   "metadata": {},
   "outputs": [
    {
     "name": "stdout",
     "output_type": "stream",
     "text": [
      "Original tuple:-  (1, 2, 3, 4, 5, 6, 7, 8, 9, 10)\n",
      "Modified tuple:-  (2, 4, 6, 8, 10, 12, 14, 16, 18, 20)\n"
     ]
    }
   ],
   "source": [
    "# step1: creating the tuple\n",
    "tupl=(1,2,3,4,5,6,7,8,9,10)\n",
    "# step2: doing the tuple  comprehension for multiplying every element with 2\n",
    "new_tupl=tuple(i*2 for i in tupl)\n",
    "# step3: printing the new tuple\n",
    "print(\"Original tuple:- \",tupl)\n",
    "print(\"Modified tuple:- \",new_tupl)"
   ]
  },
  {
   "cell_type": "markdown",
   "id": "666d1b36-3808-43eb-a855-a2faa129b568",
   "metadata": {},
   "source": [
    "Q37. Create a tuple of random numbers."
   ]
  },
  {
   "cell_type": "code",
   "execution_count": 60,
   "id": "3bead2ed-989f-46ea-a0b7-77e4728dfe2d",
   "metadata": {},
   "outputs": [
    {
     "name": "stdout",
     "output_type": "stream",
     "text": [
      "The tuples of random numbers are:-  (70, 51, 25, 58, 21, 29, 74, 51, 38, 44)\n"
     ]
    }
   ],
   "source": [
    "# step1: importing the library called random\n",
    "import random\n",
    "# step2: doing tuple comprehension\n",
    "tupl=tuple(random.randint(4,78) for _ in range(10))\n",
    "# randint() generate random integer between start and end point\n",
    "# step3: printing the tuple\n",
    "print(\"The tuples of random numbers are:- \",tupl)"
   ]
  },
  {
   "cell_type": "markdown",
   "id": "0d9b5021-021c-40ff-b0c3-37be71c4cd2d",
   "metadata": {},
   "source": [
    "Q38. Check if a tuple is sorted."
   ]
  },
  {
   "cell_type": "code",
   "execution_count": 61,
   "id": "7fedf06d-37bc-4f0f-8044-30841b2f7563",
   "metadata": {},
   "outputs": [
    {
     "name": "stdout",
     "output_type": "stream",
     "text": [
      "tupl1 is sorted:-  False\n",
      "tupl2 is sorted:-  True\n"
     ]
    }
   ],
   "source": [
    "# sorting operation will done in ascending order\n",
    "#step1: creating a function\n",
    "def is_sorted(tupl):\n",
    "    return all (tupl[i]<=tupl[i+1] for i in range(len(tupl)-1))\n",
    "# creating two tuples\n",
    "tupl1=(1,2,388,34,23,2,4,1)\n",
    "tupl2=(1,2,3,4,5,6,7,8,9,10)\n",
    "# creating the two testcases\n",
    "testcase1=is_sorted(tupl1)\n",
    "testcase2=is_sorted(tupl2)\n",
    "\n",
    "# checking the test cases\n",
    "print(\"tupl1 is sorted:- \",testcase1)\n",
    "print(\"tupl2 is sorted:- \",testcase2)\n",
    "    "
   ]
  },
  {
   "cell_type": "markdown",
   "id": "4f0f3adf-3f15-4fc3-92f7-01582db44e6d",
   "metadata": {},
   "source": [
    "Q39. Rotate a tuple to the left by `n` positions."
   ]
  },
  {
   "cell_type": "code",
   "execution_count": 62,
   "id": "ec184045-20e5-4743-a40a-fad95c3e0e78",
   "metadata": {},
   "outputs": [
    {
     "name": "stdout",
     "output_type": "stream",
     "text": [
      "Fianl output after rotating left:-  (4, 5, 6, 1, 2, 3)\n"
     ]
    }
   ],
   "source": [
    "# creating the function\n",
    "def rotate_left(tupl,n):\n",
    "    n=n%len(lis)    # to ensure the n is within the length of list\n",
    "    rotated=tupl[n:]+tupl[:n]\n",
    "    return rotated\n",
    "\n",
    "my_tupl=(1,2,3,4,5,6)\n",
    "n=3\n",
    "\n",
    "final=rotate_left(my_tupl,n)\n",
    "print(\"Fianl output after rotating left:- \",final)\n",
    "    "
   ]
  },
  {
   "cell_type": "markdown",
   "id": "01ed2af9-6326-4ece-a962-f7b24134d11d",
   "metadata": {},
   "source": [
    "Q40. Rotate a tuple to the right by `n` positions."
   ]
  },
  {
   "cell_type": "code",
   "execution_count": 63,
   "id": "58393800-773f-444b-a69e-41868dc5305e",
   "metadata": {},
   "outputs": [
    {
     "name": "stdout",
     "output_type": "stream",
     "text": [
      "Fianl output after rotating right:-  (5, 6, 1, 2, 3, 4)\n"
     ]
    }
   ],
   "source": [
    "# creating the function\n",
    "def rotate_right(tupl,n):\n",
    "    n=n%len(lis)    # to ensure the n is within the length of list\n",
    "    rotated=tupl[-n:]+tupl[:-n]\n",
    "    return rotated\n",
    "\n",
    "my_tupl=(1,2,3,4,5,6)\n",
    "n=2\n",
    "\n",
    "final=rotate_right(my_tupl,n)\n",
    "print(\"Fianl output after rotating right:- \",final)\n",
    "    "
   ]
  },
  {
   "cell_type": "markdown",
   "id": "597b0a55-f8c5-4929-94d8-7b5a43b359da",
   "metadata": {},
   "source": [
    "Q41. Create a tuple of the first 5 Fibonacci numbers."
   ]
  },
  {
   "cell_type": "code",
   "execution_count": 64,
   "id": "a0281aa4-622e-4bad-a39c-f97da89d6010",
   "metadata": {},
   "outputs": [
    {
     "name": "stdout",
     "output_type": "stream",
     "text": [
      "The fibonacci number list is:-  (0, 1, 1, 2, 3)\n"
     ]
    }
   ],
   "source": [
    "# step1: creating a function\n",
    "def fibonacci_num(n):\n",
    "    # first we perform operations in the list\n",
    "    fib_lis=[0,1]\n",
    "    for i in range(2,n):\n",
    "        fib2=fib_lis[i-1]+fib_lis[i-2]  # logic or formula\n",
    "        fib_lis.append(fib2)\n",
    "        # typecast list into tuple\n",
    "    return tuple(fib_lis)\n",
    "\n",
    "n=5\n",
    "final_list=fibonacci_num(n)\n",
    "print(\"The fibonacci number list is:- \",final_list)\n",
    "        "
   ]
  },
  {
   "cell_type": "markdown",
   "id": "a2dd7717-c588-4f39-84d3-41ee25c38bf1",
   "metadata": {},
   "source": [
    "Q42. Create a tuple from user input."
   ]
  },
  {
   "cell_type": "code",
   "execution_count": 65,
   "id": "3e9a7e22-a66b-41f7-9fbd-a3b6fd6c0a68",
   "metadata": {},
   "outputs": [
    {
     "name": "stdin",
     "output_type": "stream",
     "text": [
      "Enter elements separated by commas:  a,y,u,s,h\n"
     ]
    },
    {
     "name": "stdout",
     "output_type": "stream",
     "text": [
      "User input tuple: ('a', 'y', 'u', 's', 'h')\n"
     ]
    }
   ],
   "source": [
    "# step1: taking a string input from user\n",
    "user_str = input(\"Enter elements separated by commas: \")\n",
    "\n",
    "# Splitting the input string into a list of strings\n",
    "user_list = user_str.split(',')\n",
    "\n",
    "# typecasted the list into the tuple\n",
    "user_tuple = tuple(user_list)\n",
    "\n",
    "# Printing the tuple input from user\n",
    "print(\"User input tuple:\", user_tuple)"
   ]
  },
  {
   "cell_type": "markdown",
   "id": "f9892ef1-646d-48cc-9649-246b52c2a77d",
   "metadata": {},
   "source": [
    "Q43. Swap two elements in a tuple."
   ]
  },
  {
   "cell_type": "code",
   "execution_count": 68,
   "id": "7f8ef064-1761-4f15-a471-5144d020818e",
   "metadata": {},
   "outputs": [
    {
     "name": "stdout",
     "output_type": "stream",
     "text": [
      "Swaped tuple:-  (1, 7, 3, 4, 5, 6, 2, 8)\n"
     ]
    }
   ],
   "source": [
    "# creating the list because tuple is immutable and cannot supports the item assignment\n",
    "lis=[1,2,3,4,5,6,7,8]\n",
    "\n",
    "# creating two variable for indexes whose values are interchange with each other\n",
    "a=1\n",
    "b=6\n",
    "\n",
    "# swapping the elements  means(element at index 1 is replaced by element at index 6)\n",
    "temp=lis[a]\n",
    "lis[a]=lis[b]\n",
    "lis[b]=temp\n",
    "# printing the swaped tuple typecasted from the list(lis)\n",
    "print(\"Swaped tuple:- \",tuple(lis))"
   ]
  },
  {
   "cell_type": "markdown",
   "id": "78bc5e97-833e-4434-8054-5902f85c1f70",
   "metadata": {},
   "source": [
    "Q44. Reverse the elements of a tuple."
   ]
  },
  {
   "cell_type": "code",
   "execution_count": 69,
   "id": "2edb71f2-d525-45b9-be6a-79cafb2f9b6d",
   "metadata": {},
   "outputs": [
    {
     "name": "stdout",
     "output_type": "stream",
     "text": [
      "Reversed tuple:-  (6, 5, 4, 3, 2, 1)\n"
     ]
    }
   ],
   "source": [
    "# create a tuple\n",
    "tupl=(1,2,3,4,5,6)\n",
    "# for reversing the tuple we using slicing and jumping technique\n",
    "reversed_tupl=tupl[::-1]\n",
    "# printing the reversed tuple\n",
    "print(\"Reversed tuple:- \",reversed_tupl)"
   ]
  },
  {
   "cell_type": "markdown",
   "id": "b75b050a-4adf-4283-8e38-4a7c97c1fcac",
   "metadata": {},
   "source": [
    "Q45. Create a tuple of the first `n` powers of 2."
   ]
  },
  {
   "cell_type": "code",
   "execution_count": 70,
   "id": "6ac35292-bf1e-447d-b1f5-7d6fc6176cc8",
   "metadata": {},
   "outputs": [
    {
     "name": "stdin",
     "output_type": "stream",
     "text": [
      "Enter the range:-  7\n"
     ]
    },
    {
     "name": "stdout",
     "output_type": "stream",
     "text": [
      "modified tuple:-  (1, 2, 4, 8, 16, 32, 64)\n"
     ]
    }
   ],
   "source": [
    "# taking the 'n' input from the user\n",
    "\n",
    "n=int(input(\"Enter the range:- \"))\n",
    "\n",
    "# for printing the first n powers of 2 we have to do a tupl comprehension\n",
    "\n",
    "tupl=tuple(2**i for i in range(n))\n",
    "\n",
    "# printing the modified tuple\n",
    "\n",
    "print(\"modified tuple:- \",tupl)"
   ]
  },
  {
   "cell_type": "markdown",
   "id": "d8266038-1e09-4110-824c-42b4fa2261d8",
   "metadata": {},
   "source": [
    "Q46. Find the longest string in a tuple of strings."
   ]
  },
  {
   "cell_type": "code",
   "execution_count": 71,
   "id": "22577000-27ac-452a-89c4-284ea6ea256a",
   "metadata": {},
   "outputs": [
    {
     "name": "stdout",
     "output_type": "stream",
     "text": [
      "Longest string:-  science\n"
     ]
    }
   ],
   "source": [
    "# creating the tuple of the strings\n",
    "tupl=(\"full\",\"stack\",\"data\",\"science\",\"pro\")\n",
    "\n",
    "# checking the maximum string in the tuple using max() function\n",
    "\n",
    "maximum=max(tupl,key=len)\n",
    "\n",
    "# printing the longest string from the tuple\n",
    "\n",
    "print(\"Longest string:- \",maximum)\n"
   ]
  },
  {
   "cell_type": "markdown",
   "id": "408d1709-81ed-4aa1-9fa3-5123d39a46dc",
   "metadata": {},
   "source": [
    "Q47. Find the shortest string in a tuple of strings."
   ]
  },
  {
   "cell_type": "code",
   "execution_count": 72,
   "id": "d8ef005a-8199-4059-8cef-db2893ac759a",
   "metadata": {},
   "outputs": [
    {
     "name": "stdout",
     "output_type": "stream",
     "text": [
      "Shortest string:-  pro\n"
     ]
    }
   ],
   "source": [
    "# creating the tuple of the strings\n",
    "tupl=(\"full\",\"stack\",\"data\",\"science\",\"pro\")\n",
    "\n",
    "# checking the shortest string in the tuple using min() function\n",
    "\n",
    "minimum=min(tupl,key=len)\n",
    "\n",
    "# printing the shortest string from the tuple\n",
    "\n",
    "print(\"Shortest string:- \",minimum)\n"
   ]
  },
  {
   "cell_type": "markdown",
   "id": "d1b63f2a-63ef-4fbb-8219-5ce67bc57952",
   "metadata": {},
   "source": [
    "Q48. Create a tuple of the first `n` triangular numbers."
   ]
  },
  {
   "cell_type": "code",
   "execution_count": 73,
   "id": "96cc982d-0f46-4788-becb-755bc1c7c27d",
   "metadata": {},
   "outputs": [
    {
     "name": "stdin",
     "output_type": "stream",
     "text": [
      "Enter the triangular number you want:-  10\n"
     ]
    },
    {
     "name": "stdout",
     "output_type": "stream",
     "text": [
      "Triangular number:-  (1, 3, 6, 10, 15, 21, 28, 36, 45, 55)\n"
     ]
    }
   ],
   "source": [
    "# creating the  function\n",
    "def triangular_number_tuple(n):\n",
    "    # performing operations in the list\n",
    "    triang_list=[]\n",
    "    for i in range(1,n+1):\n",
    "        triang_num=i * (i+1) // 2  # formula '//' gives floor vaue like 4.5 it gives 4\n",
    "        triang_list.append(triang_num)\n",
    "    # typecast the list into tuple\n",
    "    return tuple(triang_list)\n",
    "\n",
    "n=int(input(\"Enter the triangular number you want:- \"))\n",
    "final=triangular_number_tuple(n)\n",
    "# printing the tuple\n",
    "print(\"Triangular number:- \",final)"
   ]
  },
  {
   "cell_type": "markdown",
   "id": "4042ba8e-9856-4597-adc4-16469488ba89",
   "metadata": {},
   "source": [
    "Q49. Check if a tuple contains another tuple as a subsequence."
   ]
  },
  {
   "cell_type": "code",
   "execution_count": 74,
   "id": "fcc3721f-833c-4173-bb2e-41b40f2a2464",
   "metadata": {},
   "outputs": [
    {
     "name": "stdout",
     "output_type": "stream",
     "text": [
      "Main tuple contains subsequence tuple: True\n"
     ]
    }
   ],
   "source": [
    "# creatin a function to check if a tuple contains another tuple as a subsequence\n",
    "def contain_subseq(tupl, sub_tuple):\n",
    "    sub_length = len(sub_tuple)\n",
    "    for i in range(len(tupl) - sub_length + 1):\n",
    "        if tupl[i:i+sub_length] == sub_tuple:\n",
    "            return True\n",
    "    return False\n",
    "\n",
    "# Main tuple\n",
    "my_tupl = (1, 2, 3, 4, 5, 6, 7, 8, 9)\n",
    "\n",
    "# Subsequence tuple\n",
    "sub_tuple = (3, 4, 5)\n",
    "\n",
    "# Check if the main tuple contains the subsequence tuple\n",
    "contains_subsequence = contain_subseq(my_tupl, sub_tuple)\n",
    "\n",
    "# Print the result\n",
    "print(\"Main tuple contains subsequence tuple:\", contains_subsequence)"
   ]
  },
  {
   "cell_type": "markdown",
   "id": "75ccabcf-ae0e-4d37-b449-23feda560a7e",
   "metadata": {},
   "source": [
    "Q50. Create a tuple of alternating 1s and 0s of length `n`."
   ]
  },
  {
   "cell_type": "code",
   "execution_count": 75,
   "id": "915df33e-7b6d-4c19-bbd2-a5f1373ced21",
   "metadata": {},
   "outputs": [
    {
     "name": "stdin",
     "output_type": "stream",
     "text": [
      "Enter the value:-  10\n"
     ]
    },
    {
     "name": "stdout",
     "output_type": "stream",
     "text": [
      "Tuple of alternate '1s' and '0s':-  (0, 1, 0, 1, 0, 1, 0, 1, 0, 1)\n"
     ]
    }
   ],
   "source": [
    "# taking the 'n' input from user\n",
    "n=int(input(\"Enter the value:- \"))\n",
    "\n",
    "# Create a tuple of alternating 1s and 0s using a list comprehension\n",
    "alternate_tuple = tuple(i % 2 for i in range(n))\n",
    "\n",
    "# Print the tuple of alternate 1s and 0s\n",
    "print(\"Tuple of alternate '1s' and '0s':- \", alternate_tuple)"
   ]
  },
  {
   "cell_type": "markdown",
   "id": "7554a329-e1a6-4b61-b9f1-31e58068c40c",
   "metadata": {},
   "source": [
    "Set based question:"
   ]
  },
  {
   "cell_type": "markdown",
   "id": "a3e5d94d-8011-466d-bbeb-833e6b4dac8d",
   "metadata": {},
   "source": [
    "Q1. Create a set with integers from 1 to 5."
   ]
  },
  {
   "cell_type": "code",
   "execution_count": 76,
   "id": "53283c24-6678-4eff-be28-f8d8dc042b6d",
   "metadata": {},
   "outputs": [
    {
     "name": "stdout",
     "output_type": "stream",
     "text": [
      "{1, 2, 3, 4, 5}\n"
     ]
    }
   ],
   "source": [
    "# creating the set having the numbers 1 to 5\n",
    "\n",
    "set1={1,2,3,4,5}\n",
    "print(set1)\n",
    "# sets only contains the unique element means sets does not allow duplicacy"
   ]
  },
  {
   "cell_type": "markdown",
   "id": "30eea0da-b466-4dd0-ae31-635acc055b81",
   "metadata": {},
   "source": [
    "Q2. Add an element to a set."
   ]
  },
  {
   "cell_type": "code",
   "execution_count": 77,
   "id": "71ee0a0d-3e09-4b24-bbaa-021effce800d",
   "metadata": {},
   "outputs": [
    {
     "name": "stdout",
     "output_type": "stream",
     "text": [
      "Set:-  {1, 2, 3, 4, 5, 6, 7, 8, 9, 10}\n"
     ]
    }
   ],
   "source": [
    "# step1: creating the set\n",
    "set1={1,2,3,4,5,6,7,8,9}\n",
    "# step2: adding the element in the set using add() function\n",
    "set1.add(10)\n",
    "# printing the modified set\n",
    "print(\"Set:- \",set1)"
   ]
  },
  {
   "cell_type": "markdown",
   "id": "6d62aafa-7a82-41b8-aa04-8208af1bbb17",
   "metadata": {},
   "source": [
    "Q3. Remove an element from a set."
   ]
  },
  {
   "cell_type": "code",
   "execution_count": 78,
   "id": "e7659a34-97a9-475d-af13-d3cf8809b7d0",
   "metadata": {},
   "outputs": [
    {
     "name": "stdout",
     "output_type": "stream",
     "text": [
      "Set:-  {1, 2, 3, 4, 6, 7, 8, 9, 10}\n"
     ]
    }
   ],
   "source": [
    "# step1: creating the set\n",
    "set1={1,2,3,4,5,6,7,8,9,10}\n",
    "#step2: Removing the element from the set using the remove() function \n",
    "set1.remove(5)\n",
    "# printing the modified set\n",
    "print(\"Set:- \",set1)"
   ]
  },
  {
   "cell_type": "markdown",
   "id": "538d3e1e-ea86-4adb-b8da-e1834d719fbe",
   "metadata": {},
   "source": [
    "Q4. Check if an element exists in a set."
   ]
  },
  {
   "cell_type": "code",
   "execution_count": 79,
   "id": "01cbdd58-32f3-4947-bf67-859b1bc1754b",
   "metadata": {},
   "outputs": [
    {
     "name": "stdin",
     "output_type": "stream",
     "text": [
      "Enter the element you want to check its existence:-  9\n"
     ]
    },
    {
     "name": "stdout",
     "output_type": "stream",
     "text": [
      "Yes! the element 9 exist in {1, 2, 3, 4, 5, 6, 7, 8, 9, 10}\n"
     ]
    }
   ],
   "source": [
    "#step1: creating the set\n",
    "set1={1,2,3,4,5,6,7,8,9,10}\n",
    "#step2: checking the existence of  the element in the set using the conditional statement\n",
    "n=int(input(\"Enter the element you want to check its existence:- \"))\n",
    "if n in set1:\n",
    "    print(f\"Yes! the element {n} exist in {set1}\")\n",
    "else:\n",
    "    print(f\"NO! the element {n} does not exist in {set1}\")\n"
   ]
  },
  {
   "cell_type": "markdown",
   "id": "4a73b4f9-b141-4ed3-83a1-bc49d7c11c87",
   "metadata": {},
   "source": [
    "Q5. Find the length of a set without using the `len()` function."
   ]
  },
  {
   "cell_type": "code",
   "execution_count": 80,
   "id": "11ec240d-be1c-4c1b-b205-91e16c3713b5",
   "metadata": {},
   "outputs": [
    {
     "name": "stdout",
     "output_type": "stream",
     "text": [
      "The length of the {1, 2, 3, 4, 5, 6, 7, 8, 9, 10} is 10\n"
     ]
    }
   ],
   "source": [
    "#step1: creating the set\n",
    "set1={1,2,3,4,5,6,7,8,9,10}\n",
    "# initialising the counter variable to get the count of each element in a set\n",
    "counter=0\n",
    "# '_'(underscore) is used to iterate through each element\n",
    "for _ in set1:\n",
    "    counter+=1\n",
    "# it will give the length of the set\n",
    "print(f\"The length of the {set1} is {counter}\")"
   ]
  },
  {
   "cell_type": "markdown",
   "id": "0d27c1bc-a536-4e42-ba35-fe2e76d860a0",
   "metadata": {},
   "source": [
    "Q6. Clear all elements from a set."
   ]
  },
  {
   "cell_type": "code",
   "execution_count": 83,
   "id": "75f5b8b9-6cb5-4c00-9abc-a4dd013b48fa",
   "metadata": {},
   "outputs": [
    {
     "name": "stdout",
     "output_type": "stream",
     "text": [
      "Empty set:-  set()\n"
     ]
    }
   ],
   "source": [
    "#step1: creating the set\n",
    "set1={1,2,3,4,5,6,7,8,9,10}\n",
    "\n",
    "# clearing the elements from the set using clear() function\n",
    "set1.clear()\n",
    "\n",
    "# printing the set\n",
    "print(\"Empty set:- \",set1)"
   ]
  },
  {
   "cell_type": "markdown",
   "id": "2f255a7d-e82c-40b3-9ecf-97a865f3e7ad",
   "metadata": {},
   "source": [
    "Q7. Create a set of even numbers from 1 to 10."
   ]
  },
  {
   "cell_type": "code",
   "execution_count": 84,
   "id": "34a14d2f-49c7-4479-b688-e032ffaf7c86",
   "metadata": {},
   "outputs": [
    {
     "name": "stdout",
     "output_type": "stream",
     "text": [
      "Set of even numbers from 1 to 10:-  {2, 4, 6, 8, 10}\n"
     ]
    }
   ],
   "source": [
    "# first of all for doing that we have to do the set comprehension\n",
    "set1={i for i in range(1,11) if i%2==0}\n",
    "# printing the set containing even numbers from 1 to 10 \n",
    "print(\"Set of even numbers from 1 to 10:- \",set1)"
   ]
  },
  {
   "cell_type": "markdown",
   "id": "56c8583e-c6a3-4ed8-8120-c49f81a00596",
   "metadata": {},
   "source": [
    "Q8. Create a set of odd numbers from 1 to 10."
   ]
  },
  {
   "cell_type": "code",
   "execution_count": 85,
   "id": "272041d5-8e9b-41f7-a2c1-a59701e12965",
   "metadata": {},
   "outputs": [
    {
     "name": "stdout",
     "output_type": "stream",
     "text": [
      "Set of odd numbers from 1 to 10:-  {1, 3, 5, 7, 9}\n"
     ]
    }
   ],
   "source": [
    "# first of all for doing that we have to do the set comprehension\n",
    "set1={i for i in range(1,11) if i%2!=0}\n",
    "# printing the set containing odd numbers from 1 to 10 \n",
    "print(\"Set of odd numbers from 1 to 10:- \",set1)"
   ]
  },
  {
   "cell_type": "markdown",
   "id": "0a459d4f-26c9-44bf-8df8-10c2254690ea",
   "metadata": {},
   "source": [
    "Q9. Find the union of two sets."
   ]
  },
  {
   "cell_type": "code",
   "execution_count": 86,
   "id": "ca12fe4b-d616-4eca-abb3-aef2cf2086e1",
   "metadata": {},
   "outputs": [
    {
     "name": "stdout",
     "output_type": "stream",
     "text": [
      "The union of set1:- {1, 2, 3, 4, 5} and set2:- {4, 5, 6, 7, 8, 9, 10} is {1, 2, 3, 4, 5, 6, 7, 8, 9, 10}\n"
     ]
    }
   ],
   "source": [
    "#step1: creating the two sets\n",
    "set1={1,2,3,4,5}\n",
    "set2={4,5,6,7,8,9,10}\n",
    "# finding the union(means unique elements from both the set) by union() function\n",
    "set3=set1.union(set2)\n",
    "# printing the sets after performing the union\n",
    "print(f\"The union of set1:- {set1} and set2:- {set2} is {set3}\")"
   ]
  },
  {
   "cell_type": "markdown",
   "id": "b2a5cefa-db8b-4d6c-839c-37bc4b7e3d7f",
   "metadata": {},
   "source": [
    "Q10. Find the intersection of two sets."
   ]
  },
  {
   "cell_type": "code",
   "execution_count": 87,
   "id": "c4bf6e84-405c-4917-8b90-62c1d897de23",
   "metadata": {},
   "outputs": [
    {
     "name": "stdout",
     "output_type": "stream",
     "text": [
      "The intersection of set1:- {1, 2, 3, 4, 5} and set2:- {4, 5, 6, 7, 8, 9, 10} is {4, 5}\n"
     ]
    }
   ],
   "source": [
    "#step1: creating the two sets\n",
    "set1={1,2,3,4,5}\n",
    "set2={4,5,6,7,8,9,10}\n",
    "# finding the intersection(only common elements in both set) by intersection() function\n",
    "set3=set1.intersection(set2)\n",
    "# printing the set after performing the intersection()\n",
    "print(f\"The intersection of set1:- {set1} and set2:- {set2} is {set3}\")"
   ]
  },
  {
   "cell_type": "markdown",
   "id": "7195ddb6-ab29-4caa-ae26-c4991a7b39fd",
   "metadata": {},
   "source": [
    "Q11. Find the difference between two sets."
   ]
  },
  {
   "cell_type": "code",
   "execution_count": 29,
   "id": "fded00e7-fe9f-4b3c-90cc-41aafecf843d",
   "metadata": {},
   "outputs": [
    {
     "name": "stdout",
     "output_type": "stream",
     "text": [
      "The difference between the set1:- {1, 2, 3, 4, 5} and set2:- {4, 5, 6, 7, 8, 9, 10} is:- {1, 2, 3}\n"
     ]
    }
   ],
   "source": [
    "#step1: creating the sets\n",
    "set1={1,2,3,4,5}\n",
    "set2={4,5,6,7,8,9,10}\n",
    "# finding the differenece between the two sets using difference() function\n",
    "set3=set1.difference(set2)\n",
    "# printing the differenece between the two sets\n",
    "print(f\"The difference between the set1:- {set1} and set2:- {set2} is:- {set3}\")"
   ]
  },
  {
   "cell_type": "markdown",
   "id": "8bedbc1d-683a-44c6-8515-1178fb858c87",
   "metadata": {},
   "source": [
    "Q12. Check if a set is a subset of another set."
   ]
  },
  {
   "cell_type": "code",
   "execution_count": 88,
   "id": "7f1baed4-c9b6-4b33-9026-619dee08218a",
   "metadata": {},
   "outputs": [
    {
     "name": "stdout",
     "output_type": "stream",
     "text": [
      "Does set1:- {1, 2, 3} is subset of set2:- {1, 2, 3, 4, 5, 6}:-  True\n",
      "Does set2:- {1, 2, 3, 4, 5, 6} is subset of set1:- {1, 2, 3}:-  False\n"
     ]
    }
   ],
   "source": [
    "# craeting the two sets\n",
    "set1={1,2,3}\n",
    "set2={1,2,3,4,5,6}\n",
    "\n",
    "# checking the subset with both the set using issubset() function\n",
    "set1_sub_set2=set1.issubset(set2)\n",
    "set2_sub_set1=set2.issubset(set1)\n",
    "\n",
    "# printing the sets are subset of each other not\n",
    "print(f\"Does set1:- {set1} is subset of set2:- {set2}:- \",set1_sub_set2)\n",
    "print(f\"Does set2:- {set2} is subset of set1:- {set1}:- \",set2_sub_set1)"
   ]
  },
  {
   "cell_type": "markdown",
   "id": "2b972570-15f9-488e-9d1f-b0ade6116af4",
   "metadata": {},
   "source": [
    "Q13. Check if a set is a superset of another set."
   ]
  },
  {
   "cell_type": "code",
   "execution_count": 89,
   "id": "712cf565-1b1a-4b7e-8552-58fef01126f1",
   "metadata": {},
   "outputs": [
    {
     "name": "stdout",
     "output_type": "stream",
     "text": [
      "Does set1:- {1, 2, 3} is superset of set2:- {1, 2, 3, 4, 5, 6}:-  False\n",
      "Does set2:- {1, 2, 3, 4, 5, 6} is superset of set1:- {1, 2, 3}:-  True\n"
     ]
    }
   ],
   "source": [
    "# creating the two set\n",
    "set1={1,2,3}\n",
    "set2={1,2,3,4,5,6}\n",
    "\"\"\" A superset in math can be defined as a set of elements containing all\n",
    "of the elements of another set.\"\"\"\n",
    "\n",
    "# finding the superset between both set using issuperset() function\n",
    "set1_sup_set2=set1.issuperset(set2)\n",
    "set2_sup_set1=set2.issuperset(set1)\n",
    "\n",
    "# printing the sets are subset of each other not\n",
    "print(f\"Does set1:- {set1} is superset of set2:- {set2}:- \",set1_sup_set2)\n",
    "print(f\"Does set2:- {set2} is superset of set1:- {set1}:- \",set2_sup_set1)"
   ]
  },
  {
   "cell_type": "markdown",
   "id": "9c77839e-850d-49f3-a704-bc67f440ef7a",
   "metadata": {},
   "source": [
    "Q14. Create a set from a list."
   ]
  },
  {
   "cell_type": "code",
   "execution_count": 90,
   "id": "485e5c88-cb86-41ed-b444-7fe86864dc58",
   "metadata": {},
   "outputs": [
    {
     "name": "stdout",
     "output_type": "stream",
     "text": [
      "Set:-  {1, 2, 3, 4, 5, 6, 7, 8, 9, 10}\n"
     ]
    }
   ],
   "source": [
    "#step1: creating the list\n",
    "lis=[1,2,3,4,5,6,7,8,9,10,1,3,6,8,9]\n",
    "# then typecasting the list into the set\n",
    "seti=set(lis)\n",
    "# printing the set\n",
    "# the set only prints the unique elements\n",
    "print(\"Set:- \",seti)"
   ]
  },
  {
   "cell_type": "markdown",
   "id": "9cd02f2f-a191-4f48-8cb5-769d6004acb7",
   "metadata": {},
   "source": [
    "Q15. Convert a set to a list."
   ]
  },
  {
   "cell_type": "code",
   "execution_count": 91,
   "id": "6ce68152-e322-4c0d-a84a-bb29494004bb",
   "metadata": {},
   "outputs": [
    {
     "name": "stdout",
     "output_type": "stream",
     "text": [
      "List:-  [1, 2, 3, 4, 5, 6, 7, 8, 9, 10]\n"
     ]
    }
   ],
   "source": [
    "# creating the set\n",
    "set1={1,2,3,4,5,6,7,8,9,10,1,3,4,6,7,9,8}\n",
    "# then typecasting the set into list\n",
    "lis=list(set1)\n",
    "# printing the list \n",
    "print(\"List:- \",lis)"
   ]
  },
  {
   "cell_type": "markdown",
   "id": "6dade9d6-bacd-4b48-aa82-35515fe83da0",
   "metadata": {},
   "source": [
    "Q16. Remove a random element from a set."
   ]
  },
  {
   "cell_type": "code",
   "execution_count": 93,
   "id": "231ddc77-2a80-4918-b62f-a4d67daae2b8",
   "metadata": {},
   "outputs": [
    {
     "name": "stdout",
     "output_type": "stream",
     "text": [
      "Random Element:-  4\n",
      "Modified set:-  {1, 2, 3, 5, 6, 7, 8, 9, 10}\n"
     ]
    }
   ],
   "source": [
    "#step1: importing the library random for choosing a random number\n",
    "import random\n",
    "#step2: we have to create an set\n",
    "set1={1,2,3,4,5,6,7,8,9,10}\n",
    "# now choosing the random element from the list(set-->list)\n",
    "rand_element=random.choice(list(set1))\n",
    "# then removing the rand element from the set set1\n",
    "set1.remove(rand_element)\n",
    "# printing the set after removing the random element\n",
    "print(\"Random Element:- \",rand_element)\n",
    "print(\"Modified set:- \",set1)"
   ]
  },
  {
   "cell_type": "markdown",
   "id": "2b88199f-f075-47d4-aaca-9abbb6858f3a",
   "metadata": {},
   "source": [
    "Q17. Pop an element from a set."
   ]
  },
  {
   "cell_type": "code",
   "execution_count": 96,
   "id": "0a3f1740-1725-4748-a9b8-37201db8ecd0",
   "metadata": {},
   "outputs": [
    {
     "name": "stdout",
     "output_type": "stream",
     "text": [
      "Modified set:-  {3, 4, 5, 6, 7, 8, 9, 10, 11}\n"
     ]
    }
   ],
   "source": [
    "#step1: creating the set\n",
    "set1={2,3,4,5,6,7,8,9,10,11}\n",
    "#step2: The pop() method removes a random item from the set.\n",
    "set1.pop()\n",
    "# printing the set after removing the element by its index\n",
    "print(\"Modified set:- \",set1)"
   ]
  },
  {
   "cell_type": "markdown",
   "id": "6c0a0943-bb61-4e0d-a345-6b928e844fc4",
   "metadata": {},
   "source": [
    "Q18. Check if two sets have no elements in common."
   ]
  },
  {
   "cell_type": "code",
   "execution_count": 97,
   "id": "1caa146b-4d51-44d8-b606-e38e2c60cb57",
   "metadata": {},
   "outputs": [
    {
     "name": "stdout",
     "output_type": "stream",
     "text": [
      "There is no common elements between both the sets.\n"
     ]
    }
   ],
   "source": [
    "# Step 1: creating two sets\n",
    "set1 = {1, 2, 3, 4}\n",
    "set2 = {5, 6, 7, 8}\n",
    "\n",
    "# Step 2: Check if the intersection of the two sets is empty\n",
    "# The intersection is the set of elements which are common to both sets\n",
    "common_elements = set1.intersection(set2)\n",
    "\n",
    "# Step 3: Check if the common_elements set is empty\n",
    "if not common_elements:\n",
    "    print(\"There is no common elements between both the sets.\")\n",
    "else:\n",
    "    print(\"There is common elements between both the sets:\", common_elements)"
   ]
  },
  {
   "cell_type": "markdown",
   "id": "fb8fa305-f28c-47ec-ad9d-91c27aef3ba4",
   "metadata": {},
   "source": [
    "Q19. Find the symmetric difference between two sets."
   ]
  },
  {
   "cell_type": "code",
   "execution_count": 98,
   "id": "bfab43bf-d6cc-46d9-b399-bf334b39f8a9",
   "metadata": {},
   "outputs": [
    {
     "name": "stdout",
     "output_type": "stream",
     "text": [
      "{1, 2, 5, 6, 7, 9}\n"
     ]
    }
   ],
   "source": [
    "\"\"\"\n",
    "symmetric_difference() method returns a set that contains all items from both set,\n",
    "but not the items that are present in both sets.\n",
    "\"\"\"\n",
    "\n",
    "#step1: creating the two set\n",
    "set1 = {1, 2, 3, 4, 5}\n",
    "set2 = {6, 7, 3, 9, 4}\n",
    "# step2: finding the symmetric difference between the sets using symmetric_difference() function\n",
    "result=set1.symmetric_difference(set2)\n",
    "# printing the result\n",
    "print(result)\n"
   ]
  },
  {
   "cell_type": "markdown",
   "id": "894392cb-824e-4db2-b469-344cc4063113",
   "metadata": {},
   "source": [
    "Q20. Update a set with elements from another set."
   ]
  },
  {
   "cell_type": "code",
   "execution_count": 99,
   "id": "c4e753f7-85b4-43d3-9644-4a752dea2b69",
   "metadata": {},
   "outputs": [
    {
     "name": "stdout",
     "output_type": "stream",
     "text": [
      "Set1:-  {1, 2, 3, 4}\n",
      "Set2:-  {8, 5, 6, 7}\n",
      "updated set:-  {1, 2, 3, 4, 5, 6, 7, 8}\n"
     ]
    }
   ],
   "source": [
    "# creating the two sets\n",
    "set1={1,2,3,4}\n",
    "set2={5,6,7,8}\n",
    "print(\"Set1:- \",set1)\n",
    "print(\"Set2:- \",set2)\n",
    "\n",
    "# updating the elements of set2 in the set1 using update() function\n",
    "set1.update(set2)\n",
    "# printing the updated set\n",
    "print(\"updated set:- \",set1)"
   ]
  },
  {
   "cell_type": "markdown",
   "id": "2e63bef9-dd42-438a-89dc-3cfdf4db83b4",
   "metadata": {},
   "source": [
    "Q21. Create a set of the first 5 prime numbers."
   ]
  },
  {
   "cell_type": "code",
   "execution_count": 100,
   "id": "9b246ab8-7046-47a0-8a62-5386c1958554",
   "metadata": {},
   "outputs": [
    {
     "name": "stdout",
     "output_type": "stream",
     "text": [
      "Set of first 5 prime numbers is:-  {2, 3, 5, 7, 11}\n"
     ]
    }
   ],
   "source": [
    "#step1: creating the list\n",
    "lis=[]\n",
    "# then starting the  forloop having range(2,50) because 0 and 1 are not prime numbers\n",
    "for i in range(2,50):\n",
    "    # then create another loop that j in range(2,i)\n",
    "    for j in range(2,i):\n",
    "        # condition if i%j==0 then break because the  number(i) becomes 0 by doing the modulus with the numbers between range(2,i) is not a prime number  \n",
    "        if(i%j==0):\n",
    "            break\n",
    "      # this condition (i%j!=0) then the i is prime      \n",
    "    else:\n",
    "        lis.append(i)   # appending the prime number in a list\n",
    "        \n",
    "set1=set(lis[:5]) #  '[:5] ' because we only want the first 5 prime numbers\n",
    "# printing the set of first five prime numbers\n",
    "print(\"Set of first 5 prime numbers is:- \",set1)\n",
    "        "
   ]
  },
  {
   "cell_type": "markdown",
   "id": "60db0798-2f1b-4eaa-82d9-c5f32f94051f",
   "metadata": {},
   "source": [
    "Q22. Check if two sets are identical."
   ]
  },
  {
   "cell_type": "code",
   "execution_count": 101,
   "id": "e30ccf26-9fea-4d97-9a70-d2bec821e9ed",
   "metadata": {},
   "outputs": [
    {
     "name": "stdout",
     "output_type": "stream",
     "text": [
      "The sets are identical.\n"
     ]
    }
   ],
   "source": [
    "# Step 1: creating two sets\n",
    "set1 = {1, 2, 3, 4, 5}\n",
    "set2 = {3, 1, 5, 2, 4}  # order of element not matters in the sets\n",
    "\n",
    "# Step 2: Check if the sets are identical using the `==` equals to operator\n",
    "# Sets are unordered\n",
    "# The `==` operator compares the content of the sets.\n",
    "if set1 == set2:\n",
    "    print(\"The sets are identical.\")\n",
    "else:\n",
    "    print(\"The sets are not identical.\")"
   ]
  },
  {
   "cell_type": "markdown",
   "id": "54bd366a-35fa-4f39-ae2f-f301d132e6b4",
   "metadata": {},
   "source": [
    "Q23. Create a frozen set."
   ]
  },
  {
   "cell_type": "code",
   "execution_count": 102,
   "id": "9f6b6411-427e-4d26-b530-58e7a539ecbd",
   "metadata": {},
   "outputs": [
    {
     "name": "stdout",
     "output_type": "stream",
     "text": [
      "Frozen set:-  frozenset({1, 2, 3, 4, 5})\n"
     ]
    }
   ],
   "source": [
    "# create a list of element\n",
    "lis=[1,2,3,4,5]\n",
    "# then convert the list into the frozenset using the  frozenset()\n",
    "froz=frozenset(lis)\n",
    "# printing the frozenset\n",
    "print(\"Frozen set:- \",froz)"
   ]
  },
  {
   "cell_type": "markdown",
   "id": "f8adbbb7-bad3-4f0e-aa2f-fb0739ee5a2c",
   "metadata": {},
   "source": [
    "Q24. Check if a set is disjoint with another set."
   ]
  },
  {
   "cell_type": "code",
   "execution_count": 104,
   "id": "624079d4-6798-4d39-b96f-514ce00e4e9b",
   "metadata": {},
   "outputs": [
    {
     "name": "stdout",
     "output_type": "stream",
     "text": [
      "set1:- {1, 2, 3, 4} is disjoint with set2:- {8, 5, 6, 7} :-  True\n",
      "set1:- {1, 2, 3, 4} is disjoint with set2:- {2, 4} :-  False\n"
     ]
    }
   ],
   "source": [
    "# Two sets are said to be disjoint when their intersection is null\n",
    "\n",
    "#step3: creating the sets\n",
    "set1={1,2,3,4}\n",
    "set2={5,6,7,8}\n",
    "set3={2,4}\n",
    "\n",
    "# checking the disjoint between the sets using isdijoint() function\n",
    "set1_dj_set2=set1.isdisjoint(set2)\n",
    "set1_dj_set3=set1.isdisjoint(set3)\n",
    "\n",
    "# printing the result\n",
    "print(f\"set1:- {set1} is disjoint with set2:- {set2} :- \",set1_dj_set2)\n",
    "print(f\"set1:- {set1} is disjoint with set2:- {set3} :- \",set1_dj_set3)"
   ]
  },
  {
   "cell_type": "markdown",
   "id": "36215ee8-ade5-43c3-87c6-cfddb64a629b",
   "metadata": {},
   "source": [
    "Q25. Create a set of squares of numbers from 1 to 5."
   ]
  },
  {
   "cell_type": "code",
   "execution_count": 105,
   "id": "8a623bc5-e9c8-4233-ab50-7e9d170ea1fe",
   "metadata": {},
   "outputs": [
    {
     "name": "stdout",
     "output_type": "stream",
     "text": [
      "Set:-  {1, 4, 9, 16, 25}\n"
     ]
    }
   ],
   "source": [
    "# step1: creatin the set comprehension for doing squares of number 1 to 5\n",
    "set1={i**2 for i in range(1,6)}\n",
    "# printing the set of squares of the number 1 to 5\n",
    "print(\"Set:- \",set1)"
   ]
  },
  {
   "cell_type": "markdown",
   "id": "e5edc8e7-7ad3-435e-aac0-28508a4a017d",
   "metadata": {},
   "source": [
    "Q26. Filter out all even numbers from a set."
   ]
  },
  {
   "cell_type": "code",
   "execution_count": 106,
   "id": "06af0726-7391-4a18-8de7-e693ec0bfc99",
   "metadata": {},
   "outputs": [
    {
     "name": "stdout",
     "output_type": "stream",
     "text": [
      "Original set:-  {1, 2, 3, 4, 5, 6, 7, 8, 9, 10, 11, 12, 13, 14, 15, 16, 17, 18, 19, 20}\n",
      "filtered even number set:-  {2, 4, 6, 8, 10, 12, 14, 16, 18, 20}\n"
     ]
    }
   ],
   "source": [
    "# creating the set\n",
    "set1={1,2,3,4,5,6,7,8,9,10,11,12,13,14,15,16,17,18,19,20}\n",
    "# then creating the empty list to append the filtered even numbers from the set\n",
    "lis=[]\n",
    "for i in set1:\n",
    "    if i%2==0:\n",
    "        lis.append(i)\n",
    "# then typecast the list into the set\n",
    "my_set=set(lis)\n",
    "# then print the set of filtered evene numbers from set1\n",
    "print(\"Original set:- \",set1)\n",
    "print(\"filtered even number set:- \",my_set)"
   ]
  },
  {
   "cell_type": "markdown",
   "id": "c1889fc0-ba79-4b2d-a252-7530c647cd20",
   "metadata": {},
   "source": [
    "Q27. Multiply all elements in a set by 2."
   ]
  },
  {
   "cell_type": "code",
   "execution_count": 107,
   "id": "a28fe3db-41e7-4b5a-8f34-b0e8408d06f3",
   "metadata": {},
   "outputs": [
    {
     "name": "stdout",
     "output_type": "stream",
     "text": [
      "Original set:-  {1, 2, 3, 4, 5, 6, 7, 8, 9, 10}\n",
      "Modified set:-  {2, 4, 6, 8, 10, 12, 14, 16, 18, 20}\n"
     ]
    }
   ],
   "source": [
    "# creating the set\n",
    "set1={1,2,3,4,5,6,7,8,9,10}\n",
    "# performing the set comprehension for multiplying each element of set with 2\n",
    "new_set={i*2 for i in set1}\n",
    "# printing the original and modified sets\n",
    "print(\"Original set:- \",set1)\n",
    "print(\"Modified set:- \",new_set)"
   ]
  },
  {
   "cell_type": "markdown",
   "id": "d7cbfcd6-2458-4ca7-b6bb-4e076a561cf1",
   "metadata": {},
   "source": [
    "Q28. Create a set of random numbers."
   ]
  },
  {
   "cell_type": "code",
   "execution_count": 108,
   "id": "0bc71e03-7525-4ee8-83be-3f8c61a5155a",
   "metadata": {},
   "outputs": [
    {
     "name": "stdin",
     "output_type": "stream",
     "text": [
      "Enter the range of the random number:-  12\n"
     ]
    },
    {
     "name": "stdout",
     "output_type": "stream",
     "text": [
      "Set of 12 random number is:-  {32, 164, 5, 36, 6, 136, 73, 107, 111, 56, 155, 127}\n"
     ]
    }
   ],
   "source": [
    "# importinng the librrary 'random'\n",
    "import random\n",
    "# taking the user input that how many random numbers we want\n",
    "n=int(input(\"Enter the range of the random number:- \"))\n",
    "# creating the set called random_num_set\n",
    "random_num_set=set()\n",
    "# creating a loop which will iterate through each number in a range\n",
    "for _ in range(n):\n",
    "    random_num=random.randint(1,200)\n",
    "    # now adding the random numbers in a set\n",
    "    random_num_set.add(random_num)\n",
    "# printing the  set of random number\n",
    "print(f\"Set of {n} random number is:- \",random_num_set) "
   ]
  },
  {
   "cell_type": "markdown",
   "id": "cfcd4e58-4db3-4422-bac3-b6f879513711",
   "metadata": {},
   "source": [
    "Q29. Check if a set is empty."
   ]
  },
  {
   "cell_type": "code",
   "execution_count": 109,
   "id": "67c97bc0-bbad-4ece-a68a-c4ff54e6cebb",
   "metadata": {},
   "outputs": [
    {
     "name": "stdout",
     "output_type": "stream",
     "text": [
      "The set is empty\n"
     ]
    }
   ],
   "source": [
    "#step1: creating an empty set\n",
    "set1=set()\n",
    "\n",
    "# giving the conditional statement to check our set is empty or not\n",
    "if not set1:\n",
    "    print(\"The set is empty\")\n",
    "else:\n",
    "    print(\"The set is not empty\")"
   ]
  },
  {
   "cell_type": "markdown",
   "id": "dbabecf9-24f0-4d12-a33d-bf738418a6c2",
   "metadata": {},
   "source": [
    "Q30. Create a nested set (hint: use frozenset)."
   ]
  },
  {
   "cell_type": "code",
   "execution_count": 111,
   "id": "f14335b1-118c-4ccf-a4ec-ce5703d33f46",
   "metadata": {},
   "outputs": [
    {
     "name": "stdout",
     "output_type": "stream",
     "text": [
      "Nested Set: {frozenset({11, 12, 13, 14, 15}), frozenset({21, 22, 23, 24, 25})}\n"
     ]
    }
   ],
   "source": [
    "# Step 1: Create the two sets\n",
    "set1 = {11,12,13,14,15}\n",
    "set2 = {21,22,23,24,25}\n",
    "\n",
    "# Step 2: Create frozenset for the two sets\n",
    "frozen_set1 = frozenset(set1)\n",
    "frozen_set2 = frozenset(set2)\n",
    "\n",
    "# Step 3: Create the nested set using the frozensets\n",
    "nested_sets = {frozen_set1, frozen_set2}\n",
    "\n",
    "# Print the nested set\n",
    "print(\"Nested Set:\", nested_sets)"
   ]
  },
  {
   "cell_type": "markdown",
   "id": "8fc812b1-f3d8-4a45-9874-1b4e5583b237",
   "metadata": {},
   "source": [
    "Q31. Remove an element from a set using the discard method."
   ]
  },
  {
   "cell_type": "code",
   "execution_count": 112,
   "id": "e79511fd-9a48-4b61-9d88-0502c86239d3",
   "metadata": {},
   "outputs": [
    {
     "name": "stdout",
     "output_type": "stream",
     "text": [
      "Modified set:-  {1, 2, 3, 4, 5, 7, 8, 9, 10}\n"
     ]
    }
   ],
   "source": [
    "#step1: creating the set\n",
    "set1={1,2,3,4,5,6,7,8,9,10}\n",
    "# removing the  element from the set using the discard() function\n",
    "# discard() will remove the element if it is exist in the set if it does not exist it will not raise an error\n",
    "set1.discard(6)\n",
    "# printing the modified set\n",
    "print(\"Modified set:- \",set1)"
   ]
  },
  {
   "cell_type": "markdown",
   "id": "c1c7870c-7ddc-4cc4-ab96-62cc8898e9cc",
   "metadata": {},
   "source": [
    "Q32. Compare two sets."
   ]
  },
  {
   "cell_type": "code",
   "execution_count": 113,
   "id": "20e91ec9-3460-4b6f-85f2-bbc9963cecbf",
   "metadata": {},
   "outputs": [
    {
     "name": "stdout",
     "output_type": "stream",
     "text": [
      "Set 1: {1, 2, 3, 4, 5, 6, 7}\n",
      "Set 2: {4, 5, 6, 7, 8, 9, 10}\n",
      "the set1 is subset of set2 False\n",
      "the set2 is superset of set1 False\n",
      "Intersection: {4, 5, 6, 7}\n",
      "Union: {1, 2, 3, 4, 5, 6, 7, 8, 9, 10}\n",
      "Elements in set1 but not in set2: {1, 2, 3}\n",
      "Elements in set2 but not in set1: {8, 9, 10}\n"
     ]
    }
   ],
   "source": [
    "# Step 1: Define two sets\n",
    "set1 = {1, 2, 3, 4, 5, 6, 7}\n",
    "set2 = {4, 5, 6, 7, 8, 9, 10}\n",
    "\n",
    "# Step 2: Use set operations to compare the sets\n",
    "# Check if set1 is a subset of set2\n",
    "is_subset = set1.issubset(set2)\n",
    "\n",
    "# Check if set2 is a subset of set1\n",
    "is_superset = set1.issuperset(set2)\n",
    "\n",
    "# Find the intersection of the sets\n",
    "intersection = set1.intersection(set2)\n",
    "\n",
    "# Find the union of the sets\n",
    "union = set1.union(set2)\n",
    "\n",
    "# Find the elements that are in set1 but not in set2\n",
    "difference1 = set1.difference(set2)\n",
    "\n",
    "# Find the elements that are in set2 but not in set1\n",
    "difference2 = set2.difference(set1)\n",
    "\n",
    "# Step 3: Print the results\n",
    "print(\"Set 1:\", set1)\n",
    "print(\"Set 2:\", set2)\n",
    "print(\"the set1 is subset of set2:- \", is_subset)\n",
    "print(\"the set2 is superset of set1:- \", is_superset)\n",
    "print(\"Intersection:- \", intersection)\n",
    "print(\"Union:- \", union)\n",
    "print(\"Elements in set1 but not in set2:- \", difference1)\n",
    "print(\"Elements in set2 but not in set1:- \", difference2)"
   ]
  },
  {
   "cell_type": "markdown",
   "id": "5fd44186-15e9-4792-9391-c0189db680ce",
   "metadata": {},
   "source": [
    "Q33. Create a set from a string."
   ]
  },
  {
   "cell_type": "code",
   "execution_count": 114,
   "id": "5c6f6708-3da0-42c8-90df-0100065cd128",
   "metadata": {},
   "outputs": [
    {
     "name": "stdin",
     "output_type": "stream",
     "text": [
      "Enter the string:-  ayush jain\n"
     ]
    },
    {
     "name": "stdout",
     "output_type": "stream",
     "text": [
      "The set from the string:-  {'u', 'i', 'y', ' ', 's', 'j', 'a', 'h', 'n'}\n"
     ]
    }
   ],
   "source": [
    "# step1: taking the string input from a user\n",
    "string=input(\"Enter the string:- \")\n",
    "# creating the set a pass a parametere string in it\n",
    "char_set=set(string)\n",
    "# printing the set of the character\n",
    "print(\"The set from the string:- \",char_set)"
   ]
  },
  {
   "cell_type": "markdown",
   "id": "37bf4a9c-f9b5-46fd-be2f-52bdd81a4470",
   "metadata": {},
   "source": [
    "Q34. Convert a set of strings to a set of integers."
   ]
  },
  {
   "cell_type": "code",
   "execution_count": 115,
   "id": "88289a34-c3f4-408d-88fc-fac5032a3b85",
   "metadata": {},
   "outputs": [
    {
     "name": "stdout",
     "output_type": "stream",
     "text": [
      "Set of the integer:-  {1, 2, 3, 4, 5, 7}\n"
     ]
    }
   ],
   "source": [
    "# creating the set of strings to convert it in a integer\n",
    "str_set={\"1\",\"2\",\"3\",\"4\",\"5\",\"7\"}\n",
    "# doing the set comprehension to convert the set of strings to a integer\n",
    "new_set={int(i) for i in str_set}\n",
    "# printing the set of the integer\n",
    "print(\"Set of the integer:- \",new_set)"
   ]
  },
  {
   "cell_type": "markdown",
   "id": "da61a955-acfd-4f4c-9fe0-e51a3028ed02",
   "metadata": {},
   "source": [
    "Q35. Convert a set of integers to a set of strings."
   ]
  },
  {
   "cell_type": "code",
   "execution_count": 116,
   "id": "19acccd2-1479-4802-ad56-a5957e6e1162",
   "metadata": {},
   "outputs": [
    {
     "name": "stdout",
     "output_type": "stream",
     "text": [
      "Set of the strings:-  {'3', '4', '2', '5', '7', '1'}\n"
     ]
    }
   ],
   "source": [
    "# creating the set of integers to convert it in a string\n",
    "str_set={1, 2, 3, 4, 5, 7}\n",
    "# doing the set comprehension to convert the set of integers to a strings\n",
    "new_set={str(i) for i in str_set}\n",
    "# printing the set of the integer\n",
    "print(\"Set of the strings:- \",new_set)"
   ]
  },
  {
   "cell_type": "markdown",
   "id": "7c8360c9-eb35-4e2a-aab7-8e73c5684493",
   "metadata": {},
   "source": [
    "Q36. Create a set from a tuple."
   ]
  },
  {
   "cell_type": "code",
   "execution_count": 117,
   "id": "91a224b7-1601-4fc7-9ed4-17be29e5afe2",
   "metadata": {},
   "outputs": [
    {
     "name": "stdout",
     "output_type": "stream",
     "text": [
      "Set:-  {1, 2, 3, 4, 5, 6, 7, 8, 9, 10}\n"
     ]
    }
   ],
   "source": [
    "# creating the tuple\n",
    "tupl=(1,2,3,4,5,6,7,8,9,10)\n",
    "# typecasting the tuple into the set\n",
    "set1=set(tupl)\n",
    "# printing the set\n",
    "print(\"Set:- \",set1)"
   ]
  },
  {
   "cell_type": "markdown",
   "id": "bb6f5133-66d4-47bf-9b7d-8e59ec7e20ff",
   "metadata": {},
   "source": [
    "Q37. Convert a set to a tuple."
   ]
  },
  {
   "cell_type": "code",
   "execution_count": 118,
   "id": "887bcc62-457a-4ac7-8a7e-b4f4f0d4d141",
   "metadata": {},
   "outputs": [
    {
     "name": "stdout",
     "output_type": "stream",
     "text": [
      "Tuple:-  (1, 2, 3, 4, 5, 6, 7, 8, 9, 10)\n"
     ]
    }
   ],
   "source": [
    "# creating the set\n",
    "set1={1, 2, 3, 4, 5, 6, 7, 8, 9, 10}\n",
    "# typecasting the set into the tuple\n",
    "tupl=tuple(set1)\n",
    "# printing the tuple\n",
    "print(\"Tuple:- \",tupl)"
   ]
  },
  {
   "cell_type": "markdown",
   "id": "677fa160-865d-41e6-8ff7-81586cadad78",
   "metadata": {},
   "source": [
    "Q38. Find the maximum value in a set."
   ]
  },
  {
   "cell_type": "code",
   "execution_count": 119,
   "id": "e09bdcf2-4237-4d09-8459-c689c670c6b5",
   "metadata": {},
   "outputs": [
    {
     "name": "stdout",
     "output_type": "stream",
     "text": [
      "The maximum value from the set {112, 585345, 53645747457, 213123, 9780, 987} is:53645747457\n"
     ]
    }
   ],
   "source": [
    "# creating the set\n",
    "set1={112,585345,987,213123,53645747457,9780}\n",
    "# checking the maximum value from the set using max()\n",
    "max_value=max(set1)\n",
    "# printing the maximum value\n",
    "print(f\"The maximum value from the set {set1} is:{max_value}\")"
   ]
  },
  {
   "cell_type": "markdown",
   "id": "39379c18-631a-4042-8865-b0a276161549",
   "metadata": {},
   "source": [
    "Q39. Find the minimum value in a set."
   ]
  },
  {
   "cell_type": "code",
   "execution_count": 120,
   "id": "bddec94b-b9ab-41ab-969d-4bd1bc450b96",
   "metadata": {},
   "outputs": [
    {
     "name": "stdout",
     "output_type": "stream",
     "text": [
      "The minimum value from the set {112, 585345, 53645747457, 213123, 9780, 987} is:112\n"
     ]
    }
   ],
   "source": [
    "# creating the set\n",
    "set1={112,585345,987,213123,53645747457,9780}\n",
    "# checking the minimum value from the set using max()\n",
    "min_value=min(set1)\n",
    "# printing the minimum value\n",
    "print(f\"The minimum value from the set {set1} is:{min_value}\")"
   ]
  },
  {
   "cell_type": "markdown",
   "id": "b8eccd63-8d9f-4ea4-9fb6-cadedc2c0820",
   "metadata": {},
   "source": [
    "Q40. Create a set from user input."
   ]
  },
  {
   "cell_type": "code",
   "execution_count": 121,
   "id": "25e9860b-2cd3-4a04-af5f-361eec4242d5",
   "metadata": {},
   "outputs": [
    {
     "name": "stdin",
     "output_type": "stream",
     "text": [
      "Enter a comma-separated list of values:  a,y,u,s,h\n"
     ]
    },
    {
     "name": "stdout",
     "output_type": "stream",
     "text": [
      "Set created from user input: {'u', 'y', 's', 'a', 'h'}\n"
     ]
    }
   ],
   "source": [
    "# Get input from the user\n",
    "user_input = input(\"Enter a comma-separated list of values: \")\n",
    "\n",
    "# Split the input string into a list using a comma as the separator\n",
    "input_list = user_input.split(',')\n",
    "\n",
    "# Create a set from the list\n",
    "user_set = set(input_list)\n",
    "\n",
    "# Display the resulting set\n",
    "print(\"Set created from user input:\", user_set)\n"
   ]
  },
  {
   "cell_type": "markdown",
   "id": "983cc983-effb-4225-aff3-0d6b482bcaca",
   "metadata": {},
   "source": [
    "Q41. Check if the intersection of two sets is empty."
   ]
  },
  {
   "cell_type": "code",
   "execution_count": 124,
   "id": "55acf32d-dd3d-439f-b9ca-b6a0b51556ea",
   "metadata": {},
   "outputs": [
    {
     "name": "stdout",
     "output_type": "stream",
     "text": [
      "intersection is not empty\n"
     ]
    }
   ],
   "source": [
    "# creating the two sets\n",
    "set1={1,2,3,4,5}\n",
    "set2={3,4,5,6,7,8}\n",
    "\n",
    "result=set1.intersection(set2)  # finding the intersection between both the sets\n",
    "\n",
    "if not result:   # if result is empty\n",
    "    print(\"intersection is empty\")\n",
    "else:             # if result is not empty\n",
    "    print(\"intersection is not empty\")"
   ]
  },
  {
   "cell_type": "markdown",
   "id": "aa806d9e-a6b5-4711-b2c2-6408966e2df9",
   "metadata": {},
   "source": [
    "Q42. Create a set of the first 5 Fibonacci numbers."
   ]
  },
  {
   "cell_type": "code",
   "execution_count": 126,
   "id": "1312aa39-88c2-4a15-be0b-a0e825bf32cb",
   "metadata": {},
   "outputs": [
    {
     "name": "stdout",
     "output_type": "stream",
     "text": [
      "The set of first five fibonacci numbers is:-  {0, 1, 2, 3, 5}\n"
     ]
    }
   ],
   "source": [
    "# step1: creating the list of first two fibonacci numbers\n",
    "fib_lis=[0,1]\n",
    "for i in range(2,6):  # iterating the i in the range of(2,6)\n",
    "    next_fib=fib_lis[i-1]+fib_lis[i-2] # storing the next fib numbers in the next fib\n",
    "    fib_lis.append(next_fib)  # appending the next fib to fib lis\n",
    "fib_set=set(fib_lis)   # typecasting the list into the set\n",
    "print(\"The set of first five fibonacci numbers is:- \",fib_set)"
   ]
  },
  {
   "cell_type": "markdown",
   "id": "d5fe2c1a-640e-4dc6-86d0-08d39a55df18",
   "metadata": {},
   "source": [
    "Q43. Remove duplicates from a list using sets."
   ]
  },
  {
   "cell_type": "code",
   "execution_count": 127,
   "id": "67094233-45a0-46aa-9a04-5afbd4ee6c48",
   "metadata": {},
   "outputs": [
    {
     "name": "stdout",
     "output_type": "stream",
     "text": [
      "Original List:-  [1, 2, 3, 4, 5, 66, 7, 8, 9, 10, 2, 5, 7, 8, 9, 1, 4, 2, 5, 7, 8, 9, 10]\n",
      "Unique List:-  [1, 2, 3, 4, 5, 66, 7, 8, 9, 10]\n"
     ]
    }
   ],
   "source": [
    "# creating the list\n",
    "lis=[1,2,3,4,5,66,7,8,9,10,2,5,7,8,9,1,4,2,5,7,8,9,10]\n",
    "# removing the duplicates from the list using the set\n",
    "unique_element=set(lis)\n",
    "# creating the list of all unique number \n",
    "unique_list=list(unique_element)\n",
    "# printing the original and unique list\n",
    "print(\"Original List:- \",lis)\n",
    "print(\"Unique List:- \",unique_list)"
   ]
  },
  {
   "cell_type": "markdown",
   "id": "7c2e1f87-7960-4e46-b05b-79020a2913f6",
   "metadata": {},
   "source": [
    "Q44. Check if two sets have the same elements, regardless of their count."
   ]
  },
  {
   "cell_type": "code",
   "execution_count": 128,
   "id": "66c52f01-b02c-43ab-adb1-fd0fae1f8f62",
   "metadata": {},
   "outputs": [
    {
     "name": "stdout",
     "output_type": "stream",
     "text": [
      "The sets have the same elements\n"
     ]
    }
   ],
   "source": [
    "# Define two sets with the same elements, regardless of count\n",
    "set1 = {1, 2, 3, 4, 5}\n",
    "set2 = {5, 4, 3, 2, 1}\n",
    "\n",
    "# Check if the sets have the same elements\n",
    "if set1 == set2:\n",
    "    print(\"The sets have the same elements\")\n",
    "else:\n",
    "    print(\"The sets do not have the same elements.\")\n"
   ]
  },
  {
   "cell_type": "markdown",
   "id": "47ec42eb-8f66-43bc-aeae-43066bbc356d",
   "metadata": {},
   "source": [
    "Q45. Create a set of the first `n` powers of 2."
   ]
  },
  {
   "cell_type": "code",
   "execution_count": 129,
   "id": "f70b320a-5244-4dc7-a594-352985746511",
   "metadata": {},
   "outputs": [
    {
     "name": "stdin",
     "output_type": "stream",
     "text": [
      "Enter the range of the powers:-  10\n"
     ]
    },
    {
     "name": "stdout",
     "output_type": "stream",
     "text": [
      "power of 2:-  {32, 1, 2, 64, 4, 128, 256, 512, 8, 16}\n"
     ]
    }
   ],
   "source": [
    "# creating the set  comprehension for first 'n' powers of 2\n",
    "n=int(input(\"Enter the range of the powers:- \"))  # taking the 'n' input from the user\n",
    "my_set={2**i for i in range(n)}\n",
    "# printing the set in sorted form\n",
    "print(\"power of 2:- \",my_set)"
   ]
  },
  {
   "cell_type": "markdown",
   "id": "e6031517-65d7-4ce2-ba53-b68d7a7dfe20",
   "metadata": {},
   "source": [
    "Q46. Find the common elements between a set and a list."
   ]
  },
  {
   "cell_type": "code",
   "execution_count": 130,
   "id": "9bf84849-798d-4fe3-b727-8d10706b415d",
   "metadata": {},
   "outputs": [
    {
     "name": "stdout",
     "output_type": "stream",
     "text": [
      "Common elements: [3, 4, 5]\n"
     ]
    }
   ],
   "source": [
    "# creating a set and a list\n",
    "my_set = {1, 2, 3, 4, 5}\n",
    "my_list = [3, 4, 5, 6, 7]\n",
    "\n",
    "# Find common elements using list comprehension\n",
    "common_elements = [x for x in my_list if x in my_set]\n",
    "\n",
    "# Display the common elements\n",
    "print(\"Common elements:\", common_elements)\n"
   ]
  },
  {
   "cell_type": "markdown",
   "id": "faa73b7a-89dd-498c-8be6-d0650c784c62",
   "metadata": {},
   "source": [
    "Q47. Create a set of the first `n` triangular numbers."
   ]
  },
  {
   "cell_type": "code",
   "execution_count": 131,
   "id": "1adc02fe-0187-43c5-abd4-a6f3677f8465",
   "metadata": {},
   "outputs": [
    {
     "name": "stdin",
     "output_type": "stream",
     "text": [
      "Enter the triangular number you want:-  5\n"
     ]
    },
    {
     "name": "stdout",
     "output_type": "stream",
     "text": [
      "Triangular number:-  {1, 3, 6, 10, 15}\n"
     ]
    }
   ],
   "source": [
    "# creating the  function\n",
    "def triangular_number_set(n):\n",
    "    # performing operations in the set\n",
    "    triang_set=set()\n",
    "    for i in range(1,n+1):\n",
    "        triang_num=i * (i+1) // 2  # formula '//' gives floor vaue like 4.5 it gives 4\n",
    "        triang_set.add(triang_num)\n",
    "    # typecast the list into tuple\n",
    "    return triang_set\n",
    "\n",
    "n=int(input(\"Enter the triangular number you want:- \"))\n",
    "final=triangular_number_set(n)\n",
    "# printing the tuple\n",
    "print(\"Triangular number:- \",final)"
   ]
  },
  {
   "cell_type": "markdown",
   "id": "828f1830-9acc-481e-8395-0bfcd92157c9",
   "metadata": {},
   "source": [
    "Q48. Check if a set contains another set as a subset."
   ]
  },
  {
   "cell_type": "code",
   "execution_count": 132,
   "id": "dcf202cf-22be-4f4c-9509-0fdb10d3aeb4",
   "metadata": {},
   "outputs": [
    {
     "name": "stdout",
     "output_type": "stream",
     "text": [
      "Set1 is subset of set2\n"
     ]
    }
   ],
   "source": [
    "# creating the two sets\n",
    "set1={1,2,3}\n",
    "set2={1,2,3,4,5,6,7,8}\n",
    "\n",
    "# checking the set contains another as subset  using issubset() function\n",
    "is_sub=set1.issubset(set2)\n",
    "\n",
    "if is_sub:\n",
    "    print(\"Set1 is subset of set2\")\n",
    "else:\n",
    "    print(\"set1 is not subset of set2\")"
   ]
  },
  {
   "cell_type": "markdown",
   "id": "0cb34f83-92f6-4bf1-82c0-26326d75b185",
   "metadata": {},
   "source": [
    "Q49. Create a set of alternating 1s and 0s of length `n`."
   ]
  },
  {
   "cell_type": "code",
   "execution_count": 133,
   "id": "0e49d71b-55dd-4488-bc09-1943098c6cad",
   "metadata": {},
   "outputs": [
    {
     "name": "stdin",
     "output_type": "stream",
     "text": [
      "Enter the length of alternate set:-  5\n"
     ]
    },
    {
     "name": "stdout",
     "output_type": "stream",
     "text": [
      "{0, 1}\n"
     ]
    }
   ],
   "source": [
    "# creating the set comprehension for getting alternate 1s and 0s\n",
    "n=int(input(\"Enter the length of alternate set:- \")) # user input\n",
    "\n",
    "set1={1 if i % 2 == 0 else 0 for i in range(n)}\n",
    "\n",
    "# 1 if number is even\n",
    "# 0 if number is odd\n",
    "\n",
    "# printing the set\n",
    "print(set1)"
   ]
  },
  {
   "cell_type": "markdown",
   "id": "bf5ca63b-d5f6-404c-b2b4-d19d062110ad",
   "metadata": {},
   "source": [
    "Q50. Merge multiple sets into one."
   ]
  },
  {
   "cell_type": "code",
   "execution_count": 134,
   "id": "25973068-a733-4074-9741-67344f57a5c8",
   "metadata": {},
   "outputs": [
    {
     "name": "stdout",
     "output_type": "stream",
     "text": [
      "Merged set:-  {1, 2, 3, 4, 5, 6, 7, 8, 9}\n"
     ]
    }
   ],
   "source": [
    "# creating the three sets\n",
    "set1={1,2,3}\n",
    "set2={4,5,6}\n",
    "set3={7,8,9}\n",
    "# merging all three sets in the set4 using the union() function\n",
    "set4=set1.union(set2,set3)\n",
    "# printing the merged set\n",
    "print(\"Merged set:- \",set4)"
   ]
  }
 ],
 "metadata": {
  "kernelspec": {
   "display_name": "Python 3 (ipykernel)",
   "language": "python",
   "name": "python3"
  },
  "language_info": {
   "codemirror_mode": {
    "name": "ipython",
    "version": 3
   },
   "file_extension": ".py",
   "mimetype": "text/x-python",
   "name": "python",
   "nbconvert_exporter": "python",
   "pygments_lexer": "ipython3",
   "version": "3.10.8"
  }
 },
 "nbformat": 4,
 "nbformat_minor": 5
}
